{
 "cells": [
  {
   "cell_type": "markdown",
   "source": [
    "##Projet"
   ],
   "metadata": {
    "collapsed": false,
    "pycharm": {
     "name": "#%% md\n"
    }
   }
  },
  {
   "cell_type": "code",
   "execution_count": 8,
   "metadata": {
    "collapsed": true
   },
   "outputs": [],
   "source": [
    "#Importation\n",
    "import pandas as pd\n",
    "import matplotlib.pyplot  as plt\n",
    "import numpy as np\n",
    "import Traitement as tr\n",
    "from Graph import Graph"
   ]
  },
  {
   "cell_type": "code",
   "execution_count": 10,
   "outputs": [
    {
     "data": {
      "text/plain": "  LOCATION INDICATOR SUBJECT   MEASURE FREQUENCY  TIME     Value Flag Codes\n0     OECD      QGDP     TOT  PC_CHGPP         A  1962  5.696916        NaN\n1     OECD      QGDP     TOT  PC_CHGPP         A  1963  5.175455        NaN\n2     OECD      QGDP     TOT  PC_CHGPP         A  1964  6.361377        NaN\n3     OECD      QGDP     TOT  PC_CHGPP         A  1965  5.364164        NaN\n4     OECD      QGDP     TOT  PC_CHGPP         A  1966  5.733038        NaN",
      "text/html": "<div>\n<style scoped>\n    .dataframe tbody tr th:only-of-type {\n        vertical-align: middle;\n    }\n\n    .dataframe tbody tr th {\n        vertical-align: top;\n    }\n\n    .dataframe thead th {\n        text-align: right;\n    }\n</style>\n<table border=\"1\" class=\"dataframe\">\n  <thead>\n    <tr style=\"text-align: right;\">\n      <th></th>\n      <th>LOCATION</th>\n      <th>INDICATOR</th>\n      <th>SUBJECT</th>\n      <th>MEASURE</th>\n      <th>FREQUENCY</th>\n      <th>TIME</th>\n      <th>Value</th>\n      <th>Flag Codes</th>\n    </tr>\n  </thead>\n  <tbody>\n    <tr>\n      <th>0</th>\n      <td>OECD</td>\n      <td>QGDP</td>\n      <td>TOT</td>\n      <td>PC_CHGPP</td>\n      <td>A</td>\n      <td>1962</td>\n      <td>5.696916</td>\n      <td>NaN</td>\n    </tr>\n    <tr>\n      <th>1</th>\n      <td>OECD</td>\n      <td>QGDP</td>\n      <td>TOT</td>\n      <td>PC_CHGPP</td>\n      <td>A</td>\n      <td>1963</td>\n      <td>5.175455</td>\n      <td>NaN</td>\n    </tr>\n    <tr>\n      <th>2</th>\n      <td>OECD</td>\n      <td>QGDP</td>\n      <td>TOT</td>\n      <td>PC_CHGPP</td>\n      <td>A</td>\n      <td>1964</td>\n      <td>6.361377</td>\n      <td>NaN</td>\n    </tr>\n    <tr>\n      <th>3</th>\n      <td>OECD</td>\n      <td>QGDP</td>\n      <td>TOT</td>\n      <td>PC_CHGPP</td>\n      <td>A</td>\n      <td>1965</td>\n      <td>5.364164</td>\n      <td>NaN</td>\n    </tr>\n    <tr>\n      <th>4</th>\n      <td>OECD</td>\n      <td>QGDP</td>\n      <td>TOT</td>\n      <td>PC_CHGPP</td>\n      <td>A</td>\n      <td>1966</td>\n      <td>5.733038</td>\n      <td>NaN</td>\n    </tr>\n  </tbody>\n</table>\n</div>"
     },
     "execution_count": 10,
     "metadata": {},
     "output_type": "execute_result"
    }
   ],
   "source": [
    "#Lesture des données\n",
    "data = pd.read_csv('data.csv', sep=';')\n",
    "data.head(5)"
   ],
   "metadata": {
    "collapsed": false,
    "pycharm": {
     "name": "#%%\n"
    }
   }
  },
  {
   "cell_type": "code",
   "execution_count": 3,
   "outputs": [
    {
     "data": {
      "text/plain": "<Figure size 432x288 with 1 Axes>",
      "image/png": "[encoded data removed]"
     },
     "metadata": {
      "needs_background": "light"
     },
     "output_type": "display_data"
    }
   ],
   "source": [
    "#Rapide visualisation pour voir qu'elle pays a le plus de data point\n",
    "pays = pd.Series(data[\"LOCATION\"].value_counts().head(20))\n",
    "image = pays.plot(kind='bar')"
   ],
   "metadata": {
    "collapsed": false,
    "pycharm": {
     "name": "#%%\n"
    }
   }
  },
  {
   "cell_type": "markdown",
   "source": [
    "Nous constatons qu'il n'y a pas le même nombre de data points par pays.\n",
    "Dans un premier temps nous allons étudier les données de la France"
   ],
   "metadata": {
    "collapsed": false
   }
  },
  {
   "cell_type": "code",
   "execution_count": 4,
   "outputs": [
    {
     "data": {
      "text/plain": "     LOCATION INDICATOR SUBJECT   MEASURE FREQUENCY     TIME     Value  \\\n5096      FRA      QGDP     TOT  PC_CHGPY         Q  1961-Q1  3.971438   \n5097      FRA      QGDP     TOT  PC_CHGPY         Q  1961-Q2  5.239927   \n5098      FRA      QGDP     TOT  PC_CHGPY         Q  1961-Q3  6.121195   \n\n     Flag Codes  \n5096          E  \n5097          E  \n5098          E  ",
      "text/html": "<div>\n<style scoped>\n    .dataframe tbody tr th:only-of-type {\n        vertical-align: middle;\n    }\n\n    .dataframe tbody tr th {\n        vertical-align: top;\n    }\n\n    .dataframe thead th {\n        text-align: right;\n    }\n</style>\n<table border=\"1\" class=\"dataframe\">\n  <thead>\n    <tr style=\"text-align: right;\">\n      <th></th>\n      <th>LOCATION</th>\n      <th>INDICATOR</th>\n      <th>SUBJECT</th>\n      <th>MEASURE</th>\n      <th>FREQUENCY</th>\n      <th>TIME</th>\n      <th>Value</th>\n      <th>Flag Codes</th>\n    </tr>\n  </thead>\n  <tbody>\n    <tr>\n      <th>5096</th>\n      <td>FRA</td>\n      <td>QGDP</td>\n      <td>TOT</td>\n      <td>PC_CHGPY</td>\n      <td>Q</td>\n      <td>1961-Q1</td>\n      <td>3.971438</td>\n      <td>E</td>\n    </tr>\n    <tr>\n      <th>5097</th>\n      <td>FRA</td>\n      <td>QGDP</td>\n      <td>TOT</td>\n      <td>PC_CHGPY</td>\n      <td>Q</td>\n      <td>1961-Q2</td>\n      <td>5.239927</td>\n      <td>E</td>\n    </tr>\n    <tr>\n      <th>5098</th>\n      <td>FRA</td>\n      <td>QGDP</td>\n      <td>TOT</td>\n      <td>PC_CHGPY</td>\n      <td>Q</td>\n      <td>1961-Q3</td>\n      <td>6.121195</td>\n      <td>E</td>\n    </tr>\n  </tbody>\n</table>\n</div>"
     },
     "execution_count": 4,
     "metadata": {},
     "output_type": "execute_result"
    }
   ],
   "source": [
    "#Jetons un coup d'yeux sur les données de la france\n",
    "df_fra = data[data['LOCATION'] == \"FRA\"]\n",
    "df_fra.head(3)"
   ],
   "metadata": {
    "collapsed": false,
    "pycharm": {
     "name": "#%%\n"
    }
   }
  },
  {
   "cell_type": "code",
   "execution_count": 5,
   "outputs": [
    {
     "name": "stdout",
     "output_type": "stream",
     "text": [
      "Q    721\n",
      "A    119\n",
      "Name: FREQUENCY, dtype: int64\n",
      "IDX         302\n",
      "PC_CHGPP    300\n",
      "PC_CHGPY    238\n",
      "Name: MEASURE, dtype: int64\n",
      "TOT       538\n",
      "VOLIDX    302\n",
      "Name: SUBJECT, dtype: int64\n",
      "QGDP    840\n",
      "Name: INDICATOR, dtype: int64\n"
     ]
    }
   ],
   "source": [
    "#Nous étudions les variables du dataset\n",
    "print(df_fra['FREQUENCY'].value_counts())\n",
    "print(df_fra['MEASURE'].value_counts())\n",
    "print(df_fra['SUBJECT'].value_counts())\n",
    "print(df_fra['INDICATOR'].value_counts())"
   ],
   "metadata": {
    "collapsed": false,
    "pycharm": {
     "name": "#%%\n"
    }
   }
  },
  {
   "cell_type": "markdown",
   "source": [
    "MEASURE :\n",
    "PC_CHGPP signifie pourcentage de variation période précédente, uniquement disponible pour TOT. \\n\n",
    "PC_CHGPY signifie pourcentage de variation même période année précédente, uniquement disponible pour TOT.\n",
    "IDX indice, uniquement disponible pour SUBJECT = VOLIDX.\n",
    "\n",
    "\n",
    "SUBJECT:\n",
    "\n",
    "TOT signifie Total.\n",
    "VOLIDX signifie indice de volume.\n",
    "\n",
    "Lien d'un excel récapitulatif :\n",
    "https://loicvieu-drive.mycozy.cloud/public?sharecode=JCVlMBO0XjQX\n"
   ],
   "metadata": {
    "collapsed": false,
    "pycharm": {
     "name": "#%% md\n"
    }
   }
  },
  {
   "cell_type": "code",
   "execution_count": 14,
   "outputs": [
    {
     "data": {
      "text/plain": "[5, 5.348055799916666]"
     },
     "execution_count": 14,
     "metadata": {},
     "output_type": "execute_result"
    }
   ],
   "source": [
    "gpy, gpp, ind = tr.traitementParPays(data, 'A')\n",
    "tr.mobilMoy(gpp, 10)[0][1]"
   ],
   "metadata": {
    "collapsed": false,
    "pycharm": {
     "name": "#%%\n"
    }
   }
  }
 ],
 "metadata": {
  "kernelspec": {
   "display_name": "Python 3",
   "language": "python",
   "name": "python3"
  },
  "language_info": {
   "codemirror_mode": {
    "name": "ipython",
    "version": 2
   },
   "file_extension": ".py",
   "mimetype": "text/x-python",
   "name": "python",
   "nbconvert_exporter": "python",
   "pygments_lexer": "ipython2",
   "version": "2.7.6"
  }
 },
 "nbformat": 4,
 "nbformat_minor": 0
}