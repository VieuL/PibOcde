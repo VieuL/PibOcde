{
 "cells": [
  {
   "cell_type": "markdown",
   "metadata": {
    "pycharm": {
     "name": "#%% md\n"
    }
   },
   "source": [
    "# Analyse prédictive des perspectives économiques de l'OCDE\n",
    "\n",
    "Source : https://data.oecd.org/fr/gdp/pib-trimestriel.htm"
   ]
  },
  {
   "cell_type": "code",
   "execution_count": 2,
   "metadata": {},
   "outputs": [],
   "source": [
    "#Importation\n",
    "import pandas as pd\n",
    "import matplotlib.pyplot  as plt\n",
    "import numpy as np\n",
    "import Traitement as tr\n",
    "import os\n",
    "from pandas.plotting import lag_plot\n",
    "from pandas.plotting import autocorrelation_plot\n",
    "from Graph import Graph\n"
   ]
  },
  {
   "cell_type": "markdown",
   "metadata": {},
   "source": [
    "## Structure de la donnée"
   ]
  },
  {
   "cell_type": "code",
   "execution_count": 3,
   "metadata": {
    "pycharm": {
     "name": "#%%\n"
    }
   },
   "outputs": [
    {
     "output_type": "stream",
     "name": "stdout",
     "text": [
      "    LOCATION INDICATOR SUBJECT   MEASURE FREQUENCY     TIME     Value  \\\n100      DEU      QGDP     TOT  PC_CHGPY         Q  1965-Q3  5.341683   \n101      DEU      QGDP     TOT  PC_CHGPY         Q  1965-Q4  4.549873   \n102      DEU      QGDP     TOT  PC_CHGPY         Q  1966-Q1  4.734370   \n103      DEU      QGDP     TOT  PC_CHGPY         Q  1966-Q2  3.424304   \n104      DEU      QGDP     TOT  PC_CHGPY         Q  1966-Q3  2.866220   \n\n    Flag Codes  \n100          E  \n101          E  \n102          E  \n103          E  \n104          E  \n"
     ]
    },
    {
     "output_type": "execute_result",
     "data": {
      "text/plain": [
       "        LOCATION INDICATOR SUBJECT   MEASURE FREQUENCY     TIME      Value  \\\n",
       "0           OECD      QGDP     TOT  PC_CHGPP         A     1962   5.696916   \n",
       "1           OECD      QGDP     TOT  PC_CHGPP         A     1963   5.175455   \n",
       "2           OECD      QGDP     TOT  PC_CHGPP         A     1964   6.361377   \n",
       "3           OECD      QGDP     TOT  PC_CHGPP         A     1965   5.364164   \n",
       "4           OECD      QGDP     TOT  PC_CHGPP         A     1966   5.733038   \n",
       "...          ...       ...     ...       ...       ...      ...        ...   \n",
       "29229  EU27_2020      QGDP     TOT  PC_CHGPY         Q  2019-Q2   1.492475   \n",
       "29230  EU27_2020      QGDP     TOT  PC_CHGPY         Q  2019-Q3   1.636313   \n",
       "29231  EU27_2020      QGDP     TOT  PC_CHGPY         Q  2019-Q4   1.226753   \n",
       "29232  EU27_2020      QGDP     TOT  PC_CHGPY         Q  2020-Q1  -2.652716   \n",
       "29233  EU27_2020      QGDP     TOT  PC_CHGPY         Q  2020-Q2 -13.930563   \n",
       "\n",
       "      Flag Codes  \n",
       "0            NaN  \n",
       "1            NaN  \n",
       "2            NaN  \n",
       "3            NaN  \n",
       "4            NaN  \n",
       "...          ...  \n",
       "29229        NaN  \n",
       "29230        NaN  \n",
       "29231        NaN  \n",
       "29232        NaN  \n",
       "29233        NaN  \n",
       "\n",
       "[29234 rows x 8 columns]"
      ],
      "text/html": "<div>\n<style scoped>\n    .dataframe tbody tr th:only-of-type {\n        vertical-align: middle;\n    }\n\n    .dataframe tbody tr th {\n        vertical-align: top;\n    }\n\n    .dataframe thead th {\n        text-align: right;\n    }\n</style>\n<table border=\"1\" class=\"dataframe\">\n  <thead>\n    <tr style=\"text-align: right;\">\n      <th></th>\n      <th>LOCATION</th>\n      <th>INDICATOR</th>\n      <th>SUBJECT</th>\n      <th>MEASURE</th>\n      <th>FREQUENCY</th>\n      <th>TIME</th>\n      <th>Value</th>\n      <th>Flag Codes</th>\n    </tr>\n  </thead>\n  <tbody>\n    <tr>\n      <th>0</th>\n      <td>OECD</td>\n      <td>QGDP</td>\n      <td>TOT</td>\n      <td>PC_CHGPP</td>\n      <td>A</td>\n      <td>1962</td>\n      <td>5.696916</td>\n      <td>NaN</td>\n    </tr>\n    <tr>\n      <th>1</th>\n      <td>OECD</td>\n      <td>QGDP</td>\n      <td>TOT</td>\n      <td>PC_CHGPP</td>\n      <td>A</td>\n      <td>1963</td>\n      <td>5.175455</td>\n      <td>NaN</td>\n    </tr>\n    <tr>\n      <th>2</th>\n      <td>OECD</td>\n      <td>QGDP</td>\n      <td>TOT</td>\n      <td>PC_CHGPP</td>\n      <td>A</td>\n      <td>1964</td>\n      <td>6.361377</td>\n      <td>NaN</td>\n    </tr>\n    <tr>\n      <th>3</th>\n      <td>OECD</td>\n      <td>QGDP</td>\n      <td>TOT</td>\n      <td>PC_CHGPP</td>\n      <td>A</td>\n      <td>1965</td>\n      <td>5.364164</td>\n      <td>NaN</td>\n    </tr>\n    <tr>\n      <th>4</th>\n      <td>OECD</td>\n      <td>QGDP</td>\n      <td>TOT</td>\n      <td>PC_CHGPP</td>\n      <td>A</td>\n      <td>1966</td>\n      <td>5.733038</td>\n      <td>NaN</td>\n    </tr>\n    <tr>\n      <th>...</th>\n      <td>...</td>\n      <td>...</td>\n      <td>...</td>\n      <td>...</td>\n      <td>...</td>\n      <td>...</td>\n      <td>...</td>\n      <td>...</td>\n    </tr>\n    <tr>\n      <th>29229</th>\n      <td>EU27_2020</td>\n      <td>QGDP</td>\n      <td>TOT</td>\n      <td>PC_CHGPY</td>\n      <td>Q</td>\n      <td>2019-Q2</td>\n      <td>1.492475</td>\n      <td>NaN</td>\n    </tr>\n    <tr>\n      <th>29230</th>\n      <td>EU27_2020</td>\n      <td>QGDP</td>\n      <td>TOT</td>\n      <td>PC_CHGPY</td>\n      <td>Q</td>\n      <td>2019-Q3</td>\n      <td>1.636313</td>\n      <td>NaN</td>\n    </tr>\n    <tr>\n      <th>29231</th>\n      <td>EU27_2020</td>\n      <td>QGDP</td>\n      <td>TOT</td>\n      <td>PC_CHGPY</td>\n      <td>Q</td>\n      <td>2019-Q4</td>\n      <td>1.226753</td>\n      <td>NaN</td>\n    </tr>\n    <tr>\n      <th>29232</th>\n      <td>EU27_2020</td>\n      <td>QGDP</td>\n      <td>TOT</td>\n      <td>PC_CHGPY</td>\n      <td>Q</td>\n      <td>2020-Q1</td>\n      <td>-2.652716</td>\n      <td>NaN</td>\n    </tr>\n    <tr>\n      <th>29233</th>\n      <td>EU27_2020</td>\n      <td>QGDP</td>\n      <td>TOT</td>\n      <td>PC_CHGPY</td>\n      <td>Q</td>\n      <td>2020-Q2</td>\n      <td>-13.930563</td>\n      <td>NaN</td>\n    </tr>\n  </tbody>\n</table>\n<p>29234 rows × 8 columns</p>\n</div>"
     },
     "metadata": {},
     "execution_count": 3
    }
   ],
   "source": [
    "#Lesture des données\n",
    "data = pd.read_csv('./data/data.csv', sep=';')\n",
    "print(data.iloc[100:105])\n",
    "data"
   ]
  },
  {
   "cell_type": "markdown",
   "metadata": {
    "pycharm": {
     "name": "#%% md\n"
    }
   },
   "source": [
    "- ### INDICATOR :\n",
    "    - QGDP : Evolution du PIB par trimestre\n",
    " \n",
    "- ### MEASURE :\n",
    "\t - PC_CHGPP : Pourcentage de variation du PIB par rapport à la période précédente, uniquement disponible pour TOT\n",
    "\t - PC_CHGPY : Pourcentage de variation du PIB par rapport à la même période, l'année précédente, uniquement disponible pour TOT. \n",
    "\t - IDX : indice de volume, uniquement disponible pour SUBJECT = VOLIDX\n",
    "\n",
    "- ### SUBJECT:\n",
    "\t- TOT : Total\n",
    "\t- VOLIDX : Indice de volume\n",
    "\n",
    "- ### FREQUENCY :\n",
    "\t- Q : Trimestre\n",
    "\t- A : Année\n",
    "\n",
    "Lien d'un excel récapitulatif :\n",
    "https://loicvieu-drive.mycozy.cloud/public?sharecode=JCVlMBO0XjQX\n"
   ]
  },
  {
   "cell_type": "code",
   "execution_count": 4,
   "metadata": {
    "pycharm": {
     "name": "#%%\n"
    }
   },
   "outputs": [
    {
     "output_type": "display_data",
     "data": {
      "text/plain": "<Figure size 432x288 with 1 Axes>",
      "image/svg+xml": "<?xml version=\"1.0\" encoding=\"utf-8\" standalone=\"no\"?>\r\n<!DOCTYPE svg PUBLIC \"-//W3C//DTD SVG 1.1//EN\"\r\n  \"http://www.w3.org/Graphics/SVG/1.1/DTD/svg11.dtd\">\r\n<!-- Created with matplotlib (https://matplotlib.org/) -->\r\n<svg height=\"295.6525pt\" version=\"1.1\" viewBox=\"0 0 375.2875 295.6525\" width=\"375.2875pt\" xmlns=\"http://www.w3.org/2000/svg\" xmlns:xlink=\"http://www.w3.org/1999/xlink\">\r\n <metadata>\r\n  <rdf:RDF xmlns:cc=\"http://creativecommons.org/ns#\" xmlns:dc=\"http://purl.org/dc/elements/1.1/\" xmlns:rdf=\"http://www.w3.org/1999/02/22-rdf-syntax-ns#\">\r\n   <cc:Work>\r\n    <dc:type rdf:resource=\"http://purl.org/dc/dcmitype/StillImage\"/>\r\n    <dc:date>2020-12-03T12:31:14.665052</dc:date>\r\n    <dc:format>image/svg+xml</dc:format>\r\n    <dc:creator>\r\n     <cc:Agent>\r\n      <dc:title>Matplotlib v3.3.2, https://matplotlib.org/</dc:title>\r\n     </cc:Agent>\r\n    </dc:creator>\r\n   </cc:Work>\r\n  </rdf:RDF>\r\n </metadata>\r\n <defs>\r\n  <style type=\"text/css\">*{stroke-linecap:butt;stroke-linejoin:round;}</style>\r\n </defs>\r\n <g id=\"figure_1\">\r\n  <g id=\"patch_1\">\r\n   <path d=\"M 0 295.6525 \r\nL 375.2875 295.6525 \r\nL 375.2875 0 \r\nL 0 0 \r\nz\r\n\" style=\"fill:none;\"/>\r\n  </g>\r\n  <g id=\"axes_1\">\r\n   <g id=\"patch_2\">\r\n    <path d=\"M 33.2875 224.64 \r\nL 368.0875 224.64 \r\nL 368.0875 7.2 \r\nL 33.2875 7.2 \r\nz\r\n\" style=\"fill:#ffffff;\"/>\r\n   </g>\r\n   <g id=\"patch_3\">\r\n    <path clip-path=\"url(#p7e7222cea5)\" d=\"M 37.4725 224.64 \r\nL 45.8425 224.64 \r\nL 45.8425 17.554286 \r\nL 37.4725 17.554286 \r\nz\r\n\" style=\"fill:#1f77b4;\"/>\r\n   </g>\r\n   <g id=\"patch_4\">\r\n    <path clip-path=\"url(#p7e7222cea5)\" d=\"M 54.2125 224.64 \r\nL 62.5825 224.64 \r\nL 62.5825 17.554286 \r\nL 54.2125 17.554286 \r\nz\r\n\" style=\"fill:#1f77b4;\"/>\r\n   </g>\r\n   <g id=\"patch_5\">\r\n    <path clip-path=\"url(#p7e7222cea5)\" d=\"M 70.9525 224.64 \r\nL 79.3225 224.64 \r\nL 79.3225 17.554286 \r\nL 70.9525 17.554286 \r\nz\r\n\" style=\"fill:#1f77b4;\"/>\r\n   </g>\r\n   <g id=\"patch_6\">\r\n    <path clip-path=\"url(#p7e7222cea5)\" d=\"M 87.6925 224.64 \r\nL 96.0625 224.64 \r\nL 96.0625 17.554286 \r\nL 87.6925 17.554286 \r\nz\r\n\" style=\"fill:#1f77b4;\"/>\r\n   </g>\r\n   <g id=\"patch_7\">\r\n    <path clip-path=\"url(#p7e7222cea5)\" d=\"M 104.4325 224.64 \r\nL 112.8025 224.64 \r\nL 112.8025 17.554286 \r\nL 104.4325 17.554286 \r\nz\r\n\" style=\"fill:#1f77b4;\"/>\r\n   </g>\r\n   <g id=\"patch_8\">\r\n    <path clip-path=\"url(#p7e7222cea5)\" d=\"M 121.1725 224.64 \r\nL 129.5425 224.64 \r\nL 129.5425 17.554286 \r\nL 121.1725 17.554286 \r\nz\r\n\" style=\"fill:#1f77b4;\"/>\r\n   </g>\r\n   <g id=\"patch_9\">\r\n    <path clip-path=\"url(#p7e7222cea5)\" d=\"M 137.9125 224.64 \r\nL 146.2825 224.64 \r\nL 146.2825 17.554286 \r\nL 137.9125 17.554286 \r\nz\r\n\" style=\"fill:#1f77b4;\"/>\r\n   </g>\r\n   <g id=\"patch_10\">\r\n    <path clip-path=\"url(#p7e7222cea5)\" d=\"M 154.6525 224.64 \r\nL 163.0225 224.64 \r\nL 163.0225 17.554286 \r\nL 154.6525 17.554286 \r\nz\r\n\" style=\"fill:#1f77b4;\"/>\r\n   </g>\r\n   <g id=\"patch_11\">\r\n    <path clip-path=\"url(#p7e7222cea5)\" d=\"M 171.3925 224.64 \r\nL 179.7625 224.64 \r\nL 179.7625 17.554286 \r\nL 171.3925 17.554286 \r\nz\r\n\" style=\"fill:#1f77b4;\"/>\r\n   </g>\r\n   <g id=\"patch_12\">\r\n    <path clip-path=\"url(#p7e7222cea5)\" d=\"M 188.1325 224.64 \r\nL 196.5025 224.64 \r\nL 196.5025 17.554286 \r\nL 188.1325 17.554286 \r\nz\r\n\" style=\"fill:#1f77b4;\"/>\r\n   </g>\r\n   <g id=\"patch_13\">\r\n    <path clip-path=\"url(#p7e7222cea5)\" d=\"M 204.8725 224.64 \r\nL 213.2425 224.64 \r\nL 213.2425 25.837714 \r\nL 204.8725 25.837714 \r\nz\r\n\" style=\"fill:#1f77b4;\"/>\r\n   </g>\r\n   <g id=\"patch_14\">\r\n    <path clip-path=\"url(#p7e7222cea5)\" d=\"M 221.6125 224.64 \r\nL 229.9825 224.64 \r\nL 229.9825 41.221224 \r\nL 221.6125 41.221224 \r\nz\r\n\" style=\"fill:#1f77b4;\"/>\r\n   </g>\r\n   <g id=\"patch_15\">\r\n    <path clip-path=\"url(#p7e7222cea5)\" d=\"M 238.3525 224.64 \r\nL 246.7225 224.64 \r\nL 246.7225 41.812898 \r\nL 238.3525 41.812898 \r\nz\r\n\" style=\"fill:#1f77b4;\"/>\r\n   </g>\r\n   <g id=\"patch_16\">\r\n    <path clip-path=\"url(#p7e7222cea5)\" d=\"M 255.0925 224.64 \r\nL 263.4625 224.64 \r\nL 263.4625 42.404571 \r\nL 255.0925 42.404571 \r\nz\r\n\" style=\"fill:#1f77b4;\"/>\r\n   </g>\r\n   <g id=\"patch_17\">\r\n    <path clip-path=\"url(#p7e7222cea5)\" d=\"M 271.8325 224.64 \r\nL 280.2025 224.64 \r\nL 280.2025 73.171592 \r\nL 271.8325 73.171592 \r\nz\r\n\" style=\"fill:#1f77b4;\"/>\r\n   </g>\r\n   <g id=\"patch_18\">\r\n    <path clip-path=\"url(#p7e7222cea5)\" d=\"M 288.5725 224.64 \r\nL 296.9425 224.64 \r\nL 296.9425 80.863347 \r\nL 288.5725 80.863347 \r\nz\r\n\" style=\"fill:#1f77b4;\"/>\r\n   </g>\r\n   <g id=\"patch_19\">\r\n    <path clip-path=\"url(#p7e7222cea5)\" d=\"M 305.3125 224.64 \r\nL 313.6825 224.64 \r\nL 313.6825 83.821714 \r\nL 305.3125 83.821714 \r\nz\r\n\" style=\"fill:#1f77b4;\"/>\r\n   </g>\r\n   <g id=\"patch_20\">\r\n    <path clip-path=\"url(#p7e7222cea5)\" d=\"M 322.0525 224.64 \r\nL 330.4225 224.64 \r\nL 330.4225 100.388571 \r\nL 322.0525 100.388571 \r\nz\r\n\" style=\"fill:#1f77b4;\"/>\r\n   </g>\r\n   <g id=\"patch_21\">\r\n    <path clip-path=\"url(#p7e7222cea5)\" d=\"M 338.7925 224.64 \r\nL 347.1625 224.64 \r\nL 347.1625 120.505469 \r\nL 338.7925 120.505469 \r\nz\r\n\" style=\"fill:#1f77b4;\"/>\r\n   </g>\r\n   <g id=\"patch_22\">\r\n    <path clip-path=\"url(#p7e7222cea5)\" d=\"M 355.5325 224.64 \r\nL 363.9025 224.64 \r\nL 363.9025 138.255673 \r\nL 355.5325 138.255673 \r\nz\r\n\" style=\"fill:#1f77b4;\"/>\r\n   </g>\r\n   <g id=\"matplotlib.axis_1\">\r\n    <g id=\"xtick_1\">\r\n     <g id=\"line2d_1\">\r\n      <defs>\r\n       <path d=\"M 0 0 \r\nL 0 3.5 \r\n\" id=\"m108fcd6f64\" style=\"stroke:#000000;stroke-width:0.8;\"/>\r\n      </defs>\r\n      <g>\r\n       <use style=\"stroke:#000000;stroke-width:0.8;\" x=\"41.6575\" xlink:href=\"#m108fcd6f64\" y=\"224.64\"/>\r\n      </g>\r\n     </g>\r\n     <g id=\"text_1\">\r\n      <!-- LTU -->\r\n      <g transform=\"translate(44.416875 249.263437)rotate(-90)scale(0.1 -0.1)\">\r\n       <defs>\r\n        <path d=\"M 9.8125 72.90625 \r\nL 19.671875 72.90625 \r\nL 19.671875 8.296875 \r\nL 55.171875 8.296875 \r\nL 55.171875 0 \r\nL 9.8125 0 \r\nz\r\n\" id=\"DejaVuSans-76\"/>\r\n        <path d=\"M -0.296875 72.90625 \r\nL 61.375 72.90625 \r\nL 61.375 64.59375 \r\nL 35.5 64.59375 \r\nL 35.5 0 \r\nL 25.59375 0 \r\nL 25.59375 64.59375 \r\nL -0.296875 64.59375 \r\nz\r\n\" id=\"DejaVuSans-84\"/>\r\n        <path d=\"M 8.6875 72.90625 \r\nL 18.609375 72.90625 \r\nL 18.609375 28.609375 \r\nQ 18.609375 16.890625 22.84375 11.734375 \r\nQ 27.09375 6.59375 36.625 6.59375 \r\nQ 46.09375 6.59375 50.34375 11.734375 \r\nQ 54.59375 16.890625 54.59375 28.609375 \r\nL 54.59375 72.90625 \r\nL 64.5 72.90625 \r\nL 64.5 27.390625 \r\nQ 64.5 13.140625 57.4375 5.859375 \r\nQ 50.390625 -1.421875 36.625 -1.421875 \r\nQ 22.796875 -1.421875 15.734375 5.859375 \r\nQ 8.6875 13.140625 8.6875 27.390625 \r\nz\r\n\" id=\"DejaVuSans-85\"/>\r\n       </defs>\r\n       <use xlink:href=\"#DejaVuSans-76\"/>\r\n       <use x=\"41.962891\" xlink:href=\"#DejaVuSans-84\"/>\r\n       <use x=\"103.046875\" xlink:href=\"#DejaVuSans-85\"/>\r\n      </g>\r\n     </g>\r\n    </g>\r\n    <g id=\"xtick_2\">\r\n     <g id=\"line2d_2\">\r\n      <g>\r\n       <use style=\"stroke:#000000;stroke-width:0.8;\" x=\"58.3975\" xlink:href=\"#m108fcd6f64\" y=\"224.64\"/>\r\n      </g>\r\n     </g>\r\n     <g id=\"text_2\">\r\n      <!-- HUN -->\r\n      <g transform=\"translate(61.156875 253.960312)rotate(-90)scale(0.1 -0.1)\">\r\n       <defs>\r\n        <path d=\"M 9.8125 72.90625 \r\nL 19.671875 72.90625 \r\nL 19.671875 43.015625 \r\nL 55.515625 43.015625 \r\nL 55.515625 72.90625 \r\nL 65.375 72.90625 \r\nL 65.375 0 \r\nL 55.515625 0 \r\nL 55.515625 34.71875 \r\nL 19.671875 34.71875 \r\nL 19.671875 0 \r\nL 9.8125 0 \r\nz\r\n\" id=\"DejaVuSans-72\"/>\r\n        <path d=\"M 9.8125 72.90625 \r\nL 23.09375 72.90625 \r\nL 55.421875 11.921875 \r\nL 55.421875 72.90625 \r\nL 64.984375 72.90625 \r\nL 64.984375 0 \r\nL 51.703125 0 \r\nL 19.390625 60.984375 \r\nL 19.390625 0 \r\nL 9.8125 0 \r\nz\r\n\" id=\"DejaVuSans-78\"/>\r\n       </defs>\r\n       <use xlink:href=\"#DejaVuSans-72\"/>\r\n       <use x=\"75.195312\" xlink:href=\"#DejaVuSans-85\"/>\r\n       <use x=\"148.388672\" xlink:href=\"#DejaVuSans-78\"/>\r\n      </g>\r\n     </g>\r\n    </g>\r\n    <g id=\"xtick_3\">\r\n     <g id=\"line2d_3\">\r\n      <g>\r\n       <use style=\"stroke:#000000;stroke-width:0.8;\" x=\"75.1375\" xlink:href=\"#m108fcd6f64\" y=\"224.64\"/>\r\n      </g>\r\n     </g>\r\n     <g id=\"text_3\">\r\n      <!-- EST -->\r\n      <g transform=\"translate(77.896875 250.415)rotate(-90)scale(0.1 -0.1)\">\r\n       <defs>\r\n        <path d=\"M 9.8125 72.90625 \r\nL 55.90625 72.90625 \r\nL 55.90625 64.59375 \r\nL 19.671875 64.59375 \r\nL 19.671875 43.015625 \r\nL 54.390625 43.015625 \r\nL 54.390625 34.71875 \r\nL 19.671875 34.71875 \r\nL 19.671875 8.296875 \r\nL 56.78125 8.296875 \r\nL 56.78125 0 \r\nL 9.8125 0 \r\nz\r\n\" id=\"DejaVuSans-69\"/>\r\n        <path d=\"M 53.515625 70.515625 \r\nL 53.515625 60.890625 \r\nQ 47.90625 63.578125 42.921875 64.890625 \r\nQ 37.9375 66.21875 33.296875 66.21875 \r\nQ 25.25 66.21875 20.875 63.09375 \r\nQ 16.5 59.96875 16.5 54.203125 \r\nQ 16.5 49.359375 19.40625 46.890625 \r\nQ 22.3125 44.4375 30.421875 42.921875 \r\nL 36.375 41.703125 \r\nQ 47.40625 39.59375 52.65625 34.296875 \r\nQ 57.90625 29 57.90625 20.125 \r\nQ 57.90625 9.515625 50.796875 4.046875 \r\nQ 43.703125 -1.421875 29.984375 -1.421875 \r\nQ 24.8125 -1.421875 18.96875 -0.25 \r\nQ 13.140625 0.921875 6.890625 3.21875 \r\nL 6.890625 13.375 \r\nQ 12.890625 10.015625 18.65625 8.296875 \r\nQ 24.421875 6.59375 29.984375 6.59375 \r\nQ 38.421875 6.59375 43.015625 9.90625 \r\nQ 47.609375 13.234375 47.609375 19.390625 \r\nQ 47.609375 24.75 44.3125 27.78125 \r\nQ 41.015625 30.8125 33.5 32.328125 \r\nL 27.484375 33.5 \r\nQ 16.453125 35.6875 11.515625 40.375 \r\nQ 6.59375 45.0625 6.59375 53.421875 \r\nQ 6.59375 63.09375 13.40625 68.65625 \r\nQ 20.21875 74.21875 32.171875 74.21875 \r\nQ 37.3125 74.21875 42.625 73.28125 \r\nQ 47.953125 72.359375 53.515625 70.515625 \r\nz\r\n\" id=\"DejaVuSans-83\"/>\r\n       </defs>\r\n       <use xlink:href=\"#DejaVuSans-69\"/>\r\n       <use x=\"63.183594\" xlink:href=\"#DejaVuSans-83\"/>\r\n       <use x=\"126.660156\" xlink:href=\"#DejaVuSans-84\"/>\r\n      </g>\r\n     </g>\r\n    </g>\r\n    <g id=\"xtick_4\">\r\n     <g id=\"line2d_4\">\r\n      <g>\r\n       <use style=\"stroke:#000000;stroke-width:0.8;\" x=\"91.8775\" xlink:href=\"#m108fcd6f64\" y=\"224.64\"/>\r\n      </g>\r\n     </g>\r\n     <g id=\"text_4\">\r\n      <!-- SVN -->\r\n      <g transform=\"translate(94.636875 252.310312)rotate(-90)scale(0.1 -0.1)\">\r\n       <defs>\r\n        <path d=\"M 28.609375 0 \r\nL 0.78125 72.90625 \r\nL 11.078125 72.90625 \r\nL 34.1875 11.53125 \r\nL 57.328125 72.90625 \r\nL 67.578125 72.90625 \r\nL 39.796875 0 \r\nz\r\n\" id=\"DejaVuSans-86\"/>\r\n       </defs>\r\n       <use xlink:href=\"#DejaVuSans-83\"/>\r\n       <use x=\"63.476562\" xlink:href=\"#DejaVuSans-86\"/>\r\n       <use x=\"131.884766\" xlink:href=\"#DejaVuSans-78\"/>\r\n      </g>\r\n     </g>\r\n    </g>\r\n    <g id=\"xtick_5\">\r\n     <g id=\"line2d_5\">\r\n      <g>\r\n       <use style=\"stroke:#000000;stroke-width:0.8;\" x=\"108.6175\" xlink:href=\"#m108fcd6f64\" y=\"224.64\"/>\r\n      </g>\r\n     </g>\r\n     <g id=\"text_5\">\r\n      <!-- BGR -->\r\n      <g transform=\"translate(111.376875 253.022812)rotate(-90)scale(0.1 -0.1)\">\r\n       <defs>\r\n        <path d=\"M 19.671875 34.8125 \r\nL 19.671875 8.109375 \r\nL 35.5 8.109375 \r\nQ 43.453125 8.109375 47.28125 11.40625 \r\nQ 51.125 14.703125 51.125 21.484375 \r\nQ 51.125 28.328125 47.28125 31.5625 \r\nQ 43.453125 34.8125 35.5 34.8125 \r\nz\r\nM 19.671875 64.796875 \r\nL 19.671875 42.828125 \r\nL 34.28125 42.828125 \r\nQ 41.5 42.828125 45.03125 45.53125 \r\nQ 48.578125 48.25 48.578125 53.8125 \r\nQ 48.578125 59.328125 45.03125 62.0625 \r\nQ 41.5 64.796875 34.28125 64.796875 \r\nz\r\nM 9.8125 72.90625 \r\nL 35.015625 72.90625 \r\nQ 46.296875 72.90625 52.390625 68.21875 \r\nQ 58.5 63.53125 58.5 54.890625 \r\nQ 58.5 48.1875 55.375 44.234375 \r\nQ 52.25 40.28125 46.1875 39.3125 \r\nQ 53.46875 37.75 57.5 32.78125 \r\nQ 61.53125 27.828125 61.53125 20.40625 \r\nQ 61.53125 10.640625 54.890625 5.3125 \r\nQ 48.25 0 35.984375 0 \r\nL 9.8125 0 \r\nz\r\n\" id=\"DejaVuSans-66\"/>\r\n        <path d=\"M 59.515625 10.40625 \r\nL 59.515625 29.984375 \r\nL 43.40625 29.984375 \r\nL 43.40625 38.09375 \r\nL 69.28125 38.09375 \r\nL 69.28125 6.78125 \r\nQ 63.578125 2.734375 56.6875 0.65625 \r\nQ 49.8125 -1.421875 42 -1.421875 \r\nQ 24.90625 -1.421875 15.25 8.5625 \r\nQ 5.609375 18.5625 5.609375 36.375 \r\nQ 5.609375 54.25 15.25 64.234375 \r\nQ 24.90625 74.21875 42 74.21875 \r\nQ 49.125 74.21875 55.546875 72.453125 \r\nQ 61.96875 70.703125 67.390625 67.28125 \r\nL 67.390625 56.78125 \r\nQ 61.921875 61.421875 55.765625 63.765625 \r\nQ 49.609375 66.109375 42.828125 66.109375 \r\nQ 29.4375 66.109375 22.71875 58.640625 \r\nQ 16.015625 51.171875 16.015625 36.375 \r\nQ 16.015625 21.625 22.71875 14.15625 \r\nQ 29.4375 6.6875 42.828125 6.6875 \r\nQ 48.046875 6.6875 52.140625 7.59375 \r\nQ 56.25 8.5 59.515625 10.40625 \r\nz\r\n\" id=\"DejaVuSans-71\"/>\r\n        <path d=\"M 44.390625 34.1875 \r\nQ 47.5625 33.109375 50.5625 29.59375 \r\nQ 53.5625 26.078125 56.59375 19.921875 \r\nL 66.609375 0 \r\nL 56 0 \r\nL 46.6875 18.703125 \r\nQ 43.0625 26.03125 39.671875 28.421875 \r\nQ 36.28125 30.8125 30.421875 30.8125 \r\nL 19.671875 30.8125 \r\nL 19.671875 0 \r\nL 9.8125 0 \r\nL 9.8125 72.90625 \r\nL 32.078125 72.90625 \r\nQ 44.578125 72.90625 50.734375 67.671875 \r\nQ 56.890625 62.453125 56.890625 51.90625 \r\nQ 56.890625 45.015625 53.6875 40.46875 \r\nQ 50.484375 35.9375 44.390625 34.1875 \r\nz\r\nM 19.671875 64.796875 \r\nL 19.671875 38.921875 \r\nL 32.078125 38.921875 \r\nQ 39.203125 38.921875 42.84375 42.21875 \r\nQ 46.484375 45.515625 46.484375 51.90625 \r\nQ 46.484375 58.296875 42.84375 61.546875 \r\nQ 39.203125 64.796875 32.078125 64.796875 \r\nz\r\n\" id=\"DejaVuSans-82\"/>\r\n       </defs>\r\n       <use xlink:href=\"#DejaVuSans-66\"/>\r\n       <use x=\"66.853516\" xlink:href=\"#DejaVuSans-71\"/>\r\n       <use x=\"144.34375\" xlink:href=\"#DejaVuSans-82\"/>\r\n      </g>\r\n     </g>\r\n    </g>\r\n    <g id=\"xtick_6\">\r\n     <g id=\"line2d_6\">\r\n      <g>\r\n       <use style=\"stroke:#000000;stroke-width:0.8;\" x=\"125.3575\" xlink:href=\"#m108fcd6f64\" y=\"224.64\"/>\r\n      </g>\r\n     </g>\r\n     <g id=\"text_6\">\r\n      <!-- EU27_2020 -->\r\n      <g transform=\"translate(127.889531 288.4525)rotate(-90)scale(0.1 -0.1)\">\r\n       <defs>\r\n        <path d=\"M 19.1875 8.296875 \r\nL 53.609375 8.296875 \r\nL 53.609375 0 \r\nL 7.328125 0 \r\nL 7.328125 8.296875 \r\nQ 12.9375 14.109375 22.625 23.890625 \r\nQ 32.328125 33.6875 34.8125 36.53125 \r\nQ 39.546875 41.84375 41.421875 45.53125 \r\nQ 43.3125 49.21875 43.3125 52.78125 \r\nQ 43.3125 58.59375 39.234375 62.25 \r\nQ 35.15625 65.921875 28.609375 65.921875 \r\nQ 23.96875 65.921875 18.8125 64.3125 \r\nQ 13.671875 62.703125 7.8125 59.421875 \r\nL 7.8125 69.390625 \r\nQ 13.765625 71.78125 18.9375 73 \r\nQ 24.125 74.21875 28.421875 74.21875 \r\nQ 39.75 74.21875 46.484375 68.546875 \r\nQ 53.21875 62.890625 53.21875 53.421875 \r\nQ 53.21875 48.921875 51.53125 44.890625 \r\nQ 49.859375 40.875 45.40625 35.40625 \r\nQ 44.1875 33.984375 37.640625 27.21875 \r\nQ 31.109375 20.453125 19.1875 8.296875 \r\nz\r\n\" id=\"DejaVuSans-50\"/>\r\n        <path d=\"M 8.203125 72.90625 \r\nL 55.078125 72.90625 \r\nL 55.078125 68.703125 \r\nL 28.609375 0 \r\nL 18.3125 0 \r\nL 43.21875 64.59375 \r\nL 8.203125 64.59375 \r\nz\r\n\" id=\"DejaVuSans-55\"/>\r\n        <path d=\"M 50.984375 -16.609375 \r\nL 50.984375 -23.578125 \r\nL -0.984375 -23.578125 \r\nL -0.984375 -16.609375 \r\nz\r\n\" id=\"DejaVuSans-95\"/>\r\n        <path d=\"M 31.78125 66.40625 \r\nQ 24.171875 66.40625 20.328125 58.90625 \r\nQ 16.5 51.421875 16.5 36.375 \r\nQ 16.5 21.390625 20.328125 13.890625 \r\nQ 24.171875 6.390625 31.78125 6.390625 \r\nQ 39.453125 6.390625 43.28125 13.890625 \r\nQ 47.125 21.390625 47.125 36.375 \r\nQ 47.125 51.421875 43.28125 58.90625 \r\nQ 39.453125 66.40625 31.78125 66.40625 \r\nz\r\nM 31.78125 74.21875 \r\nQ 44.046875 74.21875 50.515625 64.515625 \r\nQ 56.984375 54.828125 56.984375 36.375 \r\nQ 56.984375 17.96875 50.515625 8.265625 \r\nQ 44.046875 -1.421875 31.78125 -1.421875 \r\nQ 19.53125 -1.421875 13.0625 8.265625 \r\nQ 6.59375 17.96875 6.59375 36.375 \r\nQ 6.59375 54.828125 13.0625 64.515625 \r\nQ 19.53125 74.21875 31.78125 74.21875 \r\nz\r\n\" id=\"DejaVuSans-48\"/>\r\n       </defs>\r\n       <use xlink:href=\"#DejaVuSans-69\"/>\r\n       <use x=\"63.183594\" xlink:href=\"#DejaVuSans-85\"/>\r\n       <use x=\"136.376953\" xlink:href=\"#DejaVuSans-50\"/>\r\n       <use x=\"200\" xlink:href=\"#DejaVuSans-55\"/>\r\n       <use x=\"263.623047\" xlink:href=\"#DejaVuSans-95\"/>\r\n       <use x=\"313.623047\" xlink:href=\"#DejaVuSans-50\"/>\r\n       <use x=\"377.246094\" xlink:href=\"#DejaVuSans-48\"/>\r\n       <use x=\"440.869141\" xlink:href=\"#DejaVuSans-50\"/>\r\n       <use x=\"504.492188\" xlink:href=\"#DejaVuSans-48\"/>\r\n      </g>\r\n     </g>\r\n    </g>\r\n    <g id=\"xtick_7\">\r\n     <g id=\"line2d_7\">\r\n      <g>\r\n       <use style=\"stroke:#000000;stroke-width:0.8;\" x=\"142.0975\" xlink:href=\"#m108fcd6f64\" y=\"224.64\"/>\r\n      </g>\r\n     </g>\r\n     <g id=\"text_7\">\r\n      <!-- ISR -->\r\n      <g transform=\"translate(144.856875 247.886875)rotate(-90)scale(0.1 -0.1)\">\r\n       <defs>\r\n        <path d=\"M 9.8125 72.90625 \r\nL 19.671875 72.90625 \r\nL 19.671875 0 \r\nL 9.8125 0 \r\nz\r\n\" id=\"DejaVuSans-73\"/>\r\n       </defs>\r\n       <use xlink:href=\"#DejaVuSans-73\"/>\r\n       <use x=\"29.492188\" xlink:href=\"#DejaVuSans-83\"/>\r\n       <use x=\"92.96875\" xlink:href=\"#DejaVuSans-82\"/>\r\n      </g>\r\n     </g>\r\n    </g>\r\n    <g id=\"xtick_8\">\r\n     <g id=\"line2d_8\">\r\n      <g>\r\n       <use style=\"stroke:#000000;stroke-width:0.8;\" x=\"158.8375\" xlink:href=\"#m108fcd6f64\" y=\"224.64\"/>\r\n      </g>\r\n     </g>\r\n     <g id=\"text_8\">\r\n      <!-- LVA -->\r\n      <g transform=\"translate(161.596875 249.155625)rotate(-90)scale(0.1 -0.1)\">\r\n       <defs>\r\n        <path d=\"M 34.1875 63.1875 \r\nL 20.796875 26.90625 \r\nL 47.609375 26.90625 \r\nz\r\nM 28.609375 72.90625 \r\nL 39.796875 72.90625 \r\nL 67.578125 0 \r\nL 57.328125 0 \r\nL 50.6875 18.703125 \r\nL 17.828125 18.703125 \r\nL 11.1875 0 \r\nL 0.78125 0 \r\nz\r\n\" id=\"DejaVuSans-65\"/>\r\n       </defs>\r\n       <use xlink:href=\"#DejaVuSans-76\"/>\r\n       <use x=\"44.712891\" xlink:href=\"#DejaVuSans-86\"/>\r\n       <use x=\"106.746094\" xlink:href=\"#DejaVuSans-65\"/>\r\n      </g>\r\n     </g>\r\n    </g>\r\n    <g id=\"xtick_9\">\r\n     <g id=\"line2d_9\">\r\n      <g>\r\n       <use style=\"stroke:#000000;stroke-width:0.8;\" x=\"175.5775\" xlink:href=\"#m108fcd6f64\" y=\"224.64\"/>\r\n      </g>\r\n     </g>\r\n     <g id=\"text_9\">\r\n      <!-- POL -->\r\n      <g transform=\"translate(178.336875 251.113437)rotate(-90)scale(0.1 -0.1)\">\r\n       <defs>\r\n        <path d=\"M 19.671875 64.796875 \r\nL 19.671875 37.40625 \r\nL 32.078125 37.40625 \r\nQ 38.96875 37.40625 42.71875 40.96875 \r\nQ 46.484375 44.53125 46.484375 51.125 \r\nQ 46.484375 57.671875 42.71875 61.234375 \r\nQ 38.96875 64.796875 32.078125 64.796875 \r\nz\r\nM 9.8125 72.90625 \r\nL 32.078125 72.90625 \r\nQ 44.34375 72.90625 50.609375 67.359375 \r\nQ 56.890625 61.8125 56.890625 51.125 \r\nQ 56.890625 40.328125 50.609375 34.8125 \r\nQ 44.34375 29.296875 32.078125 29.296875 \r\nL 19.671875 29.296875 \r\nL 19.671875 0 \r\nL 9.8125 0 \r\nz\r\n\" id=\"DejaVuSans-80\"/>\r\n        <path d=\"M 39.40625 66.21875 \r\nQ 28.65625 66.21875 22.328125 58.203125 \r\nQ 16.015625 50.203125 16.015625 36.375 \r\nQ 16.015625 22.609375 22.328125 14.59375 \r\nQ 28.65625 6.59375 39.40625 6.59375 \r\nQ 50.140625 6.59375 56.421875 14.59375 \r\nQ 62.703125 22.609375 62.703125 36.375 \r\nQ 62.703125 50.203125 56.421875 58.203125 \r\nQ 50.140625 66.21875 39.40625 66.21875 \r\nz\r\nM 39.40625 74.21875 \r\nQ 54.734375 74.21875 63.90625 63.9375 \r\nQ 73.09375 53.65625 73.09375 36.375 \r\nQ 73.09375 19.140625 63.90625 8.859375 \r\nQ 54.734375 -1.421875 39.40625 -1.421875 \r\nQ 24.03125 -1.421875 14.8125 8.828125 \r\nQ 5.609375 19.09375 5.609375 36.375 \r\nQ 5.609375 53.65625 14.8125 63.9375 \r\nQ 24.03125 74.21875 39.40625 74.21875 \r\nz\r\n\" id=\"DejaVuSans-79\"/>\r\n       </defs>\r\n       <use xlink:href=\"#DejaVuSans-80\"/>\r\n       <use x=\"60.302734\" xlink:href=\"#DejaVuSans-79\"/>\r\n       <use x=\"139.013672\" xlink:href=\"#DejaVuSans-76\"/>\r\n      </g>\r\n     </g>\r\n    </g>\r\n    <g id=\"xtick_10\">\r\n     <g id=\"line2d_10\">\r\n      <g>\r\n       <use style=\"stroke:#000000;stroke-width:0.8;\" x=\"192.3175\" xlink:href=\"#m108fcd6f64\" y=\"224.64\"/>\r\n      </g>\r\n     </g>\r\n     <g id=\"text_10\">\r\n      <!-- ROU -->\r\n      <g transform=\"translate(195.076875 253.779062)rotate(-90)scale(0.1 -0.1)\">\r\n       <use xlink:href=\"#DejaVuSans-82\"/>\r\n       <use x=\"69.482422\" xlink:href=\"#DejaVuSans-79\"/>\r\n       <use x=\"148.193359\" xlink:href=\"#DejaVuSans-85\"/>\r\n      </g>\r\n     </g>\r\n    </g>\r\n    <g id=\"xtick_11\">\r\n     <g id=\"line2d_11\">\r\n      <g>\r\n       <use style=\"stroke:#000000;stroke-width:0.8;\" x=\"209.0575\" xlink:href=\"#m108fcd6f64\" y=\"224.64\"/>\r\n      </g>\r\n     </g>\r\n     <g id=\"text_11\">\r\n      <!-- BRA -->\r\n      <g transform=\"translate(211.816875 251.89)rotate(-90)scale(0.1 -0.1)\">\r\n       <use xlink:href=\"#DejaVuSans-66\"/>\r\n       <use x=\"68.603516\" xlink:href=\"#DejaVuSans-82\"/>\r\n       <use x=\"134.085938\" xlink:href=\"#DejaVuSans-65\"/>\r\n      </g>\r\n     </g>\r\n    </g>\r\n    <g id=\"xtick_12\">\r\n     <g id=\"line2d_12\">\r\n      <g>\r\n       <use style=\"stroke:#000000;stroke-width:0.8;\" x=\"225.7975\" xlink:href=\"#m108fcd6f64\" y=\"224.64\"/>\r\n      </g>\r\n     </g>\r\n     <g id=\"text_12\">\r\n      <!-- CHL -->\r\n      <g transform=\"translate(228.556875 251.715)rotate(-90)scale(0.1 -0.1)\">\r\n       <defs>\r\n        <path d=\"M 64.40625 67.28125 \r\nL 64.40625 56.890625 \r\nQ 59.421875 61.53125 53.78125 63.8125 \r\nQ 48.140625 66.109375 41.796875 66.109375 \r\nQ 29.296875 66.109375 22.65625 58.46875 \r\nQ 16.015625 50.828125 16.015625 36.375 \r\nQ 16.015625 21.96875 22.65625 14.328125 \r\nQ 29.296875 6.6875 41.796875 6.6875 \r\nQ 48.140625 6.6875 53.78125 8.984375 \r\nQ 59.421875 11.28125 64.40625 15.921875 \r\nL 64.40625 5.609375 \r\nQ 59.234375 2.09375 53.4375 0.328125 \r\nQ 47.65625 -1.421875 41.21875 -1.421875 \r\nQ 24.65625 -1.421875 15.125 8.703125 \r\nQ 5.609375 18.84375 5.609375 36.375 \r\nQ 5.609375 53.953125 15.125 64.078125 \r\nQ 24.65625 74.21875 41.21875 74.21875 \r\nQ 47.75 74.21875 53.53125 72.484375 \r\nQ 59.328125 70.75 64.40625 67.28125 \r\nz\r\n\" id=\"DejaVuSans-67\"/>\r\n       </defs>\r\n       <use xlink:href=\"#DejaVuSans-67\"/>\r\n       <use x=\"69.824219\" xlink:href=\"#DejaVuSans-72\"/>\r\n       <use x=\"145.019531\" xlink:href=\"#DejaVuSans-76\"/>\r\n      </g>\r\n     </g>\r\n    </g>\r\n    <g id=\"xtick_13\">\r\n     <g id=\"line2d_13\">\r\n      <g>\r\n       <use style=\"stroke:#000000;stroke-width:0.8;\" x=\"242.5375\" xlink:href=\"#m108fcd6f64\" y=\"224.64\"/>\r\n      </g>\r\n     </g>\r\n     <g id=\"text_13\">\r\n      <!-- G-20 -->\r\n      <g transform=\"translate(245.296875 255.72125)rotate(-90)scale(0.1 -0.1)\">\r\n       <defs>\r\n        <path d=\"M 4.890625 31.390625 \r\nL 31.203125 31.390625 \r\nL 31.203125 23.390625 \r\nL 4.890625 23.390625 \r\nz\r\n\" id=\"DejaVuSans-45\"/>\r\n       </defs>\r\n       <use xlink:href=\"#DejaVuSans-71\"/>\r\n       <use x=\"77.490234\" xlink:href=\"#DejaVuSans-45\"/>\r\n       <use x=\"113.574219\" xlink:href=\"#DejaVuSans-50\"/>\r\n       <use x=\"177.197266\" xlink:href=\"#DejaVuSans-48\"/>\r\n      </g>\r\n     </g>\r\n    </g>\r\n    <g id=\"xtick_14\">\r\n     <g id=\"line2d_14\">\r\n      <g>\r\n       <use style=\"stroke:#000000;stroke-width:0.8;\" x=\"259.2775\" xlink:href=\"#m108fcd6f64\" y=\"224.64\"/>\r\n      </g>\r\n     </g>\r\n     <g id=\"text_14\">\r\n      <!-- TUR -->\r\n      <g transform=\"translate(262.036875 252.015)rotate(-90)scale(0.1 -0.1)\">\r\n       <use xlink:href=\"#DejaVuSans-84\"/>\r\n       <use x=\"61.083984\" xlink:href=\"#DejaVuSans-85\"/>\r\n       <use x=\"134.277344\" xlink:href=\"#DejaVuSans-82\"/>\r\n      </g>\r\n     </g>\r\n    </g>\r\n    <g id=\"xtick_15\">\r\n     <g id=\"line2d_15\">\r\n      <g>\r\n       <use style=\"stroke:#000000;stroke-width:0.8;\" x=\"276.0175\" xlink:href=\"#m108fcd6f64\" y=\"224.64\"/>\r\n      </g>\r\n     </g>\r\n     <g id=\"text_15\">\r\n      <!-- IND -->\r\n      <g transform=\"translate(278.776875 249.77125)rotate(-90)scale(0.1 -0.1)\">\r\n       <defs>\r\n        <path d=\"M 19.671875 64.796875 \r\nL 19.671875 8.109375 \r\nL 31.59375 8.109375 \r\nQ 46.6875 8.109375 53.6875 14.9375 \r\nQ 60.6875 21.78125 60.6875 36.53125 \r\nQ 60.6875 51.171875 53.6875 57.984375 \r\nQ 46.6875 64.796875 31.59375 64.796875 \r\nz\r\nM 9.8125 72.90625 \r\nL 30.078125 72.90625 \r\nQ 51.265625 72.90625 61.171875 64.09375 \r\nQ 71.09375 55.28125 71.09375 36.53125 \r\nQ 71.09375 17.671875 61.125 8.828125 \r\nQ 51.171875 0 30.078125 0 \r\nL 9.8125 0 \r\nz\r\n\" id=\"DejaVuSans-68\"/>\r\n       </defs>\r\n       <use xlink:href=\"#DejaVuSans-73\"/>\r\n       <use x=\"29.492188\" xlink:href=\"#DejaVuSans-78\"/>\r\n       <use x=\"104.296875\" xlink:href=\"#DejaVuSans-68\"/>\r\n      </g>\r\n     </g>\r\n    </g>\r\n    <g id=\"xtick_16\">\r\n     <g id=\"line2d_16\">\r\n      <g>\r\n       <use style=\"stroke:#000000;stroke-width:0.8;\" x=\"292.7575\" xlink:href=\"#m108fcd6f64\" y=\"224.64\"/>\r\n      </g>\r\n     </g>\r\n     <g id=\"text_16\">\r\n      <!-- SAU -->\r\n      <g transform=\"translate(295.516875 252.335312)rotate(-90)scale(0.1 -0.1)\">\r\n       <use xlink:href=\"#DejaVuSans-83\"/>\r\n       <use x=\"65.351562\" xlink:href=\"#DejaVuSans-65\"/>\r\n       <use x=\"133.759766\" xlink:href=\"#DejaVuSans-85\"/>\r\n      </g>\r\n     </g>\r\n    </g>\r\n    <g id=\"xtick_17\">\r\n     <g id=\"line2d_17\">\r\n      <g>\r\n       <use style=\"stroke:#000000;stroke-width:0.8;\" x=\"309.4975\" xlink:href=\"#m108fcd6f64\" y=\"224.64\"/>\r\n      </g>\r\n     </g>\r\n     <g id=\"text_17\">\r\n      <!-- RUS -->\r\n      <g transform=\"translate(312.256875 252.255625)rotate(-90)scale(0.1 -0.1)\">\r\n       <use xlink:href=\"#DejaVuSans-82\"/>\r\n       <use x=\"69.482422\" xlink:href=\"#DejaVuSans-85\"/>\r\n       <use x=\"142.675781\" xlink:href=\"#DejaVuSans-83\"/>\r\n      </g>\r\n     </g>\r\n    </g>\r\n    <g id=\"xtick_18\">\r\n     <g id=\"line2d_18\">\r\n      <g>\r\n       <use style=\"stroke:#000000;stroke-width:0.8;\" x=\"326.2375\" xlink:href=\"#m108fcd6f64\" y=\"224.64\"/>\r\n      </g>\r\n     </g>\r\n     <g id=\"text_18\">\r\n      <!-- COL -->\r\n      <g transform=\"translate(328.996875 252.066562)rotate(-90)scale(0.1 -0.1)\">\r\n       <use xlink:href=\"#DejaVuSans-67\"/>\r\n       <use x=\"69.824219\" xlink:href=\"#DejaVuSans-79\"/>\r\n       <use x=\"148.535156\" xlink:href=\"#DejaVuSans-76\"/>\r\n      </g>\r\n     </g>\r\n    </g>\r\n    <g id=\"xtick_19\">\r\n     <g id=\"line2d_19\">\r\n      <g>\r\n       <use style=\"stroke:#000000;stroke-width:0.8;\" x=\"342.9775\" xlink:href=\"#m108fcd6f64\" y=\"224.64\"/>\r\n      </g>\r\n     </g>\r\n     <g id=\"text_19\">\r\n      <!-- CHN -->\r\n      <g transform=\"translate(345.736875 253.624375)rotate(-90)scale(0.1 -0.1)\">\r\n       <use xlink:href=\"#DejaVuSans-67\"/>\r\n       <use x=\"69.824219\" xlink:href=\"#DejaVuSans-72\"/>\r\n       <use x=\"145.019531\" xlink:href=\"#DejaVuSans-78\"/>\r\n      </g>\r\n     </g>\r\n    </g>\r\n    <g id=\"xtick_20\">\r\n     <g id=\"line2d_20\">\r\n      <g>\r\n       <use style=\"stroke:#000000;stroke-width:0.8;\" x=\"359.7175\" xlink:href=\"#m108fcd6f64\" y=\"224.64\"/>\r\n      </g>\r\n     </g>\r\n     <g id=\"text_20\">\r\n      <!-- CRI -->\r\n      <g transform=\"translate(362.476875 248.52125)rotate(-90)scale(0.1 -0.1)\">\r\n       <use xlink:href=\"#DejaVuSans-67\"/>\r\n       <use x=\"69.824219\" xlink:href=\"#DejaVuSans-82\"/>\r\n       <use x=\"139.306641\" xlink:href=\"#DejaVuSans-73\"/>\r\n      </g>\r\n     </g>\r\n    </g>\r\n   </g>\r\n   <g id=\"matplotlib.axis_2\">\r\n    <g id=\"ytick_1\">\r\n     <g id=\"line2d_21\">\r\n      <defs>\r\n       <path d=\"M 0 0 \r\nL -3.5 0 \r\n\" id=\"mdae363bfad\" style=\"stroke:#000000;stroke-width:0.8;\"/>\r\n      </defs>\r\n      <g>\r\n       <use style=\"stroke:#000000;stroke-width:0.8;\" x=\"33.2875\" xlink:href=\"#mdae363bfad\" y=\"224.64\"/>\r\n      </g>\r\n     </g>\r\n     <g id=\"text_21\">\r\n      <!-- 0 -->\r\n      <g transform=\"translate(19.925 228.439219)scale(0.1 -0.1)\">\r\n       <use xlink:href=\"#DejaVuSans-48\"/>\r\n      </g>\r\n     </g>\r\n    </g>\r\n    <g id=\"ytick_2\">\r\n     <g id=\"line2d_22\">\r\n      <g>\r\n       <use style=\"stroke:#000000;stroke-width:0.8;\" x=\"33.2875\" xlink:href=\"#mdae363bfad\" y=\"195.056327\"/>\r\n      </g>\r\n     </g>\r\n     <g id=\"text_22\">\r\n      <!-- 50 -->\r\n      <g transform=\"translate(13.5625 198.855545)scale(0.1 -0.1)\">\r\n       <defs>\r\n        <path d=\"M 10.796875 72.90625 \r\nL 49.515625 72.90625 \r\nL 49.515625 64.59375 \r\nL 19.828125 64.59375 \r\nL 19.828125 46.734375 \r\nQ 21.96875 47.46875 24.109375 47.828125 \r\nQ 26.265625 48.1875 28.421875 48.1875 \r\nQ 40.625 48.1875 47.75 41.5 \r\nQ 54.890625 34.8125 54.890625 23.390625 \r\nQ 54.890625 11.625 47.5625 5.09375 \r\nQ 40.234375 -1.421875 26.90625 -1.421875 \r\nQ 22.3125 -1.421875 17.546875 -0.640625 \r\nQ 12.796875 0.140625 7.71875 1.703125 \r\nL 7.71875 11.625 \r\nQ 12.109375 9.234375 16.796875 8.0625 \r\nQ 21.484375 6.890625 26.703125 6.890625 \r\nQ 35.15625 6.890625 40.078125 11.328125 \r\nQ 45.015625 15.765625 45.015625 23.390625 \r\nQ 45.015625 31 40.078125 35.4375 \r\nQ 35.15625 39.890625 26.703125 39.890625 \r\nQ 22.75 39.890625 18.8125 39.015625 \r\nQ 14.890625 38.140625 10.796875 36.28125 \r\nz\r\n\" id=\"DejaVuSans-53\"/>\r\n       </defs>\r\n       <use xlink:href=\"#DejaVuSans-53\"/>\r\n       <use x=\"63.623047\" xlink:href=\"#DejaVuSans-48\"/>\r\n      </g>\r\n     </g>\r\n    </g>\r\n    <g id=\"ytick_3\">\r\n     <g id=\"line2d_23\">\r\n      <g>\r\n       <use style=\"stroke:#000000;stroke-width:0.8;\" x=\"33.2875\" xlink:href=\"#mdae363bfad\" y=\"165.472653\"/>\r\n      </g>\r\n     </g>\r\n     <g id=\"text_23\">\r\n      <!-- 100 -->\r\n      <g transform=\"translate(7.2 169.271872)scale(0.1 -0.1)\">\r\n       <defs>\r\n        <path d=\"M 12.40625 8.296875 \r\nL 28.515625 8.296875 \r\nL 28.515625 63.921875 \r\nL 10.984375 60.40625 \r\nL 10.984375 69.390625 \r\nL 28.421875 72.90625 \r\nL 38.28125 72.90625 \r\nL 38.28125 8.296875 \r\nL 54.390625 8.296875 \r\nL 54.390625 0 \r\nL 12.40625 0 \r\nz\r\n\" id=\"DejaVuSans-49\"/>\r\n       </defs>\r\n       <use xlink:href=\"#DejaVuSans-49\"/>\r\n       <use x=\"63.623047\" xlink:href=\"#DejaVuSans-48\"/>\r\n       <use x=\"127.246094\" xlink:href=\"#DejaVuSans-48\"/>\r\n      </g>\r\n     </g>\r\n    </g>\r\n    <g id=\"ytick_4\">\r\n     <g id=\"line2d_24\">\r\n      <g>\r\n       <use style=\"stroke:#000000;stroke-width:0.8;\" x=\"33.2875\" xlink:href=\"#mdae363bfad\" y=\"135.88898\"/>\r\n      </g>\r\n     </g>\r\n     <g id=\"text_24\">\r\n      <!-- 150 -->\r\n      <g transform=\"translate(7.2 139.688198)scale(0.1 -0.1)\">\r\n       <use xlink:href=\"#DejaVuSans-49\"/>\r\n       <use x=\"63.623047\" xlink:href=\"#DejaVuSans-53\"/>\r\n       <use x=\"127.246094\" xlink:href=\"#DejaVuSans-48\"/>\r\n      </g>\r\n     </g>\r\n    </g>\r\n    <g id=\"ytick_5\">\r\n     <g id=\"line2d_25\">\r\n      <g>\r\n       <use style=\"stroke:#000000;stroke-width:0.8;\" x=\"33.2875\" xlink:href=\"#mdae363bfad\" y=\"106.305306\"/>\r\n      </g>\r\n     </g>\r\n     <g id=\"text_25\">\r\n      <!-- 200 -->\r\n      <g transform=\"translate(7.2 110.104525)scale(0.1 -0.1)\">\r\n       <use xlink:href=\"#DejaVuSans-50\"/>\r\n       <use x=\"63.623047\" xlink:href=\"#DejaVuSans-48\"/>\r\n       <use x=\"127.246094\" xlink:href=\"#DejaVuSans-48\"/>\r\n      </g>\r\n     </g>\r\n    </g>\r\n    <g id=\"ytick_6\">\r\n     <g id=\"line2d_26\">\r\n      <g>\r\n       <use style=\"stroke:#000000;stroke-width:0.8;\" x=\"33.2875\" xlink:href=\"#mdae363bfad\" y=\"76.721633\"/>\r\n      </g>\r\n     </g>\r\n     <g id=\"text_26\">\r\n      <!-- 250 -->\r\n      <g transform=\"translate(7.2 80.520851)scale(0.1 -0.1)\">\r\n       <use xlink:href=\"#DejaVuSans-50\"/>\r\n       <use x=\"63.623047\" xlink:href=\"#DejaVuSans-53\"/>\r\n       <use x=\"127.246094\" xlink:href=\"#DejaVuSans-48\"/>\r\n      </g>\r\n     </g>\r\n    </g>\r\n    <g id=\"ytick_7\">\r\n     <g id=\"line2d_27\">\r\n      <g>\r\n       <use style=\"stroke:#000000;stroke-width:0.8;\" x=\"33.2875\" xlink:href=\"#mdae363bfad\" y=\"47.137959\"/>\r\n      </g>\r\n     </g>\r\n     <g id=\"text_27\">\r\n      <!-- 300 -->\r\n      <g transform=\"translate(7.2 50.937178)scale(0.1 -0.1)\">\r\n       <defs>\r\n        <path d=\"M 40.578125 39.3125 \r\nQ 47.65625 37.796875 51.625 33 \r\nQ 55.609375 28.21875 55.609375 21.1875 \r\nQ 55.609375 10.40625 48.1875 4.484375 \r\nQ 40.765625 -1.421875 27.09375 -1.421875 \r\nQ 22.515625 -1.421875 17.65625 -0.515625 \r\nQ 12.796875 0.390625 7.625 2.203125 \r\nL 7.625 11.71875 \r\nQ 11.71875 9.328125 16.59375 8.109375 \r\nQ 21.484375 6.890625 26.8125 6.890625 \r\nQ 36.078125 6.890625 40.9375 10.546875 \r\nQ 45.796875 14.203125 45.796875 21.1875 \r\nQ 45.796875 27.640625 41.28125 31.265625 \r\nQ 36.765625 34.90625 28.71875 34.90625 \r\nL 20.21875 34.90625 \r\nL 20.21875 43.015625 \r\nL 29.109375 43.015625 \r\nQ 36.375 43.015625 40.234375 45.921875 \r\nQ 44.09375 48.828125 44.09375 54.296875 \r\nQ 44.09375 59.90625 40.109375 62.90625 \r\nQ 36.140625 65.921875 28.71875 65.921875 \r\nQ 24.65625 65.921875 20.015625 65.03125 \r\nQ 15.375 64.15625 9.8125 62.3125 \r\nL 9.8125 71.09375 \r\nQ 15.4375 72.65625 20.34375 73.4375 \r\nQ 25.25 74.21875 29.59375 74.21875 \r\nQ 40.828125 74.21875 47.359375 69.109375 \r\nQ 53.90625 64.015625 53.90625 55.328125 \r\nQ 53.90625 49.265625 50.4375 45.09375 \r\nQ 46.96875 40.921875 40.578125 39.3125 \r\nz\r\n\" id=\"DejaVuSans-51\"/>\r\n       </defs>\r\n       <use xlink:href=\"#DejaVuSans-51\"/>\r\n       <use x=\"63.623047\" xlink:href=\"#DejaVuSans-48\"/>\r\n       <use x=\"127.246094\" xlink:href=\"#DejaVuSans-48\"/>\r\n      </g>\r\n     </g>\r\n    </g>\r\n    <g id=\"ytick_8\">\r\n     <g id=\"line2d_28\">\r\n      <g>\r\n       <use style=\"stroke:#000000;stroke-width:0.8;\" x=\"33.2875\" xlink:href=\"#mdae363bfad\" y=\"17.554286\"/>\r\n      </g>\r\n     </g>\r\n     <g id=\"text_28\">\r\n      <!-- 350 -->\r\n      <g transform=\"translate(7.2 21.353504)scale(0.1 -0.1)\">\r\n       <use xlink:href=\"#DejaVuSans-51\"/>\r\n       <use x=\"63.623047\" xlink:href=\"#DejaVuSans-53\"/>\r\n       <use x=\"127.246094\" xlink:href=\"#DejaVuSans-48\"/>\r\n      </g>\r\n     </g>\r\n    </g>\r\n   </g>\r\n   <g id=\"patch_23\">\r\n    <path d=\"M 33.2875 224.64 \r\nL 33.2875 7.2 \r\n\" style=\"fill:none;stroke:#000000;stroke-linecap:square;stroke-linejoin:miter;stroke-width:0.8;\"/>\r\n   </g>\r\n   <g id=\"patch_24\">\r\n    <path d=\"M 368.0875 224.64 \r\nL 368.0875 7.2 \r\n\" style=\"fill:none;stroke:#000000;stroke-linecap:square;stroke-linejoin:miter;stroke-width:0.8;\"/>\r\n   </g>\r\n   <g id=\"patch_25\">\r\n    <path d=\"M 33.2875 224.64 \r\nL 368.0875 224.64 \r\n\" style=\"fill:none;stroke:#000000;stroke-linecap:square;stroke-linejoin:miter;stroke-width:0.8;\"/>\r\n   </g>\r\n   <g id=\"patch_26\">\r\n    <path d=\"M 33.2875 7.2 \r\nL 368.0875 7.2 \r\n\" style=\"fill:none;stroke:#000000;stroke-linecap:square;stroke-linejoin:miter;stroke-width:0.8;\"/>\r\n   </g>\r\n  </g>\r\n </g>\r\n <defs>\r\n  <clipPath id=\"p7e7222cea5\">\r\n   <rect height=\"217.44\" width=\"334.8\" x=\"33.2875\" y=\"7.2\"/>\r\n  </clipPath>\r\n </defs>\r\n</svg>\r\n",
      "image/png": "[encoded data removed]"
     },
     "metadata": {
      "needs_background": "light"
     }
    }
   ],
   "source": [
    "#Rapide visualisation pour voir qu'elle pays a le plus de data point\n",
    "pays = pd.Series(data[\"LOCATION\"].value_counts().head(20))\n",
    "paysm =  pd.Series(data[\"LOCATION\"].value_counts().tail(20))\n",
    "image = paysm.plot(kind='bar')"
   ]
  },
  {
   "cell_type": "code",
   "execution_count": 5,
   "metadata": {
    "pycharm": {
     "name": "#%%\n"
    }
   },
   "outputs": [
    {
     "output_type": "display_data",
     "data": {
      "text/plain": "<Figure size 432x288 with 1 Axes>",
      "image/svg+xml": "<?xml version=\"1.0\" encoding=\"utf-8\" standalone=\"no\"?>\r\n<!DOCTYPE svg PUBLIC \"-//W3C//DTD SVG 1.1//EN\"\r\n  \"http://www.w3.org/Graphics/SVG/1.1/DTD/svg11.dtd\">\r\n<!-- Created with matplotlib (https://matplotlib.org/) -->\r\n<svg height=\"267.713437pt\" version=\"1.1\" viewBox=\"0 0 381.65 267.713437\" width=\"381.65pt\" xmlns=\"http://www.w3.org/2000/svg\" xmlns:xlink=\"http://www.w3.org/1999/xlink\">\r\n <metadata>\r\n  <rdf:RDF xmlns:cc=\"http://creativecommons.org/ns#\" xmlns:dc=\"http://purl.org/dc/elements/1.1/\" xmlns:rdf=\"http://www.w3.org/1999/02/22-rdf-syntax-ns#\">\r\n   <cc:Work>\r\n    <dc:type rdf:resource=\"http://purl.org/dc/dcmitype/StillImage\"/>\r\n    <dc:date>2020-12-03T12:31:15.165026</dc:date>\r\n    <dc:format>image/svg+xml</dc:format>\r\n    <dc:creator>\r\n     <cc:Agent>\r\n      <dc:title>Matplotlib v3.3.2, https://matplotlib.org/</dc:title>\r\n     </cc:Agent>\r\n    </dc:creator>\r\n   </cc:Work>\r\n  </rdf:RDF>\r\n </metadata>\r\n <defs>\r\n  <style type=\"text/css\">*{stroke-linecap:butt;stroke-linejoin:round;}</style>\r\n </defs>\r\n <g id=\"figure_1\">\r\n  <g id=\"patch_1\">\r\n   <path d=\"M -0 267.713437 \r\nL 381.65 267.713437 \r\nL 381.65 0 \r\nL -0 0 \r\nz\r\n\" style=\"fill:none;\"/>\r\n  </g>\r\n  <g id=\"axes_1\">\r\n   <g id=\"patch_2\">\r\n    <path d=\"M 39.65 224.64 \r\nL 374.45 224.64 \r\nL 374.45 7.2 \r\nL 39.65 7.2 \r\nz\r\n\" style=\"fill:#ffffff;\"/>\r\n   </g>\r\n   <g id=\"patch_3\">\r\n    <path clip-path=\"url(#p41d19cc78f)\" d=\"M 43.835 224.64 \r\nL 52.205 224.64 \r\nL 52.205 17.554286 \r\nL 43.835 17.554286 \r\nz\r\n\" style=\"fill:#1f77b4;\"/>\r\n   </g>\r\n   <g id=\"patch_4\">\r\n    <path clip-path=\"url(#p41d19cc78f)\" d=\"M 60.575 224.64 \r\nL 68.945 224.64 \r\nL 68.945 40.248611 \r\nL 60.575 40.248611 \r\nz\r\n\" style=\"fill:#1f77b4;\"/>\r\n   </g>\r\n   <g id=\"patch_5\">\r\n    <path clip-path=\"url(#p41d19cc78f)\" d=\"M 77.315 224.64 \r\nL 85.685 224.64 \r\nL 85.685 54.432564 \r\nL 77.315 54.432564 \r\nz\r\n\" style=\"fill:#1f77b4;\"/>\r\n   </g>\r\n   <g id=\"patch_6\">\r\n    <path clip-path=\"url(#p41d19cc78f)\" d=\"M 94.055 224.64 \r\nL 102.425 224.64 \r\nL 102.425 54.432564 \r\nL 94.055 54.432564 \r\nz\r\n\" style=\"fill:#1f77b4;\"/>\r\n   </g>\r\n   <g id=\"patch_7\">\r\n    <path clip-path=\"url(#p41d19cc78f)\" d=\"M 110.795 224.64 \r\nL 119.165 224.64 \r\nL 119.165 54.432564 \r\nL 110.795 54.432564 \r\nz\r\n\" style=\"fill:#1f77b4;\"/>\r\n   </g>\r\n   <g id=\"patch_8\">\r\n    <path clip-path=\"url(#p41d19cc78f)\" d=\"M 127.535 224.64 \r\nL 135.905 224.64 \r\nL 135.905 54.432564 \r\nL 127.535 54.432564 \r\nz\r\n\" style=\"fill:#1f77b4;\"/>\r\n   </g>\r\n   <g id=\"patch_9\">\r\n    <path clip-path=\"url(#p41d19cc78f)\" d=\"M 144.275 224.64 \r\nL 152.645 224.64 \r\nL 152.645 54.432564 \r\nL 144.275 54.432564 \r\nz\r\n\" style=\"fill:#1f77b4;\"/>\r\n   </g>\r\n   <g id=\"patch_10\">\r\n    <path clip-path=\"url(#p41d19cc78f)\" d=\"M 161.015 224.64 \r\nL 169.385 224.64 \r\nL 169.385 57.269354 \r\nL 161.015 57.269354 \r\nz\r\n\" style=\"fill:#1f77b4;\"/>\r\n   </g>\r\n   <g id=\"patch_11\">\r\n    <path clip-path=\"url(#p41d19cc78f)\" d=\"M 177.755 224.64 \r\nL 186.125 224.64 \r\nL 186.125 59.700889 \r\nL 177.755 59.700889 \r\nz\r\n\" style=\"fill:#1f77b4;\"/>\r\n   </g>\r\n   <g id=\"patch_12\">\r\n    <path clip-path=\"url(#p41d19cc78f)\" d=\"M 194.495 224.64 \r\nL 202.865 224.64 \r\nL 202.865 59.903517 \r\nL 194.495 59.903517 \r\nz\r\n\" style=\"fill:#1f77b4;\"/>\r\n   </g>\r\n   <g id=\"patch_13\">\r\n    <path clip-path=\"url(#p41d19cc78f)\" d=\"M 211.235 224.64 \r\nL 219.605 224.64 \r\nL 219.605 72.669075 \r\nL 211.235 72.669075 \r\nz\r\n\" style=\"fill:#1f77b4;\"/>\r\n   </g>\r\n   <g id=\"patch_14\">\r\n    <path clip-path=\"url(#p41d19cc78f)\" d=\"M 227.975 224.64 \r\nL 236.345 224.64 \r\nL 236.345 74.695354 \r\nL 227.975 74.695354 \r\nz\r\n\" style=\"fill:#1f77b4;\"/>\r\n   </g>\r\n   <g id=\"patch_15\">\r\n    <path clip-path=\"url(#p41d19cc78f)\" d=\"M 244.715 224.64 \r\nL 253.085 224.64 \r\nL 253.085 75.708493 \r\nL 244.715 75.708493 \r\nz\r\n\" style=\"fill:#1f77b4;\"/>\r\n   </g>\r\n   <g id=\"patch_16\">\r\n    <path clip-path=\"url(#p41d19cc78f)\" d=\"M 261.455 224.64 \r\nL 269.825 224.64 \r\nL 269.825 82.80047 \r\nL 261.455 82.80047 \r\nz\r\n\" style=\"fill:#1f77b4;\"/>\r\n   </g>\r\n   <g id=\"patch_17\">\r\n    <path clip-path=\"url(#p41d19cc78f)\" d=\"M 278.195 224.64 \r\nL 286.565 224.64 \r\nL 286.565 82.80047 \r\nL 278.195 82.80047 \r\nz\r\n\" style=\"fill:#1f77b4;\"/>\r\n   </g>\r\n   <g id=\"patch_18\">\r\n    <path clip-path=\"url(#p41d19cc78f)\" d=\"M 294.935 224.64 \r\nL 303.305 224.64 \r\nL 303.305 84.826749 \r\nL 294.935 84.826749 \r\nz\r\n\" style=\"fill:#1f77b4;\"/>\r\n   </g>\r\n   <g id=\"patch_19\">\r\n    <path clip-path=\"url(#p41d19cc78f)\" d=\"M 311.675 224.64 \r\nL 320.045 224.64 \r\nL 320.045 85.839888 \r\nL 311.675 85.839888 \r\nz\r\n\" style=\"fill:#1f77b4;\"/>\r\n   </g>\r\n   <g id=\"patch_20\">\r\n    <path clip-path=\"url(#p41d19cc78f)\" d=\"M 328.415 224.64 \r\nL 336.785 224.64 \r\nL 336.785 87.866167 \r\nL 328.415 87.866167 \r\nz\r\n\" style=\"fill:#1f77b4;\"/>\r\n   </g>\r\n   <g id=\"patch_21\">\r\n    <path clip-path=\"url(#p41d19cc78f)\" d=\"M 345.155 224.64 \r\nL 353.525 224.64 \r\nL 353.525 88.879307 \r\nL 345.155 88.879307 \r\nz\r\n\" style=\"fill:#1f77b4;\"/>\r\n   </g>\r\n   <g id=\"patch_22\">\r\n    <path clip-path=\"url(#p41d19cc78f)\" d=\"M 361.895 224.64 \r\nL 370.265 224.64 \r\nL 370.265 89.892446 \r\nL 361.895 89.892446 \r\nz\r\n\" style=\"fill:#1f77b4;\"/>\r\n   </g>\r\n   <g id=\"matplotlib.axis_1\">\r\n    <g id=\"xtick_1\">\r\n     <g id=\"line2d_1\">\r\n      <defs>\r\n       <path d=\"M 0 0 \r\nL 0 3.5 \r\n\" id=\"m78599da090\" style=\"stroke:#000000;stroke-width:0.8;\"/>\r\n      </defs>\r\n      <g>\r\n       <use style=\"stroke:#000000;stroke-width:0.8;\" x=\"48.02\" xlink:href=\"#m78599da090\" y=\"224.64\"/>\r\n      </g>\r\n     </g>\r\n     <g id=\"text_1\">\r\n      <!-- USA -->\r\n      <g transform=\"translate(50.779375 252.335312)rotate(-90)scale(0.1 -0.1)\">\r\n       <defs>\r\n        <path d=\"M 8.6875 72.90625 \r\nL 18.609375 72.90625 \r\nL 18.609375 28.609375 \r\nQ 18.609375 16.890625 22.84375 11.734375 \r\nQ 27.09375 6.59375 36.625 6.59375 \r\nQ 46.09375 6.59375 50.34375 11.734375 \r\nQ 54.59375 16.890625 54.59375 28.609375 \r\nL 54.59375 72.90625 \r\nL 64.5 72.90625 \r\nL 64.5 27.390625 \r\nQ 64.5 13.140625 57.4375 5.859375 \r\nQ 50.390625 -1.421875 36.625 -1.421875 \r\nQ 22.796875 -1.421875 15.734375 5.859375 \r\nQ 8.6875 13.140625 8.6875 27.390625 \r\nz\r\n\" id=\"DejaVuSans-85\"/>\r\n        <path d=\"M 53.515625 70.515625 \r\nL 53.515625 60.890625 \r\nQ 47.90625 63.578125 42.921875 64.890625 \r\nQ 37.9375 66.21875 33.296875 66.21875 \r\nQ 25.25 66.21875 20.875 63.09375 \r\nQ 16.5 59.96875 16.5 54.203125 \r\nQ 16.5 49.359375 19.40625 46.890625 \r\nQ 22.3125 44.4375 30.421875 42.921875 \r\nL 36.375 41.703125 \r\nQ 47.40625 39.59375 52.65625 34.296875 \r\nQ 57.90625 29 57.90625 20.125 \r\nQ 57.90625 9.515625 50.796875 4.046875 \r\nQ 43.703125 -1.421875 29.984375 -1.421875 \r\nQ 24.8125 -1.421875 18.96875 -0.25 \r\nQ 13.140625 0.921875 6.890625 3.21875 \r\nL 6.890625 13.375 \r\nQ 12.890625 10.015625 18.65625 8.296875 \r\nQ 24.421875 6.59375 29.984375 6.59375 \r\nQ 38.421875 6.59375 43.015625 9.90625 \r\nQ 47.609375 13.234375 47.609375 19.390625 \r\nQ 47.609375 24.75 44.3125 27.78125 \r\nQ 41.015625 30.8125 33.5 32.328125 \r\nL 27.484375 33.5 \r\nQ 16.453125 35.6875 11.515625 40.375 \r\nQ 6.59375 45.0625 6.59375 53.421875 \r\nQ 6.59375 63.09375 13.40625 68.65625 \r\nQ 20.21875 74.21875 32.171875 74.21875 \r\nQ 37.3125 74.21875 42.625 73.28125 \r\nQ 47.953125 72.359375 53.515625 70.515625 \r\nz\r\n\" id=\"DejaVuSans-83\"/>\r\n        <path d=\"M 34.1875 63.1875 \r\nL 20.796875 26.90625 \r\nL 47.609375 26.90625 \r\nz\r\nM 28.609375 72.90625 \r\nL 39.796875 72.90625 \r\nL 67.578125 0 \r\nL 57.328125 0 \r\nL 50.6875 18.703125 \r\nL 17.828125 18.703125 \r\nL 11.1875 0 \r\nL 0.78125 0 \r\nz\r\n\" id=\"DejaVuSans-65\"/>\r\n       </defs>\r\n       <use xlink:href=\"#DejaVuSans-85\"/>\r\n       <use x=\"73.193359\" xlink:href=\"#DejaVuSans-83\"/>\r\n       <use x=\"138.544922\" xlink:href=\"#DejaVuSans-65\"/>\r\n      </g>\r\n     </g>\r\n    </g>\r\n    <g id=\"xtick_2\">\r\n     <g id=\"line2d_2\">\r\n      <g>\r\n       <use style=\"stroke:#000000;stroke-width:0.8;\" x=\"64.76\" xlink:href=\"#m78599da090\" y=\"224.64\"/>\r\n      </g>\r\n     </g>\r\n     <g id=\"text_2\">\r\n      <!-- GBR -->\r\n      <g transform=\"translate(67.519375 253.197812)rotate(-90)scale(0.1 -0.1)\">\r\n       <defs>\r\n        <path d=\"M 59.515625 10.40625 \r\nL 59.515625 29.984375 \r\nL 43.40625 29.984375 \r\nL 43.40625 38.09375 \r\nL 69.28125 38.09375 \r\nL 69.28125 6.78125 \r\nQ 63.578125 2.734375 56.6875 0.65625 \r\nQ 49.8125 -1.421875 42 -1.421875 \r\nQ 24.90625 -1.421875 15.25 8.5625 \r\nQ 5.609375 18.5625 5.609375 36.375 \r\nQ 5.609375 54.25 15.25 64.234375 \r\nQ 24.90625 74.21875 42 74.21875 \r\nQ 49.125 74.21875 55.546875 72.453125 \r\nQ 61.96875 70.703125 67.390625 67.28125 \r\nL 67.390625 56.78125 \r\nQ 61.921875 61.421875 55.765625 63.765625 \r\nQ 49.609375 66.109375 42.828125 66.109375 \r\nQ 29.4375 66.109375 22.71875 58.640625 \r\nQ 16.015625 51.171875 16.015625 36.375 \r\nQ 16.015625 21.625 22.71875 14.15625 \r\nQ 29.4375 6.6875 42.828125 6.6875 \r\nQ 48.046875 6.6875 52.140625 7.59375 \r\nQ 56.25 8.5 59.515625 10.40625 \r\nz\r\n\" id=\"DejaVuSans-71\"/>\r\n        <path d=\"M 19.671875 34.8125 \r\nL 19.671875 8.109375 \r\nL 35.5 8.109375 \r\nQ 43.453125 8.109375 47.28125 11.40625 \r\nQ 51.125 14.703125 51.125 21.484375 \r\nQ 51.125 28.328125 47.28125 31.5625 \r\nQ 43.453125 34.8125 35.5 34.8125 \r\nz\r\nM 19.671875 64.796875 \r\nL 19.671875 42.828125 \r\nL 34.28125 42.828125 \r\nQ 41.5 42.828125 45.03125 45.53125 \r\nQ 48.578125 48.25 48.578125 53.8125 \r\nQ 48.578125 59.328125 45.03125 62.0625 \r\nQ 41.5 64.796875 34.28125 64.796875 \r\nz\r\nM 9.8125 72.90625 \r\nL 35.015625 72.90625 \r\nQ 46.296875 72.90625 52.390625 68.21875 \r\nQ 58.5 63.53125 58.5 54.890625 \r\nQ 58.5 48.1875 55.375 44.234375 \r\nQ 52.25 40.28125 46.1875 39.3125 \r\nQ 53.46875 37.75 57.5 32.78125 \r\nQ 61.53125 27.828125 61.53125 20.40625 \r\nQ 61.53125 10.640625 54.890625 5.3125 \r\nQ 48.25 0 35.984375 0 \r\nL 9.8125 0 \r\nz\r\n\" id=\"DejaVuSans-66\"/>\r\n        <path d=\"M 44.390625 34.1875 \r\nQ 47.5625 33.109375 50.5625 29.59375 \r\nQ 53.5625 26.078125 56.59375 19.921875 \r\nL 66.609375 0 \r\nL 56 0 \r\nL 46.6875 18.703125 \r\nQ 43.0625 26.03125 39.671875 28.421875 \r\nQ 36.28125 30.8125 30.421875 30.8125 \r\nL 19.671875 30.8125 \r\nL 19.671875 0 \r\nL 9.8125 0 \r\nL 9.8125 72.90625 \r\nL 32.078125 72.90625 \r\nQ 44.578125 72.90625 50.734375 67.671875 \r\nQ 56.890625 62.453125 56.890625 51.90625 \r\nQ 56.890625 45.015625 53.6875 40.46875 \r\nQ 50.484375 35.9375 44.390625 34.1875 \r\nz\r\nM 19.671875 64.796875 \r\nL 19.671875 38.921875 \r\nL 32.078125 38.921875 \r\nQ 39.203125 38.921875 42.84375 42.21875 \r\nQ 46.484375 45.515625 46.484375 51.90625 \r\nQ 46.484375 58.296875 42.84375 61.546875 \r\nQ 39.203125 64.796875 32.078125 64.796875 \r\nz\r\n\" id=\"DejaVuSans-82\"/>\r\n       </defs>\r\n       <use xlink:href=\"#DejaVuSans-71\"/>\r\n       <use x=\"77.490234\" xlink:href=\"#DejaVuSans-66\"/>\r\n       <use x=\"146.09375\" xlink:href=\"#DejaVuSans-82\"/>\r\n      </g>\r\n     </g>\r\n    </g>\r\n    <g id=\"xtick_3\">\r\n     <g id=\"line2d_3\">\r\n      <g>\r\n       <use style=\"stroke:#000000;stroke-width:0.8;\" x=\"81.5\" xlink:href=\"#m78599da090\" y=\"224.64\"/>\r\n      </g>\r\n     </g>\r\n     <g id=\"text_3\">\r\n      <!-- KOR -->\r\n      <g transform=\"translate(84.259375 252.468125)rotate(-90)scale(0.1 -0.1)\">\r\n       <defs>\r\n        <path d=\"M 9.8125 72.90625 \r\nL 19.671875 72.90625 \r\nL 19.671875 42.09375 \r\nL 52.390625 72.90625 \r\nL 65.09375 72.90625 \r\nL 28.90625 38.921875 \r\nL 67.671875 0 \r\nL 54.6875 0 \r\nL 19.671875 35.109375 \r\nL 19.671875 0 \r\nL 9.8125 0 \r\nz\r\n\" id=\"DejaVuSans-75\"/>\r\n        <path d=\"M 39.40625 66.21875 \r\nQ 28.65625 66.21875 22.328125 58.203125 \r\nQ 16.015625 50.203125 16.015625 36.375 \r\nQ 16.015625 22.609375 22.328125 14.59375 \r\nQ 28.65625 6.59375 39.40625 6.59375 \r\nQ 50.140625 6.59375 56.421875 14.59375 \r\nQ 62.703125 22.609375 62.703125 36.375 \r\nQ 62.703125 50.203125 56.421875 58.203125 \r\nQ 50.140625 66.21875 39.40625 66.21875 \r\nz\r\nM 39.40625 74.21875 \r\nQ 54.734375 74.21875 63.90625 63.9375 \r\nQ 73.09375 53.65625 73.09375 36.375 \r\nQ 73.09375 19.140625 63.90625 8.859375 \r\nQ 54.734375 -1.421875 39.40625 -1.421875 \r\nQ 24.03125 -1.421875 14.8125 8.828125 \r\nQ 5.609375 19.09375 5.609375 36.375 \r\nQ 5.609375 53.65625 14.8125 63.9375 \r\nQ 24.03125 74.21875 39.40625 74.21875 \r\nz\r\n\" id=\"DejaVuSans-79\"/>\r\n       </defs>\r\n       <use xlink:href=\"#DejaVuSans-75\"/>\r\n       <use x=\"60.076172\" xlink:href=\"#DejaVuSans-79\"/>\r\n       <use x=\"138.787109\" xlink:href=\"#DejaVuSans-82\"/>\r\n      </g>\r\n     </g>\r\n    </g>\r\n    <g id=\"xtick_4\">\r\n     <g id=\"line2d_4\">\r\n      <g>\r\n       <use style=\"stroke:#000000;stroke-width:0.8;\" x=\"98.24\" xlink:href=\"#m78599da090\" y=\"224.64\"/>\r\n      </g>\r\n     </g>\r\n     <g id=\"text_4\">\r\n      <!-- SWE -->\r\n      <g transform=\"translate(100.999375 254.194687)rotate(-90)scale(0.1 -0.1)\">\r\n       <defs>\r\n        <path d=\"M 3.328125 72.90625 \r\nL 13.28125 72.90625 \r\nL 28.609375 11.28125 \r\nL 43.890625 72.90625 \r\nL 54.984375 72.90625 \r\nL 70.3125 11.28125 \r\nL 85.59375 72.90625 \r\nL 95.609375 72.90625 \r\nL 77.296875 0 \r\nL 64.890625 0 \r\nL 49.515625 63.28125 \r\nL 33.984375 0 \r\nL 21.578125 0 \r\nz\r\n\" id=\"DejaVuSans-87\"/>\r\n        <path d=\"M 9.8125 72.90625 \r\nL 55.90625 72.90625 \r\nL 55.90625 64.59375 \r\nL 19.671875 64.59375 \r\nL 19.671875 43.015625 \r\nL 54.390625 43.015625 \r\nL 54.390625 34.71875 \r\nL 19.671875 34.71875 \r\nL 19.671875 8.296875 \r\nL 56.78125 8.296875 \r\nL 56.78125 0 \r\nL 9.8125 0 \r\nz\r\n\" id=\"DejaVuSans-69\"/>\r\n       </defs>\r\n       <use xlink:href=\"#DejaVuSans-83\"/>\r\n       <use x=\"63.476562\" xlink:href=\"#DejaVuSans-87\"/>\r\n       <use x=\"162.353516\" xlink:href=\"#DejaVuSans-69\"/>\r\n      </g>\r\n     </g>\r\n    </g>\r\n    <g id=\"xtick_5\">\r\n     <g id=\"line2d_5\">\r\n      <g>\r\n       <use style=\"stroke:#000000;stroke-width:0.8;\" x=\"114.98\" xlink:href=\"#m78599da090\" y=\"224.64\"/>\r\n      </g>\r\n     </g>\r\n     <g id=\"text_5\">\r\n      <!-- AUS -->\r\n      <g transform=\"translate(117.739375 252.147812)rotate(-90)scale(0.1 -0.1)\">\r\n       <use xlink:href=\"#DejaVuSans-65\"/>\r\n       <use x=\"68.408203\" xlink:href=\"#DejaVuSans-85\"/>\r\n       <use x=\"141.601562\" xlink:href=\"#DejaVuSans-83\"/>\r\n      </g>\r\n     </g>\r\n    </g>\r\n    <g id=\"xtick_6\">\r\n     <g id=\"line2d_6\">\r\n      <g>\r\n       <use style=\"stroke:#000000;stroke-width:0.8;\" x=\"131.72\" xlink:href=\"#m78599da090\" y=\"224.64\"/>\r\n      </g>\r\n     </g>\r\n     <g id=\"text_6\">\r\n      <!-- FRA -->\r\n      <g transform=\"translate(134.479375 250.780625)rotate(-90)scale(0.1 -0.1)\">\r\n       <defs>\r\n        <path d=\"M 9.8125 72.90625 \r\nL 51.703125 72.90625 \r\nL 51.703125 64.59375 \r\nL 19.671875 64.59375 \r\nL 19.671875 43.109375 \r\nL 48.578125 43.109375 \r\nL 48.578125 34.8125 \r\nL 19.671875 34.8125 \r\nL 19.671875 0 \r\nL 9.8125 0 \r\nz\r\n\" id=\"DejaVuSans-70\"/>\r\n       </defs>\r\n       <use xlink:href=\"#DejaVuSans-70\"/>\r\n       <use x=\"57.519531\" xlink:href=\"#DejaVuSans-82\"/>\r\n       <use x=\"123.001953\" xlink:href=\"#DejaVuSans-65\"/>\r\n      </g>\r\n     </g>\r\n    </g>\r\n    <g id=\"xtick_7\">\r\n     <g id=\"line2d_7\">\r\n      <g>\r\n       <use style=\"stroke:#000000;stroke-width:0.8;\" x=\"148.46\" xlink:href=\"#m78599da090\" y=\"224.64\"/>\r\n      </g>\r\n     </g>\r\n     <g id=\"text_7\">\r\n      <!-- ZAF -->\r\n      <g transform=\"translate(151.219375 251.082187)rotate(-90)scale(0.1 -0.1)\">\r\n       <defs>\r\n        <path d=\"M 5.609375 72.90625 \r\nL 62.890625 72.90625 \r\nL 62.890625 65.375 \r\nL 16.796875 8.296875 \r\nL 64.015625 8.296875 \r\nL 64.015625 0 \r\nL 4.5 0 \r\nL 4.5 7.515625 \r\nL 50.59375 64.59375 \r\nL 5.609375 64.59375 \r\nz\r\n\" id=\"DejaVuSans-90\"/>\r\n       </defs>\r\n       <use xlink:href=\"#DejaVuSans-90\"/>\r\n       <use x=\"68.505859\" xlink:href=\"#DejaVuSans-65\"/>\r\n       <use x=\"136.914062\" xlink:href=\"#DejaVuSans-70\"/>\r\n      </g>\r\n     </g>\r\n    </g>\r\n    <g id=\"xtick_8\">\r\n     <g id=\"line2d_8\">\r\n      <g>\r\n       <use style=\"stroke:#000000;stroke-width:0.8;\" x=\"165.2\" xlink:href=\"#m78599da090\" y=\"224.64\"/>\r\n      </g>\r\n     </g>\r\n     <g id=\"text_8\">\r\n      <!-- CAN -->\r\n      <g transform=\"translate(167.959375 252.944687)rotate(-90)scale(0.1 -0.1)\">\r\n       <defs>\r\n        <path d=\"M 64.40625 67.28125 \r\nL 64.40625 56.890625 \r\nQ 59.421875 61.53125 53.78125 63.8125 \r\nQ 48.140625 66.109375 41.796875 66.109375 \r\nQ 29.296875 66.109375 22.65625 58.46875 \r\nQ 16.015625 50.828125 16.015625 36.375 \r\nQ 16.015625 21.96875 22.65625 14.328125 \r\nQ 29.296875 6.6875 41.796875 6.6875 \r\nQ 48.140625 6.6875 53.78125 8.984375 \r\nQ 59.421875 11.28125 64.40625 15.921875 \r\nL 64.40625 5.609375 \r\nQ 59.234375 2.09375 53.4375 0.328125 \r\nQ 47.65625 -1.421875 41.21875 -1.421875 \r\nQ 24.65625 -1.421875 15.125 8.703125 \r\nQ 5.609375 18.84375 5.609375 36.375 \r\nQ 5.609375 53.953125 15.125 64.078125 \r\nQ 24.65625 74.21875 41.21875 74.21875 \r\nQ 47.75 74.21875 53.53125 72.484375 \r\nQ 59.328125 70.75 64.40625 67.28125 \r\nz\r\n\" id=\"DejaVuSans-67\"/>\r\n        <path d=\"M 9.8125 72.90625 \r\nL 23.09375 72.90625 \r\nL 55.421875 11.921875 \r\nL 55.421875 72.90625 \r\nL 64.984375 72.90625 \r\nL 64.984375 0 \r\nL 51.703125 0 \r\nL 19.390625 60.984375 \r\nL 19.390625 0 \r\nL 9.8125 0 \r\nz\r\n\" id=\"DejaVuSans-78\"/>\r\n       </defs>\r\n       <use xlink:href=\"#DejaVuSans-67\"/>\r\n       <use x=\"69.824219\" xlink:href=\"#DejaVuSans-65\"/>\r\n       <use x=\"138.232422\" xlink:href=\"#DejaVuSans-78\"/>\r\n      </g>\r\n     </g>\r\n    </g>\r\n    <g id=\"xtick_9\">\r\n     <g id=\"line2d_9\">\r\n      <g>\r\n       <use style=\"stroke:#000000;stroke-width:0.8;\" x=\"181.94\" xlink:href=\"#m78599da090\" y=\"224.64\"/>\r\n      </g>\r\n     </g>\r\n     <g id=\"text_9\">\r\n      <!-- G-7 -->\r\n      <g transform=\"translate(184.699375 249.35875)rotate(-90)scale(0.1 -0.1)\">\r\n       <defs>\r\n        <path d=\"M 4.890625 31.390625 \r\nL 31.203125 31.390625 \r\nL 31.203125 23.390625 \r\nL 4.890625 23.390625 \r\nz\r\n\" id=\"DejaVuSans-45\"/>\r\n        <path d=\"M 8.203125 72.90625 \r\nL 55.078125 72.90625 \r\nL 55.078125 68.703125 \r\nL 28.609375 0 \r\nL 18.3125 0 \r\nL 43.21875 64.59375 \r\nL 8.203125 64.59375 \r\nz\r\n\" id=\"DejaVuSans-55\"/>\r\n       </defs>\r\n       <use xlink:href=\"#DejaVuSans-71\"/>\r\n       <use x=\"77.490234\" xlink:href=\"#DejaVuSans-45\"/>\r\n       <use x=\"113.574219\" xlink:href=\"#DejaVuSans-55\"/>\r\n      </g>\r\n     </g>\r\n    </g>\r\n    <g id=\"xtick_10\">\r\n     <g id=\"line2d_10\">\r\n      <g>\r\n       <use style=\"stroke:#000000;stroke-width:0.8;\" x=\"198.68\" xlink:href=\"#m78599da090\" y=\"224.64\"/>\r\n      </g>\r\n     </g>\r\n     <g id=\"text_10\">\r\n      <!-- OECD -->\r\n      <g transform=\"translate(201.439375 260.513437)rotate(-90)scale(0.1 -0.1)\">\r\n       <defs>\r\n        <path d=\"M 19.671875 64.796875 \r\nL 19.671875 8.109375 \r\nL 31.59375 8.109375 \r\nQ 46.6875 8.109375 53.6875 14.9375 \r\nQ 60.6875 21.78125 60.6875 36.53125 \r\nQ 60.6875 51.171875 53.6875 57.984375 \r\nQ 46.6875 64.796875 31.59375 64.796875 \r\nz\r\nM 9.8125 72.90625 \r\nL 30.078125 72.90625 \r\nQ 51.265625 72.90625 61.171875 64.09375 \r\nQ 71.09375 55.28125 71.09375 36.53125 \r\nQ 71.09375 17.671875 61.125 8.828125 \r\nQ 51.171875 0 30.078125 0 \r\nL 9.8125 0 \r\nz\r\n\" id=\"DejaVuSans-68\"/>\r\n       </defs>\r\n       <use xlink:href=\"#DejaVuSans-79\"/>\r\n       <use x=\"78.710938\" xlink:href=\"#DejaVuSans-69\"/>\r\n       <use x=\"141.894531\" xlink:href=\"#DejaVuSans-67\"/>\r\n       <use x=\"211.71875\" xlink:href=\"#DejaVuSans-68\"/>\r\n      </g>\r\n     </g>\r\n    </g>\r\n    <g id=\"xtick_11\">\r\n     <g id=\"line2d_11\">\r\n      <g>\r\n       <use style=\"stroke:#000000;stroke-width:0.8;\" x=\"215.42\" xlink:href=\"#m78599da090\" y=\"224.64\"/>\r\n      </g>\r\n     </g>\r\n     <g id=\"text_11\">\r\n      <!-- NOR -->\r\n      <g transform=\"translate(218.179375 253.941562)rotate(-90)scale(0.1 -0.1)\">\r\n       <use xlink:href=\"#DejaVuSans-78\"/>\r\n       <use x=\"74.804688\" xlink:href=\"#DejaVuSans-79\"/>\r\n       <use x=\"153.515625\" xlink:href=\"#DejaVuSans-82\"/>\r\n      </g>\r\n     </g>\r\n    </g>\r\n    <g id=\"xtick_12\">\r\n     <g id=\"line2d_12\">\r\n      <g>\r\n       <use style=\"stroke:#000000;stroke-width:0.8;\" x=\"232.16\" xlink:href=\"#m78599da090\" y=\"224.64\"/>\r\n      </g>\r\n     </g>\r\n     <g id=\"text_12\">\r\n      <!-- CHE -->\r\n      <g transform=\"translate(234.919375 252.461875)rotate(-90)scale(0.1 -0.1)\">\r\n       <defs>\r\n        <path d=\"M 9.8125 72.90625 \r\nL 19.671875 72.90625 \r\nL 19.671875 43.015625 \r\nL 55.515625 43.015625 \r\nL 55.515625 72.90625 \r\nL 65.375 72.90625 \r\nL 65.375 0 \r\nL 55.515625 0 \r\nL 55.515625 34.71875 \r\nL 19.671875 34.71875 \r\nL 19.671875 0 \r\nL 9.8125 0 \r\nz\r\n\" id=\"DejaVuSans-72\"/>\r\n       </defs>\r\n       <use xlink:href=\"#DejaVuSans-67\"/>\r\n       <use x=\"69.824219\" xlink:href=\"#DejaVuSans-72\"/>\r\n       <use x=\"145.019531\" xlink:href=\"#DejaVuSans-69\"/>\r\n      </g>\r\n     </g>\r\n    </g>\r\n    <g id=\"xtick_13\">\r\n     <g id=\"line2d_13\">\r\n      <g>\r\n       <use style=\"stroke:#000000;stroke-width:0.8;\" x=\"248.9\" xlink:href=\"#m78599da090\" y=\"224.64\"/>\r\n      </g>\r\n     </g>\r\n     <g id=\"text_13\">\r\n      <!-- ITA -->\r\n      <g transform=\"translate(251.659375 246.763437)rotate(-90)scale(0.1 -0.1)\">\r\n       <defs>\r\n        <path d=\"M 9.8125 72.90625 \r\nL 19.671875 72.90625 \r\nL 19.671875 0 \r\nL 9.8125 0 \r\nz\r\n\" id=\"DejaVuSans-73\"/>\r\n        <path d=\"M -0.296875 72.90625 \r\nL 61.375 72.90625 \r\nL 61.375 64.59375 \r\nL 35.5 64.59375 \r\nL 35.5 0 \r\nL 25.59375 0 \r\nL 25.59375 64.59375 \r\nL -0.296875 64.59375 \r\nz\r\n\" id=\"DejaVuSans-84\"/>\r\n       </defs>\r\n       <use xlink:href=\"#DejaVuSans-73\"/>\r\n       <use x=\"29.492188\" xlink:href=\"#DejaVuSans-84\"/>\r\n       <use x=\"82.826172\" xlink:href=\"#DejaVuSans-65\"/>\r\n      </g>\r\n     </g>\r\n    </g>\r\n    <g id=\"xtick_14\">\r\n     <g id=\"line2d_14\">\r\n      <g>\r\n       <use style=\"stroke:#000000;stroke-width:0.8;\" x=\"265.64\" xlink:href=\"#m78599da090\" y=\"224.64\"/>\r\n      </g>\r\n     </g>\r\n     <g id=\"text_14\">\r\n      <!-- AUT -->\r\n      <g transform=\"translate(268.399375 251.907187)rotate(-90)scale(0.1 -0.1)\">\r\n       <use xlink:href=\"#DejaVuSans-65\"/>\r\n       <use x=\"68.408203\" xlink:href=\"#DejaVuSans-85\"/>\r\n       <use x=\"141.601562\" xlink:href=\"#DejaVuSans-84\"/>\r\n      </g>\r\n     </g>\r\n    </g>\r\n    <g id=\"xtick_15\">\r\n     <g id=\"line2d_15\">\r\n      <g>\r\n       <use style=\"stroke:#000000;stroke-width:0.8;\" x=\"282.38\" xlink:href=\"#m78599da090\" y=\"224.64\"/>\r\n      </g>\r\n     </g>\r\n     <g id=\"text_15\">\r\n      <!-- NLD -->\r\n      <g transform=\"translate(285.139375 252.393125)rotate(-90)scale(0.1 -0.1)\">\r\n       <defs>\r\n        <path d=\"M 9.8125 72.90625 \r\nL 19.671875 72.90625 \r\nL 19.671875 8.296875 \r\nL 55.171875 8.296875 \r\nL 55.171875 0 \r\nL 9.8125 0 \r\nz\r\n\" id=\"DejaVuSans-76\"/>\r\n       </defs>\r\n       <use xlink:href=\"#DejaVuSans-78\"/>\r\n       <use x=\"74.804688\" xlink:href=\"#DejaVuSans-76\"/>\r\n       <use x=\"130.517578\" xlink:href=\"#DejaVuSans-68\"/>\r\n      </g>\r\n     </g>\r\n    </g>\r\n    <g id=\"xtick_16\">\r\n     <g id=\"line2d_16\">\r\n      <g>\r\n       <use style=\"stroke:#000000;stroke-width:0.8;\" x=\"299.12\" xlink:href=\"#m78599da090\" y=\"224.64\"/>\r\n      </g>\r\n     </g>\r\n     <g id=\"text_16\">\r\n      <!-- FIN -->\r\n      <g transform=\"translate(301.879375 247.822812)rotate(-90)scale(0.1 -0.1)\">\r\n       <use xlink:href=\"#DejaVuSans-70\"/>\r\n       <use x=\"57.519531\" xlink:href=\"#DejaVuSans-73\"/>\r\n       <use x=\"87.011719\" xlink:href=\"#DejaVuSans-78\"/>\r\n      </g>\r\n     </g>\r\n    </g>\r\n    <g id=\"xtick_17\">\r\n     <g id=\"line2d_17\">\r\n      <g>\r\n       <use style=\"stroke:#000000;stroke-width:0.8;\" x=\"315.86\" xlink:href=\"#m78599da090\" y=\"224.64\"/>\r\n      </g>\r\n     </g>\r\n     <g id=\"text_17\">\r\n      <!-- DEU -->\r\n      <g transform=\"translate(318.619375 252.9775)rotate(-90)scale(0.1 -0.1)\">\r\n       <use xlink:href=\"#DejaVuSans-68\"/>\r\n       <use x=\"77.001953\" xlink:href=\"#DejaVuSans-69\"/>\r\n       <use x=\"140.185547\" xlink:href=\"#DejaVuSans-85\"/>\r\n      </g>\r\n     </g>\r\n    </g>\r\n    <g id=\"xtick_18\">\r\n     <g id=\"line2d_18\">\r\n      <g>\r\n       <use style=\"stroke:#000000;stroke-width:0.8;\" x=\"332.6\" xlink:href=\"#m78599da090\" y=\"224.64\"/>\r\n      </g>\r\n     </g>\r\n     <g id=\"text_18\">\r\n      <!-- MEX -->\r\n      <g transform=\"translate(335.359375 253.436875)rotate(-90)scale(0.1 -0.1)\">\r\n       <defs>\r\n        <path d=\"M 9.8125 72.90625 \r\nL 24.515625 72.90625 \r\nL 43.109375 23.296875 \r\nL 61.8125 72.90625 \r\nL 76.515625 72.90625 \r\nL 76.515625 0 \r\nL 66.890625 0 \r\nL 66.890625 64.015625 \r\nL 48.09375 14.015625 \r\nL 38.1875 14.015625 \r\nL 19.390625 64.015625 \r\nL 19.390625 0 \r\nL 9.8125 0 \r\nz\r\n\" id=\"DejaVuSans-77\"/>\r\n        <path d=\"M 6.296875 72.90625 \r\nL 16.890625 72.90625 \r\nL 35.015625 45.796875 \r\nL 53.21875 72.90625 \r\nL 63.8125 72.90625 \r\nL 40.375 37.890625 \r\nL 65.375 0 \r\nL 54.78125 0 \r\nL 34.28125 31 \r\nL 13.625 0 \r\nL 2.984375 0 \r\nL 29 38.921875 \r\nz\r\n\" id=\"DejaVuSans-88\"/>\r\n       </defs>\r\n       <use xlink:href=\"#DejaVuSans-77\"/>\r\n       <use x=\"86.279297\" xlink:href=\"#DejaVuSans-69\"/>\r\n       <use x=\"149.462891\" xlink:href=\"#DejaVuSans-88\"/>\r\n      </g>\r\n     </g>\r\n    </g>\r\n    <g id=\"xtick_19\">\r\n     <g id=\"line2d_19\">\r\n      <g>\r\n       <use style=\"stroke:#000000;stroke-width:0.8;\" x=\"349.34\" xlink:href=\"#m78599da090\" y=\"224.64\"/>\r\n      </g>\r\n     </g>\r\n     <g id=\"text_19\">\r\n      <!-- JPN -->\r\n      <g transform=\"translate(352.099375 248.100937)rotate(-90)scale(0.1 -0.1)\">\r\n       <defs>\r\n        <path d=\"M 9.8125 72.90625 \r\nL 19.671875 72.90625 \r\nL 19.671875 5.078125 \r\nQ 19.671875 -8.109375 14.671875 -14.0625 \r\nQ 9.671875 -20.015625 -1.421875 -20.015625 \r\nL -5.171875 -20.015625 \r\nL -5.171875 -11.71875 \r\nL -2.09375 -11.71875 \r\nQ 4.4375 -11.71875 7.125 -8.046875 \r\nQ 9.8125 -4.390625 9.8125 5.078125 \r\nz\r\n\" id=\"DejaVuSans-74\"/>\r\n        <path d=\"M 19.671875 64.796875 \r\nL 19.671875 37.40625 \r\nL 32.078125 37.40625 \r\nQ 38.96875 37.40625 42.71875 40.96875 \r\nQ 46.484375 44.53125 46.484375 51.125 \r\nQ 46.484375 57.671875 42.71875 61.234375 \r\nQ 38.96875 64.796875 32.078125 64.796875 \r\nz\r\nM 9.8125 72.90625 \r\nL 32.078125 72.90625 \r\nQ 44.34375 72.90625 50.609375 67.359375 \r\nQ 56.890625 61.8125 56.890625 51.125 \r\nQ 56.890625 40.328125 50.609375 34.8125 \r\nQ 44.34375 29.296875 32.078125 29.296875 \r\nL 19.671875 29.296875 \r\nL 19.671875 0 \r\nL 9.8125 0 \r\nz\r\n\" id=\"DejaVuSans-80\"/>\r\n       </defs>\r\n       <use xlink:href=\"#DejaVuSans-74\"/>\r\n       <use x=\"29.492188\" xlink:href=\"#DejaVuSans-80\"/>\r\n       <use x=\"89.794922\" xlink:href=\"#DejaVuSans-78\"/>\r\n      </g>\r\n     </g>\r\n    </g>\r\n    <g id=\"xtick_20\">\r\n     <g id=\"line2d_20\">\r\n      <g>\r\n       <use style=\"stroke:#000000;stroke-width:0.8;\" x=\"366.08\" xlink:href=\"#m78599da090\" y=\"224.64\"/>\r\n      </g>\r\n     </g>\r\n     <g id=\"text_20\">\r\n      <!-- DNK -->\r\n      <g transform=\"translate(368.839375 253.379062)rotate(-90)scale(0.1 -0.1)\">\r\n       <use xlink:href=\"#DejaVuSans-68\"/>\r\n       <use x=\"77.001953\" xlink:href=\"#DejaVuSans-78\"/>\r\n       <use x=\"151.806641\" xlink:href=\"#DejaVuSans-75\"/>\r\n      </g>\r\n     </g>\r\n    </g>\r\n   </g>\r\n   <g id=\"matplotlib.axis_2\">\r\n    <g id=\"ytick_1\">\r\n     <g id=\"line2d_21\">\r\n      <defs>\r\n       <path d=\"M 0 0 \r\nL -3.5 0 \r\n\" id=\"m23fc860c0a\" style=\"stroke:#000000;stroke-width:0.8;\"/>\r\n      </defs>\r\n      <g>\r\n       <use style=\"stroke:#000000;stroke-width:0.8;\" x=\"39.65\" xlink:href=\"#m23fc860c0a\" y=\"224.64\"/>\r\n      </g>\r\n     </g>\r\n     <g id=\"text_21\">\r\n      <!-- 0 -->\r\n      <g transform=\"translate(26.2875 228.439219)scale(0.1 -0.1)\">\r\n       <defs>\r\n        <path d=\"M 31.78125 66.40625 \r\nQ 24.171875 66.40625 20.328125 58.90625 \r\nQ 16.5 51.421875 16.5 36.375 \r\nQ 16.5 21.390625 20.328125 13.890625 \r\nQ 24.171875 6.390625 31.78125 6.390625 \r\nQ 39.453125 6.390625 43.28125 13.890625 \r\nQ 47.125 21.390625 47.125 36.375 \r\nQ 47.125 51.421875 43.28125 58.90625 \r\nQ 39.453125 66.40625 31.78125 66.40625 \r\nz\r\nM 31.78125 74.21875 \r\nQ 44.046875 74.21875 50.515625 64.515625 \r\nQ 56.984375 54.828125 56.984375 36.375 \r\nQ 56.984375 17.96875 50.515625 8.265625 \r\nQ 44.046875 -1.421875 31.78125 -1.421875 \r\nQ 19.53125 -1.421875 13.0625 8.265625 \r\nQ 6.59375 17.96875 6.59375 36.375 \r\nQ 6.59375 54.828125 13.0625 64.515625 \r\nQ 19.53125 74.21875 31.78125 74.21875 \r\nz\r\n\" id=\"DejaVuSans-48\"/>\r\n       </defs>\r\n       <use xlink:href=\"#DejaVuSans-48\"/>\r\n      </g>\r\n     </g>\r\n    </g>\r\n    <g id=\"ytick_2\">\r\n     <g id=\"line2d_22\">\r\n      <g>\r\n       <use style=\"stroke:#000000;stroke-width:0.8;\" x=\"39.65\" xlink:href=\"#m23fc860c0a\" y=\"184.11442\"/>\r\n      </g>\r\n     </g>\r\n     <g id=\"text_22\">\r\n      <!-- 200 -->\r\n      <g transform=\"translate(13.5625 187.913639)scale(0.1 -0.1)\">\r\n       <defs>\r\n        <path d=\"M 19.1875 8.296875 \r\nL 53.609375 8.296875 \r\nL 53.609375 0 \r\nL 7.328125 0 \r\nL 7.328125 8.296875 \r\nQ 12.9375 14.109375 22.625 23.890625 \r\nQ 32.328125 33.6875 34.8125 36.53125 \r\nQ 39.546875 41.84375 41.421875 45.53125 \r\nQ 43.3125 49.21875 43.3125 52.78125 \r\nQ 43.3125 58.59375 39.234375 62.25 \r\nQ 35.15625 65.921875 28.609375 65.921875 \r\nQ 23.96875 65.921875 18.8125 64.3125 \r\nQ 13.671875 62.703125 7.8125 59.421875 \r\nL 7.8125 69.390625 \r\nQ 13.765625 71.78125 18.9375 73 \r\nQ 24.125 74.21875 28.421875 74.21875 \r\nQ 39.75 74.21875 46.484375 68.546875 \r\nQ 53.21875 62.890625 53.21875 53.421875 \r\nQ 53.21875 48.921875 51.53125 44.890625 \r\nQ 49.859375 40.875 45.40625 35.40625 \r\nQ 44.1875 33.984375 37.640625 27.21875 \r\nQ 31.109375 20.453125 19.1875 8.296875 \r\nz\r\n\" id=\"DejaVuSans-50\"/>\r\n       </defs>\r\n       <use xlink:href=\"#DejaVuSans-50\"/>\r\n       <use x=\"63.623047\" xlink:href=\"#DejaVuSans-48\"/>\r\n       <use x=\"127.246094\" xlink:href=\"#DejaVuSans-48\"/>\r\n      </g>\r\n     </g>\r\n    </g>\r\n    <g id=\"ytick_3\">\r\n     <g id=\"line2d_23\">\r\n      <g>\r\n       <use style=\"stroke:#000000;stroke-width:0.8;\" x=\"39.65\" xlink:href=\"#m23fc860c0a\" y=\"143.58884\"/>\r\n      </g>\r\n     </g>\r\n     <g id=\"text_23\">\r\n      <!-- 400 -->\r\n      <g transform=\"translate(13.5625 147.388059)scale(0.1 -0.1)\">\r\n       <defs>\r\n        <path d=\"M 37.796875 64.3125 \r\nL 12.890625 25.390625 \r\nL 37.796875 25.390625 \r\nz\r\nM 35.203125 72.90625 \r\nL 47.609375 72.90625 \r\nL 47.609375 25.390625 \r\nL 58.015625 25.390625 \r\nL 58.015625 17.1875 \r\nL 47.609375 17.1875 \r\nL 47.609375 0 \r\nL 37.796875 0 \r\nL 37.796875 17.1875 \r\nL 4.890625 17.1875 \r\nL 4.890625 26.703125 \r\nz\r\n\" id=\"DejaVuSans-52\"/>\r\n       </defs>\r\n       <use xlink:href=\"#DejaVuSans-52\"/>\r\n       <use x=\"63.623047\" xlink:href=\"#DejaVuSans-48\"/>\r\n       <use x=\"127.246094\" xlink:href=\"#DejaVuSans-48\"/>\r\n      </g>\r\n     </g>\r\n    </g>\r\n    <g id=\"ytick_4\">\r\n     <g id=\"line2d_24\">\r\n      <g>\r\n       <use style=\"stroke:#000000;stroke-width:0.8;\" x=\"39.65\" xlink:href=\"#m23fc860c0a\" y=\"103.06326\"/>\r\n      </g>\r\n     </g>\r\n     <g id=\"text_24\">\r\n      <!-- 600 -->\r\n      <g transform=\"translate(13.5625 106.862478)scale(0.1 -0.1)\">\r\n       <defs>\r\n        <path d=\"M 33.015625 40.375 \r\nQ 26.375 40.375 22.484375 35.828125 \r\nQ 18.609375 31.296875 18.609375 23.390625 \r\nQ 18.609375 15.53125 22.484375 10.953125 \r\nQ 26.375 6.390625 33.015625 6.390625 \r\nQ 39.65625 6.390625 43.53125 10.953125 \r\nQ 47.40625 15.53125 47.40625 23.390625 \r\nQ 47.40625 31.296875 43.53125 35.828125 \r\nQ 39.65625 40.375 33.015625 40.375 \r\nz\r\nM 52.59375 71.296875 \r\nL 52.59375 62.3125 \r\nQ 48.875 64.0625 45.09375 64.984375 \r\nQ 41.3125 65.921875 37.59375 65.921875 \r\nQ 27.828125 65.921875 22.671875 59.328125 \r\nQ 17.53125 52.734375 16.796875 39.40625 \r\nQ 19.671875 43.65625 24.015625 45.921875 \r\nQ 28.375 48.1875 33.59375 48.1875 \r\nQ 44.578125 48.1875 50.953125 41.515625 \r\nQ 57.328125 34.859375 57.328125 23.390625 \r\nQ 57.328125 12.15625 50.6875 5.359375 \r\nQ 44.046875 -1.421875 33.015625 -1.421875 \r\nQ 20.359375 -1.421875 13.671875 8.265625 \r\nQ 6.984375 17.96875 6.984375 36.375 \r\nQ 6.984375 53.65625 15.1875 63.9375 \r\nQ 23.390625 74.21875 37.203125 74.21875 \r\nQ 40.921875 74.21875 44.703125 73.484375 \r\nQ 48.484375 72.75 52.59375 71.296875 \r\nz\r\n\" id=\"DejaVuSans-54\"/>\r\n       </defs>\r\n       <use xlink:href=\"#DejaVuSans-54\"/>\r\n       <use x=\"63.623047\" xlink:href=\"#DejaVuSans-48\"/>\r\n       <use x=\"127.246094\" xlink:href=\"#DejaVuSans-48\"/>\r\n      </g>\r\n     </g>\r\n    </g>\r\n    <g id=\"ytick_5\">\r\n     <g id=\"line2d_25\">\r\n      <g>\r\n       <use style=\"stroke:#000000;stroke-width:0.8;\" x=\"39.65\" xlink:href=\"#m23fc860c0a\" y=\"62.53768\"/>\r\n      </g>\r\n     </g>\r\n     <g id=\"text_25\">\r\n      <!-- 800 -->\r\n      <g transform=\"translate(13.5625 66.336898)scale(0.1 -0.1)\">\r\n       <defs>\r\n        <path d=\"M 31.78125 34.625 \r\nQ 24.75 34.625 20.71875 30.859375 \r\nQ 16.703125 27.09375 16.703125 20.515625 \r\nQ 16.703125 13.921875 20.71875 10.15625 \r\nQ 24.75 6.390625 31.78125 6.390625 \r\nQ 38.8125 6.390625 42.859375 10.171875 \r\nQ 46.921875 13.96875 46.921875 20.515625 \r\nQ 46.921875 27.09375 42.890625 30.859375 \r\nQ 38.875 34.625 31.78125 34.625 \r\nz\r\nM 21.921875 38.8125 \r\nQ 15.578125 40.375 12.03125 44.71875 \r\nQ 8.5 49.078125 8.5 55.328125 \r\nQ 8.5 64.0625 14.71875 69.140625 \r\nQ 20.953125 74.21875 31.78125 74.21875 \r\nQ 42.671875 74.21875 48.875 69.140625 \r\nQ 55.078125 64.0625 55.078125 55.328125 \r\nQ 55.078125 49.078125 51.53125 44.71875 \r\nQ 48 40.375 41.703125 38.8125 \r\nQ 48.828125 37.15625 52.796875 32.3125 \r\nQ 56.78125 27.484375 56.78125 20.515625 \r\nQ 56.78125 9.90625 50.3125 4.234375 \r\nQ 43.84375 -1.421875 31.78125 -1.421875 \r\nQ 19.734375 -1.421875 13.25 4.234375 \r\nQ 6.78125 9.90625 6.78125 20.515625 \r\nQ 6.78125 27.484375 10.78125 32.3125 \r\nQ 14.796875 37.15625 21.921875 38.8125 \r\nz\r\nM 18.3125 54.390625 \r\nQ 18.3125 48.734375 21.84375 45.5625 \r\nQ 25.390625 42.390625 31.78125 42.390625 \r\nQ 38.140625 42.390625 41.71875 45.5625 \r\nQ 45.3125 48.734375 45.3125 54.390625 \r\nQ 45.3125 60.0625 41.71875 63.234375 \r\nQ 38.140625 66.40625 31.78125 66.40625 \r\nQ 25.390625 66.40625 21.84375 63.234375 \r\nQ 18.3125 60.0625 18.3125 54.390625 \r\nz\r\n\" id=\"DejaVuSans-56\"/>\r\n       </defs>\r\n       <use xlink:href=\"#DejaVuSans-56\"/>\r\n       <use x=\"63.623047\" xlink:href=\"#DejaVuSans-48\"/>\r\n       <use x=\"127.246094\" xlink:href=\"#DejaVuSans-48\"/>\r\n      </g>\r\n     </g>\r\n    </g>\r\n    <g id=\"ytick_6\">\r\n     <g id=\"line2d_26\">\r\n      <g>\r\n       <use style=\"stroke:#000000;stroke-width:0.8;\" x=\"39.65\" xlink:href=\"#m23fc860c0a\" y=\"22.0121\"/>\r\n      </g>\r\n     </g>\r\n     <g id=\"text_26\">\r\n      <!-- 1000 -->\r\n      <g transform=\"translate(7.2 25.811318)scale(0.1 -0.1)\">\r\n       <defs>\r\n        <path d=\"M 12.40625 8.296875 \r\nL 28.515625 8.296875 \r\nL 28.515625 63.921875 \r\nL 10.984375 60.40625 \r\nL 10.984375 69.390625 \r\nL 28.421875 72.90625 \r\nL 38.28125 72.90625 \r\nL 38.28125 8.296875 \r\nL 54.390625 8.296875 \r\nL 54.390625 0 \r\nL 12.40625 0 \r\nz\r\n\" id=\"DejaVuSans-49\"/>\r\n       </defs>\r\n       <use xlink:href=\"#DejaVuSans-49\"/>\r\n       <use x=\"63.623047\" xlink:href=\"#DejaVuSans-48\"/>\r\n       <use x=\"127.246094\" xlink:href=\"#DejaVuSans-48\"/>\r\n       <use x=\"190.869141\" xlink:href=\"#DejaVuSans-48\"/>\r\n      </g>\r\n     </g>\r\n    </g>\r\n   </g>\r\n   <g id=\"patch_23\">\r\n    <path d=\"M 39.65 224.64 \r\nL 39.65 7.2 \r\n\" style=\"fill:none;stroke:#000000;stroke-linecap:square;stroke-linejoin:miter;stroke-width:0.8;\"/>\r\n   </g>\r\n   <g id=\"patch_24\">\r\n    <path d=\"M 374.45 224.64 \r\nL 374.45 7.2 \r\n\" style=\"fill:none;stroke:#000000;stroke-linecap:square;stroke-linejoin:miter;stroke-width:0.8;\"/>\r\n   </g>\r\n   <g id=\"patch_25\">\r\n    <path d=\"M 39.65 224.64 \r\nL 374.45 224.64 \r\n\" style=\"fill:none;stroke:#000000;stroke-linecap:square;stroke-linejoin:miter;stroke-width:0.8;\"/>\r\n   </g>\r\n   <g id=\"patch_26\">\r\n    <path d=\"M 39.65 7.2 \r\nL 374.45 7.2 \r\n\" style=\"fill:none;stroke:#000000;stroke-linecap:square;stroke-linejoin:miter;stroke-width:0.8;\"/>\r\n   </g>\r\n  </g>\r\n </g>\r\n <defs>\r\n  <clipPath id=\"p41d19cc78f\">\r\n   <rect height=\"217.44\" width=\"334.8\" x=\"39.65\" y=\"7.2\"/>\r\n  </clipPath>\r\n </defs>\r\n</svg>\r\n",
      "image/png": "[encoded data removed]"
     },
     "metadata": {
      "needs_background": "light"
     }
    }
   ],
   "source": [
    "image = pays.plot(kind='bar')"
   ]
  },
  {
   "cell_type": "markdown",
   "metadata": {},
   "source": [
    "Nous constatons que le nombre de points de données varie en fonction du pays, ce critère sera à prendre en compte pour la suite de nos analyses.\n",
    "\n",
    "Dans un premier temps nous allons étudier les données de la France"
   ]
  },
  {
   "cell_type": "markdown",
   "metadata": {},
   "source": [
    "# Analyse"
   ]
  },
  {
   "cell_type": "markdown",
   "metadata": {},
   "source": [
    "La donnée que nous avons décidé d'exploiter représente les variations du PIB (en pourcentage) par rapport au précédent trimestre.\n",
    "Ainsi nous pouvons uniquement déterminer l'évolution du PIB et non sa valeur à un temps donné."
   ]
  },
  {
   "cell_type": "markdown",
   "metadata": {},
   "source": [
    "## Etude des données"
   ]
  },
  {
   "cell_type": "markdown",
   "metadata": {},
   "source": [
    "### Visualisation générale des données - Exemple de la France"
   ]
  },
  {
   "cell_type": "code",
   "execution_count": 6,
   "metadata": {},
   "outputs": [
    {
     "output_type": "display_data",
     "data": {
      "application/vnd.plotly.v1+json": {
       "config": {
        "plotlyServerURL": "https://plot.ly"
       },
       "data": [
        {
         "legendgroup": "FRA",
         "line": {
          "color": "#636efa",
          "dash": "solid"
         },
         "mode": "lines",
         "name": "FRA",
         "orientation": "v",
         "showlegend": true,
         "type": "scatter",
         "x": [
          "1961-Q1",
          "1961-Q2",
          "1961-Q3",
          "1961-Q4",
          "1962-Q1",
          "1962-Q2",
          "1962-Q3",
          "1962-Q4",
          "1963-Q1",
          "1963-Q2",
          "1963-Q3",
          "1963-Q4",
          "1964-Q1",
          "1964-Q2",
          "1964-Q3",
          "1964-Q4",
          "1965-Q1",
          "1965-Q2",
          "1965-Q3",
          "1965-Q4",
          "1966-Q1",
          "1966-Q2",
          "1966-Q3",
          "1966-Q4",
          "1967-Q1",
          "1967-Q2",
          "1967-Q3",
          "1967-Q4",
          "1968-Q1",
          "1968-Q2",
          "1968-Q3",
          "1968-Q4",
          "1969-Q1",
          "1969-Q2",
          "1969-Q3",
          "1969-Q4",
          "1970-Q1",
          "1970-Q2",
          "1970-Q3",
          "1970-Q4",
          "1971-Q1",
          "1971-Q2",
          "1971-Q3",
          "1971-Q4",
          "1972-Q1",
          "1972-Q2",
          "1972-Q3",
          "1972-Q4",
          "1973-Q1",
          "1973-Q2",
          "1973-Q3",
          "1973-Q4",
          "1974-Q1",
          "1974-Q2",
          "1974-Q3",
          "1974-Q4",
          "1975-Q1",
          "1975-Q2",
          "1975-Q3",
          "1975-Q4",
          "1976-Q1",
          "1976-Q2",
          "1976-Q3",
          "1976-Q4",
          "1977-Q1",
          "1977-Q2",
          "1977-Q3",
          "1977-Q4",
          "1978-Q1",
          "1978-Q2",
          "1978-Q3",
          "1978-Q4",
          "1979-Q1",
          "1979-Q2",
          "1979-Q3",
          "1979-Q4",
          "1980-Q1",
          "1980-Q2",
          "1980-Q3",
          "1980-Q4",
          "1981-Q1",
          "1981-Q2",
          "1981-Q3",
          "1981-Q4",
          "1982-Q1",
          "1982-Q2",
          "1982-Q3",
          "1982-Q4",
          "1983-Q1",
          "1983-Q2",
          "1983-Q3",
          "1983-Q4",
          "1984-Q1",
          "1984-Q2",
          "1984-Q3",
          "1984-Q4",
          "1985-Q1",
          "1985-Q2",
          "1985-Q3",
          "1985-Q4",
          "1986-Q1",
          "1986-Q2",
          "1986-Q3",
          "1986-Q4",
          "1987-Q1",
          "1987-Q2",
          "1987-Q3",
          "1987-Q4",
          "1988-Q1",
          "1988-Q2",
          "1988-Q3",
          "1988-Q4",
          "1989-Q1",
          "1989-Q2",
          "1989-Q3",
          "1989-Q4",
          "1990-Q1",
          "1990-Q2",
          "1990-Q3",
          "1990-Q4",
          "1991-Q1",
          "1991-Q2",
          "1991-Q3",
          "1991-Q4",
          "1992-Q1",
          "1992-Q2",
          "1992-Q3",
          "1992-Q4",
          "1993-Q1",
          "1993-Q2",
          "1993-Q3",
          "1993-Q4",
          "1994-Q1",
          "1994-Q2",
          "1994-Q3",
          "1994-Q4",
          "1995-Q1",
          "1995-Q2",
          "1995-Q3",
          "1995-Q4",
          "1996-Q1",
          "1996-Q2",
          "1996-Q3",
          "1996-Q4",
          "1997-Q1",
          "1997-Q2",
          "1997-Q3",
          "1997-Q4",
          "1998-Q1",
          "1998-Q2",
          "1998-Q3",
          "1998-Q4",
          "1999-Q1",
          "1999-Q2",
          "1999-Q3",
          "1999-Q4",
          "2000-Q1",
          "2000-Q2",
          "2000-Q3",
          "2000-Q4",
          "2001-Q1",
          "2001-Q2",
          "2001-Q3",
          "2001-Q4",
          "2002-Q1",
          "2002-Q2",
          "2002-Q3",
          "2002-Q4",
          "2003-Q1",
          "2003-Q2",
          "2003-Q3",
          "2003-Q4",
          "2004-Q1",
          "2004-Q2",
          "2004-Q3",
          "2004-Q4",
          "2005-Q1",
          "2005-Q2",
          "2005-Q3",
          "2005-Q4",
          "2006-Q1",
          "2006-Q2",
          "2006-Q3",
          "2006-Q4",
          "2007-Q1",
          "2007-Q2",
          "2007-Q3",
          "2007-Q4",
          "2008-Q1",
          "2008-Q2",
          "2008-Q3",
          "2008-Q4",
          "2009-Q1",
          "2009-Q2",
          "2009-Q3",
          "2009-Q4",
          "2010-Q1",
          "2010-Q2",
          "2010-Q3",
          "2010-Q4",
          "2011-Q1",
          "2011-Q2",
          "2011-Q3",
          "2011-Q4",
          "2012-Q1",
          "2012-Q2",
          "2012-Q3",
          "2012-Q4",
          "2013-Q1",
          "2013-Q2",
          "2013-Q3",
          "2013-Q4",
          "2014-Q1",
          "2014-Q2",
          "2014-Q3",
          "2014-Q4",
          "2015-Q1",
          "2015-Q2",
          "2015-Q3",
          "2015-Q4",
          "2016-Q1",
          "2016-Q2",
          "2016-Q3",
          "2016-Q4",
          "2017-Q1",
          "2017-Q2",
          "2017-Q3",
          "2017-Q4",
          "2018-Q1",
          "2018-Q2",
          "2018-Q3",
          "2018-Q4",
          "2019-Q1",
          "2019-Q2",
          "2019-Q3",
          "2019-Q4",
          "2020-Q1",
          "2020-Q2"
         ],
         "xaxis": "x",
         "y": [
          1.608373557,
          1.6003292669999998,
          1.59221853,
          1.699021949,
          1.8002794659999999,
          1.615682117,
          1.4397853280000001,
          1.251796955,
          -1.665799419,
          4.465475468999999,
          3.298802433,
          0.311286644,
          1.882604425,
          0.958920529,
          1.226254685,
          0.9037387020000001,
          0.221994873,
          2.4880954180000003,
          1.445018966,
          1.392214333,
          0.9022056490000001,
          1.512521587,
          1.140425464,
          0.545946646,
          1.7136395640000002,
          1.094577234,
          0.956190097,
          0.9747274570000001,
          2.9096183989999997,
          -7.580956365,
          11.373243098,
          1.0245901640000001,
          0.183745183,
          2.453037118,
          0.94538382,
          0.790251715,
          1.911374445,
          1.262038455,
          1.3772386090000002,
          1.5701860630000002,
          0.129083296,
          1.821986785,
          1.630601407,
          0.8567810659999999,
          1.309796145,
          0.38417729,
          0.887960161,
          1.660236385,
          1.99228223,
          1.0803821690000002,
          0.8588451429999999,
          1.278319135,
          0.9592870309999999,
          0.500642661,
          0.9434509259999999,
          -1.510183316,
          -0.44990402,
          0.25275012199999997,
          0.38735228,
          1.3503354630000002,
          1.467728516,
          1.192260978,
          0.472915631,
          1.2458403059999998,
          1.105448055,
          0.43479612100000004,
          0.45844305700000004,
          0.22825248199999998,
          1.389138596,
          1.662617478,
          -0.087958221,
          0.8511108159999999,
          0.8600550090000001,
          0.955992372,
          1.1430987609999999,
          0.190206929,
          1.116517351,
          -0.5350646139999999,
          -0.021780467,
          -0.12241214199999999,
          0.41858097899999996,
          0.548541246,
          0.739628231,
          0.5006977770000001,
          0.833161169,
          0.631127801,
          0.089118825,
          0.579590285,
          0.441637241,
          0.023107115,
          0.171613197,
          0.41709633700000004,
          0.7214732620000001,
          0.300659301,
          0.508906679,
          0.251064682,
          0.18951907899999998,
          0.678147127,
          0.6735792690000001,
          0.282483186,
          0.447218415,
          1.087388063,
          0.401474984,
          0.236258363,
          0.25893095,
          1.116150039,
          0.810534195,
          1.6001551669999998,
          1.264437073,
          0.667772256,
          1.322588763,
          0.946937974,
          1.38290903,
          0.7483344479999999,
          1.176061999,
          1.2908387270000001,
          0.67805226,
          0.352351635,
          0.444708937,
          0.248300675,
          -0.038684096,
          0.338616831,
          0.325957114,
          0.41940418399999996,
          1.026452213,
          -0.081839736,
          0.040031604,
          -0.21508376899999998,
          -0.623952933,
          0.068760453,
          0.155997549,
          0.210851432,
          0.751494133,
          1.063868862,
          0.58409547,
          0.879314305,
          0.553895433,
          0.419303214,
          0.15962258099999999,
          0.178846528,
          0.564873314,
          0.246073496,
          0.566333112,
          0.140225556,
          0.342238328,
          1.1335159320000001,
          0.720329013,
          1.142969775,
          0.847840941,
          0.9129990840000001,
          0.707809785,
          0.732413278,
          0.554870674,
          0.851004658,
          1.174275327,
          1.369153614,
          0.9740085140000001,
          0.95618078,
          0.6257748000000001,
          0.802965468,
          0.587242323,
          0.119994226,
          0.329642428,
          -0.022947684,
          0.36295694100000003,
          0.48454355200000004,
          0.36989768799999995,
          0.014198856000000001,
          0.165488541,
          -0.22825496,
          0.6882397090000001,
          0.7540788909999999,
          0.931520592,
          0.646688285,
          0.28762768899999996,
          0.727059369,
          0.269049893,
          0.17753113899999998,
          0.512995203,
          0.752251307,
          0.7764680909999999,
          1.00671741,
          0.004327421,
          0.811356234,
          0.729318893,
          0.779629303,
          0.331542045,
          0.227193925,
          0.44934414100000003,
          -0.470547494,
          -0.31295105,
          -1.3970712319999998,
          -1.660368405,
          -0.10442501,
          0.15581134800000002,
          0.7266473609999999,
          0.385233564,
          0.513172402,
          0.583099452,
          0.6980607059999999,
          1.039832398,
          0.041811423,
          0.284958738,
          0.233191638,
          0.11585208,
          -0.191793648,
          0.191216523,
          -0.071923297,
          -0.023047132999999997,
          0.676268073,
          0.009196576,
          0.493191406,
          0.138379485,
          0.074409063,
          0.42506485,
          0.128594094,
          0.525391125,
          -0.03594914,
          0.346526802,
          0.11247580900000001,
          0.703652642,
          -0.247920928,
          0.231724299,
          0.58143563,
          0.816627663,
          0.710581771,
          0.700569168,
          0.847812212,
          0.143630169,
          0.190998158,
          0.369879119,
          0.6530642170000001,
          0.545805518,
          0.245805777,
          0.15469301400000002,
          -0.196374882,
          -5.871507832000001,
          -13.811839450999999
         ],
         "yaxis": "y"
        },
        {
         "legendgroup": "moyenne mobille 4",
         "line": {
          "color": "#EF553B",
          "dash": "solid"
         },
         "mode": "lines",
         "name": "moyenne mobille 4",
         "orientation": "v",
         "showlegend": true,
         "type": "scatter",
         "x": [
          "1961-Q3",
          "1961-Q4",
          "1962-Q1",
          "1962-Q2",
          "1962-Q3",
          "1962-Q4",
          "1963-Q1",
          "1963-Q2",
          "1963-Q3",
          "1963-Q4",
          "1964-Q1",
          "1964-Q2",
          "1964-Q3",
          "1964-Q4",
          "1965-Q1",
          "1965-Q2",
          "1965-Q3",
          "1965-Q4",
          "1966-Q1",
          "1966-Q2",
          "1966-Q3",
          "1966-Q4",
          "1967-Q1",
          "1967-Q2",
          "1967-Q3",
          "1967-Q4",
          "1968-Q1",
          "1968-Q2",
          "1968-Q3",
          "1968-Q4",
          "1969-Q1",
          "1969-Q2",
          "1969-Q3",
          "1969-Q4",
          "1970-Q1",
          "1970-Q2",
          "1970-Q3",
          "1970-Q4",
          "1971-Q1",
          "1971-Q2",
          "1971-Q3",
          "1971-Q4",
          "1972-Q1",
          "1972-Q2",
          "1972-Q3",
          "1972-Q4",
          "1973-Q1",
          "1973-Q2",
          "1973-Q3",
          "1973-Q4",
          "1974-Q1",
          "1974-Q2",
          "1974-Q3",
          "1974-Q4",
          "1975-Q1",
          "1975-Q2",
          "1975-Q3",
          "1975-Q4",
          "1976-Q1",
          "1976-Q2",
          "1976-Q3",
          "1976-Q4",
          "1977-Q1",
          "1977-Q2",
          "1977-Q3",
          "1977-Q4",
          "1978-Q1",
          "1978-Q2",
          "1978-Q3",
          "1978-Q4",
          "1979-Q1",
          "1979-Q2",
          "1979-Q3",
          "1979-Q4",
          "1980-Q1",
          "1980-Q2",
          "1980-Q3",
          "1980-Q4",
          "1981-Q1",
          "1981-Q2",
          "1981-Q3",
          "1981-Q4",
          "1982-Q1",
          "1982-Q2",
          "1982-Q3",
          "1982-Q4",
          "1983-Q1",
          "1983-Q2",
          "1983-Q3",
          "1983-Q4",
          "1984-Q1",
          "1984-Q2",
          "1984-Q3",
          "1984-Q4",
          "1985-Q1",
          "1985-Q2",
          "1985-Q3",
          "1985-Q4",
          "1986-Q1",
          "1986-Q2",
          "1986-Q3",
          "1986-Q4",
          "1987-Q1",
          "1987-Q2",
          "1987-Q3",
          "1987-Q4",
          "1988-Q1",
          "1988-Q2",
          "1988-Q3",
          "1988-Q4",
          "1989-Q1",
          "1989-Q2",
          "1989-Q3",
          "1989-Q4",
          "1990-Q1",
          "1990-Q2",
          "1990-Q3",
          "1990-Q4",
          "1991-Q1",
          "1991-Q2",
          "1991-Q3",
          "1991-Q4",
          "1992-Q1",
          "1992-Q2",
          "1992-Q3",
          "1992-Q4",
          "1993-Q1",
          "1993-Q2",
          "1993-Q3",
          "1993-Q4",
          "1994-Q1",
          "1994-Q2",
          "1994-Q3",
          "1994-Q4",
          "1995-Q1",
          "1995-Q2",
          "1995-Q3",
          "1995-Q4",
          "1996-Q1",
          "1996-Q2",
          "1996-Q3",
          "1996-Q4",
          "1997-Q1",
          "1997-Q2",
          "1997-Q3",
          "1997-Q4",
          "1998-Q1",
          "1998-Q2",
          "1998-Q3",
          "1998-Q4",
          "1999-Q1",
          "1999-Q2",
          "1999-Q3",
          "1999-Q4",
          "2000-Q1",
          "2000-Q2",
          "2000-Q3",
          "2000-Q4",
          "2001-Q1",
          "2001-Q2",
          "2001-Q3",
          "2001-Q4",
          "2002-Q1",
          "2002-Q2",
          "2002-Q3",
          "2002-Q4",
          "2003-Q1",
          "2003-Q2",
          "2003-Q3",
          "2003-Q4",
          "2004-Q1",
          "2004-Q2",
          "2004-Q3",
          "2004-Q4",
          "2005-Q1",
          "2005-Q2",
          "2005-Q3",
          "2005-Q4",
          "2006-Q1",
          "2006-Q2",
          "2006-Q3",
          "2006-Q4",
          "2007-Q1",
          "2007-Q2",
          "2007-Q3",
          "2007-Q4",
          "2008-Q1",
          "2008-Q2",
          "2008-Q3",
          "2008-Q4",
          "2009-Q1",
          "2009-Q2",
          "2009-Q3",
          "2009-Q4",
          "2010-Q1",
          "2010-Q2",
          "2010-Q3",
          "2010-Q4",
          "2011-Q1",
          "2011-Q2",
          "2011-Q3",
          "2011-Q4",
          "2012-Q1",
          "2012-Q2",
          "2012-Q3",
          "2012-Q4",
          "2013-Q1",
          "2013-Q2",
          "2013-Q3",
          "2013-Q4",
          "2014-Q1",
          "2014-Q2",
          "2014-Q3",
          "2014-Q4",
          "2015-Q1",
          "2015-Q2",
          "2015-Q3",
          "2015-Q4",
          "2016-Q1",
          "2016-Q2",
          "2016-Q3",
          "2016-Q4",
          "2017-Q1",
          "2017-Q2",
          "2017-Q3",
          "2017-Q4",
          "2018-Q1",
          "2018-Q2",
          "2018-Q3",
          "2018-Q4",
          "2019-Q1",
          "2019-Q2",
          "2019-Q3",
          "2019-Q4"
         ],
         "xaxis": "x",
         "y": [
          1.648974064375,
          1.67488140925,
          1.65774636525,
          1.58278909075,
          1.0936261058749999,
          1.01659041425,
          1.6051917213749998,
          1.720005070625,
          2.04599176225,
          2.05122287525,
          1.35383503925,
          1.168823078,
          1.03530339125,
          1.018874058375,
          1.237366454625,
          1.325771443625,
          1.4718572445000002,
          1.434936862625,
          1.2749159460000001,
          1.1310582973749999,
          1.126704075875,
          1.175890271125,
          1.100617806125,
          1.131185986625,
          1.334280942375,
          0.399336596875,
          0.617026522125,
          1.925390985625,
          1.5908896719999999,
          2.504404705375,
          2.455171481,
          1.122396765125,
          1.3090581167500002,
          1.376136941625,
          1.281243957375,
          1.4327175994999999,
          1.3074229993750002,
          1.154630147,
          1.256294038,
          1.198788763125,
          1.257202244625,
          1.225065163875,
          0.9525088212499999,
          0.960110580375,
          1.145853255875,
          1.3181896263750001,
          1.401575859,
          1.3501968255,
          1.173332769375,
          0.971740931,
          0.9098492153750001,
          0.5718621318749999,
          0.047150444125000024,
          -0.15998500462500004,
          -0.26048390275000005,
          0.02756861387500001,
          0.62483752825,
          0.98198045225,
          1.1101147281250001,
          1.1077482523750002,
          1.049401300125,
          0.909433135375,
          0.8129409565,
          0.68393340675,
          0.592196246375,
          0.781135233625,
          0.8663127435,
          0.8758698755,
          0.887591718875,
          0.7331281322500001,
          0.7986821167499999,
          0.869951253625,
          0.8193960604999999,
          0.66507173,
          0.33307970324999997,
          0.148392415875,
          0.022072985499999993,
          0.0702816715,
          0.30090849124999997,
          0.473973318375,
          0.603684582,
          0.665830425125,
          0.5948400687500001,
          0.5233879564999999,
          0.48430902900000006,
          0.35936595225,
          0.293675163,
          0.283675216,
          0.29834297512499997,
          0.36801650100000005,
          0.4448722095,
          0.466279937875,
          0.379031708125,
          0.35972341350000003,
          0.4274934655,
          0.4520048522500001,
          0.48814458225,
          0.5715121162500001,
          0.5886541976249999,
          0.548863059125,
          0.519549023125,
          0.49960833699999996,
          0.5543359853750001,
          0.7759554872499999,
          1.072130853125,
          1.1417718956249998,
          1.14973149375,
          1.1320861656249999,
          1.065243011125,
          1.09012227975,
          1.0818767082499998,
          1.106548456875,
          1.06142895475,
          0.923824006875,
          0.7829070225000001,
          0.56117063325,
          0.34126133225000005,
          0.24995243725000002,
          0.233391608875,
          0.239935569625,
          0.394465546875,
          0.475050514625,
          0.386752755,
          0.271701072125,
          -0.013910565249999993,
          -0.20138618487499998,
          -0.168065418125,
          -0.10032777487499998,
          0.12484500850000001,
          0.421164442875,
          0.599065234125,
          0.7361353333749999,
          0.794993355,
          0.6897228115,
          0.556092994375,
          0.415475411125,
          0.329289174125,
          0.3090076945,
          0.338192796125,
          0.384203991,
          0.35154699625,
          0.43464792750000003,
          0.564827719625,
          0.709420234625,
          0.897963588625,
          0.93359930925,
          0.90446979975,
          0.8515853341249999,
          0.763644488625,
          0.7192739020000001,
          0.7698327915,
          0.9077335262499999,
          1.03971829825,
          1.1052575435,
          1.049841992875,
          0.91050590875,
          0.7913866166250001,
          0.6385175235,
          0.49697765775,
          0.35672196725000005,
          0.2254471505,
          0.24298014350000002,
          0.29358071675,
          0.30325594175000004,
          0.28321570925,
          0.16943234525,
          0.12012528387500002,
          0.252403040875,
          0.4406420516249999,
          0.645763963625,
          0.7050553667499999,
          0.6516014239999999,
          0.565415146375,
          0.42396166575,
          0.39348796175,
          0.42480789324999996,
          0.49138416025,
          0.658459718875,
          0.69852453,
          0.642329173125,
          0.6438236392500001,
          0.609543976125,
          0.62205979075,
          0.5899413301249999,
          0.48192419749999993,
          0.290655253875,
          0.053821517375,
          -0.22977326412499996,
          -0.696520477,
          -0.9144692347500001,
          -0.8101086245,
          -0.486048500625,
          0.03511656962499998,
          0.36801649225,
          0.49862718175,
          0.548464862875,
          0.62671638525,
          0.6496211171249999,
          0.5534334055,
          0.45805718275,
          0.2844510095,
          0.139752835875,
          0.09883442512499999,
          0.048977281375,
          -0.006524487124999999,
          0.084620826375,
          0.170376048125,
          0.218262892625,
          0.30908055775,
          0.25402650875,
          0.23077766675,
          0.23718653699999998,
          0.239988328,
          0.27457000762499995,
          0.25095797624999994,
          0.23912593462499998,
          0.259393838625,
          0.25518005475,
          0.21433326837500002,
          0.258602933125,
          0.33134478837500003,
          0.46527950337499996,
          0.6436979493749999,
          0.7356006307499999,
          0.68477301675,
          0.5357003783750001,
          0.429416170625,
          0.363736415125,
          0.389664834375,
          0.446787705375,
          0.42674039462499996,
          0.293662244125,
          -0.614681812,
          -3.17405163425
         ],
         "yaxis": "y"
        },
        {
         "legendgroup": "moyenne-mobille 5",
         "line": {
          "color": "#00cc96",
          "dash": "solid"
         },
         "mode": "lines",
         "name": "moyenne-mobille 5",
         "orientation": "v",
         "showlegend": true,
         "type": "scatter",
         "x": [
          "1961-Q3",
          "1961-Q4",
          "1962-Q1",
          "1962-Q2",
          "1962-Q3",
          "1962-Q4",
          "1963-Q1",
          "1963-Q2",
          "1963-Q3",
          "1963-Q4",
          "1964-Q1",
          "1964-Q2",
          "1964-Q3",
          "1964-Q4",
          "1965-Q1",
          "1965-Q2",
          "1965-Q3",
          "1965-Q4",
          "1966-Q1",
          "1966-Q2",
          "1966-Q3",
          "1966-Q4",
          "1967-Q1",
          "1967-Q2",
          "1967-Q3",
          "1967-Q4",
          "1968-Q1",
          "1968-Q2",
          "1968-Q3",
          "1968-Q4",
          "1969-Q1",
          "1969-Q2",
          "1969-Q3",
          "1969-Q4",
          "1970-Q1",
          "1970-Q2",
          "1970-Q3",
          "1970-Q4",
          "1971-Q1",
          "1971-Q2",
          "1971-Q3",
          "1971-Q4",
          "1972-Q1",
          "1972-Q2",
          "1972-Q3",
          "1972-Q4",
          "1973-Q1",
          "1973-Q2",
          "1973-Q3",
          "1973-Q4",
          "1974-Q1",
          "1974-Q2",
          "1974-Q3",
          "1974-Q4",
          "1975-Q1",
          "1975-Q2",
          "1975-Q3",
          "1975-Q4",
          "1976-Q1",
          "1976-Q2",
          "1976-Q3",
          "1976-Q4",
          "1977-Q1",
          "1977-Q2",
          "1977-Q3",
          "1977-Q4",
          "1978-Q1",
          "1978-Q2",
          "1978-Q3",
          "1978-Q4",
          "1979-Q1",
          "1979-Q2",
          "1979-Q3",
          "1979-Q4",
          "1980-Q1",
          "1980-Q2",
          "1980-Q3",
          "1980-Q4",
          "1981-Q1",
          "1981-Q2",
          "1981-Q3",
          "1981-Q4",
          "1982-Q1",
          "1982-Q2",
          "1982-Q3",
          "1982-Q4",
          "1983-Q1",
          "1983-Q2",
          "1983-Q3",
          "1983-Q4",
          "1984-Q1",
          "1984-Q2",
          "1984-Q3",
          "1984-Q4",
          "1985-Q1",
          "1985-Q2",
          "1985-Q3",
          "1985-Q4",
          "1986-Q1",
          "1986-Q2",
          "1986-Q3",
          "1986-Q4",
          "1987-Q1",
          "1987-Q2",
          "1987-Q3",
          "1987-Q4",
          "1988-Q1",
          "1988-Q2",
          "1988-Q3",
          "1988-Q4",
          "1989-Q1",
          "1989-Q2",
          "1989-Q3",
          "1989-Q4",
          "1990-Q1",
          "1990-Q2",
          "1990-Q3",
          "1990-Q4",
          "1991-Q1",
          "1991-Q2",
          "1991-Q3",
          "1991-Q4",
          "1992-Q1",
          "1992-Q2",
          "1992-Q3",
          "1992-Q4",
          "1993-Q1",
          "1993-Q2",
          "1993-Q3",
          "1993-Q4",
          "1994-Q1",
          "1994-Q2",
          "1994-Q3",
          "1994-Q4",
          "1995-Q1",
          "1995-Q2",
          "1995-Q3",
          "1995-Q4",
          "1996-Q1",
          "1996-Q2",
          "1996-Q3",
          "1996-Q4",
          "1997-Q1",
          "1997-Q2",
          "1997-Q3",
          "1997-Q4",
          "1998-Q1",
          "1998-Q2",
          "1998-Q3",
          "1998-Q4",
          "1999-Q1",
          "1999-Q2",
          "1999-Q3",
          "1999-Q4",
          "2000-Q1",
          "2000-Q2",
          "2000-Q3",
          "2000-Q4",
          "2001-Q1",
          "2001-Q2",
          "2001-Q3",
          "2001-Q4",
          "2002-Q1",
          "2002-Q2",
          "2002-Q3",
          "2002-Q4",
          "2003-Q1",
          "2003-Q2",
          "2003-Q3",
          "2003-Q4",
          "2004-Q1",
          "2004-Q2",
          "2004-Q3",
          "2004-Q4",
          "2005-Q1",
          "2005-Q2",
          "2005-Q3",
          "2005-Q4",
          "2006-Q1",
          "2006-Q2",
          "2006-Q3",
          "2006-Q4",
          "2007-Q1",
          "2007-Q2",
          "2007-Q3",
          "2007-Q4",
          "2008-Q1",
          "2008-Q2",
          "2008-Q3",
          "2008-Q4",
          "2009-Q1",
          "2009-Q2",
          "2009-Q3",
          "2009-Q4",
          "2010-Q1",
          "2010-Q2",
          "2010-Q3",
          "2010-Q4",
          "2011-Q1",
          "2011-Q2",
          "2011-Q3",
          "2011-Q4",
          "2012-Q1",
          "2012-Q2",
          "2012-Q3",
          "2012-Q4",
          "2013-Q1",
          "2013-Q2",
          "2013-Q3",
          "2013-Q4",
          "2014-Q1",
          "2014-Q2",
          "2014-Q3",
          "2014-Q4",
          "2015-Q1",
          "2015-Q2",
          "2015-Q3",
          "2015-Q4",
          "2016-Q1",
          "2016-Q2",
          "2016-Q3",
          "2016-Q4",
          "2017-Q1",
          "2017-Q2",
          "2017-Q3",
          "2017-Q4",
          "2018-Q1",
          "2018-Q2",
          "2018-Q3",
          "2018-Q4",
          "2019-Q1",
          "2019-Q2",
          "2019-Q3",
          "2019-Q4"
         ],
         "xaxis": "x",
         "y": [
          1.6600445538,
          1.6615062658,
          1.629397478,
          1.561313163,
          0.8883488894000001,
          1.42138809,
          1.7580121532,
          1.5323124163999997,
          1.6584739104000001,
          2.1834179,
          1.5355737432,
          1.056560997,
          1.0387026428000001,
          1.1598008414,
          1.2570205288,
          1.2902124584,
          1.2899058478,
          1.5480111906,
          1.2784771998,
          1.0986627358,
          1.162947782,
          1.201422099,
          1.090155801,
          1.0570161996,
          1.5297505502,
          -0.3291686356,
          1.7265645372000002,
          1.7402445506,
          1.5820480957999998,
          1.4907318395999998,
          3.1959998765999997,
          1.0794016000000002,
          1.2567584562,
          1.4724171106,
          1.2572574088,
          1.3822178574000001,
          1.2499841736000001,
          1.2321066416000002,
          1.305819232,
          1.2017277234,
          1.1496497398,
          1.2006685386,
          1.0138632138,
          1.0197902094,
          1.2468904422,
          1.201007647,
          1.2959412175999998,
          1.3740130124,
          1.2338231415999998,
          0.9354952277999999,
          0.9081089792,
          0.4343032874,
          0.08865865639999994,
          -0.05264872540000002,
          -0.07530680160000003,
          0.0060701058000000255,
          0.6016524722,
          0.9300854718,
          0.9741185736,
          1.1458161788,
          1.0968386972,
          0.8902522182,
          0.743488634,
          0.6945560042,
          0.7232156622000001,
          0.8346495468,
          0.7300986784000001,
          0.8086322302,
          0.9349927356000001,
          0.8483634908000001,
          0.7444597474,
          0.8000927774,
          0.8531740844,
          0.5741501598,
          0.378595592,
          0.1254934114,
          0.17116822140000001,
          0.0575730004,
          0.31251156939999997,
          0.41700721820000003,
          0.6081218804,
          0.6506312448,
          0.5587467606000001,
          0.5267391714,
          0.5149270642,
          0.3529162534,
          0.2610133326,
          0.326608835,
          0.3549854304,
          0.32678984240000003,
          0.42394975520000006,
          0.43984005219999994,
          0.39432460059999996,
          0.38565937359999997,
          0.46024336720000003,
          0.4149586686,
          0.4541894152,
          0.6337632120000001,
          0.5784287833999999,
          0.49096460220000004,
          0.48625415499999997,
          0.6200404797999999,
          0.5646697061999999,
          0.8044057428,
          1.0100414848,
          1.091809746,
          1.1330974908,
          1.1603782465999999,
          1.1169290191999999,
          1.0137084941999999,
          1.1153664427999999,
          1.1090164355999999,
          1.0552392928,
          0.8491278138,
          0.7884027116,
          0.6028504468,
          0.33694588220000005,
          0.26905879639999997,
          0.2637798922,
          0.2587189416,
          0.4143492492,
          0.40571812119999995,
          0.34600107579999995,
          0.23779289919999996,
          0.02912147580000002,
          -0.16241687619999998,
          -0.11484941919999998,
          -0.08068545359999998,
          0.11263012680000002,
          0.4501944858,
          0.5532614892,
          0.6979248404,
          0.7665336406,
          0.7000954568,
          0.5192462005999999,
          0.43819641219999994,
          0.375308214,
          0.3137438266,
          0.3431498062,
          0.3392704012,
          0.3719487612,
          0.48567728480000005,
          0.5805283882,
          0.6958557208,
          0.8373787978000001,
          0.951530949,
          0.8663897196000001,
          0.8688065725999999,
          0.7511867524,
          0.7518194958,
          0.8040747444,
          0.9363435102000001,
          0.9846625574000001,
          1.0649245786000001,
          1.019878607,
          0.9456166352,
          0.789234377,
          0.6184315194000001,
          0.493123849,
          0.3633793522,
          0.2753776468,
          0.2548378926,
          0.30481858500000003,
          0.2417298706,
          0.2794171156,
          0.1611747354,
          0.2019139668,
          0.2787502074,
          0.46221455460000005,
          0.5584545033999999,
          0.6616310331999999,
          0.6693949652,
          0.5723891656,
          0.42159127500000004,
          0.3948526586,
          0.4877773822,
          0.4976591266,
          0.64519263,
          0.6105518864,
          0.6702240926,
          0.6656376098,
          0.6662698522,
          0.5312347792000001,
          0.57580808,
          0.5034056614,
          0.263432384,
          0.0449163134,
          -0.30080634199999995,
          -0.6783188079999999,
          -0.7890726381999998,
          -0.6638008698,
          -0.4558811875999999,
          -0.09942022840000002,
          0.33528793300000004,
          0.4727928254,
          0.5812426969999999,
          0.6438797044,
          0.5751952762,
          0.5295525433999999,
          0.4595709806,
          0.3431292554,
          0.09680404620000001,
          0.1266850662,
          0.0553086592,
          0.004060904999999998,
          0.1161441036,
          0.15634214840000002,
          0.216737125,
          0.25879768140000003,
          0.2782889206,
          0.228048276,
          0.2519277796,
          0.25836772339999997,
          0.2235019984,
          0.2779255462,
          0.215407738,
          0.3304194476,
          0.175757037,
          0.22929172479999999,
          0.27627349040000004,
          0.41710386120000004,
          0.41848968699999994,
          0.6081877062000001,
          0.7314052888,
          0.6438441966,
          0.5187182956,
          0.4505777652000001,
          0.441076775,
          0.38067543620000005,
          0.40111055779999993,
          0.39384952900000003,
          0.28059872880000003,
          -1.0243156810000003,
          -3.8958446748
         ],
         "yaxis": "y"
        }
       ],
       "layout": {
        "height": 400,
        "hovermode": "x unified",
        "legend": {
         "title": {
          "text": "Pays"
         },
         "tracegroupgap": 0
        },
        "margin": {
         "t": 60
        },
        "template": {
         "data": {
          "bar": [
           {
            "error_x": {
             "color": "#2a3f5f"
            },
            "error_y": {
             "color": "#2a3f5f"
            },
            "marker": {
             "line": {
              "color": "#E5ECF6",
              "width": 0.5
             }
            },
            "type": "bar"
           }
          ],
          "barpolar": [
           {
            "marker": {
             "line": {
              "color": "#E5ECF6",
              "width": 0.5
             }
            },
            "type": "barpolar"
           }
          ],
          "carpet": [
           {
            "aaxis": {
             "endlinecolor": "#2a3f5f",
             "gridcolor": "white",
             "linecolor": "white",
             "minorgridcolor": "white",
             "startlinecolor": "#2a3f5f"
            },
            "baxis": {
             "endlinecolor": "#2a3f5f",
             "gridcolor": "white",
             "linecolor": "white",
             "minorgridcolor": "white",
             "startlinecolor": "#2a3f5f"
            },
            "type": "carpet"
           }
          ],
          "choropleth": [
           {
            "colorbar": {
             "outlinewidth": 0,
             "ticks": ""
            },
            "type": "choropleth"
           }
          ],
          "contour": [
           {
            "colorbar": {
             "outlinewidth": 0,
             "ticks": ""
            },
            "colorscale": [
             [
              0,
              "#0d0887"
             ],
             [
              0.1111111111111111,
              "#46039f"
             ],
             [
              0.2222222222222222,
              "#7201a8"
             ],
             [
              0.3333333333333333,
              "#9c179e"
             ],
             [
              0.4444444444444444,
              "#bd3786"
             ],
             [
              0.5555555555555556,
              "#d8576b"
             ],
             [
              0.6666666666666666,
              "#ed7953"
             ],
             [
              0.7777777777777778,
              "#fb9f3a"
             ],
             [
              0.8888888888888888,
              "#fdca26"
             ],
             [
              1,
              "#f0f921"
             ]
            ],
            "type": "contour"
           }
          ],
          "contourcarpet": [
           {
            "colorbar": {
             "outlinewidth": 0,
             "ticks": ""
            },
            "type": "contourcarpet"
           }
          ],
          "heatmap": [
           {
            "colorbar": {
             "outlinewidth": 0,
             "ticks": ""
            },
            "colorscale": [
             [
              0,
              "#0d0887"
             ],
             [
              0.1111111111111111,
              "#46039f"
             ],
             [
              0.2222222222222222,
              "#7201a8"
             ],
             [
              0.3333333333333333,
              "#9c179e"
             ],
             [
              0.4444444444444444,
              "#bd3786"
             ],
             [
              0.5555555555555556,
              "#d8576b"
             ],
             [
              0.6666666666666666,
              "#ed7953"
             ],
             [
              0.7777777777777778,
              "#fb9f3a"
             ],
             [
              0.8888888888888888,
              "#fdca26"
             ],
             [
              1,
              "#f0f921"
             ]
            ],
            "type": "heatmap"
           }
          ],
          "heatmapgl": [
           {
            "colorbar": {
             "outlinewidth": 0,
             "ticks": ""
            },
            "colorscale": [
             [
              0,
              "#0d0887"
             ],
             [
              0.1111111111111111,
              "#46039f"
             ],
             [
              0.2222222222222222,
              "#7201a8"
             ],
             [
              0.3333333333333333,
              "#9c179e"
             ],
             [
              0.4444444444444444,
              "#bd3786"
             ],
             [
              0.5555555555555556,
              "#d8576b"
             ],
             [
              0.6666666666666666,
              "#ed7953"
             ],
             [
              0.7777777777777778,
              "#fb9f3a"
             ],
             [
              0.8888888888888888,
              "#fdca26"
             ],
             [
              1,
              "#f0f921"
             ]
            ],
            "type": "heatmapgl"
           }
          ],
          "histogram": [
           {
            "marker": {
             "colorbar": {
              "outlinewidth": 0,
              "ticks": ""
             }
            },
            "type": "histogram"
           }
          ],
          "histogram2d": [
           {
            "colorbar": {
             "outlinewidth": 0,
             "ticks": ""
            },
            "colorscale": [
             [
              0,
              "#0d0887"
             ],
             [
              0.1111111111111111,
              "#46039f"
             ],
             [
              0.2222222222222222,
              "#7201a8"
             ],
             [
              0.3333333333333333,
              "#9c179e"
             ],
             [
              0.4444444444444444,
              "#bd3786"
             ],
             [
              0.5555555555555556,
              "#d8576b"
             ],
             [
              0.6666666666666666,
              "#ed7953"
             ],
             [
              0.7777777777777778,
              "#fb9f3a"
             ],
             [
              0.8888888888888888,
              "#fdca26"
             ],
             [
              1,
              "#f0f921"
             ]
            ],
            "type": "histogram2d"
           }
          ],
          "histogram2dcontour": [
           {
            "colorbar": {
             "outlinewidth": 0,
             "ticks": ""
            },
            "colorscale": [
             [
              0,
              "#0d0887"
             ],
             [
              0.1111111111111111,
              "#46039f"
             ],
             [
              0.2222222222222222,
              "#7201a8"
             ],
             [
              0.3333333333333333,
              "#9c179e"
             ],
             [
              0.4444444444444444,
              "#bd3786"
             ],
             [
              0.5555555555555556,
              "#d8576b"
             ],
             [
              0.6666666666666666,
              "#ed7953"
             ],
             [
              0.7777777777777778,
              "#fb9f3a"
             ],
             [
              0.8888888888888888,
              "#fdca26"
             ],
             [
              1,
              "#f0f921"
             ]
            ],
            "type": "histogram2dcontour"
           }
          ],
          "mesh3d": [
           {
            "colorbar": {
             "outlinewidth": 0,
             "ticks": ""
            },
            "type": "mesh3d"
           }
          ],
          "parcoords": [
           {
            "line": {
             "colorbar": {
              "outlinewidth": 0,
              "ticks": ""
             }
            },
            "type": "parcoords"
           }
          ],
          "pie": [
           {
            "automargin": true,
            "type": "pie"
           }
          ],
          "scatter": [
           {
            "marker": {
             "colorbar": {
              "outlinewidth": 0,
              "ticks": ""
             }
            },
            "type": "scatter"
           }
          ],
          "scatter3d": [
           {
            "line": {
             "colorbar": {
              "outlinewidth": 0,
              "ticks": ""
             }
            },
            "marker": {
             "colorbar": {
              "outlinewidth": 0,
              "ticks": ""
             }
            },
            "type": "scatter3d"
           }
          ],
          "scattercarpet": [
           {
            "marker": {
             "colorbar": {
              "outlinewidth": 0,
              "ticks": ""
             }
            },
            "type": "scattercarpet"
           }
          ],
          "scattergeo": [
           {
            "marker": {
             "colorbar": {
              "outlinewidth": 0,
              "ticks": ""
             }
            },
            "type": "scattergeo"
           }
          ],
          "scattergl": [
           {
            "marker": {
             "colorbar": {
              "outlinewidth": 0,
              "ticks": ""
             }
            },
            "type": "scattergl"
           }
          ],
          "scattermapbox": [
           {
            "marker": {
             "colorbar": {
              "outlinewidth": 0,
              "ticks": ""
             }
            },
            "type": "scattermapbox"
           }
          ],
          "scatterpolar": [
           {
            "marker": {
             "colorbar": {
              "outlinewidth": 0,
              "ticks": ""
             }
            },
            "type": "scatterpolar"
           }
          ],
          "scatterpolargl": [
           {
            "marker": {
             "colorbar": {
              "outlinewidth": 0,
              "ticks": ""
             }
            },
            "type": "scatterpolargl"
           }
          ],
          "scatterternary": [
           {
            "marker": {
             "colorbar": {
              "outlinewidth": 0,
              "ticks": ""
             }
            },
            "type": "scatterternary"
           }
          ],
          "surface": [
           {
            "colorbar": {
             "outlinewidth": 0,
             "ticks": ""
            },
            "colorscale": [
             [
              0,
              "#0d0887"
             ],
             [
              0.1111111111111111,
              "#46039f"
             ],
             [
              0.2222222222222222,
              "#7201a8"
             ],
             [
              0.3333333333333333,
              "#9c179e"
             ],
             [
              0.4444444444444444,
              "#bd3786"
             ],
             [
              0.5555555555555556,
              "#d8576b"
             ],
             [
              0.6666666666666666,
              "#ed7953"
             ],
             [
              0.7777777777777778,
              "#fb9f3a"
             ],
             [
              0.8888888888888888,
              "#fdca26"
             ],
             [
              1,
              "#f0f921"
             ]
            ],
            "type": "surface"
           }
          ],
          "table": [
           {
            "cells": {
             "fill": {
              "color": "#EBF0F8"
             },
             "line": {
              "color": "white"
             }
            },
            "header": {
             "fill": {
              "color": "#C8D4E3"
             },
             "line": {
              "color": "white"
             }
            },
            "type": "table"
           }
          ]
         },
         "layout": {
          "annotationdefaults": {
           "arrowcolor": "#2a3f5f",
           "arrowhead": 0,
           "arrowwidth": 1
          },
          "coloraxis": {
           "colorbar": {
            "outlinewidth": 0,
            "ticks": ""
           }
          },
          "colorscale": {
           "diverging": [
            [
             0,
             "#8e0152"
            ],
            [
             0.1,
             "#c51b7d"
            ],
            [
             0.2,
             "#de77ae"
            ],
            [
             0.3,
             "#f1b6da"
            ],
            [
             0.4,
             "#fde0ef"
            ],
            [
             0.5,
             "#f7f7f7"
            ],
            [
             0.6,
             "#e6f5d0"
            ],
            [
             0.7,
             "#b8e186"
            ],
            [
             0.8,
             "#7fbc41"
            ],
            [
             0.9,
             "#4d9221"
            ],
            [
             1,
             "#276419"
            ]
           ],
           "sequential": [
            [
             0,
             "#0d0887"
            ],
            [
             0.1111111111111111,
             "#46039f"
            ],
            [
             0.2222222222222222,
             "#7201a8"
            ],
            [
             0.3333333333333333,
             "#9c179e"
            ],
            [
             0.4444444444444444,
             "#bd3786"
            ],
            [
             0.5555555555555556,
             "#d8576b"
            ],
            [
             0.6666666666666666,
             "#ed7953"
            ],
            [
             0.7777777777777778,
             "#fb9f3a"
            ],
            [
             0.8888888888888888,
             "#fdca26"
            ],
            [
             1,
             "#f0f921"
            ]
           ],
           "sequentialminus": [
            [
             0,
             "#0d0887"
            ],
            [
             0.1111111111111111,
             "#46039f"
            ],
            [
             0.2222222222222222,
             "#7201a8"
            ],
            [
             0.3333333333333333,
             "#9c179e"
            ],
            [
             0.4444444444444444,
             "#bd3786"
            ],
            [
             0.5555555555555556,
             "#d8576b"
            ],
            [
             0.6666666666666666,
             "#ed7953"
            ],
            [
             0.7777777777777778,
             "#fb9f3a"
            ],
            [
             0.8888888888888888,
             "#fdca26"
            ],
            [
             1,
             "#f0f921"
            ]
           ]
          },
          "colorway": [
           "#636efa",
           "#EF553B",
           "#00cc96",
           "#ab63fa",
           "#FFA15A",
           "#19d3f3",
           "#FF6692",
           "#B6E880",
           "#FF97FF",
           "#FECB52"
          ],
          "font": {
           "color": "#2a3f5f"
          },
          "geo": {
           "bgcolor": "white",
           "lakecolor": "white",
           "landcolor": "#E5ECF6",
           "showlakes": true,
           "showland": true,
           "subunitcolor": "white"
          },
          "hoverlabel": {
           "align": "left"
          },
          "hovermode": "closest",
          "mapbox": {
           "style": "light"
          },
          "paper_bgcolor": "white",
          "plot_bgcolor": "#E5ECF6",
          "polar": {
           "angularaxis": {
            "gridcolor": "white",
            "linecolor": "white",
            "ticks": ""
           },
           "bgcolor": "#E5ECF6",
           "radialaxis": {
            "gridcolor": "white",
            "linecolor": "white",
            "ticks": ""
           }
          },
          "scene": {
           "xaxis": {
            "backgroundcolor": "#E5ECF6",
            "gridcolor": "white",
            "gridwidth": 2,
            "linecolor": "white",
            "showbackground": true,
            "ticks": "",
            "zerolinecolor": "white"
           },
           "yaxis": {
            "backgroundcolor": "#E5ECF6",
            "gridcolor": "white",
            "gridwidth": 2,
            "linecolor": "white",
            "showbackground": true,
            "ticks": "",
            "zerolinecolor": "white"
           },
           "zaxis": {
            "backgroundcolor": "#E5ECF6",
            "gridcolor": "white",
            "gridwidth": 2,
            "linecolor": "white",
            "showbackground": true,
            "ticks": "",
            "zerolinecolor": "white"
           }
          },
          "shapedefaults": {
           "line": {
            "color": "#2a3f5f"
           }
          },
          "ternary": {
           "aaxis": {
            "gridcolor": "white",
            "linecolor": "white",
            "ticks": ""
           },
           "baxis": {
            "gridcolor": "white",
            "linecolor": "white",
            "ticks": ""
           },
           "bgcolor": "#E5ECF6",
           "caxis": {
            "gridcolor": "white",
            "linecolor": "white",
            "ticks": ""
           }
          },
          "title": {
           "x": 0.05
          },
          "xaxis": {
           "automargin": true,
           "gridcolor": "white",
           "linecolor": "white",
           "ticks": "",
           "title": {
            "standoff": 15
           },
           "zerolinecolor": "white",
           "zerolinewidth": 2
          },
          "yaxis": {
           "automargin": true,
           "gridcolor": "white",
           "linecolor": "white",
           "ticks": "",
           "title": {
            "standoff": 15
           },
           "zerolinecolor": "white",
           "zerolinewidth": 2
          }
         }
        },
        "title": {
         "text": "Evolution du pib au cours du temps",
         "x": 0.5,
         "xanchor": "center",
         "y": 0.9,
         "yanchor": "top"
        },
        "width": 1500,
        "xaxis": {
         "anchor": "y",
         "domain": [
          0,
          1
         ],
         "title": {
          "text": "Trimestre"
         }
        },
        "yaxis": {
         "anchor": "x",
         "domain": [
          0,
          1
         ],
         "title": {
          "text": "Evoltion du PIB (%)"
         }
        }
       }
      }
     },
     "metadata": {}
    }
   ],
   "source": [
    "a = tr.affichageMoyenneM(data, 'FRA', [4, 5] , 'Q')"
   ]
  },
  {
   "cell_type": "code",
   "execution_count": 7,
   "metadata": {},
   "outputs": [
    {
     "output_type": "display_data",
     "data": {
      "application/vnd.plotly.v1+json": {
       "config": {
        "plotlyServerURL": "https://plot.ly"
       },
       "data": [
        {
         "legendgroup": "GBR",
         "line": {
          "color": "#636efa",
          "dash": "solid"
         },
         "mode": "lines",
         "name": "GBR",
         "orientation": "v",
         "showlegend": true,
         "type": "scatter",
         "x": [
          "1964-Q1",
          "1964-Q2",
          "1964-Q3",
          "1964-Q4",
          "1965-Q1",
          "1965-Q2",
          "1965-Q3",
          "1965-Q4",
          "1966-Q1",
          "1966-Q2",
          "1966-Q3",
          "1966-Q4",
          "1967-Q1",
          "1967-Q2",
          "1967-Q3",
          "1967-Q4",
          "1968-Q1",
          "1968-Q2",
          "1968-Q3",
          "1968-Q4",
          "1969-Q1",
          "1969-Q2",
          "1969-Q3",
          "1969-Q4",
          "1970-Q1",
          "1970-Q2",
          "1970-Q3",
          "1970-Q4",
          "1971-Q1",
          "1971-Q2",
          "1971-Q3",
          "1971-Q4",
          "1972-Q1",
          "1972-Q2",
          "1972-Q3",
          "1972-Q4",
          "1973-Q1",
          "1973-Q2",
          "1973-Q3",
          "1973-Q4",
          "1974-Q1",
          "1974-Q2",
          "1974-Q3",
          "1974-Q4"
         ],
         "xaxis": "x",
         "y": [
          0.588959,
          1.7706490000000001,
          0.39764099999999997,
          1.505971,
          -0.272873,
          0.080591,
          0.8351350000000001,
          0.614402,
          0.169625,
          0.590446,
          0.31064200000000003,
          -0.417973,
          1.3558459999999999,
          1.407982,
          0.45786099999999996,
          0.492113,
          3.662662,
          -0.392583,
          1.98668,
          0.381215,
          -0.22785999999999998,
          0.779284,
          0.556446,
          0.48570100000000005,
          -0.639716,
          2.370874,
          0.996965,
          0.867691,
          -0.571098,
          1.7785240000000002,
          1.7599619999999998,
          0.37489,
          0.14385499999999998,
          2.6511099999999996,
          0.282468,
          1.568581,
          4.976542,
          0.128452,
          -0.948361,
          -0.431068,
          -2.738482,
          1.439335,
          0.641794,
          -1.444962
         ],
         "yaxis": "y"
        },
        {
         "legendgroup": "ESP",
         "line": {
          "color": "#EF553B",
          "dash": "solid"
         },
         "mode": "lines",
         "name": "ESP",
         "orientation": "v",
         "showlegend": true,
         "type": "scatter",
         "x": [
          "1964-Q1",
          "1964-Q2",
          "1964-Q3",
          "1964-Q4",
          "1965-Q1",
          "1965-Q2",
          "1965-Q3",
          "1965-Q4",
          "1966-Q1",
          "1966-Q2",
          "1966-Q3",
          "1966-Q4",
          "1967-Q1",
          "1967-Q2",
          "1967-Q3",
          "1967-Q4",
          "1968-Q1",
          "1968-Q2",
          "1968-Q3",
          "1968-Q4",
          "1969-Q1",
          "1969-Q2",
          "1969-Q3",
          "1969-Q4",
          "1970-Q1",
          "1970-Q2",
          "1970-Q3",
          "1970-Q4",
          "1971-Q1",
          "1971-Q2",
          "1971-Q3",
          "1971-Q4",
          "1972-Q1",
          "1972-Q2",
          "1972-Q3",
          "1972-Q4",
          "1973-Q1",
          "1973-Q2",
          "1973-Q3",
          "1973-Q4",
          "1974-Q1",
          "1974-Q2",
          "1974-Q3",
          "1974-Q4"
         ],
         "xaxis": "x",
         "y": [
          0.565485,
          1.6480139999999999,
          0.751293,
          2.1741599999999996,
          2.1281630000000002,
          0.42662,
          1.018033,
          2.989391,
          -0.6805180000000001,
          5.1675260000000005,
          1.983691,
          0.270897,
          0.275493,
          1.201427,
          1.715238,
          -0.7191029999999999,
          2.133945,
          3.034023,
          0.806297,
          4.053407,
          3.548014,
          -0.33786,
          1.8654529999999998,
          1.119478,
          1.8696650000000001,
          0.158864,
          0.511083,
          0.789028,
          0.780918,
          1.950593,
          1.8399020000000001,
          2.013559,
          1.6225120000000002,
          2.362836,
          2.196884,
          1.9810240000000001,
          1.840655,
          1.782786,
          1.6516540000000002,
          1.645425,
          1.698325,
          1.26359,
          0.7056859999999999,
          0.066164
         ],
         "yaxis": "y"
        },
        {
         "legendgroup": "BEL",
         "line": {
          "color": "#00cc96",
          "dash": "solid"
         },
         "mode": "lines",
         "name": "BEL",
         "orientation": "v",
         "showlegend": true,
         "type": "scatter",
         "x": [
          "1964-Q1",
          "1964-Q2",
          "1964-Q3",
          "1964-Q4",
          "1965-Q1",
          "1965-Q2",
          "1965-Q3",
          "1965-Q4",
          "1966-Q1",
          "1966-Q2",
          "1966-Q3",
          "1966-Q4",
          "1967-Q1",
          "1967-Q2",
          "1967-Q3",
          "1967-Q4",
          "1968-Q1",
          "1968-Q2",
          "1968-Q3",
          "1968-Q4",
          "1969-Q1",
          "1969-Q2",
          "1969-Q3",
          "1969-Q4",
          "1970-Q1",
          "1970-Q2",
          "1970-Q3",
          "1970-Q4",
          "1971-Q1",
          "1971-Q2",
          "1971-Q3",
          "1971-Q4",
          "1972-Q1",
          "1972-Q2",
          "1972-Q3",
          "1972-Q4",
          "1973-Q1",
          "1973-Q2",
          "1973-Q3",
          "1973-Q4",
          "1974-Q1",
          "1974-Q2",
          "1974-Q3",
          "1974-Q4"
         ],
         "xaxis": "x",
         "y": [
          1.987689,
          1.943286,
          1.3443379999999998,
          0.747162,
          0.7334649999999999,
          0.724151,
          0.736433,
          0.745097,
          0.732866,
          0.722237,
          0.867684,
          1.01504,
          0.9953200000000001,
          0.9787530000000001,
          0.954276,
          0.923408,
          0.908429,
          0.89686,
          1.331804,
          1.7704490000000002,
          1.7302540000000002,
          1.6822290000000002,
          1.672652,
          1.654096,
          1.606117,
          1.5753489999999999,
          1.176552,
          0.75863,
          0.742862,
          0.735078,
          1.041139,
          1.354626,
          1.3281100000000001,
          1.304745,
          1.448761,
          1.593274,
          1.557743,
          1.5190709999999998,
          1.426949,
          1.324668,
          1.282729,
          1.269725,
          0.16585,
          -1.000723
         ],
         "yaxis": "y"
        },
        {
         "legendgroup": "DEU",
         "line": {
          "color": "#ab63fa",
          "dash": "solid"
         },
         "mode": "lines",
         "name": "DEU",
         "orientation": "v",
         "showlegend": true,
         "type": "scatter",
         "x": [
          "1964-Q1",
          "1964-Q2",
          "1964-Q3",
          "1964-Q4",
          "1965-Q1",
          "1965-Q2",
          "1965-Q3",
          "1965-Q4",
          "1966-Q1",
          "1966-Q2",
          "1966-Q3",
          "1966-Q4",
          "1967-Q1",
          "1967-Q2",
          "1967-Q3",
          "1967-Q4",
          "1968-Q1",
          "1968-Q2",
          "1968-Q3",
          "1968-Q4",
          "1969-Q1",
          "1969-Q2",
          "1969-Q3",
          "1969-Q4",
          "1970-Q1",
          "1970-Q2",
          "1970-Q3",
          "1970-Q4",
          "1971-Q1",
          "1971-Q2",
          "1971-Q3",
          "1971-Q4",
          "1972-Q1",
          "1972-Q2",
          "1972-Q3",
          "1972-Q4",
          "1973-Q1",
          "1973-Q2",
          "1973-Q3",
          "1973-Q4",
          "1974-Q1",
          "1974-Q2",
          "1974-Q3",
          "1974-Q4"
         ],
         "xaxis": "x",
         "y": [
          1.3759074830000002,
          1.2217754920000001,
          1.039093942,
          1.360335531,
          1.63656424,
          1.578070865,
          0.665875619,
          0.598451791,
          1.81592055,
          0.307484942,
          0.12267693699999999,
          -1.56154042,
          -0.49772895,
          -0.31257933,
          2.414591866,
          1.285930408,
          1.170303986,
          0.7772795220000001,
          2.195194304,
          1.509433962,
          2.516442665,
          1.283087905,
          2.148261051,
          1.536742829,
          -1.595662151,
          3.975817699,
          1.8678362919999998,
          0.8476066440000001,
          -1.921102523,
          2.098640828,
          1.730037193,
          -0.084182124,
          0.10110270699999999,
          1.6329990890000001,
          2.335604225,
          1.553896295,
          1.3827236790000001,
          0.738877462,
          0.327712697,
          0.24886882,
          0.845690319,
          -0.076938462,
          0.00000435,
          -1.262707459
         ],
         "yaxis": "y"
        },
        {
         "legendgroup": "FRA",
         "line": {
          "color": "#FFA15A",
          "dash": "solid"
         },
         "mode": "lines",
         "name": "FRA",
         "orientation": "v",
         "showlegend": true,
         "type": "scatter",
         "x": [
          "1964-Q1",
          "1964-Q2",
          "1964-Q3",
          "1964-Q4",
          "1965-Q1",
          "1965-Q2",
          "1965-Q3",
          "1965-Q4",
          "1966-Q1",
          "1966-Q2",
          "1966-Q3",
          "1966-Q4",
          "1967-Q1",
          "1967-Q2",
          "1967-Q3",
          "1967-Q4",
          "1968-Q1",
          "1968-Q2",
          "1968-Q3",
          "1968-Q4",
          "1969-Q1",
          "1969-Q2",
          "1969-Q3",
          "1969-Q4",
          "1970-Q1",
          "1970-Q2",
          "1970-Q3",
          "1970-Q4",
          "1971-Q1",
          "1971-Q2",
          "1971-Q3",
          "1971-Q4",
          "1972-Q1",
          "1972-Q2",
          "1972-Q3",
          "1972-Q4",
          "1973-Q1",
          "1973-Q2",
          "1973-Q3",
          "1973-Q4",
          "1974-Q1",
          "1974-Q2",
          "1974-Q3",
          "1974-Q4"
         ],
         "xaxis": "x",
         "y": [
          1.882604425,
          0.958920529,
          1.226254685,
          0.9037387020000001,
          0.221994873,
          2.4880954180000003,
          1.445018966,
          1.392214333,
          0.9022056490000001,
          1.512521587,
          1.140425464,
          0.545946646,
          1.7136395640000002,
          1.094577234,
          0.956190097,
          0.9747274570000001,
          2.9096183989999997,
          -7.580956365,
          11.373243098,
          1.0245901640000001,
          0.183745183,
          2.453037118,
          0.94538382,
          0.790251715,
          1.911374445,
          1.262038455,
          1.3772386090000002,
          1.5701860630000002,
          0.129083296,
          1.821986785,
          1.630601407,
          0.8567810659999999,
          1.309796145,
          0.38417729,
          0.887960161,
          1.660236385,
          1.99228223,
          1.0803821690000002,
          0.8588451429999999,
          1.278319135,
          0.9592870309999999,
          0.500642661,
          0.9434509259999999,
          -1.510183316
         ],
         "yaxis": "y"
        }
       ],
       "layout": {
        "height": 400,
        "hovermode": "x unified",
        "legend": {
         "title": {
          "text": "Pays"
         },
         "tracegroupgap": 0
        },
        "margin": {
         "t": 60
        },
        "template": {
         "data": {
          "bar": [
           {
            "error_x": {
             "color": "#2a3f5f"
            },
            "error_y": {
             "color": "#2a3f5f"
            },
            "marker": {
             "line": {
              "color": "#E5ECF6",
              "width": 0.5
             }
            },
            "type": "bar"
           }
          ],
          "barpolar": [
           {
            "marker": {
             "line": {
              "color": "#E5ECF6",
              "width": 0.5
             }
            },
            "type": "barpolar"
           }
          ],
          "carpet": [
           {
            "aaxis": {
             "endlinecolor": "#2a3f5f",
             "gridcolor": "white",
             "linecolor": "white",
             "minorgridcolor": "white",
             "startlinecolor": "#2a3f5f"
            },
            "baxis": {
             "endlinecolor": "#2a3f5f",
             "gridcolor": "white",
             "linecolor": "white",
             "minorgridcolor": "white",
             "startlinecolor": "#2a3f5f"
            },
            "type": "carpet"
           }
          ],
          "choropleth": [
           {
            "colorbar": {
             "outlinewidth": 0,
             "ticks": ""
            },
            "type": "choropleth"
           }
          ],
          "contour": [
           {
            "colorbar": {
             "outlinewidth": 0,
             "ticks": ""
            },
            "colorscale": [
             [
              0,
              "#0d0887"
             ],
             [
              0.1111111111111111,
              "#46039f"
             ],
             [
              0.2222222222222222,
              "#7201a8"
             ],
             [
              0.3333333333333333,
              "#9c179e"
             ],
             [
              0.4444444444444444,
              "#bd3786"
             ],
             [
              0.5555555555555556,
              "#d8576b"
             ],
             [
              0.6666666666666666,
              "#ed7953"
             ],
             [
              0.7777777777777778,
              "#fb9f3a"
             ],
             [
              0.8888888888888888,
              "#fdca26"
             ],
             [
              1,
              "#f0f921"
             ]
            ],
            "type": "contour"
           }
          ],
          "contourcarpet": [
           {
            "colorbar": {
             "outlinewidth": 0,
             "ticks": ""
            },
            "type": "contourcarpet"
           }
          ],
          "heatmap": [
           {
            "colorbar": {
             "outlinewidth": 0,
             "ticks": ""
            },
            "colorscale": [
             [
              0,
              "#0d0887"
             ],
             [
              0.1111111111111111,
              "#46039f"
             ],
             [
              0.2222222222222222,
              "#7201a8"
             ],
             [
              0.3333333333333333,
              "#9c179e"
             ],
             [
              0.4444444444444444,
              "#bd3786"
             ],
             [
              0.5555555555555556,
              "#d8576b"
             ],
             [
              0.6666666666666666,
              "#ed7953"
             ],
             [
              0.7777777777777778,
              "#fb9f3a"
             ],
             [
              0.8888888888888888,
              "#fdca26"
             ],
             [
              1,
              "#f0f921"
             ]
            ],
            "type": "heatmap"
           }
          ],
          "heatmapgl": [
           {
            "colorbar": {
             "outlinewidth": 0,
             "ticks": ""
            },
            "colorscale": [
             [
              0,
              "#0d0887"
             ],
             [
              0.1111111111111111,
              "#46039f"
             ],
             [
              0.2222222222222222,
              "#7201a8"
             ],
             [
              0.3333333333333333,
              "#9c179e"
             ],
             [
              0.4444444444444444,
              "#bd3786"
             ],
             [
              0.5555555555555556,
              "#d8576b"
             ],
             [
              0.6666666666666666,
              "#ed7953"
             ],
             [
              0.7777777777777778,
              "#fb9f3a"
             ],
             [
              0.8888888888888888,
              "#fdca26"
             ],
             [
              1,
              "#f0f921"
             ]
            ],
            "type": "heatmapgl"
           }
          ],
          "histogram": [
           {
            "marker": {
             "colorbar": {
              "outlinewidth": 0,
              "ticks": ""
             }
            },
            "type": "histogram"
           }
          ],
          "histogram2d": [
           {
            "colorbar": {
             "outlinewidth": 0,
             "ticks": ""
            },
            "colorscale": [
             [
              0,
              "#0d0887"
             ],
             [
              0.1111111111111111,
              "#46039f"
             ],
             [
              0.2222222222222222,
              "#7201a8"
             ],
             [
              0.3333333333333333,
              "#9c179e"
             ],
             [
              0.4444444444444444,
              "#bd3786"
             ],
             [
              0.5555555555555556,
              "#d8576b"
             ],
             [
              0.6666666666666666,
              "#ed7953"
             ],
             [
              0.7777777777777778,
              "#fb9f3a"
             ],
             [
              0.8888888888888888,
              "#fdca26"
             ],
             [
              1,
              "#f0f921"
             ]
            ],
            "type": "histogram2d"
           }
          ],
          "histogram2dcontour": [
           {
            "colorbar": {
             "outlinewidth": 0,
             "ticks": ""
            },
            "colorscale": [
             [
              0,
              "#0d0887"
             ],
             [
              0.1111111111111111,
              "#46039f"
             ],
             [
              0.2222222222222222,
              "#7201a8"
             ],
             [
              0.3333333333333333,
              "#9c179e"
             ],
             [
              0.4444444444444444,
              "#bd3786"
             ],
             [
              0.5555555555555556,
              "#d8576b"
             ],
             [
              0.6666666666666666,
              "#ed7953"
             ],
             [
              0.7777777777777778,
              "#fb9f3a"
             ],
             [
              0.8888888888888888,
              "#fdca26"
             ],
             [
              1,
              "#f0f921"
             ]
            ],
            "type": "histogram2dcontour"
           }
          ],
          "mesh3d": [
           {
            "colorbar": {
             "outlinewidth": 0,
             "ticks": ""
            },
            "type": "mesh3d"
           }
          ],
          "parcoords": [
           {
            "line": {
             "colorbar": {
              "outlinewidth": 0,
              "ticks": ""
             }
            },
            "type": "parcoords"
           }
          ],
          "pie": [
           {
            "automargin": true,
            "type": "pie"
           }
          ],
          "scatter": [
           {
            "marker": {
             "colorbar": {
              "outlinewidth": 0,
              "ticks": ""
             }
            },
            "type": "scatter"
           }
          ],
          "scatter3d": [
           {
            "line": {
             "colorbar": {
              "outlinewidth": 0,
              "ticks": ""
             }
            },
            "marker": {
             "colorbar": {
              "outlinewidth": 0,
              "ticks": ""
             }
            },
            "type": "scatter3d"
           }
          ],
          "scattercarpet": [
           {
            "marker": {
             "colorbar": {
              "outlinewidth": 0,
              "ticks": ""
             }
            },
            "type": "scattercarpet"
           }
          ],
          "scattergeo": [
           {
            "marker": {
             "colorbar": {
              "outlinewidth": 0,
              "ticks": ""
             }
            },
            "type": "scattergeo"
           }
          ],
          "scattergl": [
           {
            "marker": {
             "colorbar": {
              "outlinewidth": 0,
              "ticks": ""
             }
            },
            "type": "scattergl"
           }
          ],
          "scattermapbox": [
           {
            "marker": {
             "colorbar": {
              "outlinewidth": 0,
              "ticks": ""
             }
            },
            "type": "scattermapbox"
           }
          ],
          "scatterpolar": [
           {
            "marker": {
             "colorbar": {
              "outlinewidth": 0,
              "ticks": ""
             }
            },
            "type": "scatterpolar"
           }
          ],
          "scatterpolargl": [
           {
            "marker": {
             "colorbar": {
              "outlinewidth": 0,
              "ticks": ""
             }
            },
            "type": "scatterpolargl"
           }
          ],
          "scatterternary": [
           {
            "marker": {
             "colorbar": {
              "outlinewidth": 0,
              "ticks": ""
             }
            },
            "type": "scatterternary"
           }
          ],
          "surface": [
           {
            "colorbar": {
             "outlinewidth": 0,
             "ticks": ""
            },
            "colorscale": [
             [
              0,
              "#0d0887"
             ],
             [
              0.1111111111111111,
              "#46039f"
             ],
             [
              0.2222222222222222,
              "#7201a8"
             ],
             [
              0.3333333333333333,
              "#9c179e"
             ],
             [
              0.4444444444444444,
              "#bd3786"
             ],
             [
              0.5555555555555556,
              "#d8576b"
             ],
             [
              0.6666666666666666,
              "#ed7953"
             ],
             [
              0.7777777777777778,
              "#fb9f3a"
             ],
             [
              0.8888888888888888,
              "#fdca26"
             ],
             [
              1,
              "#f0f921"
             ]
            ],
            "type": "surface"
           }
          ],
          "table": [
           {
            "cells": {
             "fill": {
              "color": "#EBF0F8"
             },
             "line": {
              "color": "white"
             }
            },
            "header": {
             "fill": {
              "color": "#C8D4E3"
             },
             "line": {
              "color": "white"
             }
            },
            "type": "table"
           }
          ]
         },
         "layout": {
          "annotationdefaults": {
           "arrowcolor": "#2a3f5f",
           "arrowhead": 0,
           "arrowwidth": 1
          },
          "coloraxis": {
           "colorbar": {
            "outlinewidth": 0,
            "ticks": ""
           }
          },
          "colorscale": {
           "diverging": [
            [
             0,
             "#8e0152"
            ],
            [
             0.1,
             "#c51b7d"
            ],
            [
             0.2,
             "#de77ae"
            ],
            [
             0.3,
             "#f1b6da"
            ],
            [
             0.4,
             "#fde0ef"
            ],
            [
             0.5,
             "#f7f7f7"
            ],
            [
             0.6,
             "#e6f5d0"
            ],
            [
             0.7,
             "#b8e186"
            ],
            [
             0.8,
             "#7fbc41"
            ],
            [
             0.9,
             "#4d9221"
            ],
            [
             1,
             "#276419"
            ]
           ],
           "sequential": [
            [
             0,
             "#0d0887"
            ],
            [
             0.1111111111111111,
             "#46039f"
            ],
            [
             0.2222222222222222,
             "#7201a8"
            ],
            [
             0.3333333333333333,
             "#9c179e"
            ],
            [
             0.4444444444444444,
             "#bd3786"
            ],
            [
             0.5555555555555556,
             "#d8576b"
            ],
            [
             0.6666666666666666,
             "#ed7953"
            ],
            [
             0.7777777777777778,
             "#fb9f3a"
            ],
            [
             0.8888888888888888,
             "#fdca26"
            ],
            [
             1,
             "#f0f921"
            ]
           ],
           "sequentialminus": [
            [
             0,
             "#0d0887"
            ],
            [
             0.1111111111111111,
             "#46039f"
            ],
            [
             0.2222222222222222,
             "#7201a8"
            ],
            [
             0.3333333333333333,
             "#9c179e"
            ],
            [
             0.4444444444444444,
             "#bd3786"
            ],
            [
             0.5555555555555556,
             "#d8576b"
            ],
            [
             0.6666666666666666,
             "#ed7953"
            ],
            [
             0.7777777777777778,
             "#fb9f3a"
            ],
            [
             0.8888888888888888,
             "#fdca26"
            ],
            [
             1,
             "#f0f921"
            ]
           ]
          },
          "colorway": [
           "#636efa",
           "#EF553B",
           "#00cc96",
           "#ab63fa",
           "#FFA15A",
           "#19d3f3",
           "#FF6692",
           "#B6E880",
           "#FF97FF",
           "#FECB52"
          ],
          "font": {
           "color": "#2a3f5f"
          },
          "geo": {
           "bgcolor": "white",
           "lakecolor": "white",
           "landcolor": "#E5ECF6",
           "showlakes": true,
           "showland": true,
           "subunitcolor": "white"
          },
          "hoverlabel": {
           "align": "left"
          },
          "hovermode": "closest",
          "mapbox": {
           "style": "light"
          },
          "paper_bgcolor": "white",
          "plot_bgcolor": "#E5ECF6",
          "polar": {
           "angularaxis": {
            "gridcolor": "white",
            "linecolor": "white",
            "ticks": ""
           },
           "bgcolor": "#E5ECF6",
           "radialaxis": {
            "gridcolor": "white",
            "linecolor": "white",
            "ticks": ""
           }
          },
          "scene": {
           "xaxis": {
            "backgroundcolor": "#E5ECF6",
            "gridcolor": "white",
            "gridwidth": 2,
            "linecolor": "white",
            "showbackground": true,
            "ticks": "",
            "zerolinecolor": "white"
           },
           "yaxis": {
            "backgroundcolor": "#E5ECF6",
            "gridcolor": "white",
            "gridwidth": 2,
            "linecolor": "white",
            "showbackground": true,
            "ticks": "",
            "zerolinecolor": "white"
           },
           "zaxis": {
            "backgroundcolor": "#E5ECF6",
            "gridcolor": "white",
            "gridwidth": 2,
            "linecolor": "white",
            "showbackground": true,
            "ticks": "",
            "zerolinecolor": "white"
           }
          },
          "shapedefaults": {
           "line": {
            "color": "#2a3f5f"
           }
          },
          "ternary": {
           "aaxis": {
            "gridcolor": "white",
            "linecolor": "white",
            "ticks": ""
           },
           "baxis": {
            "gridcolor": "white",
            "linecolor": "white",
            "ticks": ""
           },
           "bgcolor": "#E5ECF6",
           "caxis": {
            "gridcolor": "white",
            "linecolor": "white",
            "ticks": ""
           }
          },
          "title": {
           "x": 0.05
          },
          "xaxis": {
           "automargin": true,
           "gridcolor": "white",
           "linecolor": "white",
           "ticks": "",
           "title": {
            "standoff": 15
           },
           "zerolinecolor": "white",
           "zerolinewidth": 2
          },
          "yaxis": {
           "automargin": true,
           "gridcolor": "white",
           "linecolor": "white",
           "ticks": "",
           "title": {
            "standoff": 15
           },
           "zerolinecolor": "white",
           "zerolinewidth": 2
          }
         }
        },
        "title": {
         "text": "Evolution du PIB au cours du temps - Mai 1968",
         "x": 0.5,
         "xanchor": "center",
         "y": 0.9,
         "yanchor": "top"
        },
        "width": 1500,
        "xaxis": {
         "anchor": "y",
         "domain": [
          0,
          1
         ],
         "title": {
          "text": "Trimestre"
         }
        },
        "yaxis": {
         "anchor": "x",
         "domain": [
          0,
          1
         ],
         "title": {
          "text": "Evolution du PIB (%)"
         }
        }
       }
      }
     },
     "metadata": {}
    }
   ],
   "source": [
    "g = Graph(data)\n",
    "\n",
    "list_dates = g.get_list_dates_q(1964, 1975)#Dates pour lesquelles nous souhaitons afficher les données\n",
    "df_fra = g.filter_df(['FRA', 'DEU', 'BEL', 'ESP', 'GBR'], 'Q', 'TOT', 'PC_CHGPP', list_dates)#Filtrage du df principal en fonction des éléments désirés\n",
    "\n",
    "g.line_graph(df_fra, x='TIME', y='Value', x_label=\"Trimestre\", y_label=\"Evolution du PIB (%)\", title='Evolution du PIB au cours du temps - Mai 1968')#Création des courbes\n",
    "g.display()"
   ]
  },
  {
   "cell_type": "markdown",
   "metadata": {},
   "source": [
    "En temps normal, les fluctuations du PIB sont relativement faibles. Cependant, celui-ci peut être influencé par des évènements politiques, économiques, sanitaires majeurs.\n",
    "\n",
    "Ce phénomène est facilement vérifiable en étudiant l'évolution du PIB aux dates d'évènements ayant marqué l'histoire.\n",
    "Ainsi, en prenant l'exemple des évènements de Mai 1968, considérés comme les plus importants mouvements sociaux de l'histoire de France du XXe siècle nous remarquons une forte décroissance du PIB durant le 2e trimestre de 1968.\n",
    "\n",
    "Nous pouvons vérifier la corrélation de cette décroissance en comparant l'évolution du PIB français avec celui d'autres nations voisines de la France.\n",
    "\n",
    "Avec une décroissance de près de -7.6% pour la France et, dans le même temps, une croissance allant jusqu'à 3% pour des pays frontaliers de la France, la corrélation avec les manifestations et grèves de Mai 1968 ne laisse aucun doute."
   ]
  },
  {
   "cell_type": "code",
   "execution_count": 8,
   "metadata": {},
   "outputs": [
    {
     "output_type": "display_data",
     "data": {
      "application/vnd.plotly.v1+json": {
       "config": {
        "plotlyServerURL": "https://plot.ly"
       },
       "data": [
        {
         "legendgroup": "GBR",
         "line": {
          "color": "#636efa",
          "dash": "solid"
         },
         "mode": "lines",
         "name": "GBR",
         "orientation": "v",
         "showlegend": true,
         "type": "scatter",
         "x": [
          "2005-Q1",
          "2005-Q2",
          "2005-Q3",
          "2005-Q4",
          "2006-Q1",
          "2006-Q2",
          "2006-Q3",
          "2006-Q4",
          "2007-Q1",
          "2007-Q2",
          "2007-Q3",
          "2007-Q4",
          "2008-Q1",
          "2008-Q2",
          "2008-Q3",
          "2008-Q4",
          "2009-Q1",
          "2009-Q2",
          "2009-Q3",
          "2009-Q4",
          "2010-Q1",
          "2010-Q2",
          "2010-Q3",
          "2010-Q4",
          "2011-Q1",
          "2011-Q2",
          "2011-Q3",
          "2011-Q4",
          "2012-Q1",
          "2012-Q2",
          "2012-Q3",
          "2012-Q4",
          "2013-Q1",
          "2013-Q2",
          "2013-Q3",
          "2013-Q4",
          "2014-Q1",
          "2014-Q2",
          "2014-Q3",
          "2014-Q4"
         ],
         "xaxis": "x",
         "y": [
          0.840414,
          1.243276,
          1.139029,
          1.49999,
          0.39935,
          0.251539,
          0.102798,
          0.5195420000000001,
          0.9333440000000001,
          0.619953,
          0.776288,
          0.47107200000000005,
          0.542505,
          -0.554747,
          -1.563698,
          -2.065366,
          -1.747264,
          -0.2434,
          0.07103,
          0.300051,
          0.637137,
          1.002053,
          0.663216,
          0.063325,
          0.62948,
          0.099462,
          0.310121,
          0.185897,
          0.643558,
          -0.07885700000000001,
          1.215525,
          -0.153764,
          0.644579,
          0.535984,
          0.9457450000000001,
          0.530908,
          0.6589619999999999,
          0.655704,
          0.5759529999999999,
          0.5593130000000001
         ],
         "yaxis": "y"
        },
        {
         "legendgroup": "JPN",
         "line": {
          "color": "#EF553B",
          "dash": "solid"
         },
         "mode": "lines",
         "name": "JPN",
         "orientation": "v",
         "showlegend": true,
         "type": "scatter",
         "x": [
          "2005-Q1",
          "2005-Q2",
          "2005-Q3",
          "2005-Q4",
          "2006-Q1",
          "2006-Q2",
          "2006-Q3",
          "2006-Q4",
          "2007-Q1",
          "2007-Q2",
          "2007-Q3",
          "2007-Q4",
          "2008-Q1",
          "2008-Q2",
          "2008-Q3",
          "2008-Q4",
          "2009-Q1",
          "2009-Q2",
          "2009-Q3",
          "2009-Q4",
          "2010-Q1",
          "2010-Q2",
          "2010-Q3",
          "2010-Q4",
          "2011-Q1",
          "2011-Q2",
          "2011-Q3",
          "2011-Q4",
          "2012-Q1",
          "2012-Q2",
          "2012-Q3",
          "2012-Q4",
          "2013-Q1",
          "2013-Q2",
          "2013-Q3",
          "2013-Q4",
          "2014-Q1",
          "2014-Q2",
          "2014-Q3",
          "2014-Q4"
         ],
         "xaxis": "x",
         "y": [
          0.48993847100000004,
          0.663181527,
          0.96031741,
          0.180789301,
          0.18354164899999997,
          0.243775171,
          -0.177415422,
          1.309796991,
          0.729750728,
          0.113144904,
          -0.490313956,
          0.471644681,
          0.250291799,
          -0.38105080700000005,
          -1.2355418059999999,
          -2.4300448180000003,
          -4.786476316,
          2.094269431,
          0.053746469000000005,
          1.3724402519999999,
          0.857622135,
          1.353363474,
          1.8100132530000002,
          -0.8206944890000001,
          -1.400785943,
          -0.652991533,
          2.49252309,
          -0.158594775,
          1.207549207,
          -0.732360383,
          -0.380693812,
          0.26518695,
          1.220853983,
          0.77103307,
          0.835464282,
          -0.03080387,
          0.9935063479999999,
          -1.922067798,
          0.091510824,
          0.498890545
         ],
         "yaxis": "y"
        },
        {
         "legendgroup": "ARG",
         "line": {
          "color": "#00cc96",
          "dash": "solid"
         },
         "mode": "lines",
         "name": "ARG",
         "orientation": "v",
         "showlegend": true,
         "type": "scatter",
         "x": [
          "2005-Q1",
          "2005-Q2",
          "2005-Q3",
          "2005-Q4",
          "2006-Q1",
          "2006-Q2",
          "2006-Q3",
          "2006-Q4",
          "2007-Q1",
          "2007-Q2",
          "2007-Q3",
          "2007-Q4",
          "2008-Q1",
          "2008-Q2",
          "2008-Q3",
          "2008-Q4",
          "2009-Q1",
          "2009-Q2",
          "2009-Q3",
          "2009-Q4",
          "2010-Q1",
          "2010-Q2",
          "2010-Q3",
          "2010-Q4",
          "2011-Q1",
          "2011-Q2",
          "2011-Q3",
          "2011-Q4",
          "2012-Q1",
          "2012-Q2",
          "2012-Q3",
          "2012-Q4",
          "2013-Q1",
          "2013-Q2",
          "2013-Q3",
          "2013-Q4",
          "2014-Q1",
          "2014-Q2",
          "2014-Q3",
          "2014-Q4"
         ],
         "xaxis": "x",
         "y": [
          2.884454495,
          2.11460155,
          0.702388756,
          1.966760557,
          2.607271997,
          1.208337223,
          2.798922899,
          2.170897474,
          2.330891515,
          2.176765612,
          1.327601674,
          3.0684049210000004,
          0.90304585,
          0.628559972,
          0.733736864,
          -4.729778507,
          -3.647125144,
          -2.169464276,
          3.868079147,
          1.894067874,
          3.044282266,
          4.503546782,
          0.47477829,
          1.383120637,
          2.398311734,
          0.9334121190000001,
          0.7933000259999999,
          0.09995878300000001,
          -1.083628674,
          -3.481860373,
          3.188743293,
          1.7381984209999999,
          -0.16093977199999998,
          0.665221,
          0.648287044,
          -0.9701044259999999,
          -1.519513194,
          -0.659610103,
          -0.808181583,
          0.5236369710000001
         ],
         "yaxis": "y"
        },
        {
         "legendgroup": "BRA",
         "line": {
          "color": "#ab63fa",
          "dash": "solid"
         },
         "mode": "lines",
         "name": "BRA",
         "orientation": "v",
         "showlegend": true,
         "type": "scatter",
         "x": [
          "2005-Q1",
          "2005-Q2",
          "2005-Q3",
          "2005-Q4",
          "2006-Q1",
          "2006-Q2",
          "2006-Q3",
          "2006-Q4",
          "2007-Q1",
          "2007-Q2",
          "2007-Q3",
          "2007-Q4",
          "2008-Q1",
          "2008-Q2",
          "2008-Q3",
          "2008-Q4",
          "2009-Q1",
          "2009-Q2",
          "2009-Q3",
          "2009-Q4",
          "2010-Q1",
          "2010-Q2",
          "2010-Q3",
          "2010-Q4",
          "2011-Q1",
          "2011-Q2",
          "2011-Q3",
          "2011-Q4",
          "2012-Q1",
          "2012-Q2",
          "2012-Q3",
          "2012-Q4",
          "2013-Q1",
          "2013-Q2",
          "2013-Q3",
          "2013-Q4",
          "2014-Q1",
          "2014-Q2",
          "2014-Q3",
          "2014-Q4"
         ],
         "xaxis": "x",
         "y": [
          0.833099661,
          1.219264049,
          -0.6862922109999999,
          1.300157836,
          1.5988154209999998,
          0.328963638,
          1.663424554,
          1.179309492,
          1.863621063,
          1.6816055319999998,
          1.04038495,
          1.492577743,
          1.2284368490000002,
          2.141431407,
          1.549477416,
          -3.776789755,
          -1.3706760059999998,
          1.7811594430000002,
          2.345306891,
          2.5551737,
          2.14870702,
          1.203202589,
          0.8956340970000001,
          1.3965503069999998,
          1.4307445730000001,
          0.9436385409999999,
          -0.21028986600000002,
          0.911103972,
          -1.391678369,
          1.7596706000000002,
          1.764425661,
          -0.030227952000000002,
          0.525144113,
          1.488876043,
          0.408255793,
          0.13871645,
          0.89289746,
          -1.519360122,
          -0.045015026,
          0.512023799
         ],
         "yaxis": "y"
        },
        {
         "legendgroup": "USA",
         "line": {
          "color": "#FFA15A",
          "dash": "solid"
         },
         "mode": "lines",
         "name": "USA",
         "orientation": "v",
         "showlegend": true,
         "type": "scatter",
         "x": [
          "2005-Q1",
          "2005-Q2",
          "2005-Q3",
          "2005-Q4",
          "2006-Q1",
          "2006-Q2",
          "2006-Q3",
          "2006-Q4",
          "2007-Q1",
          "2007-Q2",
          "2007-Q3",
          "2007-Q4",
          "2008-Q1",
          "2008-Q2",
          "2008-Q3",
          "2008-Q4",
          "2009-Q1",
          "2009-Q2",
          "2009-Q3",
          "2009-Q4",
          "2010-Q1",
          "2010-Q2",
          "2010-Q3",
          "2010-Q4",
          "2011-Q1",
          "2011-Q2",
          "2011-Q3",
          "2011-Q4",
          "2012-Q1",
          "2012-Q2",
          "2012-Q3",
          "2012-Q4",
          "2013-Q1",
          "2013-Q2",
          "2013-Q3",
          "2013-Q4",
          "2014-Q1",
          "2014-Q2",
          "2014-Q3",
          "2014-Q4"
         ],
         "xaxis": "x",
         "y": [
          1.1069635359999999,
          0.46156131200000006,
          0.8913338479999999,
          0.631463125,
          1.330287125,
          0.23369974,
          0.154632792,
          0.85186523,
          0.23549310699999998,
          0.5728724000000001,
          0.543271327,
          0.607841913,
          -0.574699846,
          0.516387099,
          -0.541355591,
          -2.163811244,
          -1.1226950470000001,
          -0.143989749,
          0.364111101,
          1.098384104,
          0.38477974,
          0.922028304,
          0.7372112740000001,
          0.501902537,
          -0.240441252,
          0.714973327,
          -0.027778662000000003,
          1.159284987,
          0.7829927659999999,
          0.43020151100000004,
          0.134948209,
          0.113873246,
          0.885675089,
          0.123396475,
          0.783415167,
          0.798248938,
          -0.28270518699999997,
          1.3536813319999998,
          1.220932252,
          0.562793738
         ],
         "yaxis": "y"
        },
        {
         "legendgroup": "DEU",
         "line": {
          "color": "#19d3f3",
          "dash": "solid"
         },
         "mode": "lines",
         "name": "DEU",
         "orientation": "v",
         "showlegend": true,
         "type": "scatter",
         "x": [
          "2005-Q1",
          "2005-Q2",
          "2005-Q3",
          "2005-Q4",
          "2006-Q1",
          "2006-Q2",
          "2006-Q3",
          "2006-Q4",
          "2007-Q1",
          "2007-Q2",
          "2007-Q3",
          "2007-Q4",
          "2008-Q1",
          "2008-Q2",
          "2008-Q3",
          "2008-Q4",
          "2009-Q1",
          "2009-Q2",
          "2009-Q3",
          "2009-Q4",
          "2010-Q1",
          "2010-Q2",
          "2010-Q3",
          "2010-Q4",
          "2011-Q1",
          "2011-Q2",
          "2011-Q3",
          "2011-Q4",
          "2012-Q1",
          "2012-Q2",
          "2012-Q3",
          "2012-Q4",
          "2013-Q1",
          "2013-Q2",
          "2013-Q3",
          "2013-Q4",
          "2014-Q1",
          "2014-Q2",
          "2014-Q3",
          "2014-Q4"
         ],
         "xaxis": "x",
         "y": [
          -0.000001541,
          0.536313904,
          0.846574925,
          0.48298236899999997,
          0.961320211,
          1.722961715,
          0.78003491,
          1.503753256,
          0.073562839,
          0.838143788,
          0.50733513,
          0.665882964,
          0.63217597,
          -0.254453208,
          -0.627122273,
          -1.6044559919999999,
          -4.674413401,
          0.159652865,
          0.5465063689999999,
          0.7360416120000001,
          0.831840045,
          2.229648427,
          0.828792144,
          0.789533678,
          1.963725194,
          0.08419475,
          0.872770577,
          -0.31273559100000003,
          0.21698338399999997,
          0.20868658,
          0.27072386600000004,
          -0.436144432,
          -0.456310837,
          1.068730264,
          0.53908577,
          0.31965633600000004,
          0.955909294,
          0.010175237,
          0.488648284,
          0.830724418
         ],
         "yaxis": "y"
        },
        {
         "legendgroup": "FRA",
         "line": {
          "color": "#FF6692",
          "dash": "solid"
         },
         "mode": "lines",
         "name": "FRA",
         "orientation": "v",
         "showlegend": true,
         "type": "scatter",
         "x": [
          "2005-Q1",
          "2005-Q2",
          "2005-Q3",
          "2005-Q4",
          "2006-Q1",
          "2006-Q2",
          "2006-Q3",
          "2006-Q4",
          "2007-Q1",
          "2007-Q2",
          "2007-Q3",
          "2007-Q4",
          "2008-Q1",
          "2008-Q2",
          "2008-Q3",
          "2008-Q4",
          "2009-Q1",
          "2009-Q2",
          "2009-Q3",
          "2009-Q4",
          "2010-Q1",
          "2010-Q2",
          "2010-Q3",
          "2010-Q4",
          "2011-Q1",
          "2011-Q2",
          "2011-Q3",
          "2011-Q4",
          "2012-Q1",
          "2012-Q2",
          "2012-Q3",
          "2012-Q4",
          "2013-Q1",
          "2013-Q2",
          "2013-Q3",
          "2013-Q4",
          "2014-Q1",
          "2014-Q2",
          "2014-Q3",
          "2014-Q4"
         ],
         "xaxis": "x",
         "y": [
          0.269049893,
          0.17753113899999998,
          0.512995203,
          0.752251307,
          0.7764680909999999,
          1.00671741,
          0.004327421,
          0.811356234,
          0.729318893,
          0.779629303,
          0.331542045,
          0.227193925,
          0.44934414100000003,
          -0.470547494,
          -0.31295105,
          -1.3970712319999998,
          -1.660368405,
          -0.10442501,
          0.15581134800000002,
          0.7266473609999999,
          0.385233564,
          0.513172402,
          0.583099452,
          0.6980607059999999,
          1.039832398,
          0.041811423,
          0.284958738,
          0.233191638,
          0.11585208,
          -0.191793648,
          0.191216523,
          -0.071923297,
          -0.023047132999999997,
          0.676268073,
          0.009196576,
          0.493191406,
          0.138379485,
          0.074409063,
          0.42506485,
          0.128594094
         ],
         "yaxis": "y"
        }
       ],
       "layout": {
        "height": 400,
        "hovermode": "x unified",
        "legend": {
         "title": {
          "text": "Pays"
         },
         "tracegroupgap": 0
        },
        "margin": {
         "t": 60
        },
        "template": {
         "data": {
          "bar": [
           {
            "error_x": {
             "color": "#2a3f5f"
            },
            "error_y": {
             "color": "#2a3f5f"
            },
            "marker": {
             "line": {
              "color": "#E5ECF6",
              "width": 0.5
             }
            },
            "type": "bar"
           }
          ],
          "barpolar": [
           {
            "marker": {
             "line": {
              "color": "#E5ECF6",
              "width": 0.5
             }
            },
            "type": "barpolar"
           }
          ],
          "carpet": [
           {
            "aaxis": {
             "endlinecolor": "#2a3f5f",
             "gridcolor": "white",
             "linecolor": "white",
             "minorgridcolor": "white",
             "startlinecolor": "#2a3f5f"
            },
            "baxis": {
             "endlinecolor": "#2a3f5f",
             "gridcolor": "white",
             "linecolor": "white",
             "minorgridcolor": "white",
             "startlinecolor": "#2a3f5f"
            },
            "type": "carpet"
           }
          ],
          "choropleth": [
           {
            "colorbar": {
             "outlinewidth": 0,
             "ticks": ""
            },
            "type": "choropleth"
           }
          ],
          "contour": [
           {
            "colorbar": {
             "outlinewidth": 0,
             "ticks": ""
            },
            "colorscale": [
             [
              0,
              "#0d0887"
             ],
             [
              0.1111111111111111,
              "#46039f"
             ],
             [
              0.2222222222222222,
              "#7201a8"
             ],
             [
              0.3333333333333333,
              "#9c179e"
             ],
             [
              0.4444444444444444,
              "#bd3786"
             ],
             [
              0.5555555555555556,
              "#d8576b"
             ],
             [
              0.6666666666666666,
              "#ed7953"
             ],
             [
              0.7777777777777778,
              "#fb9f3a"
             ],
             [
              0.8888888888888888,
              "#fdca26"
             ],
             [
              1,
              "#f0f921"
             ]
            ],
            "type": "contour"
           }
          ],
          "contourcarpet": [
           {
            "colorbar": {
             "outlinewidth": 0,
             "ticks": ""
            },
            "type": "contourcarpet"
           }
          ],
          "heatmap": [
           {
            "colorbar": {
             "outlinewidth": 0,
             "ticks": ""
            },
            "colorscale": [
             [
              0,
              "#0d0887"
             ],
             [
              0.1111111111111111,
              "#46039f"
             ],
             [
              0.2222222222222222,
              "#7201a8"
             ],
             [
              0.3333333333333333,
              "#9c179e"
             ],
             [
              0.4444444444444444,
              "#bd3786"
             ],
             [
              0.5555555555555556,
              "#d8576b"
             ],
             [
              0.6666666666666666,
              "#ed7953"
             ],
             [
              0.7777777777777778,
              "#fb9f3a"
             ],
             [
              0.8888888888888888,
              "#fdca26"
             ],
             [
              1,
              "#f0f921"
             ]
            ],
            "type": "heatmap"
           }
          ],
          "heatmapgl": [
           {
            "colorbar": {
             "outlinewidth": 0,
             "ticks": ""
            },
            "colorscale": [
             [
              0,
              "#0d0887"
             ],
             [
              0.1111111111111111,
              "#46039f"
             ],
             [
              0.2222222222222222,
              "#7201a8"
             ],
             [
              0.3333333333333333,
              "#9c179e"
             ],
             [
              0.4444444444444444,
              "#bd3786"
             ],
             [
              0.5555555555555556,
              "#d8576b"
             ],
             [
              0.6666666666666666,
              "#ed7953"
             ],
             [
              0.7777777777777778,
              "#fb9f3a"
             ],
             [
              0.8888888888888888,
              "#fdca26"
             ],
             [
              1,
              "#f0f921"
             ]
            ],
            "type": "heatmapgl"
           }
          ],
          "histogram": [
           {
            "marker": {
             "colorbar": {
              "outlinewidth": 0,
              "ticks": ""
             }
            },
            "type": "histogram"
           }
          ],
          "histogram2d": [
           {
            "colorbar": {
             "outlinewidth": 0,
             "ticks": ""
            },
            "colorscale": [
             [
              0,
              "#0d0887"
             ],
             [
              0.1111111111111111,
              "#46039f"
             ],
             [
              0.2222222222222222,
              "#7201a8"
             ],
             [
              0.3333333333333333,
              "#9c179e"
             ],
             [
              0.4444444444444444,
              "#bd3786"
             ],
             [
              0.5555555555555556,
              "#d8576b"
             ],
             [
              0.6666666666666666,
              "#ed7953"
             ],
             [
              0.7777777777777778,
              "#fb9f3a"
             ],
             [
              0.8888888888888888,
              "#fdca26"
             ],
             [
              1,
              "#f0f921"
             ]
            ],
            "type": "histogram2d"
           }
          ],
          "histogram2dcontour": [
           {
            "colorbar": {
             "outlinewidth": 0,
             "ticks": ""
            },
            "colorscale": [
             [
              0,
              "#0d0887"
             ],
             [
              0.1111111111111111,
              "#46039f"
             ],
             [
              0.2222222222222222,
              "#7201a8"
             ],
             [
              0.3333333333333333,
              "#9c179e"
             ],
             [
              0.4444444444444444,
              "#bd3786"
             ],
             [
              0.5555555555555556,
              "#d8576b"
             ],
             [
              0.6666666666666666,
              "#ed7953"
             ],
             [
              0.7777777777777778,
              "#fb9f3a"
             ],
             [
              0.8888888888888888,
              "#fdca26"
             ],
             [
              1,
              "#f0f921"
             ]
            ],
            "type": "histogram2dcontour"
           }
          ],
          "mesh3d": [
           {
            "colorbar": {
             "outlinewidth": 0,
             "ticks": ""
            },
            "type": "mesh3d"
           }
          ],
          "parcoords": [
           {
            "line": {
             "colorbar": {
              "outlinewidth": 0,
              "ticks": ""
             }
            },
            "type": "parcoords"
           }
          ],
          "pie": [
           {
            "automargin": true,
            "type": "pie"
           }
          ],
          "scatter": [
           {
            "marker": {
             "colorbar": {
              "outlinewidth": 0,
              "ticks": ""
             }
            },
            "type": "scatter"
           }
          ],
          "scatter3d": [
           {
            "line": {
             "colorbar": {
              "outlinewidth": 0,
              "ticks": ""
             }
            },
            "marker": {
             "colorbar": {
              "outlinewidth": 0,
              "ticks": ""
             }
            },
            "type": "scatter3d"
           }
          ],
          "scattercarpet": [
           {
            "marker": {
             "colorbar": {
              "outlinewidth": 0,
              "ticks": ""
             }
            },
            "type": "scattercarpet"
           }
          ],
          "scattergeo": [
           {
            "marker": {
             "colorbar": {
              "outlinewidth": 0,
              "ticks": ""
             }
            },
            "type": "scattergeo"
           }
          ],
          "scattergl": [
           {
            "marker": {
             "colorbar": {
              "outlinewidth": 0,
              "ticks": ""
             }
            },
            "type": "scattergl"
           }
          ],
          "scattermapbox": [
           {
            "marker": {
             "colorbar": {
              "outlinewidth": 0,
              "ticks": ""
             }
            },
            "type": "scattermapbox"
           }
          ],
          "scatterpolar": [
           {
            "marker": {
             "colorbar": {
              "outlinewidth": 0,
              "ticks": ""
             }
            },
            "type": "scatterpolar"
           }
          ],
          "scatterpolargl": [
           {
            "marker": {
             "colorbar": {
              "outlinewidth": 0,
              "ticks": ""
             }
            },
            "type": "scatterpolargl"
           }
          ],
          "scatterternary": [
           {
            "marker": {
             "colorbar": {
              "outlinewidth": 0,
              "ticks": ""
             }
            },
            "type": "scatterternary"
           }
          ],
          "surface": [
           {
            "colorbar": {
             "outlinewidth": 0,
             "ticks": ""
            },
            "colorscale": [
             [
              0,
              "#0d0887"
             ],
             [
              0.1111111111111111,
              "#46039f"
             ],
             [
              0.2222222222222222,
              "#7201a8"
             ],
             [
              0.3333333333333333,
              "#9c179e"
             ],
             [
              0.4444444444444444,
              "#bd3786"
             ],
             [
              0.5555555555555556,
              "#d8576b"
             ],
             [
              0.6666666666666666,
              "#ed7953"
             ],
             [
              0.7777777777777778,
              "#fb9f3a"
             ],
             [
              0.8888888888888888,
              "#fdca26"
             ],
             [
              1,
              "#f0f921"
             ]
            ],
            "type": "surface"
           }
          ],
          "table": [
           {
            "cells": {
             "fill": {
              "color": "#EBF0F8"
             },
             "line": {
              "color": "white"
             }
            },
            "header": {
             "fill": {
              "color": "#C8D4E3"
             },
             "line": {
              "color": "white"
             }
            },
            "type": "table"
           }
          ]
         },
         "layout": {
          "annotationdefaults": {
           "arrowcolor": "#2a3f5f",
           "arrowhead": 0,
           "arrowwidth": 1
          },
          "coloraxis": {
           "colorbar": {
            "outlinewidth": 0,
            "ticks": ""
           }
          },
          "colorscale": {
           "diverging": [
            [
             0,
             "#8e0152"
            ],
            [
             0.1,
             "#c51b7d"
            ],
            [
             0.2,
             "#de77ae"
            ],
            [
             0.3,
             "#f1b6da"
            ],
            [
             0.4,
             "#fde0ef"
            ],
            [
             0.5,
             "#f7f7f7"
            ],
            [
             0.6,
             "#e6f5d0"
            ],
            [
             0.7,
             "#b8e186"
            ],
            [
             0.8,
             "#7fbc41"
            ],
            [
             0.9,
             "#4d9221"
            ],
            [
             1,
             "#276419"
            ]
           ],
           "sequential": [
            [
             0,
             "#0d0887"
            ],
            [
             0.1111111111111111,
             "#46039f"
            ],
            [
             0.2222222222222222,
             "#7201a8"
            ],
            [
             0.3333333333333333,
             "#9c179e"
            ],
            [
             0.4444444444444444,
             "#bd3786"
            ],
            [
             0.5555555555555556,
             "#d8576b"
            ],
            [
             0.6666666666666666,
             "#ed7953"
            ],
            [
             0.7777777777777778,
             "#fb9f3a"
            ],
            [
             0.8888888888888888,
             "#fdca26"
            ],
            [
             1,
             "#f0f921"
            ]
           ],
           "sequentialminus": [
            [
             0,
             "#0d0887"
            ],
            [
             0.1111111111111111,
             "#46039f"
            ],
            [
             0.2222222222222222,
             "#7201a8"
            ],
            [
             0.3333333333333333,
             "#9c179e"
            ],
            [
             0.4444444444444444,
             "#bd3786"
            ],
            [
             0.5555555555555556,
             "#d8576b"
            ],
            [
             0.6666666666666666,
             "#ed7953"
            ],
            [
             0.7777777777777778,
             "#fb9f3a"
            ],
            [
             0.8888888888888888,
             "#fdca26"
            ],
            [
             1,
             "#f0f921"
            ]
           ]
          },
          "colorway": [
           "#636efa",
           "#EF553B",
           "#00cc96",
           "#ab63fa",
           "#FFA15A",
           "#19d3f3",
           "#FF6692",
           "#B6E880",
           "#FF97FF",
           "#FECB52"
          ],
          "font": {
           "color": "#2a3f5f"
          },
          "geo": {
           "bgcolor": "white",
           "lakecolor": "white",
           "landcolor": "#E5ECF6",
           "showlakes": true,
           "showland": true,
           "subunitcolor": "white"
          },
          "hoverlabel": {
           "align": "left"
          },
          "hovermode": "closest",
          "mapbox": {
           "style": "light"
          },
          "paper_bgcolor": "white",
          "plot_bgcolor": "#E5ECF6",
          "polar": {
           "angularaxis": {
            "gridcolor": "white",
            "linecolor": "white",
            "ticks": ""
           },
           "bgcolor": "#E5ECF6",
           "radialaxis": {
            "gridcolor": "white",
            "linecolor": "white",
            "ticks": ""
           }
          },
          "scene": {
           "xaxis": {
            "backgroundcolor": "#E5ECF6",
            "gridcolor": "white",
            "gridwidth": 2,
            "linecolor": "white",
            "showbackground": true,
            "ticks": "",
            "zerolinecolor": "white"
           },
           "yaxis": {
            "backgroundcolor": "#E5ECF6",
            "gridcolor": "white",
            "gridwidth": 2,
            "linecolor": "white",
            "showbackground": true,
            "ticks": "",
            "zerolinecolor": "white"
           },
           "zaxis": {
            "backgroundcolor": "#E5ECF6",
            "gridcolor": "white",
            "gridwidth": 2,
            "linecolor": "white",
            "showbackground": true,
            "ticks": "",
            "zerolinecolor": "white"
           }
          },
          "shapedefaults": {
           "line": {
            "color": "#2a3f5f"
           }
          },
          "ternary": {
           "aaxis": {
            "gridcolor": "white",
            "linecolor": "white",
            "ticks": ""
           },
           "baxis": {
            "gridcolor": "white",
            "linecolor": "white",
            "ticks": ""
           },
           "bgcolor": "#E5ECF6",
           "caxis": {
            "gridcolor": "white",
            "linecolor": "white",
            "ticks": ""
           }
          },
          "title": {
           "x": 0.05
          },
          "xaxis": {
           "automargin": true,
           "gridcolor": "white",
           "linecolor": "white",
           "ticks": "",
           "title": {
            "standoff": 15
           },
           "zerolinecolor": "white",
           "zerolinewidth": 2
          },
          "yaxis": {
           "automargin": true,
           "gridcolor": "white",
           "linecolor": "white",
           "ticks": "",
           "title": {
            "standoff": 15
           },
           "zerolinecolor": "white",
           "zerolinewidth": 2
          }
         }
        },
        "title": {
         "text": "Evolution du PIB au cours du temps - Crise des subprimes",
         "x": 0.5,
         "xanchor": "center",
         "y": 0.9,
         "yanchor": "top"
        },
        "width": 1500,
        "xaxis": {
         "anchor": "y",
         "domain": [
          0,
          1
         ],
         "title": {
          "text": "Trimestre"
         }
        },
        "yaxis": {
         "anchor": "x",
         "domain": [
          0,
          1
         ],
         "title": {
          "text": "Evolution du PIB (%)"
         }
        }
       }
      }
     },
     "metadata": {}
    }
   ],
   "source": [
    "list_dates = g.get_list_dates_q(2005, 2015)#Dates pour lesquelles nous souhaitons afficher les données\n",
    "df_fra_usa = g.filter_df(['FRA', 'DEU', 'USA', 'JPN', 'GBR', 'ARG', 'BRA'], 'Q', 'TOT', 'PC_CHGPP', list_dates)#Filtrage du df principal en fonction des éléments désirés\n",
    "\n",
    "g.line_graph(df_fra_usa, x='TIME', y='Value', x_label=\"Trimestre\", y_label=\"Evolution du PIB (%)\", title='Evolution du PIB au cours du temps - Crise des subprimes')#Création des courbes\n",
    "g.display()"
   ]
  },
  {
   "cell_type": "markdown",
   "metadata": {},
   "source": [
    "De même, nous pouvons constater l'impact mondial de la crise des subprimes aux Etats-Unis avec une décroissance générale du PIB à partir du premier trimestre de 2008 et qui atteignit son pic au premier trimestre de 2009."
   ]
  },
  {
   "cell_type": "code",
   "execution_count": 9,
   "metadata": {},
   "outputs": [
    {
     "output_type": "display_data",
     "data": {
      "application/vnd.plotly.v1+json": {
       "config": {
        "plotlyServerURL": "https://plot.ly"
       },
       "data": [
        {
         "legendgroup": "GBR",
         "line": {
          "color": "#636efa",
          "dash": "solid"
         },
         "mode": "lines",
         "name": "GBR",
         "orientation": "v",
         "showlegend": true,
         "type": "scatter",
         "x": [
          "2017-Q1",
          "2017-Q2",
          "2017-Q3",
          "2017-Q4",
          "2018-Q1",
          "2018-Q2",
          "2018-Q3",
          "2018-Q4",
          "2019-Q1",
          "2019-Q2",
          "2019-Q3",
          "2019-Q4"
         ],
         "xaxis": "x",
         "y": [
          0.576446,
          0.251392,
          0.34046,
          0.399228,
          0.059489999999999994,
          0.526678,
          0.587147,
          0.214108,
          0.658128368,
          -0.056562604,
          0.511653695,
          -0.00019087
         ],
         "yaxis": "y"
        },
        {
         "legendgroup": "JPN",
         "line": {
          "color": "#EF553B",
          "dash": "solid"
         },
         "mode": "lines",
         "name": "JPN",
         "orientation": "v",
         "showlegend": true,
         "type": "scatter",
         "x": [
          "2017-Q1",
          "2017-Q2",
          "2017-Q3",
          "2017-Q4",
          "2018-Q1",
          "2018-Q2",
          "2018-Q3",
          "2018-Q4",
          "2019-Q1",
          "2019-Q2",
          "2019-Q3",
          "2019-Q4"
         ],
         "xaxis": "x",
         "y": [
          1.185190242,
          0.30765644600000003,
          0.56944219,
          0.47129093,
          -0.43160912799999995,
          0.360729481,
          -0.811956472,
          0.574906822,
          0.7039326370000001,
          0.409732936,
          0.041310655,
          -1.7966330240000001
         ],
         "yaxis": "y"
        },
        {
         "legendgroup": "ARG",
         "line": {
          "color": "#00cc96",
          "dash": "solid"
         },
         "mode": "lines",
         "name": "ARG",
         "orientation": "v",
         "showlegend": true,
         "type": "scatter",
         "x": [
          "2017-Q1",
          "2017-Q2",
          "2017-Q3",
          "2017-Q4",
          "2018-Q1",
          "2018-Q2",
          "2018-Q3",
          "2018-Q4",
          "2019-Q1",
          "2019-Q2",
          "2019-Q3",
          "2019-Q4"
         ],
         "xaxis": "x",
         "y": [
          1.042610257,
          0.7265586279999999,
          1.32725012,
          1.155493766,
          -0.11676929400000001,
          -5.086209354,
          -0.066727954,
          -1.029160441,
          0.13813805699999998,
          -0.37708834799999996,
          0.815870144,
          -0.902888039
         ],
         "yaxis": "y"
        },
        {
         "legendgroup": "BRA",
         "line": {
          "color": "#ab63fa",
          "dash": "solid"
         },
         "mode": "lines",
         "name": "BRA",
         "orientation": "v",
         "showlegend": true,
         "type": "scatter",
         "x": [
          "2017-Q1",
          "2017-Q2",
          "2017-Q3",
          "2017-Q4",
          "2018-Q1",
          "2018-Q2",
          "2018-Q3",
          "2018-Q4",
          "2019-Q1",
          "2019-Q2",
          "2019-Q3",
          "2019-Q4"
         ],
         "xaxis": "x",
         "y": [
          1.160070305,
          0.7707419640000001,
          0.145534609,
          0.30548976699999997,
          0.553007166,
          -0.20731508199999998,
          0.806773104,
          -0.386126471,
          0.563306237,
          0.45612374299999997,
          0.058845327,
          0.533857961
         ],
         "yaxis": "y"
        },
        {
         "legendgroup": "USA",
         "line": {
          "color": "#FFA15A",
          "dash": "solid"
         },
         "mode": "lines",
         "name": "USA",
         "orientation": "v",
         "showlegend": true,
         "type": "scatter",
         "x": [
          "2017-Q1",
          "2017-Q2",
          "2017-Q3",
          "2017-Q4",
          "2018-Q1",
          "2018-Q2",
          "2018-Q3",
          "2018-Q4",
          "2019-Q1",
          "2019-Q2",
          "2019-Q3",
          "2019-Q4"
         ],
         "xaxis": "x",
         "y": [
          0.565668983,
          0.42694400299999996,
          0.728833616,
          0.9556773270000001,
          0.93167915,
          0.668628011,
          0.525195607,
          0.328321429,
          0.72512256,
          0.37071616700000004,
          0.6369147470000001,
          0.58623185
         ],
         "yaxis": "y"
        },
        {
         "legendgroup": "DEU",
         "line": {
          "color": "#19d3f3",
          "dash": "solid"
         },
         "mode": "lines",
         "name": "DEU",
         "orientation": "v",
         "showlegend": true,
         "type": "scatter",
         "x": [
          "2017-Q1",
          "2017-Q2",
          "2017-Q3",
          "2017-Q4",
          "2018-Q1",
          "2018-Q2",
          "2018-Q3",
          "2018-Q4",
          "2019-Q1",
          "2019-Q2",
          "2019-Q3",
          "2019-Q4"
         ],
         "xaxis": "x",
         "y": [
          1.228669341,
          0.65504338,
          0.88046779,
          0.834829631,
          -0.206973575,
          0.47138743200000005,
          -0.328427895,
          0.33892147200000006,
          0.612222858,
          -0.503593062,
          0.309311452,
          -0.018690252
         ],
         "yaxis": "y"
        },
        {
         "legendgroup": "FRA",
         "line": {
          "color": "#FF6692",
          "dash": "solid"
         },
         "mode": "lines",
         "name": "FRA",
         "orientation": "v",
         "showlegend": true,
         "type": "scatter",
         "x": [
          "2017-Q1",
          "2017-Q2",
          "2017-Q3",
          "2017-Q4",
          "2018-Q1",
          "2018-Q2",
          "2018-Q3",
          "2018-Q4",
          "2019-Q1",
          "2019-Q2",
          "2019-Q3",
          "2019-Q4"
         ],
         "xaxis": "x",
         "y": [
          0.816627663,
          0.710581771,
          0.700569168,
          0.847812212,
          0.143630169,
          0.190998158,
          0.369879119,
          0.6530642170000001,
          0.545805518,
          0.245805777,
          0.15469301400000002,
          -0.196374882
         ],
         "yaxis": "y"
        }
       ],
       "layout": {
        "height": 400,
        "hovermode": "x unified",
        "legend": {
         "title": {
          "text": "Pays"
         },
         "tracegroupgap": 0
        },
        "margin": {
         "t": 60
        },
        "template": {
         "data": {
          "bar": [
           {
            "error_x": {
             "color": "#2a3f5f"
            },
            "error_y": {
             "color": "#2a3f5f"
            },
            "marker": {
             "line": {
              "color": "#E5ECF6",
              "width": 0.5
             }
            },
            "type": "bar"
           }
          ],
          "barpolar": [
           {
            "marker": {
             "line": {
              "color": "#E5ECF6",
              "width": 0.5
             }
            },
            "type": "barpolar"
           }
          ],
          "carpet": [
           {
            "aaxis": {
             "endlinecolor": "#2a3f5f",
             "gridcolor": "white",
             "linecolor": "white",
             "minorgridcolor": "white",
             "startlinecolor": "#2a3f5f"
            },
            "baxis": {
             "endlinecolor": "#2a3f5f",
             "gridcolor": "white",
             "linecolor": "white",
             "minorgridcolor": "white",
             "startlinecolor": "#2a3f5f"
            },
            "type": "carpet"
           }
          ],
          "choropleth": [
           {
            "colorbar": {
             "outlinewidth": 0,
             "ticks": ""
            },
            "type": "choropleth"
           }
          ],
          "contour": [
           {
            "colorbar": {
             "outlinewidth": 0,
             "ticks": ""
            },
            "colorscale": [
             [
              0,
              "#0d0887"
             ],
             [
              0.1111111111111111,
              "#46039f"
             ],
             [
              0.2222222222222222,
              "#7201a8"
             ],
             [
              0.3333333333333333,
              "#9c179e"
             ],
             [
              0.4444444444444444,
              "#bd3786"
             ],
             [
              0.5555555555555556,
              "#d8576b"
             ],
             [
              0.6666666666666666,
              "#ed7953"
             ],
             [
              0.7777777777777778,
              "#fb9f3a"
             ],
             [
              0.8888888888888888,
              "#fdca26"
             ],
             [
              1,
              "#f0f921"
             ]
            ],
            "type": "contour"
           }
          ],
          "contourcarpet": [
           {
            "colorbar": {
             "outlinewidth": 0,
             "ticks": ""
            },
            "type": "contourcarpet"
           }
          ],
          "heatmap": [
           {
            "colorbar": {
             "outlinewidth": 0,
             "ticks": ""
            },
            "colorscale": [
             [
              0,
              "#0d0887"
             ],
             [
              0.1111111111111111,
              "#46039f"
             ],
             [
              0.2222222222222222,
              "#7201a8"
             ],
             [
              0.3333333333333333,
              "#9c179e"
             ],
             [
              0.4444444444444444,
              "#bd3786"
             ],
             [
              0.5555555555555556,
              "#d8576b"
             ],
             [
              0.6666666666666666,
              "#ed7953"
             ],
             [
              0.7777777777777778,
              "#fb9f3a"
             ],
             [
              0.8888888888888888,
              "#fdca26"
             ],
             [
              1,
              "#f0f921"
             ]
            ],
            "type": "heatmap"
           }
          ],
          "heatmapgl": [
           {
            "colorbar": {
             "outlinewidth": 0,
             "ticks": ""
            },
            "colorscale": [
             [
              0,
              "#0d0887"
             ],
             [
              0.1111111111111111,
              "#46039f"
             ],
             [
              0.2222222222222222,
              "#7201a8"
             ],
             [
              0.3333333333333333,
              "#9c179e"
             ],
             [
              0.4444444444444444,
              "#bd3786"
             ],
             [
              0.5555555555555556,
              "#d8576b"
             ],
             [
              0.6666666666666666,
              "#ed7953"
             ],
             [
              0.7777777777777778,
              "#fb9f3a"
             ],
             [
              0.8888888888888888,
              "#fdca26"
             ],
             [
              1,
              "#f0f921"
             ]
            ],
            "type": "heatmapgl"
           }
          ],
          "histogram": [
           {
            "marker": {
             "colorbar": {
              "outlinewidth": 0,
              "ticks": ""
             }
            },
            "type": "histogram"
           }
          ],
          "histogram2d": [
           {
            "colorbar": {
             "outlinewidth": 0,
             "ticks": ""
            },
            "colorscale": [
             [
              0,
              "#0d0887"
             ],
             [
              0.1111111111111111,
              "#46039f"
             ],
             [
              0.2222222222222222,
              "#7201a8"
             ],
             [
              0.3333333333333333,
              "#9c179e"
             ],
             [
              0.4444444444444444,
              "#bd3786"
             ],
             [
              0.5555555555555556,
              "#d8576b"
             ],
             [
              0.6666666666666666,
              "#ed7953"
             ],
             [
              0.7777777777777778,
              "#fb9f3a"
             ],
             [
              0.8888888888888888,
              "#fdca26"
             ],
             [
              1,
              "#f0f921"
             ]
            ],
            "type": "histogram2d"
           }
          ],
          "histogram2dcontour": [
           {
            "colorbar": {
             "outlinewidth": 0,
             "ticks": ""
            },
            "colorscale": [
             [
              0,
              "#0d0887"
             ],
             [
              0.1111111111111111,
              "#46039f"
             ],
             [
              0.2222222222222222,
              "#7201a8"
             ],
             [
              0.3333333333333333,
              "#9c179e"
             ],
             [
              0.4444444444444444,
              "#bd3786"
             ],
             [
              0.5555555555555556,
              "#d8576b"
             ],
             [
              0.6666666666666666,
              "#ed7953"
             ],
             [
              0.7777777777777778,
              "#fb9f3a"
             ],
             [
              0.8888888888888888,
              "#fdca26"
             ],
             [
              1,
              "#f0f921"
             ]
            ],
            "type": "histogram2dcontour"
           }
          ],
          "mesh3d": [
           {
            "colorbar": {
             "outlinewidth": 0,
             "ticks": ""
            },
            "type": "mesh3d"
           }
          ],
          "parcoords": [
           {
            "line": {
             "colorbar": {
              "outlinewidth": 0,
              "ticks": ""
             }
            },
            "type": "parcoords"
           }
          ],
          "pie": [
           {
            "automargin": true,
            "type": "pie"
           }
          ],
          "scatter": [
           {
            "marker": {
             "colorbar": {
              "outlinewidth": 0,
              "ticks": ""
             }
            },
            "type": "scatter"
           }
          ],
          "scatter3d": [
           {
            "line": {
             "colorbar": {
              "outlinewidth": 0,
              "ticks": ""
             }
            },
            "marker": {
             "colorbar": {
              "outlinewidth": 0,
              "ticks": ""
             }
            },
            "type": "scatter3d"
           }
          ],
          "scattercarpet": [
           {
            "marker": {
             "colorbar": {
              "outlinewidth": 0,
              "ticks": ""
             }
            },
            "type": "scattercarpet"
           }
          ],
          "scattergeo": [
           {
            "marker": {
             "colorbar": {
              "outlinewidth": 0,
              "ticks": ""
             }
            },
            "type": "scattergeo"
           }
          ],
          "scattergl": [
           {
            "marker": {
             "colorbar": {
              "outlinewidth": 0,
              "ticks": ""
             }
            },
            "type": "scattergl"
           }
          ],
          "scattermapbox": [
           {
            "marker": {
             "colorbar": {
              "outlinewidth": 0,
              "ticks": ""
             }
            },
            "type": "scattermapbox"
           }
          ],
          "scatterpolar": [
           {
            "marker": {
             "colorbar": {
              "outlinewidth": 0,
              "ticks": ""
             }
            },
            "type": "scatterpolar"
           }
          ],
          "scatterpolargl": [
           {
            "marker": {
             "colorbar": {
              "outlinewidth": 0,
              "ticks": ""
             }
            },
            "type": "scatterpolargl"
           }
          ],
          "scatterternary": [
           {
            "marker": {
             "colorbar": {
              "outlinewidth": 0,
              "ticks": ""
             }
            },
            "type": "scatterternary"
           }
          ],
          "surface": [
           {
            "colorbar": {
             "outlinewidth": 0,
             "ticks": ""
            },
            "colorscale": [
             [
              0,
              "#0d0887"
             ],
             [
              0.1111111111111111,
              "#46039f"
             ],
             [
              0.2222222222222222,
              "#7201a8"
             ],
             [
              0.3333333333333333,
              "#9c179e"
             ],
             [
              0.4444444444444444,
              "#bd3786"
             ],
             [
              0.5555555555555556,
              "#d8576b"
             ],
             [
              0.6666666666666666,
              "#ed7953"
             ],
             [
              0.7777777777777778,
              "#fb9f3a"
             ],
             [
              0.8888888888888888,
              "#fdca26"
             ],
             [
              1,
              "#f0f921"
             ]
            ],
            "type": "surface"
           }
          ],
          "table": [
           {
            "cells": {
             "fill": {
              "color": "#EBF0F8"
             },
             "line": {
              "color": "white"
             }
            },
            "header": {
             "fill": {
              "color": "#C8D4E3"
             },
             "line": {
              "color": "white"
             }
            },
            "type": "table"
           }
          ]
         },
         "layout": {
          "annotationdefaults": {
           "arrowcolor": "#2a3f5f",
           "arrowhead": 0,
           "arrowwidth": 1
          },
          "coloraxis": {
           "colorbar": {
            "outlinewidth": 0,
            "ticks": ""
           }
          },
          "colorscale": {
           "diverging": [
            [
             0,
             "#8e0152"
            ],
            [
             0.1,
             "#c51b7d"
            ],
            [
             0.2,
             "#de77ae"
            ],
            [
             0.3,
             "#f1b6da"
            ],
            [
             0.4,
             "#fde0ef"
            ],
            [
             0.5,
             "#f7f7f7"
            ],
            [
             0.6,
             "#e6f5d0"
            ],
            [
             0.7,
             "#b8e186"
            ],
            [
             0.8,
             "#7fbc41"
            ],
            [
             0.9,
             "#4d9221"
            ],
            [
             1,
             "#276419"
            ]
           ],
           "sequential": [
            [
             0,
             "#0d0887"
            ],
            [
             0.1111111111111111,
             "#46039f"
            ],
            [
             0.2222222222222222,
             "#7201a8"
            ],
            [
             0.3333333333333333,
             "#9c179e"
            ],
            [
             0.4444444444444444,
             "#bd3786"
            ],
            [
             0.5555555555555556,
             "#d8576b"
            ],
            [
             0.6666666666666666,
             "#ed7953"
            ],
            [
             0.7777777777777778,
             "#fb9f3a"
            ],
            [
             0.8888888888888888,
             "#fdca26"
            ],
            [
             1,
             "#f0f921"
            ]
           ],
           "sequentialminus": [
            [
             0,
             "#0d0887"
            ],
            [
             0.1111111111111111,
             "#46039f"
            ],
            [
             0.2222222222222222,
             "#7201a8"
            ],
            [
             0.3333333333333333,
             "#9c179e"
            ],
            [
             0.4444444444444444,
             "#bd3786"
            ],
            [
             0.5555555555555556,
             "#d8576b"
            ],
            [
             0.6666666666666666,
             "#ed7953"
            ],
            [
             0.7777777777777778,
             "#fb9f3a"
            ],
            [
             0.8888888888888888,
             "#fdca26"
            ],
            [
             1,
             "#f0f921"
            ]
           ]
          },
          "colorway": [
           "#636efa",
           "#EF553B",
           "#00cc96",
           "#ab63fa",
           "#FFA15A",
           "#19d3f3",
           "#FF6692",
           "#B6E880",
           "#FF97FF",
           "#FECB52"
          ],
          "font": {
           "color": "#2a3f5f"
          },
          "geo": {
           "bgcolor": "white",
           "lakecolor": "white",
           "landcolor": "#E5ECF6",
           "showlakes": true,
           "showland": true,
           "subunitcolor": "white"
          },
          "hoverlabel": {
           "align": "left"
          },
          "hovermode": "closest",
          "mapbox": {
           "style": "light"
          },
          "paper_bgcolor": "white",
          "plot_bgcolor": "#E5ECF6",
          "polar": {
           "angularaxis": {
            "gridcolor": "white",
            "linecolor": "white",
            "ticks": ""
           },
           "bgcolor": "#E5ECF6",
           "radialaxis": {
            "gridcolor": "white",
            "linecolor": "white",
            "ticks": ""
           }
          },
          "scene": {
           "xaxis": {
            "backgroundcolor": "#E5ECF6",
            "gridcolor": "white",
            "gridwidth": 2,
            "linecolor": "white",
            "showbackground": true,
            "ticks": "",
            "zerolinecolor": "white"
           },
           "yaxis": {
            "backgroundcolor": "#E5ECF6",
            "gridcolor": "white",
            "gridwidth": 2,
            "linecolor": "white",
            "showbackground": true,
            "ticks": "",
            "zerolinecolor": "white"
           },
           "zaxis": {
            "backgroundcolor": "#E5ECF6",
            "gridcolor": "white",
            "gridwidth": 2,
            "linecolor": "white",
            "showbackground": true,
            "ticks": "",
            "zerolinecolor": "white"
           }
          },
          "shapedefaults": {
           "line": {
            "color": "#2a3f5f"
           }
          },
          "ternary": {
           "aaxis": {
            "gridcolor": "white",
            "linecolor": "white",
            "ticks": ""
           },
           "baxis": {
            "gridcolor": "white",
            "linecolor": "white",
            "ticks": ""
           },
           "bgcolor": "#E5ECF6",
           "caxis": {
            "gridcolor": "white",
            "linecolor": "white",
            "ticks": ""
           }
          },
          "title": {
           "x": 0.05
          },
          "xaxis": {
           "automargin": true,
           "gridcolor": "white",
           "linecolor": "white",
           "ticks": "",
           "title": {
            "standoff": 15
           },
           "zerolinecolor": "white",
           "zerolinewidth": 2
          },
          "yaxis": {
           "automargin": true,
           "gridcolor": "white",
           "linecolor": "white",
           "ticks": "",
           "title": {
            "standoff": 15
           },
           "zerolinecolor": "white",
           "zerolinewidth": 2
          }
         }
        },
        "title": {
         "text": "Evolution du PIB au cours du temps - Crise économique Argentine",
         "x": 0.5,
         "xanchor": "center",
         "y": 0.9,
         "yanchor": "top"
        },
        "width": 1500,
        "xaxis": {
         "anchor": "y",
         "domain": [
          0,
          1
         ],
         "title": {
          "text": "Trimestre"
         }
        },
        "yaxis": {
         "anchor": "x",
         "domain": [
          0,
          1
         ],
         "title": {
          "text": "Evolution du PIB (%)"
         }
        }
       }
      }
     },
     "metadata": {}
    }
   ],
   "source": [
    "list_dates = g.get_list_dates_q(2017, 2020)#Dates pour lesquelles nous souhaitons afficher les données\n",
    "df_fra_usa = g.filter_df(['FRA', 'DEU', 'USA', 'JPN', 'GBR', 'ARG', 'BRA'], 'Q', 'TOT', 'PC_CHGPP', list_dates)#Filtrage du df principal en fonction des éléments désirés\n",
    "\n",
    "g.line_graph(df_fra_usa, x='TIME', y='Value', x_label=\"Trimestre\", y_label=\"Evolution du PIB (%)\", title='Evolution du PIB au cours du temps - Crise économique Argentine')#Création des courbes\n",
    "g.display()"
   ]
  },
  {
   "cell_type": "markdown",
   "metadata": {},
   "source": [
    "Nous pouvons étudier un troisième exemple avec la crise économique connue par l'Argentine dont la monnaie nationale (peso argentin) a perdu 50% de sa valeur entre Janvier 2018 et Septembre 2018.\n",
    "\n",
    "Avec une chute de la croissance du PIB de -5% au deuxième trimestre de 2018, l'impact de la crise est visible. Cependant, contrairement à la crise des subprimes de 2008, nous constatons que l'influence de cette crise n'est que nationale."
   ]
  },
  {
   "cell_type": "markdown",
   "metadata": {},
   "source": [
    "## Corrélation entre les données"
   ]
  },
  {
   "cell_type": "markdown",
   "metadata": {},
   "source": [
    "Comme vu précédemment, l'influence des évènements peut être nationale ou internationale. En fonction des relations politiques et économiques entretenues entre les nations, nous pouvons déterminer la corrélation entre leurs croissances respectives du PIB.\n",
    "\n",
    "Afin d'illustrer cette corrélation, nous choisirons différents pays dont la proximité politique et économique varie. "
   ]
  },
  {
   "cell_type": "code",
   "execution_count": 10,
   "metadata": {},
   "outputs": [
    {
     "output_type": "display_data",
     "data": {
      "application/vnd.plotly.v1+json": {
       "config": {
        "plotlyServerURL": "https://plot.ly"
       },
       "data": [
        {
         "colorscale": [
          [
           0,
           "rgb(255,255,217)"
          ],
          [
           0.125,
           "rgb(237,248,177)"
          ],
          [
           0.25,
           "rgb(199,233,180)"
          ],
          [
           0.375,
           "rgb(127,205,187)"
          ],
          [
           0.5,
           "rgb(65,182,196)"
          ],
          [
           0.625,
           "rgb(29,145,192)"
          ],
          [
           0.75,
           "rgb(34,94,168)"
          ],
          [
           0.875,
           "rgb(37,52,148)"
          ],
          [
           1,
           "rgb(8,29,88)"
          ]
         ],
         "reversescale": false,
         "showscale": false,
         "type": "heatmap",
         "x": [
          "FRA",
          "DEU",
          "ITA",
          "ESP",
          "GBR",
          "CAN",
          "USA",
          "JPN",
          "MEX",
          "ARG",
          "KOR",
          "CHN",
          "G-7"
         ],
         "y": [
          "G-7",
          "CHN",
          "KOR",
          "ARG",
          "MEX",
          "JPN",
          "USA",
          "CAN",
          "GBR",
          "ESP",
          "ITA",
          "DEU",
          "FRA"
         ],
         "z": [
          [
           0.874,
           0.754,
           0.813,
           0.679,
           0.882,
           0.809,
           0.932,
           0.754,
           0.603,
           0.422,
           0.415,
           0.146,
           1
          ],
          [
           0.151,
           0.192,
           0.191,
           0.127,
           0.145,
           0.04,
           0.043,
           0.274,
           0.029,
           0.498,
           0.355,
           1,
           0.146
          ],
          [
           0.335,
           0.306,
           0.438,
           0.3,
           0.351,
           0.392,
           0.307,
           0.467,
           0.022,
           0.024,
           1,
           0.355,
           0.415
          ],
          [
           0.31,
           0.405,
           0.288,
           0.168,
           0.304,
           0.226,
           0.367,
           0.436,
           0.562,
           1,
           0.024,
           0.498,
           0.422
          ],
          [
           0.48,
           0.529,
           0.358,
           0.305,
           0.503,
           0.523,
           0.619,
           0.363,
           1,
           0.562,
           0.022,
           0.029,
           0.603
          ],
          [
           0.516,
           0.607,
           0.575,
           0.332,
           0.6,
           0.455,
           0.562,
           1,
           0.363,
           0.436,
           0.467,
           0.274,
           0.754
          ],
          [
           0.777,
           0.528,
           0.653,
           0.644,
           0.819,
           0.765,
           1,
           0.562,
           0.619,
           0.367,
           0.307,
           0.043,
           0.932
          ],
          [
           0.833,
           0.633,
           0.668,
           0.538,
           0.727,
           1,
           0.765,
           0.455,
           0.523,
           0.226,
           0.392,
           0.04,
           0.809
          ],
          [
           0.769,
           0.643,
           0.722,
           0.693,
           1,
           0.727,
           0.819,
           0.6,
           0.503,
           0.304,
           0.351,
           0.145,
           0.882
          ],
          [
           0.736,
           0.462,
           0.812,
           1,
           0.693,
           0.538,
           0.644,
           0.332,
           0.305,
           0.168,
           0.3,
           0.127,
           0.679
          ],
          [
           0.873,
           0.751,
           1,
           0.812,
           0.722,
           0.668,
           0.653,
           0.575,
           0.358,
           0.288,
           0.438,
           0.191,
           0.813
          ],
          [
           0.769,
           1,
           0.751,
           0.462,
           0.643,
           0.633,
           0.528,
           0.607,
           0.529,
           0.405,
           0.306,
           0.192,
           0.754
          ],
          [
           1,
           0.769,
           0.873,
           0.736,
           0.769,
           0.833,
           0.777,
           0.516,
           0.48,
           0.31,
           0.335,
           0.151,
           0.874
          ]
         ]
        }
       ],
       "layout": {
        "annotations": [
         {
          "font": {
           "color": "#FFFFFF"
          },
          "showarrow": false,
          "text": "0.874",
          "x": "FRA",
          "xref": "x",
          "y": "G-7",
          "yref": "y"
         },
         {
          "font": {
           "color": "#FFFFFF"
          },
          "showarrow": false,
          "text": "0.754",
          "x": "DEU",
          "xref": "x",
          "y": "G-7",
          "yref": "y"
         },
         {
          "font": {
           "color": "#FFFFFF"
          },
          "showarrow": false,
          "text": "0.813",
          "x": "ITA",
          "xref": "x",
          "y": "G-7",
          "yref": "y"
         },
         {
          "font": {
           "color": "#FFFFFF"
          },
          "showarrow": false,
          "text": "0.679",
          "x": "ESP",
          "xref": "x",
          "y": "G-7",
          "yref": "y"
         },
         {
          "font": {
           "color": "#FFFFFF"
          },
          "showarrow": false,
          "text": "0.882",
          "x": "GBR",
          "xref": "x",
          "y": "G-7",
          "yref": "y"
         },
         {
          "font": {
           "color": "#FFFFFF"
          },
          "showarrow": false,
          "text": "0.809",
          "x": "CAN",
          "xref": "x",
          "y": "G-7",
          "yref": "y"
         },
         {
          "font": {
           "color": "#FFFFFF"
          },
          "showarrow": false,
          "text": "0.932",
          "x": "USA",
          "xref": "x",
          "y": "G-7",
          "yref": "y"
         },
         {
          "font": {
           "color": "#FFFFFF"
          },
          "showarrow": false,
          "text": "0.754",
          "x": "JPN",
          "xref": "x",
          "y": "G-7",
          "yref": "y"
         },
         {
          "font": {
           "color": "#FFFFFF"
          },
          "showarrow": false,
          "text": "0.603",
          "x": "MEX",
          "xref": "x",
          "y": "G-7",
          "yref": "y"
         },
         {
          "font": {
           "color": "#000000"
          },
          "showarrow": false,
          "text": "0.422",
          "x": "ARG",
          "xref": "x",
          "y": "G-7",
          "yref": "y"
         },
         {
          "font": {
           "color": "#000000"
          },
          "showarrow": false,
          "text": "0.415",
          "x": "KOR",
          "xref": "x",
          "y": "G-7",
          "yref": "y"
         },
         {
          "font": {
           "color": "#000000"
          },
          "showarrow": false,
          "text": "0.146",
          "x": "CHN",
          "xref": "x",
          "y": "G-7",
          "yref": "y"
         },
         {
          "font": {
           "color": "#FFFFFF"
          },
          "showarrow": false,
          "text": "1.0",
          "x": "G-7",
          "xref": "x",
          "y": "G-7",
          "yref": "y"
         },
         {
          "font": {
           "color": "#000000"
          },
          "showarrow": false,
          "text": "0.151",
          "x": "FRA",
          "xref": "x",
          "y": "CHN",
          "yref": "y"
         },
         {
          "font": {
           "color": "#000000"
          },
          "showarrow": false,
          "text": "0.192",
          "x": "DEU",
          "xref": "x",
          "y": "CHN",
          "yref": "y"
         },
         {
          "font": {
           "color": "#000000"
          },
          "showarrow": false,
          "text": "0.191",
          "x": "ITA",
          "xref": "x",
          "y": "CHN",
          "yref": "y"
         },
         {
          "font": {
           "color": "#000000"
          },
          "showarrow": false,
          "text": "0.127",
          "x": "ESP",
          "xref": "x",
          "y": "CHN",
          "yref": "y"
         },
         {
          "font": {
           "color": "#000000"
          },
          "showarrow": false,
          "text": "0.145",
          "x": "GBR",
          "xref": "x",
          "y": "CHN",
          "yref": "y"
         },
         {
          "font": {
           "color": "#000000"
          },
          "showarrow": false,
          "text": "0.04",
          "x": "CAN",
          "xref": "x",
          "y": "CHN",
          "yref": "y"
         },
         {
          "font": {
           "color": "#000000"
          },
          "showarrow": false,
          "text": "0.043",
          "x": "USA",
          "xref": "x",
          "y": "CHN",
          "yref": "y"
         },
         {
          "font": {
           "color": "#000000"
          },
          "showarrow": false,
          "text": "0.274",
          "x": "JPN",
          "xref": "x",
          "y": "CHN",
          "yref": "y"
         },
         {
          "font": {
           "color": "#000000"
          },
          "showarrow": false,
          "text": "0.029",
          "x": "MEX",
          "xref": "x",
          "y": "CHN",
          "yref": "y"
         },
         {
          "font": {
           "color": "#000000"
          },
          "showarrow": false,
          "text": "0.498",
          "x": "ARG",
          "xref": "x",
          "y": "CHN",
          "yref": "y"
         },
         {
          "font": {
           "color": "#000000"
          },
          "showarrow": false,
          "text": "0.355",
          "x": "KOR",
          "xref": "x",
          "y": "CHN",
          "yref": "y"
         },
         {
          "font": {
           "color": "#FFFFFF"
          },
          "showarrow": false,
          "text": "1.0",
          "x": "CHN",
          "xref": "x",
          "y": "CHN",
          "yref": "y"
         },
         {
          "font": {
           "color": "#000000"
          },
          "showarrow": false,
          "text": "0.146",
          "x": "G-7",
          "xref": "x",
          "y": "CHN",
          "yref": "y"
         },
         {
          "font": {
           "color": "#000000"
          },
          "showarrow": false,
          "text": "0.335",
          "x": "FRA",
          "xref": "x",
          "y": "KOR",
          "yref": "y"
         },
         {
          "font": {
           "color": "#000000"
          },
          "showarrow": false,
          "text": "0.306",
          "x": "DEU",
          "xref": "x",
          "y": "KOR",
          "yref": "y"
         },
         {
          "font": {
           "color": "#000000"
          },
          "showarrow": false,
          "text": "0.438",
          "x": "ITA",
          "xref": "x",
          "y": "KOR",
          "yref": "y"
         },
         {
          "font": {
           "color": "#000000"
          },
          "showarrow": false,
          "text": "0.3",
          "x": "ESP",
          "xref": "x",
          "y": "KOR",
          "yref": "y"
         },
         {
          "font": {
           "color": "#000000"
          },
          "showarrow": false,
          "text": "0.351",
          "x": "GBR",
          "xref": "x",
          "y": "KOR",
          "yref": "y"
         },
         {
          "font": {
           "color": "#000000"
          },
          "showarrow": false,
          "text": "0.392",
          "x": "CAN",
          "xref": "x",
          "y": "KOR",
          "yref": "y"
         },
         {
          "font": {
           "color": "#000000"
          },
          "showarrow": false,
          "text": "0.307",
          "x": "USA",
          "xref": "x",
          "y": "KOR",
          "yref": "y"
         },
         {
          "font": {
           "color": "#000000"
          },
          "showarrow": false,
          "text": "0.467",
          "x": "JPN",
          "xref": "x",
          "y": "KOR",
          "yref": "y"
         },
         {
          "font": {
           "color": "#000000"
          },
          "showarrow": false,
          "text": "0.022",
          "x": "MEX",
          "xref": "x",
          "y": "KOR",
          "yref": "y"
         },
         {
          "font": {
           "color": "#000000"
          },
          "showarrow": false,
          "text": "0.024",
          "x": "ARG",
          "xref": "x",
          "y": "KOR",
          "yref": "y"
         },
         {
          "font": {
           "color": "#FFFFFF"
          },
          "showarrow": false,
          "text": "1.0",
          "x": "KOR",
          "xref": "x",
          "y": "KOR",
          "yref": "y"
         },
         {
          "font": {
           "color": "#000000"
          },
          "showarrow": false,
          "text": "0.355",
          "x": "CHN",
          "xref": "x",
          "y": "KOR",
          "yref": "y"
         },
         {
          "font": {
           "color": "#000000"
          },
          "showarrow": false,
          "text": "0.415",
          "x": "G-7",
          "xref": "x",
          "y": "KOR",
          "yref": "y"
         },
         {
          "font": {
           "color": "#000000"
          },
          "showarrow": false,
          "text": "0.31",
          "x": "FRA",
          "xref": "x",
          "y": "ARG",
          "yref": "y"
         },
         {
          "font": {
           "color": "#000000"
          },
          "showarrow": false,
          "text": "0.405",
          "x": "DEU",
          "xref": "x",
          "y": "ARG",
          "yref": "y"
         },
         {
          "font": {
           "color": "#000000"
          },
          "showarrow": false,
          "text": "0.288",
          "x": "ITA",
          "xref": "x",
          "y": "ARG",
          "yref": "y"
         },
         {
          "font": {
           "color": "#000000"
          },
          "showarrow": false,
          "text": "0.168",
          "x": "ESP",
          "xref": "x",
          "y": "ARG",
          "yref": "y"
         },
         {
          "font": {
           "color": "#000000"
          },
          "showarrow": false,
          "text": "0.304",
          "x": "GBR",
          "xref": "x",
          "y": "ARG",
          "yref": "y"
         },
         {
          "font": {
           "color": "#000000"
          },
          "showarrow": false,
          "text": "0.226",
          "x": "CAN",
          "xref": "x",
          "y": "ARG",
          "yref": "y"
         },
         {
          "font": {
           "color": "#000000"
          },
          "showarrow": false,
          "text": "0.367",
          "x": "USA",
          "xref": "x",
          "y": "ARG",
          "yref": "y"
         },
         {
          "font": {
           "color": "#000000"
          },
          "showarrow": false,
          "text": "0.436",
          "x": "JPN",
          "xref": "x",
          "y": "ARG",
          "yref": "y"
         },
         {
          "font": {
           "color": "#FFFFFF"
          },
          "showarrow": false,
          "text": "0.562",
          "x": "MEX",
          "xref": "x",
          "y": "ARG",
          "yref": "y"
         },
         {
          "font": {
           "color": "#FFFFFF"
          },
          "showarrow": false,
          "text": "1.0",
          "x": "ARG",
          "xref": "x",
          "y": "ARG",
          "yref": "y"
         },
         {
          "font": {
           "color": "#000000"
          },
          "showarrow": false,
          "text": "0.024",
          "x": "KOR",
          "xref": "x",
          "y": "ARG",
          "yref": "y"
         },
         {
          "font": {
           "color": "#000000"
          },
          "showarrow": false,
          "text": "0.498",
          "x": "CHN",
          "xref": "x",
          "y": "ARG",
          "yref": "y"
         },
         {
          "font": {
           "color": "#000000"
          },
          "showarrow": false,
          "text": "0.422",
          "x": "G-7",
          "xref": "x",
          "y": "ARG",
          "yref": "y"
         },
         {
          "font": {
           "color": "#000000"
          },
          "showarrow": false,
          "text": "0.48",
          "x": "FRA",
          "xref": "x",
          "y": "MEX",
          "yref": "y"
         },
         {
          "font": {
           "color": "#FFFFFF"
          },
          "showarrow": false,
          "text": "0.529",
          "x": "DEU",
          "xref": "x",
          "y": "MEX",
          "yref": "y"
         },
         {
          "font": {
           "color": "#000000"
          },
          "showarrow": false,
          "text": "0.358",
          "x": "ITA",
          "xref": "x",
          "y": "MEX",
          "yref": "y"
         },
         {
          "font": {
           "color": "#000000"
          },
          "showarrow": false,
          "text": "0.305",
          "x": "ESP",
          "xref": "x",
          "y": "MEX",
          "yref": "y"
         },
         {
          "font": {
           "color": "#000000"
          },
          "showarrow": false,
          "text": "0.503",
          "x": "GBR",
          "xref": "x",
          "y": "MEX",
          "yref": "y"
         },
         {
          "font": {
           "color": "#FFFFFF"
          },
          "showarrow": false,
          "text": "0.523",
          "x": "CAN",
          "xref": "x",
          "y": "MEX",
          "yref": "y"
         },
         {
          "font": {
           "color": "#FFFFFF"
          },
          "showarrow": false,
          "text": "0.619",
          "x": "USA",
          "xref": "x",
          "y": "MEX",
          "yref": "y"
         },
         {
          "font": {
           "color": "#000000"
          },
          "showarrow": false,
          "text": "0.363",
          "x": "JPN",
          "xref": "x",
          "y": "MEX",
          "yref": "y"
         },
         {
          "font": {
           "color": "#FFFFFF"
          },
          "showarrow": false,
          "text": "1.0",
          "x": "MEX",
          "xref": "x",
          "y": "MEX",
          "yref": "y"
         },
         {
          "font": {
           "color": "#FFFFFF"
          },
          "showarrow": false,
          "text": "0.562",
          "x": "ARG",
          "xref": "x",
          "y": "MEX",
          "yref": "y"
         },
         {
          "font": {
           "color": "#000000"
          },
          "showarrow": false,
          "text": "0.022",
          "x": "KOR",
          "xref": "x",
          "y": "MEX",
          "yref": "y"
         },
         {
          "font": {
           "color": "#000000"
          },
          "showarrow": false,
          "text": "0.029",
          "x": "CHN",
          "xref": "x",
          "y": "MEX",
          "yref": "y"
         },
         {
          "font": {
           "color": "#FFFFFF"
          },
          "showarrow": false,
          "text": "0.603",
          "x": "G-7",
          "xref": "x",
          "y": "MEX",
          "yref": "y"
         },
         {
          "font": {
           "color": "#FFFFFF"
          },
          "showarrow": false,
          "text": "0.516",
          "x": "FRA",
          "xref": "x",
          "y": "JPN",
          "yref": "y"
         },
         {
          "font": {
           "color": "#FFFFFF"
          },
          "showarrow": false,
          "text": "0.607",
          "x": "DEU",
          "xref": "x",
          "y": "JPN",
          "yref": "y"
         },
         {
          "font": {
           "color": "#FFFFFF"
          },
          "showarrow": false,
          "text": "0.575",
          "x": "ITA",
          "xref": "x",
          "y": "JPN",
          "yref": "y"
         },
         {
          "font": {
           "color": "#000000"
          },
          "showarrow": false,
          "text": "0.332",
          "x": "ESP",
          "xref": "x",
          "y": "JPN",
          "yref": "y"
         },
         {
          "font": {
           "color": "#FFFFFF"
          },
          "showarrow": false,
          "text": "0.6",
          "x": "GBR",
          "xref": "x",
          "y": "JPN",
          "yref": "y"
         },
         {
          "font": {
           "color": "#000000"
          },
          "showarrow": false,
          "text": "0.455",
          "x": "CAN",
          "xref": "x",
          "y": "JPN",
          "yref": "y"
         },
         {
          "font": {
           "color": "#FFFFFF"
          },
          "showarrow": false,
          "text": "0.562",
          "x": "USA",
          "xref": "x",
          "y": "JPN",
          "yref": "y"
         },
         {
          "font": {
           "color": "#FFFFFF"
          },
          "showarrow": false,
          "text": "1.0",
          "x": "JPN",
          "xref": "x",
          "y": "JPN",
          "yref": "y"
         },
         {
          "font": {
           "color": "#000000"
          },
          "showarrow": false,
          "text": "0.363",
          "x": "MEX",
          "xref": "x",
          "y": "JPN",
          "yref": "y"
         },
         {
          "font": {
           "color": "#000000"
          },
          "showarrow": false,
          "text": "0.436",
          "x": "ARG",
          "xref": "x",
          "y": "JPN",
          "yref": "y"
         },
         {
          "font": {
           "color": "#000000"
          },
          "showarrow": false,
          "text": "0.467",
          "x": "KOR",
          "xref": "x",
          "y": "JPN",
          "yref": "y"
         },
         {
          "font": {
           "color": "#000000"
          },
          "showarrow": false,
          "text": "0.274",
          "x": "CHN",
          "xref": "x",
          "y": "JPN",
          "yref": "y"
         },
         {
          "font": {
           "color": "#FFFFFF"
          },
          "showarrow": false,
          "text": "0.754",
          "x": "G-7",
          "xref": "x",
          "y": "JPN",
          "yref": "y"
         },
         {
          "font": {
           "color": "#FFFFFF"
          },
          "showarrow": false,
          "text": "0.777",
          "x": "FRA",
          "xref": "x",
          "y": "USA",
          "yref": "y"
         },
         {
          "font": {
           "color": "#FFFFFF"
          },
          "showarrow": false,
          "text": "0.528",
          "x": "DEU",
          "xref": "x",
          "y": "USA",
          "yref": "y"
         },
         {
          "font": {
           "color": "#FFFFFF"
          },
          "showarrow": false,
          "text": "0.653",
          "x": "ITA",
          "xref": "x",
          "y": "USA",
          "yref": "y"
         },
         {
          "font": {
           "color": "#FFFFFF"
          },
          "showarrow": false,
          "text": "0.644",
          "x": "ESP",
          "xref": "x",
          "y": "USA",
          "yref": "y"
         },
         {
          "font": {
           "color": "#FFFFFF"
          },
          "showarrow": false,
          "text": "0.819",
          "x": "GBR",
          "xref": "x",
          "y": "USA",
          "yref": "y"
         },
         {
          "font": {
           "color": "#FFFFFF"
          },
          "showarrow": false,
          "text": "0.765",
          "x": "CAN",
          "xref": "x",
          "y": "USA",
          "yref": "y"
         },
         {
          "font": {
           "color": "#FFFFFF"
          },
          "showarrow": false,
          "text": "1.0",
          "x": "USA",
          "xref": "x",
          "y": "USA",
          "yref": "y"
         },
         {
          "font": {
           "color": "#FFFFFF"
          },
          "showarrow": false,
          "text": "0.562",
          "x": "JPN",
          "xref": "x",
          "y": "USA",
          "yref": "y"
         },
         {
          "font": {
           "color": "#FFFFFF"
          },
          "showarrow": false,
          "text": "0.619",
          "x": "MEX",
          "xref": "x",
          "y": "USA",
          "yref": "y"
         },
         {
          "font": {
           "color": "#000000"
          },
          "showarrow": false,
          "text": "0.367",
          "x": "ARG",
          "xref": "x",
          "y": "USA",
          "yref": "y"
         },
         {
          "font": {
           "color": "#000000"
          },
          "showarrow": false,
          "text": "0.307",
          "x": "KOR",
          "xref": "x",
          "y": "USA",
          "yref": "y"
         },
         {
          "font": {
           "color": "#000000"
          },
          "showarrow": false,
          "text": "0.043",
          "x": "CHN",
          "xref": "x",
          "y": "USA",
          "yref": "y"
         },
         {
          "font": {
           "color": "#FFFFFF"
          },
          "showarrow": false,
          "text": "0.932",
          "x": "G-7",
          "xref": "x",
          "y": "USA",
          "yref": "y"
         },
         {
          "font": {
           "color": "#FFFFFF"
          },
          "showarrow": false,
          "text": "0.833",
          "x": "FRA",
          "xref": "x",
          "y": "CAN",
          "yref": "y"
         },
         {
          "font": {
           "color": "#FFFFFF"
          },
          "showarrow": false,
          "text": "0.633",
          "x": "DEU",
          "xref": "x",
          "y": "CAN",
          "yref": "y"
         },
         {
          "font": {
           "color": "#FFFFFF"
          },
          "showarrow": false,
          "text": "0.668",
          "x": "ITA",
          "xref": "x",
          "y": "CAN",
          "yref": "y"
         },
         {
          "font": {
           "color": "#FFFFFF"
          },
          "showarrow": false,
          "text": "0.538",
          "x": "ESP",
          "xref": "x",
          "y": "CAN",
          "yref": "y"
         },
         {
          "font": {
           "color": "#FFFFFF"
          },
          "showarrow": false,
          "text": "0.727",
          "x": "GBR",
          "xref": "x",
          "y": "CAN",
          "yref": "y"
         },
         {
          "font": {
           "color": "#FFFFFF"
          },
          "showarrow": false,
          "text": "1.0",
          "x": "CAN",
          "xref": "x",
          "y": "CAN",
          "yref": "y"
         },
         {
          "font": {
           "color": "#FFFFFF"
          },
          "showarrow": false,
          "text": "0.765",
          "x": "USA",
          "xref": "x",
          "y": "CAN",
          "yref": "y"
         },
         {
          "font": {
           "color": "#000000"
          },
          "showarrow": false,
          "text": "0.455",
          "x": "JPN",
          "xref": "x",
          "y": "CAN",
          "yref": "y"
         },
         {
          "font": {
           "color": "#FFFFFF"
          },
          "showarrow": false,
          "text": "0.523",
          "x": "MEX",
          "xref": "x",
          "y": "CAN",
          "yref": "y"
         },
         {
          "font": {
           "color": "#000000"
          },
          "showarrow": false,
          "text": "0.226",
          "x": "ARG",
          "xref": "x",
          "y": "CAN",
          "yref": "y"
         },
         {
          "font": {
           "color": "#000000"
          },
          "showarrow": false,
          "text": "0.392",
          "x": "KOR",
          "xref": "x",
          "y": "CAN",
          "yref": "y"
         },
         {
          "font": {
           "color": "#000000"
          },
          "showarrow": false,
          "text": "0.04",
          "x": "CHN",
          "xref": "x",
          "y": "CAN",
          "yref": "y"
         },
         {
          "font": {
           "color": "#FFFFFF"
          },
          "showarrow": false,
          "text": "0.809",
          "x": "G-7",
          "xref": "x",
          "y": "CAN",
          "yref": "y"
         },
         {
          "font": {
           "color": "#FFFFFF"
          },
          "showarrow": false,
          "text": "0.769",
          "x": "FRA",
          "xref": "x",
          "y": "GBR",
          "yref": "y"
         },
         {
          "font": {
           "color": "#FFFFFF"
          },
          "showarrow": false,
          "text": "0.643",
          "x": "DEU",
          "xref": "x",
          "y": "GBR",
          "yref": "y"
         },
         {
          "font": {
           "color": "#FFFFFF"
          },
          "showarrow": false,
          "text": "0.722",
          "x": "ITA",
          "xref": "x",
          "y": "GBR",
          "yref": "y"
         },
         {
          "font": {
           "color": "#FFFFFF"
          },
          "showarrow": false,
          "text": "0.693",
          "x": "ESP",
          "xref": "x",
          "y": "GBR",
          "yref": "y"
         },
         {
          "font": {
           "color": "#FFFFFF"
          },
          "showarrow": false,
          "text": "1.0",
          "x": "GBR",
          "xref": "x",
          "y": "GBR",
          "yref": "y"
         },
         {
          "font": {
           "color": "#FFFFFF"
          },
          "showarrow": false,
          "text": "0.727",
          "x": "CAN",
          "xref": "x",
          "y": "GBR",
          "yref": "y"
         },
         {
          "font": {
           "color": "#FFFFFF"
          },
          "showarrow": false,
          "text": "0.819",
          "x": "USA",
          "xref": "x",
          "y": "GBR",
          "yref": "y"
         },
         {
          "font": {
           "color": "#FFFFFF"
          },
          "showarrow": false,
          "text": "0.6",
          "x": "JPN",
          "xref": "x",
          "y": "GBR",
          "yref": "y"
         },
         {
          "font": {
           "color": "#000000"
          },
          "showarrow": false,
          "text": "0.503",
          "x": "MEX",
          "xref": "x",
          "y": "GBR",
          "yref": "y"
         },
         {
          "font": {
           "color": "#000000"
          },
          "showarrow": false,
          "text": "0.304",
          "x": "ARG",
          "xref": "x",
          "y": "GBR",
          "yref": "y"
         },
         {
          "font": {
           "color": "#000000"
          },
          "showarrow": false,
          "text": "0.351",
          "x": "KOR",
          "xref": "x",
          "y": "GBR",
          "yref": "y"
         },
         {
          "font": {
           "color": "#000000"
          },
          "showarrow": false,
          "text": "0.145",
          "x": "CHN",
          "xref": "x",
          "y": "GBR",
          "yref": "y"
         },
         {
          "font": {
           "color": "#FFFFFF"
          },
          "showarrow": false,
          "text": "0.882",
          "x": "G-7",
          "xref": "x",
          "y": "GBR",
          "yref": "y"
         },
         {
          "font": {
           "color": "#FFFFFF"
          },
          "showarrow": false,
          "text": "0.736",
          "x": "FRA",
          "xref": "x",
          "y": "ESP",
          "yref": "y"
         },
         {
          "font": {
           "color": "#000000"
          },
          "showarrow": false,
          "text": "0.462",
          "x": "DEU",
          "xref": "x",
          "y": "ESP",
          "yref": "y"
         },
         {
          "font": {
           "color": "#FFFFFF"
          },
          "showarrow": false,
          "text": "0.812",
          "x": "ITA",
          "xref": "x",
          "y": "ESP",
          "yref": "y"
         },
         {
          "font": {
           "color": "#FFFFFF"
          },
          "showarrow": false,
          "text": "1.0",
          "x": "ESP",
          "xref": "x",
          "y": "ESP",
          "yref": "y"
         },
         {
          "font": {
           "color": "#FFFFFF"
          },
          "showarrow": false,
          "text": "0.693",
          "x": "GBR",
          "xref": "x",
          "y": "ESP",
          "yref": "y"
         },
         {
          "font": {
           "color": "#FFFFFF"
          },
          "showarrow": false,
          "text": "0.538",
          "x": "CAN",
          "xref": "x",
          "y": "ESP",
          "yref": "y"
         },
         {
          "font": {
           "color": "#FFFFFF"
          },
          "showarrow": false,
          "text": "0.644",
          "x": "USA",
          "xref": "x",
          "y": "ESP",
          "yref": "y"
         },
         {
          "font": {
           "color": "#000000"
          },
          "showarrow": false,
          "text": "0.332",
          "x": "JPN",
          "xref": "x",
          "y": "ESP",
          "yref": "y"
         },
         {
          "font": {
           "color": "#000000"
          },
          "showarrow": false,
          "text": "0.305",
          "x": "MEX",
          "xref": "x",
          "y": "ESP",
          "yref": "y"
         },
         {
          "font": {
           "color": "#000000"
          },
          "showarrow": false,
          "text": "0.168",
          "x": "ARG",
          "xref": "x",
          "y": "ESP",
          "yref": "y"
         },
         {
          "font": {
           "color": "#000000"
          },
          "showarrow": false,
          "text": "0.3",
          "x": "KOR",
          "xref": "x",
          "y": "ESP",
          "yref": "y"
         },
         {
          "font": {
           "color": "#000000"
          },
          "showarrow": false,
          "text": "0.127",
          "x": "CHN",
          "xref": "x",
          "y": "ESP",
          "yref": "y"
         },
         {
          "font": {
           "color": "#FFFFFF"
          },
          "showarrow": false,
          "text": "0.679",
          "x": "G-7",
          "xref": "x",
          "y": "ESP",
          "yref": "y"
         },
         {
          "font": {
           "color": "#FFFFFF"
          },
          "showarrow": false,
          "text": "0.873",
          "x": "FRA",
          "xref": "x",
          "y": "ITA",
          "yref": "y"
         },
         {
          "font": {
           "color": "#FFFFFF"
          },
          "showarrow": false,
          "text": "0.751",
          "x": "DEU",
          "xref": "x",
          "y": "ITA",
          "yref": "y"
         },
         {
          "font": {
           "color": "#FFFFFF"
          },
          "showarrow": false,
          "text": "1.0",
          "x": "ITA",
          "xref": "x",
          "y": "ITA",
          "yref": "y"
         },
         {
          "font": {
           "color": "#FFFFFF"
          },
          "showarrow": false,
          "text": "0.812",
          "x": "ESP",
          "xref": "x",
          "y": "ITA",
          "yref": "y"
         },
         {
          "font": {
           "color": "#FFFFFF"
          },
          "showarrow": false,
          "text": "0.722",
          "x": "GBR",
          "xref": "x",
          "y": "ITA",
          "yref": "y"
         },
         {
          "font": {
           "color": "#FFFFFF"
          },
          "showarrow": false,
          "text": "0.668",
          "x": "CAN",
          "xref": "x",
          "y": "ITA",
          "yref": "y"
         },
         {
          "font": {
           "color": "#FFFFFF"
          },
          "showarrow": false,
          "text": "0.653",
          "x": "USA",
          "xref": "x",
          "y": "ITA",
          "yref": "y"
         },
         {
          "font": {
           "color": "#FFFFFF"
          },
          "showarrow": false,
          "text": "0.575",
          "x": "JPN",
          "xref": "x",
          "y": "ITA",
          "yref": "y"
         },
         {
          "font": {
           "color": "#000000"
          },
          "showarrow": false,
          "text": "0.358",
          "x": "MEX",
          "xref": "x",
          "y": "ITA",
          "yref": "y"
         },
         {
          "font": {
           "color": "#000000"
          },
          "showarrow": false,
          "text": "0.288",
          "x": "ARG",
          "xref": "x",
          "y": "ITA",
          "yref": "y"
         },
         {
          "font": {
           "color": "#000000"
          },
          "showarrow": false,
          "text": "0.438",
          "x": "KOR",
          "xref": "x",
          "y": "ITA",
          "yref": "y"
         },
         {
          "font": {
           "color": "#000000"
          },
          "showarrow": false,
          "text": "0.191",
          "x": "CHN",
          "xref": "x",
          "y": "ITA",
          "yref": "y"
         },
         {
          "font": {
           "color": "#FFFFFF"
          },
          "showarrow": false,
          "text": "0.813",
          "x": "G-7",
          "xref": "x",
          "y": "ITA",
          "yref": "y"
         },
         {
          "font": {
           "color": "#FFFFFF"
          },
          "showarrow": false,
          "text": "0.769",
          "x": "FRA",
          "xref": "x",
          "y": "DEU",
          "yref": "y"
         },
         {
          "font": {
           "color": "#FFFFFF"
          },
          "showarrow": false,
          "text": "1.0",
          "x": "DEU",
          "xref": "x",
          "y": "DEU",
          "yref": "y"
         },
         {
          "font": {
           "color": "#FFFFFF"
          },
          "showarrow": false,
          "text": "0.751",
          "x": "ITA",
          "xref": "x",
          "y": "DEU",
          "yref": "y"
         },
         {
          "font": {
           "color": "#000000"
          },
          "showarrow": false,
          "text": "0.462",
          "x": "ESP",
          "xref": "x",
          "y": "DEU",
          "yref": "y"
         },
         {
          "font": {
           "color": "#FFFFFF"
          },
          "showarrow": false,
          "text": "0.643",
          "x": "GBR",
          "xref": "x",
          "y": "DEU",
          "yref": "y"
         },
         {
          "font": {
           "color": "#FFFFFF"
          },
          "showarrow": false,
          "text": "0.633",
          "x": "CAN",
          "xref": "x",
          "y": "DEU",
          "yref": "y"
         },
         {
          "font": {
           "color": "#FFFFFF"
          },
          "showarrow": false,
          "text": "0.528",
          "x": "USA",
          "xref": "x",
          "y": "DEU",
          "yref": "y"
         },
         {
          "font": {
           "color": "#FFFFFF"
          },
          "showarrow": false,
          "text": "0.607",
          "x": "JPN",
          "xref": "x",
          "y": "DEU",
          "yref": "y"
         },
         {
          "font": {
           "color": "#FFFFFF"
          },
          "showarrow": false,
          "text": "0.529",
          "x": "MEX",
          "xref": "x",
          "y": "DEU",
          "yref": "y"
         },
         {
          "font": {
           "color": "#000000"
          },
          "showarrow": false,
          "text": "0.405",
          "x": "ARG",
          "xref": "x",
          "y": "DEU",
          "yref": "y"
         },
         {
          "font": {
           "color": "#000000"
          },
          "showarrow": false,
          "text": "0.306",
          "x": "KOR",
          "xref": "x",
          "y": "DEU",
          "yref": "y"
         },
         {
          "font": {
           "color": "#000000"
          },
          "showarrow": false,
          "text": "0.192",
          "x": "CHN",
          "xref": "x",
          "y": "DEU",
          "yref": "y"
         },
         {
          "font": {
           "color": "#FFFFFF"
          },
          "showarrow": false,
          "text": "0.754",
          "x": "G-7",
          "xref": "x",
          "y": "DEU",
          "yref": "y"
         },
         {
          "font": {
           "color": "#FFFFFF"
          },
          "showarrow": false,
          "text": "1.0",
          "x": "FRA",
          "xref": "x",
          "y": "FRA",
          "yref": "y"
         },
         {
          "font": {
           "color": "#FFFFFF"
          },
          "showarrow": false,
          "text": "0.769",
          "x": "DEU",
          "xref": "x",
          "y": "FRA",
          "yref": "y"
         },
         {
          "font": {
           "color": "#FFFFFF"
          },
          "showarrow": false,
          "text": "0.873",
          "x": "ITA",
          "xref": "x",
          "y": "FRA",
          "yref": "y"
         },
         {
          "font": {
           "color": "#FFFFFF"
          },
          "showarrow": false,
          "text": "0.736",
          "x": "ESP",
          "xref": "x",
          "y": "FRA",
          "yref": "y"
         },
         {
          "font": {
           "color": "#FFFFFF"
          },
          "showarrow": false,
          "text": "0.769",
          "x": "GBR",
          "xref": "x",
          "y": "FRA",
          "yref": "y"
         },
         {
          "font": {
           "color": "#FFFFFF"
          },
          "showarrow": false,
          "text": "0.833",
          "x": "CAN",
          "xref": "x",
          "y": "FRA",
          "yref": "y"
         },
         {
          "font": {
           "color": "#FFFFFF"
          },
          "showarrow": false,
          "text": "0.777",
          "x": "USA",
          "xref": "x",
          "y": "FRA",
          "yref": "y"
         },
         {
          "font": {
           "color": "#FFFFFF"
          },
          "showarrow": false,
          "text": "0.516",
          "x": "JPN",
          "xref": "x",
          "y": "FRA",
          "yref": "y"
         },
         {
          "font": {
           "color": "#000000"
          },
          "showarrow": false,
          "text": "0.48",
          "x": "MEX",
          "xref": "x",
          "y": "FRA",
          "yref": "y"
         },
         {
          "font": {
           "color": "#000000"
          },
          "showarrow": false,
          "text": "0.31",
          "x": "ARG",
          "xref": "x",
          "y": "FRA",
          "yref": "y"
         },
         {
          "font": {
           "color": "#000000"
          },
          "showarrow": false,
          "text": "0.335",
          "x": "KOR",
          "xref": "x",
          "y": "FRA",
          "yref": "y"
         },
         {
          "font": {
           "color": "#000000"
          },
          "showarrow": false,
          "text": "0.151",
          "x": "CHN",
          "xref": "x",
          "y": "FRA",
          "yref": "y"
         },
         {
          "font": {
           "color": "#FFFFFF"
          },
          "showarrow": false,
          "text": "0.874",
          "x": "G-7",
          "xref": "x",
          "y": "FRA",
          "yref": "y"
         }
        ],
        "template": {
         "data": {
          "bar": [
           {
            "error_x": {
             "color": "#2a3f5f"
            },
            "error_y": {
             "color": "#2a3f5f"
            },
            "marker": {
             "line": {
              "color": "#E5ECF6",
              "width": 0.5
             }
            },
            "type": "bar"
           }
          ],
          "barpolar": [
           {
            "marker": {
             "line": {
              "color": "#E5ECF6",
              "width": 0.5
             }
            },
            "type": "barpolar"
           }
          ],
          "carpet": [
           {
            "aaxis": {
             "endlinecolor": "#2a3f5f",
             "gridcolor": "white",
             "linecolor": "white",
             "minorgridcolor": "white",
             "startlinecolor": "#2a3f5f"
            },
            "baxis": {
             "endlinecolor": "#2a3f5f",
             "gridcolor": "white",
             "linecolor": "white",
             "minorgridcolor": "white",
             "startlinecolor": "#2a3f5f"
            },
            "type": "carpet"
           }
          ],
          "choropleth": [
           {
            "colorbar": {
             "outlinewidth": 0,
             "ticks": ""
            },
            "type": "choropleth"
           }
          ],
          "contour": [
           {
            "colorbar": {
             "outlinewidth": 0,
             "ticks": ""
            },
            "colorscale": [
             [
              0,
              "#0d0887"
             ],
             [
              0.1111111111111111,
              "#46039f"
             ],
             [
              0.2222222222222222,
              "#7201a8"
             ],
             [
              0.3333333333333333,
              "#9c179e"
             ],
             [
              0.4444444444444444,
              "#bd3786"
             ],
             [
              0.5555555555555556,
              "#d8576b"
             ],
             [
              0.6666666666666666,
              "#ed7953"
             ],
             [
              0.7777777777777778,
              "#fb9f3a"
             ],
             [
              0.8888888888888888,
              "#fdca26"
             ],
             [
              1,
              "#f0f921"
             ]
            ],
            "type": "contour"
           }
          ],
          "contourcarpet": [
           {
            "colorbar": {
             "outlinewidth": 0,
             "ticks": ""
            },
            "type": "contourcarpet"
           }
          ],
          "heatmap": [
           {
            "colorbar": {
             "outlinewidth": 0,
             "ticks": ""
            },
            "colorscale": [
             [
              0,
              "#0d0887"
             ],
             [
              0.1111111111111111,
              "#46039f"
             ],
             [
              0.2222222222222222,
              "#7201a8"
             ],
             [
              0.3333333333333333,
              "#9c179e"
             ],
             [
              0.4444444444444444,
              "#bd3786"
             ],
             [
              0.5555555555555556,
              "#d8576b"
             ],
             [
              0.6666666666666666,
              "#ed7953"
             ],
             [
              0.7777777777777778,
              "#fb9f3a"
             ],
             [
              0.8888888888888888,
              "#fdca26"
             ],
             [
              1,
              "#f0f921"
             ]
            ],
            "type": "heatmap"
           }
          ],
          "heatmapgl": [
           {
            "colorbar": {
             "outlinewidth": 0,
             "ticks": ""
            },
            "colorscale": [
             [
              0,
              "#0d0887"
             ],
             [
              0.1111111111111111,
              "#46039f"
             ],
             [
              0.2222222222222222,
              "#7201a8"
             ],
             [
              0.3333333333333333,
              "#9c179e"
             ],
             [
              0.4444444444444444,
              "#bd3786"
             ],
             [
              0.5555555555555556,
              "#d8576b"
             ],
             [
              0.6666666666666666,
              "#ed7953"
             ],
             [
              0.7777777777777778,
              "#fb9f3a"
             ],
             [
              0.8888888888888888,
              "#fdca26"
             ],
             [
              1,
              "#f0f921"
             ]
            ],
            "type": "heatmapgl"
           }
          ],
          "histogram": [
           {
            "marker": {
             "colorbar": {
              "outlinewidth": 0,
              "ticks": ""
             }
            },
            "type": "histogram"
           }
          ],
          "histogram2d": [
           {
            "colorbar": {
             "outlinewidth": 0,
             "ticks": ""
            },
            "colorscale": [
             [
              0,
              "#0d0887"
             ],
             [
              0.1111111111111111,
              "#46039f"
             ],
             [
              0.2222222222222222,
              "#7201a8"
             ],
             [
              0.3333333333333333,
              "#9c179e"
             ],
             [
              0.4444444444444444,
              "#bd3786"
             ],
             [
              0.5555555555555556,
              "#d8576b"
             ],
             [
              0.6666666666666666,
              "#ed7953"
             ],
             [
              0.7777777777777778,
              "#fb9f3a"
             ],
             [
              0.8888888888888888,
              "#fdca26"
             ],
             [
              1,
              "#f0f921"
             ]
            ],
            "type": "histogram2d"
           }
          ],
          "histogram2dcontour": [
           {
            "colorbar": {
             "outlinewidth": 0,
             "ticks": ""
            },
            "colorscale": [
             [
              0,
              "#0d0887"
             ],
             [
              0.1111111111111111,
              "#46039f"
             ],
             [
              0.2222222222222222,
              "#7201a8"
             ],
             [
              0.3333333333333333,
              "#9c179e"
             ],
             [
              0.4444444444444444,
              "#bd3786"
             ],
             [
              0.5555555555555556,
              "#d8576b"
             ],
             [
              0.6666666666666666,
              "#ed7953"
             ],
             [
              0.7777777777777778,
              "#fb9f3a"
             ],
             [
              0.8888888888888888,
              "#fdca26"
             ],
             [
              1,
              "#f0f921"
             ]
            ],
            "type": "histogram2dcontour"
           }
          ],
          "mesh3d": [
           {
            "colorbar": {
             "outlinewidth": 0,
             "ticks": ""
            },
            "type": "mesh3d"
           }
          ],
          "parcoords": [
           {
            "line": {
             "colorbar": {
              "outlinewidth": 0,
              "ticks": ""
             }
            },
            "type": "parcoords"
           }
          ],
          "pie": [
           {
            "automargin": true,
            "type": "pie"
           }
          ],
          "scatter": [
           {
            "marker": {
             "colorbar": {
              "outlinewidth": 0,
              "ticks": ""
             }
            },
            "type": "scatter"
           }
          ],
          "scatter3d": [
           {
            "line": {
             "colorbar": {
              "outlinewidth": 0,
              "ticks": ""
             }
            },
            "marker": {
             "colorbar": {
              "outlinewidth": 0,
              "ticks": ""
             }
            },
            "type": "scatter3d"
           }
          ],
          "scattercarpet": [
           {
            "marker": {
             "colorbar": {
              "outlinewidth": 0,
              "ticks": ""
             }
            },
            "type": "scattercarpet"
           }
          ],
          "scattergeo": [
           {
            "marker": {
             "colorbar": {
              "outlinewidth": 0,
              "ticks": ""
             }
            },
            "type": "scattergeo"
           }
          ],
          "scattergl": [
           {
            "marker": {
             "colorbar": {
              "outlinewidth": 0,
              "ticks": ""
             }
            },
            "type": "scattergl"
           }
          ],
          "scattermapbox": [
           {
            "marker": {
             "colorbar": {
              "outlinewidth": 0,
              "ticks": ""
             }
            },
            "type": "scattermapbox"
           }
          ],
          "scatterpolar": [
           {
            "marker": {
             "colorbar": {
              "outlinewidth": 0,
              "ticks": ""
             }
            },
            "type": "scatterpolar"
           }
          ],
          "scatterpolargl": [
           {
            "marker": {
             "colorbar": {
              "outlinewidth": 0,
              "ticks": ""
             }
            },
            "type": "scatterpolargl"
           }
          ],
          "scatterternary": [
           {
            "marker": {
             "colorbar": {
              "outlinewidth": 0,
              "ticks": ""
             }
            },
            "type": "scatterternary"
           }
          ],
          "surface": [
           {
            "colorbar": {
             "outlinewidth": 0,
             "ticks": ""
            },
            "colorscale": [
             [
              0,
              "#0d0887"
             ],
             [
              0.1111111111111111,
              "#46039f"
             ],
             [
              0.2222222222222222,
              "#7201a8"
             ],
             [
              0.3333333333333333,
              "#9c179e"
             ],
             [
              0.4444444444444444,
              "#bd3786"
             ],
             [
              0.5555555555555556,
              "#d8576b"
             ],
             [
              0.6666666666666666,
              "#ed7953"
             ],
             [
              0.7777777777777778,
              "#fb9f3a"
             ],
             [
              0.8888888888888888,
              "#fdca26"
             ],
             [
              1,
              "#f0f921"
             ]
            ],
            "type": "surface"
           }
          ],
          "table": [
           {
            "cells": {
             "fill": {
              "color": "#EBF0F8"
             },
             "line": {
              "color": "white"
             }
            },
            "header": {
             "fill": {
              "color": "#C8D4E3"
             },
             "line": {
              "color": "white"
             }
            },
            "type": "table"
           }
          ]
         },
         "layout": {
          "annotationdefaults": {
           "arrowcolor": "#2a3f5f",
           "arrowhead": 0,
           "arrowwidth": 1
          },
          "coloraxis": {
           "colorbar": {
            "outlinewidth": 0,
            "ticks": ""
           }
          },
          "colorscale": {
           "diverging": [
            [
             0,
             "#8e0152"
            ],
            [
             0.1,
             "#c51b7d"
            ],
            [
             0.2,
             "#de77ae"
            ],
            [
             0.3,
             "#f1b6da"
            ],
            [
             0.4,
             "#fde0ef"
            ],
            [
             0.5,
             "#f7f7f7"
            ],
            [
             0.6,
             "#e6f5d0"
            ],
            [
             0.7,
             "#b8e186"
            ],
            [
             0.8,
             "#7fbc41"
            ],
            [
             0.9,
             "#4d9221"
            ],
            [
             1,
             "#276419"
            ]
           ],
           "sequential": [
            [
             0,
             "#0d0887"
            ],
            [
             0.1111111111111111,
             "#46039f"
            ],
            [
             0.2222222222222222,
             "#7201a8"
            ],
            [
             0.3333333333333333,
             "#9c179e"
            ],
            [
             0.4444444444444444,
             "#bd3786"
            ],
            [
             0.5555555555555556,
             "#d8576b"
            ],
            [
             0.6666666666666666,
             "#ed7953"
            ],
            [
             0.7777777777777778,
             "#fb9f3a"
            ],
            [
             0.8888888888888888,
             "#fdca26"
            ],
            [
             1,
             "#f0f921"
            ]
           ],
           "sequentialminus": [
            [
             0,
             "#0d0887"
            ],
            [
             0.1111111111111111,
             "#46039f"
            ],
            [
             0.2222222222222222,
             "#7201a8"
            ],
            [
             0.3333333333333333,
             "#9c179e"
            ],
            [
             0.4444444444444444,
             "#bd3786"
            ],
            [
             0.5555555555555556,
             "#d8576b"
            ],
            [
             0.6666666666666666,
             "#ed7953"
            ],
            [
             0.7777777777777778,
             "#fb9f3a"
            ],
            [
             0.8888888888888888,
             "#fdca26"
            ],
            [
             1,
             "#f0f921"
            ]
           ]
          },
          "colorway": [
           "#636efa",
           "#EF553B",
           "#00cc96",
           "#ab63fa",
           "#FFA15A",
           "#19d3f3",
           "#FF6692",
           "#B6E880",
           "#FF97FF",
           "#FECB52"
          ],
          "font": {
           "color": "#2a3f5f"
          },
          "geo": {
           "bgcolor": "white",
           "lakecolor": "white",
           "landcolor": "#E5ECF6",
           "showlakes": true,
           "showland": true,
           "subunitcolor": "white"
          },
          "hoverlabel": {
           "align": "left"
          },
          "hovermode": "closest",
          "mapbox": {
           "style": "light"
          },
          "paper_bgcolor": "white",
          "plot_bgcolor": "#E5ECF6",
          "polar": {
           "angularaxis": {
            "gridcolor": "white",
            "linecolor": "white",
            "ticks": ""
           },
           "bgcolor": "#E5ECF6",
           "radialaxis": {
            "gridcolor": "white",
            "linecolor": "white",
            "ticks": ""
           }
          },
          "scene": {
           "xaxis": {
            "backgroundcolor": "#E5ECF6",
            "gridcolor": "white",
            "gridwidth": 2,
            "linecolor": "white",
            "showbackground": true,
            "ticks": "",
            "zerolinecolor": "white"
           },
           "yaxis": {
            "backgroundcolor": "#E5ECF6",
            "gridcolor": "white",
            "gridwidth": 2,
            "linecolor": "white",
            "showbackground": true,
            "ticks": "",
            "zerolinecolor": "white"
           },
           "zaxis": {
            "backgroundcolor": "#E5ECF6",
            "gridcolor": "white",
            "gridwidth": 2,
            "linecolor": "white",
            "showbackground": true,
            "ticks": "",
            "zerolinecolor": "white"
           }
          },
          "shapedefaults": {
           "line": {
            "color": "#2a3f5f"
           }
          },
          "ternary": {
           "aaxis": {
            "gridcolor": "white",
            "linecolor": "white",
            "ticks": ""
           },
           "baxis": {
            "gridcolor": "white",
            "linecolor": "white",
            "ticks": ""
           },
           "bgcolor": "#E5ECF6",
           "caxis": {
            "gridcolor": "white",
            "linecolor": "white",
            "ticks": ""
           }
          },
          "title": {
           "x": 0.05
          },
          "xaxis": {
           "automargin": true,
           "gridcolor": "white",
           "linecolor": "white",
           "ticks": "",
           "title": {
            "standoff": 15
           },
           "zerolinecolor": "white",
           "zerolinewidth": 2
          },
          "yaxis": {
           "automargin": true,
           "gridcolor": "white",
           "linecolor": "white",
           "ticks": "",
           "title": {
            "standoff": 15
           },
           "zerolinecolor": "white",
           "zerolinewidth": 2
          }
         }
        },
        "title": {
         "text": "Corrélation entre le PIB de FRA, DEU, ITA, ESP, GBR, CAN, USA, JPN, MEX, ARG, KOR, CHN, G-7"
        },
        "xaxis": {
         "dtick": 1,
         "gridcolor": "rgb(0, 0, 0)",
         "side": "top",
         "ticks": ""
        },
        "yaxis": {
         "dtick": 1,
         "ticks": "",
         "ticksuffix": "  "
        }
       }
      }
     },
     "metadata": {}
    }
   ],
   "source": [
    "dates = g.get_list_dates_q(1995, 2020)\n",
    "g.display_correlation_heatmap(dates = dates, countries = [\"FRA\", \"DEU\", \"ITA\", \"ESP\", \"GBR\", \"CAN\", \"USA\", \"JPN\", \"MEX\", \"ARG\", \"KOR\", \"CHN\", \"G-7\"])\n",
    "\n",
    "#dates = g.get_list_dates_q(1990, 2020)\n",
    "#g.display_correlation_heatmap(dates = dates, countries = [\"FRA\", \"DEU\", \"ITA\", \"ESP\", \"GBR\", \"CAN\", \"USA\", \"JPN\", \"MEX\", \"ARG\", \"KOR\", \"G-7\"])"
   ]
  },
  {
   "cell_type": "markdown",
   "metadata": {},
   "source": [
    "Pour la période de 1995 à 2019, comme attendu nous remarquons une forte corrélation entre les PIB de nations partageant une grande partie de leur marché. Le marché Europpéen se dinstingue très facilement, de même que les accords de libre échange entre nations comme c'est le cas entre le Canada et les Etats-Unis.\n",
    "\n",
    "A l'inverse, entre des pays présentant de nombreuses divergences tels que les Etats-Unis et la Chine, la corrélation entre leurs PIB est faible.\n",
    "\n",
    "Ainsi les difféntes politiques économiques internationales adoptées par les nations ont un impact sur le PIB des pays concernés."
   ]
  },
  {
   "cell_type": "code",
   "execution_count": 11,
   "metadata": {},
   "outputs": [],
   "source": [
    "# dates = g.get_list_dates_q(1995, 2020)\n",
    "\n",
    "#df_corr = g.display_correlation_line(dates = dates, countries = [\"G-7\", \"CHN\"])\n",
    "#g.line_graph(df_corr, x='TIME', y='Value', x_label=\"Année\", y_label=\"Correlation entre les PIB\", title='Evolution de la correlation entre les PIB')#Création des courbes\n",
    "#g.display()"
   ]
  },
  {
   "cell_type": "markdown",
   "metadata": {},
   "source": [
    "## Prédictions"
   ]
  },
  {
   "cell_type": "markdown",
   "metadata": {},
   "source": [
    "### Corrélation période des données - Etude du cas de la France"
   ]
  },
  {
   "cell_type": "code",
   "execution_count": 12,
   "metadata": {
    "pycharm": {
     "name": "#%%\n"
    }
   },
   "outputs": [],
   "source": [
    "dataFR = data[data['LOCATION'] == 'FRA']\n",
    "gpy, gpp, ind = tr.traitementParPays(dataFR, 'A')\n",
    "# tr.mobilMoy(gpp,4)"
   ]
  },
  {
   "cell_type": "markdown",
   "metadata": {
    "pycharm": {
     "name": "#%% md\n"
    }
   },
   "source": [
    "Les séries de données que nous étudions étant chronologiques, nous réalisons un graphique de retard afin d'observer une potentielle indcidence des données passées sur les données présentes.\n",
    "\n",
    "Les graphiques de retard ci dessous nous montrent les relations entre les données en t / t+1 et t / t+2"
   ]
  },
  {
   "cell_type": "markdown",
   "metadata": {},
   "source": [
    "#### Corrélation des données entre t et t+1"
   ]
  },
  {
   "cell_type": "code",
   "execution_count": 13,
   "metadata": {
    "pycharm": {
     "name": "#%%\n"
    }
   },
   "outputs": [
    {
     "output_type": "display_data",
     "data": {
      "text/plain": "<Figure size 432x288 with 1 Axes>",
      "image/svg+xml": "<?xml version=\"1.0\" encoding=\"utf-8\" standalone=\"no\"?>\r\n<!DOCTYPE svg PUBLIC \"-//W3C//DTD SVG 1.1//EN\"\r\n  \"http://www.w3.org/Graphics/SVG/1.1/DTD/svg11.dtd\">\r\n<!-- Created with matplotlib (https://matplotlib.org/) -->\r\n<svg height=\"262.19625pt\" version=\"1.1\" viewBox=\"0 0 384.620312 262.19625\" width=\"384.620312pt\" xmlns=\"http://www.w3.org/2000/svg\" xmlns:xlink=\"http://www.w3.org/1999/xlink\">\r\n <metadata>\r\n  <rdf:RDF xmlns:cc=\"http://creativecommons.org/ns#\" xmlns:dc=\"http://purl.org/dc/elements/1.1/\" xmlns:rdf=\"http://www.w3.org/1999/02/22-rdf-syntax-ns#\">\r\n   <cc:Work>\r\n    <dc:type rdf:resource=\"http://purl.org/dc/dcmitype/StillImage\"/>\r\n    <dc:date>2020-12-03T12:31:19.766602</dc:date>\r\n    <dc:format>image/svg+xml</dc:format>\r\n    <dc:creator>\r\n     <cc:Agent>\r\n      <dc:title>Matplotlib v3.3.2, https://matplotlib.org/</dc:title>\r\n     </cc:Agent>\r\n    </dc:creator>\r\n   </cc:Work>\r\n  </rdf:RDF>\r\n </metadata>\r\n <defs>\r\n  <style type=\"text/css\">*{stroke-linecap:butt;stroke-linejoin:round;}</style>\r\n </defs>\r\n <g id=\"figure_1\">\r\n  <g id=\"patch_1\">\r\n   <path d=\"M 0 262.19625 \r\nL 384.620312 262.19625 \r\nL 384.620312 0 \r\nL 0 0 \r\nz\r\n\" style=\"fill:none;\"/>\r\n  </g>\r\n  <g id=\"axes_1\">\r\n   <g id=\"patch_2\">\r\n    <path d=\"M 42.620313 224.64 \r\nL 377.420313 224.64 \r\nL 377.420313 7.2 \r\nL 42.620313 7.2 \r\nz\r\n\" style=\"fill:#ffffff;\"/>\r\n   </g>\r\n   <g id=\"PathCollection_1\">\r\n    <defs>\r\n     <path d=\"M 0 3 \r\nC 0.795609 3 1.55874 2.683901 2.12132 2.12132 \r\nC 2.683901 1.55874 3 0.795609 3 0 \r\nC 3 -0.795609 2.683901 -1.55874 2.12132 -2.12132 \r\nC 1.55874 -2.683901 0.795609 -3 0 -3 \r\nC -0.795609 -3 -1.55874 -2.683901 -2.12132 -2.12132 \r\nC -2.683901 -1.55874 -3 -0.795609 -3 0 \r\nC -3 0.795609 -2.683901 1.55874 -2.12132 2.12132 \r\nC -1.55874 2.683901 -0.795609 3 0 3 \r\nz\r\n\" id=\"ma14d2254a6\" style=\"stroke:#1f77b4;\"/>\r\n    </defs>\r\n    <g clip-path=\"url(#pef1bd99729)\">\r\n     <use style=\"fill:#1f77b4;stroke:#1f77b4;\" x=\"316.474234\" xlink:href=\"#ma14d2254a6\" y=\"23.415581\"/>\r\n     <use style=\"fill:#1f77b4;stroke:#1f77b4;\" x=\"352.452613\" xlink:href=\"#ma14d2254a6\" y=\"46.286732\"/>\r\n     <use style=\"fill:#1f77b4;stroke:#1f77b4;\" x=\"317.237099\" xlink:href=\"#ma14d2254a6\" y=\"26.395751\"/>\r\n     <use style=\"fill:#1f77b4;stroke:#1f77b4;\" x=\"347.863941\" xlink:href=\"#ma14d2254a6\" y=\"61.476189\"/>\r\n     <use style=\"fill:#1f77b4;stroke:#1f77b4;\" x=\"293.849359\" xlink:href=\"#ma14d2254a6\" y=\"52.607535\"/>\r\n     <use style=\"fill:#1f77b4;stroke:#1f77b4;\" x=\"307.504737\" xlink:href=\"#ma14d2254a6\" y=\"63.14513\"/>\r\n     <use style=\"fill:#1f77b4;stroke:#1f77b4;\" x=\"291.279632\" xlink:href=\"#ma14d2254a6\" y=\"71.788503\"/>\r\n     <use style=\"fill:#1f77b4;stroke:#1f77b4;\" x=\"277.971128\" xlink:href=\"#ma14d2254a6\" y=\"17.083636\"/>\r\n     <use style=\"fill:#1f77b4;stroke:#1f77b4;\" x=\"362.202131\" xlink:href=\"#ma14d2254a6\" y=\"42.25221\"/>\r\n     <use style=\"fill:#1f77b4;stroke:#1f77b4;\" x=\"323.449195\" xlink:href=\"#ma14d2254a6\" y=\"61.277586\"/>\r\n     <use style=\"fill:#1f77b4;stroke:#1f77b4;\" x=\"294.155155\" xlink:href=\"#ma14d2254a6\" y=\"68.340728\"/>\r\n     <use style=\"fill:#1f77b4;stroke:#1f77b4;\" x=\"283.279788\" xlink:href=\"#ma14d2254a6\" y=\"48.112352\"/>\r\n     <use style=\"fill:#1f77b4;stroke:#1f77b4;\" x=\"314.426128\" xlink:href=\"#ma14d2254a6\" y=\"94.826244\"/>\r\n     <use style=\"fill:#1f77b4;stroke:#1f77b4;\" x=\"242.499109\" xlink:href=\"#ma14d2254a6\" y=\"162.739668\"/>\r\n     <use style=\"fill:#1f77b4;stroke:#1f77b4;\" x=\"137.930427\" xlink:href=\"#ma14d2254a6\" y=\"72.089794\"/>\r\n     <use style=\"fill:#1f77b4;stroke:#1f77b4;\" x=\"277.507219\" xlink:href=\"#ma14d2254a6\" y=\"92.662845\"/>\r\n     <use style=\"fill:#1f77b4;stroke:#1f77b4;\" x=\"245.83017\" xlink:href=\"#ma14d2254a6\" y=\"90.004628\"/>\r\n     <use style=\"fill:#1f77b4;stroke:#1f77b4;\" x=\"249.92312\" xlink:href=\"#ma14d2254a6\" y=\"92.182195\"/>\r\n     <use style=\"fill:#1f77b4;stroke:#1f77b4;\" x=\"246.570244\" xlink:href=\"#ma14d2254a6\" y=\"124.599231\"/>\r\n     <use style=\"fill:#1f77b4;stroke:#1f77b4;\" x=\"196.656596\" xlink:href=\"#ma14d2254a6\" y=\"135.740734\"/>\r\n     <use style=\"fill:#1f77b4;stroke:#1f77b4;\" x=\"179.501633\" xlink:href=\"#ma14d2254a6\" y=\"106.934471\"/>\r\n     <use style=\"fill:#1f77b4;stroke:#1f77b4;\" x=\"223.855647\" xlink:href=\"#ma14d2254a6\" y=\"132.292298\"/>\r\n     <use style=\"fill:#1f77b4;stroke:#1f77b4;\" x=\"184.81131\" xlink:href=\"#ma14d2254a6\" y=\"126.819376\"/>\r\n     <use style=\"fill:#1f77b4;stroke:#1f77b4;\" x=\"193.238161\" xlink:href=\"#ma14d2254a6\" y=\"124.625024\"/>\r\n     <use style=\"fill:#1f77b4;stroke:#1f77b4;\" x=\"196.616881\" xlink:href=\"#ma14d2254a6\" y=\"110.299816\"/>\r\n     <use style=\"fill:#1f77b4;stroke:#1f77b4;\" x=\"218.673908\" xlink:href=\"#ma14d2254a6\" y=\"105.806939\"/>\r\n     <use style=\"fill:#1f77b4;stroke:#1f77b4;\" x=\"225.591748\" xlink:href=\"#ma14d2254a6\" y=\"62.08972\"/>\r\n     <use style=\"fill:#1f77b4;stroke:#1f77b4;\" x=\"292.904683\" xlink:href=\"#ma14d2254a6\" y=\"70.089731\"/>\r\n     <use style=\"fill:#1f77b4;stroke:#1f77b4;\" x=\"280.586787\" xlink:href=\"#ma14d2254a6\" y=\"98.552086\"/>\r\n     <use style=\"fill:#1f77b4;stroke:#1f77b4;\" x=\"236.7623\" xlink:href=\"#ma14d2254a6\" y=\"136.149249\"/>\r\n     <use style=\"fill:#1f77b4;stroke:#1f77b4;\" x=\"178.872628\" xlink:href=\"#ma14d2254a6\" y=\"125.098238\"/>\r\n     <use style=\"fill:#1f77b4;stroke:#1f77b4;\" x=\"195.888257\" xlink:href=\"#ma14d2254a6\" y=\"169.764624\"/>\r\n     <use style=\"fill:#1f77b4;stroke:#1f77b4;\" x=\"127.113855\" xlink:href=\"#ma14d2254a6\" y=\"109.886473\"/>\r\n     <use style=\"fill:#1f77b4;stroke:#1f77b4;\" x=\"219.310345\" xlink:href=\"#ma14d2254a6\" y=\"114.934648\"/>\r\n     <use style=\"fill:#1f77b4;stroke:#1f77b4;\" x=\"211.537494\" xlink:href=\"#ma14d2254a6\" y=\"128.831058\"/>\r\n     <use style=\"fill:#1f77b4;stroke:#1f77b4;\" x=\"190.140703\" xlink:href=\"#ma14d2254a6\" y=\"110.332005\"/>\r\n     <use style=\"fill:#1f77b4;stroke:#1f77b4;\" x=\"218.624345\" xlink:href=\"#ma14d2254a6\" y=\"85.228886\"/>\r\n     <use style=\"fill:#1f77b4;stroke:#1f77b4;\" x=\"257.276498\" xlink:href=\"#ma14d2254a6\" y=\"88.571151\"/>\r\n     <use style=\"fill:#1f77b4;stroke:#1f77b4;\" x=\"252.130295\" xlink:href=\"#ma14d2254a6\" y=\"78.511897\"/>\r\n     <use style=\"fill:#1f77b4;stroke:#1f77b4;\" x=\"267.618881\" xlink:href=\"#ma14d2254a6\" y=\"117.394287\"/>\r\n     <use style=\"fill:#1f77b4;stroke:#1f77b4;\" x=\"207.750302\" xlink:href=\"#ma14d2254a6\" y=\"134.395558\"/>\r\n     <use style=\"fill:#1f77b4;stroke:#1f77b4;\" x=\"181.572847\" xlink:href=\"#ma14d2254a6\" y=\"140.655059\"/>\r\n     <use style=\"fill:#1f77b4;stroke:#1f77b4;\" x=\"171.934874\" xlink:href=\"#ma14d2254a6\" y=\"100.436391\"/>\r\n     <use style=\"fill:#1f77b4;stroke:#1f77b4;\" x=\"233.860968\" xlink:href=\"#ma14d2254a6\" y=\"123.812775\"/>\r\n     <use style=\"fill:#1f77b4;stroke:#1f77b4;\" x=\"197.86753\" xlink:href=\"#ma14d2254a6\" y=\"108.060311\"/>\r\n     <use style=\"fill:#1f77b4;stroke:#1f77b4;\" x=\"222.122152\" xlink:href=\"#ma14d2254a6\" y=\"108.551247\"/>\r\n     <use style=\"fill:#1f77b4;stroke:#1f77b4;\" x=\"221.36624\" xlink:href=\"#ma14d2254a6\" y=\"152.050328\"/>\r\n     <use style=\"fill:#1f77b4;stroke:#1f77b4;\" x=\"154.389178\" xlink:href=\"#ma14d2254a6\" y=\"214.756364\"/>\r\n     <use style=\"fill:#1f77b4;stroke:#1f77b4;\" x=\"57.838494\" xlink:href=\"#ma14d2254a6\" y=\"118.085688\"/>\r\n     <use style=\"fill:#1f77b4;stroke:#1f77b4;\" x=\"206.685726\" xlink:href=\"#ma14d2254a6\" y=\"113.207295\"/>\r\n     <use style=\"fill:#1f77b4;stroke:#1f77b4;\" x=\"214.197159\" xlink:href=\"#ma14d2254a6\" y=\"150.876263\"/>\r\n     <use style=\"fill:#1f77b4;stroke:#1f77b4;\" x=\"156.196927\" xlink:href=\"#ma14d2254a6\" y=\"145.606207\"/>\r\n     <use style=\"fill:#1f77b4;stroke:#1f77b4;\" x=\"164.311418\" xlink:href=\"#ma14d2254a6\" y=\"137.992798\"/>\r\n     <use style=\"fill:#1f77b4;stroke:#1f77b4;\" x=\"176.034051\" xlink:href=\"#ma14d2254a6\" y=\"134.851086\"/>\r\n     <use style=\"fill:#1f77b4;stroke:#1f77b4;\" x=\"180.871455\" xlink:href=\"#ma14d2254a6\" y=\"135.198971\"/>\r\n     <use style=\"fill:#1f77b4;stroke:#1f77b4;\" x=\"180.335804\" xlink:href=\"#ma14d2254a6\" y=\"111.225641\"/>\r\n     <use style=\"fill:#1f77b4;stroke:#1f77b4;\" x=\"217.248382\" xlink:href=\"#ma14d2254a6\" y=\"121.221191\"/>\r\n     <use style=\"fill:#1f77b4;stroke:#1f77b4;\" x=\"201.857882\" xlink:href=\"#ma14d2254a6\" y=\"126.916822\"/>\r\n    </g>\r\n   </g>\r\n   <g id=\"matplotlib.axis_1\">\r\n    <g id=\"xtick_1\">\r\n     <g id=\"line2d_1\">\r\n      <defs>\r\n       <path d=\"M 0 0 \r\nL 0 3.5 \r\n\" id=\"m65aaa31ab8\" style=\"stroke:#000000;stroke-width:0.8;\"/>\r\n      </defs>\r\n      <g>\r\n       <use style=\"stroke:#000000;stroke-width:0.8;\" x=\"84.794282\" xlink:href=\"#m65aaa31ab8\" y=\"224.64\"/>\r\n      </g>\r\n     </g>\r\n     <g id=\"text_1\">\r\n      <!-- −2 -->\r\n      <g transform=\"translate(77.423188 239.238437)scale(0.1 -0.1)\">\r\n       <defs>\r\n        <path d=\"M 10.59375 35.5 \r\nL 73.1875 35.5 \r\nL 73.1875 27.203125 \r\nL 10.59375 27.203125 \r\nz\r\n\" id=\"DejaVuSans-8722\"/>\r\n        <path d=\"M 19.1875 8.296875 \r\nL 53.609375 8.296875 \r\nL 53.609375 0 \r\nL 7.328125 0 \r\nL 7.328125 8.296875 \r\nQ 12.9375 14.109375 22.625 23.890625 \r\nQ 32.328125 33.6875 34.8125 36.53125 \r\nQ 39.546875 41.84375 41.421875 45.53125 \r\nQ 43.3125 49.21875 43.3125 52.78125 \r\nQ 43.3125 58.59375 39.234375 62.25 \r\nQ 35.15625 65.921875 28.609375 65.921875 \r\nQ 23.96875 65.921875 18.8125 64.3125 \r\nQ 13.671875 62.703125 7.8125 59.421875 \r\nL 7.8125 69.390625 \r\nQ 13.765625 71.78125 18.9375 73 \r\nQ 24.125 74.21875 28.421875 74.21875 \r\nQ 39.75 74.21875 46.484375 68.546875 \r\nQ 53.21875 62.890625 53.21875 53.421875 \r\nQ 53.21875 48.921875 51.53125 44.890625 \r\nQ 49.859375 40.875 45.40625 35.40625 \r\nQ 44.1875 33.984375 37.640625 27.21875 \r\nQ 31.109375 20.453125 19.1875 8.296875 \r\nz\r\n\" id=\"DejaVuSans-50\"/>\r\n       </defs>\r\n       <use xlink:href=\"#DejaVuSans-8722\"/>\r\n       <use x=\"83.789062\" xlink:href=\"#DejaVuSans-50\"/>\r\n      </g>\r\n     </g>\r\n    </g>\r\n    <g id=\"xtick_2\">\r\n     <g id=\"line2d_2\">\r\n      <g>\r\n       <use style=\"stroke:#000000;stroke-width:0.8;\" x=\"146.523373\" xlink:href=\"#m65aaa31ab8\" y=\"224.64\"/>\r\n      </g>\r\n     </g>\r\n     <g id=\"text_2\">\r\n      <!-- 0 -->\r\n      <g transform=\"translate(143.342123 239.238437)scale(0.1 -0.1)\">\r\n       <defs>\r\n        <path d=\"M 31.78125 66.40625 \r\nQ 24.171875 66.40625 20.328125 58.90625 \r\nQ 16.5 51.421875 16.5 36.375 \r\nQ 16.5 21.390625 20.328125 13.890625 \r\nQ 24.171875 6.390625 31.78125 6.390625 \r\nQ 39.453125 6.390625 43.28125 13.890625 \r\nQ 47.125 21.390625 47.125 36.375 \r\nQ 47.125 51.421875 43.28125 58.90625 \r\nQ 39.453125 66.40625 31.78125 66.40625 \r\nz\r\nM 31.78125 74.21875 \r\nQ 44.046875 74.21875 50.515625 64.515625 \r\nQ 56.984375 54.828125 56.984375 36.375 \r\nQ 56.984375 17.96875 50.515625 8.265625 \r\nQ 44.046875 -1.421875 31.78125 -1.421875 \r\nQ 19.53125 -1.421875 13.0625 8.265625 \r\nQ 6.59375 17.96875 6.59375 36.375 \r\nQ 6.59375 54.828125 13.0625 64.515625 \r\nQ 19.53125 74.21875 31.78125 74.21875 \r\nz\r\n\" id=\"DejaVuSans-48\"/>\r\n       </defs>\r\n       <use xlink:href=\"#DejaVuSans-48\"/>\r\n      </g>\r\n     </g>\r\n    </g>\r\n    <g id=\"xtick_3\">\r\n     <g id=\"line2d_3\">\r\n      <g>\r\n       <use style=\"stroke:#000000;stroke-width:0.8;\" x=\"208.252465\" xlink:href=\"#m65aaa31ab8\" y=\"224.64\"/>\r\n      </g>\r\n     </g>\r\n     <g id=\"text_3\">\r\n      <!-- 2 -->\r\n      <g transform=\"translate(205.071215 239.238437)scale(0.1 -0.1)\">\r\n       <use xlink:href=\"#DejaVuSans-50\"/>\r\n      </g>\r\n     </g>\r\n    </g>\r\n    <g id=\"xtick_4\">\r\n     <g id=\"line2d_4\">\r\n      <g>\r\n       <use style=\"stroke:#000000;stroke-width:0.8;\" x=\"269.981556\" xlink:href=\"#m65aaa31ab8\" y=\"224.64\"/>\r\n      </g>\r\n     </g>\r\n     <g id=\"text_4\">\r\n      <!-- 4 -->\r\n      <g transform=\"translate(266.800306 239.238437)scale(0.1 -0.1)\">\r\n       <defs>\r\n        <path d=\"M 37.796875 64.3125 \r\nL 12.890625 25.390625 \r\nL 37.796875 25.390625 \r\nz\r\nM 35.203125 72.90625 \r\nL 47.609375 72.90625 \r\nL 47.609375 25.390625 \r\nL 58.015625 25.390625 \r\nL 58.015625 17.1875 \r\nL 47.609375 17.1875 \r\nL 47.609375 0 \r\nL 37.796875 0 \r\nL 37.796875 17.1875 \r\nL 4.890625 17.1875 \r\nL 4.890625 26.703125 \r\nz\r\n\" id=\"DejaVuSans-52\"/>\r\n       </defs>\r\n       <use xlink:href=\"#DejaVuSans-52\"/>\r\n      </g>\r\n     </g>\r\n    </g>\r\n    <g id=\"xtick_5\">\r\n     <g id=\"line2d_5\">\r\n      <g>\r\n       <use style=\"stroke:#000000;stroke-width:0.8;\" x=\"331.710647\" xlink:href=\"#m65aaa31ab8\" y=\"224.64\"/>\r\n      </g>\r\n     </g>\r\n     <g id=\"text_5\">\r\n      <!-- 6 -->\r\n      <g transform=\"translate(328.529397 239.238437)scale(0.1 -0.1)\">\r\n       <defs>\r\n        <path d=\"M 33.015625 40.375 \r\nQ 26.375 40.375 22.484375 35.828125 \r\nQ 18.609375 31.296875 18.609375 23.390625 \r\nQ 18.609375 15.53125 22.484375 10.953125 \r\nQ 26.375 6.390625 33.015625 6.390625 \r\nQ 39.65625 6.390625 43.53125 10.953125 \r\nQ 47.40625 15.53125 47.40625 23.390625 \r\nQ 47.40625 31.296875 43.53125 35.828125 \r\nQ 39.65625 40.375 33.015625 40.375 \r\nz\r\nM 52.59375 71.296875 \r\nL 52.59375 62.3125 \r\nQ 48.875 64.0625 45.09375 64.984375 \r\nQ 41.3125 65.921875 37.59375 65.921875 \r\nQ 27.828125 65.921875 22.671875 59.328125 \r\nQ 17.53125 52.734375 16.796875 39.40625 \r\nQ 19.671875 43.65625 24.015625 45.921875 \r\nQ 28.375 48.1875 33.59375 48.1875 \r\nQ 44.578125 48.1875 50.953125 41.515625 \r\nQ 57.328125 34.859375 57.328125 23.390625 \r\nQ 57.328125 12.15625 50.6875 5.359375 \r\nQ 44.046875 -1.421875 33.015625 -1.421875 \r\nQ 20.359375 -1.421875 13.671875 8.265625 \r\nQ 6.984375 17.96875 6.984375 36.375 \r\nQ 6.984375 53.65625 15.1875 63.9375 \r\nQ 23.390625 74.21875 37.203125 74.21875 \r\nQ 40.921875 74.21875 44.703125 73.484375 \r\nQ 48.484375 72.75 52.59375 71.296875 \r\nz\r\n\" id=\"DejaVuSans-54\"/>\r\n       </defs>\r\n       <use xlink:href=\"#DejaVuSans-54\"/>\r\n      </g>\r\n     </g>\r\n    </g>\r\n    <g id=\"text_6\">\r\n     <!-- y(t) -->\r\n     <g transform=\"translate(201.199219 252.916562)scale(0.1 -0.1)\">\r\n      <defs>\r\n       <path d=\"M 32.171875 -5.078125 \r\nQ 28.375 -14.84375 24.75 -17.8125 \r\nQ 21.140625 -20.796875 15.09375 -20.796875 \r\nL 7.90625 -20.796875 \r\nL 7.90625 -13.28125 \r\nL 13.1875 -13.28125 \r\nQ 16.890625 -13.28125 18.9375 -11.515625 \r\nQ 21 -9.765625 23.484375 -3.21875 \r\nL 25.09375 0.875 \r\nL 2.984375 54.6875 \r\nL 12.5 54.6875 \r\nL 29.59375 11.921875 \r\nL 46.6875 54.6875 \r\nL 56.203125 54.6875 \r\nz\r\n\" id=\"DejaVuSans-121\"/>\r\n       <path d=\"M 31 75.875 \r\nQ 24.46875 64.65625 21.28125 53.65625 \r\nQ 18.109375 42.671875 18.109375 31.390625 \r\nQ 18.109375 20.125 21.3125 9.0625 \r\nQ 24.515625 -2 31 -13.1875 \r\nL 23.1875 -13.1875 \r\nQ 15.875 -1.703125 12.234375 9.375 \r\nQ 8.59375 20.453125 8.59375 31.390625 \r\nQ 8.59375 42.28125 12.203125 53.3125 \r\nQ 15.828125 64.359375 23.1875 75.875 \r\nz\r\n\" id=\"DejaVuSans-40\"/>\r\n       <path d=\"M 18.3125 70.21875 \r\nL 18.3125 54.6875 \r\nL 36.8125 54.6875 \r\nL 36.8125 47.703125 \r\nL 18.3125 47.703125 \r\nL 18.3125 18.015625 \r\nQ 18.3125 11.328125 20.140625 9.421875 \r\nQ 21.96875 7.515625 27.59375 7.515625 \r\nL 36.8125 7.515625 \r\nL 36.8125 0 \r\nL 27.59375 0 \r\nQ 17.1875 0 13.234375 3.875 \r\nQ 9.28125 7.765625 9.28125 18.015625 \r\nL 9.28125 47.703125 \r\nL 2.6875 47.703125 \r\nL 2.6875 54.6875 \r\nL 9.28125 54.6875 \r\nL 9.28125 70.21875 \r\nz\r\n\" id=\"DejaVuSans-116\"/>\r\n       <path d=\"M 8.015625 75.875 \r\nL 15.828125 75.875 \r\nQ 23.140625 64.359375 26.78125 53.3125 \r\nQ 30.421875 42.28125 30.421875 31.390625 \r\nQ 30.421875 20.453125 26.78125 9.375 \r\nQ 23.140625 -1.703125 15.828125 -13.1875 \r\nL 8.015625 -13.1875 \r\nQ 14.5 -2 17.703125 9.0625 \r\nQ 20.90625 20.125 20.90625 31.390625 \r\nQ 20.90625 42.671875 17.703125 53.65625 \r\nQ 14.5 64.65625 8.015625 75.875 \r\nz\r\n\" id=\"DejaVuSans-41\"/>\r\n      </defs>\r\n      <use xlink:href=\"#DejaVuSans-121\"/>\r\n      <use x=\"59.179688\" xlink:href=\"#DejaVuSans-40\"/>\r\n      <use x=\"98.193359\" xlink:href=\"#DejaVuSans-116\"/>\r\n      <use x=\"137.402344\" xlink:href=\"#DejaVuSans-41\"/>\r\n     </g>\r\n    </g>\r\n   </g>\r\n   <g id=\"matplotlib.axis_2\">\r\n    <g id=\"ytick_1\">\r\n     <g id=\"line2d_6\">\r\n      <defs>\r\n       <path d=\"M 0 0 \r\nL -3.5 0 \r\n\" id=\"m907bbd21f7\" style=\"stroke:#000000;stroke-width:0.8;\"/>\r\n      </defs>\r\n      <g>\r\n       <use style=\"stroke:#000000;stroke-width:0.8;\" x=\"42.620313\" xlink:href=\"#m907bbd21f7\" y=\"197.249594\"/>\r\n      </g>\r\n     </g>\r\n     <g id=\"text_7\">\r\n      <!-- −2 -->\r\n      <g transform=\"translate(20.878125 201.048813)scale(0.1 -0.1)\">\r\n       <use xlink:href=\"#DejaVuSans-8722\"/>\r\n       <use x=\"83.789062\" xlink:href=\"#DejaVuSans-50\"/>\r\n      </g>\r\n     </g>\r\n    </g>\r\n    <g id=\"ytick_2\">\r\n     <g id=\"line2d_7\">\r\n      <g>\r\n       <use style=\"stroke:#000000;stroke-width:0.8;\" x=\"42.620313\" xlink:href=\"#m907bbd21f7\" y=\"157.158872\"/>\r\n      </g>\r\n     </g>\r\n     <g id=\"text_8\">\r\n      <!-- 0 -->\r\n      <g transform=\"translate(29.257813 160.958091)scale(0.1 -0.1)\">\r\n       <use xlink:href=\"#DejaVuSans-48\"/>\r\n      </g>\r\n     </g>\r\n    </g>\r\n    <g id=\"ytick_3\">\r\n     <g id=\"line2d_8\">\r\n      <g>\r\n       <use style=\"stroke:#000000;stroke-width:0.8;\" x=\"42.620313\" xlink:href=\"#m907bbd21f7\" y=\"117.068151\"/>\r\n      </g>\r\n     </g>\r\n     <g id=\"text_9\">\r\n      <!-- 2 -->\r\n      <g transform=\"translate(29.257813 120.867369)scale(0.1 -0.1)\">\r\n       <use xlink:href=\"#DejaVuSans-50\"/>\r\n      </g>\r\n     </g>\r\n    </g>\r\n    <g id=\"ytick_4\">\r\n     <g id=\"line2d_9\">\r\n      <g>\r\n       <use style=\"stroke:#000000;stroke-width:0.8;\" x=\"42.620313\" xlink:href=\"#m907bbd21f7\" y=\"76.977429\"/>\r\n      </g>\r\n     </g>\r\n     <g id=\"text_10\">\r\n      <!-- 4 -->\r\n      <g transform=\"translate(29.257813 80.776648)scale(0.1 -0.1)\">\r\n       <use xlink:href=\"#DejaVuSans-52\"/>\r\n      </g>\r\n     </g>\r\n    </g>\r\n    <g id=\"ytick_5\">\r\n     <g id=\"line2d_10\">\r\n      <g>\r\n       <use style=\"stroke:#000000;stroke-width:0.8;\" x=\"42.620313\" xlink:href=\"#m907bbd21f7\" y=\"36.886707\"/>\r\n      </g>\r\n     </g>\r\n     <g id=\"text_11\">\r\n      <!-- 6 -->\r\n      <g transform=\"translate(29.257813 40.685926)scale(0.1 -0.1)\">\r\n       <use xlink:href=\"#DejaVuSans-54\"/>\r\n      </g>\r\n     </g>\r\n    </g>\r\n    <g id=\"text_12\">\r\n     <!-- y(t + 1) -->\r\n     <g transform=\"translate(14.798438 135.290312)rotate(-90)scale(0.1 -0.1)\">\r\n      <defs>\r\n       <path id=\"DejaVuSans-32\"/>\r\n       <path d=\"M 46 62.703125 \r\nL 46 35.5 \r\nL 73.1875 35.5 \r\nL 73.1875 27.203125 \r\nL 46 27.203125 \r\nL 46 0 \r\nL 37.796875 0 \r\nL 37.796875 27.203125 \r\nL 10.59375 27.203125 \r\nL 10.59375 35.5 \r\nL 37.796875 35.5 \r\nL 37.796875 62.703125 \r\nz\r\n\" id=\"DejaVuSans-43\"/>\r\n       <path d=\"M 12.40625 8.296875 \r\nL 28.515625 8.296875 \r\nL 28.515625 63.921875 \r\nL 10.984375 60.40625 \r\nL 10.984375 69.390625 \r\nL 28.421875 72.90625 \r\nL 38.28125 72.90625 \r\nL 38.28125 8.296875 \r\nL 54.390625 8.296875 \r\nL 54.390625 0 \r\nL 12.40625 0 \r\nz\r\n\" id=\"DejaVuSans-49\"/>\r\n      </defs>\r\n      <use xlink:href=\"#DejaVuSans-121\"/>\r\n      <use x=\"59.179688\" xlink:href=\"#DejaVuSans-40\"/>\r\n      <use x=\"98.193359\" xlink:href=\"#DejaVuSans-116\"/>\r\n      <use x=\"137.402344\" xlink:href=\"#DejaVuSans-32\"/>\r\n      <use x=\"169.189453\" xlink:href=\"#DejaVuSans-43\"/>\r\n      <use x=\"252.978516\" xlink:href=\"#DejaVuSans-32\"/>\r\n      <use x=\"284.765625\" xlink:href=\"#DejaVuSans-49\"/>\r\n      <use x=\"348.388672\" xlink:href=\"#DejaVuSans-41\"/>\r\n     </g>\r\n    </g>\r\n   </g>\r\n   <g id=\"patch_3\">\r\n    <path d=\"M 42.620313 224.64 \r\nL 42.620313 7.2 \r\n\" style=\"fill:none;stroke:#000000;stroke-linecap:square;stroke-linejoin:miter;stroke-width:0.8;\"/>\r\n   </g>\r\n   <g id=\"patch_4\">\r\n    <path d=\"M 377.420313 224.64 \r\nL 377.420313 7.2 \r\n\" style=\"fill:none;stroke:#000000;stroke-linecap:square;stroke-linejoin:miter;stroke-width:0.8;\"/>\r\n   </g>\r\n   <g id=\"patch_5\">\r\n    <path d=\"M 42.620312 224.64 \r\nL 377.420312 224.64 \r\n\" style=\"fill:none;stroke:#000000;stroke-linecap:square;stroke-linejoin:miter;stroke-width:0.8;\"/>\r\n   </g>\r\n   <g id=\"patch_6\">\r\n    <path d=\"M 42.620312 7.2 \r\nL 377.420312 7.2 \r\n\" style=\"fill:none;stroke:#000000;stroke-linecap:square;stroke-linejoin:miter;stroke-width:0.8;\"/>\r\n   </g>\r\n  </g>\r\n </g>\r\n <defs>\r\n  <clipPath id=\"pef1bd99729\">\r\n   <rect height=\"217.44\" width=\"334.8\" x=\"42.620313\" y=\"7.2\"/>\r\n  </clipPath>\r\n </defs>\r\n</svg>\r\n",
      "image/png": "[encoded data removed]"
     },
     "metadata": {
      "needs_background": "light"
     }
    }
   ],
   "source": [
    "#Nous utilisons la méthode de pandas lag_plot pour les afficher.\n",
    "#pandas.pydata.org/pandas-docs/stable/reference/api/pandas.plotting.lag_plot.html\n",
    "lag_plot(gpp['Value'],lag=1)\n",
    "plt.show()"
   ]
  },
  {
   "cell_type": "markdown",
   "metadata": {},
   "source": [
    "#### Corrélation des donées entre t et t+2"
   ]
  },
  {
   "cell_type": "code",
   "execution_count": 14,
   "metadata": {},
   "outputs": [
    {
     "output_type": "display_data",
     "data": {
      "text/plain": "<Figure size 432x288 with 1 Axes>",
      "image/svg+xml": "<?xml version=\"1.0\" encoding=\"utf-8\" standalone=\"no\"?>\r\n<!DOCTYPE svg PUBLIC \"-//W3C//DTD SVG 1.1//EN\"\r\n  \"http://www.w3.org/Graphics/SVG/1.1/DTD/svg11.dtd\">\r\n<!-- Created with matplotlib (https://matplotlib.org/) -->\r\n<svg height=\"262.19625pt\" version=\"1.1\" viewBox=\"0 0 384.620312 262.19625\" width=\"384.620312pt\" xmlns=\"http://www.w3.org/2000/svg\" xmlns:xlink=\"http://www.w3.org/1999/xlink\">\r\n <metadata>\r\n  <rdf:RDF xmlns:cc=\"http://creativecommons.org/ns#\" xmlns:dc=\"http://purl.org/dc/elements/1.1/\" xmlns:rdf=\"http://www.w3.org/1999/02/22-rdf-syntax-ns#\">\r\n   <cc:Work>\r\n    <dc:type rdf:resource=\"http://purl.org/dc/dcmitype/StillImage\"/>\r\n    <dc:date>2020-12-03T12:31:20.023777</dc:date>\r\n    <dc:format>image/svg+xml</dc:format>\r\n    <dc:creator>\r\n     <cc:Agent>\r\n      <dc:title>Matplotlib v3.3.2, https://matplotlib.org/</dc:title>\r\n     </cc:Agent>\r\n    </dc:creator>\r\n   </cc:Work>\r\n  </rdf:RDF>\r\n </metadata>\r\n <defs>\r\n  <style type=\"text/css\">*{stroke-linecap:butt;stroke-linejoin:round;}</style>\r\n </defs>\r\n <g id=\"figure_1\">\r\n  <g id=\"patch_1\">\r\n   <path d=\"M 0 262.19625 \r\nL 384.620312 262.19625 \r\nL 384.620312 0 \r\nL 0 0 \r\nz\r\n\" style=\"fill:none;\"/>\r\n  </g>\r\n  <g id=\"axes_1\">\r\n   <g id=\"patch_2\">\r\n    <path d=\"M 42.620313 224.64 \r\nL 377.420313 224.64 \r\nL 377.420313 7.2 \r\nL 42.620313 7.2 \r\nz\r\n\" style=\"fill:#ffffff;\"/>\r\n   </g>\r\n   <g id=\"PathCollection_1\">\r\n    <defs>\r\n     <path d=\"M 0 3 \r\nC 0.795609 3 1.55874 2.683901 2.12132 2.12132 \r\nC 2.683901 1.55874 3 0.795609 3 0 \r\nC 3 -0.795609 2.683901 -1.55874 2.12132 -2.12132 \r\nC 1.55874 -2.683901 0.795609 -3 0 -3 \r\nC -0.795609 -3 -1.55874 -2.683901 -2.12132 -2.12132 \r\nC -2.683901 -1.55874 -3 -0.795609 -3 0 \r\nC -3 0.795609 -2.683901 1.55874 -2.12132 2.12132 \r\nC -1.55874 2.683901 -0.795609 3 0 3 \r\nz\r\n\" id=\"m7719764218\" style=\"stroke:#1f77b4;\"/>\r\n    </defs>\r\n    <g clip-path=\"url(#paa3fdbfe92)\">\r\n     <use style=\"fill:#1f77b4;stroke:#1f77b4;\" x=\"316.474234\" xlink:href=\"#m7719764218\" y=\"46.286732\"/>\r\n     <use style=\"fill:#1f77b4;stroke:#1f77b4;\" x=\"352.452613\" xlink:href=\"#m7719764218\" y=\"26.395751\"/>\r\n     <use style=\"fill:#1f77b4;stroke:#1f77b4;\" x=\"317.237099\" xlink:href=\"#m7719764218\" y=\"61.476189\"/>\r\n     <use style=\"fill:#1f77b4;stroke:#1f77b4;\" x=\"347.863941\" xlink:href=\"#m7719764218\" y=\"52.607535\"/>\r\n     <use style=\"fill:#1f77b4;stroke:#1f77b4;\" x=\"293.849359\" xlink:href=\"#m7719764218\" y=\"63.14513\"/>\r\n     <use style=\"fill:#1f77b4;stroke:#1f77b4;\" x=\"307.504737\" xlink:href=\"#m7719764218\" y=\"71.788503\"/>\r\n     <use style=\"fill:#1f77b4;stroke:#1f77b4;\" x=\"291.279632\" xlink:href=\"#m7719764218\" y=\"17.083636\"/>\r\n     <use style=\"fill:#1f77b4;stroke:#1f77b4;\" x=\"277.971128\" xlink:href=\"#m7719764218\" y=\"42.25221\"/>\r\n     <use style=\"fill:#1f77b4;stroke:#1f77b4;\" x=\"362.202131\" xlink:href=\"#m7719764218\" y=\"61.277586\"/>\r\n     <use style=\"fill:#1f77b4;stroke:#1f77b4;\" x=\"323.449195\" xlink:href=\"#m7719764218\" y=\"68.340728\"/>\r\n     <use style=\"fill:#1f77b4;stroke:#1f77b4;\" x=\"294.155155\" xlink:href=\"#m7719764218\" y=\"48.112352\"/>\r\n     <use style=\"fill:#1f77b4;stroke:#1f77b4;\" x=\"283.279788\" xlink:href=\"#m7719764218\" y=\"94.826244\"/>\r\n     <use style=\"fill:#1f77b4;stroke:#1f77b4;\" x=\"314.426128\" xlink:href=\"#m7719764218\" y=\"162.739668\"/>\r\n     <use style=\"fill:#1f77b4;stroke:#1f77b4;\" x=\"242.499109\" xlink:href=\"#m7719764218\" y=\"72.089794\"/>\r\n     <use style=\"fill:#1f77b4;stroke:#1f77b4;\" x=\"137.930427\" xlink:href=\"#m7719764218\" y=\"92.662845\"/>\r\n     <use style=\"fill:#1f77b4;stroke:#1f77b4;\" x=\"277.507219\" xlink:href=\"#m7719764218\" y=\"90.004628\"/>\r\n     <use style=\"fill:#1f77b4;stroke:#1f77b4;\" x=\"245.83017\" xlink:href=\"#m7719764218\" y=\"92.182195\"/>\r\n     <use style=\"fill:#1f77b4;stroke:#1f77b4;\" x=\"249.92312\" xlink:href=\"#m7719764218\" y=\"124.599231\"/>\r\n     <use style=\"fill:#1f77b4;stroke:#1f77b4;\" x=\"246.570244\" xlink:href=\"#m7719764218\" y=\"135.740734\"/>\r\n     <use style=\"fill:#1f77b4;stroke:#1f77b4;\" x=\"196.656596\" xlink:href=\"#m7719764218\" y=\"106.934471\"/>\r\n     <use style=\"fill:#1f77b4;stroke:#1f77b4;\" x=\"179.501633\" xlink:href=\"#m7719764218\" y=\"132.292298\"/>\r\n     <use style=\"fill:#1f77b4;stroke:#1f77b4;\" x=\"223.855647\" xlink:href=\"#m7719764218\" y=\"126.819376\"/>\r\n     <use style=\"fill:#1f77b4;stroke:#1f77b4;\" x=\"184.81131\" xlink:href=\"#m7719764218\" y=\"124.625024\"/>\r\n     <use style=\"fill:#1f77b4;stroke:#1f77b4;\" x=\"193.238161\" xlink:href=\"#m7719764218\" y=\"110.299816\"/>\r\n     <use style=\"fill:#1f77b4;stroke:#1f77b4;\" x=\"196.616881\" xlink:href=\"#m7719764218\" y=\"105.806939\"/>\r\n     <use style=\"fill:#1f77b4;stroke:#1f77b4;\" x=\"218.673908\" xlink:href=\"#m7719764218\" y=\"62.08972\"/>\r\n     <use style=\"fill:#1f77b4;stroke:#1f77b4;\" x=\"225.591748\" xlink:href=\"#m7719764218\" y=\"70.089731\"/>\r\n     <use style=\"fill:#1f77b4;stroke:#1f77b4;\" x=\"292.904683\" xlink:href=\"#m7719764218\" y=\"98.552086\"/>\r\n     <use style=\"fill:#1f77b4;stroke:#1f77b4;\" x=\"280.586787\" xlink:href=\"#m7719764218\" y=\"136.149249\"/>\r\n     <use style=\"fill:#1f77b4;stroke:#1f77b4;\" x=\"236.7623\" xlink:href=\"#m7719764218\" y=\"125.098238\"/>\r\n     <use style=\"fill:#1f77b4;stroke:#1f77b4;\" x=\"178.872628\" xlink:href=\"#m7719764218\" y=\"169.764624\"/>\r\n     <use style=\"fill:#1f77b4;stroke:#1f77b4;\" x=\"195.888257\" xlink:href=\"#m7719764218\" y=\"109.886473\"/>\r\n     <use style=\"fill:#1f77b4;stroke:#1f77b4;\" x=\"127.113855\" xlink:href=\"#m7719764218\" y=\"114.934648\"/>\r\n     <use style=\"fill:#1f77b4;stroke:#1f77b4;\" x=\"219.310345\" xlink:href=\"#m7719764218\" y=\"128.831058\"/>\r\n     <use style=\"fill:#1f77b4;stroke:#1f77b4;\" x=\"211.537494\" xlink:href=\"#m7719764218\" y=\"110.332005\"/>\r\n     <use style=\"fill:#1f77b4;stroke:#1f77b4;\" x=\"190.140703\" xlink:href=\"#m7719764218\" y=\"85.228886\"/>\r\n     <use style=\"fill:#1f77b4;stroke:#1f77b4;\" x=\"218.624345\" xlink:href=\"#m7719764218\" y=\"88.571151\"/>\r\n     <use style=\"fill:#1f77b4;stroke:#1f77b4;\" x=\"257.276498\" xlink:href=\"#m7719764218\" y=\"78.511897\"/>\r\n     <use style=\"fill:#1f77b4;stroke:#1f77b4;\" x=\"252.130295\" xlink:href=\"#m7719764218\" y=\"117.394287\"/>\r\n     <use style=\"fill:#1f77b4;stroke:#1f77b4;\" x=\"267.618881\" xlink:href=\"#m7719764218\" y=\"134.395558\"/>\r\n     <use style=\"fill:#1f77b4;stroke:#1f77b4;\" x=\"207.750302\" xlink:href=\"#m7719764218\" y=\"140.655059\"/>\r\n     <use style=\"fill:#1f77b4;stroke:#1f77b4;\" x=\"181.572847\" xlink:href=\"#m7719764218\" y=\"100.436391\"/>\r\n     <use style=\"fill:#1f77b4;stroke:#1f77b4;\" x=\"171.934874\" xlink:href=\"#m7719764218\" y=\"123.812775\"/>\r\n     <use style=\"fill:#1f77b4;stroke:#1f77b4;\" x=\"233.860968\" xlink:href=\"#m7719764218\" y=\"108.060311\"/>\r\n     <use style=\"fill:#1f77b4;stroke:#1f77b4;\" x=\"197.86753\" xlink:href=\"#m7719764218\" y=\"108.551247\"/>\r\n     <use style=\"fill:#1f77b4;stroke:#1f77b4;\" x=\"222.122152\" xlink:href=\"#m7719764218\" y=\"152.050328\"/>\r\n     <use style=\"fill:#1f77b4;stroke:#1f77b4;\" x=\"221.36624\" xlink:href=\"#m7719764218\" y=\"214.756364\"/>\r\n     <use style=\"fill:#1f77b4;stroke:#1f77b4;\" x=\"154.389178\" xlink:href=\"#m7719764218\" y=\"118.085688\"/>\r\n     <use style=\"fill:#1f77b4;stroke:#1f77b4;\" x=\"57.838494\" xlink:href=\"#m7719764218\" y=\"113.207295\"/>\r\n     <use style=\"fill:#1f77b4;stroke:#1f77b4;\" x=\"206.685726\" xlink:href=\"#m7719764218\" y=\"150.876263\"/>\r\n     <use style=\"fill:#1f77b4;stroke:#1f77b4;\" x=\"214.197159\" xlink:href=\"#m7719764218\" y=\"145.606207\"/>\r\n     <use style=\"fill:#1f77b4;stroke:#1f77b4;\" x=\"156.196927\" xlink:href=\"#m7719764218\" y=\"137.992798\"/>\r\n     <use style=\"fill:#1f77b4;stroke:#1f77b4;\" x=\"164.311418\" xlink:href=\"#m7719764218\" y=\"134.851086\"/>\r\n     <use style=\"fill:#1f77b4;stroke:#1f77b4;\" x=\"176.034051\" xlink:href=\"#m7719764218\" y=\"135.198971\"/>\r\n     <use style=\"fill:#1f77b4;stroke:#1f77b4;\" x=\"180.871455\" xlink:href=\"#m7719764218\" y=\"111.225641\"/>\r\n     <use style=\"fill:#1f77b4;stroke:#1f77b4;\" x=\"180.335804\" xlink:href=\"#m7719764218\" y=\"121.221191\"/>\r\n     <use style=\"fill:#1f77b4;stroke:#1f77b4;\" x=\"217.248382\" xlink:href=\"#m7719764218\" y=\"126.916822\"/>\r\n    </g>\r\n   </g>\r\n   <g id=\"matplotlib.axis_1\">\r\n    <g id=\"xtick_1\">\r\n     <g id=\"line2d_1\">\r\n      <defs>\r\n       <path d=\"M 0 0 \r\nL 0 3.5 \r\n\" id=\"m11b54c9dbd\" style=\"stroke:#000000;stroke-width:0.8;\"/>\r\n      </defs>\r\n      <g>\r\n       <use style=\"stroke:#000000;stroke-width:0.8;\" x=\"84.794282\" xlink:href=\"#m11b54c9dbd\" y=\"224.64\"/>\r\n      </g>\r\n     </g>\r\n     <g id=\"text_1\">\r\n      <!-- −2 -->\r\n      <g transform=\"translate(77.423188 239.238437)scale(0.1 -0.1)\">\r\n       <defs>\r\n        <path d=\"M 10.59375 35.5 \r\nL 73.1875 35.5 \r\nL 73.1875 27.203125 \r\nL 10.59375 27.203125 \r\nz\r\n\" id=\"DejaVuSans-8722\"/>\r\n        <path d=\"M 19.1875 8.296875 \r\nL 53.609375 8.296875 \r\nL 53.609375 0 \r\nL 7.328125 0 \r\nL 7.328125 8.296875 \r\nQ 12.9375 14.109375 22.625 23.890625 \r\nQ 32.328125 33.6875 34.8125 36.53125 \r\nQ 39.546875 41.84375 41.421875 45.53125 \r\nQ 43.3125 49.21875 43.3125 52.78125 \r\nQ 43.3125 58.59375 39.234375 62.25 \r\nQ 35.15625 65.921875 28.609375 65.921875 \r\nQ 23.96875 65.921875 18.8125 64.3125 \r\nQ 13.671875 62.703125 7.8125 59.421875 \r\nL 7.8125 69.390625 \r\nQ 13.765625 71.78125 18.9375 73 \r\nQ 24.125 74.21875 28.421875 74.21875 \r\nQ 39.75 74.21875 46.484375 68.546875 \r\nQ 53.21875 62.890625 53.21875 53.421875 \r\nQ 53.21875 48.921875 51.53125 44.890625 \r\nQ 49.859375 40.875 45.40625 35.40625 \r\nQ 44.1875 33.984375 37.640625 27.21875 \r\nQ 31.109375 20.453125 19.1875 8.296875 \r\nz\r\n\" id=\"DejaVuSans-50\"/>\r\n       </defs>\r\n       <use xlink:href=\"#DejaVuSans-8722\"/>\r\n       <use x=\"83.789062\" xlink:href=\"#DejaVuSans-50\"/>\r\n      </g>\r\n     </g>\r\n    </g>\r\n    <g id=\"xtick_2\">\r\n     <g id=\"line2d_2\">\r\n      <g>\r\n       <use style=\"stroke:#000000;stroke-width:0.8;\" x=\"146.523373\" xlink:href=\"#m11b54c9dbd\" y=\"224.64\"/>\r\n      </g>\r\n     </g>\r\n     <g id=\"text_2\">\r\n      <!-- 0 -->\r\n      <g transform=\"translate(143.342123 239.238437)scale(0.1 -0.1)\">\r\n       <defs>\r\n        <path d=\"M 31.78125 66.40625 \r\nQ 24.171875 66.40625 20.328125 58.90625 \r\nQ 16.5 51.421875 16.5 36.375 \r\nQ 16.5 21.390625 20.328125 13.890625 \r\nQ 24.171875 6.390625 31.78125 6.390625 \r\nQ 39.453125 6.390625 43.28125 13.890625 \r\nQ 47.125 21.390625 47.125 36.375 \r\nQ 47.125 51.421875 43.28125 58.90625 \r\nQ 39.453125 66.40625 31.78125 66.40625 \r\nz\r\nM 31.78125 74.21875 \r\nQ 44.046875 74.21875 50.515625 64.515625 \r\nQ 56.984375 54.828125 56.984375 36.375 \r\nQ 56.984375 17.96875 50.515625 8.265625 \r\nQ 44.046875 -1.421875 31.78125 -1.421875 \r\nQ 19.53125 -1.421875 13.0625 8.265625 \r\nQ 6.59375 17.96875 6.59375 36.375 \r\nQ 6.59375 54.828125 13.0625 64.515625 \r\nQ 19.53125 74.21875 31.78125 74.21875 \r\nz\r\n\" id=\"DejaVuSans-48\"/>\r\n       </defs>\r\n       <use xlink:href=\"#DejaVuSans-48\"/>\r\n      </g>\r\n     </g>\r\n    </g>\r\n    <g id=\"xtick_3\">\r\n     <g id=\"line2d_3\">\r\n      <g>\r\n       <use style=\"stroke:#000000;stroke-width:0.8;\" x=\"208.252465\" xlink:href=\"#m11b54c9dbd\" y=\"224.64\"/>\r\n      </g>\r\n     </g>\r\n     <g id=\"text_3\">\r\n      <!-- 2 -->\r\n      <g transform=\"translate(205.071215 239.238437)scale(0.1 -0.1)\">\r\n       <use xlink:href=\"#DejaVuSans-50\"/>\r\n      </g>\r\n     </g>\r\n    </g>\r\n    <g id=\"xtick_4\">\r\n     <g id=\"line2d_4\">\r\n      <g>\r\n       <use style=\"stroke:#000000;stroke-width:0.8;\" x=\"269.981556\" xlink:href=\"#m11b54c9dbd\" y=\"224.64\"/>\r\n      </g>\r\n     </g>\r\n     <g id=\"text_4\">\r\n      <!-- 4 -->\r\n      <g transform=\"translate(266.800306 239.238437)scale(0.1 -0.1)\">\r\n       <defs>\r\n        <path d=\"M 37.796875 64.3125 \r\nL 12.890625 25.390625 \r\nL 37.796875 25.390625 \r\nz\r\nM 35.203125 72.90625 \r\nL 47.609375 72.90625 \r\nL 47.609375 25.390625 \r\nL 58.015625 25.390625 \r\nL 58.015625 17.1875 \r\nL 47.609375 17.1875 \r\nL 47.609375 0 \r\nL 37.796875 0 \r\nL 37.796875 17.1875 \r\nL 4.890625 17.1875 \r\nL 4.890625 26.703125 \r\nz\r\n\" id=\"DejaVuSans-52\"/>\r\n       </defs>\r\n       <use xlink:href=\"#DejaVuSans-52\"/>\r\n      </g>\r\n     </g>\r\n    </g>\r\n    <g id=\"xtick_5\">\r\n     <g id=\"line2d_5\">\r\n      <g>\r\n       <use style=\"stroke:#000000;stroke-width:0.8;\" x=\"331.710647\" xlink:href=\"#m11b54c9dbd\" y=\"224.64\"/>\r\n      </g>\r\n     </g>\r\n     <g id=\"text_5\">\r\n      <!-- 6 -->\r\n      <g transform=\"translate(328.529397 239.238437)scale(0.1 -0.1)\">\r\n       <defs>\r\n        <path d=\"M 33.015625 40.375 \r\nQ 26.375 40.375 22.484375 35.828125 \r\nQ 18.609375 31.296875 18.609375 23.390625 \r\nQ 18.609375 15.53125 22.484375 10.953125 \r\nQ 26.375 6.390625 33.015625 6.390625 \r\nQ 39.65625 6.390625 43.53125 10.953125 \r\nQ 47.40625 15.53125 47.40625 23.390625 \r\nQ 47.40625 31.296875 43.53125 35.828125 \r\nQ 39.65625 40.375 33.015625 40.375 \r\nz\r\nM 52.59375 71.296875 \r\nL 52.59375 62.3125 \r\nQ 48.875 64.0625 45.09375 64.984375 \r\nQ 41.3125 65.921875 37.59375 65.921875 \r\nQ 27.828125 65.921875 22.671875 59.328125 \r\nQ 17.53125 52.734375 16.796875 39.40625 \r\nQ 19.671875 43.65625 24.015625 45.921875 \r\nQ 28.375 48.1875 33.59375 48.1875 \r\nQ 44.578125 48.1875 50.953125 41.515625 \r\nQ 57.328125 34.859375 57.328125 23.390625 \r\nQ 57.328125 12.15625 50.6875 5.359375 \r\nQ 44.046875 -1.421875 33.015625 -1.421875 \r\nQ 20.359375 -1.421875 13.671875 8.265625 \r\nQ 6.984375 17.96875 6.984375 36.375 \r\nQ 6.984375 53.65625 15.1875 63.9375 \r\nQ 23.390625 74.21875 37.203125 74.21875 \r\nQ 40.921875 74.21875 44.703125 73.484375 \r\nQ 48.484375 72.75 52.59375 71.296875 \r\nz\r\n\" id=\"DejaVuSans-54\"/>\r\n       </defs>\r\n       <use xlink:href=\"#DejaVuSans-54\"/>\r\n      </g>\r\n     </g>\r\n    </g>\r\n    <g id=\"text_6\">\r\n     <!-- y(t) -->\r\n     <g transform=\"translate(201.199219 252.916562)scale(0.1 -0.1)\">\r\n      <defs>\r\n       <path d=\"M 32.171875 -5.078125 \r\nQ 28.375 -14.84375 24.75 -17.8125 \r\nQ 21.140625 -20.796875 15.09375 -20.796875 \r\nL 7.90625 -20.796875 \r\nL 7.90625 -13.28125 \r\nL 13.1875 -13.28125 \r\nQ 16.890625 -13.28125 18.9375 -11.515625 \r\nQ 21 -9.765625 23.484375 -3.21875 \r\nL 25.09375 0.875 \r\nL 2.984375 54.6875 \r\nL 12.5 54.6875 \r\nL 29.59375 11.921875 \r\nL 46.6875 54.6875 \r\nL 56.203125 54.6875 \r\nz\r\n\" id=\"DejaVuSans-121\"/>\r\n       <path d=\"M 31 75.875 \r\nQ 24.46875 64.65625 21.28125 53.65625 \r\nQ 18.109375 42.671875 18.109375 31.390625 \r\nQ 18.109375 20.125 21.3125 9.0625 \r\nQ 24.515625 -2 31 -13.1875 \r\nL 23.1875 -13.1875 \r\nQ 15.875 -1.703125 12.234375 9.375 \r\nQ 8.59375 20.453125 8.59375 31.390625 \r\nQ 8.59375 42.28125 12.203125 53.3125 \r\nQ 15.828125 64.359375 23.1875 75.875 \r\nz\r\n\" id=\"DejaVuSans-40\"/>\r\n       <path d=\"M 18.3125 70.21875 \r\nL 18.3125 54.6875 \r\nL 36.8125 54.6875 \r\nL 36.8125 47.703125 \r\nL 18.3125 47.703125 \r\nL 18.3125 18.015625 \r\nQ 18.3125 11.328125 20.140625 9.421875 \r\nQ 21.96875 7.515625 27.59375 7.515625 \r\nL 36.8125 7.515625 \r\nL 36.8125 0 \r\nL 27.59375 0 \r\nQ 17.1875 0 13.234375 3.875 \r\nQ 9.28125 7.765625 9.28125 18.015625 \r\nL 9.28125 47.703125 \r\nL 2.6875 47.703125 \r\nL 2.6875 54.6875 \r\nL 9.28125 54.6875 \r\nL 9.28125 70.21875 \r\nz\r\n\" id=\"DejaVuSans-116\"/>\r\n       <path d=\"M 8.015625 75.875 \r\nL 15.828125 75.875 \r\nQ 23.140625 64.359375 26.78125 53.3125 \r\nQ 30.421875 42.28125 30.421875 31.390625 \r\nQ 30.421875 20.453125 26.78125 9.375 \r\nQ 23.140625 -1.703125 15.828125 -13.1875 \r\nL 8.015625 -13.1875 \r\nQ 14.5 -2 17.703125 9.0625 \r\nQ 20.90625 20.125 20.90625 31.390625 \r\nQ 20.90625 42.671875 17.703125 53.65625 \r\nQ 14.5 64.65625 8.015625 75.875 \r\nz\r\n\" id=\"DejaVuSans-41\"/>\r\n      </defs>\r\n      <use xlink:href=\"#DejaVuSans-121\"/>\r\n      <use x=\"59.179688\" xlink:href=\"#DejaVuSans-40\"/>\r\n      <use x=\"98.193359\" xlink:href=\"#DejaVuSans-116\"/>\r\n      <use x=\"137.402344\" xlink:href=\"#DejaVuSans-41\"/>\r\n     </g>\r\n    </g>\r\n   </g>\r\n   <g id=\"matplotlib.axis_2\">\r\n    <g id=\"ytick_1\">\r\n     <g id=\"line2d_6\">\r\n      <defs>\r\n       <path d=\"M 0 0 \r\nL -3.5 0 \r\n\" id=\"m054959f52f\" style=\"stroke:#000000;stroke-width:0.8;\"/>\r\n      </defs>\r\n      <g>\r\n       <use style=\"stroke:#000000;stroke-width:0.8;\" x=\"42.620313\" xlink:href=\"#m054959f52f\" y=\"197.249594\"/>\r\n      </g>\r\n     </g>\r\n     <g id=\"text_7\">\r\n      <!-- −2 -->\r\n      <g transform=\"translate(20.878125 201.048813)scale(0.1 -0.1)\">\r\n       <use xlink:href=\"#DejaVuSans-8722\"/>\r\n       <use x=\"83.789062\" xlink:href=\"#DejaVuSans-50\"/>\r\n      </g>\r\n     </g>\r\n    </g>\r\n    <g id=\"ytick_2\">\r\n     <g id=\"line2d_7\">\r\n      <g>\r\n       <use style=\"stroke:#000000;stroke-width:0.8;\" x=\"42.620313\" xlink:href=\"#m054959f52f\" y=\"157.158872\"/>\r\n      </g>\r\n     </g>\r\n     <g id=\"text_8\">\r\n      <!-- 0 -->\r\n      <g transform=\"translate(29.257813 160.958091)scale(0.1 -0.1)\">\r\n       <use xlink:href=\"#DejaVuSans-48\"/>\r\n      </g>\r\n     </g>\r\n    </g>\r\n    <g id=\"ytick_3\">\r\n     <g id=\"line2d_8\">\r\n      <g>\r\n       <use style=\"stroke:#000000;stroke-width:0.8;\" x=\"42.620313\" xlink:href=\"#m054959f52f\" y=\"117.068151\"/>\r\n      </g>\r\n     </g>\r\n     <g id=\"text_9\">\r\n      <!-- 2 -->\r\n      <g transform=\"translate(29.257813 120.867369)scale(0.1 -0.1)\">\r\n       <use xlink:href=\"#DejaVuSans-50\"/>\r\n      </g>\r\n     </g>\r\n    </g>\r\n    <g id=\"ytick_4\">\r\n     <g id=\"line2d_9\">\r\n      <g>\r\n       <use style=\"stroke:#000000;stroke-width:0.8;\" x=\"42.620313\" xlink:href=\"#m054959f52f\" y=\"76.977429\"/>\r\n      </g>\r\n     </g>\r\n     <g id=\"text_10\">\r\n      <!-- 4 -->\r\n      <g transform=\"translate(29.257813 80.776648)scale(0.1 -0.1)\">\r\n       <use xlink:href=\"#DejaVuSans-52\"/>\r\n      </g>\r\n     </g>\r\n    </g>\r\n    <g id=\"ytick_5\">\r\n     <g id=\"line2d_10\">\r\n      <g>\r\n       <use style=\"stroke:#000000;stroke-width:0.8;\" x=\"42.620313\" xlink:href=\"#m054959f52f\" y=\"36.886707\"/>\r\n      </g>\r\n     </g>\r\n     <g id=\"text_11\">\r\n      <!-- 6 -->\r\n      <g transform=\"translate(29.257813 40.685926)scale(0.1 -0.1)\">\r\n       <use xlink:href=\"#DejaVuSans-54\"/>\r\n      </g>\r\n     </g>\r\n    </g>\r\n    <g id=\"text_12\">\r\n     <!-- y(t + 2) -->\r\n     <g transform=\"translate(14.798438 135.290312)rotate(-90)scale(0.1 -0.1)\">\r\n      <defs>\r\n       <path id=\"DejaVuSans-32\"/>\r\n       <path d=\"M 46 62.703125 \r\nL 46 35.5 \r\nL 73.1875 35.5 \r\nL 73.1875 27.203125 \r\nL 46 27.203125 \r\nL 46 0 \r\nL 37.796875 0 \r\nL 37.796875 27.203125 \r\nL 10.59375 27.203125 \r\nL 10.59375 35.5 \r\nL 37.796875 35.5 \r\nL 37.796875 62.703125 \r\nz\r\n\" id=\"DejaVuSans-43\"/>\r\n      </defs>\r\n      <use xlink:href=\"#DejaVuSans-121\"/>\r\n      <use x=\"59.179688\" xlink:href=\"#DejaVuSans-40\"/>\r\n      <use x=\"98.193359\" xlink:href=\"#DejaVuSans-116\"/>\r\n      <use x=\"137.402344\" xlink:href=\"#DejaVuSans-32\"/>\r\n      <use x=\"169.189453\" xlink:href=\"#DejaVuSans-43\"/>\r\n      <use x=\"252.978516\" xlink:href=\"#DejaVuSans-32\"/>\r\n      <use x=\"284.765625\" xlink:href=\"#DejaVuSans-50\"/>\r\n      <use x=\"348.388672\" xlink:href=\"#DejaVuSans-41\"/>\r\n     </g>\r\n    </g>\r\n   </g>\r\n   <g id=\"patch_3\">\r\n    <path d=\"M 42.620313 224.64 \r\nL 42.620313 7.2 \r\n\" style=\"fill:none;stroke:#000000;stroke-linecap:square;stroke-linejoin:miter;stroke-width:0.8;\"/>\r\n   </g>\r\n   <g id=\"patch_4\">\r\n    <path d=\"M 377.420313 224.64 \r\nL 377.420313 7.2 \r\n\" style=\"fill:none;stroke:#000000;stroke-linecap:square;stroke-linejoin:miter;stroke-width:0.8;\"/>\r\n   </g>\r\n   <g id=\"patch_5\">\r\n    <path d=\"M 42.620312 224.64 \r\nL 377.420312 224.64 \r\n\" style=\"fill:none;stroke:#000000;stroke-linecap:square;stroke-linejoin:miter;stroke-width:0.8;\"/>\r\n   </g>\r\n   <g id=\"patch_6\">\r\n    <path d=\"M 42.620312 7.2 \r\nL 377.420312 7.2 \r\n\" style=\"fill:none;stroke:#000000;stroke-linecap:square;stroke-linejoin:miter;stroke-width:0.8;\"/>\r\n   </g>\r\n  </g>\r\n </g>\r\n <defs>\r\n  <clipPath id=\"paa3fdbfe92\">\r\n   <rect height=\"217.44\" width=\"334.8\" x=\"42.620313\" y=\"7.2\"/>\r\n  </clipPath>\r\n </defs>\r\n</svg>\r\n",
      "image/png": "[encoded data removed]"
     },
     "metadata": {
      "needs_background": "light"
     }
    }
   ],
   "source": [
    "a = lag_plot(gpp['Value'],lag=2)\n",
    "plt.show()"
   ]
  },
  {
   "cell_type": "markdown",
   "metadata": {
    "pycharm": {
     "name": "#%% md\n"
    }
   },
   "source": [
    "A vu d'oeil nous constatons que les données semblent être corrélées. Nous continuons notre analyse.\n",
    "Nous calculons le coefficient de corrélation entre les données en t et en t+1"
   ]
  },
  {
   "cell_type": "code",
   "execution_count": 15,
   "metadata": {
    "pycharm": {
     "name": "#%%\n"
    }
   },
   "outputs": [
    {
     "output_type": "stream",
     "name": "stdout",
     "text": [
      "            t       t+1\nt    1.000000  0.662071\nt+1  0.662071  1.000000\n"
     ]
    },
    {
     "output_type": "display_data",
     "data": {
      "text/plain": "<Figure size 432x288 with 1 Axes>",
      "image/svg+xml": "<?xml version=\"1.0\" encoding=\"utf-8\" standalone=\"no\"?>\r\n<!DOCTYPE svg PUBLIC \"-//W3C//DTD SVG 1.1//EN\"\r\n  \"http://www.w3.org/Graphics/SVG/1.1/DTD/svg11.dtd\">\r\n<!-- Created with matplotlib (https://matplotlib.org/) -->\r\n<svg height=\"265.995469pt\" version=\"1.1\" viewBox=\"0 0 400.523437 265.995469\" width=\"400.523437pt\" xmlns=\"http://www.w3.org/2000/svg\" xmlns:xlink=\"http://www.w3.org/1999/xlink\">\r\n <metadata>\r\n  <rdf:RDF xmlns:cc=\"http://creativecommons.org/ns#\" xmlns:dc=\"http://purl.org/dc/elements/1.1/\" xmlns:rdf=\"http://www.w3.org/1999/02/22-rdf-syntax-ns#\">\r\n   <cc:Work>\r\n    <dc:type rdf:resource=\"http://purl.org/dc/dcmitype/StillImage\"/>\r\n    <dc:date>2020-12-03T12:31:20.521142</dc:date>\r\n    <dc:format>image/svg+xml</dc:format>\r\n    <dc:creator>\r\n     <cc:Agent>\r\n      <dc:title>Matplotlib v3.3.2, https://matplotlib.org/</dc:title>\r\n     </cc:Agent>\r\n    </dc:creator>\r\n   </cc:Work>\r\n  </rdf:RDF>\r\n </metadata>\r\n <defs>\r\n  <style type=\"text/css\">*{stroke-linecap:butt;stroke-linejoin:round;}</style>\r\n </defs>\r\n <g id=\"figure_1\">\r\n  <g id=\"patch_1\">\r\n   <path d=\"M 0 265.995469 \r\nL 400.523437 265.995469 \r\nL 400.523437 0 \r\nL 0 0 \r\nz\r\n\" style=\"fill:none;\"/>\r\n  </g>\r\n  <g id=\"axes_1\">\r\n   <g id=\"patch_2\">\r\n    <path d=\"M 58.523438 228.439219 \r\nL 393.323438 228.439219 \r\nL 393.323438 10.999219 \r\nL 58.523438 10.999219 \r\nz\r\n\" style=\"fill:#ffffff;\"/>\r\n   </g>\r\n   <g id=\"matplotlib.axis_1\">\r\n    <g id=\"xtick_1\">\r\n     <g id=\"line2d_1\">\r\n      <path clip-path=\"url(#p75e6962d2d)\" d=\"M 110.475162 228.439219 \r\nL 110.475162 10.999219 \r\n\" style=\"fill:none;stroke:#b0b0b0;stroke-linecap:square;stroke-width:0.8;\"/>\r\n     </g>\r\n     <g id=\"line2d_2\">\r\n      <defs>\r\n       <path d=\"M 0 0 \r\nL 0 3.5 \r\n\" id=\"mc0b7f343fd\" style=\"stroke:#000000;stroke-width:0.8;\"/>\r\n      </defs>\r\n      <g>\r\n       <use style=\"stroke:#000000;stroke-width:0.8;\" x=\"110.475162\" xlink:href=\"#mc0b7f343fd\" y=\"228.439219\"/>\r\n      </g>\r\n     </g>\r\n     <g id=\"text_1\">\r\n      <!-- 10 -->\r\n      <g transform=\"translate(104.112662 243.037656)scale(0.1 -0.1)\">\r\n       <defs>\r\n        <path d=\"M 12.40625 8.296875 \r\nL 28.515625 8.296875 \r\nL 28.515625 63.921875 \r\nL 10.984375 60.40625 \r\nL 10.984375 69.390625 \r\nL 28.421875 72.90625 \r\nL 38.28125 72.90625 \r\nL 38.28125 8.296875 \r\nL 54.390625 8.296875 \r\nL 54.390625 0 \r\nL 12.40625 0 \r\nz\r\n\" id=\"DejaVuSans-49\"/>\r\n        <path d=\"M 31.78125 66.40625 \r\nQ 24.171875 66.40625 20.328125 58.90625 \r\nQ 16.5 51.421875 16.5 36.375 \r\nQ 16.5 21.390625 20.328125 13.890625 \r\nQ 24.171875 6.390625 31.78125 6.390625 \r\nQ 39.453125 6.390625 43.28125 13.890625 \r\nQ 47.125 21.390625 47.125 36.375 \r\nQ 47.125 51.421875 43.28125 58.90625 \r\nQ 39.453125 66.40625 31.78125 66.40625 \r\nz\r\nM 31.78125 74.21875 \r\nQ 44.046875 74.21875 50.515625 64.515625 \r\nQ 56.984375 54.828125 56.984375 36.375 \r\nQ 56.984375 17.96875 50.515625 8.265625 \r\nQ 44.046875 -1.421875 31.78125 -1.421875 \r\nQ 19.53125 -1.421875 13.0625 8.265625 \r\nQ 6.59375 17.96875 6.59375 36.375 \r\nQ 6.59375 54.828125 13.0625 64.515625 \r\nQ 19.53125 74.21875 31.78125 74.21875 \r\nz\r\n\" id=\"DejaVuSans-48\"/>\r\n       </defs>\r\n       <use xlink:href=\"#DejaVuSans-49\"/>\r\n       <use x=\"63.623047\" xlink:href=\"#DejaVuSans-48\"/>\r\n      </g>\r\n     </g>\r\n    </g>\r\n    <g id=\"xtick_2\">\r\n     <g id=\"line2d_3\">\r\n      <path clip-path=\"url(#p75e6962d2d)\" d=\"M 168.1993 228.439219 \r\nL 168.1993 10.999219 \r\n\" style=\"fill:none;stroke:#b0b0b0;stroke-linecap:square;stroke-width:0.8;\"/>\r\n     </g>\r\n     <g id=\"line2d_4\">\r\n      <g>\r\n       <use style=\"stroke:#000000;stroke-width:0.8;\" x=\"168.1993\" xlink:href=\"#mc0b7f343fd\" y=\"228.439219\"/>\r\n      </g>\r\n     </g>\r\n     <g id=\"text_2\">\r\n      <!-- 20 -->\r\n      <g transform=\"translate(161.8368 243.037656)scale(0.1 -0.1)\">\r\n       <defs>\r\n        <path d=\"M 19.1875 8.296875 \r\nL 53.609375 8.296875 \r\nL 53.609375 0 \r\nL 7.328125 0 \r\nL 7.328125 8.296875 \r\nQ 12.9375 14.109375 22.625 23.890625 \r\nQ 32.328125 33.6875 34.8125 36.53125 \r\nQ 39.546875 41.84375 41.421875 45.53125 \r\nQ 43.3125 49.21875 43.3125 52.78125 \r\nQ 43.3125 58.59375 39.234375 62.25 \r\nQ 35.15625 65.921875 28.609375 65.921875 \r\nQ 23.96875 65.921875 18.8125 64.3125 \r\nQ 13.671875 62.703125 7.8125 59.421875 \r\nL 7.8125 69.390625 \r\nQ 13.765625 71.78125 18.9375 73 \r\nQ 24.125 74.21875 28.421875 74.21875 \r\nQ 39.75 74.21875 46.484375 68.546875 \r\nQ 53.21875 62.890625 53.21875 53.421875 \r\nQ 53.21875 48.921875 51.53125 44.890625 \r\nQ 49.859375 40.875 45.40625 35.40625 \r\nQ 44.1875 33.984375 37.640625 27.21875 \r\nQ 31.109375 20.453125 19.1875 8.296875 \r\nz\r\n\" id=\"DejaVuSans-50\"/>\r\n       </defs>\r\n       <use xlink:href=\"#DejaVuSans-50\"/>\r\n       <use x=\"63.623047\" xlink:href=\"#DejaVuSans-48\"/>\r\n      </g>\r\n     </g>\r\n    </g>\r\n    <g id=\"xtick_3\">\r\n     <g id=\"line2d_5\">\r\n      <path clip-path=\"url(#p75e6962d2d)\" d=\"M 225.923437 228.439219 \r\nL 225.923437 10.999219 \r\n\" style=\"fill:none;stroke:#b0b0b0;stroke-linecap:square;stroke-width:0.8;\"/>\r\n     </g>\r\n     <g id=\"line2d_6\">\r\n      <g>\r\n       <use style=\"stroke:#000000;stroke-width:0.8;\" x=\"225.923437\" xlink:href=\"#mc0b7f343fd\" y=\"228.439219\"/>\r\n      </g>\r\n     </g>\r\n     <g id=\"text_3\">\r\n      <!-- 30 -->\r\n      <g transform=\"translate(219.560937 243.037656)scale(0.1 -0.1)\">\r\n       <defs>\r\n        <path d=\"M 40.578125 39.3125 \r\nQ 47.65625 37.796875 51.625 33 \r\nQ 55.609375 28.21875 55.609375 21.1875 \r\nQ 55.609375 10.40625 48.1875 4.484375 \r\nQ 40.765625 -1.421875 27.09375 -1.421875 \r\nQ 22.515625 -1.421875 17.65625 -0.515625 \r\nQ 12.796875 0.390625 7.625 2.203125 \r\nL 7.625 11.71875 \r\nQ 11.71875 9.328125 16.59375 8.109375 \r\nQ 21.484375 6.890625 26.8125 6.890625 \r\nQ 36.078125 6.890625 40.9375 10.546875 \r\nQ 45.796875 14.203125 45.796875 21.1875 \r\nQ 45.796875 27.640625 41.28125 31.265625 \r\nQ 36.765625 34.90625 28.71875 34.90625 \r\nL 20.21875 34.90625 \r\nL 20.21875 43.015625 \r\nL 29.109375 43.015625 \r\nQ 36.375 43.015625 40.234375 45.921875 \r\nQ 44.09375 48.828125 44.09375 54.296875 \r\nQ 44.09375 59.90625 40.109375 62.90625 \r\nQ 36.140625 65.921875 28.71875 65.921875 \r\nQ 24.65625 65.921875 20.015625 65.03125 \r\nQ 15.375 64.15625 9.8125 62.3125 \r\nL 9.8125 71.09375 \r\nQ 15.4375 72.65625 20.34375 73.4375 \r\nQ 25.25 74.21875 29.59375 74.21875 \r\nQ 40.828125 74.21875 47.359375 69.109375 \r\nQ 53.90625 64.015625 53.90625 55.328125 \r\nQ 53.90625 49.265625 50.4375 45.09375 \r\nQ 46.96875 40.921875 40.578125 39.3125 \r\nz\r\n\" id=\"DejaVuSans-51\"/>\r\n       </defs>\r\n       <use xlink:href=\"#DejaVuSans-51\"/>\r\n       <use x=\"63.623047\" xlink:href=\"#DejaVuSans-48\"/>\r\n      </g>\r\n     </g>\r\n    </g>\r\n    <g id=\"xtick_4\">\r\n     <g id=\"line2d_7\">\r\n      <path clip-path=\"url(#p75e6962d2d)\" d=\"M 283.647575 228.439219 \r\nL 283.647575 10.999219 \r\n\" style=\"fill:none;stroke:#b0b0b0;stroke-linecap:square;stroke-width:0.8;\"/>\r\n     </g>\r\n     <g id=\"line2d_8\">\r\n      <g>\r\n       <use style=\"stroke:#000000;stroke-width:0.8;\" x=\"283.647575\" xlink:href=\"#mc0b7f343fd\" y=\"228.439219\"/>\r\n      </g>\r\n     </g>\r\n     <g id=\"text_4\">\r\n      <!-- 40 -->\r\n      <g transform=\"translate(277.285075 243.037656)scale(0.1 -0.1)\">\r\n       <defs>\r\n        <path d=\"M 37.796875 64.3125 \r\nL 12.890625 25.390625 \r\nL 37.796875 25.390625 \r\nz\r\nM 35.203125 72.90625 \r\nL 47.609375 72.90625 \r\nL 47.609375 25.390625 \r\nL 58.015625 25.390625 \r\nL 58.015625 17.1875 \r\nL 47.609375 17.1875 \r\nL 47.609375 0 \r\nL 37.796875 0 \r\nL 37.796875 17.1875 \r\nL 4.890625 17.1875 \r\nL 4.890625 26.703125 \r\nz\r\n\" id=\"DejaVuSans-52\"/>\r\n       </defs>\r\n       <use xlink:href=\"#DejaVuSans-52\"/>\r\n       <use x=\"63.623047\" xlink:href=\"#DejaVuSans-48\"/>\r\n      </g>\r\n     </g>\r\n    </g>\r\n    <g id=\"xtick_5\">\r\n     <g id=\"line2d_9\">\r\n      <path clip-path=\"url(#p75e6962d2d)\" d=\"M 341.371713 228.439219 \r\nL 341.371713 10.999219 \r\n\" style=\"fill:none;stroke:#b0b0b0;stroke-linecap:square;stroke-width:0.8;\"/>\r\n     </g>\r\n     <g id=\"line2d_10\">\r\n      <g>\r\n       <use style=\"stroke:#000000;stroke-width:0.8;\" x=\"341.371713\" xlink:href=\"#mc0b7f343fd\" y=\"228.439219\"/>\r\n      </g>\r\n     </g>\r\n     <g id=\"text_5\">\r\n      <!-- 50 -->\r\n      <g transform=\"translate(335.009213 243.037656)scale(0.1 -0.1)\">\r\n       <defs>\r\n        <path d=\"M 10.796875 72.90625 \r\nL 49.515625 72.90625 \r\nL 49.515625 64.59375 \r\nL 19.828125 64.59375 \r\nL 19.828125 46.734375 \r\nQ 21.96875 47.46875 24.109375 47.828125 \r\nQ 26.265625 48.1875 28.421875 48.1875 \r\nQ 40.625 48.1875 47.75 41.5 \r\nQ 54.890625 34.8125 54.890625 23.390625 \r\nQ 54.890625 11.625 47.5625 5.09375 \r\nQ 40.234375 -1.421875 26.90625 -1.421875 \r\nQ 22.3125 -1.421875 17.546875 -0.640625 \r\nQ 12.796875 0.140625 7.71875 1.703125 \r\nL 7.71875 11.625 \r\nQ 12.109375 9.234375 16.796875 8.0625 \r\nQ 21.484375 6.890625 26.703125 6.890625 \r\nQ 35.15625 6.890625 40.078125 11.328125 \r\nQ 45.015625 15.765625 45.015625 23.390625 \r\nQ 45.015625 31 40.078125 35.4375 \r\nQ 35.15625 39.890625 26.703125 39.890625 \r\nQ 22.75 39.890625 18.8125 39.015625 \r\nQ 14.890625 38.140625 10.796875 36.28125 \r\nz\r\n\" id=\"DejaVuSans-53\"/>\r\n       </defs>\r\n       <use xlink:href=\"#DejaVuSans-53\"/>\r\n       <use x=\"63.623047\" xlink:href=\"#DejaVuSans-48\"/>\r\n      </g>\r\n     </g>\r\n    </g>\r\n    <g id=\"text_6\">\r\n     <!-- Lag -->\r\n     <g transform=\"translate(216.899219 256.715781)scale(0.1 -0.1)\">\r\n      <defs>\r\n       <path d=\"M 9.8125 72.90625 \r\nL 19.671875 72.90625 \r\nL 19.671875 8.296875 \r\nL 55.171875 8.296875 \r\nL 55.171875 0 \r\nL 9.8125 0 \r\nz\r\n\" id=\"DejaVuSans-76\"/>\r\n       <path d=\"M 34.28125 27.484375 \r\nQ 23.390625 27.484375 19.1875 25 \r\nQ 14.984375 22.515625 14.984375 16.5 \r\nQ 14.984375 11.71875 18.140625 8.90625 \r\nQ 21.296875 6.109375 26.703125 6.109375 \r\nQ 34.1875 6.109375 38.703125 11.40625 \r\nQ 43.21875 16.703125 43.21875 25.484375 \r\nL 43.21875 27.484375 \r\nz\r\nM 52.203125 31.203125 \r\nL 52.203125 0 \r\nL 43.21875 0 \r\nL 43.21875 8.296875 \r\nQ 40.140625 3.328125 35.546875 0.953125 \r\nQ 30.953125 -1.421875 24.3125 -1.421875 \r\nQ 15.921875 -1.421875 10.953125 3.296875 \r\nQ 6 8.015625 6 15.921875 \r\nQ 6 25.140625 12.171875 29.828125 \r\nQ 18.359375 34.515625 30.609375 34.515625 \r\nL 43.21875 34.515625 \r\nL 43.21875 35.40625 \r\nQ 43.21875 41.609375 39.140625 45 \r\nQ 35.0625 48.390625 27.6875 48.390625 \r\nQ 23 48.390625 18.546875 47.265625 \r\nQ 14.109375 46.140625 10.015625 43.890625 \r\nL 10.015625 52.203125 \r\nQ 14.9375 54.109375 19.578125 55.046875 \r\nQ 24.21875 56 28.609375 56 \r\nQ 40.484375 56 46.34375 49.84375 \r\nQ 52.203125 43.703125 52.203125 31.203125 \r\nz\r\n\" id=\"DejaVuSans-97\"/>\r\n       <path d=\"M 45.40625 27.984375 \r\nQ 45.40625 37.75 41.375 43.109375 \r\nQ 37.359375 48.484375 30.078125 48.484375 \r\nQ 22.859375 48.484375 18.828125 43.109375 \r\nQ 14.796875 37.75 14.796875 27.984375 \r\nQ 14.796875 18.265625 18.828125 12.890625 \r\nQ 22.859375 7.515625 30.078125 7.515625 \r\nQ 37.359375 7.515625 41.375 12.890625 \r\nQ 45.40625 18.265625 45.40625 27.984375 \r\nz\r\nM 54.390625 6.78125 \r\nQ 54.390625 -7.171875 48.1875 -13.984375 \r\nQ 42 -20.796875 29.203125 -20.796875 \r\nQ 24.46875 -20.796875 20.265625 -20.09375 \r\nQ 16.0625 -19.390625 12.109375 -17.921875 \r\nL 12.109375 -9.1875 \r\nQ 16.0625 -11.328125 19.921875 -12.34375 \r\nQ 23.78125 -13.375 27.78125 -13.375 \r\nQ 36.625 -13.375 41.015625 -8.765625 \r\nQ 45.40625 -4.15625 45.40625 5.171875 \r\nL 45.40625 9.625 \r\nQ 42.625 4.78125 38.28125 2.390625 \r\nQ 33.9375 0 27.875 0 \r\nQ 17.828125 0 11.671875 7.65625 \r\nQ 5.515625 15.328125 5.515625 27.984375 \r\nQ 5.515625 40.671875 11.671875 48.328125 \r\nQ 17.828125 56 27.875 56 \r\nQ 33.9375 56 38.28125 53.609375 \r\nQ 42.625 51.21875 45.40625 46.390625 \r\nL 45.40625 54.6875 \r\nL 54.390625 54.6875 \r\nz\r\n\" id=\"DejaVuSans-103\"/>\r\n      </defs>\r\n      <use xlink:href=\"#DejaVuSans-76\"/>\r\n      <use x=\"55.712891\" xlink:href=\"#DejaVuSans-97\"/>\r\n      <use x=\"116.992188\" xlink:href=\"#DejaVuSans-103\"/>\r\n     </g>\r\n    </g>\r\n   </g>\r\n   <g id=\"matplotlib.axis_2\">\r\n    <g id=\"ytick_1\">\r\n     <g id=\"line2d_11\">\r\n      <path clip-path=\"url(#p75e6962d2d)\" d=\"M 58.523438 228.439219 \r\nL 393.323438 228.439219 \r\n\" style=\"fill:none;stroke:#b0b0b0;stroke-linecap:square;stroke-width:0.8;\"/>\r\n     </g>\r\n     <g id=\"line2d_12\">\r\n      <defs>\r\n       <path d=\"M 0 0 \r\nL -3.5 0 \r\n\" id=\"m9439da5295\" style=\"stroke:#000000;stroke-width:0.8;\"/>\r\n      </defs>\r\n      <g>\r\n       <use style=\"stroke:#000000;stroke-width:0.8;\" x=\"58.523438\" xlink:href=\"#m9439da5295\" y=\"228.439219\"/>\r\n      </g>\r\n     </g>\r\n     <g id=\"text_7\">\r\n      <!-- −1.00 -->\r\n      <g transform=\"translate(20.878125 232.238437)scale(0.1 -0.1)\">\r\n       <defs>\r\n        <path d=\"M 10.59375 35.5 \r\nL 73.1875 35.5 \r\nL 73.1875 27.203125 \r\nL 10.59375 27.203125 \r\nz\r\n\" id=\"DejaVuSans-8722\"/>\r\n        <path d=\"M 10.6875 12.40625 \r\nL 21 12.40625 \r\nL 21 0 \r\nL 10.6875 0 \r\nz\r\n\" id=\"DejaVuSans-46\"/>\r\n       </defs>\r\n       <use xlink:href=\"#DejaVuSans-8722\"/>\r\n       <use x=\"83.789062\" xlink:href=\"#DejaVuSans-49\"/>\r\n       <use x=\"147.412109\" xlink:href=\"#DejaVuSans-46\"/>\r\n       <use x=\"179.199219\" xlink:href=\"#DejaVuSans-48\"/>\r\n       <use x=\"242.822266\" xlink:href=\"#DejaVuSans-48\"/>\r\n      </g>\r\n     </g>\r\n    </g>\r\n    <g id=\"ytick_2\">\r\n     <g id=\"line2d_13\">\r\n      <path clip-path=\"url(#p75e6962d2d)\" d=\"M 58.523438 201.259219 \r\nL 393.323438 201.259219 \r\n\" style=\"fill:none;stroke:#b0b0b0;stroke-linecap:square;stroke-width:0.8;\"/>\r\n     </g>\r\n     <g id=\"line2d_14\">\r\n      <g>\r\n       <use style=\"stroke:#000000;stroke-width:0.8;\" x=\"58.523438\" xlink:href=\"#m9439da5295\" y=\"201.259219\"/>\r\n      </g>\r\n     </g>\r\n     <g id=\"text_8\">\r\n      <!-- −0.75 -->\r\n      <g transform=\"translate(20.878125 205.058437)scale(0.1 -0.1)\">\r\n       <defs>\r\n        <path d=\"M 8.203125 72.90625 \r\nL 55.078125 72.90625 \r\nL 55.078125 68.703125 \r\nL 28.609375 0 \r\nL 18.3125 0 \r\nL 43.21875 64.59375 \r\nL 8.203125 64.59375 \r\nz\r\n\" id=\"DejaVuSans-55\"/>\r\n       </defs>\r\n       <use xlink:href=\"#DejaVuSans-8722\"/>\r\n       <use x=\"83.789062\" xlink:href=\"#DejaVuSans-48\"/>\r\n       <use x=\"147.412109\" xlink:href=\"#DejaVuSans-46\"/>\r\n       <use x=\"179.199219\" xlink:href=\"#DejaVuSans-55\"/>\r\n       <use x=\"242.822266\" xlink:href=\"#DejaVuSans-53\"/>\r\n      </g>\r\n     </g>\r\n    </g>\r\n    <g id=\"ytick_3\">\r\n     <g id=\"line2d_15\">\r\n      <path clip-path=\"url(#p75e6962d2d)\" d=\"M 58.523438 174.079219 \r\nL 393.323438 174.079219 \r\n\" style=\"fill:none;stroke:#b0b0b0;stroke-linecap:square;stroke-width:0.8;\"/>\r\n     </g>\r\n     <g id=\"line2d_16\">\r\n      <g>\r\n       <use style=\"stroke:#000000;stroke-width:0.8;\" x=\"58.523438\" xlink:href=\"#m9439da5295\" y=\"174.079219\"/>\r\n      </g>\r\n     </g>\r\n     <g id=\"text_9\">\r\n      <!-- −0.50 -->\r\n      <g transform=\"translate(20.878125 177.878437)scale(0.1 -0.1)\">\r\n       <use xlink:href=\"#DejaVuSans-8722\"/>\r\n       <use x=\"83.789062\" xlink:href=\"#DejaVuSans-48\"/>\r\n       <use x=\"147.412109\" xlink:href=\"#DejaVuSans-46\"/>\r\n       <use x=\"179.199219\" xlink:href=\"#DejaVuSans-53\"/>\r\n       <use x=\"242.822266\" xlink:href=\"#DejaVuSans-48\"/>\r\n      </g>\r\n     </g>\r\n    </g>\r\n    <g id=\"ytick_4\">\r\n     <g id=\"line2d_17\">\r\n      <path clip-path=\"url(#p75e6962d2d)\" d=\"M 58.523438 146.899219 \r\nL 393.323438 146.899219 \r\n\" style=\"fill:none;stroke:#b0b0b0;stroke-linecap:square;stroke-width:0.8;\"/>\r\n     </g>\r\n     <g id=\"line2d_18\">\r\n      <g>\r\n       <use style=\"stroke:#000000;stroke-width:0.8;\" x=\"58.523438\" xlink:href=\"#m9439da5295\" y=\"146.899219\"/>\r\n      </g>\r\n     </g>\r\n     <g id=\"text_10\">\r\n      <!-- −0.25 -->\r\n      <g transform=\"translate(20.878125 150.698437)scale(0.1 -0.1)\">\r\n       <use xlink:href=\"#DejaVuSans-8722\"/>\r\n       <use x=\"83.789062\" xlink:href=\"#DejaVuSans-48\"/>\r\n       <use x=\"147.412109\" xlink:href=\"#DejaVuSans-46\"/>\r\n       <use x=\"179.199219\" xlink:href=\"#DejaVuSans-50\"/>\r\n       <use x=\"242.822266\" xlink:href=\"#DejaVuSans-53\"/>\r\n      </g>\r\n     </g>\r\n    </g>\r\n    <g id=\"ytick_5\">\r\n     <g id=\"line2d_19\">\r\n      <path clip-path=\"url(#p75e6962d2d)\" d=\"M 58.523438 119.719219 \r\nL 393.323438 119.719219 \r\n\" style=\"fill:none;stroke:#b0b0b0;stroke-linecap:square;stroke-width:0.8;\"/>\r\n     </g>\r\n     <g id=\"line2d_20\">\r\n      <g>\r\n       <use style=\"stroke:#000000;stroke-width:0.8;\" x=\"58.523438\" xlink:href=\"#m9439da5295\" y=\"119.719219\"/>\r\n      </g>\r\n     </g>\r\n     <g id=\"text_11\">\r\n      <!-- 0.00 -->\r\n      <g transform=\"translate(29.257813 123.518437)scale(0.1 -0.1)\">\r\n       <use xlink:href=\"#DejaVuSans-48\"/>\r\n       <use x=\"63.623047\" xlink:href=\"#DejaVuSans-46\"/>\r\n       <use x=\"95.410156\" xlink:href=\"#DejaVuSans-48\"/>\r\n       <use x=\"159.033203\" xlink:href=\"#DejaVuSans-48\"/>\r\n      </g>\r\n     </g>\r\n    </g>\r\n    <g id=\"ytick_6\">\r\n     <g id=\"line2d_21\">\r\n      <path clip-path=\"url(#p75e6962d2d)\" d=\"M 58.523438 92.539219 \r\nL 393.323438 92.539219 \r\n\" style=\"fill:none;stroke:#b0b0b0;stroke-linecap:square;stroke-width:0.8;\"/>\r\n     </g>\r\n     <g id=\"line2d_22\">\r\n      <g>\r\n       <use style=\"stroke:#000000;stroke-width:0.8;\" x=\"58.523438\" xlink:href=\"#m9439da5295\" y=\"92.539219\"/>\r\n      </g>\r\n     </g>\r\n     <g id=\"text_12\">\r\n      <!-- 0.25 -->\r\n      <g transform=\"translate(29.257813 96.338437)scale(0.1 -0.1)\">\r\n       <use xlink:href=\"#DejaVuSans-48\"/>\r\n       <use x=\"63.623047\" xlink:href=\"#DejaVuSans-46\"/>\r\n       <use x=\"95.410156\" xlink:href=\"#DejaVuSans-50\"/>\r\n       <use x=\"159.033203\" xlink:href=\"#DejaVuSans-53\"/>\r\n      </g>\r\n     </g>\r\n    </g>\r\n    <g id=\"ytick_7\">\r\n     <g id=\"line2d_23\">\r\n      <path clip-path=\"url(#p75e6962d2d)\" d=\"M 58.523438 65.359219 \r\nL 393.323438 65.359219 \r\n\" style=\"fill:none;stroke:#b0b0b0;stroke-linecap:square;stroke-width:0.8;\"/>\r\n     </g>\r\n     <g id=\"line2d_24\">\r\n      <g>\r\n       <use style=\"stroke:#000000;stroke-width:0.8;\" x=\"58.523438\" xlink:href=\"#m9439da5295\" y=\"65.359219\"/>\r\n      </g>\r\n     </g>\r\n     <g id=\"text_13\">\r\n      <!-- 0.50 -->\r\n      <g transform=\"translate(29.257813 69.158437)scale(0.1 -0.1)\">\r\n       <use xlink:href=\"#DejaVuSans-48\"/>\r\n       <use x=\"63.623047\" xlink:href=\"#DejaVuSans-46\"/>\r\n       <use x=\"95.410156\" xlink:href=\"#DejaVuSans-53\"/>\r\n       <use x=\"159.033203\" xlink:href=\"#DejaVuSans-48\"/>\r\n      </g>\r\n     </g>\r\n    </g>\r\n    <g id=\"ytick_8\">\r\n     <g id=\"line2d_25\">\r\n      <path clip-path=\"url(#p75e6962d2d)\" d=\"M 58.523438 38.179219 \r\nL 393.323438 38.179219 \r\n\" style=\"fill:none;stroke:#b0b0b0;stroke-linecap:square;stroke-width:0.8;\"/>\r\n     </g>\r\n     <g id=\"line2d_26\">\r\n      <g>\r\n       <use style=\"stroke:#000000;stroke-width:0.8;\" x=\"58.523438\" xlink:href=\"#m9439da5295\" y=\"38.179219\"/>\r\n      </g>\r\n     </g>\r\n     <g id=\"text_14\">\r\n      <!-- 0.75 -->\r\n      <g transform=\"translate(29.257813 41.978437)scale(0.1 -0.1)\">\r\n       <use xlink:href=\"#DejaVuSans-48\"/>\r\n       <use x=\"63.623047\" xlink:href=\"#DejaVuSans-46\"/>\r\n       <use x=\"95.410156\" xlink:href=\"#DejaVuSans-55\"/>\r\n       <use x=\"159.033203\" xlink:href=\"#DejaVuSans-53\"/>\r\n      </g>\r\n     </g>\r\n    </g>\r\n    <g id=\"ytick_9\">\r\n     <g id=\"line2d_27\">\r\n      <path clip-path=\"url(#p75e6962d2d)\" d=\"M 58.523438 10.999219 \r\nL 393.323438 10.999219 \r\n\" style=\"fill:none;stroke:#b0b0b0;stroke-linecap:square;stroke-width:0.8;\"/>\r\n     </g>\r\n     <g id=\"line2d_28\">\r\n      <g>\r\n       <use style=\"stroke:#000000;stroke-width:0.8;\" x=\"58.523438\" xlink:href=\"#m9439da5295\" y=\"10.999219\"/>\r\n      </g>\r\n     </g>\r\n     <g id=\"text_15\">\r\n      <!-- 1.00 -->\r\n      <g transform=\"translate(29.257813 14.798437)scale(0.1 -0.1)\">\r\n       <use xlink:href=\"#DejaVuSans-49\"/>\r\n       <use x=\"63.623047\" xlink:href=\"#DejaVuSans-46\"/>\r\n       <use x=\"95.410156\" xlink:href=\"#DejaVuSans-48\"/>\r\n       <use x=\"159.033203\" xlink:href=\"#DejaVuSans-48\"/>\r\n      </g>\r\n     </g>\r\n    </g>\r\n    <g id=\"text_16\">\r\n     <!-- Autocorrelation -->\r\n     <g transform=\"translate(14.798438 158.154375)rotate(-90)scale(0.1 -0.1)\">\r\n      <defs>\r\n       <path d=\"M 34.1875 63.1875 \r\nL 20.796875 26.90625 \r\nL 47.609375 26.90625 \r\nz\r\nM 28.609375 72.90625 \r\nL 39.796875 72.90625 \r\nL 67.578125 0 \r\nL 57.328125 0 \r\nL 50.6875 18.703125 \r\nL 17.828125 18.703125 \r\nL 11.1875 0 \r\nL 0.78125 0 \r\nz\r\n\" id=\"DejaVuSans-65\"/>\r\n       <path d=\"M 8.5 21.578125 \r\nL 8.5 54.6875 \r\nL 17.484375 54.6875 \r\nL 17.484375 21.921875 \r\nQ 17.484375 14.15625 20.5 10.265625 \r\nQ 23.53125 6.390625 29.59375 6.390625 \r\nQ 36.859375 6.390625 41.078125 11.03125 \r\nQ 45.3125 15.671875 45.3125 23.6875 \r\nL 45.3125 54.6875 \r\nL 54.296875 54.6875 \r\nL 54.296875 0 \r\nL 45.3125 0 \r\nL 45.3125 8.40625 \r\nQ 42.046875 3.421875 37.71875 1 \r\nQ 33.40625 -1.421875 27.6875 -1.421875 \r\nQ 18.265625 -1.421875 13.375 4.4375 \r\nQ 8.5 10.296875 8.5 21.578125 \r\nz\r\nM 31.109375 56 \r\nz\r\n\" id=\"DejaVuSans-117\"/>\r\n       <path d=\"M 18.3125 70.21875 \r\nL 18.3125 54.6875 \r\nL 36.8125 54.6875 \r\nL 36.8125 47.703125 \r\nL 18.3125 47.703125 \r\nL 18.3125 18.015625 \r\nQ 18.3125 11.328125 20.140625 9.421875 \r\nQ 21.96875 7.515625 27.59375 7.515625 \r\nL 36.8125 7.515625 \r\nL 36.8125 0 \r\nL 27.59375 0 \r\nQ 17.1875 0 13.234375 3.875 \r\nQ 9.28125 7.765625 9.28125 18.015625 \r\nL 9.28125 47.703125 \r\nL 2.6875 47.703125 \r\nL 2.6875 54.6875 \r\nL 9.28125 54.6875 \r\nL 9.28125 70.21875 \r\nz\r\n\" id=\"DejaVuSans-116\"/>\r\n       <path d=\"M 30.609375 48.390625 \r\nQ 23.390625 48.390625 19.1875 42.75 \r\nQ 14.984375 37.109375 14.984375 27.296875 \r\nQ 14.984375 17.484375 19.15625 11.84375 \r\nQ 23.34375 6.203125 30.609375 6.203125 \r\nQ 37.796875 6.203125 41.984375 11.859375 \r\nQ 46.1875 17.53125 46.1875 27.296875 \r\nQ 46.1875 37.015625 41.984375 42.703125 \r\nQ 37.796875 48.390625 30.609375 48.390625 \r\nz\r\nM 30.609375 56 \r\nQ 42.328125 56 49.015625 48.375 \r\nQ 55.71875 40.765625 55.71875 27.296875 \r\nQ 55.71875 13.875 49.015625 6.21875 \r\nQ 42.328125 -1.421875 30.609375 -1.421875 \r\nQ 18.84375 -1.421875 12.171875 6.21875 \r\nQ 5.515625 13.875 5.515625 27.296875 \r\nQ 5.515625 40.765625 12.171875 48.375 \r\nQ 18.84375 56 30.609375 56 \r\nz\r\n\" id=\"DejaVuSans-111\"/>\r\n       <path d=\"M 48.78125 52.59375 \r\nL 48.78125 44.1875 \r\nQ 44.96875 46.296875 41.140625 47.34375 \r\nQ 37.3125 48.390625 33.40625 48.390625 \r\nQ 24.65625 48.390625 19.8125 42.84375 \r\nQ 14.984375 37.3125 14.984375 27.296875 \r\nQ 14.984375 17.28125 19.8125 11.734375 \r\nQ 24.65625 6.203125 33.40625 6.203125 \r\nQ 37.3125 6.203125 41.140625 7.25 \r\nQ 44.96875 8.296875 48.78125 10.40625 \r\nL 48.78125 2.09375 \r\nQ 45.015625 0.34375 40.984375 -0.53125 \r\nQ 36.96875 -1.421875 32.421875 -1.421875 \r\nQ 20.0625 -1.421875 12.78125 6.34375 \r\nQ 5.515625 14.109375 5.515625 27.296875 \r\nQ 5.515625 40.671875 12.859375 48.328125 \r\nQ 20.21875 56 33.015625 56 \r\nQ 37.15625 56 41.109375 55.140625 \r\nQ 45.0625 54.296875 48.78125 52.59375 \r\nz\r\n\" id=\"DejaVuSans-99\"/>\r\n       <path d=\"M 41.109375 46.296875 \r\nQ 39.59375 47.171875 37.8125 47.578125 \r\nQ 36.03125 48 33.890625 48 \r\nQ 26.265625 48 22.1875 43.046875 \r\nQ 18.109375 38.09375 18.109375 28.8125 \r\nL 18.109375 0 \r\nL 9.078125 0 \r\nL 9.078125 54.6875 \r\nL 18.109375 54.6875 \r\nL 18.109375 46.1875 \r\nQ 20.953125 51.171875 25.484375 53.578125 \r\nQ 30.03125 56 36.53125 56 \r\nQ 37.453125 56 38.578125 55.875 \r\nQ 39.703125 55.765625 41.0625 55.515625 \r\nz\r\n\" id=\"DejaVuSans-114\"/>\r\n       <path d=\"M 56.203125 29.59375 \r\nL 56.203125 25.203125 \r\nL 14.890625 25.203125 \r\nQ 15.484375 15.921875 20.484375 11.0625 \r\nQ 25.484375 6.203125 34.421875 6.203125 \r\nQ 39.59375 6.203125 44.453125 7.46875 \r\nQ 49.3125 8.734375 54.109375 11.28125 \r\nL 54.109375 2.78125 \r\nQ 49.265625 0.734375 44.1875 -0.34375 \r\nQ 39.109375 -1.421875 33.890625 -1.421875 \r\nQ 20.796875 -1.421875 13.15625 6.1875 \r\nQ 5.515625 13.8125 5.515625 26.8125 \r\nQ 5.515625 40.234375 12.765625 48.109375 \r\nQ 20.015625 56 32.328125 56 \r\nQ 43.359375 56 49.78125 48.890625 \r\nQ 56.203125 41.796875 56.203125 29.59375 \r\nz\r\nM 47.21875 32.234375 \r\nQ 47.125 39.59375 43.09375 43.984375 \r\nQ 39.0625 48.390625 32.421875 48.390625 \r\nQ 24.90625 48.390625 20.390625 44.140625 \r\nQ 15.875 39.890625 15.1875 32.171875 \r\nz\r\n\" id=\"DejaVuSans-101\"/>\r\n       <path d=\"M 9.421875 75.984375 \r\nL 18.40625 75.984375 \r\nL 18.40625 0 \r\nL 9.421875 0 \r\nz\r\n\" id=\"DejaVuSans-108\"/>\r\n       <path d=\"M 9.421875 54.6875 \r\nL 18.40625 54.6875 \r\nL 18.40625 0 \r\nL 9.421875 0 \r\nz\r\nM 9.421875 75.984375 \r\nL 18.40625 75.984375 \r\nL 18.40625 64.59375 \r\nL 9.421875 64.59375 \r\nz\r\n\" id=\"DejaVuSans-105\"/>\r\n       <path d=\"M 54.890625 33.015625 \r\nL 54.890625 0 \r\nL 45.90625 0 \r\nL 45.90625 32.71875 \r\nQ 45.90625 40.484375 42.875 44.328125 \r\nQ 39.84375 48.1875 33.796875 48.1875 \r\nQ 26.515625 48.1875 22.3125 43.546875 \r\nQ 18.109375 38.921875 18.109375 30.90625 \r\nL 18.109375 0 \r\nL 9.078125 0 \r\nL 9.078125 54.6875 \r\nL 18.109375 54.6875 \r\nL 18.109375 46.1875 \r\nQ 21.34375 51.125 25.703125 53.5625 \r\nQ 30.078125 56 35.796875 56 \r\nQ 45.21875 56 50.046875 50.171875 \r\nQ 54.890625 44.34375 54.890625 33.015625 \r\nz\r\n\" id=\"DejaVuSans-110\"/>\r\n      </defs>\r\n      <use xlink:href=\"#DejaVuSans-65\"/>\r\n      <use x=\"68.408203\" xlink:href=\"#DejaVuSans-117\"/>\r\n      <use x=\"131.787109\" xlink:href=\"#DejaVuSans-116\"/>\r\n      <use x=\"170.996094\" xlink:href=\"#DejaVuSans-111\"/>\r\n      <use x=\"232.177734\" xlink:href=\"#DejaVuSans-99\"/>\r\n      <use x=\"287.158203\" xlink:href=\"#DejaVuSans-111\"/>\r\n      <use x=\"348.339844\" xlink:href=\"#DejaVuSans-114\"/>\r\n      <use x=\"387.703125\" xlink:href=\"#DejaVuSans-114\"/>\r\n      <use x=\"426.566406\" xlink:href=\"#DejaVuSans-101\"/>\r\n      <use x=\"488.089844\" xlink:href=\"#DejaVuSans-108\"/>\r\n      <use x=\"515.873047\" xlink:href=\"#DejaVuSans-97\"/>\r\n      <use x=\"577.152344\" xlink:href=\"#DejaVuSans-116\"/>\r\n      <use x=\"616.361328\" xlink:href=\"#DejaVuSans-105\"/>\r\n      <use x=\"644.144531\" xlink:href=\"#DejaVuSans-111\"/>\r\n      <use x=\"705.326172\" xlink:href=\"#DejaVuSans-110\"/>\r\n     </g>\r\n    </g>\r\n   </g>\r\n   <g id=\"line2d_29\">\r\n    <path clip-path=\"url(#p75e6962d2d)\" d=\"M 58.523438 83.260574 \r\nL 393.323438 83.260574 \r\n\" style=\"fill:none;stroke:#808080;stroke-dasharray:5.55,2.4;stroke-dashoffset:0;stroke-width:1.5;\"/>\r\n   </g>\r\n   <g id=\"line2d_30\">\r\n    <path clip-path=\"url(#p75e6962d2d)\" d=\"M 58.523438 91.977617 \r\nL 393.323438 91.977617 \r\n\" style=\"fill:none;stroke:#808080;stroke-linecap:square;stroke-width:1.5;\"/>\r\n   </g>\r\n   <g id=\"line2d_31\">\r\n    <path clip-path=\"url(#p75e6962d2d)\" d=\"M 58.523438 119.719219 \r\nL 393.323438 119.719219 \r\n\" style=\"fill:none;stroke:#000000;stroke-linecap:square;stroke-width:1.5;\"/>\r\n   </g>\r\n   <g id=\"line2d_32\">\r\n    <path clip-path=\"url(#p75e6962d2d)\" d=\"M 58.523438 147.46082 \r\nL 393.323438 147.46082 \r\n\" style=\"fill:none;stroke:#808080;stroke-linecap:square;stroke-width:1.5;\"/>\r\n   </g>\r\n   <g id=\"line2d_33\">\r\n    <path clip-path=\"url(#p75e6962d2d)\" d=\"M 58.523438 156.177863 \r\nL 393.323438 156.177863 \r\n\" style=\"fill:none;stroke:#808080;stroke-dasharray:5.55,2.4;stroke-dashoffset:0;stroke-width:1.5;\"/>\r\n   </g>\r\n   <g id=\"line2d_34\">\r\n    <path clip-path=\"url(#p75e6962d2d)\" d=\"M 58.523438 49.318731 \r\nL 64.295851 68.180147 \r\nL 70.068265 70.451677 \r\nL 75.840679 78.857403 \r\nL 81.613093 86.174908 \r\nL 87.385506 79.992881 \r\nL 93.15792 83.673879 \r\nL 98.930334 92.758727 \r\nL 104.702748 95.997908 \r\nL 110.475162 94.156212 \r\nL 116.247575 108.778825 \r\nL 122.019989 108.496819 \r\nL 127.792403 123.353303 \r\nL 133.564817 130.536444 \r\nL 139.337231 120.177309 \r\nL 145.109644 109.471004 \r\nL 150.882058 118.108132 \r\nL 156.654472 114.056404 \r\nL 162.426886 123.210703 \r\nL 168.1993 128.731213 \r\nL 173.971713 124.951558 \r\nL 179.744127 121.157289 \r\nL 185.516541 125.213429 \r\nL 191.288955 125.087034 \r\nL 197.061369 119.257057 \r\nL 202.833782 116.753187 \r\nL 208.606196 118.556395 \r\nL 214.37861 115.198751 \r\nL 220.151024 127.161545 \r\nL 225.923437 130.718881 \r\nL 231.695851 129.52875 \r\nL 237.468265 130.578982 \r\nL 243.240679 125.530037 \r\nL 249.013093 117.500756 \r\nL 254.785506 125.961356 \r\nL 260.55792 132.70783 \r\nL 266.330334 129.108696 \r\nL 272.102748 132.846773 \r\nL 277.875162 143.975339 \r\nL 283.647575 148.019909 \r\nL 289.419989 142.521301 \r\nL 295.192403 144.574149 \r\nL 300.964817 146.234025 \r\nL 306.737231 144.740224 \r\nL 312.509644 149.493288 \r\nL 318.282058 149.619522 \r\nL 324.054472 150.048939 \r\nL 329.826886 144.740953 \r\nL 335.5993 138.487605 \r\nL 341.371713 138.634067 \r\nL 347.144127 136.605763 \r\nL 352.916541 134.069181 \r\nL 358.688955 130.694877 \r\nL 364.461369 128.590526 \r\nL 370.233782 126.281666 \r\nL 376.006196 123.745594 \r\nL 381.77861 123.323194 \r\nL 387.551024 121.373629 \r\nL 393.323437 119.719219 \r\n\" style=\"fill:none;stroke:#1f77b4;stroke-linecap:square;stroke-width:1.5;\"/>\r\n   </g>\r\n   <g id=\"patch_3\">\r\n    <path d=\"M 58.523438 228.439219 \r\nL 58.523438 10.999219 \r\n\" style=\"fill:none;stroke:#000000;stroke-linecap:square;stroke-linejoin:miter;stroke-width:0.8;\"/>\r\n   </g>\r\n   <g id=\"patch_4\">\r\n    <path d=\"M 393.323438 228.439219 \r\nL 393.323438 10.999219 \r\n\" style=\"fill:none;stroke:#000000;stroke-linecap:square;stroke-linejoin:miter;stroke-width:0.8;\"/>\r\n   </g>\r\n   <g id=\"patch_5\">\r\n    <path d=\"M 58.523438 228.439219 \r\nL 393.323437 228.439219 \r\n\" style=\"fill:none;stroke:#000000;stroke-linecap:square;stroke-linejoin:miter;stroke-width:0.8;\"/>\r\n   </g>\r\n   <g id=\"patch_6\">\r\n    <path d=\"M 58.523438 10.999219 \r\nL 393.323437 10.999219 \r\n\" style=\"fill:none;stroke:#000000;stroke-linecap:square;stroke-linejoin:miter;stroke-width:0.8;\"/>\r\n   </g>\r\n  </g>\r\n </g>\r\n <defs>\r\n  <clipPath id=\"p75e6962d2d\">\r\n   <rect height=\"217.44\" width=\"334.8\" x=\"58.523438\" y=\"10.999219\"/>\r\n  </clipPath>\r\n </defs>\r\n</svg>\r\n",
      "image/png": "[encoded data removed]"
     },
     "metadata": {
      "needs_background": "light"
     }
    }
   ],
   "source": [
    "#Calcul corrélation de pearson\n",
    "donnee = []\n",
    "for µ in range(len(gpp['Value'])-1):\n",
    "    donnee.append([gpp.iloc[µ]['Value'],gpp.iloc[µ+1]['Value']])\n",
    "print(pd.DataFrame(donnee,columns=['t','t+1']).corr('pearson'))\n",
    "\n",
    "#Par la suite nous pouvons faire le graphique d'auto-corr\n",
    "autocorrelation_plot(gpp['Value'])\n",
    "plt.show()"
   ]
  },
  {
   "cell_type": "markdown",
   "metadata": {
    "pycharm": {
     "name": "#%% md\n"
    }
   },
   "source": [
    "Nous avons un coefficient de corrélation de Pearson > 0,5, ce qui démontre une corrélation élévée pour un retard de 1\n",
    "\n",
    "Nos données étant temporelles, nous allons tenter de déterminer si une composante saisonnière intervient."
   ]
  },
  {
   "cell_type": "code",
   "execution_count": 16,
   "metadata": {
    "pycharm": {
     "name": "#%%\n"
    }
   },
   "outputs": [
    {
     "output_type": "execute_result",
     "data": {
      "text/plain": [
       "        ValeurQ1   ValeurQ2   ValeurQ3   ValeurQ4\n",
       "count  59.000000  59.000000  59.000000  59.000000\n",
       "mean    0.676929   0.577484   0.822542   0.586085\n",
       "std     0.769279   1.350164   1.510368   0.627369\n",
       "min    -1.665799  -7.580956  -0.312951  -1.510183\n",
       "25%     0.263990   0.184265   0.286293   0.227723\n",
       "50%     0.678052   0.631128   0.512995   0.653064\n",
       "75%     1.033142   1.072126   0.944417   0.925338\n",
       "max     2.909618   4.465475  11.373243   1.699022"
      ],
      "text/html": "<div>\n<style scoped>\n    .dataframe tbody tr th:only-of-type {\n        vertical-align: middle;\n    }\n\n    .dataframe tbody tr th {\n        vertical-align: top;\n    }\n\n    .dataframe thead th {\n        text-align: right;\n    }\n</style>\n<table border=\"1\" class=\"dataframe\">\n  <thead>\n    <tr style=\"text-align: right;\">\n      <th></th>\n      <th>ValeurQ1</th>\n      <th>ValeurQ2</th>\n      <th>ValeurQ3</th>\n      <th>ValeurQ4</th>\n    </tr>\n  </thead>\n  <tbody>\n    <tr>\n      <th>count</th>\n      <td>59.000000</td>\n      <td>59.000000</td>\n      <td>59.000000</td>\n      <td>59.000000</td>\n    </tr>\n    <tr>\n      <th>mean</th>\n      <td>0.676929</td>\n      <td>0.577484</td>\n      <td>0.822542</td>\n      <td>0.586085</td>\n    </tr>\n    <tr>\n      <th>std</th>\n      <td>0.769279</td>\n      <td>1.350164</td>\n      <td>1.510368</td>\n      <td>0.627369</td>\n    </tr>\n    <tr>\n      <th>min</th>\n      <td>-1.665799</td>\n      <td>-7.580956</td>\n      <td>-0.312951</td>\n      <td>-1.510183</td>\n    </tr>\n    <tr>\n      <th>25%</th>\n      <td>0.263990</td>\n      <td>0.184265</td>\n      <td>0.286293</td>\n      <td>0.227723</td>\n    </tr>\n    <tr>\n      <th>50%</th>\n      <td>0.678052</td>\n      <td>0.631128</td>\n      <td>0.512995</td>\n      <td>0.653064</td>\n    </tr>\n    <tr>\n      <th>75%</th>\n      <td>1.033142</td>\n      <td>1.072126</td>\n      <td>0.944417</td>\n      <td>0.925338</td>\n    </tr>\n    <tr>\n      <th>max</th>\n      <td>2.909618</td>\n      <td>4.465475</td>\n      <td>11.373243</td>\n      <td>1.699022</td>\n    </tr>\n  </tbody>\n</table>\n</div>"
     },
     "metadata": {},
     "execution_count": 16
    }
   ],
   "source": [
    "#Nous récupérons les données de chaque années pour les 4 trimestres\n",
    "dataTrim = tr.saisonier(dataFR)\n",
    "#Nous affichons les statistique général\n",
    "dataTrim.describe()"
   ]
  },
  {
   "cell_type": "markdown",
   "metadata": {},
   "source": [
    "#### Evolution des variations du PIB par trimestre"
   ]
  },
  {
   "cell_type": "code",
   "execution_count": 17,
   "metadata": {
    "pycharm": {
     "name": "#%%\n"
    }
   },
   "outputs": [
    {
     "output_type": "execute_result",
     "data": {
      "text/plain": [
       "<AxesSubplot:>"
      ]
     },
     "metadata": {},
     "execution_count": 17
    },
    {
     "output_type": "display_data",
     "data": {
      "text/plain": "<Figure size 432x288 with 1 Axes>",
      "image/svg+xml": "<?xml version=\"1.0\" encoding=\"utf-8\" standalone=\"no\"?>\r\n<!DOCTYPE svg PUBLIC \"-//W3C//DTD SVG 1.1//EN\"\r\n  \"http://www.w3.org/Graphics/SVG/1.1/DTD/svg11.dtd\">\r\n<!-- Created with matplotlib (https://matplotlib.org/) -->\r\n<svg height=\"248.518125pt\" version=\"1.1\" viewBox=\"0 0 382.122428 248.518125\" width=\"382.122428pt\" xmlns=\"http://www.w3.org/2000/svg\" xmlns:xlink=\"http://www.w3.org/1999/xlink\">\r\n <metadata>\r\n  <rdf:RDF xmlns:cc=\"http://creativecommons.org/ns#\" xmlns:dc=\"http://purl.org/dc/elements/1.1/\" xmlns:rdf=\"http://www.w3.org/1999/02/22-rdf-syntax-ns#\">\r\n   <cc:Work>\r\n    <dc:type rdf:resource=\"http://purl.org/dc/dcmitype/StillImage\"/>\r\n    <dc:date>2020-12-03T12:31:21.561245</dc:date>\r\n    <dc:format>image/svg+xml</dc:format>\r\n    <dc:creator>\r\n     <cc:Agent>\r\n      <dc:title>Matplotlib v3.3.2, https://matplotlib.org/</dc:title>\r\n     </cc:Agent>\r\n    </dc:creator>\r\n   </cc:Work>\r\n  </rdf:RDF>\r\n </metadata>\r\n <defs>\r\n  <style type=\"text/css\">*{stroke-linecap:butt;stroke-linejoin:round;}</style>\r\n </defs>\r\n <g id=\"figure_1\">\r\n  <g id=\"patch_1\">\r\n   <path d=\"M -0 248.518125 \r\nL 382.122428 248.518125 \r\nL 382.122428 0 \r\nL -0 0 \r\nz\r\n\" style=\"fill:none;\"/>\r\n  </g>\r\n  <g id=\"axes_1\">\r\n   <g id=\"patch_2\">\r\n    <path d=\"M 38.482813 224.64 \r\nL 373.282813 224.64 \r\nL 373.282813 7.2 \r\nL 38.482813 7.2 \r\nz\r\n\" style=\"fill:#ffffff;\"/>\r\n   </g>\r\n   <g id=\"matplotlib.axis_1\">\r\n    <g id=\"xtick_1\">\r\n     <g id=\"line2d_1\">\r\n      <defs>\r\n       <path d=\"M 0 0 \r\nL 0 3.5 \r\n\" id=\"m7bcbf14f9b\" style=\"stroke:#000000;stroke-width:0.8;\"/>\r\n      </defs>\r\n      <g>\r\n       <use style=\"stroke:#000000;stroke-width:0.8;\" x=\"53.700994\" xlink:href=\"#m7bcbf14f9b\" y=\"224.64\"/>\r\n      </g>\r\n     </g>\r\n     <g id=\"text_1\">\r\n      <!-- 0 -->\r\n      <g transform=\"translate(50.519744 239.238438)scale(0.1 -0.1)\">\r\n       <defs>\r\n        <path d=\"M 31.78125 66.40625 \r\nQ 24.171875 66.40625 20.328125 58.90625 \r\nQ 16.5 51.421875 16.5 36.375 \r\nQ 16.5 21.390625 20.328125 13.890625 \r\nQ 24.171875 6.390625 31.78125 6.390625 \r\nQ 39.453125 6.390625 43.28125 13.890625 \r\nQ 47.125 21.390625 47.125 36.375 \r\nQ 47.125 51.421875 43.28125 58.90625 \r\nQ 39.453125 66.40625 31.78125 66.40625 \r\nz\r\nM 31.78125 74.21875 \r\nQ 44.046875 74.21875 50.515625 64.515625 \r\nQ 56.984375 54.828125 56.984375 36.375 \r\nQ 56.984375 17.96875 50.515625 8.265625 \r\nQ 44.046875 -1.421875 31.78125 -1.421875 \r\nQ 19.53125 -1.421875 13.0625 8.265625 \r\nQ 6.59375 17.96875 6.59375 36.375 \r\nQ 6.59375 54.828125 13.0625 64.515625 \r\nQ 19.53125 74.21875 31.78125 74.21875 \r\nz\r\n\" id=\"DejaVuSans-48\"/>\r\n       </defs>\r\n       <use xlink:href=\"#DejaVuSans-48\"/>\r\n      </g>\r\n     </g>\r\n    </g>\r\n    <g id=\"xtick_2\">\r\n     <g id=\"line2d_2\">\r\n      <g>\r\n       <use style=\"stroke:#000000;stroke-width:0.8;\" x=\"106.177483\" xlink:href=\"#m7bcbf14f9b\" y=\"224.64\"/>\r\n      </g>\r\n     </g>\r\n     <g id=\"text_2\">\r\n      <!-- 10 -->\r\n      <g transform=\"translate(99.814983 239.238438)scale(0.1 -0.1)\">\r\n       <defs>\r\n        <path d=\"M 12.40625 8.296875 \r\nL 28.515625 8.296875 \r\nL 28.515625 63.921875 \r\nL 10.984375 60.40625 \r\nL 10.984375 69.390625 \r\nL 28.421875 72.90625 \r\nL 38.28125 72.90625 \r\nL 38.28125 8.296875 \r\nL 54.390625 8.296875 \r\nL 54.390625 0 \r\nL 12.40625 0 \r\nz\r\n\" id=\"DejaVuSans-49\"/>\r\n       </defs>\r\n       <use xlink:href=\"#DejaVuSans-49\"/>\r\n       <use x=\"63.623047\" xlink:href=\"#DejaVuSans-48\"/>\r\n      </g>\r\n     </g>\r\n    </g>\r\n    <g id=\"xtick_3\">\r\n     <g id=\"line2d_3\">\r\n      <g>\r\n       <use style=\"stroke:#000000;stroke-width:0.8;\" x=\"158.653972\" xlink:href=\"#m7bcbf14f9b\" y=\"224.64\"/>\r\n      </g>\r\n     </g>\r\n     <g id=\"text_3\">\r\n      <!-- 20 -->\r\n      <g transform=\"translate(152.291472 239.238438)scale(0.1 -0.1)\">\r\n       <defs>\r\n        <path d=\"M 19.1875 8.296875 \r\nL 53.609375 8.296875 \r\nL 53.609375 0 \r\nL 7.328125 0 \r\nL 7.328125 8.296875 \r\nQ 12.9375 14.109375 22.625 23.890625 \r\nQ 32.328125 33.6875 34.8125 36.53125 \r\nQ 39.546875 41.84375 41.421875 45.53125 \r\nQ 43.3125 49.21875 43.3125 52.78125 \r\nQ 43.3125 58.59375 39.234375 62.25 \r\nQ 35.15625 65.921875 28.609375 65.921875 \r\nQ 23.96875 65.921875 18.8125 64.3125 \r\nQ 13.671875 62.703125 7.8125 59.421875 \r\nL 7.8125 69.390625 \r\nQ 13.765625 71.78125 18.9375 73 \r\nQ 24.125 74.21875 28.421875 74.21875 \r\nQ 39.75 74.21875 46.484375 68.546875 \r\nQ 53.21875 62.890625 53.21875 53.421875 \r\nQ 53.21875 48.921875 51.53125 44.890625 \r\nQ 49.859375 40.875 45.40625 35.40625 \r\nQ 44.1875 33.984375 37.640625 27.21875 \r\nQ 31.109375 20.453125 19.1875 8.296875 \r\nz\r\n\" id=\"DejaVuSans-50\"/>\r\n       </defs>\r\n       <use xlink:href=\"#DejaVuSans-50\"/>\r\n       <use x=\"63.623047\" xlink:href=\"#DejaVuSans-48\"/>\r\n      </g>\r\n     </g>\r\n    </g>\r\n    <g id=\"xtick_4\">\r\n     <g id=\"line2d_4\">\r\n      <g>\r\n       <use style=\"stroke:#000000;stroke-width:0.8;\" x=\"211.130461\" xlink:href=\"#m7bcbf14f9b\" y=\"224.64\"/>\r\n      </g>\r\n     </g>\r\n     <g id=\"text_4\">\r\n      <!-- 30 -->\r\n      <g transform=\"translate(204.767961 239.238438)scale(0.1 -0.1)\">\r\n       <defs>\r\n        <path d=\"M 40.578125 39.3125 \r\nQ 47.65625 37.796875 51.625 33 \r\nQ 55.609375 28.21875 55.609375 21.1875 \r\nQ 55.609375 10.40625 48.1875 4.484375 \r\nQ 40.765625 -1.421875 27.09375 -1.421875 \r\nQ 22.515625 -1.421875 17.65625 -0.515625 \r\nQ 12.796875 0.390625 7.625 2.203125 \r\nL 7.625 11.71875 \r\nQ 11.71875 9.328125 16.59375 8.109375 \r\nQ 21.484375 6.890625 26.8125 6.890625 \r\nQ 36.078125 6.890625 40.9375 10.546875 \r\nQ 45.796875 14.203125 45.796875 21.1875 \r\nQ 45.796875 27.640625 41.28125 31.265625 \r\nQ 36.765625 34.90625 28.71875 34.90625 \r\nL 20.21875 34.90625 \r\nL 20.21875 43.015625 \r\nL 29.109375 43.015625 \r\nQ 36.375 43.015625 40.234375 45.921875 \r\nQ 44.09375 48.828125 44.09375 54.296875 \r\nQ 44.09375 59.90625 40.109375 62.90625 \r\nQ 36.140625 65.921875 28.71875 65.921875 \r\nQ 24.65625 65.921875 20.015625 65.03125 \r\nQ 15.375 64.15625 9.8125 62.3125 \r\nL 9.8125 71.09375 \r\nQ 15.4375 72.65625 20.34375 73.4375 \r\nQ 25.25 74.21875 29.59375 74.21875 \r\nQ 40.828125 74.21875 47.359375 69.109375 \r\nQ 53.90625 64.015625 53.90625 55.328125 \r\nQ 53.90625 49.265625 50.4375 45.09375 \r\nQ 46.96875 40.921875 40.578125 39.3125 \r\nz\r\n\" id=\"DejaVuSans-51\"/>\r\n       </defs>\r\n       <use xlink:href=\"#DejaVuSans-51\"/>\r\n       <use x=\"63.623047\" xlink:href=\"#DejaVuSans-48\"/>\r\n      </g>\r\n     </g>\r\n    </g>\r\n    <g id=\"xtick_5\">\r\n     <g id=\"line2d_5\">\r\n      <g>\r\n       <use style=\"stroke:#000000;stroke-width:0.8;\" x=\"263.60695\" xlink:href=\"#m7bcbf14f9b\" y=\"224.64\"/>\r\n      </g>\r\n     </g>\r\n     <g id=\"text_5\">\r\n      <!-- 40 -->\r\n      <g transform=\"translate(257.24445 239.238438)scale(0.1 -0.1)\">\r\n       <defs>\r\n        <path d=\"M 37.796875 64.3125 \r\nL 12.890625 25.390625 \r\nL 37.796875 25.390625 \r\nz\r\nM 35.203125 72.90625 \r\nL 47.609375 72.90625 \r\nL 47.609375 25.390625 \r\nL 58.015625 25.390625 \r\nL 58.015625 17.1875 \r\nL 47.609375 17.1875 \r\nL 47.609375 0 \r\nL 37.796875 0 \r\nL 37.796875 17.1875 \r\nL 4.890625 17.1875 \r\nL 4.890625 26.703125 \r\nz\r\n\" id=\"DejaVuSans-52\"/>\r\n       </defs>\r\n       <use xlink:href=\"#DejaVuSans-52\"/>\r\n       <use x=\"63.623047\" xlink:href=\"#DejaVuSans-48\"/>\r\n      </g>\r\n     </g>\r\n    </g>\r\n    <g id=\"xtick_6\">\r\n     <g id=\"line2d_6\">\r\n      <g>\r\n       <use style=\"stroke:#000000;stroke-width:0.8;\" x=\"316.083439\" xlink:href=\"#m7bcbf14f9b\" y=\"224.64\"/>\r\n      </g>\r\n     </g>\r\n     <g id=\"text_6\">\r\n      <!-- 50 -->\r\n      <g transform=\"translate(309.720939 239.238438)scale(0.1 -0.1)\">\r\n       <defs>\r\n        <path d=\"M 10.796875 72.90625 \r\nL 49.515625 72.90625 \r\nL 49.515625 64.59375 \r\nL 19.828125 64.59375 \r\nL 19.828125 46.734375 \r\nQ 21.96875 47.46875 24.109375 47.828125 \r\nQ 26.265625 48.1875 28.421875 48.1875 \r\nQ 40.625 48.1875 47.75 41.5 \r\nQ 54.890625 34.8125 54.890625 23.390625 \r\nQ 54.890625 11.625 47.5625 5.09375 \r\nQ 40.234375 -1.421875 26.90625 -1.421875 \r\nQ 22.3125 -1.421875 17.546875 -0.640625 \r\nQ 12.796875 0.140625 7.71875 1.703125 \r\nL 7.71875 11.625 \r\nQ 12.109375 9.234375 16.796875 8.0625 \r\nQ 21.484375 6.890625 26.703125 6.890625 \r\nQ 35.15625 6.890625 40.078125 11.328125 \r\nQ 45.015625 15.765625 45.015625 23.390625 \r\nQ 45.015625 31 40.078125 35.4375 \r\nQ 35.15625 39.890625 26.703125 39.890625 \r\nQ 22.75 39.890625 18.8125 39.015625 \r\nQ 14.890625 38.140625 10.796875 36.28125 \r\nz\r\n\" id=\"DejaVuSans-53\"/>\r\n       </defs>\r\n       <use xlink:href=\"#DejaVuSans-53\"/>\r\n       <use x=\"63.623047\" xlink:href=\"#DejaVuSans-48\"/>\r\n      </g>\r\n     </g>\r\n    </g>\r\n    <g id=\"xtick_7\">\r\n     <g id=\"line2d_7\">\r\n      <g>\r\n       <use style=\"stroke:#000000;stroke-width:0.8;\" x=\"368.559928\" xlink:href=\"#m7bcbf14f9b\" y=\"224.64\"/>\r\n      </g>\r\n     </g>\r\n     <g id=\"text_7\">\r\n      <!-- 60 -->\r\n      <g transform=\"translate(362.197428 239.238438)scale(0.1 -0.1)\">\r\n       <defs>\r\n        <path d=\"M 33.015625 40.375 \r\nQ 26.375 40.375 22.484375 35.828125 \r\nQ 18.609375 31.296875 18.609375 23.390625 \r\nQ 18.609375 15.53125 22.484375 10.953125 \r\nQ 26.375 6.390625 33.015625 6.390625 \r\nQ 39.65625 6.390625 43.53125 10.953125 \r\nQ 47.40625 15.53125 47.40625 23.390625 \r\nQ 47.40625 31.296875 43.53125 35.828125 \r\nQ 39.65625 40.375 33.015625 40.375 \r\nz\r\nM 52.59375 71.296875 \r\nL 52.59375 62.3125 \r\nQ 48.875 64.0625 45.09375 64.984375 \r\nQ 41.3125 65.921875 37.59375 65.921875 \r\nQ 27.828125 65.921875 22.671875 59.328125 \r\nQ 17.53125 52.734375 16.796875 39.40625 \r\nQ 19.671875 43.65625 24.015625 45.921875 \r\nQ 28.375 48.1875 33.59375 48.1875 \r\nQ 44.578125 48.1875 50.953125 41.515625 \r\nQ 57.328125 34.859375 57.328125 23.390625 \r\nQ 57.328125 12.15625 50.6875 5.359375 \r\nQ 44.046875 -1.421875 33.015625 -1.421875 \r\nQ 20.359375 -1.421875 13.671875 8.265625 \r\nQ 6.984375 17.96875 6.984375 36.375 \r\nQ 6.984375 53.65625 15.1875 63.9375 \r\nQ 23.390625 74.21875 37.203125 74.21875 \r\nQ 40.921875 74.21875 44.703125 73.484375 \r\nQ 48.484375 72.75 52.59375 71.296875 \r\nz\r\n\" id=\"DejaVuSans-54\"/>\r\n       </defs>\r\n       <use xlink:href=\"#DejaVuSans-54\"/>\r\n       <use x=\"63.623047\" xlink:href=\"#DejaVuSans-48\"/>\r\n      </g>\r\n     </g>\r\n    </g>\r\n   </g>\r\n   <g id=\"matplotlib.axis_2\">\r\n    <g id=\"ytick_1\">\r\n     <g id=\"line2d_8\">\r\n      <defs>\r\n       <path d=\"M 0 0 \r\nL -3.5 0 \r\n\" id=\"m4b35aae7cc\" style=\"stroke:#000000;stroke-width:0.8;\"/>\r\n      </defs>\r\n      <g>\r\n       <use style=\"stroke:#000000;stroke-width:0.8;\" x=\"38.482813\" xlink:href=\"#m4b35aae7cc\" y=\"213.912072\"/>\r\n      </g>\r\n     </g>\r\n     <g id=\"text_8\">\r\n      <!-- −7.5 -->\r\n      <g transform=\"translate(7.2 217.711291)scale(0.1 -0.1)\">\r\n       <defs>\r\n        <path d=\"M 10.59375 35.5 \r\nL 73.1875 35.5 \r\nL 73.1875 27.203125 \r\nL 10.59375 27.203125 \r\nz\r\n\" id=\"DejaVuSans-8722\"/>\r\n        <path d=\"M 8.203125 72.90625 \r\nL 55.078125 72.90625 \r\nL 55.078125 68.703125 \r\nL 28.609375 0 \r\nL 18.3125 0 \r\nL 43.21875 64.59375 \r\nL 8.203125 64.59375 \r\nz\r\n\" id=\"DejaVuSans-55\"/>\r\n        <path d=\"M 10.6875 12.40625 \r\nL 21 12.40625 \r\nL 21 0 \r\nL 10.6875 0 \r\nz\r\n\" id=\"DejaVuSans-46\"/>\r\n       </defs>\r\n       <use xlink:href=\"#DejaVuSans-8722\"/>\r\n       <use x=\"83.789062\" xlink:href=\"#DejaVuSans-55\"/>\r\n       <use x=\"147.412109\" xlink:href=\"#DejaVuSans-46\"/>\r\n       <use x=\"179.199219\" xlink:href=\"#DejaVuSans-53\"/>\r\n      </g>\r\n     </g>\r\n    </g>\r\n    <g id=\"ytick_2\">\r\n     <g id=\"line2d_9\">\r\n      <g>\r\n       <use style=\"stroke:#000000;stroke-width:0.8;\" x=\"38.482813\" xlink:href=\"#m4b35aae7cc\" y=\"187.839654\"/>\r\n      </g>\r\n     </g>\r\n     <g id=\"text_9\">\r\n      <!-- −5.0 -->\r\n      <g transform=\"translate(7.2 191.638873)scale(0.1 -0.1)\">\r\n       <use xlink:href=\"#DejaVuSans-8722\"/>\r\n       <use x=\"83.789062\" xlink:href=\"#DejaVuSans-53\"/>\r\n       <use x=\"147.412109\" xlink:href=\"#DejaVuSans-46\"/>\r\n       <use x=\"179.199219\" xlink:href=\"#DejaVuSans-48\"/>\r\n      </g>\r\n     </g>\r\n    </g>\r\n    <g id=\"ytick_3\">\r\n     <g id=\"line2d_10\">\r\n      <g>\r\n       <use style=\"stroke:#000000;stroke-width:0.8;\" x=\"38.482813\" xlink:href=\"#m4b35aae7cc\" y=\"161.767236\"/>\r\n      </g>\r\n     </g>\r\n     <g id=\"text_10\">\r\n      <!-- −2.5 -->\r\n      <g transform=\"translate(7.2 165.566454)scale(0.1 -0.1)\">\r\n       <use xlink:href=\"#DejaVuSans-8722\"/>\r\n       <use x=\"83.789062\" xlink:href=\"#DejaVuSans-50\"/>\r\n       <use x=\"147.412109\" xlink:href=\"#DejaVuSans-46\"/>\r\n       <use x=\"179.199219\" xlink:href=\"#DejaVuSans-53\"/>\r\n      </g>\r\n     </g>\r\n    </g>\r\n    <g id=\"ytick_4\">\r\n     <g id=\"line2d_11\">\r\n      <g>\r\n       <use style=\"stroke:#000000;stroke-width:0.8;\" x=\"38.482813\" xlink:href=\"#m4b35aae7cc\" y=\"135.694817\"/>\r\n      </g>\r\n     </g>\r\n     <g id=\"text_11\">\r\n      <!-- 0.0 -->\r\n      <g transform=\"translate(15.579688 139.494036)scale(0.1 -0.1)\">\r\n       <use xlink:href=\"#DejaVuSans-48\"/>\r\n       <use x=\"63.623047\" xlink:href=\"#DejaVuSans-46\"/>\r\n       <use x=\"95.410156\" xlink:href=\"#DejaVuSans-48\"/>\r\n      </g>\r\n     </g>\r\n    </g>\r\n    <g id=\"ytick_5\">\r\n     <g id=\"line2d_12\">\r\n      <g>\r\n       <use style=\"stroke:#000000;stroke-width:0.8;\" x=\"38.482813\" xlink:href=\"#m4b35aae7cc\" y=\"109.622399\"/>\r\n      </g>\r\n     </g>\r\n     <g id=\"text_12\">\r\n      <!-- 2.5 -->\r\n      <g transform=\"translate(15.579688 113.421618)scale(0.1 -0.1)\">\r\n       <use xlink:href=\"#DejaVuSans-50\"/>\r\n       <use x=\"63.623047\" xlink:href=\"#DejaVuSans-46\"/>\r\n       <use x=\"95.410156\" xlink:href=\"#DejaVuSans-53\"/>\r\n      </g>\r\n     </g>\r\n    </g>\r\n    <g id=\"ytick_6\">\r\n     <g id=\"line2d_13\">\r\n      <g>\r\n       <use style=\"stroke:#000000;stroke-width:0.8;\" x=\"38.482813\" xlink:href=\"#m4b35aae7cc\" y=\"83.549981\"/>\r\n      </g>\r\n     </g>\r\n     <g id=\"text_13\">\r\n      <!-- 5.0 -->\r\n      <g transform=\"translate(15.579688 87.349199)scale(0.1 -0.1)\">\r\n       <use xlink:href=\"#DejaVuSans-53\"/>\r\n       <use x=\"63.623047\" xlink:href=\"#DejaVuSans-46\"/>\r\n       <use x=\"95.410156\" xlink:href=\"#DejaVuSans-48\"/>\r\n      </g>\r\n     </g>\r\n    </g>\r\n    <g id=\"ytick_7\">\r\n     <g id=\"line2d_14\">\r\n      <g>\r\n       <use style=\"stroke:#000000;stroke-width:0.8;\" x=\"38.482813\" xlink:href=\"#m4b35aae7cc\" y=\"57.477562\"/>\r\n      </g>\r\n     </g>\r\n     <g id=\"text_14\">\r\n      <!-- 7.5 -->\r\n      <g transform=\"translate(15.579688 61.276781)scale(0.1 -0.1)\">\r\n       <use xlink:href=\"#DejaVuSans-55\"/>\r\n       <use x=\"63.623047\" xlink:href=\"#DejaVuSans-46\"/>\r\n       <use x=\"95.410156\" xlink:href=\"#DejaVuSans-53\"/>\r\n      </g>\r\n     </g>\r\n    </g>\r\n    <g id=\"ytick_8\">\r\n     <g id=\"line2d_15\">\r\n      <g>\r\n       <use style=\"stroke:#000000;stroke-width:0.8;\" x=\"38.482813\" xlink:href=\"#m4b35aae7cc\" y=\"31.405144\"/>\r\n      </g>\r\n     </g>\r\n     <g id=\"text_15\">\r\n      <!-- 10.0 -->\r\n      <g transform=\"translate(9.217188 35.204363)scale(0.1 -0.1)\">\r\n       <use xlink:href=\"#DejaVuSans-49\"/>\r\n       <use x=\"63.623047\" xlink:href=\"#DejaVuSans-48\"/>\r\n       <use x=\"127.246094\" xlink:href=\"#DejaVuSans-46\"/>\r\n       <use x=\"159.033203\" xlink:href=\"#DejaVuSans-48\"/>\r\n      </g>\r\n     </g>\r\n    </g>\r\n   </g>\r\n   <g id=\"line2d_16\">\r\n    <path clip-path=\"url(#p29e2adccac)\" d=\"M 53.700994 118.921142 \r\nL 58.948643 116.919761 \r\nL 64.196292 153.067385 \r\nL 69.443941 116.061197 \r\nL 74.69159 133.37964 \r\nL 79.939239 126.285744 \r\nL 85.186888 117.823326 \r\nL 90.434537 105.350502 \r\nL 95.682186 133.778545 \r\nL 100.929834 115.761156 \r\nL 106.177483 134.348612 \r\nL 111.425132 122.034996 \r\nL 116.672781 114.917371 \r\nL 121.92043 125.690444 \r\nL 127.168079 140.386852 \r\nL 132.415728 120.387924 \r\nL 137.663377 124.166136 \r\nL 142.911026 121.207536 \r\nL 148.158675 126.725332 \r\nL 153.406323 124.050694 \r\nL 158.653972 131.32945 \r\nL 163.901621 127.005807 \r\nL 169.14927 131.088997 \r\nL 174.396919 128.170596 \r\nL 179.644568 133.718329 \r\nL 184.892217 131.030791 \r\nL 190.139866 132.994435 \r\nL 195.387515 122.508044 \r\nL 200.635164 121.272504 \r\nL 205.882812 128.623432 \r\nL 211.130461 136.098252 \r\nL 216.37811 124.989981 \r\nL 221.625759 142.202002 \r\nL 226.873408 127.857509 \r\nL 232.121057 129.91826 \r\nL 237.368706 129.803772 \r\nL 242.616355 132.125625 \r\nL 247.864004 126.852712 \r\nL 253.111653 129.908089 \r\nL 258.359302 125.536914 \r\nL 263.60695 129.570486 \r\nL 268.854599 131.909551 \r\nL 274.102248 133.968943 \r\nL 279.349897 125.980019 \r\nL 284.597546 132.888905 \r\nL 289.845195 127.597057 \r\nL 295.092844 128.088774 \r\nL 300.340493 131.008622 \r\nL 305.588142 153.010745 \r\nL 310.835791 131.677229 \r\nL 316.083439 124.850439 \r\nL 321.331088 134.4866 \r\nL 326.578737 135.935175 \r\nL 331.826386 134.251662 \r\nL 337.074035 130.21553 \r\nL 342.321684 128.356447 \r\nL 347.569333 127.178234 \r\nL 352.816982 134.196903 \r\nL 358.064631 130.002629 \r\n\" style=\"fill:none;stroke:#1f77b4;stroke-linecap:square;stroke-width:1.5;\"/>\r\n   </g>\r\n   <g id=\"line2d_17\">\r\n    <path clip-path=\"url(#p29e2adccac)\" d=\"M 53.700994 119.005036 \r\nL 58.948643 118.844921 \r\nL 64.196292 89.124519 \r\nL 69.443941 125.694266 \r\nL 74.69159 109.746551 \r\nL 79.939239 119.920779 \r\nL 85.186888 124.279507 \r\nL 90.434537 214.756364 \r\nL 95.682186 110.112173 \r\nL 100.929834 122.533059 \r\nL 106.177483 116.693377 \r\nL 111.425132 131.688245 \r\nL 116.672781 124.427547 \r\nL 121.92043 130.473631 \r\nL 127.168079 133.058894 \r\nL 132.415728 123.260766 \r\nL 137.663377 131.160343 \r\nL 142.911026 118.355434 \r\nL 148.158675 125.724804 \r\nL 153.406323 141.274989 \r\nL 158.653972 129.974099 \r\nL 163.901621 129.112806 \r\nL 169.14927 135.453834 \r\nL 174.396919 132.559251 \r\nL 179.644568 128.622443 \r\nL 184.892217 124.354483 \r\nL 190.139866 124.054525 \r\nL 195.387515 128.730642 \r\nL 200.635164 127.890462 \r\nL 205.882812 132.020154 \r\nL 211.130461 132.163393 \r\nL 216.37811 136.548321 \r\nL 221.625759 134.977717 \r\nL 226.873408 124.599764 \r\nL 232.121057 131.321918 \r\nL 237.368706 133.128525 \r\nL 242.616355 123.873417 \r\nL 247.864004 126.17318 \r\nL 253.111653 126.819717 \r\nL 258.359302 125.722839 \r\nL 263.60695 134.443401 \r\nL 268.854599 130.641528 \r\nL 274.102248 138.075281 \r\nL 279.349897 128.950526 \r\nL 284.597546 133.843351 \r\nL 289.845195 125.195794 \r\nL 295.092844 127.564089 \r\nL 300.340493 140.602142 \r\nL 305.588142 136.783862 \r\nL 310.835791 130.342959 \r\nL 316.083439 135.258767 \r\nL 321.331088 137.695027 \r\nL 326.578737 128.64204 \r\nL 331.826386 134.918808 \r\nL 337.074035 136.06973 \r\nL 342.321684 138.280377 \r\nL 347.569333 128.284183 \r\nL 352.816982 133.702904 \r\nL 358.064631 133.131317 \r\n\" style=\"fill:none;stroke:#ff7f0e;stroke-linecap:square;stroke-width:1.5;\"/>\r\n   </g>\r\n   <g id=\"line2d_18\">\r\n    <path clip-path=\"url(#p29e2adccac)\" d=\"M 53.700994 119.089622 \r\nL 58.948643 120.679343 \r\nL 64.196292 101.291714 \r\nL 69.443941 122.906247 \r\nL 74.69159 120.624762 \r\nL 79.939239 123.801357 \r\nL 85.186888 125.722742 \r\nL 90.434537 17.083636 \r\nL 95.682186 125.83544 \r\nL 100.929834 121.331641 \r\nL 106.177483 118.689328 \r\nL 111.425132 126.43431 \r\nL 116.672781 126.737949 \r\nL 121.92043 125.855598 \r\nL 127.168079 131.655133 \r\nL 132.415728 130.762796 \r\nL 137.663377 130.91373 \r\nL 142.911026 136.612131 \r\nL 148.158675 123.773478 \r\nL 153.406323 135.921965 \r\nL 158.653972 127.981259 \r\nL 163.901621 134.7654 \r\nL 169.14927 133.905069 \r\nL 174.396919 130.387446 \r\nL 179.644568 128.670081 \r\nL 184.892217 131.507848 \r\nL 190.139866 127.241783 \r\nL 195.387515 121.901582 \r\nL 200.635164 123.429705 \r\nL 205.882812 131.056962 \r\nL 211.130461 132.295421 \r\nL 216.37811 135.277329 \r\nL 221.625759 134.067924 \r\nL 226.873408 129.603305 \r\nL 232.121057 134.030119 \r\nL 237.368706 129.788548 \r\nL 242.616355 128.182529 \r\nL 247.864004 128.313092 \r\nL 253.111653 123.448338 \r\nL 258.359302 129.168632 \r\nL 263.60695 132.256987 \r\nL 268.854599 131.837166 \r\nL 274.102248 128.517188 \r\nL 279.349897 132.695157 \r\nL 284.597546 130.344807 \r\nL 289.845195 135.649687 \r\nL 295.092844 132.237176 \r\nL 300.340493 138.958574 \r\nL 305.588142 134.069866 \r\nL 310.835791 129.613692 \r\nL 316.083439 132.722992 \r\nL 321.331088 133.700626 \r\nL 326.578737 135.598906 \r\nL 331.826386 131.26183 \r\nL 337.074035 132.080901 \r\nL 342.321684 133.278172 \r\nL 347.569333 128.388604 \r\nL 352.816982 131.83736 \r\nL 358.064631 134.081529 \r\n\" style=\"fill:none;stroke:#2ca02c;stroke-linecap:square;stroke-width:1.5;\"/>\r\n   </g>\r\n   <g id=\"line2d_19\">\r\n    <path clip-path=\"url(#p29e2adccac)\" d=\"M 53.700994 117.975773 \r\nL 58.948643 122.639868 \r\nL 64.196292 132.448419 \r\nL 69.443941 126.269756 \r\nL 74.69159 121.175459 \r\nL 79.939239 130.001158 \r\nL 85.186888 125.529416 \r\nL 90.434537 125.0094 \r\nL 95.682186 127.453308 \r\nL 100.929834 119.319398 \r\nL 106.177483 126.759475 \r\nL 111.425132 118.380266 \r\nL 116.672781 122.363269 \r\nL 121.92043 151.44447 \r\nL 127.168079 121.612213 \r\nL 132.415728 122.701989 \r\nL 137.663377 133.31438 \r\nL 142.911026 126.81861 \r\nL 148.158675 133.711155 \r\nL 153.406323 136.971449 \r\nL 158.653972 130.473056 \r\nL 163.901621 129.650289 \r\nL 169.14927 131.344933 \r\nL 174.396919 133.076472 \r\nL 179.644568 132.748809 \r\nL 184.892217 133.230886 \r\nL 190.139866 119.006851 \r\nL 195.387515 125.819232 \r\nL 200.635164 122.232702 \r\nL 205.882812 133.105298 \r\nL 211.130461 131.320865 \r\nL 216.37811 137.937919 \r\nL 221.625759 133.495855 \r\nL 226.873408 126.524477 \r\nL 232.121057 133.829633 \r\nL 237.368706 134.23241 \r\nL 242.616355 123.774823 \r\nL 247.864004 128.056503 \r\nL 253.111653 121.415959 \r\nL 258.359302 127.320717 \r\nL 263.60695 135.934138 \r\nL 268.854599 135.546738 \r\nL 274.102248 127.830553 \r\nL 279.349897 128.112339 \r\nL 284.597546 127.849613 \r\nL 289.845195 127.23321 \r\nL 295.092844 133.325419 \r\nL 300.340493 150.264828 \r\nL 305.588142 128.116636 \r\nL 310.835791 128.414765 \r\nL 316.083439 133.262869 \r\nL 321.331088 136.444903 \r\nL 326.578737 130.55134 \r\nL 331.826386 134.353714 \r\nL 337.074035 134.521811 \r\nL 342.321684 129.631044 \r\nL 347.569333 126.853011 \r\nL 352.816982 128.884032 \r\nL 358.064631 137.742804 \r\n\" style=\"fill:none;stroke:#d62728;stroke-linecap:square;stroke-width:1.5;\"/>\r\n   </g>\r\n   <g id=\"patch_3\">\r\n    <path d=\"M 38.482813 224.64 \r\nL 38.482813 7.2 \r\n\" style=\"fill:none;stroke:#000000;stroke-linecap:square;stroke-linejoin:miter;stroke-width:0.8;\"/>\r\n   </g>\r\n   <g id=\"patch_4\">\r\n    <path d=\"M 373.282813 224.64 \r\nL 373.282813 7.2 \r\n\" style=\"fill:none;stroke:#000000;stroke-linecap:square;stroke-linejoin:miter;stroke-width:0.8;\"/>\r\n   </g>\r\n   <g id=\"patch_5\">\r\n    <path d=\"M 38.482813 224.64 \r\nL 373.282813 224.64 \r\n\" style=\"fill:none;stroke:#000000;stroke-linecap:square;stroke-linejoin:miter;stroke-width:0.8;\"/>\r\n   </g>\r\n   <g id=\"patch_6\">\r\n    <path d=\"M 38.482813 7.2 \r\nL 373.282813 7.2 \r\n\" style=\"fill:none;stroke:#000000;stroke-linecap:square;stroke-linejoin:miter;stroke-width:0.8;\"/>\r\n   </g>\r\n   <g id=\"legend_1\">\r\n    <g id=\"patch_7\">\r\n     <path d=\"M 288.475 73.9125 \r\nL 366.282813 73.9125 \r\nQ 368.282813 73.9125 368.282813 71.9125 \r\nL 368.282813 14.2 \r\nQ 368.282813 12.2 366.282813 12.2 \r\nL 288.475 12.2 \r\nQ 286.475 12.2 286.475 14.2 \r\nL 286.475 71.9125 \r\nQ 286.475 73.9125 288.475 73.9125 \r\nz\r\n\" style=\"fill:#ffffff;opacity:0.8;stroke:#cccccc;stroke-linejoin:miter;\"/>\r\n    </g>\r\n    <g id=\"line2d_20\">\r\n     <path d=\"M 290.475 20.298437 \r\nL 310.475 20.298437 \r\n\" style=\"fill:none;stroke:#1f77b4;stroke-linecap:square;stroke-width:1.5;\"/>\r\n    </g>\r\n    <g id=\"line2d_21\"/>\r\n    <g id=\"text_16\">\r\n     <!-- ValeurQ1 -->\r\n     <g transform=\"translate(318.475 23.798437)scale(0.1 -0.1)\">\r\n      <defs>\r\n       <path d=\"M 28.609375 0 \r\nL 0.78125 72.90625 \r\nL 11.078125 72.90625 \r\nL 34.1875 11.53125 \r\nL 57.328125 72.90625 \r\nL 67.578125 72.90625 \r\nL 39.796875 0 \r\nz\r\n\" id=\"DejaVuSans-86\"/>\r\n       <path d=\"M 34.28125 27.484375 \r\nQ 23.390625 27.484375 19.1875 25 \r\nQ 14.984375 22.515625 14.984375 16.5 \r\nQ 14.984375 11.71875 18.140625 8.90625 \r\nQ 21.296875 6.109375 26.703125 6.109375 \r\nQ 34.1875 6.109375 38.703125 11.40625 \r\nQ 43.21875 16.703125 43.21875 25.484375 \r\nL 43.21875 27.484375 \r\nz\r\nM 52.203125 31.203125 \r\nL 52.203125 0 \r\nL 43.21875 0 \r\nL 43.21875 8.296875 \r\nQ 40.140625 3.328125 35.546875 0.953125 \r\nQ 30.953125 -1.421875 24.3125 -1.421875 \r\nQ 15.921875 -1.421875 10.953125 3.296875 \r\nQ 6 8.015625 6 15.921875 \r\nQ 6 25.140625 12.171875 29.828125 \r\nQ 18.359375 34.515625 30.609375 34.515625 \r\nL 43.21875 34.515625 \r\nL 43.21875 35.40625 \r\nQ 43.21875 41.609375 39.140625 45 \r\nQ 35.0625 48.390625 27.6875 48.390625 \r\nQ 23 48.390625 18.546875 47.265625 \r\nQ 14.109375 46.140625 10.015625 43.890625 \r\nL 10.015625 52.203125 \r\nQ 14.9375 54.109375 19.578125 55.046875 \r\nQ 24.21875 56 28.609375 56 \r\nQ 40.484375 56 46.34375 49.84375 \r\nQ 52.203125 43.703125 52.203125 31.203125 \r\nz\r\n\" id=\"DejaVuSans-97\"/>\r\n       <path d=\"M 9.421875 75.984375 \r\nL 18.40625 75.984375 \r\nL 18.40625 0 \r\nL 9.421875 0 \r\nz\r\n\" id=\"DejaVuSans-108\"/>\r\n       <path d=\"M 56.203125 29.59375 \r\nL 56.203125 25.203125 \r\nL 14.890625 25.203125 \r\nQ 15.484375 15.921875 20.484375 11.0625 \r\nQ 25.484375 6.203125 34.421875 6.203125 \r\nQ 39.59375 6.203125 44.453125 7.46875 \r\nQ 49.3125 8.734375 54.109375 11.28125 \r\nL 54.109375 2.78125 \r\nQ 49.265625 0.734375 44.1875 -0.34375 \r\nQ 39.109375 -1.421875 33.890625 -1.421875 \r\nQ 20.796875 -1.421875 13.15625 6.1875 \r\nQ 5.515625 13.8125 5.515625 26.8125 \r\nQ 5.515625 40.234375 12.765625 48.109375 \r\nQ 20.015625 56 32.328125 56 \r\nQ 43.359375 56 49.78125 48.890625 \r\nQ 56.203125 41.796875 56.203125 29.59375 \r\nz\r\nM 47.21875 32.234375 \r\nQ 47.125 39.59375 43.09375 43.984375 \r\nQ 39.0625 48.390625 32.421875 48.390625 \r\nQ 24.90625 48.390625 20.390625 44.140625 \r\nQ 15.875 39.890625 15.1875 32.171875 \r\nz\r\n\" id=\"DejaVuSans-101\"/>\r\n       <path d=\"M 8.5 21.578125 \r\nL 8.5 54.6875 \r\nL 17.484375 54.6875 \r\nL 17.484375 21.921875 \r\nQ 17.484375 14.15625 20.5 10.265625 \r\nQ 23.53125 6.390625 29.59375 6.390625 \r\nQ 36.859375 6.390625 41.078125 11.03125 \r\nQ 45.3125 15.671875 45.3125 23.6875 \r\nL 45.3125 54.6875 \r\nL 54.296875 54.6875 \r\nL 54.296875 0 \r\nL 45.3125 0 \r\nL 45.3125 8.40625 \r\nQ 42.046875 3.421875 37.71875 1 \r\nQ 33.40625 -1.421875 27.6875 -1.421875 \r\nQ 18.265625 -1.421875 13.375 4.4375 \r\nQ 8.5 10.296875 8.5 21.578125 \r\nz\r\nM 31.109375 56 \r\nz\r\n\" id=\"DejaVuSans-117\"/>\r\n       <path d=\"M 41.109375 46.296875 \r\nQ 39.59375 47.171875 37.8125 47.578125 \r\nQ 36.03125 48 33.890625 48 \r\nQ 26.265625 48 22.1875 43.046875 \r\nQ 18.109375 38.09375 18.109375 28.8125 \r\nL 18.109375 0 \r\nL 9.078125 0 \r\nL 9.078125 54.6875 \r\nL 18.109375 54.6875 \r\nL 18.109375 46.1875 \r\nQ 20.953125 51.171875 25.484375 53.578125 \r\nQ 30.03125 56 36.53125 56 \r\nQ 37.453125 56 38.578125 55.875 \r\nQ 39.703125 55.765625 41.0625 55.515625 \r\nz\r\n\" id=\"DejaVuSans-114\"/>\r\n       <path d=\"M 39.40625 66.21875 \r\nQ 28.65625 66.21875 22.328125 58.203125 \r\nQ 16.015625 50.203125 16.015625 36.375 \r\nQ 16.015625 22.609375 22.328125 14.59375 \r\nQ 28.65625 6.59375 39.40625 6.59375 \r\nQ 50.140625 6.59375 56.421875 14.59375 \r\nQ 62.703125 22.609375 62.703125 36.375 \r\nQ 62.703125 50.203125 56.421875 58.203125 \r\nQ 50.140625 66.21875 39.40625 66.21875 \r\nz\r\nM 53.21875 1.3125 \r\nL 66.21875 -12.890625 \r\nL 54.296875 -12.890625 \r\nL 43.5 -1.21875 \r\nQ 41.890625 -1.3125 41.03125 -1.359375 \r\nQ 40.1875 -1.421875 39.40625 -1.421875 \r\nQ 24.03125 -1.421875 14.8125 8.859375 \r\nQ 5.609375 19.140625 5.609375 36.375 \r\nQ 5.609375 53.65625 14.8125 63.9375 \r\nQ 24.03125 74.21875 39.40625 74.21875 \r\nQ 54.734375 74.21875 63.90625 63.9375 \r\nQ 73.09375 53.65625 73.09375 36.375 \r\nQ 73.09375 23.6875 67.984375 14.640625 \r\nQ 62.890625 5.609375 53.21875 1.3125 \r\nz\r\n\" id=\"DejaVuSans-81\"/>\r\n      </defs>\r\n      <use xlink:href=\"#DejaVuSans-86\"/>\r\n      <use x=\"60.658203\" xlink:href=\"#DejaVuSans-97\"/>\r\n      <use x=\"121.9375\" xlink:href=\"#DejaVuSans-108\"/>\r\n      <use x=\"149.720703\" xlink:href=\"#DejaVuSans-101\"/>\r\n      <use x=\"211.244141\" xlink:href=\"#DejaVuSans-117\"/>\r\n      <use x=\"274.623047\" xlink:href=\"#DejaVuSans-114\"/>\r\n      <use x=\"315.736328\" xlink:href=\"#DejaVuSans-81\"/>\r\n      <use x=\"394.447266\" xlink:href=\"#DejaVuSans-49\"/>\r\n     </g>\r\n    </g>\r\n    <g id=\"line2d_22\">\r\n     <path d=\"M 290.475 34.976562 \r\nL 310.475 34.976562 \r\n\" style=\"fill:none;stroke:#ff7f0e;stroke-linecap:square;stroke-width:1.5;\"/>\r\n    </g>\r\n    <g id=\"line2d_23\"/>\r\n    <g id=\"text_17\">\r\n     <!-- ValeurQ2 -->\r\n     <g transform=\"translate(318.475 38.476562)scale(0.1 -0.1)\">\r\n      <use xlink:href=\"#DejaVuSans-86\"/>\r\n      <use x=\"60.658203\" xlink:href=\"#DejaVuSans-97\"/>\r\n      <use x=\"121.9375\" xlink:href=\"#DejaVuSans-108\"/>\r\n      <use x=\"149.720703\" xlink:href=\"#DejaVuSans-101\"/>\r\n      <use x=\"211.244141\" xlink:href=\"#DejaVuSans-117\"/>\r\n      <use x=\"274.623047\" xlink:href=\"#DejaVuSans-114\"/>\r\n      <use x=\"315.736328\" xlink:href=\"#DejaVuSans-81\"/>\r\n      <use x=\"394.447266\" xlink:href=\"#DejaVuSans-50\"/>\r\n     </g>\r\n    </g>\r\n    <g id=\"line2d_24\">\r\n     <path d=\"M 290.475 49.654687 \r\nL 310.475 49.654687 \r\n\" style=\"fill:none;stroke:#2ca02c;stroke-linecap:square;stroke-width:1.5;\"/>\r\n    </g>\r\n    <g id=\"line2d_25\"/>\r\n    <g id=\"text_18\">\r\n     <!-- ValeurQ3 -->\r\n     <g transform=\"translate(318.475 53.154687)scale(0.1 -0.1)\">\r\n      <use xlink:href=\"#DejaVuSans-86\"/>\r\n      <use x=\"60.658203\" xlink:href=\"#DejaVuSans-97\"/>\r\n      <use x=\"121.9375\" xlink:href=\"#DejaVuSans-108\"/>\r\n      <use x=\"149.720703\" xlink:href=\"#DejaVuSans-101\"/>\r\n      <use x=\"211.244141\" xlink:href=\"#DejaVuSans-117\"/>\r\n      <use x=\"274.623047\" xlink:href=\"#DejaVuSans-114\"/>\r\n      <use x=\"315.736328\" xlink:href=\"#DejaVuSans-81\"/>\r\n      <use x=\"394.447266\" xlink:href=\"#DejaVuSans-51\"/>\r\n     </g>\r\n    </g>\r\n    <g id=\"line2d_26\">\r\n     <path d=\"M 290.475 64.332812 \r\nL 310.475 64.332812 \r\n\" style=\"fill:none;stroke:#d62728;stroke-linecap:square;stroke-width:1.5;\"/>\r\n    </g>\r\n    <g id=\"line2d_27\"/>\r\n    <g id=\"text_19\">\r\n     <!-- ValeurQ4 -->\r\n     <g transform=\"translate(318.475 67.832812)scale(0.1 -0.1)\">\r\n      <use xlink:href=\"#DejaVuSans-86\"/>\r\n      <use x=\"60.658203\" xlink:href=\"#DejaVuSans-97\"/>\r\n      <use x=\"121.9375\" xlink:href=\"#DejaVuSans-108\"/>\r\n      <use x=\"149.720703\" xlink:href=\"#DejaVuSans-101\"/>\r\n      <use x=\"211.244141\" xlink:href=\"#DejaVuSans-117\"/>\r\n      <use x=\"274.623047\" xlink:href=\"#DejaVuSans-114\"/>\r\n      <use x=\"315.736328\" xlink:href=\"#DejaVuSans-81\"/>\r\n      <use x=\"394.447266\" xlink:href=\"#DejaVuSans-52\"/>\r\n     </g>\r\n    </g>\r\n   </g>\r\n  </g>\r\n </g>\r\n <defs>\r\n  <clipPath id=\"p29e2adccac\">\r\n   <rect height=\"217.44\" width=\"334.8\" x=\"38.482813\" y=\"7.2\"/>\r\n  </clipPath>\r\n </defs>\r\n</svg>\r\n",
      "image/png": "[encoded data removed]"
     },
     "metadata": {
      "needs_background": "light"
     }
    }
   ],
   "source": [
    "#nous réalisons un graphique\n",
    "dataTrim.plot()"
   ]
  },
  {
   "cell_type": "markdown",
   "metadata": {
    "pycharm": {
     "name": "#%% md\n"
    }
   },
   "source": [
    "Sur le graphique nous ne constatons pas de composantes saisonnières.\n",
    "Nous ponvons donc commencer l'estimation des modèles."
   ]
  },
  {
   "source": [
    "import pandas as pd\n",
    "import matplotlib.pyplot  as plt\n",
    "import Traitement as tr\n",
    "from statsmodels.tsa.ar_model import AutoReg\n",
    "from statsmodels.tsa.arima_model import ARMA\n",
    "from statsmodels.tsa.arima_model import ARIMA\n",
    "\n",
    "from sklearn.metrics import mean_squared_error\n",
    "from math import sqrt\n",
    "\n",
    "#Nous récupérons les données pour la france\n",
    "data = pd.read_csv('./data/data.csv', sep=';')\n",
    "df_fra = data[data['LOCATION'] == \"FRA\"]\n",
    "gpy, gpp, ind = tr.traitementParPays(df_fra, 'Q')\n",
    "#Nous récupérons les valeurs des moyennes mobiles\n",
    "data = pd.DataFrame(tr.mobilMoy(gpp,4)[0], columns=['id','date','valeur'])\n",
    "data[\"valeur\"].plot()\n",
    "plt.show()"
   ],
   "cell_type": "code",
   "metadata": {},
   "execution_count": 19,
   "outputs": [
    {
     "output_type": "display_data",
     "data": {
      "text/plain": "<Figure size 432x288 with 1 Axes>",
      "image/svg+xml": "<?xml version=\"1.0\" encoding=\"utf-8\" standalone=\"no\"?>\r\n<!DOCTYPE svg PUBLIC \"-//W3C//DTD SVG 1.1//EN\"\r\n  \"http://www.w3.org/Graphics/SVG/1.1/DTD/svg11.dtd\">\r\n<!-- Created with matplotlib (https://matplotlib.org/) -->\r\n<svg height=\"248.518125pt\" version=\"1.1\" viewBox=\"0 0 370.942187 248.518125\" width=\"370.942187pt\" xmlns=\"http://www.w3.org/2000/svg\" xmlns:xlink=\"http://www.w3.org/1999/xlink\">\r\n <metadata>\r\n  <rdf:RDF xmlns:cc=\"http://creativecommons.org/ns#\" xmlns:dc=\"http://purl.org/dc/elements/1.1/\" xmlns:rdf=\"http://www.w3.org/1999/02/22-rdf-syntax-ns#\">\r\n   <cc:Work>\r\n    <dc:type rdf:resource=\"http://purl.org/dc/dcmitype/StillImage\"/>\r\n    <dc:date>2020-12-03T12:32:11.367099</dc:date>\r\n    <dc:format>image/svg+xml</dc:format>\r\n    <dc:creator>\r\n     <cc:Agent>\r\n      <dc:title>Matplotlib v3.3.2, https://matplotlib.org/</dc:title>\r\n     </cc:Agent>\r\n    </dc:creator>\r\n   </cc:Work>\r\n  </rdf:RDF>\r\n </metadata>\r\n <defs>\r\n  <style type=\"text/css\">*{stroke-linecap:butt;stroke-linejoin:round;}</style>\r\n </defs>\r\n <g id=\"figure_1\">\r\n  <g id=\"patch_1\">\r\n   <path d=\"M 0 248.518125 \r\nL 370.942187 248.518125 \r\nL 370.942187 0 \r\nL 0 0 \r\nz\r\n\" style=\"fill:none;\"/>\r\n  </g>\r\n  <g id=\"axes_1\">\r\n   <g id=\"patch_2\">\r\n    <path d=\"M 28.942188 224.64 \r\nL 363.742188 224.64 \r\nL 363.742188 7.2 \r\nL 28.942188 7.2 \r\nz\r\n\" style=\"fill:#ffffff;\"/>\r\n   </g>\r\n   <g id=\"matplotlib.axis_1\">\r\n    <g id=\"xtick_1\">\r\n     <g id=\"line2d_1\">\r\n      <defs>\r\n       <path d=\"M 0 0 \r\nL 0 3.5 \r\n\" id=\"m8b8d1c2608\" style=\"stroke:#000000;stroke-width:0.8;\"/>\r\n      </defs>\r\n      <g>\r\n       <use style=\"stroke:#000000;stroke-width:0.8;\" x=\"44.160369\" xlink:href=\"#m8b8d1c2608\" y=\"224.64\"/>\r\n      </g>\r\n     </g>\r\n     <g id=\"text_1\">\r\n      <!-- 0 -->\r\n      <g transform=\"translate(40.979119 239.238437)scale(0.1 -0.1)\">\r\n       <defs>\r\n        <path d=\"M 31.78125 66.40625 \r\nQ 24.171875 66.40625 20.328125 58.90625 \r\nQ 16.5 51.421875 16.5 36.375 \r\nQ 16.5 21.390625 20.328125 13.890625 \r\nQ 24.171875 6.390625 31.78125 6.390625 \r\nQ 39.453125 6.390625 43.28125 13.890625 \r\nQ 47.125 21.390625 47.125 36.375 \r\nQ 47.125 51.421875 43.28125 58.90625 \r\nQ 39.453125 66.40625 31.78125 66.40625 \r\nz\r\nM 31.78125 74.21875 \r\nQ 44.046875 74.21875 50.515625 64.515625 \r\nQ 56.984375 54.828125 56.984375 36.375 \r\nQ 56.984375 17.96875 50.515625 8.265625 \r\nQ 44.046875 -1.421875 31.78125 -1.421875 \r\nQ 19.53125 -1.421875 13.0625 8.265625 \r\nQ 6.59375 17.96875 6.59375 36.375 \r\nQ 6.59375 54.828125 13.0625 64.515625 \r\nQ 19.53125 74.21875 31.78125 74.21875 \r\nz\r\n\" id=\"DejaVuSans-48\"/>\r\n       </defs>\r\n       <use xlink:href=\"#DejaVuSans-48\"/>\r\n      </g>\r\n     </g>\r\n    </g>\r\n    <g id=\"xtick_2\">\r\n     <g id=\"line2d_2\">\r\n      <g>\r\n       <use style=\"stroke:#000000;stroke-width:0.8;\" x=\"108.644191\" xlink:href=\"#m8b8d1c2608\" y=\"224.64\"/>\r\n      </g>\r\n     </g>\r\n     <g id=\"text_2\">\r\n      <!-- 50 -->\r\n      <g transform=\"translate(102.281691 239.238437)scale(0.1 -0.1)\">\r\n       <defs>\r\n        <path d=\"M 10.796875 72.90625 \r\nL 49.515625 72.90625 \r\nL 49.515625 64.59375 \r\nL 19.828125 64.59375 \r\nL 19.828125 46.734375 \r\nQ 21.96875 47.46875 24.109375 47.828125 \r\nQ 26.265625 48.1875 28.421875 48.1875 \r\nQ 40.625 48.1875 47.75 41.5 \r\nQ 54.890625 34.8125 54.890625 23.390625 \r\nQ 54.890625 11.625 47.5625 5.09375 \r\nQ 40.234375 -1.421875 26.90625 -1.421875 \r\nQ 22.3125 -1.421875 17.546875 -0.640625 \r\nQ 12.796875 0.140625 7.71875 1.703125 \r\nL 7.71875 11.625 \r\nQ 12.109375 9.234375 16.796875 8.0625 \r\nQ 21.484375 6.890625 26.703125 6.890625 \r\nQ 35.15625 6.890625 40.078125 11.328125 \r\nQ 45.015625 15.765625 45.015625 23.390625 \r\nQ 45.015625 31 40.078125 35.4375 \r\nQ 35.15625 39.890625 26.703125 39.890625 \r\nQ 22.75 39.890625 18.8125 39.015625 \r\nQ 14.890625 38.140625 10.796875 36.28125 \r\nz\r\n\" id=\"DejaVuSans-53\"/>\r\n       </defs>\r\n       <use xlink:href=\"#DejaVuSans-53\"/>\r\n       <use x=\"63.623047\" xlink:href=\"#DejaVuSans-48\"/>\r\n      </g>\r\n     </g>\r\n    </g>\r\n    <g id=\"xtick_3\">\r\n     <g id=\"line2d_3\">\r\n      <g>\r\n       <use style=\"stroke:#000000;stroke-width:0.8;\" x=\"173.128012\" xlink:href=\"#m8b8d1c2608\" y=\"224.64\"/>\r\n      </g>\r\n     </g>\r\n     <g id=\"text_3\">\r\n      <!-- 100 -->\r\n      <g transform=\"translate(163.584262 239.238437)scale(0.1 -0.1)\">\r\n       <defs>\r\n        <path d=\"M 12.40625 8.296875 \r\nL 28.515625 8.296875 \r\nL 28.515625 63.921875 \r\nL 10.984375 60.40625 \r\nL 10.984375 69.390625 \r\nL 28.421875 72.90625 \r\nL 38.28125 72.90625 \r\nL 38.28125 8.296875 \r\nL 54.390625 8.296875 \r\nL 54.390625 0 \r\nL 12.40625 0 \r\nz\r\n\" id=\"DejaVuSans-49\"/>\r\n       </defs>\r\n       <use xlink:href=\"#DejaVuSans-49\"/>\r\n       <use x=\"63.623047\" xlink:href=\"#DejaVuSans-48\"/>\r\n       <use x=\"127.246094\" xlink:href=\"#DejaVuSans-48\"/>\r\n      </g>\r\n     </g>\r\n    </g>\r\n    <g id=\"xtick_4\">\r\n     <g id=\"line2d_4\">\r\n      <g>\r\n       <use style=\"stroke:#000000;stroke-width:0.8;\" x=\"237.611833\" xlink:href=\"#m8b8d1c2608\" y=\"224.64\"/>\r\n      </g>\r\n     </g>\r\n     <g id=\"text_4\">\r\n      <!-- 150 -->\r\n      <g transform=\"translate(228.068083 239.238437)scale(0.1 -0.1)\">\r\n       <use xlink:href=\"#DejaVuSans-49\"/>\r\n       <use x=\"63.623047\" xlink:href=\"#DejaVuSans-53\"/>\r\n       <use x=\"127.246094\" xlink:href=\"#DejaVuSans-48\"/>\r\n      </g>\r\n     </g>\r\n    </g>\r\n    <g id=\"xtick_5\">\r\n     <g id=\"line2d_5\">\r\n      <g>\r\n       <use style=\"stroke:#000000;stroke-width:0.8;\" x=\"302.095654\" xlink:href=\"#m8b8d1c2608\" y=\"224.64\"/>\r\n      </g>\r\n     </g>\r\n     <g id=\"text_5\">\r\n      <!-- 200 -->\r\n      <g transform=\"translate(292.551904 239.238437)scale(0.1 -0.1)\">\r\n       <defs>\r\n        <path d=\"M 19.1875 8.296875 \r\nL 53.609375 8.296875 \r\nL 53.609375 0 \r\nL 7.328125 0 \r\nL 7.328125 8.296875 \r\nQ 12.9375 14.109375 22.625 23.890625 \r\nQ 32.328125 33.6875 34.8125 36.53125 \r\nQ 39.546875 41.84375 41.421875 45.53125 \r\nQ 43.3125 49.21875 43.3125 52.78125 \r\nQ 43.3125 58.59375 39.234375 62.25 \r\nQ 35.15625 65.921875 28.609375 65.921875 \r\nQ 23.96875 65.921875 18.8125 64.3125 \r\nQ 13.671875 62.703125 7.8125 59.421875 \r\nL 7.8125 69.390625 \r\nQ 13.765625 71.78125 18.9375 73 \r\nQ 24.125 74.21875 28.421875 74.21875 \r\nQ 39.75 74.21875 46.484375 68.546875 \r\nQ 53.21875 62.890625 53.21875 53.421875 \r\nQ 53.21875 48.921875 51.53125 44.890625 \r\nQ 49.859375 40.875 45.40625 35.40625 \r\nQ 44.1875 33.984375 37.640625 27.21875 \r\nQ 31.109375 20.453125 19.1875 8.296875 \r\nz\r\n\" id=\"DejaVuSans-50\"/>\r\n       </defs>\r\n       <use xlink:href=\"#DejaVuSans-50\"/>\r\n       <use x=\"63.623047\" xlink:href=\"#DejaVuSans-48\"/>\r\n       <use x=\"127.246094\" xlink:href=\"#DejaVuSans-48\"/>\r\n      </g>\r\n     </g>\r\n    </g>\r\n   </g>\r\n   <g id=\"matplotlib.axis_2\">\r\n    <g id=\"ytick_1\">\r\n     <g id=\"line2d_6\">\r\n      <defs>\r\n       <path d=\"M 0 0 \r\nL -3.5 0 \r\n\" id=\"m6871ae4af7\" style=\"stroke:#000000;stroke-width:0.8;\"/>\r\n      </defs>\r\n      <g>\r\n       <use style=\"stroke:#000000;stroke-width:0.8;\" x=\"28.942188\" xlink:href=\"#m6871ae4af7\" y=\"208.697453\"/>\r\n      </g>\r\n     </g>\r\n     <g id=\"text_6\">\r\n      <!-- −3 -->\r\n      <g transform=\"translate(7.2 212.496671)scale(0.1 -0.1)\">\r\n       <defs>\r\n        <path d=\"M 10.59375 35.5 \r\nL 73.1875 35.5 \r\nL 73.1875 27.203125 \r\nL 10.59375 27.203125 \r\nz\r\n\" id=\"DejaVuSans-8722\"/>\r\n        <path d=\"M 40.578125 39.3125 \r\nQ 47.65625 37.796875 51.625 33 \r\nQ 55.609375 28.21875 55.609375 21.1875 \r\nQ 55.609375 10.40625 48.1875 4.484375 \r\nQ 40.765625 -1.421875 27.09375 -1.421875 \r\nQ 22.515625 -1.421875 17.65625 -0.515625 \r\nQ 12.796875 0.390625 7.625 2.203125 \r\nL 7.625 11.71875 \r\nQ 11.71875 9.328125 16.59375 8.109375 \r\nQ 21.484375 6.890625 26.8125 6.890625 \r\nQ 36.078125 6.890625 40.9375 10.546875 \r\nQ 45.796875 14.203125 45.796875 21.1875 \r\nQ 45.796875 27.640625 41.28125 31.265625 \r\nQ 36.765625 34.90625 28.71875 34.90625 \r\nL 20.21875 34.90625 \r\nL 20.21875 43.015625 \r\nL 29.109375 43.015625 \r\nQ 36.375 43.015625 40.234375 45.921875 \r\nQ 44.09375 48.828125 44.09375 54.296875 \r\nQ 44.09375 59.90625 40.109375 62.90625 \r\nQ 36.140625 65.921875 28.71875 65.921875 \r\nQ 24.65625 65.921875 20.015625 65.03125 \r\nQ 15.375 64.15625 9.8125 62.3125 \r\nL 9.8125 71.09375 \r\nQ 15.4375 72.65625 20.34375 73.4375 \r\nQ 25.25 74.21875 29.59375 74.21875 \r\nQ 40.828125 74.21875 47.359375 69.109375 \r\nQ 53.90625 64.015625 53.90625 55.328125 \r\nQ 53.90625 49.265625 50.4375 45.09375 \r\nQ 46.96875 40.921875 40.578125 39.3125 \r\nz\r\n\" id=\"DejaVuSans-51\"/>\r\n       </defs>\r\n       <use xlink:href=\"#DejaVuSans-8722\"/>\r\n       <use x=\"83.789062\" xlink:href=\"#DejaVuSans-51\"/>\r\n      </g>\r\n     </g>\r\n    </g>\r\n    <g id=\"ytick_2\">\r\n     <g id=\"line2d_7\">\r\n      <g>\r\n       <use style=\"stroke:#000000;stroke-width:0.8;\" x=\"28.942188\" xlink:href=\"#m6871ae4af7\" y=\"173.886456\"/>\r\n      </g>\r\n     </g>\r\n     <g id=\"text_7\">\r\n      <!-- −2 -->\r\n      <g transform=\"translate(7.2 177.685674)scale(0.1 -0.1)\">\r\n       <use xlink:href=\"#DejaVuSans-8722\"/>\r\n       <use x=\"83.789062\" xlink:href=\"#DejaVuSans-50\"/>\r\n      </g>\r\n     </g>\r\n    </g>\r\n    <g id=\"ytick_3\">\r\n     <g id=\"line2d_8\">\r\n      <g>\r\n       <use style=\"stroke:#000000;stroke-width:0.8;\" x=\"28.942188\" xlink:href=\"#m6871ae4af7\" y=\"139.075458\"/>\r\n      </g>\r\n     </g>\r\n     <g id=\"text_8\">\r\n      <!-- −1 -->\r\n      <g transform=\"translate(7.2 142.874677)scale(0.1 -0.1)\">\r\n       <use xlink:href=\"#DejaVuSans-8722\"/>\r\n       <use x=\"83.789062\" xlink:href=\"#DejaVuSans-49\"/>\r\n      </g>\r\n     </g>\r\n    </g>\r\n    <g id=\"ytick_4\">\r\n     <g id=\"line2d_9\">\r\n      <g>\r\n       <use style=\"stroke:#000000;stroke-width:0.8;\" x=\"28.942188\" xlink:href=\"#m6871ae4af7\" y=\"104.264461\"/>\r\n      </g>\r\n     </g>\r\n     <g id=\"text_9\">\r\n      <!-- 0 -->\r\n      <g transform=\"translate(15.579688 108.06368)scale(0.1 -0.1)\">\r\n       <use xlink:href=\"#DejaVuSans-48\"/>\r\n      </g>\r\n     </g>\r\n    </g>\r\n    <g id=\"ytick_5\">\r\n     <g id=\"line2d_10\">\r\n      <g>\r\n       <use style=\"stroke:#000000;stroke-width:0.8;\" x=\"28.942188\" xlink:href=\"#m6871ae4af7\" y=\"69.453464\"/>\r\n      </g>\r\n     </g>\r\n     <g id=\"text_10\">\r\n      <!-- 1 -->\r\n      <g transform=\"translate(15.579688 73.252683)scale(0.1 -0.1)\">\r\n       <use xlink:href=\"#DejaVuSans-49\"/>\r\n      </g>\r\n     </g>\r\n    </g>\r\n    <g id=\"ytick_6\">\r\n     <g id=\"line2d_11\">\r\n      <g>\r\n       <use style=\"stroke:#000000;stroke-width:0.8;\" x=\"28.942188\" xlink:href=\"#m6871ae4af7\" y=\"34.642467\"/>\r\n      </g>\r\n     </g>\r\n     <g id=\"text_11\">\r\n      <!-- 2 -->\r\n      <g transform=\"translate(15.579688 38.441686)scale(0.1 -0.1)\">\r\n       <use xlink:href=\"#DejaVuSans-50\"/>\r\n      </g>\r\n     </g>\r\n    </g>\r\n   </g>\r\n   <g id=\"line2d_12\">\r\n    <path clip-path=\"url(#pe7acb40b61)\" d=\"M 44.160369 64.839511 \r\nL 45.450046 55.839664 \r\nL 46.739722 49.932839 \r\nL 48.029399 46.86203 \r\nL 49.319075 45.960169 \r\nL 50.608751 46.556657 \r\nL 51.898428 49.165995 \r\nL 53.188104 66.194246 \r\nL 54.477781 68.875935 \r\nL 55.767457 48.386137 \r\nL 57.057134 44.38937 \r\nL 58.34681 33.041448 \r\nL 59.636486 32.859348 \r\nL 60.926163 57.136114 \r\nL 62.215839 63.576565 \r\nL 63.505516 68.224518 \r\nL 64.795192 68.796439 \r\nL 66.084869 61.190501 \r\nL 67.374545 58.113035 \r\nL 68.664221 53.027643 \r\nL 69.953898 54.312878 \r\nL 71.243574 59.883366 \r\nL 72.533251 64.891194 \r\nL 73.822927 65.042769 \r\nL 75.112604 63.330549 \r\nL 76.40228 65.950858 \r\nL 77.691956 64.886749 \r\nL 78.981633 57.816811 \r\nL 80.271309 90.363156 \r\nL 81.560986 82.785153 \r\nL 82.850662 37.239681 \r\nL 84.140339 48.884006 \r\nL 85.430015 17.083636 \r\nL 86.719691 18.797494 \r\nL 88.009368 65.192711 \r\nL 89.299044 58.694843 \r\nL 90.588721 56.359762 \r\nL 91.878397 59.663082 \r\nL 93.168073 54.390133 \r\nL 94.45775 58.751763 \r\nL 95.747426 64.070635 \r\nL 97.037103 60.531613 \r\nL 98.326779 62.533429 \r\nL 99.616456 60.499998 \r\nL 100.906132 61.618721 \r\nL 102.195808 71.10668 \r\nL 103.485485 70.842055 \r\nL 106.064838 58.376966 \r\nL 107.354514 55.474208 \r\nL 108.644191 57.262764 \r\nL 109.933867 63.419578 \r\nL 111.223543 70.437191 \r\nL 112.51322 72.591703 \r\nL 113.802896 84.35737 \r\nL 115.092573 102.623107 \r\nL 116.382249 109.833699 \r\nL 117.671926 113.332166 \r\nL 118.961602 103.30477 \r\nL 120.251278 82.513244 \r\nL 121.540955 70.080743 \r\nL 122.830631 65.620261 \r\nL 124.120308 65.70264 \r\nL 125.409984 67.733756 \r\nL 126.699661 72.606187 \r\nL 127.989337 75.965176 \r\nL 129.279013 80.456057 \r\nL 130.56869 83.64952 \r\nL 131.858366 77.072365 \r\nL 133.148043 74.107251 \r\nL 135.727396 73.366509 \r\nL 137.017072 78.74354 \r\nL 139.596425 73.980591 \r\nL 140.886101 75.740467 \r\nL 142.175778 81.112651 \r\nL 143.465454 92.669625 \r\nL 144.75513 99.098773 \r\nL 146.044807 103.496079 \r\nL 147.334483 101.817886 \r\nL 148.62416 93.789537 \r\nL 149.913836 87.764978 \r\nL 151.203513 83.249599 \r\nL 152.493189 81.08624 \r\nL 155.072542 86.044805 \r\nL 156.362218 87.405181 \r\nL 157.651895 91.754574 \r\nL 158.941571 94.041336 \r\nL 160.231248 94.389444 \r\nL 161.520924 93.878845 \r\nL 162.8106 91.45344 \r\nL 164.100277 88.778016 \r\nL 165.389953 88.032792 \r\nL 166.67963 91.06999 \r\nL 167.969306 91.742131 \r\nL 169.258983 89.382988 \r\nL 170.548659 88.529722 \r\nL 171.838335 87.271662 \r\nL 173.128012 84.369555 \r\nL 174.417688 83.772822 \r\nL 175.707365 85.157991 \r\nL 176.997041 86.178442 \r\nL 178.286718 86.872597 \r\nL 179.576394 84.967473 \r\nL 180.86607 77.252677 \r\nL 182.155747 66.942517 \r\nL 183.445423 64.518243 \r\nL 184.7351 64.241162 \r\nL 186.024776 64.855413 \r\nL 187.314453 67.18229 \r\nL 188.604129 66.316218 \r\nL 189.893805 66.603254 \r\nL 191.183482 65.744406 \r\nL 192.473158 67.315061 \r\nL 195.052511 77.010687 \r\nL 197.631864 92.384814 \r\nL 198.92154 95.563368 \r\nL 200.211217 96.139867 \r\nL 201.500893 95.912065 \r\nL 202.79057 90.532722 \r\nL 204.080246 87.727479 \r\nL 205.369922 90.801212 \r\nL 206.659599 94.806276 \r\nL 207.949275 104.748702 \r\nL 209.238952 111.274915 \r\nL 210.528628 110.114986 \r\nL 211.818305 107.756971 \r\nL 213.107981 99.918482 \r\nL 214.397657 89.603307 \r\nL 215.687334 83.410403 \r\nL 216.97701 78.638856 \r\nL 218.266687 76.58995 \r\nL 219.556363 80.254523 \r\nL 222.135716 89.801348 \r\nL 223.425392 92.801577 \r\nL 224.715069 93.507595 \r\nL 226.004745 92.491633 \r\nL 227.294422 90.889937 \r\nL 228.584098 92.02676 \r\nL 229.873775 89.133934 \r\nL 231.163451 84.602245 \r\nL 232.453127 79.568836 \r\nL 233.742804 73.005453 \r\nL 235.03248 71.764938 \r\nL 236.322157 72.778966 \r\nL 237.611833 74.619927 \r\nL 238.90151 77.681235 \r\nL 240.191186 79.22582 \r\nL 241.480862 77.465814 \r\nL 244.060215 68.070831 \r\nL 245.349892 65.789344 \r\nL 246.639568 67.718415 \r\nL 247.929245 72.568843 \r\nL 249.218921 76.715504 \r\nL 251.798274 86.964174 \r\nL 254.377627 96.416421 \r\nL 255.667303 95.80608 \r\nL 256.956979 94.044624 \r\nL 258.246656 93.70782 \r\nL 259.536332 94.40544 \r\nL 260.826009 98.366352 \r\nL 262.115685 100.08278 \r\nL 263.405362 95.47806 \r\nL 264.695038 88.925272 \r\nL 265.984714 81.784774 \r\nL 267.274391 79.720781 \r\nL 268.564067 81.581566 \r\nL 269.853744 84.581796 \r\nL 271.14342 89.505933 \r\nL 272.433097 90.566753 \r\nL 273.722773 89.476475 \r\nL 275.012449 87.158889 \r\nL 276.302126 81.342822 \r\nL 277.591802 79.948126 \r\nL 278.881479 81.904342 \r\nL 280.171155 81.852318 \r\nL 281.460832 83.045628 \r\nL 282.750508 82.60994 \r\nL 284.040184 83.728015 \r\nL 285.329861 87.488199 \r\nL 286.619537 94.146462 \r\nL 287.909214 102.390881 \r\nL 289.19889 112.263098 \r\nL 290.488567 128.511034 \r\nL 291.778243 136.098047 \r\nL 293.067919 132.46515 \r\nL 294.357596 121.184294 \r\nL 295.647272 103.042019 \r\nL 296.936949 91.45344 \r\nL 298.226625 86.906752 \r\nL 299.516302 85.171853 \r\nL 300.805978 82.447839 \r\nL 302.095654 81.650503 \r\nL 304.675007 88.319034 \r\nL 305.964684 94.362438 \r\nL 307.25436 99.399526 \r\nL 308.544036 100.823936 \r\nL 309.833713 102.559513 \r\nL 311.123389 104.491585 \r\nL 313.702742 98.333501 \r\nL 314.992419 96.666512 \r\nL 316.282095 93.505059 \r\nL 317.571771 95.421545 \r\nL 318.861448 96.230861 \r\nL 320.151124 96.007761 \r\nL 321.440801 95.910228 \r\nL 322.730477 94.706406 \r\nL 324.020154 95.528364 \r\nL 325.30983 95.940249 \r\nL 326.599506 95.234703 \r\nL 327.889183 95.381389 \r\nL 329.178859 96.803307 \r\nL 330.468536 95.262235 \r\nL 331.758212 92.730019 \r\nL 333.047889 88.067618 \r\nL 334.337565 81.856694 \r\nL 335.627241 78.65747 \r\nL 336.916918 80.42683 \r\nL 338.206594 85.616197 \r\nL 339.496271 89.316056 \r\nL 340.785947 91.602434 \r\nL 342.075624 90.69984 \r\nL 343.3653 88.711336 \r\nL 344.654976 89.409203 \r\nL 345.944653 94.041786 \r\nL 347.234329 125.662148 \r\nL 348.524006 214.756364 \r\nL 348.524006 214.756364 \r\n\" style=\"fill:none;stroke:#1f77b4;stroke-linecap:square;stroke-width:1.5;\"/>\r\n   </g>\r\n   <g id=\"patch_3\">\r\n    <path d=\"M 28.942188 224.64 \r\nL 28.942188 7.2 \r\n\" style=\"fill:none;stroke:#000000;stroke-linecap:square;stroke-linejoin:miter;stroke-width:0.8;\"/>\r\n   </g>\r\n   <g id=\"patch_4\">\r\n    <path d=\"M 363.742188 224.64 \r\nL 363.742188 7.2 \r\n\" style=\"fill:none;stroke:#000000;stroke-linecap:square;stroke-linejoin:miter;stroke-width:0.8;\"/>\r\n   </g>\r\n   <g id=\"patch_5\">\r\n    <path d=\"M 28.942188 224.64 \r\nL 363.742188 224.64 \r\n\" style=\"fill:none;stroke:#000000;stroke-linecap:square;stroke-linejoin:miter;stroke-width:0.8;\"/>\r\n   </g>\r\n   <g id=\"patch_6\">\r\n    <path d=\"M 28.942188 7.2 \r\nL 363.742188 7.2 \r\n\" style=\"fill:none;stroke:#000000;stroke-linecap:square;stroke-linejoin:miter;stroke-width:0.8;\"/>\r\n   </g>\r\n  </g>\r\n </g>\r\n <defs>\r\n  <clipPath id=\"pe7acb40b61\">\r\n   <rect height=\"217.44\" width=\"334.8\" x=\"28.942188\" y=\"7.2\"/>\r\n  </clipPath>\r\n </defs>\r\n</svg>\r\n",
      "image/png": "[encoded data removed]"
     },
     "metadata": {
      "needs_background": "light"
     }
    }
   ]
  },
  {
   "cell_type": "code",
   "execution_count": 21,
   "metadata": {},
   "outputs": [],
   "source": [
    "#Cette fonction réalise le test pour savoir si le modèle ARIMA est bon ou non, et nous retourne le modèle\n",
    "def arima(data,p,d,q):\n",
    "    X = data['valeur']\n",
    "    size = int(len(X) * 0.66)\n",
    "    train, test = X[0:size], X[size:len(X)]\n",
    "    train = list(train)\n",
    "    test = list(test)\n",
    "    history = [x for x in train]\n",
    "    predictions = list()\n",
    "\n",
    "    for t in range(len(test)):\n",
    "        model = ARIMA(history, order=(p,d,q))\n",
    "        model_fit = model.fit(disp=0)\n",
    "        output = model_fit.forecast()\n",
    "        yhat = output[0]\n",
    "        predictions.append(yhat)\n",
    "        obs = test[t]\n",
    "        history.append(obs)\n",
    "        # print('predicted=%f, expected=%f' % (yhat, obs))\n",
    "    error = sqrt(mean_squared_error(test, predictions))\n",
    "    print('Test RMSE: %.3f' % error)\n",
    "    # plot\n",
    "    plt.plot(test)\n",
    "    plt.plot(predictions, color='red')\n",
    "    plt.show()\n",
    "    # return error\n",
    "    return ARIMA(history, order=(p,d,q))"
   ]
  },
  {
   "cell_type": "code",
   "execution_count": 22,
   "metadata": {},
   "outputs": [],
   "source": [
    "finF = 250\n",
    "date = list(data['date'])\n",
    "for i in range(237,finF+1):\n",
    "    var =  date[-1].split('-')[1]\n",
    "    if(var == 'Q1'):\n",
    "        var = date[-1].split('-')[0] + '-Q2'\n",
    "    elif(var == 'Q2'):\n",
    "        var = date[-1].split('-')[0] + '-Q3'\n",
    "    elif(var == 'Q3'):\n",
    "        var = date[-1].split('-')[0] + '-Q4'\n",
    "    elif(var == 'Q4'):\n",
    "        var = str(int(date[-1].split('-')[0])+1) + '-Q1'\n",
    "    date.append(var)"
   ]
  },
  {
   "cell_type": "code",
   "execution_count": 23,
   "metadata": {},
   "outputs": [
    {
     "output_type": "stream",
     "name": "stdout",
     "text": [
      "Test RMSE: 0.262\n"
     ]
    },
    {
     "output_type": "display_data",
     "data": {
      "text/plain": "<Figure size 432x288 with 1 Axes>",
      "image/svg+xml": "<?xml version=\"1.0\" encoding=\"utf-8\" standalone=\"no\"?>\r\n<!DOCTYPE svg PUBLIC \"-//W3C//DTD SVG 1.1//EN\"\r\n  \"http://www.w3.org/Graphics/SVG/1.1/DTD/svg11.dtd\">\r\n<!-- Created with matplotlib (https://matplotlib.org/) -->\r\n<svg height=\"248.518125pt\" version=\"1.1\" viewBox=\"0 0 370.942187 248.518125\" width=\"370.942187pt\" xmlns=\"http://www.w3.org/2000/svg\" xmlns:xlink=\"http://www.w3.org/1999/xlink\">\r\n <metadata>\r\n  <rdf:RDF xmlns:cc=\"http://creativecommons.org/ns#\" xmlns:dc=\"http://purl.org/dc/elements/1.1/\" xmlns:rdf=\"http://www.w3.org/1999/02/22-rdf-syntax-ns#\">\r\n   <cc:Work>\r\n    <dc:type rdf:resource=\"http://purl.org/dc/dcmitype/StillImage\"/>\r\n    <dc:date>2020-12-03T12:35:19.012508</dc:date>\r\n    <dc:format>image/svg+xml</dc:format>\r\n    <dc:creator>\r\n     <cc:Agent>\r\n      <dc:title>Matplotlib v3.3.2, https://matplotlib.org/</dc:title>\r\n     </cc:Agent>\r\n    </dc:creator>\r\n   </cc:Work>\r\n  </rdf:RDF>\r\n </metadata>\r\n <defs>\r\n  <style type=\"text/css\">*{stroke-linecap:butt;stroke-linejoin:round;}</style>\r\n </defs>\r\n <g id=\"figure_1\">\r\n  <g id=\"patch_1\">\r\n   <path d=\"M 0 248.518125 \r\nL 370.942187 248.518125 \r\nL 370.942187 0 \r\nL 0 0 \r\nz\r\n\" style=\"fill:none;\"/>\r\n  </g>\r\n  <g id=\"axes_1\">\r\n   <g id=\"patch_2\">\r\n    <path d=\"M 28.942188 224.64 \r\nL 363.742188 224.64 \r\nL 363.742188 7.2 \r\nL 28.942188 7.2 \r\nz\r\n\" style=\"fill:#ffffff;\"/>\r\n   </g>\r\n   <g id=\"matplotlib.axis_1\">\r\n    <g id=\"xtick_1\">\r\n     <g id=\"line2d_1\">\r\n      <defs>\r\n       <path d=\"M 0 0 \r\nL 0 3.5 \r\n\" id=\"m965f89d434\" style=\"stroke:#000000;stroke-width:0.8;\"/>\r\n      </defs>\r\n      <g>\r\n       <use style=\"stroke:#000000;stroke-width:0.8;\" x=\"44.160369\" xlink:href=\"#m965f89d434\" y=\"224.64\"/>\r\n      </g>\r\n     </g>\r\n     <g id=\"text_1\">\r\n      <!-- 0 -->\r\n      <g transform=\"translate(40.979119 239.238437)scale(0.1 -0.1)\">\r\n       <defs>\r\n        <path d=\"M 31.78125 66.40625 \r\nQ 24.171875 66.40625 20.328125 58.90625 \r\nQ 16.5 51.421875 16.5 36.375 \r\nQ 16.5 21.390625 20.328125 13.890625 \r\nQ 24.171875 6.390625 31.78125 6.390625 \r\nQ 39.453125 6.390625 43.28125 13.890625 \r\nQ 47.125 21.390625 47.125 36.375 \r\nQ 47.125 51.421875 43.28125 58.90625 \r\nQ 39.453125 66.40625 31.78125 66.40625 \r\nz\r\nM 31.78125 74.21875 \r\nQ 44.046875 74.21875 50.515625 64.515625 \r\nQ 56.984375 54.828125 56.984375 36.375 \r\nQ 56.984375 17.96875 50.515625 8.265625 \r\nQ 44.046875 -1.421875 31.78125 -1.421875 \r\nQ 19.53125 -1.421875 13.0625 8.265625 \r\nQ 6.59375 17.96875 6.59375 36.375 \r\nQ 6.59375 54.828125 13.0625 64.515625 \r\nQ 19.53125 74.21875 31.78125 74.21875 \r\nz\r\n\" id=\"DejaVuSans-48\"/>\r\n       </defs>\r\n       <use xlink:href=\"#DejaVuSans-48\"/>\r\n      </g>\r\n     </g>\r\n    </g>\r\n    <g id=\"xtick_2\">\r\n     <g id=\"line2d_2\">\r\n      <g>\r\n       <use style=\"stroke:#000000;stroke-width:0.8;\" x=\"82.205824\" xlink:href=\"#m965f89d434\" y=\"224.64\"/>\r\n      </g>\r\n     </g>\r\n     <g id=\"text_2\">\r\n      <!-- 10 -->\r\n      <g transform=\"translate(75.843324 239.238437)scale(0.1 -0.1)\">\r\n       <defs>\r\n        <path d=\"M 12.40625 8.296875 \r\nL 28.515625 8.296875 \r\nL 28.515625 63.921875 \r\nL 10.984375 60.40625 \r\nL 10.984375 69.390625 \r\nL 28.421875 72.90625 \r\nL 38.28125 72.90625 \r\nL 38.28125 8.296875 \r\nL 54.390625 8.296875 \r\nL 54.390625 0 \r\nL 12.40625 0 \r\nz\r\n\" id=\"DejaVuSans-49\"/>\r\n       </defs>\r\n       <use xlink:href=\"#DejaVuSans-49\"/>\r\n       <use x=\"63.623047\" xlink:href=\"#DejaVuSans-48\"/>\r\n      </g>\r\n     </g>\r\n    </g>\r\n    <g id=\"xtick_3\">\r\n     <g id=\"line2d_3\">\r\n      <g>\r\n       <use style=\"stroke:#000000;stroke-width:0.8;\" x=\"120.251278\" xlink:href=\"#m965f89d434\" y=\"224.64\"/>\r\n      </g>\r\n     </g>\r\n     <g id=\"text_3\">\r\n      <!-- 20 -->\r\n      <g transform=\"translate(113.888778 239.238437)scale(0.1 -0.1)\">\r\n       <defs>\r\n        <path d=\"M 19.1875 8.296875 \r\nL 53.609375 8.296875 \r\nL 53.609375 0 \r\nL 7.328125 0 \r\nL 7.328125 8.296875 \r\nQ 12.9375 14.109375 22.625 23.890625 \r\nQ 32.328125 33.6875 34.8125 36.53125 \r\nQ 39.546875 41.84375 41.421875 45.53125 \r\nQ 43.3125 49.21875 43.3125 52.78125 \r\nQ 43.3125 58.59375 39.234375 62.25 \r\nQ 35.15625 65.921875 28.609375 65.921875 \r\nQ 23.96875 65.921875 18.8125 64.3125 \r\nQ 13.671875 62.703125 7.8125 59.421875 \r\nL 7.8125 69.390625 \r\nQ 13.765625 71.78125 18.9375 73 \r\nQ 24.125 74.21875 28.421875 74.21875 \r\nQ 39.75 74.21875 46.484375 68.546875 \r\nQ 53.21875 62.890625 53.21875 53.421875 \r\nQ 53.21875 48.921875 51.53125 44.890625 \r\nQ 49.859375 40.875 45.40625 35.40625 \r\nQ 44.1875 33.984375 37.640625 27.21875 \r\nQ 31.109375 20.453125 19.1875 8.296875 \r\nz\r\n\" id=\"DejaVuSans-50\"/>\r\n       </defs>\r\n       <use xlink:href=\"#DejaVuSans-50\"/>\r\n       <use x=\"63.623047\" xlink:href=\"#DejaVuSans-48\"/>\r\n      </g>\r\n     </g>\r\n    </g>\r\n    <g id=\"xtick_4\">\r\n     <g id=\"line2d_4\">\r\n      <g>\r\n       <use style=\"stroke:#000000;stroke-width:0.8;\" x=\"158.296733\" xlink:href=\"#m965f89d434\" y=\"224.64\"/>\r\n      </g>\r\n     </g>\r\n     <g id=\"text_4\">\r\n      <!-- 30 -->\r\n      <g transform=\"translate(151.934233 239.238437)scale(0.1 -0.1)\">\r\n       <defs>\r\n        <path d=\"M 40.578125 39.3125 \r\nQ 47.65625 37.796875 51.625 33 \r\nQ 55.609375 28.21875 55.609375 21.1875 \r\nQ 55.609375 10.40625 48.1875 4.484375 \r\nQ 40.765625 -1.421875 27.09375 -1.421875 \r\nQ 22.515625 -1.421875 17.65625 -0.515625 \r\nQ 12.796875 0.390625 7.625 2.203125 \r\nL 7.625 11.71875 \r\nQ 11.71875 9.328125 16.59375 8.109375 \r\nQ 21.484375 6.890625 26.8125 6.890625 \r\nQ 36.078125 6.890625 40.9375 10.546875 \r\nQ 45.796875 14.203125 45.796875 21.1875 \r\nQ 45.796875 27.640625 41.28125 31.265625 \r\nQ 36.765625 34.90625 28.71875 34.90625 \r\nL 20.21875 34.90625 \r\nL 20.21875 43.015625 \r\nL 29.109375 43.015625 \r\nQ 36.375 43.015625 40.234375 45.921875 \r\nQ 44.09375 48.828125 44.09375 54.296875 \r\nQ 44.09375 59.90625 40.109375 62.90625 \r\nQ 36.140625 65.921875 28.71875 65.921875 \r\nQ 24.65625 65.921875 20.015625 65.03125 \r\nQ 15.375 64.15625 9.8125 62.3125 \r\nL 9.8125 71.09375 \r\nQ 15.4375 72.65625 20.34375 73.4375 \r\nQ 25.25 74.21875 29.59375 74.21875 \r\nQ 40.828125 74.21875 47.359375 69.109375 \r\nQ 53.90625 64.015625 53.90625 55.328125 \r\nQ 53.90625 49.265625 50.4375 45.09375 \r\nQ 46.96875 40.921875 40.578125 39.3125 \r\nz\r\n\" id=\"DejaVuSans-51\"/>\r\n       </defs>\r\n       <use xlink:href=\"#DejaVuSans-51\"/>\r\n       <use x=\"63.623047\" xlink:href=\"#DejaVuSans-48\"/>\r\n      </g>\r\n     </g>\r\n    </g>\r\n    <g id=\"xtick_5\">\r\n     <g id=\"line2d_5\">\r\n      <g>\r\n       <use style=\"stroke:#000000;stroke-width:0.8;\" x=\"196.342188\" xlink:href=\"#m965f89d434\" y=\"224.64\"/>\r\n      </g>\r\n     </g>\r\n     <g id=\"text_5\">\r\n      <!-- 40 -->\r\n      <g transform=\"translate(189.979688 239.238437)scale(0.1 -0.1)\">\r\n       <defs>\r\n        <path d=\"M 37.796875 64.3125 \r\nL 12.890625 25.390625 \r\nL 37.796875 25.390625 \r\nz\r\nM 35.203125 72.90625 \r\nL 47.609375 72.90625 \r\nL 47.609375 25.390625 \r\nL 58.015625 25.390625 \r\nL 58.015625 17.1875 \r\nL 47.609375 17.1875 \r\nL 47.609375 0 \r\nL 37.796875 0 \r\nL 37.796875 17.1875 \r\nL 4.890625 17.1875 \r\nL 4.890625 26.703125 \r\nz\r\n\" id=\"DejaVuSans-52\"/>\r\n       </defs>\r\n       <use xlink:href=\"#DejaVuSans-52\"/>\r\n       <use x=\"63.623047\" xlink:href=\"#DejaVuSans-48\"/>\r\n      </g>\r\n     </g>\r\n    </g>\r\n    <g id=\"xtick_6\">\r\n     <g id=\"line2d_6\">\r\n      <g>\r\n       <use style=\"stroke:#000000;stroke-width:0.8;\" x=\"234.387642\" xlink:href=\"#m965f89d434\" y=\"224.64\"/>\r\n      </g>\r\n     </g>\r\n     <g id=\"text_6\">\r\n      <!-- 50 -->\r\n      <g transform=\"translate(228.025142 239.238437)scale(0.1 -0.1)\">\r\n       <defs>\r\n        <path d=\"M 10.796875 72.90625 \r\nL 49.515625 72.90625 \r\nL 49.515625 64.59375 \r\nL 19.828125 64.59375 \r\nL 19.828125 46.734375 \r\nQ 21.96875 47.46875 24.109375 47.828125 \r\nQ 26.265625 48.1875 28.421875 48.1875 \r\nQ 40.625 48.1875 47.75 41.5 \r\nQ 54.890625 34.8125 54.890625 23.390625 \r\nQ 54.890625 11.625 47.5625 5.09375 \r\nQ 40.234375 -1.421875 26.90625 -1.421875 \r\nQ 22.3125 -1.421875 17.546875 -0.640625 \r\nQ 12.796875 0.140625 7.71875 1.703125 \r\nL 7.71875 11.625 \r\nQ 12.109375 9.234375 16.796875 8.0625 \r\nQ 21.484375 6.890625 26.703125 6.890625 \r\nQ 35.15625 6.890625 40.078125 11.328125 \r\nQ 45.015625 15.765625 45.015625 23.390625 \r\nQ 45.015625 31 40.078125 35.4375 \r\nQ 35.15625 39.890625 26.703125 39.890625 \r\nQ 22.75 39.890625 18.8125 39.015625 \r\nQ 14.890625 38.140625 10.796875 36.28125 \r\nz\r\n\" id=\"DejaVuSans-53\"/>\r\n       </defs>\r\n       <use xlink:href=\"#DejaVuSans-53\"/>\r\n       <use x=\"63.623047\" xlink:href=\"#DejaVuSans-48\"/>\r\n      </g>\r\n     </g>\r\n    </g>\r\n    <g id=\"xtick_7\">\r\n     <g id=\"line2d_7\">\r\n      <g>\r\n       <use style=\"stroke:#000000;stroke-width:0.8;\" x=\"272.433097\" xlink:href=\"#m965f89d434\" y=\"224.64\"/>\r\n      </g>\r\n     </g>\r\n     <g id=\"text_7\">\r\n      <!-- 60 -->\r\n      <g transform=\"translate(266.070597 239.238437)scale(0.1 -0.1)\">\r\n       <defs>\r\n        <path d=\"M 33.015625 40.375 \r\nQ 26.375 40.375 22.484375 35.828125 \r\nQ 18.609375 31.296875 18.609375 23.390625 \r\nQ 18.609375 15.53125 22.484375 10.953125 \r\nQ 26.375 6.390625 33.015625 6.390625 \r\nQ 39.65625 6.390625 43.53125 10.953125 \r\nQ 47.40625 15.53125 47.40625 23.390625 \r\nQ 47.40625 31.296875 43.53125 35.828125 \r\nQ 39.65625 40.375 33.015625 40.375 \r\nz\r\nM 52.59375 71.296875 \r\nL 52.59375 62.3125 \r\nQ 48.875 64.0625 45.09375 64.984375 \r\nQ 41.3125 65.921875 37.59375 65.921875 \r\nQ 27.828125 65.921875 22.671875 59.328125 \r\nQ 17.53125 52.734375 16.796875 39.40625 \r\nQ 19.671875 43.65625 24.015625 45.921875 \r\nQ 28.375 48.1875 33.59375 48.1875 \r\nQ 44.578125 48.1875 50.953125 41.515625 \r\nQ 57.328125 34.859375 57.328125 23.390625 \r\nQ 57.328125 12.15625 50.6875 5.359375 \r\nQ 44.046875 -1.421875 33.015625 -1.421875 \r\nQ 20.359375 -1.421875 13.671875 8.265625 \r\nQ 6.984375 17.96875 6.984375 36.375 \r\nQ 6.984375 53.65625 15.1875 63.9375 \r\nQ 23.390625 74.21875 37.203125 74.21875 \r\nQ 40.921875 74.21875 44.703125 73.484375 \r\nQ 48.484375 72.75 52.59375 71.296875 \r\nz\r\n\" id=\"DejaVuSans-54\"/>\r\n       </defs>\r\n       <use xlink:href=\"#DejaVuSans-54\"/>\r\n       <use x=\"63.623047\" xlink:href=\"#DejaVuSans-48\"/>\r\n      </g>\r\n     </g>\r\n    </g>\r\n    <g id=\"xtick_8\">\r\n     <g id=\"line2d_8\">\r\n      <g>\r\n       <use style=\"stroke:#000000;stroke-width:0.8;\" x=\"310.478551\" xlink:href=\"#m965f89d434\" y=\"224.64\"/>\r\n      </g>\r\n     </g>\r\n     <g id=\"text_8\">\r\n      <!-- 70 -->\r\n      <g transform=\"translate(304.116051 239.238437)scale(0.1 -0.1)\">\r\n       <defs>\r\n        <path d=\"M 8.203125 72.90625 \r\nL 55.078125 72.90625 \r\nL 55.078125 68.703125 \r\nL 28.609375 0 \r\nL 18.3125 0 \r\nL 43.21875 64.59375 \r\nL 8.203125 64.59375 \r\nz\r\n\" id=\"DejaVuSans-55\"/>\r\n       </defs>\r\n       <use xlink:href=\"#DejaVuSans-55\"/>\r\n       <use x=\"63.623047\" xlink:href=\"#DejaVuSans-48\"/>\r\n      </g>\r\n     </g>\r\n    </g>\r\n    <g id=\"xtick_9\">\r\n     <g id=\"line2d_9\">\r\n      <g>\r\n       <use style=\"stroke:#000000;stroke-width:0.8;\" x=\"348.524006\" xlink:href=\"#m965f89d434\" y=\"224.64\"/>\r\n      </g>\r\n     </g>\r\n     <g id=\"text_9\">\r\n      <!-- 80 -->\r\n      <g transform=\"translate(342.161506 239.238437)scale(0.1 -0.1)\">\r\n       <defs>\r\n        <path d=\"M 31.78125 34.625 \r\nQ 24.75 34.625 20.71875 30.859375 \r\nQ 16.703125 27.09375 16.703125 20.515625 \r\nQ 16.703125 13.921875 20.71875 10.15625 \r\nQ 24.75 6.390625 31.78125 6.390625 \r\nQ 38.8125 6.390625 42.859375 10.171875 \r\nQ 46.921875 13.96875 46.921875 20.515625 \r\nQ 46.921875 27.09375 42.890625 30.859375 \r\nQ 38.875 34.625 31.78125 34.625 \r\nz\r\nM 21.921875 38.8125 \r\nQ 15.578125 40.375 12.03125 44.71875 \r\nQ 8.5 49.078125 8.5 55.328125 \r\nQ 8.5 64.0625 14.71875 69.140625 \r\nQ 20.953125 74.21875 31.78125 74.21875 \r\nQ 42.671875 74.21875 48.875 69.140625 \r\nQ 55.078125 64.0625 55.078125 55.328125 \r\nQ 55.078125 49.078125 51.53125 44.71875 \r\nQ 48 40.375 41.703125 38.8125 \r\nQ 48.828125 37.15625 52.796875 32.3125 \r\nQ 56.78125 27.484375 56.78125 20.515625 \r\nQ 56.78125 9.90625 50.3125 4.234375 \r\nQ 43.84375 -1.421875 31.78125 -1.421875 \r\nQ 19.734375 -1.421875 13.25 4.234375 \r\nQ 6.78125 9.90625 6.78125 20.515625 \r\nQ 6.78125 27.484375 10.78125 32.3125 \r\nQ 14.796875 37.15625 21.921875 38.8125 \r\nz\r\nM 18.3125 54.390625 \r\nQ 18.3125 48.734375 21.84375 45.5625 \r\nQ 25.390625 42.390625 31.78125 42.390625 \r\nQ 38.140625 42.390625 41.71875 45.5625 \r\nQ 45.3125 48.734375 45.3125 54.390625 \r\nQ 45.3125 60.0625 41.71875 63.234375 \r\nQ 38.140625 66.40625 31.78125 66.40625 \r\nQ 25.390625 66.40625 21.84375 63.234375 \r\nQ 18.3125 60.0625 18.3125 54.390625 \r\nz\r\n\" id=\"DejaVuSans-56\"/>\r\n       </defs>\r\n       <use xlink:href=\"#DejaVuSans-56\"/>\r\n       <use x=\"63.623047\" xlink:href=\"#DejaVuSans-48\"/>\r\n      </g>\r\n     </g>\r\n    </g>\r\n   </g>\r\n   <g id=\"matplotlib.axis_2\">\r\n    <g id=\"ytick_1\">\r\n     <g id=\"line2d_10\">\r\n      <defs>\r\n       <path d=\"M 0 0 \r\nL -3.5 0 \r\n\" id=\"mb744f857fe\" style=\"stroke:#000000;stroke-width:0.8;\"/>\r\n      </defs>\r\n      <g>\r\n       <use style=\"stroke:#000000;stroke-width:0.8;\" x=\"28.942188\" xlink:href=\"#mb744f857fe\" y=\"206.716454\"/>\r\n      </g>\r\n     </g>\r\n     <g id=\"text_10\">\r\n      <!-- −3 -->\r\n      <g transform=\"translate(7.2 210.515672)scale(0.1 -0.1)\">\r\n       <defs>\r\n        <path d=\"M 10.59375 35.5 \r\nL 73.1875 35.5 \r\nL 73.1875 27.203125 \r\nL 10.59375 27.203125 \r\nz\r\n\" id=\"DejaVuSans-8722\"/>\r\n       </defs>\r\n       <use xlink:href=\"#DejaVuSans-8722\"/>\r\n       <use x=\"83.789062\" xlink:href=\"#DejaVuSans-51\"/>\r\n      </g>\r\n     </g>\r\n    </g>\r\n    <g id=\"ytick_2\">\r\n     <g id=\"line2d_11\">\r\n      <g>\r\n       <use style=\"stroke:#000000;stroke-width:0.8;\" x=\"28.942188\" xlink:href=\"#mb744f857fe\" y=\"160.523781\"/>\r\n      </g>\r\n     </g>\r\n     <g id=\"text_11\">\r\n      <!-- −2 -->\r\n      <g transform=\"translate(7.2 164.323)scale(0.1 -0.1)\">\r\n       <use xlink:href=\"#DejaVuSans-8722\"/>\r\n       <use x=\"83.789062\" xlink:href=\"#DejaVuSans-50\"/>\r\n      </g>\r\n     </g>\r\n    </g>\r\n    <g id=\"ytick_3\">\r\n     <g id=\"line2d_12\">\r\n      <g>\r\n       <use style=\"stroke:#000000;stroke-width:0.8;\" x=\"28.942188\" xlink:href=\"#mb744f857fe\" y=\"114.331109\"/>\r\n      </g>\r\n     </g>\r\n     <g id=\"text_12\">\r\n      <!-- −1 -->\r\n      <g transform=\"translate(7.2 118.130327)scale(0.1 -0.1)\">\r\n       <use xlink:href=\"#DejaVuSans-8722\"/>\r\n       <use x=\"83.789062\" xlink:href=\"#DejaVuSans-49\"/>\r\n      </g>\r\n     </g>\r\n    </g>\r\n    <g id=\"ytick_4\">\r\n     <g id=\"line2d_13\">\r\n      <g>\r\n       <use style=\"stroke:#000000;stroke-width:0.8;\" x=\"28.942188\" xlink:href=\"#mb744f857fe\" y=\"68.138436\"/>\r\n      </g>\r\n     </g>\r\n     <g id=\"text_13\">\r\n      <!-- 0 -->\r\n      <g transform=\"translate(15.579688 71.937655)scale(0.1 -0.1)\">\r\n       <use xlink:href=\"#DejaVuSans-48\"/>\r\n      </g>\r\n     </g>\r\n    </g>\r\n    <g id=\"ytick_5\">\r\n     <g id=\"line2d_14\">\r\n      <g>\r\n       <use style=\"stroke:#000000;stroke-width:0.8;\" x=\"28.942188\" xlink:href=\"#mb744f857fe\" y=\"21.945764\"/>\r\n      </g>\r\n     </g>\r\n     <g id=\"text_14\">\r\n      <!-- 1 -->\r\n      <g transform=\"translate(15.579688 25.744982)scale(0.1 -0.1)\">\r\n       <use xlink:href=\"#DejaVuSans-49\"/>\r\n      </g>\r\n     </g>\r\n    </g>\r\n   </g>\r\n   <g id=\"line2d_15\">\r\n    <path clip-path=\"url(#pa9f8a6e1f1)\" d=\"M 44.160369 17.083636 \r\nL 47.964915 19.643429 \r\nL 51.76946 26.079735 \r\nL 55.574006 31.582173 \r\nL 59.378551 38.643605 \r\nL 63.183097 45.18171 \r\nL 66.987642 51.660495 \r\nL 70.792188 57.72443 \r\nL 74.596733 56.914534 \r\nL 78.401278 54.577158 \r\nL 82.205824 54.130234 \r\nL 86.010369 55.055946 \r\nL 89.814915 60.311903 \r\nL 93.61946 62.589528 \r\nL 97.424006 56.479265 \r\nL 101.228551 47.784002 \r\nL 105.033097 38.308873 \r\nL 108.837642 35.570044 \r\nL 112.642188 38.039225 \r\nL 116.446733 42.020399 \r\nL 120.251278 48.554514 \r\nL 124.055824 49.962176 \r\nL 127.860369 48.515424 \r\nL 131.664915 45.440088 \r\nL 135.46946 37.722422 \r\nL 139.274006 35.871721 \r\nL 143.078551 38.467535 \r\nL 146.883097 38.398502 \r\nL 150.687642 39.981971 \r\nL 154.492188 39.403832 \r\nL 158.296733 40.887469 \r\nL 162.101278 45.877069 \r\nL 165.905824 54.712293 \r\nL 169.710369 65.652276 \r\nL 173.514915 78.752277 \r\nL 177.31946 100.312578 \r\nL 181.124006 110.380214 \r\nL 184.928551 105.559518 \r\nL 188.733097 90.590315 \r\nL 192.537642 66.516308 \r\nL 196.342188 51.138771 \r\nL 200.146733 45.105514 \r\nL 203.951278 42.803378 \r\nL 207.755824 39.188731 \r\nL 211.560369 38.130701 \r\nL 215.364915 42.573868 \r\nL 219.16946 46.979551 \r\nL 222.974006 54.998884 \r\nL 226.778551 61.682879 \r\nL 230.583097 63.57301 \r\nL 234.387642 65.876045 \r\nL 238.192187 68.43982 \r\nL 241.996733 64.229574 \r\nL 245.801278 60.268311 \r\nL 249.605824 58.05629 \r\nL 253.410369 53.861179 \r\nL 257.214915 56.404273 \r\nL 261.01946 57.478199 \r\nL 264.824006 57.182156 \r\nL 268.628551 57.052734 \r\nL 272.433097 55.455314 \r\nL 276.237642 56.546016 \r\nL 280.042188 57.09257 \r\nL 283.846733 56.156341 \r\nL 287.651278 56.350987 \r\nL 291.455824 58.23781 \r\nL 295.260369 56.192875 \r\nL 299.064915 52.832735 \r\nL 302.86946 46.645932 \r\nL 306.674006 38.404308 \r\nL 310.478551 34.159077 \r\nL 314.283097 36.50694 \r\nL 318.087642 43.393004 \r\nL 321.892188 48.302556 \r\nL 325.696733 51.336479 \r\nL 329.501278 50.138776 \r\nL 333.305824 47.500118 \r\nL 337.110369 48.426157 \r\nL 340.914915 54.573392 \r\nL 344.71946 96.532232 \r\nL 348.524006 214.756364 \r\n\" style=\"fill:none;stroke:#1f77b4;stroke-linecap:square;stroke-width:1.5;\"/>\r\n   </g>\r\n   <g id=\"line2d_16\">\r\n    <path clip-path=\"url(#pa9f8a6e1f1)\" d=\"M 44.160369 18.368217 \r\nL 47.964915 18.040554 \r\nL 51.76946 23.813891 \r\nL 55.574006 29.992646 \r\nL 59.378551 33.951935 \r\nL 63.183097 40.172215 \r\nL 66.987642 43.287559 \r\nL 70.792188 52.322744 \r\nL 74.596733 55.032014 \r\nL 78.401278 53.978825 \r\nL 82.205824 51.968052 \r\nL 86.010369 52.079408 \r\nL 89.814915 56.228508 \r\nL 93.61946 63.356042 \r\nL 97.424006 61.882643 \r\nL 101.228551 54.659318 \r\nL 105.033097 43.790878 \r\nL 108.837642 35.628777 \r\nL 112.642188 39.52772 \r\nL 116.446733 41.160054 \r\nL 120.251278 48.431914 \r\nL 124.055824 50.543376 \r\nL 127.860369 49.087015 \r\nL 131.664915 47.067037 \r\nL 135.46946 41.568735 \r\nL 139.274006 35.282872 \r\nL 143.078551 38.183609 \r\nL 146.883097 39.356573 \r\nL 150.687642 42.11787 \r\nL 154.492188 41.073518 \r\nL 158.296733 38.044351 \r\nL 162.101278 43.044255 \r\nL 165.905824 45.700409 \r\nL 169.710369 59.529597 \r\nL 173.514915 66.150664 \r\nL 177.31946 83.030287 \r\nL 181.124006 103.402862 \r\nL 184.928551 106.211457 \r\nL 188.733097 100.283239 \r\nL 192.537642 75.402539 \r\nL 196.342188 57.528669 \r\nL 200.146733 49.94542 \r\nL 203.951278 49.541628 \r\nL 207.755824 51.982649 \r\nL 211.560369 41.918235 \r\nL 215.364915 42.67856 \r\nL 219.16946 43.872202 \r\nL 222.974006 50.907596 \r\nL 226.778551 58.30035 \r\nL 230.583097 61.650562 \r\nL 234.387642 63.030964 \r\nL 238.192187 64.248341 \r\nL 241.996733 67.186115 \r\nL 245.801278 60.801605 \r\nL 249.605824 60.427695 \r\nL 253.410369 54.781145 \r\nL 257.214915 55.705978 \r\nL 261.01946 59.14325 \r\nL 264.824006 57.384318 \r\nL 268.628551 60.472383 \r\nL 272.433097 54.268616 \r\nL 276.237642 56.721214 \r\nL 280.042188 56.18619 \r\nL 283.846733 58.055676 \r\nL 287.651278 55.949894 \r\nL 291.455824 57.110828 \r\nL 295.260369 58.507573 \r\nL 299.064915 55.295332 \r\nL 302.86946 52.498208 \r\nL 306.674006 42.495436 \r\nL 310.478551 37.937746 \r\nL 314.283097 33.583258 \r\nL 318.087642 41.497378 \r\nL 321.892188 47.72971 \r\nL 325.696733 51.663397 \r\nL 329.501278 51.316592 \r\nL 333.305824 46.800088 \r\nL 337.110369 45.94278 \r\nL 340.914915 47.932583 \r\nL 344.71946 58.479608 \r\nL 348.524006 121.459636 \r\n\" style=\"fill:none;stroke:#ff0000;stroke-linecap:square;stroke-width:1.5;\"/>\r\n   </g>\r\n   <g id=\"patch_3\">\r\n    <path d=\"M 28.942188 224.64 \r\nL 28.942188 7.2 \r\n\" style=\"fill:none;stroke:#000000;stroke-linecap:square;stroke-linejoin:miter;stroke-width:0.8;\"/>\r\n   </g>\r\n   <g id=\"patch_4\">\r\n    <path d=\"M 363.742188 224.64 \r\nL 363.742188 7.2 \r\n\" style=\"fill:none;stroke:#000000;stroke-linecap:square;stroke-linejoin:miter;stroke-width:0.8;\"/>\r\n   </g>\r\n   <g id=\"patch_5\">\r\n    <path d=\"M 28.942188 224.64 \r\nL 363.742188 224.64 \r\n\" style=\"fill:none;stroke:#000000;stroke-linecap:square;stroke-linejoin:miter;stroke-width:0.8;\"/>\r\n   </g>\r\n   <g id=\"patch_6\">\r\n    <path d=\"M 28.942188 7.2 \r\nL 363.742188 7.2 \r\n\" style=\"fill:none;stroke:#000000;stroke-linecap:square;stroke-linejoin:miter;stroke-width:0.8;\"/>\r\n   </g>\r\n  </g>\r\n </g>\r\n <defs>\r\n  <clipPath id=\"pa9f8a6e1f1\">\r\n   <rect height=\"217.44\" width=\"334.8\" x=\"28.942188\" y=\"7.2\"/>\r\n  </clipPath>\r\n </defs>\r\n</svg>\r\n",
      "image/png": "[encoded data removed]"
     },
     "metadata": {
      "needs_background": "light"
     }
    }
   ],
   "source": [
    "#ARIMA 6,1,1\n",
    "test = arima(data,6,1,1)\n",
    "start = len(data['valeur'])\n",
    "model_fit = test.fit(disp=0)\n",
    "# newPrediction = model_fit.predict(1,240)"
   ]
  },
  {
   "cell_type": "code",
   "execution_count": 24,
   "metadata": {},
   "outputs": [
    {
     "output_type": "display_data",
     "data": {
      "text/plain": "<Figure size 432x288 with 1 Axes>",
      "image/svg+xml": "<?xml version=\"1.0\" encoding=\"utf-8\" standalone=\"no\"?>\r\n<!DOCTYPE svg PUBLIC \"-//W3C//DTD SVG 1.1//EN\"\r\n  \"http://www.w3.org/Graphics/SVG/1.1/DTD/svg11.dtd\">\r\n<!-- Created with matplotlib (https://matplotlib.org/) -->\r\n<svg height=\"297.612813pt\" version=\"1.1\" viewBox=\"0 0 370.942187 297.612813\" width=\"370.942187pt\" xmlns=\"http://www.w3.org/2000/svg\" xmlns:xlink=\"http://www.w3.org/1999/xlink\">\r\n <metadata>\r\n  <rdf:RDF xmlns:cc=\"http://creativecommons.org/ns#\" xmlns:dc=\"http://purl.org/dc/elements/1.1/\" xmlns:rdf=\"http://www.w3.org/1999/02/22-rdf-syntax-ns#\">\r\n   <cc:Work>\r\n    <dc:type rdf:resource=\"http://purl.org/dc/dcmitype/StillImage\"/>\r\n    <dc:date>2020-12-03T12:35:20.237814</dc:date>\r\n    <dc:format>image/svg+xml</dc:format>\r\n    <dc:creator>\r\n     <cc:Agent>\r\n      <dc:title>Matplotlib v3.3.2, https://matplotlib.org/</dc:title>\r\n     </cc:Agent>\r\n    </dc:creator>\r\n   </cc:Work>\r\n  </rdf:RDF>\r\n </metadata>\r\n <defs>\r\n  <style type=\"text/css\">*{stroke-linecap:butt;stroke-linejoin:round;}</style>\r\n </defs>\r\n <g id=\"figure_1\">\r\n  <g id=\"patch_1\">\r\n   <path d=\"M 0 297.612813 \r\nL 370.942187 297.612813 \r\nL 370.942187 0 \r\nL 0 0 \r\nz\r\n\" style=\"fill:none;\"/>\r\n  </g>\r\n  <g id=\"axes_1\">\r\n   <g id=\"patch_2\">\r\n    <path d=\"M 28.942188 239.758125 \r\nL 363.742188 239.758125 \r\nL 363.742188 22.318125 \r\nL 28.942188 22.318125 \r\nz\r\n\" style=\"fill:#ffffff;\"/>\r\n   </g>\r\n   <g id=\"PolyCollection_1\">\r\n    <defs>\r\n     <path d=\"M 332.633535 -107.861701 \r\nL 332.633535 -91.432059 \r\nL 333.855879 -76.774146 \r\nL 335.078223 -67.738324 \r\nL 336.300566 -83.391808 \r\nL 337.52291 -99.156633 \r\nL 338.745254 -101.72449 \r\nL 339.967598 -105.215189 \r\nL 341.189942 -96.029884 \r\nL 342.412286 -83.933428 \r\nL 343.63463 -78.876889 \r\nL 344.856974 -72.225747 \r\nL 346.079318 -71.644029 \r\nL 347.301662 -74.524718 \r\nL 348.524006 -73.990966 \r\nL 348.524006 -170.103373 \r\nL 348.524006 -170.103373 \r\nL 347.301662 -167.556051 \r\nL 346.079318 -160.879386 \r\nL 344.856974 -157.553063 \r\nL 343.63463 -160.731917 \r\nL 342.412286 -162.281433 \r\nL 341.189942 -171.943787 \r\nL 339.967598 -178.980578 \r\nL 338.745254 -172.37078 \r\nL 337.52291 -166.296661 \r\nL 336.300566 -143.363984 \r\nL 335.078223 -115.504128 \r\nL 333.855879 -112.205298 \r\nL 332.633535 -107.861701 \r\nz\r\n\" id=\"mf84520f2c5\" style=\"stroke:#808080;stroke-opacity:0.5;\"/>\r\n    </defs>\r\n    <g clip-path=\"url(#pd9effa1ff0)\">\r\n     <use style=\"fill:#808080;fill-opacity:0.5;stroke:#808080;stroke-opacity:0.5;\" x=\"0\" xlink:href=\"#mf84520f2c5\" y=\"297.612813\"/>\r\n    </g>\r\n   </g>\r\n   <g id=\"matplotlib.axis_1\">\r\n    <g id=\"xtick_1\">\r\n     <g id=\"line2d_1\">\r\n      <defs>\r\n       <path d=\"M 0 0 \r\nL 0 3.5 \r\n\" id=\"mc072a995b5\" style=\"stroke:#000000;stroke-width:0.8;\"/>\r\n      </defs>\r\n      <g>\r\n       <use style=\"stroke:#000000;stroke-width:0.8;\" x=\"44.160369\" xlink:href=\"#mc072a995b5\" y=\"239.758125\"/>\r\n      </g>\r\n     </g>\r\n     <g id=\"text_1\">\r\n      <!-- 1960-Q4 -->\r\n      <g transform=\"translate(46.919744 290.412813)rotate(-90)scale(0.1 -0.1)\">\r\n       <defs>\r\n        <path d=\"M 12.40625 8.296875 \r\nL 28.515625 8.296875 \r\nL 28.515625 63.921875 \r\nL 10.984375 60.40625 \r\nL 10.984375 69.390625 \r\nL 28.421875 72.90625 \r\nL 38.28125 72.90625 \r\nL 38.28125 8.296875 \r\nL 54.390625 8.296875 \r\nL 54.390625 0 \r\nL 12.40625 0 \r\nz\r\n\" id=\"DejaVuSans-49\"/>\r\n        <path d=\"M 10.984375 1.515625 \r\nL 10.984375 10.5 \r\nQ 14.703125 8.734375 18.5 7.8125 \r\nQ 22.3125 6.890625 25.984375 6.890625 \r\nQ 35.75 6.890625 40.890625 13.453125 \r\nQ 46.046875 20.015625 46.78125 33.40625 \r\nQ 43.953125 29.203125 39.59375 26.953125 \r\nQ 35.25 24.703125 29.984375 24.703125 \r\nQ 19.046875 24.703125 12.671875 31.3125 \r\nQ 6.296875 37.9375 6.296875 49.421875 \r\nQ 6.296875 60.640625 12.9375 67.421875 \r\nQ 19.578125 74.21875 30.609375 74.21875 \r\nQ 43.265625 74.21875 49.921875 64.515625 \r\nQ 56.59375 54.828125 56.59375 36.375 \r\nQ 56.59375 19.140625 48.40625 8.859375 \r\nQ 40.234375 -1.421875 26.421875 -1.421875 \r\nQ 22.703125 -1.421875 18.890625 -0.6875 \r\nQ 15.09375 0.046875 10.984375 1.515625 \r\nz\r\nM 30.609375 32.421875 \r\nQ 37.25 32.421875 41.125 36.953125 \r\nQ 45.015625 41.5 45.015625 49.421875 \r\nQ 45.015625 57.28125 41.125 61.84375 \r\nQ 37.25 66.40625 30.609375 66.40625 \r\nQ 23.96875 66.40625 20.09375 61.84375 \r\nQ 16.21875 57.28125 16.21875 49.421875 \r\nQ 16.21875 41.5 20.09375 36.953125 \r\nQ 23.96875 32.421875 30.609375 32.421875 \r\nz\r\n\" id=\"DejaVuSans-57\"/>\r\n        <path d=\"M 33.015625 40.375 \r\nQ 26.375 40.375 22.484375 35.828125 \r\nQ 18.609375 31.296875 18.609375 23.390625 \r\nQ 18.609375 15.53125 22.484375 10.953125 \r\nQ 26.375 6.390625 33.015625 6.390625 \r\nQ 39.65625 6.390625 43.53125 10.953125 \r\nQ 47.40625 15.53125 47.40625 23.390625 \r\nQ 47.40625 31.296875 43.53125 35.828125 \r\nQ 39.65625 40.375 33.015625 40.375 \r\nz\r\nM 52.59375 71.296875 \r\nL 52.59375 62.3125 \r\nQ 48.875 64.0625 45.09375 64.984375 \r\nQ 41.3125 65.921875 37.59375 65.921875 \r\nQ 27.828125 65.921875 22.671875 59.328125 \r\nQ 17.53125 52.734375 16.796875 39.40625 \r\nQ 19.671875 43.65625 24.015625 45.921875 \r\nQ 28.375 48.1875 33.59375 48.1875 \r\nQ 44.578125 48.1875 50.953125 41.515625 \r\nQ 57.328125 34.859375 57.328125 23.390625 \r\nQ 57.328125 12.15625 50.6875 5.359375 \r\nQ 44.046875 -1.421875 33.015625 -1.421875 \r\nQ 20.359375 -1.421875 13.671875 8.265625 \r\nQ 6.984375 17.96875 6.984375 36.375 \r\nQ 6.984375 53.65625 15.1875 63.9375 \r\nQ 23.390625 74.21875 37.203125 74.21875 \r\nQ 40.921875 74.21875 44.703125 73.484375 \r\nQ 48.484375 72.75 52.59375 71.296875 \r\nz\r\n\" id=\"DejaVuSans-54\"/>\r\n        <path d=\"M 31.78125 66.40625 \r\nQ 24.171875 66.40625 20.328125 58.90625 \r\nQ 16.5 51.421875 16.5 36.375 \r\nQ 16.5 21.390625 20.328125 13.890625 \r\nQ 24.171875 6.390625 31.78125 6.390625 \r\nQ 39.453125 6.390625 43.28125 13.890625 \r\nQ 47.125 21.390625 47.125 36.375 \r\nQ 47.125 51.421875 43.28125 58.90625 \r\nQ 39.453125 66.40625 31.78125 66.40625 \r\nz\r\nM 31.78125 74.21875 \r\nQ 44.046875 74.21875 50.515625 64.515625 \r\nQ 56.984375 54.828125 56.984375 36.375 \r\nQ 56.984375 17.96875 50.515625 8.265625 \r\nQ 44.046875 -1.421875 31.78125 -1.421875 \r\nQ 19.53125 -1.421875 13.0625 8.265625 \r\nQ 6.59375 17.96875 6.59375 36.375 \r\nQ 6.59375 54.828125 13.0625 64.515625 \r\nQ 19.53125 74.21875 31.78125 74.21875 \r\nz\r\n\" id=\"DejaVuSans-48\"/>\r\n        <path d=\"M 4.890625 31.390625 \r\nL 31.203125 31.390625 \r\nL 31.203125 23.390625 \r\nL 4.890625 23.390625 \r\nz\r\n\" id=\"DejaVuSans-45\"/>\r\n        <path d=\"M 39.40625 66.21875 \r\nQ 28.65625 66.21875 22.328125 58.203125 \r\nQ 16.015625 50.203125 16.015625 36.375 \r\nQ 16.015625 22.609375 22.328125 14.59375 \r\nQ 28.65625 6.59375 39.40625 6.59375 \r\nQ 50.140625 6.59375 56.421875 14.59375 \r\nQ 62.703125 22.609375 62.703125 36.375 \r\nQ 62.703125 50.203125 56.421875 58.203125 \r\nQ 50.140625 66.21875 39.40625 66.21875 \r\nz\r\nM 53.21875 1.3125 \r\nL 66.21875 -12.890625 \r\nL 54.296875 -12.890625 \r\nL 43.5 -1.21875 \r\nQ 41.890625 -1.3125 41.03125 -1.359375 \r\nQ 40.1875 -1.421875 39.40625 -1.421875 \r\nQ 24.03125 -1.421875 14.8125 8.859375 \r\nQ 5.609375 19.140625 5.609375 36.375 \r\nQ 5.609375 53.65625 14.8125 63.9375 \r\nQ 24.03125 74.21875 39.40625 74.21875 \r\nQ 54.734375 74.21875 63.90625 63.9375 \r\nQ 73.09375 53.65625 73.09375 36.375 \r\nQ 73.09375 23.6875 67.984375 14.640625 \r\nQ 62.890625 5.609375 53.21875 1.3125 \r\nz\r\n\" id=\"DejaVuSans-81\"/>\r\n        <path d=\"M 37.796875 64.3125 \r\nL 12.890625 25.390625 \r\nL 37.796875 25.390625 \r\nz\r\nM 35.203125 72.90625 \r\nL 47.609375 72.90625 \r\nL 47.609375 25.390625 \r\nL 58.015625 25.390625 \r\nL 58.015625 17.1875 \r\nL 47.609375 17.1875 \r\nL 47.609375 0 \r\nL 37.796875 0 \r\nL 37.796875 17.1875 \r\nL 4.890625 17.1875 \r\nL 4.890625 26.703125 \r\nz\r\n\" id=\"DejaVuSans-52\"/>\r\n       </defs>\r\n       <use xlink:href=\"#DejaVuSans-49\"/>\r\n       <use x=\"63.623047\" xlink:href=\"#DejaVuSans-57\"/>\r\n       <use x=\"127.246094\" xlink:href=\"#DejaVuSans-54\"/>\r\n       <use x=\"190.869141\" xlink:href=\"#DejaVuSans-48\"/>\r\n       <use x=\"254.492188\" xlink:href=\"#DejaVuSans-45\"/>\r\n       <use x=\"294.201172\" xlink:href=\"#DejaVuSans-81\"/>\r\n       <use x=\"372.912109\" xlink:href=\"#DejaVuSans-52\"/>\r\n      </g>\r\n     </g>\r\n    </g>\r\n    <g id=\"xtick_2\">\r\n     <g id=\"line2d_2\">\r\n      <g>\r\n       <use style=\"stroke:#000000;stroke-width:0.8;\" x=\"105.277565\" xlink:href=\"#mc072a995b5\" y=\"239.758125\"/>\r\n      </g>\r\n     </g>\r\n     <g id=\"text_2\">\r\n      <!-- 1973-Q2 -->\r\n      <g transform=\"translate(108.03694 290.412813)rotate(-90)scale(0.1 -0.1)\">\r\n       <defs>\r\n        <path d=\"M 8.203125 72.90625 \r\nL 55.078125 72.90625 \r\nL 55.078125 68.703125 \r\nL 28.609375 0 \r\nL 18.3125 0 \r\nL 43.21875 64.59375 \r\nL 8.203125 64.59375 \r\nz\r\n\" id=\"DejaVuSans-55\"/>\r\n        <path d=\"M 40.578125 39.3125 \r\nQ 47.65625 37.796875 51.625 33 \r\nQ 55.609375 28.21875 55.609375 21.1875 \r\nQ 55.609375 10.40625 48.1875 4.484375 \r\nQ 40.765625 -1.421875 27.09375 -1.421875 \r\nQ 22.515625 -1.421875 17.65625 -0.515625 \r\nQ 12.796875 0.390625 7.625 2.203125 \r\nL 7.625 11.71875 \r\nQ 11.71875 9.328125 16.59375 8.109375 \r\nQ 21.484375 6.890625 26.8125 6.890625 \r\nQ 36.078125 6.890625 40.9375 10.546875 \r\nQ 45.796875 14.203125 45.796875 21.1875 \r\nQ 45.796875 27.640625 41.28125 31.265625 \r\nQ 36.765625 34.90625 28.71875 34.90625 \r\nL 20.21875 34.90625 \r\nL 20.21875 43.015625 \r\nL 29.109375 43.015625 \r\nQ 36.375 43.015625 40.234375 45.921875 \r\nQ 44.09375 48.828125 44.09375 54.296875 \r\nQ 44.09375 59.90625 40.109375 62.90625 \r\nQ 36.140625 65.921875 28.71875 65.921875 \r\nQ 24.65625 65.921875 20.015625 65.03125 \r\nQ 15.375 64.15625 9.8125 62.3125 \r\nL 9.8125 71.09375 \r\nQ 15.4375 72.65625 20.34375 73.4375 \r\nQ 25.25 74.21875 29.59375 74.21875 \r\nQ 40.828125 74.21875 47.359375 69.109375 \r\nQ 53.90625 64.015625 53.90625 55.328125 \r\nQ 53.90625 49.265625 50.4375 45.09375 \r\nQ 46.96875 40.921875 40.578125 39.3125 \r\nz\r\n\" id=\"DejaVuSans-51\"/>\r\n        <path d=\"M 19.1875 8.296875 \r\nL 53.609375 8.296875 \r\nL 53.609375 0 \r\nL 7.328125 0 \r\nL 7.328125 8.296875 \r\nQ 12.9375 14.109375 22.625 23.890625 \r\nQ 32.328125 33.6875 34.8125 36.53125 \r\nQ 39.546875 41.84375 41.421875 45.53125 \r\nQ 43.3125 49.21875 43.3125 52.78125 \r\nQ 43.3125 58.59375 39.234375 62.25 \r\nQ 35.15625 65.921875 28.609375 65.921875 \r\nQ 23.96875 65.921875 18.8125 64.3125 \r\nQ 13.671875 62.703125 7.8125 59.421875 \r\nL 7.8125 69.390625 \r\nQ 13.765625 71.78125 18.9375 73 \r\nQ 24.125 74.21875 28.421875 74.21875 \r\nQ 39.75 74.21875 46.484375 68.546875 \r\nQ 53.21875 62.890625 53.21875 53.421875 \r\nQ 53.21875 48.921875 51.53125 44.890625 \r\nQ 49.859375 40.875 45.40625 35.40625 \r\nQ 44.1875 33.984375 37.640625 27.21875 \r\nQ 31.109375 20.453125 19.1875 8.296875 \r\nz\r\n\" id=\"DejaVuSans-50\"/>\r\n       </defs>\r\n       <use xlink:href=\"#DejaVuSans-49\"/>\r\n       <use x=\"63.623047\" xlink:href=\"#DejaVuSans-57\"/>\r\n       <use x=\"127.246094\" xlink:href=\"#DejaVuSans-55\"/>\r\n       <use x=\"190.869141\" xlink:href=\"#DejaVuSans-51\"/>\r\n       <use x=\"254.492188\" xlink:href=\"#DejaVuSans-45\"/>\r\n       <use x=\"294.201172\" xlink:href=\"#DejaVuSans-81\"/>\r\n       <use x=\"372.912109\" xlink:href=\"#DejaVuSans-50\"/>\r\n      </g>\r\n     </g>\r\n    </g>\r\n    <g id=\"xtick_3\">\r\n     <g id=\"line2d_3\">\r\n      <g>\r\n       <use style=\"stroke:#000000;stroke-width:0.8;\" x=\"166.394761\" xlink:href=\"#mc072a995b5\" y=\"239.758125\"/>\r\n      </g>\r\n     </g>\r\n     <g id=\"text_3\">\r\n      <!-- 1985-Q4 -->\r\n      <g transform=\"translate(169.154136 290.412813)rotate(-90)scale(0.1 -0.1)\">\r\n       <defs>\r\n        <path d=\"M 31.78125 34.625 \r\nQ 24.75 34.625 20.71875 30.859375 \r\nQ 16.703125 27.09375 16.703125 20.515625 \r\nQ 16.703125 13.921875 20.71875 10.15625 \r\nQ 24.75 6.390625 31.78125 6.390625 \r\nQ 38.8125 6.390625 42.859375 10.171875 \r\nQ 46.921875 13.96875 46.921875 20.515625 \r\nQ 46.921875 27.09375 42.890625 30.859375 \r\nQ 38.875 34.625 31.78125 34.625 \r\nz\r\nM 21.921875 38.8125 \r\nQ 15.578125 40.375 12.03125 44.71875 \r\nQ 8.5 49.078125 8.5 55.328125 \r\nQ 8.5 64.0625 14.71875 69.140625 \r\nQ 20.953125 74.21875 31.78125 74.21875 \r\nQ 42.671875 74.21875 48.875 69.140625 \r\nQ 55.078125 64.0625 55.078125 55.328125 \r\nQ 55.078125 49.078125 51.53125 44.71875 \r\nQ 48 40.375 41.703125 38.8125 \r\nQ 48.828125 37.15625 52.796875 32.3125 \r\nQ 56.78125 27.484375 56.78125 20.515625 \r\nQ 56.78125 9.90625 50.3125 4.234375 \r\nQ 43.84375 -1.421875 31.78125 -1.421875 \r\nQ 19.734375 -1.421875 13.25 4.234375 \r\nQ 6.78125 9.90625 6.78125 20.515625 \r\nQ 6.78125 27.484375 10.78125 32.3125 \r\nQ 14.796875 37.15625 21.921875 38.8125 \r\nz\r\nM 18.3125 54.390625 \r\nQ 18.3125 48.734375 21.84375 45.5625 \r\nQ 25.390625 42.390625 31.78125 42.390625 \r\nQ 38.140625 42.390625 41.71875 45.5625 \r\nQ 45.3125 48.734375 45.3125 54.390625 \r\nQ 45.3125 60.0625 41.71875 63.234375 \r\nQ 38.140625 66.40625 31.78125 66.40625 \r\nQ 25.390625 66.40625 21.84375 63.234375 \r\nQ 18.3125 60.0625 18.3125 54.390625 \r\nz\r\n\" id=\"DejaVuSans-56\"/>\r\n        <path d=\"M 10.796875 72.90625 \r\nL 49.515625 72.90625 \r\nL 49.515625 64.59375 \r\nL 19.828125 64.59375 \r\nL 19.828125 46.734375 \r\nQ 21.96875 47.46875 24.109375 47.828125 \r\nQ 26.265625 48.1875 28.421875 48.1875 \r\nQ 40.625 48.1875 47.75 41.5 \r\nQ 54.890625 34.8125 54.890625 23.390625 \r\nQ 54.890625 11.625 47.5625 5.09375 \r\nQ 40.234375 -1.421875 26.90625 -1.421875 \r\nQ 22.3125 -1.421875 17.546875 -0.640625 \r\nQ 12.796875 0.140625 7.71875 1.703125 \r\nL 7.71875 11.625 \r\nQ 12.109375 9.234375 16.796875 8.0625 \r\nQ 21.484375 6.890625 26.703125 6.890625 \r\nQ 35.15625 6.890625 40.078125 11.328125 \r\nQ 45.015625 15.765625 45.015625 23.390625 \r\nQ 45.015625 31 40.078125 35.4375 \r\nQ 35.15625 39.890625 26.703125 39.890625 \r\nQ 22.75 39.890625 18.8125 39.015625 \r\nQ 14.890625 38.140625 10.796875 36.28125 \r\nz\r\n\" id=\"DejaVuSans-53\"/>\r\n       </defs>\r\n       <use xlink:href=\"#DejaVuSans-49\"/>\r\n       <use x=\"63.623047\" xlink:href=\"#DejaVuSans-57\"/>\r\n       <use x=\"127.246094\" xlink:href=\"#DejaVuSans-56\"/>\r\n       <use x=\"190.869141\" xlink:href=\"#DejaVuSans-53\"/>\r\n       <use x=\"254.492188\" xlink:href=\"#DejaVuSans-45\"/>\r\n       <use x=\"294.201172\" xlink:href=\"#DejaVuSans-81\"/>\r\n       <use x=\"372.912109\" xlink:href=\"#DejaVuSans-52\"/>\r\n      </g>\r\n     </g>\r\n    </g>\r\n    <g id=\"xtick_4\">\r\n     <g id=\"line2d_4\">\r\n      <g>\r\n       <use style=\"stroke:#000000;stroke-width:0.8;\" x=\"227.511957\" xlink:href=\"#mc072a995b5\" y=\"239.758125\"/>\r\n      </g>\r\n     </g>\r\n     <g id=\"text_4\">\r\n      <!-- 1998-Q2 -->\r\n      <g transform=\"translate(230.271332 290.412813)rotate(-90)scale(0.1 -0.1)\">\r\n       <use xlink:href=\"#DejaVuSans-49\"/>\r\n       <use x=\"63.623047\" xlink:href=\"#DejaVuSans-57\"/>\r\n       <use x=\"127.246094\" xlink:href=\"#DejaVuSans-57\"/>\r\n       <use x=\"190.869141\" xlink:href=\"#DejaVuSans-56\"/>\r\n       <use x=\"254.492188\" xlink:href=\"#DejaVuSans-45\"/>\r\n       <use x=\"294.201172\" xlink:href=\"#DejaVuSans-81\"/>\r\n       <use x=\"372.912109\" xlink:href=\"#DejaVuSans-50\"/>\r\n      </g>\r\n     </g>\r\n    </g>\r\n    <g id=\"xtick_5\">\r\n     <g id=\"line2d_5\">\r\n      <g>\r\n       <use style=\"stroke:#000000;stroke-width:0.8;\" x=\"288.629154\" xlink:href=\"#mc072a995b5\" y=\"239.758125\"/>\r\n      </g>\r\n     </g>\r\n     <g id=\"text_5\">\r\n      <!-- 2010-Q4 -->\r\n      <g transform=\"translate(291.388529 290.412813)rotate(-90)scale(0.1 -0.1)\">\r\n       <use xlink:href=\"#DejaVuSans-50\"/>\r\n       <use x=\"63.623047\" xlink:href=\"#DejaVuSans-48\"/>\r\n       <use x=\"127.246094\" xlink:href=\"#DejaVuSans-49\"/>\r\n       <use x=\"190.869141\" xlink:href=\"#DejaVuSans-48\"/>\r\n       <use x=\"254.492188\" xlink:href=\"#DejaVuSans-45\"/>\r\n       <use x=\"294.201172\" xlink:href=\"#DejaVuSans-81\"/>\r\n       <use x=\"372.912109\" xlink:href=\"#DejaVuSans-52\"/>\r\n      </g>\r\n     </g>\r\n    </g>\r\n    <g id=\"xtick_6\">\r\n     <g id=\"line2d_6\">\r\n      <g>\r\n       <use style=\"stroke:#000000;stroke-width:0.8;\" x=\"349.74635\" xlink:href=\"#mc072a995b5\" y=\"239.758125\"/>\r\n      </g>\r\n     </g>\r\n     <g id=\"text_6\">\r\n      <!-- 2023-Q2 -->\r\n      <g transform=\"translate(352.505725 290.412813)rotate(-90)scale(0.1 -0.1)\">\r\n       <use xlink:href=\"#DejaVuSans-50\"/>\r\n       <use x=\"63.623047\" xlink:href=\"#DejaVuSans-48\"/>\r\n       <use x=\"127.246094\" xlink:href=\"#DejaVuSans-50\"/>\r\n       <use x=\"190.869141\" xlink:href=\"#DejaVuSans-51\"/>\r\n       <use x=\"254.492188\" xlink:href=\"#DejaVuSans-45\"/>\r\n       <use x=\"294.201172\" xlink:href=\"#DejaVuSans-81\"/>\r\n       <use x=\"372.912109\" xlink:href=\"#DejaVuSans-50\"/>\r\n      </g>\r\n     </g>\r\n    </g>\r\n   </g>\r\n   <g id=\"matplotlib.axis_2\">\r\n    <g id=\"ytick_1\">\r\n     <g id=\"line2d_7\">\r\n      <defs>\r\n       <path d=\"M 0 0 \r\nL -3.5 0 \r\n\" id=\"mfad8856a94\" style=\"stroke:#000000;stroke-width:0.8;\"/>\r\n      </defs>\r\n      <g>\r\n       <use style=\"stroke:#000000;stroke-width:0.8;\" x=\"28.942188\" xlink:href=\"#mfad8856a94\" y=\"220.886193\"/>\r\n      </g>\r\n     </g>\r\n     <g id=\"text_7\">\r\n      <!-- −6 -->\r\n      <g transform=\"translate(7.2 224.685412)scale(0.1 -0.1)\">\r\n       <defs>\r\n        <path d=\"M 10.59375 35.5 \r\nL 73.1875 35.5 \r\nL 73.1875 27.203125 \r\nL 10.59375 27.203125 \r\nz\r\n\" id=\"DejaVuSans-8722\"/>\r\n       </defs>\r\n       <use xlink:href=\"#DejaVuSans-8722\"/>\r\n       <use x=\"83.789062\" xlink:href=\"#DejaVuSans-54\"/>\r\n      </g>\r\n     </g>\r\n    </g>\r\n    <g id=\"ytick_2\">\r\n     <g id=\"line2d_8\">\r\n      <g>\r\n       <use style=\"stroke:#000000;stroke-width:0.8;\" x=\"28.942188\" xlink:href=\"#mfad8856a94\" y=\"179.602423\"/>\r\n      </g>\r\n     </g>\r\n     <g id=\"text_8\">\r\n      <!-- −4 -->\r\n      <g transform=\"translate(7.2 183.401642)scale(0.1 -0.1)\">\r\n       <use xlink:href=\"#DejaVuSans-8722\"/>\r\n       <use x=\"83.789062\" xlink:href=\"#DejaVuSans-52\"/>\r\n      </g>\r\n     </g>\r\n    </g>\r\n    <g id=\"ytick_3\">\r\n     <g id=\"line2d_9\">\r\n      <g>\r\n       <use style=\"stroke:#000000;stroke-width:0.8;\" x=\"28.942188\" xlink:href=\"#mfad8856a94\" y=\"138.318654\"/>\r\n      </g>\r\n     </g>\r\n     <g id=\"text_9\">\r\n      <!-- −2 -->\r\n      <g transform=\"translate(7.2 142.117873)scale(0.1 -0.1)\">\r\n       <use xlink:href=\"#DejaVuSans-8722\"/>\r\n       <use x=\"83.789062\" xlink:href=\"#DejaVuSans-50\"/>\r\n      </g>\r\n     </g>\r\n    </g>\r\n    <g id=\"ytick_4\">\r\n     <g id=\"line2d_10\">\r\n      <g>\r\n       <use style=\"stroke:#000000;stroke-width:0.8;\" x=\"28.942188\" xlink:href=\"#mfad8856a94\" y=\"97.034884\"/>\r\n      </g>\r\n     </g>\r\n     <g id=\"text_10\">\r\n      <!-- 0 -->\r\n      <g transform=\"translate(15.579688 100.834103)scale(0.1 -0.1)\">\r\n       <use xlink:href=\"#DejaVuSans-48\"/>\r\n      </g>\r\n     </g>\r\n    </g>\r\n    <g id=\"ytick_5\">\r\n     <g id=\"line2d_11\">\r\n      <g>\r\n       <use style=\"stroke:#000000;stroke-width:0.8;\" x=\"28.942188\" xlink:href=\"#mfad8856a94\" y=\"55.751115\"/>\r\n      </g>\r\n     </g>\r\n     <g id=\"text_11\">\r\n      <!-- 2 -->\r\n      <g transform=\"translate(15.579688 59.550333)scale(0.1 -0.1)\">\r\n       <use xlink:href=\"#DejaVuSans-50\"/>\r\n      </g>\r\n     </g>\r\n    </g>\r\n   </g>\r\n   <g id=\"line2d_12\">\r\n    <path clip-path=\"url(#pd9effa1ff0)\" d=\"M 44.160369 74.069735 \r\nL 45.382713 66.163953 \r\nL 46.605057 64.039845 \r\nL 47.827401 62.903433 \r\nL 49.049745 64.954989 \r\nL 50.272089 63.713795 \r\nL 51.494433 66.355256 \r\nL 52.716777 81.47415 \r\nL 53.939121 73.075702 \r\nL 55.161465 58.404071 \r\nL 56.383809 58.757294 \r\nL 57.606152 48.331775 \r\nL 58.828496 66.117802 \r\nL 60.05084 72.806718 \r\nL 61.273184 77.968448 \r\nL 62.495528 77.259311 \r\nL 63.717872 68.933783 \r\nL 64.940216 71.671481 \r\nL 66.16256 66.876264 \r\nL 67.384904 66.05238 \r\nL 68.607248 70.864737 \r\nL 69.829592 71.95755 \r\nL 71.051936 77.645776 \r\nL 72.27428 71.419156 \r\nL 73.496623 73.317112 \r\nL 74.718967 73.770955 \r\nL 75.941311 74.007015 \r\nL 77.163655 66.880643 \r\nL 78.385999 107.511073 \r\nL 79.608343 64.643795 \r\nL 80.830687 57.75446 \r\nL 82.053031 57.487442 \r\nL 83.275375 32.201761 \r\nL 84.497719 73.998096 \r\nL 85.720063 68.873056 \r\nL 86.942407 82.617064 \r\nL 88.16475 61.586834 \r\nL 89.387094 64.513174 \r\nL 90.609438 69.737911 \r\nL 91.831782 73.048307 \r\nL 93.054126 72.510559 \r\nL 94.27647 72.482887 \r\nL 95.498814 72.002586 \r\nL 96.721158 68.681756 \r\nL 97.943502 76.045802 \r\nL 99.165846 78.462793 \r\nL 100.38819 77.706182 \r\nL 101.610534 70.77762 \r\nL 102.832878 66.403672 \r\nL 105.277565 71.316129 \r\nL 106.499909 76.604536 \r\nL 107.722253 79.243562 \r\nL 108.944597 78.32105 \r\nL 110.166941 90.742608 \r\nL 111.389285 99.481066 \r\nL 112.611629 102.757906 \r\nL 113.833973 101.232425 \r\nL 115.056317 87.677177 \r\nL 116.278661 78.821826 \r\nL 117.501005 72.55035 \r\nL 118.723349 76.572075 \r\nL 119.945692 77.804859 \r\nL 121.168036 77.90507 \r\nL 122.39038 80.709508 \r\nL 123.612724 80.688005 \r\nL 124.835068 85.403127 \r\nL 126.057412 83.690727 \r\nL 127.279756 78.446783 \r\nL 128.5021 78.978044 \r\nL 129.724444 77.556976 \r\nL 130.946788 81.955521 \r\nL 132.169132 83.507384 \r\nL 133.391476 78.801987 \r\nL 134.613819 80.431468 \r\nL 135.836163 78.370872 \r\nL 137.058507 88.623097 \r\nL 138.280851 93.212688 \r\nL 139.503195 95.866843 \r\nL 140.725539 97.359386 \r\nL 141.947883 91.682677 \r\nL 143.170227 88.681601 \r\nL 144.392571 84.577363 \r\nL 145.614915 84.572959 \r\nL 146.837259 84.422205 \r\nL 148.059603 87.257785 \r\nL 149.281947 87.168229 \r\nL 150.50429 88.59926 \r\nL 151.726634 90.600026 \r\nL 152.948978 91.261131 \r\nL 154.171322 91.695757 \r\nL 155.393666 89.601353 \r\nL 156.61601 89.026557 \r\nL 157.838354 87.035628 \r\nL 159.060698 88.168375 \r\nL 160.283042 91.110583 \r\nL 161.505386 89.750082 \r\nL 162.72773 88.048845 \r\nL 163.950074 86.971047 \r\nL 165.172418 86.873238 \r\nL 166.394761 84.896941 \r\nL 168.839449 86.373756 \r\nL 170.061793 87.721093 \r\nL 171.284137 86.815225 \r\nL 172.506481 84.755632 \r\nL 173.728825 77.806987 \r\nL 174.951169 72.185934 \r\nL 176.173513 74.536751 \r\nL 177.395857 73.965295 \r\nL 178.618201 77.177038 \r\nL 179.840545 74.647436 \r\nL 181.062888 75.229683 \r\nL 182.285232 74.658382 \r\nL 183.507576 73.564416 \r\nL 184.72992 77.221991 \r\nL 185.952264 79.099668 \r\nL 188.396952 87.8123 \r\nL 189.619296 91.778177 \r\nL 190.84164 91.882203 \r\nL 192.063984 91.536465 \r\nL 193.286328 90.880981 \r\nL 194.508672 86.54171 \r\nL 195.731016 88.037446 \r\nL 196.953359 89.895035 \r\nL 198.175703 94.866616 \r\nL 199.398047 101.56647 \r\nL 200.620391 101.279542 \r\nL 201.842735 100.259473 \r\nL 203.065079 96.065456 \r\nL 205.509767 86.118773 \r\nL 206.732111 83.640008 \r\nL 207.954455 81.925058 \r\nL 209.176799 82.620711 \r\nL 210.399143 85.112576 \r\nL 212.84383 90.707202 \r\nL 214.066174 89.90508 \r\nL 215.288518 90.913708 \r\nL 216.510862 88.484554 \r\nL 217.733206 89.265418 \r\nL 218.95555 90.303752 \r\nL 220.177894 86.825993 \r\nL 221.400238 85.201008 \r\nL 222.622582 79.614519 \r\nL 223.844926 78.25625 \r\nL 225.06727 78.54984 \r\nL 226.289614 79.734439 \r\nL 227.511957 81.763702 \r\nL 228.734301 82.11638 \r\nL 229.956645 82.746378 \r\nL 231.178989 79.958495 \r\nL 232.401333 76.490281 \r\nL 233.623677 74.353974 \r\nL 234.846021 74.503172 \r\nL 237.290709 80.68245 \r\nL 238.513053 82.45273 \r\nL 239.735397 85.748281 \r\nL 240.957741 87.247655 \r\nL 242.180085 91.716271 \r\nL 243.402428 92.447718 \r\nL 245.847116 90.095158 \r\nL 247.06946 90.31164 \r\nL 248.291804 92.390228 \r\nL 249.514148 95.741494 \r\nL 250.736492 94.411824 \r\nL 251.958836 90.319333 \r\nL 253.18118 85.106178 \r\nL 254.403524 81.61129 \r\nL 255.625868 84.249228 \r\nL 256.848212 84.895674 \r\nL 258.070556 88.614219 \r\nL 259.292899 89.587132 \r\nL 260.515243 88.79088 \r\nL 261.737587 87.825987 \r\nL 262.959931 85.076422 \r\nL 264.182275 81.848886 \r\nL 265.404619 83.77575 \r\nL 266.626963 84.404573 \r\nL 267.849307 85.505645 \r\nL 269.071651 84.852205 \r\nL 270.293995 83.588228 \r\nL 271.516339 86.540476 \r\nL 272.738683 87.755173 \r\nL 273.961026 94.922563 \r\nL 275.18337 97.607717 \r\nL 276.405714 105.974752 \r\nL 277.628058 115.799279 \r\nL 278.850402 115.461127 \r\nL 280.072746 111.539252 \r\nL 281.29509 98.998088 \r\nL 282.517434 90.916605 \r\nL 283.739778 87.793487 \r\nL 284.962122 87.804445 \r\nL 286.184466 88.924195 \r\nL 287.40681 83.861375 \r\nL 288.629154 85.320322 \r\nL 289.851497 86.508356 \r\nL 292.296185 93.491817 \r\nL 293.518529 94.850095 \r\nL 295.963217 95.867396 \r\nL 297.185561 97.372916 \r\nL 298.407905 93.631105 \r\nL 299.630249 93.612762 \r\nL 300.852593 90.964606 \r\nL 302.074937 91.525765 \r\nL 303.297281 93.302466 \r\nL 304.519625 92.241213 \r\nL 305.741968 93.806735 \r\nL 306.964312 90.625764 \r\nL 308.186656 92.250149 \r\nL 309.409 91.952344 \r\nL 310.631344 92.811915 \r\nL 311.853688 91.616278 \r\nL 314.298376 93.134882 \r\nL 315.52072 91.230144 \r\nL 316.743064 89.908377 \r\nL 317.965408 85.020014 \r\nL 320.410095 81.305191 \r\nL 321.632439 85.675556 \r\nL 322.854783 88.487199 \r\nL 324.077127 90.015239 \r\nL 325.299471 89.768796 \r\nL 326.521815 87.607023 \r\nL 327.744159 87.42852 \r\nL 328.966503 88.540527 \r\nL 330.188847 93.789496 \r\nL 331.411191 125.585007 \r\nL 332.633535 197.965932 \r\nL 333.855879 203.123091 \r\nL 335.078223 205.991587 \r\nL 336.300566 184.234917 \r\nL 337.52291 164.886165 \r\nL 338.745254 160.565177 \r\nL 339.967598 155.514929 \r\nL 341.189942 163.625977 \r\nL 342.412286 174.505382 \r\nL 343.63463 177.80841 \r\nL 344.856974 182.723408 \r\nL 346.079318 181.351105 \r\nL 347.301662 176.572428 \r\nL 348.524006 175.565643 \r\nL 348.524006 175.565643 \r\n\" style=\"fill:none;stroke:#1f77b4;stroke-linecap:square;stroke-width:1.5;\"/>\r\n   </g>\r\n   <g id=\"line2d_13\">\r\n    <path clip-path=\"url(#pd9effa1ff0)\" d=\"M 44.160369 68.320421 \r\nL 45.382713 64.81785 \r\nL 46.605057 62.996952 \r\nL 47.827401 62.462175 \r\nL 49.049745 62.815875 \r\nL 50.272089 64.363134 \r\nL 51.494433 74.46038 \r\nL 52.716777 76.050542 \r\nL 53.939121 63.900702 \r\nL 55.161465 61.530738 \r\nL 56.383809 54.801758 \r\nL 57.606152 54.693778 \r\nL 58.828496 69.089177 \r\nL 60.05084 72.908173 \r\nL 61.273184 75.664271 \r\nL 62.495528 76.003403 \r\nL 63.717872 71.493308 \r\nL 64.940216 69.668463 \r\nL 66.16256 66.652977 \r\nL 67.384904 67.415083 \r\nL 68.607248 70.718216 \r\nL 69.829592 73.687709 \r\nL 71.051936 73.777589 \r\nL 72.27428 72.762293 \r\nL 73.496623 74.316058 \r\nL 74.718967 73.685073 \r\nL 75.941311 69.492811 \r\nL 77.163655 88.791824 \r\nL 78.385999 84.298294 \r\nL 79.608343 57.291185 \r\nL 80.830687 64.195923 \r\nL 82.053031 45.339251 \r\nL 83.275375 46.355517 \r\nL 84.497719 73.8665 \r\nL 85.720063 70.013457 \r\nL 86.942407 68.628824 \r\nL 88.16475 70.587594 \r\nL 89.387094 67.460893 \r\nL 90.609438 70.047209 \r\nL 91.831782 73.201142 \r\nL 93.054126 71.102607 \r\nL 94.27647 72.289625 \r\nL 95.498814 71.08386 \r\nL 96.721158 71.74723 \r\nL 97.943502 77.373307 \r\nL 99.165846 77.216392 \r\nL 101.610534 69.824966 \r\nL 102.832878 68.103717 \r\nL 104.055221 69.164277 \r\nL 105.277565 72.815084 \r\nL 106.499909 76.97632 \r\nL 107.722253 78.253882 \r\nL 108.944597 85.230572 \r\nL 110.166941 96.06161 \r\nL 111.389285 100.337276 \r\nL 112.611629 102.411763 \r\nL 113.833973 96.465816 \r\nL 115.056317 84.13706 \r\nL 116.278661 76.764957 \r\nL 117.501005 74.120024 \r\nL 118.723349 74.168872 \r\nL 119.945692 75.373264 \r\nL 121.168036 78.26247 \r\nL 122.39038 80.254251 \r\nL 123.612724 82.91721 \r\nL 124.835068 84.810838 \r\nL 126.057412 80.910781 \r\nL 127.279756 79.152556 \r\nL 129.724444 78.713318 \r\nL 130.946788 81.901738 \r\nL 133.391476 79.077451 \r\nL 134.613819 80.121005 \r\nL 135.836163 83.30655 \r\nL 137.058507 90.159491 \r\nL 138.280851 93.971785 \r\nL 139.503195 96.579256 \r\nL 140.725539 95.584138 \r\nL 141.947883 90.823566 \r\nL 143.170227 87.251182 \r\nL 144.392571 84.573697 \r\nL 145.614915 83.290889 \r\nL 148.059603 86.23117 \r\nL 149.281947 87.037833 \r\nL 150.50429 89.616894 \r\nL 151.726634 90.972875 \r\nL 152.948978 91.179293 \r\nL 154.171322 90.876523 \r\nL 156.61601 87.851883 \r\nL 157.838354 87.409988 \r\nL 159.060698 89.210955 \r\nL 160.283042 89.609515 \r\nL 161.505386 88.210613 \r\nL 162.72773 87.704652 \r\nL 163.950074 86.95866 \r\nL 165.172418 85.237797 \r\nL 166.394761 84.883952 \r\nL 167.617105 85.705316 \r\nL 168.839449 86.310413 \r\nL 170.061793 86.722027 \r\nL 171.284137 85.592345 \r\nL 172.506481 81.017701 \r\nL 173.728825 74.904083 \r\nL 174.951169 73.46656 \r\nL 176.173513 73.302259 \r\nL 177.395857 73.666492 \r\nL 178.618201 75.046261 \r\nL 179.840545 74.532706 \r\nL 181.062888 74.70291 \r\nL 182.285232 74.193639 \r\nL 183.507576 75.12499 \r\nL 185.952264 80.874208 \r\nL 188.396952 89.990607 \r\nL 189.619296 91.875395 \r\nL 190.84164 92.217242 \r\nL 192.063984 92.082162 \r\nL 193.286328 88.892372 \r\nL 194.508672 87.228946 \r\nL 195.731016 89.051578 \r\nL 196.953359 91.426462 \r\nL 198.175703 97.322025 \r\nL 199.398047 101.191875 \r\nL 200.620391 100.504071 \r\nL 201.842735 99.105839 \r\nL 203.065079 94.457848 \r\nL 204.287423 88.341256 \r\nL 205.509767 84.669049 \r\nL 206.732111 81.839664 \r\nL 207.954455 80.624723 \r\nL 209.176799 82.797705 \r\nL 211.621487 88.458689 \r\nL 212.84383 90.237735 \r\nL 214.066174 90.656383 \r\nL 215.288518 90.053948 \r\nL 216.510862 89.10419 \r\nL 217.733206 89.778292 \r\nL 218.95555 88.062932 \r\nL 220.177894 85.375776 \r\nL 221.400238 82.391114 \r\nL 222.622582 78.499223 \r\nL 223.844926 77.763635 \r\nL 225.06727 78.364923 \r\nL 226.289614 79.456558 \r\nL 227.511957 81.271823 \r\nL 228.734301 82.187715 \r\nL 229.956645 81.144084 \r\nL 232.401333 75.573139 \r\nL 233.623677 74.220285 \r\nL 234.846021 75.364167 \r\nL 236.068365 78.240326 \r\nL 237.290709 80.699173 \r\nL 239.735397 86.776329 \r\nL 242.180085 92.38123 \r\nL 243.402428 92.019316 \r\nL 244.624772 90.974825 \r\nL 245.847116 90.77511 \r\nL 247.06946 91.188778 \r\nL 248.291804 93.537481 \r\nL 249.514148 94.555272 \r\nL 250.736492 91.82481 \r\nL 253.18118 83.705099 \r\nL 254.403524 82.481213 \r\nL 255.625868 83.584603 \r\nL 256.848212 85.36365 \r\nL 258.070556 88.283516 \r\nL 259.292899 88.912551 \r\nL 260.515243 88.266049 \r\nL 261.737587 86.891789 \r\nL 262.959931 83.443035 \r\nL 264.182275 82.616021 \r\nL 265.404619 83.775999 \r\nL 266.626963 83.745151 \r\nL 267.849307 84.452748 \r\nL 269.071651 84.194398 \r\nL 270.293995 84.857383 \r\nL 271.516339 87.087061 \r\nL 272.738683 91.035212 \r\nL 273.961026 95.923907 \r\nL 275.18337 101.777838 \r\nL 276.405714 111.41238 \r\nL 277.628058 115.911253 \r\nL 278.850402 113.757053 \r\nL 280.072746 107.067841 \r\nL 281.29509 96.310012 \r\nL 282.517434 89.43833 \r\nL 283.739778 86.742279 \r\nL 284.962122 85.713536 \r\nL 286.184466 84.098277 \r\nL 287.40681 83.62548 \r\nL 289.851497 87.579721 \r\nL 291.073841 91.163279 \r\nL 292.296185 94.150122 \r\nL 293.518529 94.994755 \r\nL 295.963217 97.169562 \r\nL 298.407905 93.518002 \r\nL 299.630249 92.529527 \r\nL 300.852593 90.654879 \r\nL 302.074937 91.791298 \r\nL 303.297281 92.271198 \r\nL 305.741968 92.081073 \r\nL 306.964312 91.367242 \r\nL 308.186656 91.854639 \r\nL 309.409 92.098874 \r\nL 310.631344 91.680507 \r\nL 311.853688 91.767487 \r\nL 313.076032 92.610642 \r\nL 314.298376 91.696832 \r\nL 315.52072 90.195303 \r\nL 316.743064 87.430638 \r\nL 317.965408 83.747745 \r\nL 319.187752 81.850701 \r\nL 320.410095 82.899879 \r\nL 321.632439 85.977019 \r\nL 322.854783 88.170925 \r\nL 324.077127 89.526679 \r\nL 325.299471 88.991468 \r\nL 326.521815 87.812344 \r\nL 327.744159 88.226158 \r\nL 328.966503 90.973142 \r\nL 330.188847 109.723075 \r\nL 331.411191 162.553292 \r\nL 331.411191 162.553292 \r\n\" style=\"fill:none;stroke:#ff7f0e;stroke-linecap:square;stroke-width:1.5;\"/>\r\n   </g>\r\n   <g id=\"patch_3\">\r\n    <path d=\"M 28.942188 239.758125 \r\nL 28.942188 22.318125 \r\n\" style=\"fill:none;stroke:#000000;stroke-linecap:square;stroke-linejoin:miter;stroke-width:0.8;\"/>\r\n   </g>\r\n   <g id=\"patch_4\">\r\n    <path d=\"M 363.742188 239.758125 \r\nL 363.742188 22.318125 \r\n\" style=\"fill:none;stroke:#000000;stroke-linecap:square;stroke-linejoin:miter;stroke-width:0.8;\"/>\r\n   </g>\r\n   <g id=\"patch_5\">\r\n    <path d=\"M 28.942187 239.758125 \r\nL 363.742188 239.758125 \r\n\" style=\"fill:none;stroke:#000000;stroke-linecap:square;stroke-linejoin:miter;stroke-width:0.8;\"/>\r\n   </g>\r\n   <g id=\"patch_6\">\r\n    <path d=\"M 28.942187 22.318125 \r\nL 363.742188 22.318125 \r\n\" style=\"fill:none;stroke:#000000;stroke-linecap:square;stroke-linejoin:miter;stroke-width:0.8;\"/>\r\n   </g>\r\n   <g id=\"text_12\">\r\n    <!-- Prédiction, France, modèle ARIMA(6,1,1) -->\r\n    <g transform=\"translate(75.402813 16.318125)scale(0.12 -0.12)\">\r\n     <defs>\r\n      <path d=\"M 19.671875 64.796875 \r\nL 19.671875 37.40625 \r\nL 32.078125 37.40625 \r\nQ 38.96875 37.40625 42.71875 40.96875 \r\nQ 46.484375 44.53125 46.484375 51.125 \r\nQ 46.484375 57.671875 42.71875 61.234375 \r\nQ 38.96875 64.796875 32.078125 64.796875 \r\nz\r\nM 9.8125 72.90625 \r\nL 32.078125 72.90625 \r\nQ 44.34375 72.90625 50.609375 67.359375 \r\nQ 56.890625 61.8125 56.890625 51.125 \r\nQ 56.890625 40.328125 50.609375 34.8125 \r\nQ 44.34375 29.296875 32.078125 29.296875 \r\nL 19.671875 29.296875 \r\nL 19.671875 0 \r\nL 9.8125 0 \r\nz\r\n\" id=\"DejaVuSans-80\"/>\r\n      <path d=\"M 41.109375 46.296875 \r\nQ 39.59375 47.171875 37.8125 47.578125 \r\nQ 36.03125 48 33.890625 48 \r\nQ 26.265625 48 22.1875 43.046875 \r\nQ 18.109375 38.09375 18.109375 28.8125 \r\nL 18.109375 0 \r\nL 9.078125 0 \r\nL 9.078125 54.6875 \r\nL 18.109375 54.6875 \r\nL 18.109375 46.1875 \r\nQ 20.953125 51.171875 25.484375 53.578125 \r\nQ 30.03125 56 36.53125 56 \r\nQ 37.453125 56 38.578125 55.875 \r\nQ 39.703125 55.765625 41.0625 55.515625 \r\nz\r\n\" id=\"DejaVuSans-114\"/>\r\n      <path d=\"M 56.203125 29.59375 \r\nL 56.203125 25.203125 \r\nL 14.890625 25.203125 \r\nQ 15.484375 15.921875 20.484375 11.0625 \r\nQ 25.484375 6.203125 34.421875 6.203125 \r\nQ 39.59375 6.203125 44.453125 7.46875 \r\nQ 49.3125 8.734375 54.109375 11.28125 \r\nL 54.109375 2.78125 \r\nQ 49.265625 0.734375 44.1875 -0.34375 \r\nQ 39.109375 -1.421875 33.890625 -1.421875 \r\nQ 20.796875 -1.421875 13.15625 6.1875 \r\nQ 5.515625 13.8125 5.515625 26.8125 \r\nQ 5.515625 40.234375 12.765625 48.109375 \r\nQ 20.015625 56 32.328125 56 \r\nQ 43.359375 56 49.78125 48.890625 \r\nQ 56.203125 41.796875 56.203125 29.59375 \r\nz\r\nM 47.21875 32.234375 \r\nQ 47.125 39.59375 43.09375 43.984375 \r\nQ 39.0625 48.390625 32.421875 48.390625 \r\nQ 24.90625 48.390625 20.390625 44.140625 \r\nQ 15.875 39.890625 15.1875 32.171875 \r\nz\r\nM 38.53125 79.984375 \r\nL 48.25 79.984375 \r\nL 32.34375 61.625 \r\nL 24.859375 61.625 \r\nz\r\n\" id=\"DejaVuSans-233\"/>\r\n      <path d=\"M 45.40625 46.390625 \r\nL 45.40625 75.984375 \r\nL 54.390625 75.984375 \r\nL 54.390625 0 \r\nL 45.40625 0 \r\nL 45.40625 8.203125 \r\nQ 42.578125 3.328125 38.25 0.953125 \r\nQ 33.9375 -1.421875 27.875 -1.421875 \r\nQ 17.96875 -1.421875 11.734375 6.484375 \r\nQ 5.515625 14.40625 5.515625 27.296875 \r\nQ 5.515625 40.1875 11.734375 48.09375 \r\nQ 17.96875 56 27.875 56 \r\nQ 33.9375 56 38.25 53.625 \r\nQ 42.578125 51.265625 45.40625 46.390625 \r\nz\r\nM 14.796875 27.296875 \r\nQ 14.796875 17.390625 18.875 11.75 \r\nQ 22.953125 6.109375 30.078125 6.109375 \r\nQ 37.203125 6.109375 41.296875 11.75 \r\nQ 45.40625 17.390625 45.40625 27.296875 \r\nQ 45.40625 37.203125 41.296875 42.84375 \r\nQ 37.203125 48.484375 30.078125 48.484375 \r\nQ 22.953125 48.484375 18.875 42.84375 \r\nQ 14.796875 37.203125 14.796875 27.296875 \r\nz\r\n\" id=\"DejaVuSans-100\"/>\r\n      <path d=\"M 9.421875 54.6875 \r\nL 18.40625 54.6875 \r\nL 18.40625 0 \r\nL 9.421875 0 \r\nz\r\nM 9.421875 75.984375 \r\nL 18.40625 75.984375 \r\nL 18.40625 64.59375 \r\nL 9.421875 64.59375 \r\nz\r\n\" id=\"DejaVuSans-105\"/>\r\n      <path d=\"M 48.78125 52.59375 \r\nL 48.78125 44.1875 \r\nQ 44.96875 46.296875 41.140625 47.34375 \r\nQ 37.3125 48.390625 33.40625 48.390625 \r\nQ 24.65625 48.390625 19.8125 42.84375 \r\nQ 14.984375 37.3125 14.984375 27.296875 \r\nQ 14.984375 17.28125 19.8125 11.734375 \r\nQ 24.65625 6.203125 33.40625 6.203125 \r\nQ 37.3125 6.203125 41.140625 7.25 \r\nQ 44.96875 8.296875 48.78125 10.40625 \r\nL 48.78125 2.09375 \r\nQ 45.015625 0.34375 40.984375 -0.53125 \r\nQ 36.96875 -1.421875 32.421875 -1.421875 \r\nQ 20.0625 -1.421875 12.78125 6.34375 \r\nQ 5.515625 14.109375 5.515625 27.296875 \r\nQ 5.515625 40.671875 12.859375 48.328125 \r\nQ 20.21875 56 33.015625 56 \r\nQ 37.15625 56 41.109375 55.140625 \r\nQ 45.0625 54.296875 48.78125 52.59375 \r\nz\r\n\" id=\"DejaVuSans-99\"/>\r\n      <path d=\"M 18.3125 70.21875 \r\nL 18.3125 54.6875 \r\nL 36.8125 54.6875 \r\nL 36.8125 47.703125 \r\nL 18.3125 47.703125 \r\nL 18.3125 18.015625 \r\nQ 18.3125 11.328125 20.140625 9.421875 \r\nQ 21.96875 7.515625 27.59375 7.515625 \r\nL 36.8125 7.515625 \r\nL 36.8125 0 \r\nL 27.59375 0 \r\nQ 17.1875 0 13.234375 3.875 \r\nQ 9.28125 7.765625 9.28125 18.015625 \r\nL 9.28125 47.703125 \r\nL 2.6875 47.703125 \r\nL 2.6875 54.6875 \r\nL 9.28125 54.6875 \r\nL 9.28125 70.21875 \r\nz\r\n\" id=\"DejaVuSans-116\"/>\r\n      <path d=\"M 30.609375 48.390625 \r\nQ 23.390625 48.390625 19.1875 42.75 \r\nQ 14.984375 37.109375 14.984375 27.296875 \r\nQ 14.984375 17.484375 19.15625 11.84375 \r\nQ 23.34375 6.203125 30.609375 6.203125 \r\nQ 37.796875 6.203125 41.984375 11.859375 \r\nQ 46.1875 17.53125 46.1875 27.296875 \r\nQ 46.1875 37.015625 41.984375 42.703125 \r\nQ 37.796875 48.390625 30.609375 48.390625 \r\nz\r\nM 30.609375 56 \r\nQ 42.328125 56 49.015625 48.375 \r\nQ 55.71875 40.765625 55.71875 27.296875 \r\nQ 55.71875 13.875 49.015625 6.21875 \r\nQ 42.328125 -1.421875 30.609375 -1.421875 \r\nQ 18.84375 -1.421875 12.171875 6.21875 \r\nQ 5.515625 13.875 5.515625 27.296875 \r\nQ 5.515625 40.765625 12.171875 48.375 \r\nQ 18.84375 56 30.609375 56 \r\nz\r\n\" id=\"DejaVuSans-111\"/>\r\n      <path d=\"M 54.890625 33.015625 \r\nL 54.890625 0 \r\nL 45.90625 0 \r\nL 45.90625 32.71875 \r\nQ 45.90625 40.484375 42.875 44.328125 \r\nQ 39.84375 48.1875 33.796875 48.1875 \r\nQ 26.515625 48.1875 22.3125 43.546875 \r\nQ 18.109375 38.921875 18.109375 30.90625 \r\nL 18.109375 0 \r\nL 9.078125 0 \r\nL 9.078125 54.6875 \r\nL 18.109375 54.6875 \r\nL 18.109375 46.1875 \r\nQ 21.34375 51.125 25.703125 53.5625 \r\nQ 30.078125 56 35.796875 56 \r\nQ 45.21875 56 50.046875 50.171875 \r\nQ 54.890625 44.34375 54.890625 33.015625 \r\nz\r\n\" id=\"DejaVuSans-110\"/>\r\n      <path d=\"M 11.71875 12.40625 \r\nL 22.015625 12.40625 \r\nL 22.015625 4 \r\nL 14.015625 -11.625 \r\nL 7.71875 -11.625 \r\nL 11.71875 4 \r\nz\r\n\" id=\"DejaVuSans-44\"/>\r\n      <path id=\"DejaVuSans-32\"/>\r\n      <path d=\"M 9.8125 72.90625 \r\nL 51.703125 72.90625 \r\nL 51.703125 64.59375 \r\nL 19.671875 64.59375 \r\nL 19.671875 43.109375 \r\nL 48.578125 43.109375 \r\nL 48.578125 34.8125 \r\nL 19.671875 34.8125 \r\nL 19.671875 0 \r\nL 9.8125 0 \r\nz\r\n\" id=\"DejaVuSans-70\"/>\r\n      <path d=\"M 34.28125 27.484375 \r\nQ 23.390625 27.484375 19.1875 25 \r\nQ 14.984375 22.515625 14.984375 16.5 \r\nQ 14.984375 11.71875 18.140625 8.90625 \r\nQ 21.296875 6.109375 26.703125 6.109375 \r\nQ 34.1875 6.109375 38.703125 11.40625 \r\nQ 43.21875 16.703125 43.21875 25.484375 \r\nL 43.21875 27.484375 \r\nz\r\nM 52.203125 31.203125 \r\nL 52.203125 0 \r\nL 43.21875 0 \r\nL 43.21875 8.296875 \r\nQ 40.140625 3.328125 35.546875 0.953125 \r\nQ 30.953125 -1.421875 24.3125 -1.421875 \r\nQ 15.921875 -1.421875 10.953125 3.296875 \r\nQ 6 8.015625 6 15.921875 \r\nQ 6 25.140625 12.171875 29.828125 \r\nQ 18.359375 34.515625 30.609375 34.515625 \r\nL 43.21875 34.515625 \r\nL 43.21875 35.40625 \r\nQ 43.21875 41.609375 39.140625 45 \r\nQ 35.0625 48.390625 27.6875 48.390625 \r\nQ 23 48.390625 18.546875 47.265625 \r\nQ 14.109375 46.140625 10.015625 43.890625 \r\nL 10.015625 52.203125 \r\nQ 14.9375 54.109375 19.578125 55.046875 \r\nQ 24.21875 56 28.609375 56 \r\nQ 40.484375 56 46.34375 49.84375 \r\nQ 52.203125 43.703125 52.203125 31.203125 \r\nz\r\n\" id=\"DejaVuSans-97\"/>\r\n      <path d=\"M 56.203125 29.59375 \r\nL 56.203125 25.203125 \r\nL 14.890625 25.203125 \r\nQ 15.484375 15.921875 20.484375 11.0625 \r\nQ 25.484375 6.203125 34.421875 6.203125 \r\nQ 39.59375 6.203125 44.453125 7.46875 \r\nQ 49.3125 8.734375 54.109375 11.28125 \r\nL 54.109375 2.78125 \r\nQ 49.265625 0.734375 44.1875 -0.34375 \r\nQ 39.109375 -1.421875 33.890625 -1.421875 \r\nQ 20.796875 -1.421875 13.15625 6.1875 \r\nQ 5.515625 13.8125 5.515625 26.8125 \r\nQ 5.515625 40.234375 12.765625 48.109375 \r\nQ 20.015625 56 32.328125 56 \r\nQ 43.359375 56 49.78125 48.890625 \r\nQ 56.203125 41.796875 56.203125 29.59375 \r\nz\r\nM 47.21875 32.234375 \r\nQ 47.125 39.59375 43.09375 43.984375 \r\nQ 39.0625 48.390625 32.421875 48.390625 \r\nQ 24.90625 48.390625 20.390625 44.140625 \r\nQ 15.875 39.890625 15.1875 32.171875 \r\nz\r\n\" id=\"DejaVuSans-101\"/>\r\n      <path d=\"M 52 44.1875 \r\nQ 55.375 50.25 60.0625 53.125 \r\nQ 64.75 56 71.09375 56 \r\nQ 79.640625 56 84.28125 50.015625 \r\nQ 88.921875 44.046875 88.921875 33.015625 \r\nL 88.921875 0 \r\nL 79.890625 0 \r\nL 79.890625 32.71875 \r\nQ 79.890625 40.578125 77.09375 44.375 \r\nQ 74.3125 48.1875 68.609375 48.1875 \r\nQ 61.625 48.1875 57.5625 43.546875 \r\nQ 53.515625 38.921875 53.515625 30.90625 \r\nL 53.515625 0 \r\nL 44.484375 0 \r\nL 44.484375 32.71875 \r\nQ 44.484375 40.625 41.703125 44.40625 \r\nQ 38.921875 48.1875 33.109375 48.1875 \r\nQ 26.21875 48.1875 22.15625 43.53125 \r\nQ 18.109375 38.875 18.109375 30.90625 \r\nL 18.109375 0 \r\nL 9.078125 0 \r\nL 9.078125 54.6875 \r\nL 18.109375 54.6875 \r\nL 18.109375 46.1875 \r\nQ 21.1875 51.21875 25.484375 53.609375 \r\nQ 29.78125 56 35.6875 56 \r\nQ 41.65625 56 45.828125 52.96875 \r\nQ 50 49.953125 52 44.1875 \r\nz\r\n\" id=\"DejaVuSans-109\"/>\r\n      <path d=\"M 56.203125 29.59375 \r\nL 56.203125 25.203125 \r\nL 14.890625 25.203125 \r\nQ 15.484375 15.921875 20.484375 11.0625 \r\nQ 25.484375 6.203125 34.421875 6.203125 \r\nQ 39.59375 6.203125 44.453125 7.46875 \r\nQ 49.3125 8.734375 54.109375 11.28125 \r\nL 54.109375 2.78125 \r\nQ 49.265625 0.734375 44.1875 -0.34375 \r\nQ 39.109375 -1.421875 33.890625 -1.421875 \r\nQ 20.796875 -1.421875 13.15625 6.1875 \r\nQ 5.515625 13.8125 5.515625 26.8125 \r\nQ 5.515625 40.234375 12.765625 48.109375 \r\nQ 20.015625 56 32.328125 56 \r\nQ 43.359375 56 49.78125 48.890625 \r\nQ 56.203125 41.796875 56.203125 29.59375 \r\nz\r\nM 47.21875 32.234375 \r\nQ 47.125 39.59375 43.09375 43.984375 \r\nQ 39.0625 48.390625 32.421875 48.390625 \r\nQ 24.90625 48.390625 20.390625 44.140625 \r\nQ 15.875 39.890625 15.1875 32.171875 \r\nz\r\nM 24.671875 79.984375 \r\nL 38.4375 61.71875 \r\nL 30.96875 61.71875 \r\nL 15.046875 79.984375 \r\nz\r\n\" id=\"DejaVuSans-232\"/>\r\n      <path d=\"M 9.421875 75.984375 \r\nL 18.40625 75.984375 \r\nL 18.40625 0 \r\nL 9.421875 0 \r\nz\r\n\" id=\"DejaVuSans-108\"/>\r\n      <path d=\"M 34.1875 63.1875 \r\nL 20.796875 26.90625 \r\nL 47.609375 26.90625 \r\nz\r\nM 28.609375 72.90625 \r\nL 39.796875 72.90625 \r\nL 67.578125 0 \r\nL 57.328125 0 \r\nL 50.6875 18.703125 \r\nL 17.828125 18.703125 \r\nL 11.1875 0 \r\nL 0.78125 0 \r\nz\r\n\" id=\"DejaVuSans-65\"/>\r\n      <path d=\"M 44.390625 34.1875 \r\nQ 47.5625 33.109375 50.5625 29.59375 \r\nQ 53.5625 26.078125 56.59375 19.921875 \r\nL 66.609375 0 \r\nL 56 0 \r\nL 46.6875 18.703125 \r\nQ 43.0625 26.03125 39.671875 28.421875 \r\nQ 36.28125 30.8125 30.421875 30.8125 \r\nL 19.671875 30.8125 \r\nL 19.671875 0 \r\nL 9.8125 0 \r\nL 9.8125 72.90625 \r\nL 32.078125 72.90625 \r\nQ 44.578125 72.90625 50.734375 67.671875 \r\nQ 56.890625 62.453125 56.890625 51.90625 \r\nQ 56.890625 45.015625 53.6875 40.46875 \r\nQ 50.484375 35.9375 44.390625 34.1875 \r\nz\r\nM 19.671875 64.796875 \r\nL 19.671875 38.921875 \r\nL 32.078125 38.921875 \r\nQ 39.203125 38.921875 42.84375 42.21875 \r\nQ 46.484375 45.515625 46.484375 51.90625 \r\nQ 46.484375 58.296875 42.84375 61.546875 \r\nQ 39.203125 64.796875 32.078125 64.796875 \r\nz\r\n\" id=\"DejaVuSans-82\"/>\r\n      <path d=\"M 9.8125 72.90625 \r\nL 19.671875 72.90625 \r\nL 19.671875 0 \r\nL 9.8125 0 \r\nz\r\n\" id=\"DejaVuSans-73\"/>\r\n      <path d=\"M 9.8125 72.90625 \r\nL 24.515625 72.90625 \r\nL 43.109375 23.296875 \r\nL 61.8125 72.90625 \r\nL 76.515625 72.90625 \r\nL 76.515625 0 \r\nL 66.890625 0 \r\nL 66.890625 64.015625 \r\nL 48.09375 14.015625 \r\nL 38.1875 14.015625 \r\nL 19.390625 64.015625 \r\nL 19.390625 0 \r\nL 9.8125 0 \r\nz\r\n\" id=\"DejaVuSans-77\"/>\r\n      <path d=\"M 31 75.875 \r\nQ 24.46875 64.65625 21.28125 53.65625 \r\nQ 18.109375 42.671875 18.109375 31.390625 \r\nQ 18.109375 20.125 21.3125 9.0625 \r\nQ 24.515625 -2 31 -13.1875 \r\nL 23.1875 -13.1875 \r\nQ 15.875 -1.703125 12.234375 9.375 \r\nQ 8.59375 20.453125 8.59375 31.390625 \r\nQ 8.59375 42.28125 12.203125 53.3125 \r\nQ 15.828125 64.359375 23.1875 75.875 \r\nz\r\n\" id=\"DejaVuSans-40\"/>\r\n      <path d=\"M 8.015625 75.875 \r\nL 15.828125 75.875 \r\nQ 23.140625 64.359375 26.78125 53.3125 \r\nQ 30.421875 42.28125 30.421875 31.390625 \r\nQ 30.421875 20.453125 26.78125 9.375 \r\nQ 23.140625 -1.703125 15.828125 -13.1875 \r\nL 8.015625 -13.1875 \r\nQ 14.5 -2 17.703125 9.0625 \r\nQ 20.90625 20.125 20.90625 31.390625 \r\nQ 20.90625 42.671875 17.703125 53.65625 \r\nQ 14.5 64.65625 8.015625 75.875 \r\nz\r\n\" id=\"DejaVuSans-41\"/>\r\n     </defs>\r\n     <use xlink:href=\"#DejaVuSans-80\"/>\r\n     <use x=\"58.552734\" xlink:href=\"#DejaVuSans-114\"/>\r\n     <use x=\"97.416016\" xlink:href=\"#DejaVuSans-233\"/>\r\n     <use x=\"158.939453\" xlink:href=\"#DejaVuSans-100\"/>\r\n     <use x=\"222.416016\" xlink:href=\"#DejaVuSans-105\"/>\r\n     <use x=\"250.199219\" xlink:href=\"#DejaVuSans-99\"/>\r\n     <use x=\"305.179688\" xlink:href=\"#DejaVuSans-116\"/>\r\n     <use x=\"344.388672\" xlink:href=\"#DejaVuSans-105\"/>\r\n     <use x=\"372.171875\" xlink:href=\"#DejaVuSans-111\"/>\r\n     <use x=\"433.353516\" xlink:href=\"#DejaVuSans-110\"/>\r\n     <use x=\"496.732422\" xlink:href=\"#DejaVuSans-44\"/>\r\n     <use x=\"528.519531\" xlink:href=\"#DejaVuSans-32\"/>\r\n     <use x=\"560.306641\" xlink:href=\"#DejaVuSans-70\"/>\r\n     <use x=\"610.576172\" xlink:href=\"#DejaVuSans-114\"/>\r\n     <use x=\"651.689453\" xlink:href=\"#DejaVuSans-97\"/>\r\n     <use x=\"712.96875\" xlink:href=\"#DejaVuSans-110\"/>\r\n     <use x=\"776.347656\" xlink:href=\"#DejaVuSans-99\"/>\r\n     <use x=\"831.328125\" xlink:href=\"#DejaVuSans-101\"/>\r\n     <use x=\"892.851562\" xlink:href=\"#DejaVuSans-44\"/>\r\n     <use x=\"924.638672\" xlink:href=\"#DejaVuSans-32\"/>\r\n     <use x=\"956.425781\" xlink:href=\"#DejaVuSans-109\"/>\r\n     <use x=\"1053.837891\" xlink:href=\"#DejaVuSans-111\"/>\r\n     <use x=\"1115.019531\" xlink:href=\"#DejaVuSans-100\"/>\r\n     <use x=\"1178.496094\" xlink:href=\"#DejaVuSans-232\"/>\r\n     <use x=\"1240.019531\" xlink:href=\"#DejaVuSans-108\"/>\r\n     <use x=\"1267.802734\" xlink:href=\"#DejaVuSans-101\"/>\r\n     <use x=\"1329.326172\" xlink:href=\"#DejaVuSans-32\"/>\r\n     <use x=\"1361.113281\" xlink:href=\"#DejaVuSans-65\"/>\r\n     <use x=\"1429.521484\" xlink:href=\"#DejaVuSans-82\"/>\r\n     <use x=\"1499.003906\" xlink:href=\"#DejaVuSans-73\"/>\r\n     <use x=\"1528.496094\" xlink:href=\"#DejaVuSans-77\"/>\r\n     <use x=\"1614.775391\" xlink:href=\"#DejaVuSans-65\"/>\r\n     <use x=\"1683.183594\" xlink:href=\"#DejaVuSans-40\"/>\r\n     <use x=\"1722.197266\" xlink:href=\"#DejaVuSans-54\"/>\r\n     <use x=\"1785.820312\" xlink:href=\"#DejaVuSans-44\"/>\r\n     <use x=\"1817.607422\" xlink:href=\"#DejaVuSans-49\"/>\r\n     <use x=\"1881.230469\" xlink:href=\"#DejaVuSans-44\"/>\r\n     <use x=\"1913.017578\" xlink:href=\"#DejaVuSans-49\"/>\r\n     <use x=\"1976.640625\" xlink:href=\"#DejaVuSans-41\"/>\r\n    </g>\r\n   </g>\r\n   <g id=\"legend_1\">\r\n    <g id=\"patch_7\">\r\n     <path d=\"M 35.942188 234.758125 \r\nL 189.39375 234.758125 \r\nQ 191.39375 234.758125 191.39375 232.758125 \r\nL 191.39375 189.72375 \r\nQ 191.39375 187.72375 189.39375 187.72375 \r\nL 35.942188 187.72375 \r\nQ 33.942188 187.72375 33.942188 189.72375 \r\nL 33.942188 232.758125 \r\nQ 33.942188 234.758125 35.942188 234.758125 \r\nz\r\n\" style=\"fill:#ffffff;opacity:0.8;stroke:#cccccc;stroke-linejoin:miter;\"/>\r\n    </g>\r\n    <g id=\"line2d_14\">\r\n     <path d=\"M 37.942188 195.822188 \r\nL 57.942188 195.822188 \r\n\" style=\"fill:none;stroke:#1f77b4;stroke-linecap:square;stroke-width:1.5;\"/>\r\n    </g>\r\n    <g id=\"line2d_15\"/>\r\n    <g id=\"text_13\">\r\n     <!-- forecast -->\r\n     <g transform=\"translate(65.942188 199.322188)scale(0.1 -0.1)\">\r\n      <defs>\r\n       <path d=\"M 37.109375 75.984375 \r\nL 37.109375 68.5 \r\nL 28.515625 68.5 \r\nQ 23.6875 68.5 21.796875 66.546875 \r\nQ 19.921875 64.59375 19.921875 59.515625 \r\nL 19.921875 54.6875 \r\nL 34.71875 54.6875 \r\nL 34.71875 47.703125 \r\nL 19.921875 47.703125 \r\nL 19.921875 0 \r\nL 10.890625 0 \r\nL 10.890625 47.703125 \r\nL 2.296875 47.703125 \r\nL 2.296875 54.6875 \r\nL 10.890625 54.6875 \r\nL 10.890625 58.5 \r\nQ 10.890625 67.625 15.140625 71.796875 \r\nQ 19.390625 75.984375 28.609375 75.984375 \r\nz\r\n\" id=\"DejaVuSans-102\"/>\r\n       <path d=\"M 44.28125 53.078125 \r\nL 44.28125 44.578125 \r\nQ 40.484375 46.53125 36.375 47.5 \r\nQ 32.28125 48.484375 27.875 48.484375 \r\nQ 21.1875 48.484375 17.84375 46.4375 \r\nQ 14.5 44.390625 14.5 40.28125 \r\nQ 14.5 37.15625 16.890625 35.375 \r\nQ 19.28125 33.59375 26.515625 31.984375 \r\nL 29.59375 31.296875 \r\nQ 39.15625 29.25 43.1875 25.515625 \r\nQ 47.21875 21.78125 47.21875 15.09375 \r\nQ 47.21875 7.46875 41.1875 3.015625 \r\nQ 35.15625 -1.421875 24.609375 -1.421875 \r\nQ 20.21875 -1.421875 15.453125 -0.5625 \r\nQ 10.6875 0.296875 5.421875 2 \r\nL 5.421875 11.28125 \r\nQ 10.40625 8.6875 15.234375 7.390625 \r\nQ 20.0625 6.109375 24.8125 6.109375 \r\nQ 31.15625 6.109375 34.5625 8.28125 \r\nQ 37.984375 10.453125 37.984375 14.40625 \r\nQ 37.984375 18.0625 35.515625 20.015625 \r\nQ 33.0625 21.96875 24.703125 23.78125 \r\nL 21.578125 24.515625 \r\nQ 13.234375 26.265625 9.515625 29.90625 \r\nQ 5.8125 33.546875 5.8125 39.890625 \r\nQ 5.8125 47.609375 11.28125 51.796875 \r\nQ 16.75 56 26.8125 56 \r\nQ 31.78125 56 36.171875 55.265625 \r\nQ 40.578125 54.546875 44.28125 53.078125 \r\nz\r\n\" id=\"DejaVuSans-115\"/>\r\n      </defs>\r\n      <use xlink:href=\"#DejaVuSans-102\"/>\r\n      <use x=\"35.205078\" xlink:href=\"#DejaVuSans-111\"/>\r\n      <use x=\"96.386719\" xlink:href=\"#DejaVuSans-114\"/>\r\n      <use x=\"135.25\" xlink:href=\"#DejaVuSans-101\"/>\r\n      <use x=\"196.773438\" xlink:href=\"#DejaVuSans-99\"/>\r\n      <use x=\"251.753906\" xlink:href=\"#DejaVuSans-97\"/>\r\n      <use x=\"313.033203\" xlink:href=\"#DejaVuSans-115\"/>\r\n      <use x=\"365.132812\" xlink:href=\"#DejaVuSans-116\"/>\r\n     </g>\r\n    </g>\r\n    <g id=\"line2d_16\">\r\n     <path d=\"M 37.942188 210.500313 \r\nL 57.942188 210.500313 \r\n\" style=\"fill:none;stroke:#ff7f0e;stroke-linecap:square;stroke-width:1.5;\"/>\r\n    </g>\r\n    <g id=\"line2d_17\"/>\r\n    <g id=\"text_14\">\r\n     <!-- y -->\r\n     <g transform=\"translate(65.942188 214.000313)scale(0.1 -0.1)\">\r\n      <defs>\r\n       <path d=\"M 32.171875 -5.078125 \r\nQ 28.375 -14.84375 24.75 -17.8125 \r\nQ 21.140625 -20.796875 15.09375 -20.796875 \r\nL 7.90625 -20.796875 \r\nL 7.90625 -13.28125 \r\nL 13.1875 -13.28125 \r\nQ 16.890625 -13.28125 18.9375 -11.515625 \r\nQ 21 -9.765625 23.484375 -3.21875 \r\nL 25.09375 0.875 \r\nL 2.984375 54.6875 \r\nL 12.5 54.6875 \r\nL 29.59375 11.921875 \r\nL 46.6875 54.6875 \r\nL 56.203125 54.6875 \r\nz\r\n\" id=\"DejaVuSans-121\"/>\r\n      </defs>\r\n      <use xlink:href=\"#DejaVuSans-121\"/>\r\n     </g>\r\n    </g>\r\n    <g id=\"patch_8\">\r\n     <path d=\"M 37.942188 228.678438 \r\nL 57.942188 228.678438 \r\nL 57.942188 221.678438 \r\nL 37.942188 221.678438 \r\nz\r\n\" style=\"fill:#808080;opacity:0.5;stroke:#808080;stroke-linejoin:miter;\"/>\r\n    </g>\r\n    <g id=\"text_15\">\r\n     <!-- 95% confidence interval -->\r\n     <g transform=\"translate(65.942188 228.678438)scale(0.1 -0.1)\">\r\n      <defs>\r\n       <path d=\"M 72.703125 32.078125 \r\nQ 68.453125 32.078125 66.03125 28.46875 \r\nQ 63.625 24.859375 63.625 18.40625 \r\nQ 63.625 12.0625 66.03125 8.421875 \r\nQ 68.453125 4.78125 72.703125 4.78125 \r\nQ 76.859375 4.78125 79.265625 8.421875 \r\nQ 81.6875 12.0625 81.6875 18.40625 \r\nQ 81.6875 24.8125 79.265625 28.4375 \r\nQ 76.859375 32.078125 72.703125 32.078125 \r\nz\r\nM 72.703125 38.28125 \r\nQ 80.421875 38.28125 84.953125 32.90625 \r\nQ 89.5 27.546875 89.5 18.40625 \r\nQ 89.5 9.28125 84.9375 3.921875 \r\nQ 80.375 -1.421875 72.703125 -1.421875 \r\nQ 64.890625 -1.421875 60.34375 3.921875 \r\nQ 55.8125 9.28125 55.8125 18.40625 \r\nQ 55.8125 27.59375 60.375 32.9375 \r\nQ 64.9375 38.28125 72.703125 38.28125 \r\nz\r\nM 22.3125 68.015625 \r\nQ 18.109375 68.015625 15.6875 64.375 \r\nQ 13.28125 60.75 13.28125 54.390625 \r\nQ 13.28125 47.953125 15.671875 44.328125 \r\nQ 18.0625 40.71875 22.3125 40.71875 \r\nQ 26.5625 40.71875 28.96875 44.328125 \r\nQ 31.390625 47.953125 31.390625 54.390625 \r\nQ 31.390625 60.6875 28.953125 64.34375 \r\nQ 26.515625 68.015625 22.3125 68.015625 \r\nz\r\nM 66.40625 74.21875 \r\nL 74.21875 74.21875 \r\nL 28.609375 -1.421875 \r\nL 20.796875 -1.421875 \r\nz\r\nM 22.3125 74.21875 \r\nQ 30.03125 74.21875 34.609375 68.875 \r\nQ 39.203125 63.53125 39.203125 54.390625 \r\nQ 39.203125 45.171875 34.640625 39.84375 \r\nQ 30.078125 34.515625 22.3125 34.515625 \r\nQ 14.546875 34.515625 10.03125 39.859375 \r\nQ 5.515625 45.21875 5.515625 54.390625 \r\nQ 5.515625 63.484375 10.046875 68.84375 \r\nQ 14.59375 74.21875 22.3125 74.21875 \r\nz\r\n\" id=\"DejaVuSans-37\"/>\r\n       <path d=\"M 2.984375 54.6875 \r\nL 12.5 54.6875 \r\nL 29.59375 8.796875 \r\nL 46.6875 54.6875 \r\nL 56.203125 54.6875 \r\nL 35.6875 0 \r\nL 23.484375 0 \r\nz\r\n\" id=\"DejaVuSans-118\"/>\r\n      </defs>\r\n      <use xlink:href=\"#DejaVuSans-57\"/>\r\n      <use x=\"63.623047\" xlink:href=\"#DejaVuSans-53\"/>\r\n      <use x=\"127.246094\" xlink:href=\"#DejaVuSans-37\"/>\r\n      <use x=\"222.265625\" xlink:href=\"#DejaVuSans-32\"/>\r\n      <use x=\"254.052734\" xlink:href=\"#DejaVuSans-99\"/>\r\n      <use x=\"309.033203\" xlink:href=\"#DejaVuSans-111\"/>\r\n      <use x=\"370.214844\" xlink:href=\"#DejaVuSans-110\"/>\r\n      <use x=\"433.59375\" xlink:href=\"#DejaVuSans-102\"/>\r\n      <use x=\"468.798828\" xlink:href=\"#DejaVuSans-105\"/>\r\n      <use x=\"496.582031\" xlink:href=\"#DejaVuSans-100\"/>\r\n      <use x=\"560.058594\" xlink:href=\"#DejaVuSans-101\"/>\r\n      <use x=\"621.582031\" xlink:href=\"#DejaVuSans-110\"/>\r\n      <use x=\"684.960938\" xlink:href=\"#DejaVuSans-99\"/>\r\n      <use x=\"739.941406\" xlink:href=\"#DejaVuSans-101\"/>\r\n      <use x=\"801.464844\" xlink:href=\"#DejaVuSans-32\"/>\r\n      <use x=\"833.251953\" xlink:href=\"#DejaVuSans-105\"/>\r\n      <use x=\"861.035156\" xlink:href=\"#DejaVuSans-110\"/>\r\n      <use x=\"924.414062\" xlink:href=\"#DejaVuSans-116\"/>\r\n      <use x=\"963.623047\" xlink:href=\"#DejaVuSans-101\"/>\r\n      <use x=\"1025.146484\" xlink:href=\"#DejaVuSans-114\"/>\r\n      <use x=\"1066.259766\" xlink:href=\"#DejaVuSans-118\"/>\r\n      <use x=\"1125.439453\" xlink:href=\"#DejaVuSans-97\"/>\r\n      <use x=\"1186.71875\" xlink:href=\"#DejaVuSans-108\"/>\r\n     </g>\r\n    </g>\r\n   </g>\r\n  </g>\r\n </g>\r\n <defs>\r\n  <clipPath id=\"pd9effa1ff0\">\r\n   <rect height=\"217.44\" width=\"334.8\" x=\"28.942188\" y=\"22.318125\"/>\r\n  </clipPath>\r\n </defs>\r\n</svg>\r\n",
      "image/png": "[encoded data removed]"
     },
     "metadata": {
      "needs_background": "light"
     }
    }
   ],
   "source": [
    "model_fit.plot_predict(1,finF)\n",
    "date = [0,date[0],date[50],date[100],date[150],date[200],date[250]]\n",
    "plt.gca().xaxis.set_ticklabels(date, rotation = 90)\n",
    "plt.title('Prédiction, France, modèle ARIMA(6,1,1)')\n",
    "plt.show()"
   ]
  },
  {
   "cell_type": "code",
   "execution_count": 25,
   "metadata": {},
   "outputs": [
    {
     "output_type": "stream",
     "name": "stdout",
     "text": [
      "Test RMSE: 0.228\n"
     ]
    },
    {
     "output_type": "display_data",
     "data": {
      "text/plain": "<Figure size 432x288 with 1 Axes>",
      "image/svg+xml": "<?xml version=\"1.0\" encoding=\"utf-8\" standalone=\"no\"?>\r\n<!DOCTYPE svg PUBLIC \"-//W3C//DTD SVG 1.1//EN\"\r\n  \"http://www.w3.org/Graphics/SVG/1.1/DTD/svg11.dtd\">\r\n<!-- Created with matplotlib (https://matplotlib.org/) -->\r\n<svg height=\"248.518125pt\" version=\"1.1\" viewBox=\"0 0 370.942187 248.518125\" width=\"370.942187pt\" xmlns=\"http://www.w3.org/2000/svg\" xmlns:xlink=\"http://www.w3.org/1999/xlink\">\r\n <metadata>\r\n  <rdf:RDF xmlns:cc=\"http://creativecommons.org/ns#\" xmlns:dc=\"http://purl.org/dc/elements/1.1/\" xmlns:rdf=\"http://www.w3.org/1999/02/22-rdf-syntax-ns#\">\r\n   <cc:Work>\r\n    <dc:type rdf:resource=\"http://purl.org/dc/dcmitype/StillImage\"/>\r\n    <dc:date>2020-12-03T12:36:29.058073</dc:date>\r\n    <dc:format>image/svg+xml</dc:format>\r\n    <dc:creator>\r\n     <cc:Agent>\r\n      <dc:title>Matplotlib v3.3.2, https://matplotlib.org/</dc:title>\r\n     </cc:Agent>\r\n    </dc:creator>\r\n   </cc:Work>\r\n  </rdf:RDF>\r\n </metadata>\r\n <defs>\r\n  <style type=\"text/css\">*{stroke-linecap:butt;stroke-linejoin:round;}</style>\r\n </defs>\r\n <g id=\"figure_1\">\r\n  <g id=\"patch_1\">\r\n   <path d=\"M 0 248.518125 \r\nL 370.942187 248.518125 \r\nL 370.942187 0 \r\nL 0 0 \r\nz\r\n\" style=\"fill:none;\"/>\r\n  </g>\r\n  <g id=\"axes_1\">\r\n   <g id=\"patch_2\">\r\n    <path d=\"M 28.942188 224.64 \r\nL 363.742188 224.64 \r\nL 363.742188 7.2 \r\nL 28.942188 7.2 \r\nz\r\n\" style=\"fill:#ffffff;\"/>\r\n   </g>\r\n   <g id=\"matplotlib.axis_1\">\r\n    <g id=\"xtick_1\">\r\n     <g id=\"line2d_1\">\r\n      <defs>\r\n       <path d=\"M 0 0 \r\nL 0 3.5 \r\n\" id=\"m5760c52db3\" style=\"stroke:#000000;stroke-width:0.8;\"/>\r\n      </defs>\r\n      <g>\r\n       <use style=\"stroke:#000000;stroke-width:0.8;\" x=\"44.160369\" xlink:href=\"#m5760c52db3\" y=\"224.64\"/>\r\n      </g>\r\n     </g>\r\n     <g id=\"text_1\">\r\n      <!-- 0 -->\r\n      <g transform=\"translate(40.979119 239.238437)scale(0.1 -0.1)\">\r\n       <defs>\r\n        <path d=\"M 31.78125 66.40625 \r\nQ 24.171875 66.40625 20.328125 58.90625 \r\nQ 16.5 51.421875 16.5 36.375 \r\nQ 16.5 21.390625 20.328125 13.890625 \r\nQ 24.171875 6.390625 31.78125 6.390625 \r\nQ 39.453125 6.390625 43.28125 13.890625 \r\nQ 47.125 21.390625 47.125 36.375 \r\nQ 47.125 51.421875 43.28125 58.90625 \r\nQ 39.453125 66.40625 31.78125 66.40625 \r\nz\r\nM 31.78125 74.21875 \r\nQ 44.046875 74.21875 50.515625 64.515625 \r\nQ 56.984375 54.828125 56.984375 36.375 \r\nQ 56.984375 17.96875 50.515625 8.265625 \r\nQ 44.046875 -1.421875 31.78125 -1.421875 \r\nQ 19.53125 -1.421875 13.0625 8.265625 \r\nQ 6.59375 17.96875 6.59375 36.375 \r\nQ 6.59375 54.828125 13.0625 64.515625 \r\nQ 19.53125 74.21875 31.78125 74.21875 \r\nz\r\n\" id=\"DejaVuSans-48\"/>\r\n       </defs>\r\n       <use xlink:href=\"#DejaVuSans-48\"/>\r\n      </g>\r\n     </g>\r\n    </g>\r\n    <g id=\"xtick_2\">\r\n     <g id=\"line2d_2\">\r\n      <g>\r\n       <use style=\"stroke:#000000;stroke-width:0.8;\" x=\"82.205824\" xlink:href=\"#m5760c52db3\" y=\"224.64\"/>\r\n      </g>\r\n     </g>\r\n     <g id=\"text_2\">\r\n      <!-- 10 -->\r\n      <g transform=\"translate(75.843324 239.238437)scale(0.1 -0.1)\">\r\n       <defs>\r\n        <path d=\"M 12.40625 8.296875 \r\nL 28.515625 8.296875 \r\nL 28.515625 63.921875 \r\nL 10.984375 60.40625 \r\nL 10.984375 69.390625 \r\nL 28.421875 72.90625 \r\nL 38.28125 72.90625 \r\nL 38.28125 8.296875 \r\nL 54.390625 8.296875 \r\nL 54.390625 0 \r\nL 12.40625 0 \r\nz\r\n\" id=\"DejaVuSans-49\"/>\r\n       </defs>\r\n       <use xlink:href=\"#DejaVuSans-49\"/>\r\n       <use x=\"63.623047\" xlink:href=\"#DejaVuSans-48\"/>\r\n      </g>\r\n     </g>\r\n    </g>\r\n    <g id=\"xtick_3\">\r\n     <g id=\"line2d_3\">\r\n      <g>\r\n       <use style=\"stroke:#000000;stroke-width:0.8;\" x=\"120.251278\" xlink:href=\"#m5760c52db3\" y=\"224.64\"/>\r\n      </g>\r\n     </g>\r\n     <g id=\"text_3\">\r\n      <!-- 20 -->\r\n      <g transform=\"translate(113.888778 239.238437)scale(0.1 -0.1)\">\r\n       <defs>\r\n        <path d=\"M 19.1875 8.296875 \r\nL 53.609375 8.296875 \r\nL 53.609375 0 \r\nL 7.328125 0 \r\nL 7.328125 8.296875 \r\nQ 12.9375 14.109375 22.625 23.890625 \r\nQ 32.328125 33.6875 34.8125 36.53125 \r\nQ 39.546875 41.84375 41.421875 45.53125 \r\nQ 43.3125 49.21875 43.3125 52.78125 \r\nQ 43.3125 58.59375 39.234375 62.25 \r\nQ 35.15625 65.921875 28.609375 65.921875 \r\nQ 23.96875 65.921875 18.8125 64.3125 \r\nQ 13.671875 62.703125 7.8125 59.421875 \r\nL 7.8125 69.390625 \r\nQ 13.765625 71.78125 18.9375 73 \r\nQ 24.125 74.21875 28.421875 74.21875 \r\nQ 39.75 74.21875 46.484375 68.546875 \r\nQ 53.21875 62.890625 53.21875 53.421875 \r\nQ 53.21875 48.921875 51.53125 44.890625 \r\nQ 49.859375 40.875 45.40625 35.40625 \r\nQ 44.1875 33.984375 37.640625 27.21875 \r\nQ 31.109375 20.453125 19.1875 8.296875 \r\nz\r\n\" id=\"DejaVuSans-50\"/>\r\n       </defs>\r\n       <use xlink:href=\"#DejaVuSans-50\"/>\r\n       <use x=\"63.623047\" xlink:href=\"#DejaVuSans-48\"/>\r\n      </g>\r\n     </g>\r\n    </g>\r\n    <g id=\"xtick_4\">\r\n     <g id=\"line2d_4\">\r\n      <g>\r\n       <use style=\"stroke:#000000;stroke-width:0.8;\" x=\"158.296733\" xlink:href=\"#m5760c52db3\" y=\"224.64\"/>\r\n      </g>\r\n     </g>\r\n     <g id=\"text_4\">\r\n      <!-- 30 -->\r\n      <g transform=\"translate(151.934233 239.238437)scale(0.1 -0.1)\">\r\n       <defs>\r\n        <path d=\"M 40.578125 39.3125 \r\nQ 47.65625 37.796875 51.625 33 \r\nQ 55.609375 28.21875 55.609375 21.1875 \r\nQ 55.609375 10.40625 48.1875 4.484375 \r\nQ 40.765625 -1.421875 27.09375 -1.421875 \r\nQ 22.515625 -1.421875 17.65625 -0.515625 \r\nQ 12.796875 0.390625 7.625 2.203125 \r\nL 7.625 11.71875 \r\nQ 11.71875 9.328125 16.59375 8.109375 \r\nQ 21.484375 6.890625 26.8125 6.890625 \r\nQ 36.078125 6.890625 40.9375 10.546875 \r\nQ 45.796875 14.203125 45.796875 21.1875 \r\nQ 45.796875 27.640625 41.28125 31.265625 \r\nQ 36.765625 34.90625 28.71875 34.90625 \r\nL 20.21875 34.90625 \r\nL 20.21875 43.015625 \r\nL 29.109375 43.015625 \r\nQ 36.375 43.015625 40.234375 45.921875 \r\nQ 44.09375 48.828125 44.09375 54.296875 \r\nQ 44.09375 59.90625 40.109375 62.90625 \r\nQ 36.140625 65.921875 28.71875 65.921875 \r\nQ 24.65625 65.921875 20.015625 65.03125 \r\nQ 15.375 64.15625 9.8125 62.3125 \r\nL 9.8125 71.09375 \r\nQ 15.4375 72.65625 20.34375 73.4375 \r\nQ 25.25 74.21875 29.59375 74.21875 \r\nQ 40.828125 74.21875 47.359375 69.109375 \r\nQ 53.90625 64.015625 53.90625 55.328125 \r\nQ 53.90625 49.265625 50.4375 45.09375 \r\nQ 46.96875 40.921875 40.578125 39.3125 \r\nz\r\n\" id=\"DejaVuSans-51\"/>\r\n       </defs>\r\n       <use xlink:href=\"#DejaVuSans-51\"/>\r\n       <use x=\"63.623047\" xlink:href=\"#DejaVuSans-48\"/>\r\n      </g>\r\n     </g>\r\n    </g>\r\n    <g id=\"xtick_5\">\r\n     <g id=\"line2d_5\">\r\n      <g>\r\n       <use style=\"stroke:#000000;stroke-width:0.8;\" x=\"196.342188\" xlink:href=\"#m5760c52db3\" y=\"224.64\"/>\r\n      </g>\r\n     </g>\r\n     <g id=\"text_5\">\r\n      <!-- 40 -->\r\n      <g transform=\"translate(189.979688 239.238437)scale(0.1 -0.1)\">\r\n       <defs>\r\n        <path d=\"M 37.796875 64.3125 \r\nL 12.890625 25.390625 \r\nL 37.796875 25.390625 \r\nz\r\nM 35.203125 72.90625 \r\nL 47.609375 72.90625 \r\nL 47.609375 25.390625 \r\nL 58.015625 25.390625 \r\nL 58.015625 17.1875 \r\nL 47.609375 17.1875 \r\nL 47.609375 0 \r\nL 37.796875 0 \r\nL 37.796875 17.1875 \r\nL 4.890625 17.1875 \r\nL 4.890625 26.703125 \r\nz\r\n\" id=\"DejaVuSans-52\"/>\r\n       </defs>\r\n       <use xlink:href=\"#DejaVuSans-52\"/>\r\n       <use x=\"63.623047\" xlink:href=\"#DejaVuSans-48\"/>\r\n      </g>\r\n     </g>\r\n    </g>\r\n    <g id=\"xtick_6\">\r\n     <g id=\"line2d_6\">\r\n      <g>\r\n       <use style=\"stroke:#000000;stroke-width:0.8;\" x=\"234.387642\" xlink:href=\"#m5760c52db3\" y=\"224.64\"/>\r\n      </g>\r\n     </g>\r\n     <g id=\"text_6\">\r\n      <!-- 50 -->\r\n      <g transform=\"translate(228.025142 239.238437)scale(0.1 -0.1)\">\r\n       <defs>\r\n        <path d=\"M 10.796875 72.90625 \r\nL 49.515625 72.90625 \r\nL 49.515625 64.59375 \r\nL 19.828125 64.59375 \r\nL 19.828125 46.734375 \r\nQ 21.96875 47.46875 24.109375 47.828125 \r\nQ 26.265625 48.1875 28.421875 48.1875 \r\nQ 40.625 48.1875 47.75 41.5 \r\nQ 54.890625 34.8125 54.890625 23.390625 \r\nQ 54.890625 11.625 47.5625 5.09375 \r\nQ 40.234375 -1.421875 26.90625 -1.421875 \r\nQ 22.3125 -1.421875 17.546875 -0.640625 \r\nQ 12.796875 0.140625 7.71875 1.703125 \r\nL 7.71875 11.625 \r\nQ 12.109375 9.234375 16.796875 8.0625 \r\nQ 21.484375 6.890625 26.703125 6.890625 \r\nQ 35.15625 6.890625 40.078125 11.328125 \r\nQ 45.015625 15.765625 45.015625 23.390625 \r\nQ 45.015625 31 40.078125 35.4375 \r\nQ 35.15625 39.890625 26.703125 39.890625 \r\nQ 22.75 39.890625 18.8125 39.015625 \r\nQ 14.890625 38.140625 10.796875 36.28125 \r\nz\r\n\" id=\"DejaVuSans-53\"/>\r\n       </defs>\r\n       <use xlink:href=\"#DejaVuSans-53\"/>\r\n       <use x=\"63.623047\" xlink:href=\"#DejaVuSans-48\"/>\r\n      </g>\r\n     </g>\r\n    </g>\r\n    <g id=\"xtick_7\">\r\n     <g id=\"line2d_7\">\r\n      <g>\r\n       <use style=\"stroke:#000000;stroke-width:0.8;\" x=\"272.433097\" xlink:href=\"#m5760c52db3\" y=\"224.64\"/>\r\n      </g>\r\n     </g>\r\n     <g id=\"text_7\">\r\n      <!-- 60 -->\r\n      <g transform=\"translate(266.070597 239.238437)scale(0.1 -0.1)\">\r\n       <defs>\r\n        <path d=\"M 33.015625 40.375 \r\nQ 26.375 40.375 22.484375 35.828125 \r\nQ 18.609375 31.296875 18.609375 23.390625 \r\nQ 18.609375 15.53125 22.484375 10.953125 \r\nQ 26.375 6.390625 33.015625 6.390625 \r\nQ 39.65625 6.390625 43.53125 10.953125 \r\nQ 47.40625 15.53125 47.40625 23.390625 \r\nQ 47.40625 31.296875 43.53125 35.828125 \r\nQ 39.65625 40.375 33.015625 40.375 \r\nz\r\nM 52.59375 71.296875 \r\nL 52.59375 62.3125 \r\nQ 48.875 64.0625 45.09375 64.984375 \r\nQ 41.3125 65.921875 37.59375 65.921875 \r\nQ 27.828125 65.921875 22.671875 59.328125 \r\nQ 17.53125 52.734375 16.796875 39.40625 \r\nQ 19.671875 43.65625 24.015625 45.921875 \r\nQ 28.375 48.1875 33.59375 48.1875 \r\nQ 44.578125 48.1875 50.953125 41.515625 \r\nQ 57.328125 34.859375 57.328125 23.390625 \r\nQ 57.328125 12.15625 50.6875 5.359375 \r\nQ 44.046875 -1.421875 33.015625 -1.421875 \r\nQ 20.359375 -1.421875 13.671875 8.265625 \r\nQ 6.984375 17.96875 6.984375 36.375 \r\nQ 6.984375 53.65625 15.1875 63.9375 \r\nQ 23.390625 74.21875 37.203125 74.21875 \r\nQ 40.921875 74.21875 44.703125 73.484375 \r\nQ 48.484375 72.75 52.59375 71.296875 \r\nz\r\n\" id=\"DejaVuSans-54\"/>\r\n       </defs>\r\n       <use xlink:href=\"#DejaVuSans-54\"/>\r\n       <use x=\"63.623047\" xlink:href=\"#DejaVuSans-48\"/>\r\n      </g>\r\n     </g>\r\n    </g>\r\n    <g id=\"xtick_8\">\r\n     <g id=\"line2d_8\">\r\n      <g>\r\n       <use style=\"stroke:#000000;stroke-width:0.8;\" x=\"310.478551\" xlink:href=\"#m5760c52db3\" y=\"224.64\"/>\r\n      </g>\r\n     </g>\r\n     <g id=\"text_8\">\r\n      <!-- 70 -->\r\n      <g transform=\"translate(304.116051 239.238437)scale(0.1 -0.1)\">\r\n       <defs>\r\n        <path d=\"M 8.203125 72.90625 \r\nL 55.078125 72.90625 \r\nL 55.078125 68.703125 \r\nL 28.609375 0 \r\nL 18.3125 0 \r\nL 43.21875 64.59375 \r\nL 8.203125 64.59375 \r\nz\r\n\" id=\"DejaVuSans-55\"/>\r\n       </defs>\r\n       <use xlink:href=\"#DejaVuSans-55\"/>\r\n       <use x=\"63.623047\" xlink:href=\"#DejaVuSans-48\"/>\r\n      </g>\r\n     </g>\r\n    </g>\r\n    <g id=\"xtick_9\">\r\n     <g id=\"line2d_9\">\r\n      <g>\r\n       <use style=\"stroke:#000000;stroke-width:0.8;\" x=\"348.524006\" xlink:href=\"#m5760c52db3\" y=\"224.64\"/>\r\n      </g>\r\n     </g>\r\n     <g id=\"text_9\">\r\n      <!-- 80 -->\r\n      <g transform=\"translate(342.161506 239.238437)scale(0.1 -0.1)\">\r\n       <defs>\r\n        <path d=\"M 31.78125 34.625 \r\nQ 24.75 34.625 20.71875 30.859375 \r\nQ 16.703125 27.09375 16.703125 20.515625 \r\nQ 16.703125 13.921875 20.71875 10.15625 \r\nQ 24.75 6.390625 31.78125 6.390625 \r\nQ 38.8125 6.390625 42.859375 10.171875 \r\nQ 46.921875 13.96875 46.921875 20.515625 \r\nQ 46.921875 27.09375 42.890625 30.859375 \r\nQ 38.875 34.625 31.78125 34.625 \r\nz\r\nM 21.921875 38.8125 \r\nQ 15.578125 40.375 12.03125 44.71875 \r\nQ 8.5 49.078125 8.5 55.328125 \r\nQ 8.5 64.0625 14.71875 69.140625 \r\nQ 20.953125 74.21875 31.78125 74.21875 \r\nQ 42.671875 74.21875 48.875 69.140625 \r\nQ 55.078125 64.0625 55.078125 55.328125 \r\nQ 55.078125 49.078125 51.53125 44.71875 \r\nQ 48 40.375 41.703125 38.8125 \r\nQ 48.828125 37.15625 52.796875 32.3125 \r\nQ 56.78125 27.484375 56.78125 20.515625 \r\nQ 56.78125 9.90625 50.3125 4.234375 \r\nQ 43.84375 -1.421875 31.78125 -1.421875 \r\nQ 19.734375 -1.421875 13.25 4.234375 \r\nQ 6.78125 9.90625 6.78125 20.515625 \r\nQ 6.78125 27.484375 10.78125 32.3125 \r\nQ 14.796875 37.15625 21.921875 38.8125 \r\nz\r\nM 18.3125 54.390625 \r\nQ 18.3125 48.734375 21.84375 45.5625 \r\nQ 25.390625 42.390625 31.78125 42.390625 \r\nQ 38.140625 42.390625 41.71875 45.5625 \r\nQ 45.3125 48.734375 45.3125 54.390625 \r\nQ 45.3125 60.0625 41.71875 63.234375 \r\nQ 38.140625 66.40625 31.78125 66.40625 \r\nQ 25.390625 66.40625 21.84375 63.234375 \r\nQ 18.3125 60.0625 18.3125 54.390625 \r\nz\r\n\" id=\"DejaVuSans-56\"/>\r\n       </defs>\r\n       <use xlink:href=\"#DejaVuSans-56\"/>\r\n       <use x=\"63.623047\" xlink:href=\"#DejaVuSans-48\"/>\r\n      </g>\r\n     </g>\r\n    </g>\r\n   </g>\r\n   <g id=\"matplotlib.axis_2\">\r\n    <g id=\"ytick_1\">\r\n     <g id=\"line2d_10\">\r\n      <defs>\r\n       <path d=\"M 0 0 \r\nL -3.5 0 \r\n\" id=\"m2666ad6e98\" style=\"stroke:#000000;stroke-width:0.8;\"/>\r\n      </defs>\r\n      <g>\r\n       <use style=\"stroke:#000000;stroke-width:0.8;\" x=\"28.942188\" xlink:href=\"#m2666ad6e98\" y=\"206.868885\"/>\r\n      </g>\r\n     </g>\r\n     <g id=\"text_10\">\r\n      <!-- −3 -->\r\n      <g transform=\"translate(7.2 210.668104)scale(0.1 -0.1)\">\r\n       <defs>\r\n        <path d=\"M 10.59375 35.5 \r\nL 73.1875 35.5 \r\nL 73.1875 27.203125 \r\nL 10.59375 27.203125 \r\nz\r\n\" id=\"DejaVuSans-8722\"/>\r\n       </defs>\r\n       <use xlink:href=\"#DejaVuSans-8722\"/>\r\n       <use x=\"83.789062\" xlink:href=\"#DejaVuSans-51\"/>\r\n      </g>\r\n     </g>\r\n    </g>\r\n    <g id=\"ytick_2\">\r\n     <g id=\"line2d_11\">\r\n      <g>\r\n       <use style=\"stroke:#000000;stroke-width:0.8;\" x=\"28.942188\" xlink:href=\"#m2666ad6e98\" y=\"161.551995\"/>\r\n      </g>\r\n     </g>\r\n     <g id=\"text_11\">\r\n      <!-- −2 -->\r\n      <g transform=\"translate(7.2 165.351213)scale(0.1 -0.1)\">\r\n       <use xlink:href=\"#DejaVuSans-8722\"/>\r\n       <use x=\"83.789062\" xlink:href=\"#DejaVuSans-50\"/>\r\n      </g>\r\n     </g>\r\n    </g>\r\n    <g id=\"ytick_3\">\r\n     <g id=\"line2d_12\">\r\n      <g>\r\n       <use style=\"stroke:#000000;stroke-width:0.8;\" x=\"28.942188\" xlink:href=\"#m2666ad6e98\" y=\"116.235104\"/>\r\n      </g>\r\n     </g>\r\n     <g id=\"text_12\">\r\n      <!-- −1 -->\r\n      <g transform=\"translate(7.2 120.034323)scale(0.1 -0.1)\">\r\n       <use xlink:href=\"#DejaVuSans-8722\"/>\r\n       <use x=\"83.789062\" xlink:href=\"#DejaVuSans-49\"/>\r\n      </g>\r\n     </g>\r\n    </g>\r\n    <g id=\"ytick_4\">\r\n     <g id=\"line2d_13\">\r\n      <g>\r\n       <use style=\"stroke:#000000;stroke-width:0.8;\" x=\"28.942188\" xlink:href=\"#m2666ad6e98\" y=\"70.918214\"/>\r\n      </g>\r\n     </g>\r\n     <g id=\"text_13\">\r\n      <!-- 0 -->\r\n      <g transform=\"translate(15.579688 74.717433)scale(0.1 -0.1)\">\r\n       <use xlink:href=\"#DejaVuSans-48\"/>\r\n      </g>\r\n     </g>\r\n    </g>\r\n    <g id=\"ytick_5\">\r\n     <g id=\"line2d_14\">\r\n      <g>\r\n       <use style=\"stroke:#000000;stroke-width:0.8;\" x=\"28.942188\" xlink:href=\"#m2666ad6e98\" y=\"25.601324\"/>\r\n      </g>\r\n     </g>\r\n     <g id=\"text_14\">\r\n      <!-- 1 -->\r\n      <g transform=\"translate(15.579688 29.400542)scale(0.1 -0.1)\">\r\n       <use xlink:href=\"#DejaVuSans-49\"/>\r\n      </g>\r\n     </g>\r\n    </g>\r\n   </g>\r\n   <g id=\"line2d_15\">\r\n    <path clip-path=\"url(#p4c86d97da0)\" d=\"M 44.160369 20.831379 \r\nL 47.964915 23.342639 \r\nL 51.76946 29.656918 \r\nL 55.574006 35.055033 \r\nL 59.378551 41.982585 \r\nL 63.183097 48.396732 \r\nL 66.987642 54.752684 \r\nL 70.792188 60.70165 \r\nL 74.596733 59.907109 \r\nL 78.401278 57.614049 \r\nL 82.205824 57.175598 \r\nL 86.010369 58.083759 \r\nL 89.814915 63.240067 \r\nL 93.61946 65.47451 \r\nL 97.424006 59.480093 \r\nL 101.228551 50.949686 \r\nL 105.033097 41.654199 \r\nL 108.837642 38.967297 \r\nL 112.642188 41.389664 \r\nL 116.446733 45.295358 \r\nL 120.251278 51.70559 \r\nL 124.055824 53.086563 \r\nL 127.860369 51.667241 \r\nL 131.664915 48.650212 \r\nL 135.46946 41.078867 \r\nL 139.274006 39.263254 \r\nL 143.078551 41.809853 \r\nL 146.883097 41.742129 \r\nL 150.687642 43.295576 \r\nL 154.492188 42.728399 \r\nL 158.296733 44.183907 \r\nL 162.101278 49.078908 \r\nL 165.905824 57.746622 \r\nL 169.710369 68.47919 \r\nL 173.514915 81.330824 \r\nL 177.31946 102.482356 \r\nL 181.124006 112.359116 \r\nL 184.928551 107.629818 \r\nL 188.733097 92.94442 \r\nL 192.537642 69.32684 \r\nL 196.342188 54.240851 \r\nL 200.146733 48.321981 \r\nL 203.951278 46.063492 \r\nL 207.755824 42.517376 \r\nL 211.560369 41.479405 \r\nL 215.364915 45.838333 \r\nL 219.16946 50.160487 \r\nL 222.974006 58.027779 \r\nL 226.778551 64.58505 \r\nL 230.583097 66.439345 \r\nL 234.387642 68.698716 \r\nL 238.192187 71.213883 \r\nL 241.996733 67.083461 \r\nL 245.801278 63.197301 \r\nL 249.605824 61.027218 \r\nL 253.410369 56.911644 \r\nL 257.214915 59.406522 \r\nL 261.01946 60.460088 \r\nL 264.824006 60.169658 \r\nL 268.628551 60.042689 \r\nL 272.433097 58.475555 \r\nL 276.237642 59.545579 \r\nL 280.042188 60.08177 \r\nL 283.846733 59.163292 \r\nL 287.651278 59.354247 \r\nL 291.455824 61.205297 \r\nL 295.260369 59.199133 \r\nL 299.064915 55.902698 \r\nL 302.86946 49.833194 \r\nL 306.674006 41.747825 \r\nL 310.478551 37.583081 \r\nL 314.283097 39.88643 \r\nL 318.087642 46.641939 \r\nL 321.892188 51.458408 \r\nL 325.696733 54.434811 \r\nL 329.501278 53.259815 \r\nL 333.305824 50.671184 \r\nL 337.110369 51.579666 \r\nL 340.914915 57.610354 \r\nL 344.71946 98.773682 \r\nL 348.524006 214.756364 \r\n\" style=\"fill:none;stroke:#1f77b4;stroke-linecap:square;stroke-width:1.5;\"/>\r\n   </g>\r\n   <g id=\"line2d_16\">\r\n    <path clip-path=\"url(#p4c86d97da0)\" d=\"M 44.160369 18.177064 \r\nL 47.964915 17.083636 \r\nL 51.76946 24.792072 \r\nL 55.574006 34.03859 \r\nL 59.378551 40.755586 \r\nL 63.183097 49.605175 \r\nL 66.987642 53.447442 \r\nL 70.792188 63.138576 \r\nL 74.596733 64.916235 \r\nL 78.401278 61.535475 \r\nL 82.205824 57.085535 \r\nL 86.010369 55.511805 \r\nL 89.814915 59.134165 \r\nL 93.61946 67.634977 \r\nL 97.424006 66.358237 \r\nL 101.228551 57.259963 \r\nL 105.033097 43.473924 \r\nL 108.837642 32.304876 \r\nL 112.642188 36.468851 \r\nL 116.446733 39.676227 \r\nL 120.251278 50.927616 \r\nL 124.055824 56.041984 \r\nL 127.860369 55.522729 \r\nL 131.664915 52.542944 \r\nL 135.46946 44.79322 \r\nL 139.274006 35.271124 \r\nL 143.078551 38.155984 \r\nL 146.883097 40.010198 \r\nL 150.687642 44.103699 \r\nL 154.492188 44.379554 \r\nL 158.296733 41.704681 \r\nL 162.101278 47.541694 \r\nL 165.905824 50.851635 \r\nL 169.710369 67.808905 \r\nL 173.514915 76.107095 \r\nL 177.31946 96.595806 \r\nL 181.124006 120.333375 \r\nL 184.928551 121.51349 \r\nL 188.733097 111.26104 \r\nL 192.537642 77.379367 \r\nL 196.342188 50.621167 \r\nL 200.146733 38.071343 \r\nL 203.951278 38.025671 \r\nL 207.755824 44.13003 \r\nL 211.560369 37.659354 \r\nL 215.364915 42.914779 \r\nL 219.16946 46.459224 \r\nL 222.974006 55.732659 \r\nL 226.778551 65.440043 \r\nL 230.583097 69.892378 \r\nL 234.387642 70.719864 \r\nL 238.192187 71.089041 \r\nL 241.996733 73.075423 \r\nL 245.801278 63.55289 \r\nL 249.605824 62.37975 \r\nL 253.410369 55.123567 \r\nL 257.214915 55.686074 \r\nL 261.01946 60.423101 \r\nL 264.824006 59.381542 \r\nL 268.628551 63.544404 \r\nL 272.433097 56.96384 \r\nL 276.237642 59.720864 \r\nL 280.042188 58.750937 \r\nL 283.846733 61.043962 \r\nL 287.651278 58.471448 \r\nL 291.455824 60.171899 \r\nL 295.260369 61.843193 \r\nL 299.064915 57.699102 \r\nL 302.86946 54.406877 \r\nL 306.674006 42.313178 \r\nL 310.478551 36.478956 \r\nL 314.283097 31.509454 \r\nL 318.087642 41.975562 \r\nL 321.892188 50.777933 \r\nL 325.696733 57.319583 \r\nL 329.501278 57.979605 \r\nL 333.305824 52.359868 \r\nL 337.110369 49.896071 \r\nL 340.914915 51.166454 \r\nL 344.71946 63.190031 \r\nL 348.524006 139.418327 \r\n\" style=\"fill:none;stroke:#ff0000;stroke-linecap:square;stroke-width:1.5;\"/>\r\n   </g>\r\n   <g id=\"patch_3\">\r\n    <path d=\"M 28.942188 224.64 \r\nL 28.942188 7.2 \r\n\" style=\"fill:none;stroke:#000000;stroke-linecap:square;stroke-linejoin:miter;stroke-width:0.8;\"/>\r\n   </g>\r\n   <g id=\"patch_4\">\r\n    <path d=\"M 363.742188 224.64 \r\nL 363.742188 7.2 \r\n\" style=\"fill:none;stroke:#000000;stroke-linecap:square;stroke-linejoin:miter;stroke-width:0.8;\"/>\r\n   </g>\r\n   <g id=\"patch_5\">\r\n    <path d=\"M 28.942188 224.64 \r\nL 363.742188 224.64 \r\n\" style=\"fill:none;stroke:#000000;stroke-linecap:square;stroke-linejoin:miter;stroke-width:0.8;\"/>\r\n   </g>\r\n   <g id=\"patch_6\">\r\n    <path d=\"M 28.942188 7.2 \r\nL 363.742188 7.2 \r\n\" style=\"fill:none;stroke:#000000;stroke-linecap:square;stroke-linejoin:miter;stroke-width:0.8;\"/>\r\n   </g>\r\n  </g>\r\n </g>\r\n <defs>\r\n  <clipPath id=\"p4c86d97da0\">\r\n   <rect height=\"217.44\" width=\"334.8\" x=\"28.942188\" y=\"7.2\"/>\r\n  </clipPath>\r\n </defs>\r\n</svg>\r\n",
      "image/png": "[encoded data removed]"
     },
     "metadata": {
      "needs_background": "light"
     }
    }
   ],
   "source": [
    "#AR 3 2 1 \n",
    "test = arima(data,3,2,1)\n",
    "model_fit2 = test.fit(disp=0)"
   ]
  },
  {
   "cell_type": "code",
   "execution_count": 26,
   "metadata": {},
   "outputs": [
    {
     "output_type": "display_data",
     "data": {
      "text/plain": "<Figure size 432x288 with 1 Axes>",
      "image/svg+xml": "<?xml version=\"1.0\" encoding=\"utf-8\" standalone=\"no\"?>\r\n<!DOCTYPE svg PUBLIC \"-//W3C//DTD SVG 1.1//EN\"\r\n  \"http://www.w3.org/Graphics/SVG/1.1/DTD/svg11.dtd\">\r\n<!-- Created with matplotlib (https://matplotlib.org/) -->\r\n<svg height=\"297.612813pt\" version=\"1.1\" viewBox=\"0 0 377.304688 297.612813\" width=\"377.304688pt\" xmlns=\"http://www.w3.org/2000/svg\" xmlns:xlink=\"http://www.w3.org/1999/xlink\">\r\n <metadata>\r\n  <rdf:RDF xmlns:cc=\"http://creativecommons.org/ns#\" xmlns:dc=\"http://purl.org/dc/elements/1.1/\" xmlns:rdf=\"http://www.w3.org/1999/02/22-rdf-syntax-ns#\">\r\n   <cc:Work>\r\n    <dc:type rdf:resource=\"http://purl.org/dc/dcmitype/StillImage\"/>\r\n    <dc:date>2020-12-03T12:36:30.122234</dc:date>\r\n    <dc:format>image/svg+xml</dc:format>\r\n    <dc:creator>\r\n     <cc:Agent>\r\n      <dc:title>Matplotlib v3.3.2, https://matplotlib.org/</dc:title>\r\n     </cc:Agent>\r\n    </dc:creator>\r\n   </cc:Work>\r\n  </rdf:RDF>\r\n </metadata>\r\n <defs>\r\n  <style type=\"text/css\">*{stroke-linecap:butt;stroke-linejoin:round;}</style>\r\n </defs>\r\n <g id=\"figure_1\">\r\n  <g id=\"patch_1\">\r\n   <path d=\"M 0 297.612813 \r\nL 377.304688 297.612813 \r\nL 377.304688 0 \r\nL 0 0 \r\nz\r\n\" style=\"fill:none;\"/>\r\n  </g>\r\n  <g id=\"axes_1\">\r\n   <g id=\"patch_2\">\r\n    <path d=\"M 35.304688 239.758125 \r\nL 370.104688 239.758125 \r\nL 370.104688 22.318125 \r\nL 35.304688 22.318125 \r\nz\r\n\" style=\"fill:#ffffff;\"/>\r\n   </g>\r\n   <g id=\"PolyCollection_1\">\r\n    <defs>\r\n     <path d=\"M 338.93196 -234.613312 \r\nL 338.93196 -231.569804 \r\nL 340.159233 -221.960055 \r\nL 341.386506 -210.066029 \r\nL 342.613778 -198.932098 \r\nL 343.841051 -187.339307 \r\nL 345.068324 -174.645191 \r\nL 346.295597 -162.598017 \r\nL 347.522869 -149.719668 \r\nL 348.750142 -136.51412 \r\nL 349.977415 -123.499463 \r\nL 351.204688 -109.764381 \r\nL 352.43196 -96.01167 \r\nL 353.659233 -82.11046 \r\nL 354.886506 -67.738324 \r\nL 354.886506 -165.649568 \r\nL 354.886506 -165.649568 \r\nL 353.659233 -170.069336 \r\nL 352.43196 -174.327456 \r\nL 351.204688 -178.83043 \r\nL 349.977415 -183.773165 \r\nL 348.750142 -188.281589 \r\nL 347.522869 -193.535797 \r\nL 346.295597 -198.925782 \r\nL 345.068324 -203.779603 \r\nL 343.841051 -210.148868 \r\nL 342.613778 -215.738796 \r\nL 341.386506 -221.383211 \r\nL 340.159233 -229.238902 \r\nL 338.93196 -234.613312 \r\nz\r\n\" id=\"m24b8347dd7\" style=\"stroke:#808080;stroke-opacity:0.5;\"/>\r\n    </defs>\r\n    <g clip-path=\"url(#pe28e8c313b)\">\r\n     <use style=\"fill:#808080;fill-opacity:0.5;stroke:#808080;stroke-opacity:0.5;\" x=\"0\" xlink:href=\"#m24b8347dd7\" y=\"297.612813\"/>\r\n    </g>\r\n   </g>\r\n   <g id=\"matplotlib.axis_1\">\r\n    <g id=\"xtick_1\">\r\n     <g id=\"line2d_1\">\r\n      <defs>\r\n       <path d=\"M 0 0 \r\nL 0 3.5 \r\n\" id=\"mf53589d3b8\" style=\"stroke:#000000;stroke-width:0.8;\"/>\r\n      </defs>\r\n      <g>\r\n       <use style=\"stroke:#000000;stroke-width:0.8;\" x=\"50.522869\" xlink:href=\"#mf53589d3b8\" y=\"239.758125\"/>\r\n      </g>\r\n     </g>\r\n     <g id=\"text_1\">\r\n      <!-- 1960-Q4 -->\r\n      <g transform=\"translate(53.282244 290.412813)rotate(-90)scale(0.1 -0.1)\">\r\n       <defs>\r\n        <path d=\"M 12.40625 8.296875 \r\nL 28.515625 8.296875 \r\nL 28.515625 63.921875 \r\nL 10.984375 60.40625 \r\nL 10.984375 69.390625 \r\nL 28.421875 72.90625 \r\nL 38.28125 72.90625 \r\nL 38.28125 8.296875 \r\nL 54.390625 8.296875 \r\nL 54.390625 0 \r\nL 12.40625 0 \r\nz\r\n\" id=\"DejaVuSans-49\"/>\r\n        <path d=\"M 10.984375 1.515625 \r\nL 10.984375 10.5 \r\nQ 14.703125 8.734375 18.5 7.8125 \r\nQ 22.3125 6.890625 25.984375 6.890625 \r\nQ 35.75 6.890625 40.890625 13.453125 \r\nQ 46.046875 20.015625 46.78125 33.40625 \r\nQ 43.953125 29.203125 39.59375 26.953125 \r\nQ 35.25 24.703125 29.984375 24.703125 \r\nQ 19.046875 24.703125 12.671875 31.3125 \r\nQ 6.296875 37.9375 6.296875 49.421875 \r\nQ 6.296875 60.640625 12.9375 67.421875 \r\nQ 19.578125 74.21875 30.609375 74.21875 \r\nQ 43.265625 74.21875 49.921875 64.515625 \r\nQ 56.59375 54.828125 56.59375 36.375 \r\nQ 56.59375 19.140625 48.40625 8.859375 \r\nQ 40.234375 -1.421875 26.421875 -1.421875 \r\nQ 22.703125 -1.421875 18.890625 -0.6875 \r\nQ 15.09375 0.046875 10.984375 1.515625 \r\nz\r\nM 30.609375 32.421875 \r\nQ 37.25 32.421875 41.125 36.953125 \r\nQ 45.015625 41.5 45.015625 49.421875 \r\nQ 45.015625 57.28125 41.125 61.84375 \r\nQ 37.25 66.40625 30.609375 66.40625 \r\nQ 23.96875 66.40625 20.09375 61.84375 \r\nQ 16.21875 57.28125 16.21875 49.421875 \r\nQ 16.21875 41.5 20.09375 36.953125 \r\nQ 23.96875 32.421875 30.609375 32.421875 \r\nz\r\n\" id=\"DejaVuSans-57\"/>\r\n        <path d=\"M 33.015625 40.375 \r\nQ 26.375 40.375 22.484375 35.828125 \r\nQ 18.609375 31.296875 18.609375 23.390625 \r\nQ 18.609375 15.53125 22.484375 10.953125 \r\nQ 26.375 6.390625 33.015625 6.390625 \r\nQ 39.65625 6.390625 43.53125 10.953125 \r\nQ 47.40625 15.53125 47.40625 23.390625 \r\nQ 47.40625 31.296875 43.53125 35.828125 \r\nQ 39.65625 40.375 33.015625 40.375 \r\nz\r\nM 52.59375 71.296875 \r\nL 52.59375 62.3125 \r\nQ 48.875 64.0625 45.09375 64.984375 \r\nQ 41.3125 65.921875 37.59375 65.921875 \r\nQ 27.828125 65.921875 22.671875 59.328125 \r\nQ 17.53125 52.734375 16.796875 39.40625 \r\nQ 19.671875 43.65625 24.015625 45.921875 \r\nQ 28.375 48.1875 33.59375 48.1875 \r\nQ 44.578125 48.1875 50.953125 41.515625 \r\nQ 57.328125 34.859375 57.328125 23.390625 \r\nQ 57.328125 12.15625 50.6875 5.359375 \r\nQ 44.046875 -1.421875 33.015625 -1.421875 \r\nQ 20.359375 -1.421875 13.671875 8.265625 \r\nQ 6.984375 17.96875 6.984375 36.375 \r\nQ 6.984375 53.65625 15.1875 63.9375 \r\nQ 23.390625 74.21875 37.203125 74.21875 \r\nQ 40.921875 74.21875 44.703125 73.484375 \r\nQ 48.484375 72.75 52.59375 71.296875 \r\nz\r\n\" id=\"DejaVuSans-54\"/>\r\n        <path d=\"M 31.78125 66.40625 \r\nQ 24.171875 66.40625 20.328125 58.90625 \r\nQ 16.5 51.421875 16.5 36.375 \r\nQ 16.5 21.390625 20.328125 13.890625 \r\nQ 24.171875 6.390625 31.78125 6.390625 \r\nQ 39.453125 6.390625 43.28125 13.890625 \r\nQ 47.125 21.390625 47.125 36.375 \r\nQ 47.125 51.421875 43.28125 58.90625 \r\nQ 39.453125 66.40625 31.78125 66.40625 \r\nz\r\nM 31.78125 74.21875 \r\nQ 44.046875 74.21875 50.515625 64.515625 \r\nQ 56.984375 54.828125 56.984375 36.375 \r\nQ 56.984375 17.96875 50.515625 8.265625 \r\nQ 44.046875 -1.421875 31.78125 -1.421875 \r\nQ 19.53125 -1.421875 13.0625 8.265625 \r\nQ 6.59375 17.96875 6.59375 36.375 \r\nQ 6.59375 54.828125 13.0625 64.515625 \r\nQ 19.53125 74.21875 31.78125 74.21875 \r\nz\r\n\" id=\"DejaVuSans-48\"/>\r\n        <path d=\"M 4.890625 31.390625 \r\nL 31.203125 31.390625 \r\nL 31.203125 23.390625 \r\nL 4.890625 23.390625 \r\nz\r\n\" id=\"DejaVuSans-45\"/>\r\n        <path d=\"M 39.40625 66.21875 \r\nQ 28.65625 66.21875 22.328125 58.203125 \r\nQ 16.015625 50.203125 16.015625 36.375 \r\nQ 16.015625 22.609375 22.328125 14.59375 \r\nQ 28.65625 6.59375 39.40625 6.59375 \r\nQ 50.140625 6.59375 56.421875 14.59375 \r\nQ 62.703125 22.609375 62.703125 36.375 \r\nQ 62.703125 50.203125 56.421875 58.203125 \r\nQ 50.140625 66.21875 39.40625 66.21875 \r\nz\r\nM 53.21875 1.3125 \r\nL 66.21875 -12.890625 \r\nL 54.296875 -12.890625 \r\nL 43.5 -1.21875 \r\nQ 41.890625 -1.3125 41.03125 -1.359375 \r\nQ 40.1875 -1.421875 39.40625 -1.421875 \r\nQ 24.03125 -1.421875 14.8125 8.859375 \r\nQ 5.609375 19.140625 5.609375 36.375 \r\nQ 5.609375 53.65625 14.8125 63.9375 \r\nQ 24.03125 74.21875 39.40625 74.21875 \r\nQ 54.734375 74.21875 63.90625 63.9375 \r\nQ 73.09375 53.65625 73.09375 36.375 \r\nQ 73.09375 23.6875 67.984375 14.640625 \r\nQ 62.890625 5.609375 53.21875 1.3125 \r\nz\r\n\" id=\"DejaVuSans-81\"/>\r\n        <path d=\"M 37.796875 64.3125 \r\nL 12.890625 25.390625 \r\nL 37.796875 25.390625 \r\nz\r\nM 35.203125 72.90625 \r\nL 47.609375 72.90625 \r\nL 47.609375 25.390625 \r\nL 58.015625 25.390625 \r\nL 58.015625 17.1875 \r\nL 47.609375 17.1875 \r\nL 47.609375 0 \r\nL 37.796875 0 \r\nL 37.796875 17.1875 \r\nL 4.890625 17.1875 \r\nL 4.890625 26.703125 \r\nz\r\n\" id=\"DejaVuSans-52\"/>\r\n       </defs>\r\n       <use xlink:href=\"#DejaVuSans-49\"/>\r\n       <use x=\"63.623047\" xlink:href=\"#DejaVuSans-57\"/>\r\n       <use x=\"127.246094\" xlink:href=\"#DejaVuSans-54\"/>\r\n       <use x=\"190.869141\" xlink:href=\"#DejaVuSans-48\"/>\r\n       <use x=\"254.492188\" xlink:href=\"#DejaVuSans-45\"/>\r\n       <use x=\"294.201172\" xlink:href=\"#DejaVuSans-81\"/>\r\n       <use x=\"372.912109\" xlink:href=\"#DejaVuSans-52\"/>\r\n      </g>\r\n     </g>\r\n    </g>\r\n    <g id=\"xtick_2\">\r\n     <g id=\"line2d_2\">\r\n      <g>\r\n       <use style=\"stroke:#000000;stroke-width:0.8;\" x=\"111.886506\" xlink:href=\"#mf53589d3b8\" y=\"239.758125\"/>\r\n      </g>\r\n     </g>\r\n     <g id=\"text_2\">\r\n      <!-- 1973-Q2 -->\r\n      <g transform=\"translate(114.645881 290.412813)rotate(-90)scale(0.1 -0.1)\">\r\n       <defs>\r\n        <path d=\"M 8.203125 72.90625 \r\nL 55.078125 72.90625 \r\nL 55.078125 68.703125 \r\nL 28.609375 0 \r\nL 18.3125 0 \r\nL 43.21875 64.59375 \r\nL 8.203125 64.59375 \r\nz\r\n\" id=\"DejaVuSans-55\"/>\r\n        <path d=\"M 40.578125 39.3125 \r\nQ 47.65625 37.796875 51.625 33 \r\nQ 55.609375 28.21875 55.609375 21.1875 \r\nQ 55.609375 10.40625 48.1875 4.484375 \r\nQ 40.765625 -1.421875 27.09375 -1.421875 \r\nQ 22.515625 -1.421875 17.65625 -0.515625 \r\nQ 12.796875 0.390625 7.625 2.203125 \r\nL 7.625 11.71875 \r\nQ 11.71875 9.328125 16.59375 8.109375 \r\nQ 21.484375 6.890625 26.8125 6.890625 \r\nQ 36.078125 6.890625 40.9375 10.546875 \r\nQ 45.796875 14.203125 45.796875 21.1875 \r\nQ 45.796875 27.640625 41.28125 31.265625 \r\nQ 36.765625 34.90625 28.71875 34.90625 \r\nL 20.21875 34.90625 \r\nL 20.21875 43.015625 \r\nL 29.109375 43.015625 \r\nQ 36.375 43.015625 40.234375 45.921875 \r\nQ 44.09375 48.828125 44.09375 54.296875 \r\nQ 44.09375 59.90625 40.109375 62.90625 \r\nQ 36.140625 65.921875 28.71875 65.921875 \r\nQ 24.65625 65.921875 20.015625 65.03125 \r\nQ 15.375 64.15625 9.8125 62.3125 \r\nL 9.8125 71.09375 \r\nQ 15.4375 72.65625 20.34375 73.4375 \r\nQ 25.25 74.21875 29.59375 74.21875 \r\nQ 40.828125 74.21875 47.359375 69.109375 \r\nQ 53.90625 64.015625 53.90625 55.328125 \r\nQ 53.90625 49.265625 50.4375 45.09375 \r\nQ 46.96875 40.921875 40.578125 39.3125 \r\nz\r\n\" id=\"DejaVuSans-51\"/>\r\n        <path d=\"M 19.1875 8.296875 \r\nL 53.609375 8.296875 \r\nL 53.609375 0 \r\nL 7.328125 0 \r\nL 7.328125 8.296875 \r\nQ 12.9375 14.109375 22.625 23.890625 \r\nQ 32.328125 33.6875 34.8125 36.53125 \r\nQ 39.546875 41.84375 41.421875 45.53125 \r\nQ 43.3125 49.21875 43.3125 52.78125 \r\nQ 43.3125 58.59375 39.234375 62.25 \r\nQ 35.15625 65.921875 28.609375 65.921875 \r\nQ 23.96875 65.921875 18.8125 64.3125 \r\nQ 13.671875 62.703125 7.8125 59.421875 \r\nL 7.8125 69.390625 \r\nQ 13.765625 71.78125 18.9375 73 \r\nQ 24.125 74.21875 28.421875 74.21875 \r\nQ 39.75 74.21875 46.484375 68.546875 \r\nQ 53.21875 62.890625 53.21875 53.421875 \r\nQ 53.21875 48.921875 51.53125 44.890625 \r\nQ 49.859375 40.875 45.40625 35.40625 \r\nQ 44.1875 33.984375 37.640625 27.21875 \r\nQ 31.109375 20.453125 19.1875 8.296875 \r\nz\r\n\" id=\"DejaVuSans-50\"/>\r\n       </defs>\r\n       <use xlink:href=\"#DejaVuSans-49\"/>\r\n       <use x=\"63.623047\" xlink:href=\"#DejaVuSans-57\"/>\r\n       <use x=\"127.246094\" xlink:href=\"#DejaVuSans-55\"/>\r\n       <use x=\"190.869141\" xlink:href=\"#DejaVuSans-51\"/>\r\n       <use x=\"254.492188\" xlink:href=\"#DejaVuSans-45\"/>\r\n       <use x=\"294.201172\" xlink:href=\"#DejaVuSans-81\"/>\r\n       <use x=\"372.912109\" xlink:href=\"#DejaVuSans-50\"/>\r\n      </g>\r\n     </g>\r\n    </g>\r\n    <g id=\"xtick_3\">\r\n     <g id=\"line2d_3\">\r\n      <g>\r\n       <use style=\"stroke:#000000;stroke-width:0.8;\" x=\"173.250142\" xlink:href=\"#mf53589d3b8\" y=\"239.758125\"/>\r\n      </g>\r\n     </g>\r\n     <g id=\"text_3\">\r\n      <!-- 1985-Q4 -->\r\n      <g transform=\"translate(176.009517 290.412813)rotate(-90)scale(0.1 -0.1)\">\r\n       <defs>\r\n        <path d=\"M 31.78125 34.625 \r\nQ 24.75 34.625 20.71875 30.859375 \r\nQ 16.703125 27.09375 16.703125 20.515625 \r\nQ 16.703125 13.921875 20.71875 10.15625 \r\nQ 24.75 6.390625 31.78125 6.390625 \r\nQ 38.8125 6.390625 42.859375 10.171875 \r\nQ 46.921875 13.96875 46.921875 20.515625 \r\nQ 46.921875 27.09375 42.890625 30.859375 \r\nQ 38.875 34.625 31.78125 34.625 \r\nz\r\nM 21.921875 38.8125 \r\nQ 15.578125 40.375 12.03125 44.71875 \r\nQ 8.5 49.078125 8.5 55.328125 \r\nQ 8.5 64.0625 14.71875 69.140625 \r\nQ 20.953125 74.21875 31.78125 74.21875 \r\nQ 42.671875 74.21875 48.875 69.140625 \r\nQ 55.078125 64.0625 55.078125 55.328125 \r\nQ 55.078125 49.078125 51.53125 44.71875 \r\nQ 48 40.375 41.703125 38.8125 \r\nQ 48.828125 37.15625 52.796875 32.3125 \r\nQ 56.78125 27.484375 56.78125 20.515625 \r\nQ 56.78125 9.90625 50.3125 4.234375 \r\nQ 43.84375 -1.421875 31.78125 -1.421875 \r\nQ 19.734375 -1.421875 13.25 4.234375 \r\nQ 6.78125 9.90625 6.78125 20.515625 \r\nQ 6.78125 27.484375 10.78125 32.3125 \r\nQ 14.796875 37.15625 21.921875 38.8125 \r\nz\r\nM 18.3125 54.390625 \r\nQ 18.3125 48.734375 21.84375 45.5625 \r\nQ 25.390625 42.390625 31.78125 42.390625 \r\nQ 38.140625 42.390625 41.71875 45.5625 \r\nQ 45.3125 48.734375 45.3125 54.390625 \r\nQ 45.3125 60.0625 41.71875 63.234375 \r\nQ 38.140625 66.40625 31.78125 66.40625 \r\nQ 25.390625 66.40625 21.84375 63.234375 \r\nQ 18.3125 60.0625 18.3125 54.390625 \r\nz\r\n\" id=\"DejaVuSans-56\"/>\r\n        <path d=\"M 10.796875 72.90625 \r\nL 49.515625 72.90625 \r\nL 49.515625 64.59375 \r\nL 19.828125 64.59375 \r\nL 19.828125 46.734375 \r\nQ 21.96875 47.46875 24.109375 47.828125 \r\nQ 26.265625 48.1875 28.421875 48.1875 \r\nQ 40.625 48.1875 47.75 41.5 \r\nQ 54.890625 34.8125 54.890625 23.390625 \r\nQ 54.890625 11.625 47.5625 5.09375 \r\nQ 40.234375 -1.421875 26.90625 -1.421875 \r\nQ 22.3125 -1.421875 17.546875 -0.640625 \r\nQ 12.796875 0.140625 7.71875 1.703125 \r\nL 7.71875 11.625 \r\nQ 12.109375 9.234375 16.796875 8.0625 \r\nQ 21.484375 6.890625 26.703125 6.890625 \r\nQ 35.15625 6.890625 40.078125 11.328125 \r\nQ 45.015625 15.765625 45.015625 23.390625 \r\nQ 45.015625 31 40.078125 35.4375 \r\nQ 35.15625 39.890625 26.703125 39.890625 \r\nQ 22.75 39.890625 18.8125 39.015625 \r\nQ 14.890625 38.140625 10.796875 36.28125 \r\nz\r\n\" id=\"DejaVuSans-53\"/>\r\n       </defs>\r\n       <use xlink:href=\"#DejaVuSans-49\"/>\r\n       <use x=\"63.623047\" xlink:href=\"#DejaVuSans-57\"/>\r\n       <use x=\"127.246094\" xlink:href=\"#DejaVuSans-56\"/>\r\n       <use x=\"190.869141\" xlink:href=\"#DejaVuSans-53\"/>\r\n       <use x=\"254.492188\" xlink:href=\"#DejaVuSans-45\"/>\r\n       <use x=\"294.201172\" xlink:href=\"#DejaVuSans-81\"/>\r\n       <use x=\"372.912109\" xlink:href=\"#DejaVuSans-52\"/>\r\n      </g>\r\n     </g>\r\n    </g>\r\n    <g id=\"xtick_4\">\r\n     <g id=\"line2d_4\">\r\n      <g>\r\n       <use style=\"stroke:#000000;stroke-width:0.8;\" x=\"234.613778\" xlink:href=\"#mf53589d3b8\" y=\"239.758125\"/>\r\n      </g>\r\n     </g>\r\n     <g id=\"text_4\">\r\n      <!-- 1998-Q2 -->\r\n      <g transform=\"translate(237.373153 290.412813)rotate(-90)scale(0.1 -0.1)\">\r\n       <use xlink:href=\"#DejaVuSans-49\"/>\r\n       <use x=\"63.623047\" xlink:href=\"#DejaVuSans-57\"/>\r\n       <use x=\"127.246094\" xlink:href=\"#DejaVuSans-57\"/>\r\n       <use x=\"190.869141\" xlink:href=\"#DejaVuSans-56\"/>\r\n       <use x=\"254.492188\" xlink:href=\"#DejaVuSans-45\"/>\r\n       <use x=\"294.201172\" xlink:href=\"#DejaVuSans-81\"/>\r\n       <use x=\"372.912109\" xlink:href=\"#DejaVuSans-50\"/>\r\n      </g>\r\n     </g>\r\n    </g>\r\n    <g id=\"xtick_5\">\r\n     <g id=\"line2d_5\">\r\n      <g>\r\n       <use style=\"stroke:#000000;stroke-width:0.8;\" x=\"295.977415\" xlink:href=\"#mf53589d3b8\" y=\"239.758125\"/>\r\n      </g>\r\n     </g>\r\n     <g id=\"text_5\">\r\n      <!-- 2010-Q4 -->\r\n      <g transform=\"translate(298.73679 290.412813)rotate(-90)scale(0.1 -0.1)\">\r\n       <use xlink:href=\"#DejaVuSans-50\"/>\r\n       <use x=\"63.623047\" xlink:href=\"#DejaVuSans-48\"/>\r\n       <use x=\"127.246094\" xlink:href=\"#DejaVuSans-49\"/>\r\n       <use x=\"190.869141\" xlink:href=\"#DejaVuSans-48\"/>\r\n       <use x=\"254.492188\" xlink:href=\"#DejaVuSans-45\"/>\r\n       <use x=\"294.201172\" xlink:href=\"#DejaVuSans-81\"/>\r\n       <use x=\"372.912109\" xlink:href=\"#DejaVuSans-52\"/>\r\n      </g>\r\n     </g>\r\n    </g>\r\n    <g id=\"xtick_6\">\r\n     <g id=\"line2d_6\">\r\n      <g>\r\n       <use style=\"stroke:#000000;stroke-width:0.8;\" x=\"357.341051\" xlink:href=\"#mf53589d3b8\" y=\"239.758125\"/>\r\n      </g>\r\n     </g>\r\n     <g id=\"text_6\">\r\n      <!-- 2023-Q2 -->\r\n      <g transform=\"translate(360.100426 290.412813)rotate(-90)scale(0.1 -0.1)\">\r\n       <use xlink:href=\"#DejaVuSans-50\"/>\r\n       <use x=\"63.623047\" xlink:href=\"#DejaVuSans-48\"/>\r\n       <use x=\"127.246094\" xlink:href=\"#DejaVuSans-50\"/>\r\n       <use x=\"190.869141\" xlink:href=\"#DejaVuSans-51\"/>\r\n       <use x=\"254.492188\" xlink:href=\"#DejaVuSans-45\"/>\r\n       <use x=\"294.201172\" xlink:href=\"#DejaVuSans-81\"/>\r\n       <use x=\"372.912109\" xlink:href=\"#DejaVuSans-50\"/>\r\n      </g>\r\n     </g>\r\n    </g>\r\n   </g>\r\n   <g id=\"matplotlib.axis_2\">\r\n    <g id=\"ytick_1\">\r\n     <g id=\"line2d_7\">\r\n      <defs>\r\n       <path d=\"M 0 0 \r\nL -3.5 0 \r\n\" id=\"m7d4711b3e3\" style=\"stroke:#000000;stroke-width:0.8;\"/>\r\n      </defs>\r\n      <g>\r\n       <use style=\"stroke:#000000;stroke-width:0.8;\" x=\"35.304688\" xlink:href=\"#m7d4711b3e3\" y=\"218.933021\"/>\r\n      </g>\r\n     </g>\r\n     <g id=\"text_7\">\r\n      <!-- −50 -->\r\n      <g transform=\"translate(7.2 222.732239)scale(0.1 -0.1)\">\r\n       <defs>\r\n        <path d=\"M 10.59375 35.5 \r\nL 73.1875 35.5 \r\nL 73.1875 27.203125 \r\nL 10.59375 27.203125 \r\nz\r\n\" id=\"DejaVuSans-8722\"/>\r\n       </defs>\r\n       <use xlink:href=\"#DejaVuSans-8722\"/>\r\n       <use x=\"83.789062\" xlink:href=\"#DejaVuSans-53\"/>\r\n       <use x=\"147.412109\" xlink:href=\"#DejaVuSans-48\"/>\r\n      </g>\r\n     </g>\r\n    </g>\r\n    <g id=\"ytick_2\">\r\n     <g id=\"line2d_8\">\r\n      <g>\r\n       <use style=\"stroke:#000000;stroke-width:0.8;\" x=\"35.304688\" xlink:href=\"#m7d4711b3e3\" y=\"184.090899\"/>\r\n      </g>\r\n     </g>\r\n     <g id=\"text_8\">\r\n      <!-- −40 -->\r\n      <g transform=\"translate(7.2 187.890117)scale(0.1 -0.1)\">\r\n       <use xlink:href=\"#DejaVuSans-8722\"/>\r\n       <use x=\"83.789062\" xlink:href=\"#DejaVuSans-52\"/>\r\n       <use x=\"147.412109\" xlink:href=\"#DejaVuSans-48\"/>\r\n      </g>\r\n     </g>\r\n    </g>\r\n    <g id=\"ytick_3\">\r\n     <g id=\"line2d_9\">\r\n      <g>\r\n       <use style=\"stroke:#000000;stroke-width:0.8;\" x=\"35.304688\" xlink:href=\"#m7d4711b3e3\" y=\"149.248776\"/>\r\n      </g>\r\n     </g>\r\n     <g id=\"text_9\">\r\n      <!-- −30 -->\r\n      <g transform=\"translate(7.2 153.047995)scale(0.1 -0.1)\">\r\n       <use xlink:href=\"#DejaVuSans-8722\"/>\r\n       <use x=\"83.789062\" xlink:href=\"#DejaVuSans-51\"/>\r\n       <use x=\"147.412109\" xlink:href=\"#DejaVuSans-48\"/>\r\n      </g>\r\n     </g>\r\n    </g>\r\n    <g id=\"ytick_4\">\r\n     <g id=\"line2d_10\">\r\n      <g>\r\n       <use style=\"stroke:#000000;stroke-width:0.8;\" x=\"35.304688\" xlink:href=\"#m7d4711b3e3\" y=\"114.406654\"/>\r\n      </g>\r\n     </g>\r\n     <g id=\"text_10\">\r\n      <!-- −20 -->\r\n      <g transform=\"translate(7.2 118.205873)scale(0.1 -0.1)\">\r\n       <use xlink:href=\"#DejaVuSans-8722\"/>\r\n       <use x=\"83.789062\" xlink:href=\"#DejaVuSans-50\"/>\r\n       <use x=\"147.412109\" xlink:href=\"#DejaVuSans-48\"/>\r\n      </g>\r\n     </g>\r\n    </g>\r\n    <g id=\"ytick_5\">\r\n     <g id=\"line2d_11\">\r\n      <g>\r\n       <use style=\"stroke:#000000;stroke-width:0.8;\" x=\"35.304688\" xlink:href=\"#m7d4711b3e3\" y=\"79.564532\"/>\r\n      </g>\r\n     </g>\r\n     <g id=\"text_11\">\r\n      <!-- −10 -->\r\n      <g transform=\"translate(7.2 83.363751)scale(0.1 -0.1)\">\r\n       <use xlink:href=\"#DejaVuSans-8722\"/>\r\n       <use x=\"83.789062\" xlink:href=\"#DejaVuSans-49\"/>\r\n       <use x=\"147.412109\" xlink:href=\"#DejaVuSans-48\"/>\r\n      </g>\r\n     </g>\r\n    </g>\r\n    <g id=\"ytick_6\">\r\n     <g id=\"line2d_12\">\r\n      <g>\r\n       <use style=\"stroke:#000000;stroke-width:0.8;\" x=\"35.304688\" xlink:href=\"#m7d4711b3e3\" y=\"44.72241\"/>\r\n      </g>\r\n     </g>\r\n     <g id=\"text_12\">\r\n      <!-- 0 -->\r\n      <g transform=\"translate(21.942188 48.521629)scale(0.1 -0.1)\">\r\n       <use xlink:href=\"#DejaVuSans-48\"/>\r\n      </g>\r\n     </g>\r\n    </g>\r\n   </g>\r\n   <g id=\"line2d_13\">\r\n    <path clip-path=\"url(#pe28e8c313b)\" d=\"M 50.522869 39.015554 \r\nL 51.750142 38.667204 \r\nL 52.977415 38.557748 \r\nL 54.204688 38.864473 \r\nL 55.43196 39.004244 \r\nL 56.659233 39.534075 \r\nL 57.886506 42.594852 \r\nL 59.113778 41.046856 \r\nL 60.341051 38.225267 \r\nL 61.568324 38.011554 \r\nL 62.795597 35.700251 \r\nL 64.022869 39.018961 \r\nL 65.250142 40.840313 \r\nL 66.477415 42.042499 \r\nL 67.704688 42.097327 \r\nL 68.93196 40.475144 \r\nL 70.159233 40.454818 \r\nL 71.386506 39.374858 \r\nL 72.613778 39.206041 \r\nL 73.841051 40.05959 \r\nL 75.068324 40.504345 \r\nL 76.295597 41.655077 \r\nL 77.522869 40.585818 \r\nL 78.750142 40.887206 \r\nL 81.204688 40.814347 \r\nL 82.43196 39.453578 \r\nL 83.659233 47.255691 \r\nL 84.886506 39.170493 \r\nL 86.113778 37.821377 \r\nL 87.341051 37.507194 \r\nL 88.568324 32.201761 \r\nL 89.795597 40.229572 \r\nL 91.022869 40.296666 \r\nL 92.250142 42.957163 \r\nL 93.477415 39.30493 \r\nL 94.704688 39.870246 \r\nL 95.93196 39.744602 \r\nL 97.159233 40.72038 \r\nL 100.841051 40.612921 \r\nL 102.068324 39.905872 \r\nL 103.295597 41.180303 \r\nL 104.522869 41.762065 \r\nL 105.750142 41.631385 \r\nL 106.977415 40.317409 \r\nL 108.204688 39.402492 \r\nL 109.43196 39.652964 \r\nL 110.659233 40.146252 \r\nL 111.886506 41.345639 \r\nL 113.113778 41.982655 \r\nL 114.341051 41.890212 \r\nL 115.568324 44.206506 \r\nL 116.795597 45.829869 \r\nL 118.022869 46.428437 \r\nL 119.250142 46.113106 \r\nL 120.477415 43.262516 \r\nL 121.704688 41.134009 \r\nL 122.93196 39.707176 \r\nL 124.159233 40.433323 \r\nL 126.613778 41.367722 \r\nL 127.841051 42.095713 \r\nL 129.068324 42.169318 \r\nL 130.295597 43.056478 \r\nL 131.522869 42.703181 \r\nL 132.750142 41.610023 \r\nL 133.977415 41.600874 \r\nL 135.204688 41.235045 \r\nL 136.43196 42.047091 \r\nL 137.659233 42.484662 \r\nL 138.886506 41.681394 \r\nL 140.113778 41.943205 \r\nL 141.341051 41.544261 \r\nL 142.568324 43.41858 \r\nL 143.795597 44.388911 \r\nL 145.022869 45.028926 \r\nL 146.250142 45.267837 \r\nL 147.477415 44.077348 \r\nL 149.93196 42.302062 \r\nL 152.386506 42.229426 \r\nL 153.613778 42.957282 \r\nL 154.841051 43.053777 \r\nL 157.295597 43.825572 \r\nL 159.750142 43.957553 \r\nL 160.977415 43.537287 \r\nL 162.204688 43.330097 \r\nL 163.43196 42.89967 \r\nL 164.659233 43.108366 \r\nL 165.886506 43.689346 \r\nL 168.341051 43.226633 \r\nL 169.568324 42.997513 \r\nL 170.795597 42.916281 \r\nL 172.022869 42.519938 \r\nL 175.704688 43.158064 \r\nL 176.93196 43.038438 \r\nL 178.159233 42.65481 \r\nL 179.386506 41.263742 \r\nL 180.613778 40.127818 \r\nL 181.841051 40.509685 \r\nL 183.068324 40.46155 \r\nL 184.295597 41.248853 \r\nL 185.522869 40.959924 \r\nL 186.750142 41.104782 \r\nL 189.204688 40.750669 \r\nL 190.43196 41.396543 \r\nL 191.659233 41.792547 \r\nL 194.113778 43.52382 \r\nL 195.341051 44.297185 \r\nL 197.795597 44.092261 \r\nL 199.022869 43.804898 \r\nL 200.250142 42.837404 \r\nL 201.477415 43.047714 \r\nL 202.704688 43.400895 \r\nL 203.93196 44.396892 \r\nL 205.159233 45.81603 \r\nL 206.386506 45.860363 \r\nL 207.613778 45.606817 \r\nL 208.841051 44.68618 \r\nL 211.295597 42.411994 \r\nL 212.522869 41.948603 \r\nL 213.750142 41.651552 \r\nL 214.977415 41.937045 \r\nL 218.659233 43.903667 \r\nL 219.886506 43.798589 \r\nL 221.113778 43.907496 \r\nL 222.341051 43.346261 \r\nL 224.795597 43.543861 \r\nL 226.022869 42.889475 \r\nL 227.250142 42.583513 \r\nL 228.477415 41.511794 \r\nL 229.704688 41.208633 \r\nL 230.93196 41.287876 \r\nL 232.159233 41.626211 \r\nL 233.386506 42.111362 \r\nL 235.841051 42.451804 \r\nL 237.068324 41.888613 \r\nL 238.295597 41.170136 \r\nL 239.522869 40.672008 \r\nL 240.750142 40.658903 \r\nL 243.204688 42.006965 \r\nL 244.43196 42.461733 \r\nL 245.659233 43.135444 \r\nL 246.886506 43.396799 \r\nL 248.113778 44.173149 \r\nL 249.341051 44.259076 \r\nL 251.795597 43.624061 \r\nL 253.022869 43.568067 \r\nL 254.250142 43.891911 \r\nL 255.477415 44.57051 \r\nL 256.704688 44.382661 \r\nL 257.93196 43.597771 \r\nL 259.159233 42.542156 \r\nL 260.386506 41.753929 \r\nL 261.613778 42.208103 \r\nL 262.841051 42.443547 \r\nL 264.068324 43.312911 \r\nL 265.295597 43.633779 \r\nL 266.522869 43.532741 \r\nL 267.750142 43.280525 \r\nL 268.977415 42.686978 \r\nL 270.204688 41.957274 \r\nL 271.43196 42.291195 \r\nL 272.659233 42.444637 \r\nL 273.886506 42.728845 \r\nL 275.113778 42.707507 \r\nL 276.341051 42.488624 \r\nL 277.568324 42.991884 \r\nL 278.795597 43.242904 \r\nL 280.022869 44.619545 \r\nL 281.250142 45.177386 \r\nL 282.477415 46.804929 \r\nL 283.704688 48.645788 \r\nL 284.93196 48.540033 \r\nL 286.159233 47.642713 \r\nL 287.386506 44.996852 \r\nL 288.613778 43.074163 \r\nL 289.841051 42.265127 \r\nL 291.068324 42.36654 \r\nL 292.295597 42.815396 \r\nL 293.522869 42.20123 \r\nL 294.750142 42.65064 \r\nL 295.977415 42.919844 \r\nL 298.43196 44.369757 \r\nL 299.659233 44.672399 \r\nL 302.113778 44.739549 \r\nL 303.341051 44.921262 \r\nL 304.568324 44.121413 \r\nL 305.795597 44.087638 \r\nL 307.022869 43.52731 \r\nL 308.250142 43.607961 \r\nL 309.477415 43.998015 \r\nL 310.704688 43.880311 \r\nL 311.93196 44.20113 \r\nL 313.159233 43.646456 \r\nL 314.386506 43.909846 \r\nL 315.613778 43.82328 \r\nL 316.841051 44.01526 \r\nL 318.068324 43.782301 \r\nL 320.522869 44.074786 \r\nL 322.977415 43.464334 \r\nL 324.204688 42.502971 \r\nL 326.659233 41.741358 \r\nL 327.886506 42.635491 \r\nL 329.113778 43.27863 \r\nL 330.341051 43.730955 \r\nL 331.568324 43.731411 \r\nL 332.795597 43.272726 \r\nL 334.022869 43.114031 \r\nL 335.250142 43.255897 \r\nL 336.477415 44.240584 \r\nL 337.704688 50.403121 \r\nL 338.93196 64.521254 \r\nL 340.159233 72.013334 \r\nL 341.386506 81.888193 \r\nL 343.841051 98.868725 \r\nL 345.068324 108.400416 \r\nL 347.522869 125.98508 \r\nL 354.886506 180.918867 \r\nL 354.886506 180.918867 \r\n\" style=\"fill:none;stroke:#1f77b4;stroke-linecap:square;stroke-width:1.5;\"/>\r\n   </g>\r\n   <g id=\"line2d_14\">\r\n    <path clip-path=\"url(#pe28e8c313b)\" d=\"M 50.522869 39.28439 \r\nL 51.750142 38.977034 \r\nL 52.977415 38.886768 \r\nL 54.204688 38.94647 \r\nL 55.43196 39.207637 \r\nL 56.659233 40.911984 \r\nL 57.886506 41.180393 \r\nL 59.113778 39.129581 \r\nL 60.341051 38.729547 \r\nL 61.568324 37.59374 \r\nL 62.795597 37.575514 \r\nL 64.022869 40.005361 \r\nL 65.250142 40.649982 \r\nL 66.477415 41.115193 \r\nL 67.704688 41.172436 \r\nL 68.93196 40.411163 \r\nL 70.159233 40.103141 \r\nL 71.386506 39.594147 \r\nL 72.613778 39.722785 \r\nL 75.068324 40.781563 \r\nL 76.295597 40.796734 \r\nL 77.522869 40.625359 \r\nL 78.750142 40.887624 \r\nL 79.977415 40.781118 \r\nL 81.204688 40.073492 \r\nL 82.43196 43.331036 \r\nL 83.659233 42.572559 \r\nL 84.886506 38.013939 \r\nL 86.113778 39.179413 \r\nL 87.341051 35.996532 \r\nL 88.568324 36.168071 \r\nL 89.795597 40.811741 \r\nL 91.022869 40.161374 \r\nL 92.250142 39.927657 \r\nL 93.477415 40.258284 \r\nL 94.704688 39.730518 \r\nL 97.159233 40.699433 \r\nL 98.386506 40.345215 \r\nL 99.613778 40.545575 \r\nL 100.841051 40.34205 \r\nL 102.068324 40.454023 \r\nL 103.295597 41.403667 \r\nL 104.522869 41.377181 \r\nL 106.977415 40.129557 \r\nL 108.204688 39.839022 \r\nL 109.43196 40.018038 \r\nL 111.886506 41.336658 \r\nL 113.113778 41.552302 \r\nL 114.341051 42.729921 \r\nL 115.568324 44.558128 \r\nL 116.795597 45.279832 \r\nL 118.022869 45.629991 \r\nL 119.250142 44.626355 \r\nL 120.477415 42.545343 \r\nL 121.704688 41.300982 \r\nL 122.93196 40.854535 \r\nL 124.159233 40.86278 \r\nL 125.386506 41.066073 \r\nL 126.613778 41.553752 \r\nL 130.295597 42.659072 \r\nL 131.522869 42.000769 \r\nL 132.750142 41.703992 \r\nL 135.204688 41.629852 \r\nL 136.43196 42.168036 \r\nL 138.886506 41.691315 \r\nL 140.113778 41.86746 \r\nL 141.341051 42.405159 \r\nL 142.568324 43.561889 \r\nL 143.795597 44.205379 \r\nL 145.022869 44.645503 \r\nL 146.250142 44.477534 \r\nL 147.477415 43.673981 \r\nL 148.704688 43.070986 \r\nL 149.93196 42.619045 \r\nL 151.159233 42.402515 \r\nL 157.295597 43.699183 \r\nL 159.750142 43.68292 \r\nL 162.204688 43.172381 \r\nL 163.43196 43.097792 \r\nL 164.659233 43.401783 \r\nL 165.886506 43.469057 \r\nL 167.113778 43.232932 \r\nL 169.568324 43.021611 \r\nL 170.795597 42.73114 \r\nL 172.022869 42.671414 \r\nL 175.704688 42.981668 \r\nL 176.93196 42.790986 \r\nL 178.159233 42.018816 \r\nL 179.386506 40.986878 \r\nL 180.613778 40.744234 \r\nL 183.068324 40.777981 \r\nL 184.295597 41.010877 \r\nL 185.522869 40.924192 \r\nL 186.750142 40.952922 \r\nL 187.977415 40.86696 \r\nL 189.204688 41.024166 \r\nL 191.659233 41.994596 \r\nL 194.113778 43.533383 \r\nL 195.341051 43.851523 \r\nL 197.795597 43.886423 \r\nL 199.022869 43.348008 \r\nL 200.250142 43.067233 \r\nL 202.704688 43.775746 \r\nL 203.93196 44.770877 \r\nL 205.159233 45.424082 \r\nL 206.386506 45.307985 \r\nL 207.613778 45.071973 \r\nL 208.841051 44.287423 \r\nL 210.068324 43.254984 \r\nL 211.295597 42.635139 \r\nL 212.522869 42.157558 \r\nL 213.750142 41.952484 \r\nL 216.204688 42.784864 \r\nL 217.43196 43.274805 \r\nL 218.659233 43.575097 \r\nL 219.886506 43.645761 \r\nL 222.341051 43.383762 \r\nL 223.568324 43.497546 \r\nL 224.795597 43.208004 \r\nL 227.250142 42.250639 \r\nL 228.477415 41.593714 \r\nL 229.704688 41.469552 \r\nL 232.159233 41.755306 \r\nL 233.386506 42.06171 \r\nL 234.613778 42.216307 \r\nL 235.841051 42.040149 \r\nL 238.295597 41.099811 \r\nL 239.522869 40.871458 \r\nL 240.750142 41.064538 \r\nL 248.113778 43.936904 \r\nL 249.341051 43.875815 \r\nL 250.568324 43.699512 \r\nL 253.022869 43.735626 \r\nL 254.250142 44.132072 \r\nL 255.477415 44.303868 \r\nL 256.704688 43.842984 \r\nL 259.159233 42.472431 \r\nL 260.386506 42.265847 \r\nL 261.613778 42.452092 \r\nL 262.841051 42.752384 \r\nL 264.068324 43.245237 \r\nL 265.295597 43.351414 \r\nL 266.522869 43.242289 \r\nL 267.750142 43.010323 \r\nL 268.977415 42.428196 \r\nL 270.204688 42.288602 \r\nL 271.43196 42.484399 \r\nL 272.659233 42.479192 \r\nL 273.886506 42.598629 \r\nL 275.113778 42.555022 \r\nL 276.341051 42.666929 \r\nL 277.568324 43.043284 \r\nL 278.795597 43.709705 \r\nL 280.022869 44.534884 \r\nL 281.250142 45.522989 \r\nL 282.477415 47.149235 \r\nL 283.704688 47.908615 \r\nL 284.93196 47.545 \r\nL 286.159233 46.415906 \r\nL 287.386506 44.600056 \r\nL 288.613778 43.440162 \r\nL 289.841051 42.985087 \r\nL 293.522869 42.458992 \r\nL 295.977415 43.126441 \r\nL 298.43196 44.235481 \r\nL 302.113778 44.745143 \r\nL 304.568324 44.128784 \r\nL 305.795597 43.961936 \r\nL 307.022869 43.645508 \r\nL 309.477415 43.918331 \r\nL 318.068324 43.833308 \r\nL 319.295597 43.975627 \r\nL 321.750142 43.567934 \r\nL 322.977415 43.101277 \r\nL 324.204688 42.47963 \r\nL 325.43196 42.159421 \r\nL 326.659233 42.336515 \r\nL 327.886506 42.855916 \r\nL 329.113778 43.226233 \r\nL 330.341051 43.455075 \r\nL 334.022869 43.235556 \r\nL 335.250142 43.699228 \r\nL 336.477415 46.864092 \r\nL 337.704688 55.781479 \r\nL 337.704688 55.781479 \r\n\" style=\"fill:none;stroke:#ff7f0e;stroke-linecap:square;stroke-width:1.5;\"/>\r\n   </g>\r\n   <g id=\"patch_3\">\r\n    <path d=\"M 35.304688 239.758125 \r\nL 35.304688 22.318125 \r\n\" style=\"fill:none;stroke:#000000;stroke-linecap:square;stroke-linejoin:miter;stroke-width:0.8;\"/>\r\n   </g>\r\n   <g id=\"patch_4\">\r\n    <path d=\"M 370.104688 239.758125 \r\nL 370.104688 22.318125 \r\n\" style=\"fill:none;stroke:#000000;stroke-linecap:square;stroke-linejoin:miter;stroke-width:0.8;\"/>\r\n   </g>\r\n   <g id=\"patch_5\">\r\n    <path d=\"M 35.304688 239.758125 \r\nL 370.104688 239.758125 \r\n\" style=\"fill:none;stroke:#000000;stroke-linecap:square;stroke-linejoin:miter;stroke-width:0.8;\"/>\r\n   </g>\r\n   <g id=\"patch_6\">\r\n    <path d=\"M 35.304688 22.318125 \r\nL 370.104688 22.318125 \r\n\" style=\"fill:none;stroke:#000000;stroke-linecap:square;stroke-linejoin:miter;stroke-width:0.8;\"/>\r\n   </g>\r\n   <g id=\"text_13\">\r\n    <!-- Prédiction, France, modèle ARIMA(3,2,1) -->\r\n    <g transform=\"translate(81.765313 16.318125)scale(0.12 -0.12)\">\r\n     <defs>\r\n      <path d=\"M 19.671875 64.796875 \r\nL 19.671875 37.40625 \r\nL 32.078125 37.40625 \r\nQ 38.96875 37.40625 42.71875 40.96875 \r\nQ 46.484375 44.53125 46.484375 51.125 \r\nQ 46.484375 57.671875 42.71875 61.234375 \r\nQ 38.96875 64.796875 32.078125 64.796875 \r\nz\r\nM 9.8125 72.90625 \r\nL 32.078125 72.90625 \r\nQ 44.34375 72.90625 50.609375 67.359375 \r\nQ 56.890625 61.8125 56.890625 51.125 \r\nQ 56.890625 40.328125 50.609375 34.8125 \r\nQ 44.34375 29.296875 32.078125 29.296875 \r\nL 19.671875 29.296875 \r\nL 19.671875 0 \r\nL 9.8125 0 \r\nz\r\n\" id=\"DejaVuSans-80\"/>\r\n      <path d=\"M 41.109375 46.296875 \r\nQ 39.59375 47.171875 37.8125 47.578125 \r\nQ 36.03125 48 33.890625 48 \r\nQ 26.265625 48 22.1875 43.046875 \r\nQ 18.109375 38.09375 18.109375 28.8125 \r\nL 18.109375 0 \r\nL 9.078125 0 \r\nL 9.078125 54.6875 \r\nL 18.109375 54.6875 \r\nL 18.109375 46.1875 \r\nQ 20.953125 51.171875 25.484375 53.578125 \r\nQ 30.03125 56 36.53125 56 \r\nQ 37.453125 56 38.578125 55.875 \r\nQ 39.703125 55.765625 41.0625 55.515625 \r\nz\r\n\" id=\"DejaVuSans-114\"/>\r\n      <path d=\"M 56.203125 29.59375 \r\nL 56.203125 25.203125 \r\nL 14.890625 25.203125 \r\nQ 15.484375 15.921875 20.484375 11.0625 \r\nQ 25.484375 6.203125 34.421875 6.203125 \r\nQ 39.59375 6.203125 44.453125 7.46875 \r\nQ 49.3125 8.734375 54.109375 11.28125 \r\nL 54.109375 2.78125 \r\nQ 49.265625 0.734375 44.1875 -0.34375 \r\nQ 39.109375 -1.421875 33.890625 -1.421875 \r\nQ 20.796875 -1.421875 13.15625 6.1875 \r\nQ 5.515625 13.8125 5.515625 26.8125 \r\nQ 5.515625 40.234375 12.765625 48.109375 \r\nQ 20.015625 56 32.328125 56 \r\nQ 43.359375 56 49.78125 48.890625 \r\nQ 56.203125 41.796875 56.203125 29.59375 \r\nz\r\nM 47.21875 32.234375 \r\nQ 47.125 39.59375 43.09375 43.984375 \r\nQ 39.0625 48.390625 32.421875 48.390625 \r\nQ 24.90625 48.390625 20.390625 44.140625 \r\nQ 15.875 39.890625 15.1875 32.171875 \r\nz\r\nM 38.53125 79.984375 \r\nL 48.25 79.984375 \r\nL 32.34375 61.625 \r\nL 24.859375 61.625 \r\nz\r\n\" id=\"DejaVuSans-233\"/>\r\n      <path d=\"M 45.40625 46.390625 \r\nL 45.40625 75.984375 \r\nL 54.390625 75.984375 \r\nL 54.390625 0 \r\nL 45.40625 0 \r\nL 45.40625 8.203125 \r\nQ 42.578125 3.328125 38.25 0.953125 \r\nQ 33.9375 -1.421875 27.875 -1.421875 \r\nQ 17.96875 -1.421875 11.734375 6.484375 \r\nQ 5.515625 14.40625 5.515625 27.296875 \r\nQ 5.515625 40.1875 11.734375 48.09375 \r\nQ 17.96875 56 27.875 56 \r\nQ 33.9375 56 38.25 53.625 \r\nQ 42.578125 51.265625 45.40625 46.390625 \r\nz\r\nM 14.796875 27.296875 \r\nQ 14.796875 17.390625 18.875 11.75 \r\nQ 22.953125 6.109375 30.078125 6.109375 \r\nQ 37.203125 6.109375 41.296875 11.75 \r\nQ 45.40625 17.390625 45.40625 27.296875 \r\nQ 45.40625 37.203125 41.296875 42.84375 \r\nQ 37.203125 48.484375 30.078125 48.484375 \r\nQ 22.953125 48.484375 18.875 42.84375 \r\nQ 14.796875 37.203125 14.796875 27.296875 \r\nz\r\n\" id=\"DejaVuSans-100\"/>\r\n      <path d=\"M 9.421875 54.6875 \r\nL 18.40625 54.6875 \r\nL 18.40625 0 \r\nL 9.421875 0 \r\nz\r\nM 9.421875 75.984375 \r\nL 18.40625 75.984375 \r\nL 18.40625 64.59375 \r\nL 9.421875 64.59375 \r\nz\r\n\" id=\"DejaVuSans-105\"/>\r\n      <path d=\"M 48.78125 52.59375 \r\nL 48.78125 44.1875 \r\nQ 44.96875 46.296875 41.140625 47.34375 \r\nQ 37.3125 48.390625 33.40625 48.390625 \r\nQ 24.65625 48.390625 19.8125 42.84375 \r\nQ 14.984375 37.3125 14.984375 27.296875 \r\nQ 14.984375 17.28125 19.8125 11.734375 \r\nQ 24.65625 6.203125 33.40625 6.203125 \r\nQ 37.3125 6.203125 41.140625 7.25 \r\nQ 44.96875 8.296875 48.78125 10.40625 \r\nL 48.78125 2.09375 \r\nQ 45.015625 0.34375 40.984375 -0.53125 \r\nQ 36.96875 -1.421875 32.421875 -1.421875 \r\nQ 20.0625 -1.421875 12.78125 6.34375 \r\nQ 5.515625 14.109375 5.515625 27.296875 \r\nQ 5.515625 40.671875 12.859375 48.328125 \r\nQ 20.21875 56 33.015625 56 \r\nQ 37.15625 56 41.109375 55.140625 \r\nQ 45.0625 54.296875 48.78125 52.59375 \r\nz\r\n\" id=\"DejaVuSans-99\"/>\r\n      <path d=\"M 18.3125 70.21875 \r\nL 18.3125 54.6875 \r\nL 36.8125 54.6875 \r\nL 36.8125 47.703125 \r\nL 18.3125 47.703125 \r\nL 18.3125 18.015625 \r\nQ 18.3125 11.328125 20.140625 9.421875 \r\nQ 21.96875 7.515625 27.59375 7.515625 \r\nL 36.8125 7.515625 \r\nL 36.8125 0 \r\nL 27.59375 0 \r\nQ 17.1875 0 13.234375 3.875 \r\nQ 9.28125 7.765625 9.28125 18.015625 \r\nL 9.28125 47.703125 \r\nL 2.6875 47.703125 \r\nL 2.6875 54.6875 \r\nL 9.28125 54.6875 \r\nL 9.28125 70.21875 \r\nz\r\n\" id=\"DejaVuSans-116\"/>\r\n      <path d=\"M 30.609375 48.390625 \r\nQ 23.390625 48.390625 19.1875 42.75 \r\nQ 14.984375 37.109375 14.984375 27.296875 \r\nQ 14.984375 17.484375 19.15625 11.84375 \r\nQ 23.34375 6.203125 30.609375 6.203125 \r\nQ 37.796875 6.203125 41.984375 11.859375 \r\nQ 46.1875 17.53125 46.1875 27.296875 \r\nQ 46.1875 37.015625 41.984375 42.703125 \r\nQ 37.796875 48.390625 30.609375 48.390625 \r\nz\r\nM 30.609375 56 \r\nQ 42.328125 56 49.015625 48.375 \r\nQ 55.71875 40.765625 55.71875 27.296875 \r\nQ 55.71875 13.875 49.015625 6.21875 \r\nQ 42.328125 -1.421875 30.609375 -1.421875 \r\nQ 18.84375 -1.421875 12.171875 6.21875 \r\nQ 5.515625 13.875 5.515625 27.296875 \r\nQ 5.515625 40.765625 12.171875 48.375 \r\nQ 18.84375 56 30.609375 56 \r\nz\r\n\" id=\"DejaVuSans-111\"/>\r\n      <path d=\"M 54.890625 33.015625 \r\nL 54.890625 0 \r\nL 45.90625 0 \r\nL 45.90625 32.71875 \r\nQ 45.90625 40.484375 42.875 44.328125 \r\nQ 39.84375 48.1875 33.796875 48.1875 \r\nQ 26.515625 48.1875 22.3125 43.546875 \r\nQ 18.109375 38.921875 18.109375 30.90625 \r\nL 18.109375 0 \r\nL 9.078125 0 \r\nL 9.078125 54.6875 \r\nL 18.109375 54.6875 \r\nL 18.109375 46.1875 \r\nQ 21.34375 51.125 25.703125 53.5625 \r\nQ 30.078125 56 35.796875 56 \r\nQ 45.21875 56 50.046875 50.171875 \r\nQ 54.890625 44.34375 54.890625 33.015625 \r\nz\r\n\" id=\"DejaVuSans-110\"/>\r\n      <path d=\"M 11.71875 12.40625 \r\nL 22.015625 12.40625 \r\nL 22.015625 4 \r\nL 14.015625 -11.625 \r\nL 7.71875 -11.625 \r\nL 11.71875 4 \r\nz\r\n\" id=\"DejaVuSans-44\"/>\r\n      <path id=\"DejaVuSans-32\"/>\r\n      <path d=\"M 9.8125 72.90625 \r\nL 51.703125 72.90625 \r\nL 51.703125 64.59375 \r\nL 19.671875 64.59375 \r\nL 19.671875 43.109375 \r\nL 48.578125 43.109375 \r\nL 48.578125 34.8125 \r\nL 19.671875 34.8125 \r\nL 19.671875 0 \r\nL 9.8125 0 \r\nz\r\n\" id=\"DejaVuSans-70\"/>\r\n      <path d=\"M 34.28125 27.484375 \r\nQ 23.390625 27.484375 19.1875 25 \r\nQ 14.984375 22.515625 14.984375 16.5 \r\nQ 14.984375 11.71875 18.140625 8.90625 \r\nQ 21.296875 6.109375 26.703125 6.109375 \r\nQ 34.1875 6.109375 38.703125 11.40625 \r\nQ 43.21875 16.703125 43.21875 25.484375 \r\nL 43.21875 27.484375 \r\nz\r\nM 52.203125 31.203125 \r\nL 52.203125 0 \r\nL 43.21875 0 \r\nL 43.21875 8.296875 \r\nQ 40.140625 3.328125 35.546875 0.953125 \r\nQ 30.953125 -1.421875 24.3125 -1.421875 \r\nQ 15.921875 -1.421875 10.953125 3.296875 \r\nQ 6 8.015625 6 15.921875 \r\nQ 6 25.140625 12.171875 29.828125 \r\nQ 18.359375 34.515625 30.609375 34.515625 \r\nL 43.21875 34.515625 \r\nL 43.21875 35.40625 \r\nQ 43.21875 41.609375 39.140625 45 \r\nQ 35.0625 48.390625 27.6875 48.390625 \r\nQ 23 48.390625 18.546875 47.265625 \r\nQ 14.109375 46.140625 10.015625 43.890625 \r\nL 10.015625 52.203125 \r\nQ 14.9375 54.109375 19.578125 55.046875 \r\nQ 24.21875 56 28.609375 56 \r\nQ 40.484375 56 46.34375 49.84375 \r\nQ 52.203125 43.703125 52.203125 31.203125 \r\nz\r\n\" id=\"DejaVuSans-97\"/>\r\n      <path d=\"M 56.203125 29.59375 \r\nL 56.203125 25.203125 \r\nL 14.890625 25.203125 \r\nQ 15.484375 15.921875 20.484375 11.0625 \r\nQ 25.484375 6.203125 34.421875 6.203125 \r\nQ 39.59375 6.203125 44.453125 7.46875 \r\nQ 49.3125 8.734375 54.109375 11.28125 \r\nL 54.109375 2.78125 \r\nQ 49.265625 0.734375 44.1875 -0.34375 \r\nQ 39.109375 -1.421875 33.890625 -1.421875 \r\nQ 20.796875 -1.421875 13.15625 6.1875 \r\nQ 5.515625 13.8125 5.515625 26.8125 \r\nQ 5.515625 40.234375 12.765625 48.109375 \r\nQ 20.015625 56 32.328125 56 \r\nQ 43.359375 56 49.78125 48.890625 \r\nQ 56.203125 41.796875 56.203125 29.59375 \r\nz\r\nM 47.21875 32.234375 \r\nQ 47.125 39.59375 43.09375 43.984375 \r\nQ 39.0625 48.390625 32.421875 48.390625 \r\nQ 24.90625 48.390625 20.390625 44.140625 \r\nQ 15.875 39.890625 15.1875 32.171875 \r\nz\r\n\" id=\"DejaVuSans-101\"/>\r\n      <path d=\"M 52 44.1875 \r\nQ 55.375 50.25 60.0625 53.125 \r\nQ 64.75 56 71.09375 56 \r\nQ 79.640625 56 84.28125 50.015625 \r\nQ 88.921875 44.046875 88.921875 33.015625 \r\nL 88.921875 0 \r\nL 79.890625 0 \r\nL 79.890625 32.71875 \r\nQ 79.890625 40.578125 77.09375 44.375 \r\nQ 74.3125 48.1875 68.609375 48.1875 \r\nQ 61.625 48.1875 57.5625 43.546875 \r\nQ 53.515625 38.921875 53.515625 30.90625 \r\nL 53.515625 0 \r\nL 44.484375 0 \r\nL 44.484375 32.71875 \r\nQ 44.484375 40.625 41.703125 44.40625 \r\nQ 38.921875 48.1875 33.109375 48.1875 \r\nQ 26.21875 48.1875 22.15625 43.53125 \r\nQ 18.109375 38.875 18.109375 30.90625 \r\nL 18.109375 0 \r\nL 9.078125 0 \r\nL 9.078125 54.6875 \r\nL 18.109375 54.6875 \r\nL 18.109375 46.1875 \r\nQ 21.1875 51.21875 25.484375 53.609375 \r\nQ 29.78125 56 35.6875 56 \r\nQ 41.65625 56 45.828125 52.96875 \r\nQ 50 49.953125 52 44.1875 \r\nz\r\n\" id=\"DejaVuSans-109\"/>\r\n      <path d=\"M 56.203125 29.59375 \r\nL 56.203125 25.203125 \r\nL 14.890625 25.203125 \r\nQ 15.484375 15.921875 20.484375 11.0625 \r\nQ 25.484375 6.203125 34.421875 6.203125 \r\nQ 39.59375 6.203125 44.453125 7.46875 \r\nQ 49.3125 8.734375 54.109375 11.28125 \r\nL 54.109375 2.78125 \r\nQ 49.265625 0.734375 44.1875 -0.34375 \r\nQ 39.109375 -1.421875 33.890625 -1.421875 \r\nQ 20.796875 -1.421875 13.15625 6.1875 \r\nQ 5.515625 13.8125 5.515625 26.8125 \r\nQ 5.515625 40.234375 12.765625 48.109375 \r\nQ 20.015625 56 32.328125 56 \r\nQ 43.359375 56 49.78125 48.890625 \r\nQ 56.203125 41.796875 56.203125 29.59375 \r\nz\r\nM 47.21875 32.234375 \r\nQ 47.125 39.59375 43.09375 43.984375 \r\nQ 39.0625 48.390625 32.421875 48.390625 \r\nQ 24.90625 48.390625 20.390625 44.140625 \r\nQ 15.875 39.890625 15.1875 32.171875 \r\nz\r\nM 24.671875 79.984375 \r\nL 38.4375 61.71875 \r\nL 30.96875 61.71875 \r\nL 15.046875 79.984375 \r\nz\r\n\" id=\"DejaVuSans-232\"/>\r\n      <path d=\"M 9.421875 75.984375 \r\nL 18.40625 75.984375 \r\nL 18.40625 0 \r\nL 9.421875 0 \r\nz\r\n\" id=\"DejaVuSans-108\"/>\r\n      <path d=\"M 34.1875 63.1875 \r\nL 20.796875 26.90625 \r\nL 47.609375 26.90625 \r\nz\r\nM 28.609375 72.90625 \r\nL 39.796875 72.90625 \r\nL 67.578125 0 \r\nL 57.328125 0 \r\nL 50.6875 18.703125 \r\nL 17.828125 18.703125 \r\nL 11.1875 0 \r\nL 0.78125 0 \r\nz\r\n\" id=\"DejaVuSans-65\"/>\r\n      <path d=\"M 44.390625 34.1875 \r\nQ 47.5625 33.109375 50.5625 29.59375 \r\nQ 53.5625 26.078125 56.59375 19.921875 \r\nL 66.609375 0 \r\nL 56 0 \r\nL 46.6875 18.703125 \r\nQ 43.0625 26.03125 39.671875 28.421875 \r\nQ 36.28125 30.8125 30.421875 30.8125 \r\nL 19.671875 30.8125 \r\nL 19.671875 0 \r\nL 9.8125 0 \r\nL 9.8125 72.90625 \r\nL 32.078125 72.90625 \r\nQ 44.578125 72.90625 50.734375 67.671875 \r\nQ 56.890625 62.453125 56.890625 51.90625 \r\nQ 56.890625 45.015625 53.6875 40.46875 \r\nQ 50.484375 35.9375 44.390625 34.1875 \r\nz\r\nM 19.671875 64.796875 \r\nL 19.671875 38.921875 \r\nL 32.078125 38.921875 \r\nQ 39.203125 38.921875 42.84375 42.21875 \r\nQ 46.484375 45.515625 46.484375 51.90625 \r\nQ 46.484375 58.296875 42.84375 61.546875 \r\nQ 39.203125 64.796875 32.078125 64.796875 \r\nz\r\n\" id=\"DejaVuSans-82\"/>\r\n      <path d=\"M 9.8125 72.90625 \r\nL 19.671875 72.90625 \r\nL 19.671875 0 \r\nL 9.8125 0 \r\nz\r\n\" id=\"DejaVuSans-73\"/>\r\n      <path d=\"M 9.8125 72.90625 \r\nL 24.515625 72.90625 \r\nL 43.109375 23.296875 \r\nL 61.8125 72.90625 \r\nL 76.515625 72.90625 \r\nL 76.515625 0 \r\nL 66.890625 0 \r\nL 66.890625 64.015625 \r\nL 48.09375 14.015625 \r\nL 38.1875 14.015625 \r\nL 19.390625 64.015625 \r\nL 19.390625 0 \r\nL 9.8125 0 \r\nz\r\n\" id=\"DejaVuSans-77\"/>\r\n      <path d=\"M 31 75.875 \r\nQ 24.46875 64.65625 21.28125 53.65625 \r\nQ 18.109375 42.671875 18.109375 31.390625 \r\nQ 18.109375 20.125 21.3125 9.0625 \r\nQ 24.515625 -2 31 -13.1875 \r\nL 23.1875 -13.1875 \r\nQ 15.875 -1.703125 12.234375 9.375 \r\nQ 8.59375 20.453125 8.59375 31.390625 \r\nQ 8.59375 42.28125 12.203125 53.3125 \r\nQ 15.828125 64.359375 23.1875 75.875 \r\nz\r\n\" id=\"DejaVuSans-40\"/>\r\n      <path d=\"M 8.015625 75.875 \r\nL 15.828125 75.875 \r\nQ 23.140625 64.359375 26.78125 53.3125 \r\nQ 30.421875 42.28125 30.421875 31.390625 \r\nQ 30.421875 20.453125 26.78125 9.375 \r\nQ 23.140625 -1.703125 15.828125 -13.1875 \r\nL 8.015625 -13.1875 \r\nQ 14.5 -2 17.703125 9.0625 \r\nQ 20.90625 20.125 20.90625 31.390625 \r\nQ 20.90625 42.671875 17.703125 53.65625 \r\nQ 14.5 64.65625 8.015625 75.875 \r\nz\r\n\" id=\"DejaVuSans-41\"/>\r\n     </defs>\r\n     <use xlink:href=\"#DejaVuSans-80\"/>\r\n     <use x=\"58.552734\" xlink:href=\"#DejaVuSans-114\"/>\r\n     <use x=\"97.416016\" xlink:href=\"#DejaVuSans-233\"/>\r\n     <use x=\"158.939453\" xlink:href=\"#DejaVuSans-100\"/>\r\n     <use x=\"222.416016\" xlink:href=\"#DejaVuSans-105\"/>\r\n     <use x=\"250.199219\" xlink:href=\"#DejaVuSans-99\"/>\r\n     <use x=\"305.179688\" xlink:href=\"#DejaVuSans-116\"/>\r\n     <use x=\"344.388672\" xlink:href=\"#DejaVuSans-105\"/>\r\n     <use x=\"372.171875\" xlink:href=\"#DejaVuSans-111\"/>\r\n     <use x=\"433.353516\" xlink:href=\"#DejaVuSans-110\"/>\r\n     <use x=\"496.732422\" xlink:href=\"#DejaVuSans-44\"/>\r\n     <use x=\"528.519531\" xlink:href=\"#DejaVuSans-32\"/>\r\n     <use x=\"560.306641\" xlink:href=\"#DejaVuSans-70\"/>\r\n     <use x=\"610.576172\" xlink:href=\"#DejaVuSans-114\"/>\r\n     <use x=\"651.689453\" xlink:href=\"#DejaVuSans-97\"/>\r\n     <use x=\"712.96875\" xlink:href=\"#DejaVuSans-110\"/>\r\n     <use x=\"776.347656\" xlink:href=\"#DejaVuSans-99\"/>\r\n     <use x=\"831.328125\" xlink:href=\"#DejaVuSans-101\"/>\r\n     <use x=\"892.851562\" xlink:href=\"#DejaVuSans-44\"/>\r\n     <use x=\"924.638672\" xlink:href=\"#DejaVuSans-32\"/>\r\n     <use x=\"956.425781\" xlink:href=\"#DejaVuSans-109\"/>\r\n     <use x=\"1053.837891\" xlink:href=\"#DejaVuSans-111\"/>\r\n     <use x=\"1115.019531\" xlink:href=\"#DejaVuSans-100\"/>\r\n     <use x=\"1178.496094\" xlink:href=\"#DejaVuSans-232\"/>\r\n     <use x=\"1240.019531\" xlink:href=\"#DejaVuSans-108\"/>\r\n     <use x=\"1267.802734\" xlink:href=\"#DejaVuSans-101\"/>\r\n     <use x=\"1329.326172\" xlink:href=\"#DejaVuSans-32\"/>\r\n     <use x=\"1361.113281\" xlink:href=\"#DejaVuSans-65\"/>\r\n     <use x=\"1429.521484\" xlink:href=\"#DejaVuSans-82\"/>\r\n     <use x=\"1499.003906\" xlink:href=\"#DejaVuSans-73\"/>\r\n     <use x=\"1528.496094\" xlink:href=\"#DejaVuSans-77\"/>\r\n     <use x=\"1614.775391\" xlink:href=\"#DejaVuSans-65\"/>\r\n     <use x=\"1683.183594\" xlink:href=\"#DejaVuSans-40\"/>\r\n     <use x=\"1722.197266\" xlink:href=\"#DejaVuSans-51\"/>\r\n     <use x=\"1785.820312\" xlink:href=\"#DejaVuSans-44\"/>\r\n     <use x=\"1817.607422\" xlink:href=\"#DejaVuSans-50\"/>\r\n     <use x=\"1881.230469\" xlink:href=\"#DejaVuSans-44\"/>\r\n     <use x=\"1913.017578\" xlink:href=\"#DejaVuSans-49\"/>\r\n     <use x=\"1976.640625\" xlink:href=\"#DejaVuSans-41\"/>\r\n    </g>\r\n   </g>\r\n   <g id=\"legend_1\">\r\n    <g id=\"patch_7\">\r\n     <path d=\"M 42.304688 234.758125 \r\nL 195.75625 234.758125 \r\nQ 197.75625 234.758125 197.75625 232.758125 \r\nL 197.75625 189.72375 \r\nQ 197.75625 187.72375 195.75625 187.72375 \r\nL 42.304688 187.72375 \r\nQ 40.304688 187.72375 40.304688 189.72375 \r\nL 40.304688 232.758125 \r\nQ 40.304688 234.758125 42.304688 234.758125 \r\nz\r\n\" style=\"fill:#ffffff;opacity:0.8;stroke:#cccccc;stroke-linejoin:miter;\"/>\r\n    </g>\r\n    <g id=\"line2d_15\">\r\n     <path d=\"M 44.304688 195.822188 \r\nL 64.304688 195.822188 \r\n\" style=\"fill:none;stroke:#1f77b4;stroke-linecap:square;stroke-width:1.5;\"/>\r\n    </g>\r\n    <g id=\"line2d_16\"/>\r\n    <g id=\"text_14\">\r\n     <!-- forecast -->\r\n     <g transform=\"translate(72.304688 199.322188)scale(0.1 -0.1)\">\r\n      <defs>\r\n       <path d=\"M 37.109375 75.984375 \r\nL 37.109375 68.5 \r\nL 28.515625 68.5 \r\nQ 23.6875 68.5 21.796875 66.546875 \r\nQ 19.921875 64.59375 19.921875 59.515625 \r\nL 19.921875 54.6875 \r\nL 34.71875 54.6875 \r\nL 34.71875 47.703125 \r\nL 19.921875 47.703125 \r\nL 19.921875 0 \r\nL 10.890625 0 \r\nL 10.890625 47.703125 \r\nL 2.296875 47.703125 \r\nL 2.296875 54.6875 \r\nL 10.890625 54.6875 \r\nL 10.890625 58.5 \r\nQ 10.890625 67.625 15.140625 71.796875 \r\nQ 19.390625 75.984375 28.609375 75.984375 \r\nz\r\n\" id=\"DejaVuSans-102\"/>\r\n       <path d=\"M 44.28125 53.078125 \r\nL 44.28125 44.578125 \r\nQ 40.484375 46.53125 36.375 47.5 \r\nQ 32.28125 48.484375 27.875 48.484375 \r\nQ 21.1875 48.484375 17.84375 46.4375 \r\nQ 14.5 44.390625 14.5 40.28125 \r\nQ 14.5 37.15625 16.890625 35.375 \r\nQ 19.28125 33.59375 26.515625 31.984375 \r\nL 29.59375 31.296875 \r\nQ 39.15625 29.25 43.1875 25.515625 \r\nQ 47.21875 21.78125 47.21875 15.09375 \r\nQ 47.21875 7.46875 41.1875 3.015625 \r\nQ 35.15625 -1.421875 24.609375 -1.421875 \r\nQ 20.21875 -1.421875 15.453125 -0.5625 \r\nQ 10.6875 0.296875 5.421875 2 \r\nL 5.421875 11.28125 \r\nQ 10.40625 8.6875 15.234375 7.390625 \r\nQ 20.0625 6.109375 24.8125 6.109375 \r\nQ 31.15625 6.109375 34.5625 8.28125 \r\nQ 37.984375 10.453125 37.984375 14.40625 \r\nQ 37.984375 18.0625 35.515625 20.015625 \r\nQ 33.0625 21.96875 24.703125 23.78125 \r\nL 21.578125 24.515625 \r\nQ 13.234375 26.265625 9.515625 29.90625 \r\nQ 5.8125 33.546875 5.8125 39.890625 \r\nQ 5.8125 47.609375 11.28125 51.796875 \r\nQ 16.75 56 26.8125 56 \r\nQ 31.78125 56 36.171875 55.265625 \r\nQ 40.578125 54.546875 44.28125 53.078125 \r\nz\r\n\" id=\"DejaVuSans-115\"/>\r\n      </defs>\r\n      <use xlink:href=\"#DejaVuSans-102\"/>\r\n      <use x=\"35.205078\" xlink:href=\"#DejaVuSans-111\"/>\r\n      <use x=\"96.386719\" xlink:href=\"#DejaVuSans-114\"/>\r\n      <use x=\"135.25\" xlink:href=\"#DejaVuSans-101\"/>\r\n      <use x=\"196.773438\" xlink:href=\"#DejaVuSans-99\"/>\r\n      <use x=\"251.753906\" xlink:href=\"#DejaVuSans-97\"/>\r\n      <use x=\"313.033203\" xlink:href=\"#DejaVuSans-115\"/>\r\n      <use x=\"365.132812\" xlink:href=\"#DejaVuSans-116\"/>\r\n     </g>\r\n    </g>\r\n    <g id=\"line2d_17\">\r\n     <path d=\"M 44.304688 210.500313 \r\nL 64.304688 210.500313 \r\n\" style=\"fill:none;stroke:#ff7f0e;stroke-linecap:square;stroke-width:1.5;\"/>\r\n    </g>\r\n    <g id=\"line2d_18\"/>\r\n    <g id=\"text_15\">\r\n     <!-- y -->\r\n     <g transform=\"translate(72.304688 214.000313)scale(0.1 -0.1)\">\r\n      <defs>\r\n       <path d=\"M 32.171875 -5.078125 \r\nQ 28.375 -14.84375 24.75 -17.8125 \r\nQ 21.140625 -20.796875 15.09375 -20.796875 \r\nL 7.90625 -20.796875 \r\nL 7.90625 -13.28125 \r\nL 13.1875 -13.28125 \r\nQ 16.890625 -13.28125 18.9375 -11.515625 \r\nQ 21 -9.765625 23.484375 -3.21875 \r\nL 25.09375 0.875 \r\nL 2.984375 54.6875 \r\nL 12.5 54.6875 \r\nL 29.59375 11.921875 \r\nL 46.6875 54.6875 \r\nL 56.203125 54.6875 \r\nz\r\n\" id=\"DejaVuSans-121\"/>\r\n      </defs>\r\n      <use xlink:href=\"#DejaVuSans-121\"/>\r\n     </g>\r\n    </g>\r\n    <g id=\"patch_8\">\r\n     <path d=\"M 44.304688 228.678438 \r\nL 64.304688 228.678438 \r\nL 64.304688 221.678438 \r\nL 44.304688 221.678438 \r\nz\r\n\" style=\"fill:#808080;opacity:0.5;stroke:#808080;stroke-linejoin:miter;\"/>\r\n    </g>\r\n    <g id=\"text_16\">\r\n     <!-- 95% confidence interval -->\r\n     <g transform=\"translate(72.304688 228.678438)scale(0.1 -0.1)\">\r\n      <defs>\r\n       <path d=\"M 72.703125 32.078125 \r\nQ 68.453125 32.078125 66.03125 28.46875 \r\nQ 63.625 24.859375 63.625 18.40625 \r\nQ 63.625 12.0625 66.03125 8.421875 \r\nQ 68.453125 4.78125 72.703125 4.78125 \r\nQ 76.859375 4.78125 79.265625 8.421875 \r\nQ 81.6875 12.0625 81.6875 18.40625 \r\nQ 81.6875 24.8125 79.265625 28.4375 \r\nQ 76.859375 32.078125 72.703125 32.078125 \r\nz\r\nM 72.703125 38.28125 \r\nQ 80.421875 38.28125 84.953125 32.90625 \r\nQ 89.5 27.546875 89.5 18.40625 \r\nQ 89.5 9.28125 84.9375 3.921875 \r\nQ 80.375 -1.421875 72.703125 -1.421875 \r\nQ 64.890625 -1.421875 60.34375 3.921875 \r\nQ 55.8125 9.28125 55.8125 18.40625 \r\nQ 55.8125 27.59375 60.375 32.9375 \r\nQ 64.9375 38.28125 72.703125 38.28125 \r\nz\r\nM 22.3125 68.015625 \r\nQ 18.109375 68.015625 15.6875 64.375 \r\nQ 13.28125 60.75 13.28125 54.390625 \r\nQ 13.28125 47.953125 15.671875 44.328125 \r\nQ 18.0625 40.71875 22.3125 40.71875 \r\nQ 26.5625 40.71875 28.96875 44.328125 \r\nQ 31.390625 47.953125 31.390625 54.390625 \r\nQ 31.390625 60.6875 28.953125 64.34375 \r\nQ 26.515625 68.015625 22.3125 68.015625 \r\nz\r\nM 66.40625 74.21875 \r\nL 74.21875 74.21875 \r\nL 28.609375 -1.421875 \r\nL 20.796875 -1.421875 \r\nz\r\nM 22.3125 74.21875 \r\nQ 30.03125 74.21875 34.609375 68.875 \r\nQ 39.203125 63.53125 39.203125 54.390625 \r\nQ 39.203125 45.171875 34.640625 39.84375 \r\nQ 30.078125 34.515625 22.3125 34.515625 \r\nQ 14.546875 34.515625 10.03125 39.859375 \r\nQ 5.515625 45.21875 5.515625 54.390625 \r\nQ 5.515625 63.484375 10.046875 68.84375 \r\nQ 14.59375 74.21875 22.3125 74.21875 \r\nz\r\n\" id=\"DejaVuSans-37\"/>\r\n       <path d=\"M 2.984375 54.6875 \r\nL 12.5 54.6875 \r\nL 29.59375 8.796875 \r\nL 46.6875 54.6875 \r\nL 56.203125 54.6875 \r\nL 35.6875 0 \r\nL 23.484375 0 \r\nz\r\n\" id=\"DejaVuSans-118\"/>\r\n      </defs>\r\n      <use xlink:href=\"#DejaVuSans-57\"/>\r\n      <use x=\"63.623047\" xlink:href=\"#DejaVuSans-53\"/>\r\n      <use x=\"127.246094\" xlink:href=\"#DejaVuSans-37\"/>\r\n      <use x=\"222.265625\" xlink:href=\"#DejaVuSans-32\"/>\r\n      <use x=\"254.052734\" xlink:href=\"#DejaVuSans-99\"/>\r\n      <use x=\"309.033203\" xlink:href=\"#DejaVuSans-111\"/>\r\n      <use x=\"370.214844\" xlink:href=\"#DejaVuSans-110\"/>\r\n      <use x=\"433.59375\" xlink:href=\"#DejaVuSans-102\"/>\r\n      <use x=\"468.798828\" xlink:href=\"#DejaVuSans-105\"/>\r\n      <use x=\"496.582031\" xlink:href=\"#DejaVuSans-100\"/>\r\n      <use x=\"560.058594\" xlink:href=\"#DejaVuSans-101\"/>\r\n      <use x=\"621.582031\" xlink:href=\"#DejaVuSans-110\"/>\r\n      <use x=\"684.960938\" xlink:href=\"#DejaVuSans-99\"/>\r\n      <use x=\"739.941406\" xlink:href=\"#DejaVuSans-101\"/>\r\n      <use x=\"801.464844\" xlink:href=\"#DejaVuSans-32\"/>\r\n      <use x=\"833.251953\" xlink:href=\"#DejaVuSans-105\"/>\r\n      <use x=\"861.035156\" xlink:href=\"#DejaVuSans-110\"/>\r\n      <use x=\"924.414062\" xlink:href=\"#DejaVuSans-116\"/>\r\n      <use x=\"963.623047\" xlink:href=\"#DejaVuSans-101\"/>\r\n      <use x=\"1025.146484\" xlink:href=\"#DejaVuSans-114\"/>\r\n      <use x=\"1066.259766\" xlink:href=\"#DejaVuSans-118\"/>\r\n      <use x=\"1125.439453\" xlink:href=\"#DejaVuSans-97\"/>\r\n      <use x=\"1186.71875\" xlink:href=\"#DejaVuSans-108\"/>\r\n     </g>\r\n    </g>\r\n   </g>\r\n  </g>\r\n </g>\r\n <defs>\r\n  <clipPath id=\"pe28e8c313b\">\r\n   <rect height=\"217.44\" width=\"334.8\" x=\"35.304688\" y=\"22.318125\"/>\r\n  </clipPath>\r\n </defs>\r\n</svg>\r\n",
      "image/png": "[encoded data removed]"
     },
     "metadata": {
      "needs_background": "light"
     }
    }
   ],
   "source": [
    "model_fit2.plot_predict(2,finF)\n",
    "plt.gca().xaxis.set_ticklabels(date, rotation = 90)\n",
    "plt.title('Prédiction, France, modèle ARIMA(3,2,1)')\n",
    "plt.show()"
   ]
  },
  {
   "cell_type": "code",
   "execution_count": 27,
   "metadata": {},
   "outputs": [
    {
     "output_type": "stream",
     "name": "stdout",
     "text": [
      "Test RMSE: 0.286\n"
     ]
    },
    {
     "output_type": "display_data",
     "data": {
      "text/plain": "<Figure size 432x288 with 1 Axes>",
      "image/svg+xml": "<?xml version=\"1.0\" encoding=\"utf-8\" standalone=\"no\"?>\r\n<!DOCTYPE svg PUBLIC \"-//W3C//DTD SVG 1.1//EN\"\r\n  \"http://www.w3.org/Graphics/SVG/1.1/DTD/svg11.dtd\">\r\n<!-- Created with matplotlib (https://matplotlib.org/) -->\r\n<svg height=\"248.518125pt\" version=\"1.1\" viewBox=\"0 0 370.942187 248.518125\" width=\"370.942187pt\" xmlns=\"http://www.w3.org/2000/svg\" xmlns:xlink=\"http://www.w3.org/1999/xlink\">\r\n <metadata>\r\n  <rdf:RDF xmlns:cc=\"http://creativecommons.org/ns#\" xmlns:dc=\"http://purl.org/dc/elements/1.1/\" xmlns:rdf=\"http://www.w3.org/1999/02/22-rdf-syntax-ns#\">\r\n   <cc:Work>\r\n    <dc:type rdf:resource=\"http://purl.org/dc/dcmitype/StillImage\"/>\r\n    <dc:date>2020-12-03T12:37:09.182185</dc:date>\r\n    <dc:format>image/svg+xml</dc:format>\r\n    <dc:creator>\r\n     <cc:Agent>\r\n      <dc:title>Matplotlib v3.3.2, https://matplotlib.org/</dc:title>\r\n     </cc:Agent>\r\n    </dc:creator>\r\n   </cc:Work>\r\n  </rdf:RDF>\r\n </metadata>\r\n <defs>\r\n  <style type=\"text/css\">*{stroke-linecap:butt;stroke-linejoin:round;}</style>\r\n </defs>\r\n <g id=\"figure_1\">\r\n  <g id=\"patch_1\">\r\n   <path d=\"M 0 248.518125 \r\nL 370.942187 248.518125 \r\nL 370.942187 0 \r\nL 0 0 \r\nz\r\n\" style=\"fill:none;\"/>\r\n  </g>\r\n  <g id=\"axes_1\">\r\n   <g id=\"patch_2\">\r\n    <path d=\"M 28.942188 224.64 \r\nL 363.742188 224.64 \r\nL 363.742188 7.2 \r\nL 28.942188 7.2 \r\nz\r\n\" style=\"fill:#ffffff;\"/>\r\n   </g>\r\n   <g id=\"matplotlib.axis_1\">\r\n    <g id=\"xtick_1\">\r\n     <g id=\"line2d_1\">\r\n      <defs>\r\n       <path d=\"M 0 0 \r\nL 0 3.5 \r\n\" id=\"m64177bfd1c\" style=\"stroke:#000000;stroke-width:0.8;\"/>\r\n      </defs>\r\n      <g>\r\n       <use style=\"stroke:#000000;stroke-width:0.8;\" x=\"44.160369\" xlink:href=\"#m64177bfd1c\" y=\"224.64\"/>\r\n      </g>\r\n     </g>\r\n     <g id=\"text_1\">\r\n      <!-- 0 -->\r\n      <g transform=\"translate(40.979119 239.238437)scale(0.1 -0.1)\">\r\n       <defs>\r\n        <path d=\"M 31.78125 66.40625 \r\nQ 24.171875 66.40625 20.328125 58.90625 \r\nQ 16.5 51.421875 16.5 36.375 \r\nQ 16.5 21.390625 20.328125 13.890625 \r\nQ 24.171875 6.390625 31.78125 6.390625 \r\nQ 39.453125 6.390625 43.28125 13.890625 \r\nQ 47.125 21.390625 47.125 36.375 \r\nQ 47.125 51.421875 43.28125 58.90625 \r\nQ 39.453125 66.40625 31.78125 66.40625 \r\nz\r\nM 31.78125 74.21875 \r\nQ 44.046875 74.21875 50.515625 64.515625 \r\nQ 56.984375 54.828125 56.984375 36.375 \r\nQ 56.984375 17.96875 50.515625 8.265625 \r\nQ 44.046875 -1.421875 31.78125 -1.421875 \r\nQ 19.53125 -1.421875 13.0625 8.265625 \r\nQ 6.59375 17.96875 6.59375 36.375 \r\nQ 6.59375 54.828125 13.0625 64.515625 \r\nQ 19.53125 74.21875 31.78125 74.21875 \r\nz\r\n\" id=\"DejaVuSans-48\"/>\r\n       </defs>\r\n       <use xlink:href=\"#DejaVuSans-48\"/>\r\n      </g>\r\n     </g>\r\n    </g>\r\n    <g id=\"xtick_2\">\r\n     <g id=\"line2d_2\">\r\n      <g>\r\n       <use style=\"stroke:#000000;stroke-width:0.8;\" x=\"82.205824\" xlink:href=\"#m64177bfd1c\" y=\"224.64\"/>\r\n      </g>\r\n     </g>\r\n     <g id=\"text_2\">\r\n      <!-- 10 -->\r\n      <g transform=\"translate(75.843324 239.238437)scale(0.1 -0.1)\">\r\n       <defs>\r\n        <path d=\"M 12.40625 8.296875 \r\nL 28.515625 8.296875 \r\nL 28.515625 63.921875 \r\nL 10.984375 60.40625 \r\nL 10.984375 69.390625 \r\nL 28.421875 72.90625 \r\nL 38.28125 72.90625 \r\nL 38.28125 8.296875 \r\nL 54.390625 8.296875 \r\nL 54.390625 0 \r\nL 12.40625 0 \r\nz\r\n\" id=\"DejaVuSans-49\"/>\r\n       </defs>\r\n       <use xlink:href=\"#DejaVuSans-49\"/>\r\n       <use x=\"63.623047\" xlink:href=\"#DejaVuSans-48\"/>\r\n      </g>\r\n     </g>\r\n    </g>\r\n    <g id=\"xtick_3\">\r\n     <g id=\"line2d_3\">\r\n      <g>\r\n       <use style=\"stroke:#000000;stroke-width:0.8;\" x=\"120.251278\" xlink:href=\"#m64177bfd1c\" y=\"224.64\"/>\r\n      </g>\r\n     </g>\r\n     <g id=\"text_3\">\r\n      <!-- 20 -->\r\n      <g transform=\"translate(113.888778 239.238437)scale(0.1 -0.1)\">\r\n       <defs>\r\n        <path d=\"M 19.1875 8.296875 \r\nL 53.609375 8.296875 \r\nL 53.609375 0 \r\nL 7.328125 0 \r\nL 7.328125 8.296875 \r\nQ 12.9375 14.109375 22.625 23.890625 \r\nQ 32.328125 33.6875 34.8125 36.53125 \r\nQ 39.546875 41.84375 41.421875 45.53125 \r\nQ 43.3125 49.21875 43.3125 52.78125 \r\nQ 43.3125 58.59375 39.234375 62.25 \r\nQ 35.15625 65.921875 28.609375 65.921875 \r\nQ 23.96875 65.921875 18.8125 64.3125 \r\nQ 13.671875 62.703125 7.8125 59.421875 \r\nL 7.8125 69.390625 \r\nQ 13.765625 71.78125 18.9375 73 \r\nQ 24.125 74.21875 28.421875 74.21875 \r\nQ 39.75 74.21875 46.484375 68.546875 \r\nQ 53.21875 62.890625 53.21875 53.421875 \r\nQ 53.21875 48.921875 51.53125 44.890625 \r\nQ 49.859375 40.875 45.40625 35.40625 \r\nQ 44.1875 33.984375 37.640625 27.21875 \r\nQ 31.109375 20.453125 19.1875 8.296875 \r\nz\r\n\" id=\"DejaVuSans-50\"/>\r\n       </defs>\r\n       <use xlink:href=\"#DejaVuSans-50\"/>\r\n       <use x=\"63.623047\" xlink:href=\"#DejaVuSans-48\"/>\r\n      </g>\r\n     </g>\r\n    </g>\r\n    <g id=\"xtick_4\">\r\n     <g id=\"line2d_4\">\r\n      <g>\r\n       <use style=\"stroke:#000000;stroke-width:0.8;\" x=\"158.296733\" xlink:href=\"#m64177bfd1c\" y=\"224.64\"/>\r\n      </g>\r\n     </g>\r\n     <g id=\"text_4\">\r\n      <!-- 30 -->\r\n      <g transform=\"translate(151.934233 239.238437)scale(0.1 -0.1)\">\r\n       <defs>\r\n        <path d=\"M 40.578125 39.3125 \r\nQ 47.65625 37.796875 51.625 33 \r\nQ 55.609375 28.21875 55.609375 21.1875 \r\nQ 55.609375 10.40625 48.1875 4.484375 \r\nQ 40.765625 -1.421875 27.09375 -1.421875 \r\nQ 22.515625 -1.421875 17.65625 -0.515625 \r\nQ 12.796875 0.390625 7.625 2.203125 \r\nL 7.625 11.71875 \r\nQ 11.71875 9.328125 16.59375 8.109375 \r\nQ 21.484375 6.890625 26.8125 6.890625 \r\nQ 36.078125 6.890625 40.9375 10.546875 \r\nQ 45.796875 14.203125 45.796875 21.1875 \r\nQ 45.796875 27.640625 41.28125 31.265625 \r\nQ 36.765625 34.90625 28.71875 34.90625 \r\nL 20.21875 34.90625 \r\nL 20.21875 43.015625 \r\nL 29.109375 43.015625 \r\nQ 36.375 43.015625 40.234375 45.921875 \r\nQ 44.09375 48.828125 44.09375 54.296875 \r\nQ 44.09375 59.90625 40.109375 62.90625 \r\nQ 36.140625 65.921875 28.71875 65.921875 \r\nQ 24.65625 65.921875 20.015625 65.03125 \r\nQ 15.375 64.15625 9.8125 62.3125 \r\nL 9.8125 71.09375 \r\nQ 15.4375 72.65625 20.34375 73.4375 \r\nQ 25.25 74.21875 29.59375 74.21875 \r\nQ 40.828125 74.21875 47.359375 69.109375 \r\nQ 53.90625 64.015625 53.90625 55.328125 \r\nQ 53.90625 49.265625 50.4375 45.09375 \r\nQ 46.96875 40.921875 40.578125 39.3125 \r\nz\r\n\" id=\"DejaVuSans-51\"/>\r\n       </defs>\r\n       <use xlink:href=\"#DejaVuSans-51\"/>\r\n       <use x=\"63.623047\" xlink:href=\"#DejaVuSans-48\"/>\r\n      </g>\r\n     </g>\r\n    </g>\r\n    <g id=\"xtick_5\">\r\n     <g id=\"line2d_5\">\r\n      <g>\r\n       <use style=\"stroke:#000000;stroke-width:0.8;\" x=\"196.342188\" xlink:href=\"#m64177bfd1c\" y=\"224.64\"/>\r\n      </g>\r\n     </g>\r\n     <g id=\"text_5\">\r\n      <!-- 40 -->\r\n      <g transform=\"translate(189.979688 239.238437)scale(0.1 -0.1)\">\r\n       <defs>\r\n        <path d=\"M 37.796875 64.3125 \r\nL 12.890625 25.390625 \r\nL 37.796875 25.390625 \r\nz\r\nM 35.203125 72.90625 \r\nL 47.609375 72.90625 \r\nL 47.609375 25.390625 \r\nL 58.015625 25.390625 \r\nL 58.015625 17.1875 \r\nL 47.609375 17.1875 \r\nL 47.609375 0 \r\nL 37.796875 0 \r\nL 37.796875 17.1875 \r\nL 4.890625 17.1875 \r\nL 4.890625 26.703125 \r\nz\r\n\" id=\"DejaVuSans-52\"/>\r\n       </defs>\r\n       <use xlink:href=\"#DejaVuSans-52\"/>\r\n       <use x=\"63.623047\" xlink:href=\"#DejaVuSans-48\"/>\r\n      </g>\r\n     </g>\r\n    </g>\r\n    <g id=\"xtick_6\">\r\n     <g id=\"line2d_6\">\r\n      <g>\r\n       <use style=\"stroke:#000000;stroke-width:0.8;\" x=\"234.387642\" xlink:href=\"#m64177bfd1c\" y=\"224.64\"/>\r\n      </g>\r\n     </g>\r\n     <g id=\"text_6\">\r\n      <!-- 50 -->\r\n      <g transform=\"translate(228.025142 239.238437)scale(0.1 -0.1)\">\r\n       <defs>\r\n        <path d=\"M 10.796875 72.90625 \r\nL 49.515625 72.90625 \r\nL 49.515625 64.59375 \r\nL 19.828125 64.59375 \r\nL 19.828125 46.734375 \r\nQ 21.96875 47.46875 24.109375 47.828125 \r\nQ 26.265625 48.1875 28.421875 48.1875 \r\nQ 40.625 48.1875 47.75 41.5 \r\nQ 54.890625 34.8125 54.890625 23.390625 \r\nQ 54.890625 11.625 47.5625 5.09375 \r\nQ 40.234375 -1.421875 26.90625 -1.421875 \r\nQ 22.3125 -1.421875 17.546875 -0.640625 \r\nQ 12.796875 0.140625 7.71875 1.703125 \r\nL 7.71875 11.625 \r\nQ 12.109375 9.234375 16.796875 8.0625 \r\nQ 21.484375 6.890625 26.703125 6.890625 \r\nQ 35.15625 6.890625 40.078125 11.328125 \r\nQ 45.015625 15.765625 45.015625 23.390625 \r\nQ 45.015625 31 40.078125 35.4375 \r\nQ 35.15625 39.890625 26.703125 39.890625 \r\nQ 22.75 39.890625 18.8125 39.015625 \r\nQ 14.890625 38.140625 10.796875 36.28125 \r\nz\r\n\" id=\"DejaVuSans-53\"/>\r\n       </defs>\r\n       <use xlink:href=\"#DejaVuSans-53\"/>\r\n       <use x=\"63.623047\" xlink:href=\"#DejaVuSans-48\"/>\r\n      </g>\r\n     </g>\r\n    </g>\r\n    <g id=\"xtick_7\">\r\n     <g id=\"line2d_7\">\r\n      <g>\r\n       <use style=\"stroke:#000000;stroke-width:0.8;\" x=\"272.433097\" xlink:href=\"#m64177bfd1c\" y=\"224.64\"/>\r\n      </g>\r\n     </g>\r\n     <g id=\"text_7\">\r\n      <!-- 60 -->\r\n      <g transform=\"translate(266.070597 239.238437)scale(0.1 -0.1)\">\r\n       <defs>\r\n        <path d=\"M 33.015625 40.375 \r\nQ 26.375 40.375 22.484375 35.828125 \r\nQ 18.609375 31.296875 18.609375 23.390625 \r\nQ 18.609375 15.53125 22.484375 10.953125 \r\nQ 26.375 6.390625 33.015625 6.390625 \r\nQ 39.65625 6.390625 43.53125 10.953125 \r\nQ 47.40625 15.53125 47.40625 23.390625 \r\nQ 47.40625 31.296875 43.53125 35.828125 \r\nQ 39.65625 40.375 33.015625 40.375 \r\nz\r\nM 52.59375 71.296875 \r\nL 52.59375 62.3125 \r\nQ 48.875 64.0625 45.09375 64.984375 \r\nQ 41.3125 65.921875 37.59375 65.921875 \r\nQ 27.828125 65.921875 22.671875 59.328125 \r\nQ 17.53125 52.734375 16.796875 39.40625 \r\nQ 19.671875 43.65625 24.015625 45.921875 \r\nQ 28.375 48.1875 33.59375 48.1875 \r\nQ 44.578125 48.1875 50.953125 41.515625 \r\nQ 57.328125 34.859375 57.328125 23.390625 \r\nQ 57.328125 12.15625 50.6875 5.359375 \r\nQ 44.046875 -1.421875 33.015625 -1.421875 \r\nQ 20.359375 -1.421875 13.671875 8.265625 \r\nQ 6.984375 17.96875 6.984375 36.375 \r\nQ 6.984375 53.65625 15.1875 63.9375 \r\nQ 23.390625 74.21875 37.203125 74.21875 \r\nQ 40.921875 74.21875 44.703125 73.484375 \r\nQ 48.484375 72.75 52.59375 71.296875 \r\nz\r\n\" id=\"DejaVuSans-54\"/>\r\n       </defs>\r\n       <use xlink:href=\"#DejaVuSans-54\"/>\r\n       <use x=\"63.623047\" xlink:href=\"#DejaVuSans-48\"/>\r\n      </g>\r\n     </g>\r\n    </g>\r\n    <g id=\"xtick_8\">\r\n     <g id=\"line2d_8\">\r\n      <g>\r\n       <use style=\"stroke:#000000;stroke-width:0.8;\" x=\"310.478551\" xlink:href=\"#m64177bfd1c\" y=\"224.64\"/>\r\n      </g>\r\n     </g>\r\n     <g id=\"text_8\">\r\n      <!-- 70 -->\r\n      <g transform=\"translate(304.116051 239.238437)scale(0.1 -0.1)\">\r\n       <defs>\r\n        <path d=\"M 8.203125 72.90625 \r\nL 55.078125 72.90625 \r\nL 55.078125 68.703125 \r\nL 28.609375 0 \r\nL 18.3125 0 \r\nL 43.21875 64.59375 \r\nL 8.203125 64.59375 \r\nz\r\n\" id=\"DejaVuSans-55\"/>\r\n       </defs>\r\n       <use xlink:href=\"#DejaVuSans-55\"/>\r\n       <use x=\"63.623047\" xlink:href=\"#DejaVuSans-48\"/>\r\n      </g>\r\n     </g>\r\n    </g>\r\n    <g id=\"xtick_9\">\r\n     <g id=\"line2d_9\">\r\n      <g>\r\n       <use style=\"stroke:#000000;stroke-width:0.8;\" x=\"348.524006\" xlink:href=\"#m64177bfd1c\" y=\"224.64\"/>\r\n      </g>\r\n     </g>\r\n     <g id=\"text_9\">\r\n      <!-- 80 -->\r\n      <g transform=\"translate(342.161506 239.238437)scale(0.1 -0.1)\">\r\n       <defs>\r\n        <path d=\"M 31.78125 34.625 \r\nQ 24.75 34.625 20.71875 30.859375 \r\nQ 16.703125 27.09375 16.703125 20.515625 \r\nQ 16.703125 13.921875 20.71875 10.15625 \r\nQ 24.75 6.390625 31.78125 6.390625 \r\nQ 38.8125 6.390625 42.859375 10.171875 \r\nQ 46.921875 13.96875 46.921875 20.515625 \r\nQ 46.921875 27.09375 42.890625 30.859375 \r\nQ 38.875 34.625 31.78125 34.625 \r\nz\r\nM 21.921875 38.8125 \r\nQ 15.578125 40.375 12.03125 44.71875 \r\nQ 8.5 49.078125 8.5 55.328125 \r\nQ 8.5 64.0625 14.71875 69.140625 \r\nQ 20.953125 74.21875 31.78125 74.21875 \r\nQ 42.671875 74.21875 48.875 69.140625 \r\nQ 55.078125 64.0625 55.078125 55.328125 \r\nQ 55.078125 49.078125 51.53125 44.71875 \r\nQ 48 40.375 41.703125 38.8125 \r\nQ 48.828125 37.15625 52.796875 32.3125 \r\nQ 56.78125 27.484375 56.78125 20.515625 \r\nQ 56.78125 9.90625 50.3125 4.234375 \r\nQ 43.84375 -1.421875 31.78125 -1.421875 \r\nQ 19.734375 -1.421875 13.25 4.234375 \r\nQ 6.78125 9.90625 6.78125 20.515625 \r\nQ 6.78125 27.484375 10.78125 32.3125 \r\nQ 14.796875 37.15625 21.921875 38.8125 \r\nz\r\nM 18.3125 54.390625 \r\nQ 18.3125 48.734375 21.84375 45.5625 \r\nQ 25.390625 42.390625 31.78125 42.390625 \r\nQ 38.140625 42.390625 41.71875 45.5625 \r\nQ 45.3125 48.734375 45.3125 54.390625 \r\nQ 45.3125 60.0625 41.71875 63.234375 \r\nQ 38.140625 66.40625 31.78125 66.40625 \r\nQ 25.390625 66.40625 21.84375 63.234375 \r\nQ 18.3125 60.0625 18.3125 54.390625 \r\nz\r\n\" id=\"DejaVuSans-56\"/>\r\n       </defs>\r\n       <use xlink:href=\"#DejaVuSans-56\"/>\r\n       <use x=\"63.623047\" xlink:href=\"#DejaVuSans-48\"/>\r\n      </g>\r\n     </g>\r\n    </g>\r\n   </g>\r\n   <g id=\"matplotlib.axis_2\">\r\n    <g id=\"ytick_1\">\r\n     <g id=\"line2d_10\">\r\n      <defs>\r\n       <path d=\"M 0 0 \r\nL -3.5 0 \r\n\" id=\"m3da9762bbb\" style=\"stroke:#000000;stroke-width:0.8;\"/>\r\n      </defs>\r\n      <g>\r\n       <use style=\"stroke:#000000;stroke-width:0.8;\" x=\"28.942188\" xlink:href=\"#m3da9762bbb\" y=\"206.716454\"/>\r\n      </g>\r\n     </g>\r\n     <g id=\"text_10\">\r\n      <!-- −3 -->\r\n      <g transform=\"translate(7.2 210.515672)scale(0.1 -0.1)\">\r\n       <defs>\r\n        <path d=\"M 10.59375 35.5 \r\nL 73.1875 35.5 \r\nL 73.1875 27.203125 \r\nL 10.59375 27.203125 \r\nz\r\n\" id=\"DejaVuSans-8722\"/>\r\n       </defs>\r\n       <use xlink:href=\"#DejaVuSans-8722\"/>\r\n       <use x=\"83.789062\" xlink:href=\"#DejaVuSans-51\"/>\r\n      </g>\r\n     </g>\r\n    </g>\r\n    <g id=\"ytick_2\">\r\n     <g id=\"line2d_11\">\r\n      <g>\r\n       <use style=\"stroke:#000000;stroke-width:0.8;\" x=\"28.942188\" xlink:href=\"#m3da9762bbb\" y=\"160.523781\"/>\r\n      </g>\r\n     </g>\r\n     <g id=\"text_11\">\r\n      <!-- −2 -->\r\n      <g transform=\"translate(7.2 164.323)scale(0.1 -0.1)\">\r\n       <use xlink:href=\"#DejaVuSans-8722\"/>\r\n       <use x=\"83.789062\" xlink:href=\"#DejaVuSans-50\"/>\r\n      </g>\r\n     </g>\r\n    </g>\r\n    <g id=\"ytick_3\">\r\n     <g id=\"line2d_12\">\r\n      <g>\r\n       <use style=\"stroke:#000000;stroke-width:0.8;\" x=\"28.942188\" xlink:href=\"#m3da9762bbb\" y=\"114.331109\"/>\r\n      </g>\r\n     </g>\r\n     <g id=\"text_12\">\r\n      <!-- −1 -->\r\n      <g transform=\"translate(7.2 118.130327)scale(0.1 -0.1)\">\r\n       <use xlink:href=\"#DejaVuSans-8722\"/>\r\n       <use x=\"83.789062\" xlink:href=\"#DejaVuSans-49\"/>\r\n      </g>\r\n     </g>\r\n    </g>\r\n    <g id=\"ytick_4\">\r\n     <g id=\"line2d_13\">\r\n      <g>\r\n       <use style=\"stroke:#000000;stroke-width:0.8;\" x=\"28.942188\" xlink:href=\"#m3da9762bbb\" y=\"68.138436\"/>\r\n      </g>\r\n     </g>\r\n     <g id=\"text_13\">\r\n      <!-- 0 -->\r\n      <g transform=\"translate(15.579688 71.937655)scale(0.1 -0.1)\">\r\n       <use xlink:href=\"#DejaVuSans-48\"/>\r\n      </g>\r\n     </g>\r\n    </g>\r\n    <g id=\"ytick_5\">\r\n     <g id=\"line2d_14\">\r\n      <g>\r\n       <use style=\"stroke:#000000;stroke-width:0.8;\" x=\"28.942188\" xlink:href=\"#m3da9762bbb\" y=\"21.945764\"/>\r\n      </g>\r\n     </g>\r\n     <g id=\"text_14\">\r\n      <!-- 1 -->\r\n      <g transform=\"translate(15.579688 25.744982)scale(0.1 -0.1)\">\r\n       <use xlink:href=\"#DejaVuSans-49\"/>\r\n      </g>\r\n     </g>\r\n    </g>\r\n   </g>\r\n   <g id=\"line2d_15\">\r\n    <path clip-path=\"url(#p979b3c1f91)\" d=\"M 44.160369 17.083636 \r\nL 47.964915 19.643429 \r\nL 51.76946 26.079735 \r\nL 55.574006 31.582173 \r\nL 59.378551 38.643605 \r\nL 63.183097 45.18171 \r\nL 66.987642 51.660495 \r\nL 70.792188 57.72443 \r\nL 74.596733 56.914534 \r\nL 78.401278 54.577158 \r\nL 82.205824 54.130234 \r\nL 86.010369 55.055946 \r\nL 89.814915 60.311903 \r\nL 93.61946 62.589528 \r\nL 97.424006 56.479265 \r\nL 101.228551 47.784002 \r\nL 105.033097 38.308873 \r\nL 108.837642 35.570044 \r\nL 112.642188 38.039225 \r\nL 116.446733 42.020399 \r\nL 120.251278 48.554514 \r\nL 124.055824 49.962176 \r\nL 127.860369 48.515424 \r\nL 131.664915 45.440088 \r\nL 135.46946 37.722422 \r\nL 139.274006 35.871721 \r\nL 143.078551 38.467535 \r\nL 146.883097 38.398502 \r\nL 150.687642 39.981971 \r\nL 154.492188 39.403832 \r\nL 158.296733 40.887469 \r\nL 162.101278 45.877069 \r\nL 165.905824 54.712293 \r\nL 169.710369 65.652276 \r\nL 173.514915 78.752277 \r\nL 177.31946 100.312578 \r\nL 181.124006 110.380214 \r\nL 184.928551 105.559518 \r\nL 188.733097 90.590315 \r\nL 192.537642 66.516308 \r\nL 196.342188 51.138771 \r\nL 200.146733 45.105514 \r\nL 203.951278 42.803378 \r\nL 207.755824 39.188731 \r\nL 211.560369 38.130701 \r\nL 215.364915 42.573868 \r\nL 219.16946 46.979551 \r\nL 222.974006 54.998884 \r\nL 226.778551 61.682879 \r\nL 230.583097 63.57301 \r\nL 234.387642 65.876045 \r\nL 238.192187 68.43982 \r\nL 241.996733 64.229574 \r\nL 245.801278 60.268311 \r\nL 249.605824 58.05629 \r\nL 253.410369 53.861179 \r\nL 257.214915 56.404273 \r\nL 261.01946 57.478199 \r\nL 264.824006 57.182156 \r\nL 268.628551 57.052734 \r\nL 272.433097 55.455314 \r\nL 276.237642 56.546016 \r\nL 280.042188 57.09257 \r\nL 283.846733 56.156341 \r\nL 287.651278 56.350987 \r\nL 291.455824 58.23781 \r\nL 295.260369 56.192875 \r\nL 299.064915 52.832735 \r\nL 302.86946 46.645932 \r\nL 306.674006 38.404308 \r\nL 310.478551 34.159077 \r\nL 314.283097 36.50694 \r\nL 318.087642 43.393004 \r\nL 321.892188 48.302556 \r\nL 325.696733 51.336479 \r\nL 329.501278 50.138776 \r\nL 333.305824 47.500118 \r\nL 337.110369 48.426157 \r\nL 340.914915 54.573392 \r\nL 344.71946 96.532232 \r\nL 348.524006 214.756364 \r\n\" style=\"fill:none;stroke:#1f77b4;stroke-linecap:square;stroke-width:1.5;\"/>\r\n   </g>\r\n   <g id=\"line2d_16\">\r\n    <path clip-path=\"url(#p979b3c1f91)\" d=\"M 44.160369 18.892819 \r\nL 47.964915 18.180803 \r\nL 51.76946 23.471773 \r\nL 55.574006 29.57605 \r\nL 59.378551 33.30834 \r\nL 63.183097 38.897391 \r\nL 66.987642 42.887648 \r\nL 70.792188 50.606499 \r\nL 74.596733 54.94905 \r\nL 78.401278 52.403146 \r\nL 82.205824 50.938533 \r\nL 86.010369 49.857874 \r\nL 89.814915 54.282237 \r\nL 93.61946 60.653631 \r\nL 97.424006 59.868194 \r\nL 101.228551 52.54764 \r\nL 105.033097 42.222849 \r\nL 108.837642 33.858947 \r\nL 112.642188 37.511906 \r\nL 116.446733 40.046361 \r\nL 120.251278 45.072679 \r\nL 124.055824 49.199763 \r\nL 127.860369 46.767052 \r\nL 131.664915 46.232615 \r\nL 135.46946 40.78314 \r\nL 139.274006 34.915476 \r\nL 143.078551 36.57368 \r\nL 146.883097 38.540014 \r\nL 150.687642 40.589333 \r\nL 154.492188 40.221767 \r\nL 158.296733 36.33547 \r\nL 162.101278 41.689269 \r\nL 165.905824 45.129549 \r\nL 169.710369 56.117466 \r\nL 173.514915 65.703751 \r\nL 177.31946 77.890789 \r\nL 181.124006 100.6297 \r\nL 184.928551 104.497994 \r\nL 188.733097 97.940135 \r\nL 192.537642 74.565815 \r\nL 196.342188 54.101823 \r\nL 200.146733 48.521467 \r\nL 203.951278 45.236269 \r\nL 207.755824 48.577363 \r\nL 211.560369 39.285489 \r\nL 215.364915 37.319049 \r\nL 219.16946 42.891405 \r\nL 222.974006 48.258147 \r\nL 226.778551 57.162558 \r\nL 230.583097 59.466454 \r\nL 234.387642 61.703125 \r\nL 238.192187 62.434791 \r\nL 241.996733 64.99165 \r\nL 245.801278 60.692374 \r\nL 249.605824 57.204505 \r\nL 253.410369 53.759922 \r\nL 257.214915 52.741445 \r\nL 261.01946 57.37027 \r\nL 264.824006 54.915592 \r\nL 268.628551 57.921259 \r\nL 272.433097 53.35911 \r\nL 276.237642 53.108928 \r\nL 280.042188 56.109718 \r\nL 283.846733 55.053889 \r\nL 287.651278 55.356628 \r\nL 291.455824 54.279552 \r\nL 295.260369 57.017187 \r\nL 299.064915 54.186515 \r\nL 302.86946 50.774814 \r\nL 306.674006 42.11042 \r\nL 310.478551 36.328926 \r\nL 314.283097 33.568863 \r\nL 318.087642 38.629963 \r\nL 321.892188 47.584322 \r\nL 325.696733 49.657468 \r\nL 329.501278 50.430781 \r\nL 333.305824 46.000201 \r\nL 337.110369 45.277256 \r\nL 340.914915 47.360666 \r\nL 344.71946 56.324237 \r\nL 348.524006 111.940696 \r\n\" style=\"fill:none;stroke:#ff0000;stroke-linecap:square;stroke-width:1.5;\"/>\r\n   </g>\r\n   <g id=\"patch_3\">\r\n    <path d=\"M 28.942188 224.64 \r\nL 28.942188 7.2 \r\n\" style=\"fill:none;stroke:#000000;stroke-linecap:square;stroke-linejoin:miter;stroke-width:0.8;\"/>\r\n   </g>\r\n   <g id=\"patch_4\">\r\n    <path d=\"M 363.742188 224.64 \r\nL 363.742188 7.2 \r\n\" style=\"fill:none;stroke:#000000;stroke-linecap:square;stroke-linejoin:miter;stroke-width:0.8;\"/>\r\n   </g>\r\n   <g id=\"patch_5\">\r\n    <path d=\"M 28.942188 224.64 \r\nL 363.742188 224.64 \r\n\" style=\"fill:none;stroke:#000000;stroke-linecap:square;stroke-linejoin:miter;stroke-width:0.8;\"/>\r\n   </g>\r\n   <g id=\"patch_6\">\r\n    <path d=\"M 28.942188 7.2 \r\nL 363.742188 7.2 \r\n\" style=\"fill:none;stroke:#000000;stroke-linecap:square;stroke-linejoin:miter;stroke-width:0.8;\"/>\r\n   </g>\r\n  </g>\r\n </g>\r\n <defs>\r\n  <clipPath id=\"p979b3c1f91\">\r\n   <rect height=\"217.44\" width=\"334.8\" x=\"28.942188\" y=\"7.2\"/>\r\n  </clipPath>\r\n </defs>\r\n</svg>\r\n",
      "image/png": "[encoded data removed]"
     },
     "metadata": {
      "needs_background": "light"
     }
    }
   ],
   "source": [
    "#AR 6\n",
    "test = arima(data,6,0,0)\n",
    "start = len(data['valeur'])\n",
    "model_fit3 = test.fit(disp=0)"
   ]
  },
  {
   "cell_type": "code",
   "execution_count": 28,
   "metadata": {},
   "outputs": [
    {
     "output_type": "display_data",
     "data": {
      "text/plain": "<Figure size 432x288 with 1 Axes>",
      "image/svg+xml": "<?xml version=\"1.0\" encoding=\"utf-8\" standalone=\"no\"?>\r\n<!DOCTYPE svg PUBLIC \"-//W3C//DTD SVG 1.1//EN\"\r\n  \"http://www.w3.org/Graphics/SVG/1.1/DTD/svg11.dtd\">\r\n<!-- Created with matplotlib (https://matplotlib.org/) -->\r\n<svg height=\"297.612813pt\" version=\"1.1\" viewBox=\"0 0 370.942187 297.612813\" width=\"370.942187pt\" xmlns=\"http://www.w3.org/2000/svg\" xmlns:xlink=\"http://www.w3.org/1999/xlink\">\r\n <metadata>\r\n  <rdf:RDF xmlns:cc=\"http://creativecommons.org/ns#\" xmlns:dc=\"http://purl.org/dc/elements/1.1/\" xmlns:rdf=\"http://www.w3.org/1999/02/22-rdf-syntax-ns#\">\r\n   <cc:Work>\r\n    <dc:type rdf:resource=\"http://purl.org/dc/dcmitype/StillImage\"/>\r\n    <dc:date>2020-12-03T12:37:10.564994</dc:date>\r\n    <dc:format>image/svg+xml</dc:format>\r\n    <dc:creator>\r\n     <cc:Agent>\r\n      <dc:title>Matplotlib v3.3.2, https://matplotlib.org/</dc:title>\r\n     </cc:Agent>\r\n    </dc:creator>\r\n   </cc:Work>\r\n  </rdf:RDF>\r\n </metadata>\r\n <defs>\r\n  <style type=\"text/css\">*{stroke-linecap:butt;stroke-linejoin:round;}</style>\r\n </defs>\r\n <g id=\"figure_1\">\r\n  <g id=\"patch_1\">\r\n   <path d=\"M 0 297.612813 \r\nL 370.942187 297.612813 \r\nL 370.942187 0 \r\nL 0 0 \r\nz\r\n\" style=\"fill:none;\"/>\r\n  </g>\r\n  <g id=\"axes_1\">\r\n   <g id=\"patch_2\">\r\n    <path d=\"M 28.942188 239.758125 \r\nL 363.742188 239.758125 \r\nL 363.742188 22.318125 \r\nL 28.942188 22.318125 \r\nz\r\n\" style=\"fill:#ffffff;\"/>\r\n   </g>\r\n   <g id=\"PolyCollection_1\">\r\n    <defs>\r\n     <path d=\"M 332.633535 -106.113603 \r\nL 332.633535 -86.768398 \r\nL 333.855879 -71.900974 \r\nL 335.078223 -67.738324 \r\nL 336.300566 -90.642675 \r\nL 337.52291 -108.756997 \r\nL 338.745254 -111.785258 \r\nL 339.967598 -117.07768 \r\nL 341.189942 -110.883841 \r\nL 342.412286 -105.121773 \r\nL 343.63463 -111.605648 \r\nL 344.856974 -115.274283 \r\nL 346.079318 -122.339327 \r\nL 347.301662 -131.874758 \r\nL 348.524006 -132.807851 \r\nL 348.524006 -216.831119 \r\nL 348.524006 -216.831119 \r\nL 347.301662 -215.311886 \r\nL 346.079318 -204.571415 \r\nL 344.856974 -195.981396 \r\nL 343.63463 -190.53733 \r\nL 342.412286 -181.591864 \r\nL 341.189942 -185.609178 \r\nL 339.967598 -190.254627 \r\nL 338.745254 -182.56555 \r\nL 337.52291 -176.874039 \r\nL 336.300566 -152.747157 \r\nL 335.078223 -117.780071 \r\nL 333.855879 -108.95873 \r\nL 332.633535 -106.113603 \r\nz\r\n\" id=\"m69547fc313\" style=\"stroke:#808080;stroke-opacity:0.5;\"/>\r\n    </defs>\r\n    <g clip-path=\"url(#p3a1cfe72e6)\">\r\n     <use style=\"fill:#808080;fill-opacity:0.5;stroke:#808080;stroke-opacity:0.5;\" x=\"0\" xlink:href=\"#m69547fc313\" y=\"297.612813\"/>\r\n    </g>\r\n   </g>\r\n   <g id=\"matplotlib.axis_1\">\r\n    <g id=\"xtick_1\">\r\n     <g id=\"line2d_1\">\r\n      <defs>\r\n       <path d=\"M 0 0 \r\nL 0 3.5 \r\n\" id=\"m198ed82e67\" style=\"stroke:#000000;stroke-width:0.8;\"/>\r\n      </defs>\r\n      <g>\r\n       <use style=\"stroke:#000000;stroke-width:0.8;\" x=\"44.160369\" xlink:href=\"#m198ed82e67\" y=\"239.758125\"/>\r\n      </g>\r\n     </g>\r\n     <g id=\"text_1\">\r\n      <!-- 1960-Q4 -->\r\n      <g transform=\"translate(46.919744 290.412813)rotate(-90)scale(0.1 -0.1)\">\r\n       <defs>\r\n        <path d=\"M 12.40625 8.296875 \r\nL 28.515625 8.296875 \r\nL 28.515625 63.921875 \r\nL 10.984375 60.40625 \r\nL 10.984375 69.390625 \r\nL 28.421875 72.90625 \r\nL 38.28125 72.90625 \r\nL 38.28125 8.296875 \r\nL 54.390625 8.296875 \r\nL 54.390625 0 \r\nL 12.40625 0 \r\nz\r\n\" id=\"DejaVuSans-49\"/>\r\n        <path d=\"M 10.984375 1.515625 \r\nL 10.984375 10.5 \r\nQ 14.703125 8.734375 18.5 7.8125 \r\nQ 22.3125 6.890625 25.984375 6.890625 \r\nQ 35.75 6.890625 40.890625 13.453125 \r\nQ 46.046875 20.015625 46.78125 33.40625 \r\nQ 43.953125 29.203125 39.59375 26.953125 \r\nQ 35.25 24.703125 29.984375 24.703125 \r\nQ 19.046875 24.703125 12.671875 31.3125 \r\nQ 6.296875 37.9375 6.296875 49.421875 \r\nQ 6.296875 60.640625 12.9375 67.421875 \r\nQ 19.578125 74.21875 30.609375 74.21875 \r\nQ 43.265625 74.21875 49.921875 64.515625 \r\nQ 56.59375 54.828125 56.59375 36.375 \r\nQ 56.59375 19.140625 48.40625 8.859375 \r\nQ 40.234375 -1.421875 26.421875 -1.421875 \r\nQ 22.703125 -1.421875 18.890625 -0.6875 \r\nQ 15.09375 0.046875 10.984375 1.515625 \r\nz\r\nM 30.609375 32.421875 \r\nQ 37.25 32.421875 41.125 36.953125 \r\nQ 45.015625 41.5 45.015625 49.421875 \r\nQ 45.015625 57.28125 41.125 61.84375 \r\nQ 37.25 66.40625 30.609375 66.40625 \r\nQ 23.96875 66.40625 20.09375 61.84375 \r\nQ 16.21875 57.28125 16.21875 49.421875 \r\nQ 16.21875 41.5 20.09375 36.953125 \r\nQ 23.96875 32.421875 30.609375 32.421875 \r\nz\r\n\" id=\"DejaVuSans-57\"/>\r\n        <path d=\"M 33.015625 40.375 \r\nQ 26.375 40.375 22.484375 35.828125 \r\nQ 18.609375 31.296875 18.609375 23.390625 \r\nQ 18.609375 15.53125 22.484375 10.953125 \r\nQ 26.375 6.390625 33.015625 6.390625 \r\nQ 39.65625 6.390625 43.53125 10.953125 \r\nQ 47.40625 15.53125 47.40625 23.390625 \r\nQ 47.40625 31.296875 43.53125 35.828125 \r\nQ 39.65625 40.375 33.015625 40.375 \r\nz\r\nM 52.59375 71.296875 \r\nL 52.59375 62.3125 \r\nQ 48.875 64.0625 45.09375 64.984375 \r\nQ 41.3125 65.921875 37.59375 65.921875 \r\nQ 27.828125 65.921875 22.671875 59.328125 \r\nQ 17.53125 52.734375 16.796875 39.40625 \r\nQ 19.671875 43.65625 24.015625 45.921875 \r\nQ 28.375 48.1875 33.59375 48.1875 \r\nQ 44.578125 48.1875 50.953125 41.515625 \r\nQ 57.328125 34.859375 57.328125 23.390625 \r\nQ 57.328125 12.15625 50.6875 5.359375 \r\nQ 44.046875 -1.421875 33.015625 -1.421875 \r\nQ 20.359375 -1.421875 13.671875 8.265625 \r\nQ 6.984375 17.96875 6.984375 36.375 \r\nQ 6.984375 53.65625 15.1875 63.9375 \r\nQ 23.390625 74.21875 37.203125 74.21875 \r\nQ 40.921875 74.21875 44.703125 73.484375 \r\nQ 48.484375 72.75 52.59375 71.296875 \r\nz\r\n\" id=\"DejaVuSans-54\"/>\r\n        <path d=\"M 31.78125 66.40625 \r\nQ 24.171875 66.40625 20.328125 58.90625 \r\nQ 16.5 51.421875 16.5 36.375 \r\nQ 16.5 21.390625 20.328125 13.890625 \r\nQ 24.171875 6.390625 31.78125 6.390625 \r\nQ 39.453125 6.390625 43.28125 13.890625 \r\nQ 47.125 21.390625 47.125 36.375 \r\nQ 47.125 51.421875 43.28125 58.90625 \r\nQ 39.453125 66.40625 31.78125 66.40625 \r\nz\r\nM 31.78125 74.21875 \r\nQ 44.046875 74.21875 50.515625 64.515625 \r\nQ 56.984375 54.828125 56.984375 36.375 \r\nQ 56.984375 17.96875 50.515625 8.265625 \r\nQ 44.046875 -1.421875 31.78125 -1.421875 \r\nQ 19.53125 -1.421875 13.0625 8.265625 \r\nQ 6.59375 17.96875 6.59375 36.375 \r\nQ 6.59375 54.828125 13.0625 64.515625 \r\nQ 19.53125 74.21875 31.78125 74.21875 \r\nz\r\n\" id=\"DejaVuSans-48\"/>\r\n        <path d=\"M 4.890625 31.390625 \r\nL 31.203125 31.390625 \r\nL 31.203125 23.390625 \r\nL 4.890625 23.390625 \r\nz\r\n\" id=\"DejaVuSans-45\"/>\r\n        <path d=\"M 39.40625 66.21875 \r\nQ 28.65625 66.21875 22.328125 58.203125 \r\nQ 16.015625 50.203125 16.015625 36.375 \r\nQ 16.015625 22.609375 22.328125 14.59375 \r\nQ 28.65625 6.59375 39.40625 6.59375 \r\nQ 50.140625 6.59375 56.421875 14.59375 \r\nQ 62.703125 22.609375 62.703125 36.375 \r\nQ 62.703125 50.203125 56.421875 58.203125 \r\nQ 50.140625 66.21875 39.40625 66.21875 \r\nz\r\nM 53.21875 1.3125 \r\nL 66.21875 -12.890625 \r\nL 54.296875 -12.890625 \r\nL 43.5 -1.21875 \r\nQ 41.890625 -1.3125 41.03125 -1.359375 \r\nQ 40.1875 -1.421875 39.40625 -1.421875 \r\nQ 24.03125 -1.421875 14.8125 8.859375 \r\nQ 5.609375 19.140625 5.609375 36.375 \r\nQ 5.609375 53.65625 14.8125 63.9375 \r\nQ 24.03125 74.21875 39.40625 74.21875 \r\nQ 54.734375 74.21875 63.90625 63.9375 \r\nQ 73.09375 53.65625 73.09375 36.375 \r\nQ 73.09375 23.6875 67.984375 14.640625 \r\nQ 62.890625 5.609375 53.21875 1.3125 \r\nz\r\n\" id=\"DejaVuSans-81\"/>\r\n        <path d=\"M 37.796875 64.3125 \r\nL 12.890625 25.390625 \r\nL 37.796875 25.390625 \r\nz\r\nM 35.203125 72.90625 \r\nL 47.609375 72.90625 \r\nL 47.609375 25.390625 \r\nL 58.015625 25.390625 \r\nL 58.015625 17.1875 \r\nL 47.609375 17.1875 \r\nL 47.609375 0 \r\nL 37.796875 0 \r\nL 37.796875 17.1875 \r\nL 4.890625 17.1875 \r\nL 4.890625 26.703125 \r\nz\r\n\" id=\"DejaVuSans-52\"/>\r\n       </defs>\r\n       <use xlink:href=\"#DejaVuSans-49\"/>\r\n       <use x=\"63.623047\" xlink:href=\"#DejaVuSans-57\"/>\r\n       <use x=\"127.246094\" xlink:href=\"#DejaVuSans-54\"/>\r\n       <use x=\"190.869141\" xlink:href=\"#DejaVuSans-48\"/>\r\n       <use x=\"254.492188\" xlink:href=\"#DejaVuSans-45\"/>\r\n       <use x=\"294.201172\" xlink:href=\"#DejaVuSans-81\"/>\r\n       <use x=\"372.912109\" xlink:href=\"#DejaVuSans-52\"/>\r\n      </g>\r\n     </g>\r\n    </g>\r\n    <g id=\"xtick_2\">\r\n     <g id=\"line2d_2\">\r\n      <g>\r\n       <use style=\"stroke:#000000;stroke-width:0.8;\" x=\"105.277565\" xlink:href=\"#m198ed82e67\" y=\"239.758125\"/>\r\n      </g>\r\n     </g>\r\n     <g id=\"text_2\">\r\n      <!-- 1973-Q2 -->\r\n      <g transform=\"translate(108.03694 290.412813)rotate(-90)scale(0.1 -0.1)\">\r\n       <defs>\r\n        <path d=\"M 8.203125 72.90625 \r\nL 55.078125 72.90625 \r\nL 55.078125 68.703125 \r\nL 28.609375 0 \r\nL 18.3125 0 \r\nL 43.21875 64.59375 \r\nL 8.203125 64.59375 \r\nz\r\n\" id=\"DejaVuSans-55\"/>\r\n        <path d=\"M 40.578125 39.3125 \r\nQ 47.65625 37.796875 51.625 33 \r\nQ 55.609375 28.21875 55.609375 21.1875 \r\nQ 55.609375 10.40625 48.1875 4.484375 \r\nQ 40.765625 -1.421875 27.09375 -1.421875 \r\nQ 22.515625 -1.421875 17.65625 -0.515625 \r\nQ 12.796875 0.390625 7.625 2.203125 \r\nL 7.625 11.71875 \r\nQ 11.71875 9.328125 16.59375 8.109375 \r\nQ 21.484375 6.890625 26.8125 6.890625 \r\nQ 36.078125 6.890625 40.9375 10.546875 \r\nQ 45.796875 14.203125 45.796875 21.1875 \r\nQ 45.796875 27.640625 41.28125 31.265625 \r\nQ 36.765625 34.90625 28.71875 34.90625 \r\nL 20.21875 34.90625 \r\nL 20.21875 43.015625 \r\nL 29.109375 43.015625 \r\nQ 36.375 43.015625 40.234375 45.921875 \r\nQ 44.09375 48.828125 44.09375 54.296875 \r\nQ 44.09375 59.90625 40.109375 62.90625 \r\nQ 36.140625 65.921875 28.71875 65.921875 \r\nQ 24.65625 65.921875 20.015625 65.03125 \r\nQ 15.375 64.15625 9.8125 62.3125 \r\nL 9.8125 71.09375 \r\nQ 15.4375 72.65625 20.34375 73.4375 \r\nQ 25.25 74.21875 29.59375 74.21875 \r\nQ 40.828125 74.21875 47.359375 69.109375 \r\nQ 53.90625 64.015625 53.90625 55.328125 \r\nQ 53.90625 49.265625 50.4375 45.09375 \r\nQ 46.96875 40.921875 40.578125 39.3125 \r\nz\r\n\" id=\"DejaVuSans-51\"/>\r\n        <path d=\"M 19.1875 8.296875 \r\nL 53.609375 8.296875 \r\nL 53.609375 0 \r\nL 7.328125 0 \r\nL 7.328125 8.296875 \r\nQ 12.9375 14.109375 22.625 23.890625 \r\nQ 32.328125 33.6875 34.8125 36.53125 \r\nQ 39.546875 41.84375 41.421875 45.53125 \r\nQ 43.3125 49.21875 43.3125 52.78125 \r\nQ 43.3125 58.59375 39.234375 62.25 \r\nQ 35.15625 65.921875 28.609375 65.921875 \r\nQ 23.96875 65.921875 18.8125 64.3125 \r\nQ 13.671875 62.703125 7.8125 59.421875 \r\nL 7.8125 69.390625 \r\nQ 13.765625 71.78125 18.9375 73 \r\nQ 24.125 74.21875 28.421875 74.21875 \r\nQ 39.75 74.21875 46.484375 68.546875 \r\nQ 53.21875 62.890625 53.21875 53.421875 \r\nQ 53.21875 48.921875 51.53125 44.890625 \r\nQ 49.859375 40.875 45.40625 35.40625 \r\nQ 44.1875 33.984375 37.640625 27.21875 \r\nQ 31.109375 20.453125 19.1875 8.296875 \r\nz\r\n\" id=\"DejaVuSans-50\"/>\r\n       </defs>\r\n       <use xlink:href=\"#DejaVuSans-49\"/>\r\n       <use x=\"63.623047\" xlink:href=\"#DejaVuSans-57\"/>\r\n       <use x=\"127.246094\" xlink:href=\"#DejaVuSans-55\"/>\r\n       <use x=\"190.869141\" xlink:href=\"#DejaVuSans-51\"/>\r\n       <use x=\"254.492188\" xlink:href=\"#DejaVuSans-45\"/>\r\n       <use x=\"294.201172\" xlink:href=\"#DejaVuSans-81\"/>\r\n       <use x=\"372.912109\" xlink:href=\"#DejaVuSans-50\"/>\r\n      </g>\r\n     </g>\r\n    </g>\r\n    <g id=\"xtick_3\">\r\n     <g id=\"line2d_3\">\r\n      <g>\r\n       <use style=\"stroke:#000000;stroke-width:0.8;\" x=\"166.394761\" xlink:href=\"#m198ed82e67\" y=\"239.758125\"/>\r\n      </g>\r\n     </g>\r\n     <g id=\"text_3\">\r\n      <!-- 1985-Q4 -->\r\n      <g transform=\"translate(169.154136 290.412813)rotate(-90)scale(0.1 -0.1)\">\r\n       <defs>\r\n        <path d=\"M 31.78125 34.625 \r\nQ 24.75 34.625 20.71875 30.859375 \r\nQ 16.703125 27.09375 16.703125 20.515625 \r\nQ 16.703125 13.921875 20.71875 10.15625 \r\nQ 24.75 6.390625 31.78125 6.390625 \r\nQ 38.8125 6.390625 42.859375 10.171875 \r\nQ 46.921875 13.96875 46.921875 20.515625 \r\nQ 46.921875 27.09375 42.890625 30.859375 \r\nQ 38.875 34.625 31.78125 34.625 \r\nz\r\nM 21.921875 38.8125 \r\nQ 15.578125 40.375 12.03125 44.71875 \r\nQ 8.5 49.078125 8.5 55.328125 \r\nQ 8.5 64.0625 14.71875 69.140625 \r\nQ 20.953125 74.21875 31.78125 74.21875 \r\nQ 42.671875 74.21875 48.875 69.140625 \r\nQ 55.078125 64.0625 55.078125 55.328125 \r\nQ 55.078125 49.078125 51.53125 44.71875 \r\nQ 48 40.375 41.703125 38.8125 \r\nQ 48.828125 37.15625 52.796875 32.3125 \r\nQ 56.78125 27.484375 56.78125 20.515625 \r\nQ 56.78125 9.90625 50.3125 4.234375 \r\nQ 43.84375 -1.421875 31.78125 -1.421875 \r\nQ 19.734375 -1.421875 13.25 4.234375 \r\nQ 6.78125 9.90625 6.78125 20.515625 \r\nQ 6.78125 27.484375 10.78125 32.3125 \r\nQ 14.796875 37.15625 21.921875 38.8125 \r\nz\r\nM 18.3125 54.390625 \r\nQ 18.3125 48.734375 21.84375 45.5625 \r\nQ 25.390625 42.390625 31.78125 42.390625 \r\nQ 38.140625 42.390625 41.71875 45.5625 \r\nQ 45.3125 48.734375 45.3125 54.390625 \r\nQ 45.3125 60.0625 41.71875 63.234375 \r\nQ 38.140625 66.40625 31.78125 66.40625 \r\nQ 25.390625 66.40625 21.84375 63.234375 \r\nQ 18.3125 60.0625 18.3125 54.390625 \r\nz\r\n\" id=\"DejaVuSans-56\"/>\r\n        <path d=\"M 10.796875 72.90625 \r\nL 49.515625 72.90625 \r\nL 49.515625 64.59375 \r\nL 19.828125 64.59375 \r\nL 19.828125 46.734375 \r\nQ 21.96875 47.46875 24.109375 47.828125 \r\nQ 26.265625 48.1875 28.421875 48.1875 \r\nQ 40.625 48.1875 47.75 41.5 \r\nQ 54.890625 34.8125 54.890625 23.390625 \r\nQ 54.890625 11.625 47.5625 5.09375 \r\nQ 40.234375 -1.421875 26.90625 -1.421875 \r\nQ 22.3125 -1.421875 17.546875 -0.640625 \r\nQ 12.796875 0.140625 7.71875 1.703125 \r\nL 7.71875 11.625 \r\nQ 12.109375 9.234375 16.796875 8.0625 \r\nQ 21.484375 6.890625 26.703125 6.890625 \r\nQ 35.15625 6.890625 40.078125 11.328125 \r\nQ 45.015625 15.765625 45.015625 23.390625 \r\nQ 45.015625 31 40.078125 35.4375 \r\nQ 35.15625 39.890625 26.703125 39.890625 \r\nQ 22.75 39.890625 18.8125 39.015625 \r\nQ 14.890625 38.140625 10.796875 36.28125 \r\nz\r\n\" id=\"DejaVuSans-53\"/>\r\n       </defs>\r\n       <use xlink:href=\"#DejaVuSans-49\"/>\r\n       <use x=\"63.623047\" xlink:href=\"#DejaVuSans-57\"/>\r\n       <use x=\"127.246094\" xlink:href=\"#DejaVuSans-56\"/>\r\n       <use x=\"190.869141\" xlink:href=\"#DejaVuSans-53\"/>\r\n       <use x=\"254.492188\" xlink:href=\"#DejaVuSans-45\"/>\r\n       <use x=\"294.201172\" xlink:href=\"#DejaVuSans-81\"/>\r\n       <use x=\"372.912109\" xlink:href=\"#DejaVuSans-52\"/>\r\n      </g>\r\n     </g>\r\n    </g>\r\n    <g id=\"xtick_4\">\r\n     <g id=\"line2d_4\">\r\n      <g>\r\n       <use style=\"stroke:#000000;stroke-width:0.8;\" x=\"227.511957\" xlink:href=\"#m198ed82e67\" y=\"239.758125\"/>\r\n      </g>\r\n     </g>\r\n     <g id=\"text_4\">\r\n      <!-- 1998-Q2 -->\r\n      <g transform=\"translate(230.271332 290.412813)rotate(-90)scale(0.1 -0.1)\">\r\n       <use xlink:href=\"#DejaVuSans-49\"/>\r\n       <use x=\"63.623047\" xlink:href=\"#DejaVuSans-57\"/>\r\n       <use x=\"127.246094\" xlink:href=\"#DejaVuSans-57\"/>\r\n       <use x=\"190.869141\" xlink:href=\"#DejaVuSans-56\"/>\r\n       <use x=\"254.492188\" xlink:href=\"#DejaVuSans-45\"/>\r\n       <use x=\"294.201172\" xlink:href=\"#DejaVuSans-81\"/>\r\n       <use x=\"372.912109\" xlink:href=\"#DejaVuSans-50\"/>\r\n      </g>\r\n     </g>\r\n    </g>\r\n    <g id=\"xtick_5\">\r\n     <g id=\"line2d_5\">\r\n      <g>\r\n       <use style=\"stroke:#000000;stroke-width:0.8;\" x=\"288.629154\" xlink:href=\"#m198ed82e67\" y=\"239.758125\"/>\r\n      </g>\r\n     </g>\r\n     <g id=\"text_5\">\r\n      <!-- 2010-Q4 -->\r\n      <g transform=\"translate(291.388529 290.412813)rotate(-90)scale(0.1 -0.1)\">\r\n       <use xlink:href=\"#DejaVuSans-50\"/>\r\n       <use x=\"63.623047\" xlink:href=\"#DejaVuSans-48\"/>\r\n       <use x=\"127.246094\" xlink:href=\"#DejaVuSans-49\"/>\r\n       <use x=\"190.869141\" xlink:href=\"#DejaVuSans-48\"/>\r\n       <use x=\"254.492188\" xlink:href=\"#DejaVuSans-45\"/>\r\n       <use x=\"294.201172\" xlink:href=\"#DejaVuSans-81\"/>\r\n       <use x=\"372.912109\" xlink:href=\"#DejaVuSans-52\"/>\r\n      </g>\r\n     </g>\r\n    </g>\r\n    <g id=\"xtick_6\">\r\n     <g id=\"line2d_6\">\r\n      <g>\r\n       <use style=\"stroke:#000000;stroke-width:0.8;\" x=\"349.74635\" xlink:href=\"#m198ed82e67\" y=\"239.758125\"/>\r\n      </g>\r\n     </g>\r\n     <g id=\"text_6\">\r\n      <!-- 2023-Q2 -->\r\n      <g transform=\"translate(352.505725 290.412813)rotate(-90)scale(0.1 -0.1)\">\r\n       <use xlink:href=\"#DejaVuSans-50\"/>\r\n       <use x=\"63.623047\" xlink:href=\"#DejaVuSans-48\"/>\r\n       <use x=\"127.246094\" xlink:href=\"#DejaVuSans-50\"/>\r\n       <use x=\"190.869141\" xlink:href=\"#DejaVuSans-51\"/>\r\n       <use x=\"254.492188\" xlink:href=\"#DejaVuSans-45\"/>\r\n       <use x=\"294.201172\" xlink:href=\"#DejaVuSans-81\"/>\r\n       <use x=\"372.912109\" xlink:href=\"#DejaVuSans-50\"/>\r\n      </g>\r\n     </g>\r\n    </g>\r\n   </g>\r\n   <g id=\"matplotlib.axis_2\">\r\n    <g id=\"ytick_1\">\r\n     <g id=\"line2d_7\">\r\n      <defs>\r\n       <path d=\"M 0 0 \r\nL -3.5 0 \r\n\" id=\"m4d4ceaf4bf\" style=\"stroke:#000000;stroke-width:0.8;\"/>\r\n      </defs>\r\n      <g>\r\n       <use style=\"stroke:#000000;stroke-width:0.8;\" x=\"28.942188\" xlink:href=\"#m4d4ceaf4bf\" y=\"233.811821\"/>\r\n      </g>\r\n     </g>\r\n     <g id=\"text_7\">\r\n      <!-- −6 -->\r\n      <g transform=\"translate(7.2 237.61104)scale(0.1 -0.1)\">\r\n       <defs>\r\n        <path d=\"M 10.59375 35.5 \r\nL 73.1875 35.5 \r\nL 73.1875 27.203125 \r\nL 10.59375 27.203125 \r\nz\r\n\" id=\"DejaVuSans-8722\"/>\r\n       </defs>\r\n       <use xlink:href=\"#DejaVuSans-8722\"/>\r\n       <use x=\"83.789062\" xlink:href=\"#DejaVuSans-54\"/>\r\n      </g>\r\n     </g>\r\n    </g>\r\n    <g id=\"ytick_2\">\r\n     <g id=\"line2d_8\">\r\n      <g>\r\n       <use style=\"stroke:#000000;stroke-width:0.8;\" x=\"28.942188\" xlink:href=\"#m4d4ceaf4bf\" y=\"189.3823\"/>\r\n      </g>\r\n     </g>\r\n     <g id=\"text_8\">\r\n      <!-- −4 -->\r\n      <g transform=\"translate(7.2 193.181519)scale(0.1 -0.1)\">\r\n       <use xlink:href=\"#DejaVuSans-8722\"/>\r\n       <use x=\"83.789062\" xlink:href=\"#DejaVuSans-52\"/>\r\n      </g>\r\n     </g>\r\n    </g>\r\n    <g id=\"ytick_3\">\r\n     <g id=\"line2d_9\">\r\n      <g>\r\n       <use style=\"stroke:#000000;stroke-width:0.8;\" x=\"28.942188\" xlink:href=\"#m4d4ceaf4bf\" y=\"144.952779\"/>\r\n      </g>\r\n     </g>\r\n     <g id=\"text_9\">\r\n      <!-- −2 -->\r\n      <g transform=\"translate(7.2 148.751998)scale(0.1 -0.1)\">\r\n       <use xlink:href=\"#DejaVuSans-8722\"/>\r\n       <use x=\"83.789062\" xlink:href=\"#DejaVuSans-50\"/>\r\n      </g>\r\n     </g>\r\n    </g>\r\n    <g id=\"ytick_4\">\r\n     <g id=\"line2d_10\">\r\n      <g>\r\n       <use style=\"stroke:#000000;stroke-width:0.8;\" x=\"28.942188\" xlink:href=\"#m4d4ceaf4bf\" y=\"100.523258\"/>\r\n      </g>\r\n     </g>\r\n     <g id=\"text_10\">\r\n      <!-- 0 -->\r\n      <g transform=\"translate(15.579688 104.322477)scale(0.1 -0.1)\">\r\n       <use xlink:href=\"#DejaVuSans-48\"/>\r\n      </g>\r\n     </g>\r\n    </g>\r\n    <g id=\"ytick_5\">\r\n     <g id=\"line2d_11\">\r\n      <g>\r\n       <use style=\"stroke:#000000;stroke-width:0.8;\" x=\"28.942188\" xlink:href=\"#m4d4ceaf4bf\" y=\"56.093737\"/>\r\n      </g>\r\n     </g>\r\n     <g id=\"text_11\">\r\n      <!-- 2 -->\r\n      <g transform=\"translate(15.579688 59.892956)scale(0.1 -0.1)\">\r\n       <use xlink:href=\"#DejaVuSans-50\"/>\r\n      </g>\r\n     </g>\r\n    </g>\r\n   </g>\r\n   <g id=\"line2d_12\">\r\n    <path clip-path=\"url(#p3a1cfe72e6)\" d=\"M 44.160369 76.130592 \r\nL 45.382713 68.4494 \r\nL 46.605057 66.06262 \r\nL 47.827401 64.894326 \r\nL 49.049745 66.223195 \r\nL 50.272089 65.213593 \r\nL 51.494433 67.393544 \r\nL 52.716777 83.731627 \r\nL 53.939121 77.106276 \r\nL 55.161465 59.411453 \r\nL 56.383809 59.177418 \r\nL 57.606152 50.808851 \r\nL 58.828496 66.778174 \r\nL 60.05084 76.691898 \r\nL 61.273184 78.111312 \r\nL 62.495528 81.841577 \r\nL 63.717872 69.110181 \r\nL 64.940216 74.192177 \r\nL 66.16256 71.492005 \r\nL 67.384904 66.386384 \r\nL 68.607248 73.752404 \r\nL 69.829592 73.820761 \r\nL 71.051936 79.148825 \r\nL 72.27428 74.99468 \r\nL 73.496623 73.418793 \r\nL 74.718967 77.358304 \r\nL 75.941311 75.943617 \r\nL 77.163655 70.240034 \r\nL 78.385999 105.181524 \r\nL 80.830687 50.378696 \r\nL 82.053031 61.822125 \r\nL 83.275375 32.201761 \r\nL 84.497719 73.897166 \r\nL 85.720063 74.36309 \r\nL 86.942407 78.513745 \r\nL 88.16475 72.973027 \r\nL 89.387094 54.217035 \r\nL 90.609438 79.558605 \r\nL 91.831782 75.368583 \r\nL 93.054126 74.217393 \r\nL 94.27647 74.983157 \r\nL 95.498814 74.244874 \r\nL 96.721158 70.244288 \r\nL 97.943502 78.061216 \r\nL 99.165846 81.790732 \r\nL 100.38819 79.664863 \r\nL 101.610534 74.137914 \r\nL 102.832878 66.791954 \r\nL 104.055221 70.966417 \r\nL 105.277565 74.128645 \r\nL 107.722253 81.833494 \r\nL 108.944597 80.534856 \r\nL 111.389285 104.013315 \r\nL 112.611629 106.83529 \r\nL 113.833973 105.351682 \r\nL 115.056317 91.033655 \r\nL 116.278661 81.197639 \r\nL 117.501005 75.209918 \r\nL 118.723349 77.215905 \r\nL 119.945692 81.251977 \r\nL 121.168036 78.369201 \r\nL 122.39038 81.73151 \r\nL 123.612724 82.946057 \r\nL 124.835068 87.208204 \r\nL 126.057412 87.322614 \r\nL 127.279756 80.797366 \r\nL 128.5021 81.032303 \r\nL 129.724444 80.125135 \r\nL 130.946788 84.01802 \r\nL 132.169132 86.663216 \r\nL 133.391476 80.706815 \r\nL 134.613819 82.182291 \r\nL 135.836163 81.047488 \r\nL 138.280851 98.095396 \r\nL 139.503195 97.722897 \r\nL 140.725539 101.069958 \r\nL 141.947883 94.846482 \r\nL 144.392571 87.928841 \r\nL 145.614915 86.278345 \r\nL 149.281947 89.774568 \r\nL 150.50429 90.439251 \r\nL 151.726634 93.139339 \r\nL 154.171322 94.758055 \r\nL 155.393666 92.433899 \r\nL 156.61601 91.390831 \r\nL 157.838354 90.134107 \r\nL 159.060698 90.08168 \r\nL 160.283042 93.826264 \r\nL 161.505386 92.689771 \r\nL 162.72773 90.248259 \r\nL 163.950074 89.203913 \r\nL 165.172418 89.223062 \r\nL 166.394761 87.876211 \r\nL 167.617105 87.378893 \r\nL 168.839449 88.873735 \r\nL 170.061793 90.110878 \r\nL 171.284137 89.530232 \r\nL 172.506481 86.897553 \r\nL 173.728825 80.624528 \r\nL 174.951169 73.659377 \r\nL 176.173513 75.817469 \r\nL 177.395857 76.640576 \r\nL 178.618201 78.525817 \r\nL 179.840545 77.094323 \r\nL 181.062888 75.95614 \r\nL 182.285232 77.60964 \r\nL 183.507576 75.205684 \r\nL 184.72992 79.373088 \r\nL 185.952264 81.853451 \r\nL 187.174608 85.628755 \r\nL 188.396952 90.928727 \r\nL 189.619296 94.317607 \r\nL 190.84164 95.582809 \r\nL 192.063984 94.342599 \r\nL 193.286328 93.975926 \r\nL 194.508672 89.914449 \r\nL 195.731016 90.073516 \r\nL 196.953359 92.750717 \r\nL 198.175703 97.18987 \r\nL 199.398047 104.676377 \r\nL 200.620391 104.50797 \r\nL 201.842735 103.189534 \r\nL 203.065079 99.442396 \r\nL 204.287423 93.623297 \r\nL 206.732111 85.413753 \r\nL 207.954455 83.989441 \r\nL 209.176799 84.392675 \r\nL 210.399143 86.680295 \r\nL 212.84383 93.235131 \r\nL 214.066174 92.607651 \r\nL 215.288518 93.256134 \r\nL 216.510862 91.972098 \r\nL 217.733206 91.384437 \r\nL 218.95555 93.536723 \r\nL 220.177894 89.677297 \r\nL 221.400238 87.295126 \r\nL 222.622582 82.138256 \r\nL 223.844926 79.526581 \r\nL 225.06727 81.01278 \r\nL 226.289614 81.28044 \r\nL 227.511957 84.061586 \r\nL 228.734301 84.214128 \r\nL 229.956645 84.715996 \r\nL 231.178989 82.866436 \r\nL 232.401333 78.502329 \r\nL 233.623677 76.494779 \r\nL 234.846021 76.488469 \r\nL 237.290709 82.978793 \r\nL 238.513053 84.69262 \r\nL 239.735397 87.913969 \r\nL 240.957741 90.112445 \r\nL 242.180085 94.323756 \r\nL 243.402428 96.236587 \r\nL 244.624772 94.082958 \r\nL 245.847116 93.201997 \r\nL 247.06946 92.822622 \r\nL 248.291804 95.337906 \r\nL 249.514148 98.627368 \r\nL 250.736492 97.536037 \r\nL 251.958836 92.922089 \r\nL 253.18118 87.47984 \r\nL 254.403524 83.529175 \r\nL 255.625868 86.323217 \r\nL 256.848212 87.632388 \r\nL 258.070556 90.21464 \r\nL 259.292899 92.424835 \r\nL 260.515243 90.807534 \r\nL 261.737587 90.632312 \r\nL 264.182275 84.398684 \r\nL 265.404619 85.812239 \r\nL 266.626963 87.04642 \r\nL 267.849307 87.745147 \r\nL 269.071651 87.397043 \r\nL 270.293995 85.376822 \r\nL 271.516339 88.852471 \r\nL 272.738683 90.719143 \r\nL 273.961026 96.900288 \r\nL 275.18337 101.680759 \r\nL 276.405714 107.986233 \r\nL 277.628058 120.082413 \r\nL 278.850402 120.238056 \r\nL 280.072746 115.554896 \r\nL 281.29509 103.001099 \r\nL 282.517434 92.904898 \r\nL 283.739778 90.970099 \r\nL 284.962122 89.477813 \r\nL 286.184466 91.092927 \r\nL 287.40681 85.755322 \r\nL 288.629154 85.362324 \r\nL 289.851497 89.074511 \r\nL 291.073841 91.874525 \r\nL 292.296185 96.583245 \r\nL 294.740873 98.425291 \r\nL 295.963217 98.824257 \r\nL 297.185561 100.301549 \r\nL 298.407905 97.485155 \r\nL 299.630249 95.667984 \r\nL 300.852593 94.10132 \r\nL 302.074937 93.554571 \r\nL 303.297281 96.223575 \r\nL 304.519625 94.593748 \r\nL 305.741968 96.188332 \r\nL 306.964312 93.638908 \r\nL 308.186656 93.790286 \r\nL 309.409 95.560982 \r\nL 310.631344 94.791226 \r\nL 311.853688 94.866115 \r\nL 313.076032 94.315661 \r\nL 314.298376 95.987701 \r\nL 316.743064 92.282902 \r\nL 317.965408 87.705163 \r\nL 319.187752 84.919774 \r\nL 320.410095 83.833654 \r\nL 321.632439 86.936313 \r\nL 322.854783 91.600316 \r\nL 324.077127 92.095108 \r\nL 325.299471 92.414168 \r\nL 326.521815 90.059355 \r\nL 327.744159 89.980274 \r\nL 328.966503 91.331073 \r\nL 330.188847 96.226463 \r\nL 331.411191 126.868078 \r\nL 332.633535 201.171812 \r\nL 333.855879 207.18296 \r\nL 335.078223 204.853615 \r\nL 336.300566 175.917896 \r\nL 337.52291 154.797295 \r\nL 338.745254 150.437408 \r\nL 339.967598 143.946659 \r\nL 341.189942 149.366303 \r\nL 342.412286 154.255994 \r\nL 343.63463 146.541323 \r\nL 344.856974 141.984973 \r\nL 346.079318 134.157441 \r\nL 347.301662 124.019491 \r\nL 348.524006 122.793327 \r\nL 348.524006 122.793327 \r\n\" style=\"fill:none;stroke:#1f77b4;stroke-linecap:square;stroke-width:1.5;\"/>\r\n   </g>\r\n   <g id=\"line2d_13\">\r\n    <path clip-path=\"url(#p3a1cfe72e6)\" d=\"M 44.160369 69.620803 \r\nL 45.382713 65.851342 \r\nL 46.605057 63.891695 \r\nL 47.827401 63.316169 \r\nL 49.049745 63.69682 \r\nL 50.272089 65.361978 \r\nL 51.494433 76.228616 \r\nL 52.716777 77.939946 \r\nL 53.939121 64.864309 \r\nL 55.161465 62.313758 \r\nL 56.383809 55.072041 \r\nL 57.606152 54.955834 \r\nL 58.828496 70.448137 \r\nL 60.05084 74.558134 \r\nL 61.273184 77.524242 \r\nL 62.495528 77.889215 \r\nL 63.717872 73.035459 \r\nL 64.940216 71.071563 \r\nL 66.16256 67.826302 \r\nL 67.384904 68.64648 \r\nL 68.607248 72.201306 \r\nL 69.829592 75.397069 \r\nL 71.051936 75.493797 \r\nL 72.27428 74.401138 \r\nL 73.496623 76.073297 \r\nL 74.718967 75.394233 \r\nL 75.941311 70.882527 \r\nL 77.163655 91.652092 \r\nL 78.385999 86.816162 \r\nL 79.608343 57.751159 \r\nL 80.830687 65.182025 \r\nL 82.053031 44.888508 \r\nL 83.275375 45.982212 \r\nL 84.497719 75.589483 \r\nL 85.720063 71.442846 \r\nL 86.942407 69.952706 \r\nL 88.16475 72.060731 \r\nL 89.387094 68.69578 \r\nL 90.609438 71.47917 \r\nL 91.831782 74.873426 \r\nL 93.054126 72.614987 \r\nL 94.27647 73.892453 \r\nL 95.498814 72.594812 \r\nL 96.721158 73.308729 \r\nL 97.943502 79.363503 \r\nL 99.165846 79.194632 \r\nL 101.610534 71.239992 \r\nL 102.832878 69.387586 \r\nL 104.055221 70.528959 \r\nL 105.277565 74.457952 \r\nL 106.499909 78.936266 \r\nL 107.722253 80.311176 \r\nL 108.944597 87.819478 \r\nL 110.166941 99.475823 \r\nL 111.389285 104.077287 \r\nL 112.611629 106.309846 \r\nL 113.833973 99.910828 \r\nL 115.056317 86.642642 \r\nL 116.278661 78.708798 \r\nL 117.501005 75.862326 \r\nL 118.723349 75.914896 \r\nL 119.945692 77.21106 \r\nL 121.168036 80.320419 \r\nL 122.39038 82.46397 \r\nL 123.612724 85.329842 \r\nL 124.835068 87.367761 \r\nL 126.057412 83.170526 \r\nL 127.279756 81.278328 \r\nL 129.724444 80.805621 \r\nL 130.946788 84.236993 \r\nL 133.391476 81.1975 \r\nL 134.613819 82.320571 \r\nL 135.836163 85.748849 \r\nL 137.058507 93.123973 \r\nL 138.280851 97.226756 \r\nL 139.503195 100.032912 \r\nL 140.725539 98.961968 \r\nL 141.947883 93.838648 \r\nL 143.170227 89.994055 \r\nL 144.392571 87.11255 \r\nL 145.614915 85.731995 \r\nL 148.059603 88.89632 \r\nL 149.281947 89.764449 \r\nL 150.50429 92.54003 \r\nL 151.726634 93.999335 \r\nL 152.948978 94.221481 \r\nL 154.171322 93.895641 \r\nL 156.61601 90.640529 \r\nL 157.838354 90.164961 \r\nL 159.060698 92.10316 \r\nL 160.283042 92.532089 \r\nL 161.505386 91.026593 \r\nL 162.72773 90.482079 \r\nL 163.950074 89.679243 \r\nL 165.172418 87.827254 \r\nL 166.394761 87.446446 \r\nL 167.617105 88.330397 \r\nL 168.839449 88.981601 \r\nL 170.061793 89.424579 \r\nL 171.284137 88.208817 \r\nL 172.506481 83.285593 \r\nL 173.728825 76.706128 \r\nL 174.951169 75.159069 \r\nL 176.173513 74.982249 \r\nL 177.395857 75.374235 \r\nL 178.618201 76.85914 \r\nL 179.840545 76.306453 \r\nL 181.062888 76.489626 \r\nL 182.285232 75.941549 \r\nL 183.507576 76.943868 \r\nL 185.952264 83.131166 \r\nL 188.396952 92.94222 \r\nL 189.619296 94.970625 \r\nL 190.84164 95.33852 \r\nL 192.063984 95.193147 \r\nL 193.286328 91.760301 \r\nL 194.508672 89.970125 \r\nL 195.731016 91.931639 \r\nL 196.953359 94.487484 \r\nL 198.175703 100.832278 \r\nL 199.398047 104.997004 \r\nL 200.620391 104.256791 \r\nL 201.842735 102.752016 \r\nL 203.065079 97.749856 \r\nL 204.287423 91.167191 \r\nL 205.509767 87.215168 \r\nL 206.732111 84.170188 \r\nL 207.954455 82.862671 \r\nL 209.176799 85.201231 \r\nL 211.621487 91.293572 \r\nL 212.84383 93.208178 \r\nL 214.066174 93.658726 \r\nL 215.288518 93.010386 \r\nL 216.510862 91.988259 \r\nL 217.733206 92.713726 \r\nL 218.95555 90.867659 \r\nL 220.177894 87.975746 \r\nL 221.400238 84.763658 \r\nL 222.622582 80.575212 \r\nL 223.844926 79.783573 \r\nL 225.06727 80.430678 \r\nL 226.289614 81.605494 \r\nL 227.511957 83.559079 \r\nL 228.734301 84.544761 \r\nL 229.956645 83.421607 \r\nL 232.401333 77.426165 \r\nL 233.623677 75.970227 \r\nL 234.846021 77.20127 \r\nL 236.068365 80.296588 \r\nL 237.290709 82.942794 \r\nL 239.735397 89.483019 \r\nL 242.180085 95.515004 \r\nL 243.402428 95.125513 \r\nL 244.624772 94.001433 \r\nL 245.847116 93.7865 \r\nL 247.06946 94.231689 \r\nL 248.291804 96.759359 \r\nL 249.514148 97.854704 \r\nL 250.736492 94.916185 \r\nL 253.18118 86.177767 \r\nL 254.403524 84.860622 \r\nL 255.625868 86.048089 \r\nL 256.848212 87.962696 \r\nL 258.070556 91.105052 \r\nL 259.292899 91.782018 \r\nL 260.515243 91.086253 \r\nL 261.737587 89.607277 \r\nL 262.959931 85.895733 \r\nL 264.182275 85.005703 \r\nL 265.404619 86.25407 \r\nL 266.626963 86.22087 \r\nL 267.849307 86.982385 \r\nL 269.071651 86.704349 \r\nL 270.293995 87.417853 \r\nL 271.516339 89.817428 \r\nL 272.738683 94.066422 \r\nL 273.961026 99.327626 \r\nL 275.18337 105.627616 \r\nL 276.405714 115.996294 \r\nL 277.628058 120.837973 \r\nL 278.850402 118.519627 \r\nL 280.072746 111.320709 \r\nL 281.29509 99.743152 \r\nL 282.517434 92.34786 \r\nL 283.739778 89.446375 \r\nL 284.962122 88.339243 \r\nL 286.184466 86.600904 \r\nL 287.40681 86.092081 \r\nL 289.851497 90.347628 \r\nL 291.073841 94.204247 \r\nL 292.296185 97.418683 \r\nL 293.518529 98.327675 \r\nL 295.963217 100.668198 \r\nL 298.407905 96.738395 \r\nL 299.630249 95.674601 \r\nL 300.852593 93.657108 \r\nL 302.074937 94.88012 \r\nL 303.297281 95.396588 \r\nL 305.741968 95.191975 \r\nL 306.964312 94.423751 \r\nL 308.186656 94.948287 \r\nL 309.409 95.211133 \r\nL 310.631344 94.760886 \r\nL 311.853688 94.854495 \r\nL 313.076032 95.761896 \r\nL 314.298376 94.778456 \r\nL 315.52072 93.162513 \r\nL 316.743064 90.187186 \r\nL 317.965408 86.223663 \r\nL 319.187752 84.182067 \r\nL 320.410095 85.31119 \r\nL 321.632439 88.622803 \r\nL 322.854783 90.983881 \r\nL 324.077127 92.442941 \r\nL 325.299471 91.866947 \r\nL 326.521815 90.597977 \r\nL 327.744159 91.043323 \r\nL 328.966503 93.999622 \r\nL 330.188847 114.178268 \r\nL 331.411191 171.034055 \r\nL 331.411191 171.034055 \r\n\" style=\"fill:none;stroke:#ff7f0e;stroke-linecap:square;stroke-width:1.5;\"/>\r\n   </g>\r\n   <g id=\"patch_3\">\r\n    <path d=\"M 28.942188 239.758125 \r\nL 28.942188 22.318125 \r\n\" style=\"fill:none;stroke:#000000;stroke-linecap:square;stroke-linejoin:miter;stroke-width:0.8;\"/>\r\n   </g>\r\n   <g id=\"patch_4\">\r\n    <path d=\"M 363.742188 239.758125 \r\nL 363.742188 22.318125 \r\n\" style=\"fill:none;stroke:#000000;stroke-linecap:square;stroke-linejoin:miter;stroke-width:0.8;\"/>\r\n   </g>\r\n   <g id=\"patch_5\">\r\n    <path d=\"M 28.942187 239.758125 \r\nL 363.742188 239.758125 \r\n\" style=\"fill:none;stroke:#000000;stroke-linecap:square;stroke-linejoin:miter;stroke-width:0.8;\"/>\r\n   </g>\r\n   <g id=\"patch_6\">\r\n    <path d=\"M 28.942187 22.318125 \r\nL 363.742188 22.318125 \r\n\" style=\"fill:none;stroke:#000000;stroke-linecap:square;stroke-linejoin:miter;stroke-width:0.8;\"/>\r\n   </g>\r\n   <g id=\"text_12\">\r\n    <!-- Prédiction, France, modèle ARIMA(6,0,0) -->\r\n    <g transform=\"translate(75.402813 16.318125)scale(0.12 -0.12)\">\r\n     <defs>\r\n      <path d=\"M 19.671875 64.796875 \r\nL 19.671875 37.40625 \r\nL 32.078125 37.40625 \r\nQ 38.96875 37.40625 42.71875 40.96875 \r\nQ 46.484375 44.53125 46.484375 51.125 \r\nQ 46.484375 57.671875 42.71875 61.234375 \r\nQ 38.96875 64.796875 32.078125 64.796875 \r\nz\r\nM 9.8125 72.90625 \r\nL 32.078125 72.90625 \r\nQ 44.34375 72.90625 50.609375 67.359375 \r\nQ 56.890625 61.8125 56.890625 51.125 \r\nQ 56.890625 40.328125 50.609375 34.8125 \r\nQ 44.34375 29.296875 32.078125 29.296875 \r\nL 19.671875 29.296875 \r\nL 19.671875 0 \r\nL 9.8125 0 \r\nz\r\n\" id=\"DejaVuSans-80\"/>\r\n      <path d=\"M 41.109375 46.296875 \r\nQ 39.59375 47.171875 37.8125 47.578125 \r\nQ 36.03125 48 33.890625 48 \r\nQ 26.265625 48 22.1875 43.046875 \r\nQ 18.109375 38.09375 18.109375 28.8125 \r\nL 18.109375 0 \r\nL 9.078125 0 \r\nL 9.078125 54.6875 \r\nL 18.109375 54.6875 \r\nL 18.109375 46.1875 \r\nQ 20.953125 51.171875 25.484375 53.578125 \r\nQ 30.03125 56 36.53125 56 \r\nQ 37.453125 56 38.578125 55.875 \r\nQ 39.703125 55.765625 41.0625 55.515625 \r\nz\r\n\" id=\"DejaVuSans-114\"/>\r\n      <path d=\"M 56.203125 29.59375 \r\nL 56.203125 25.203125 \r\nL 14.890625 25.203125 \r\nQ 15.484375 15.921875 20.484375 11.0625 \r\nQ 25.484375 6.203125 34.421875 6.203125 \r\nQ 39.59375 6.203125 44.453125 7.46875 \r\nQ 49.3125 8.734375 54.109375 11.28125 \r\nL 54.109375 2.78125 \r\nQ 49.265625 0.734375 44.1875 -0.34375 \r\nQ 39.109375 -1.421875 33.890625 -1.421875 \r\nQ 20.796875 -1.421875 13.15625 6.1875 \r\nQ 5.515625 13.8125 5.515625 26.8125 \r\nQ 5.515625 40.234375 12.765625 48.109375 \r\nQ 20.015625 56 32.328125 56 \r\nQ 43.359375 56 49.78125 48.890625 \r\nQ 56.203125 41.796875 56.203125 29.59375 \r\nz\r\nM 47.21875 32.234375 \r\nQ 47.125 39.59375 43.09375 43.984375 \r\nQ 39.0625 48.390625 32.421875 48.390625 \r\nQ 24.90625 48.390625 20.390625 44.140625 \r\nQ 15.875 39.890625 15.1875 32.171875 \r\nz\r\nM 38.53125 79.984375 \r\nL 48.25 79.984375 \r\nL 32.34375 61.625 \r\nL 24.859375 61.625 \r\nz\r\n\" id=\"DejaVuSans-233\"/>\r\n      <path d=\"M 45.40625 46.390625 \r\nL 45.40625 75.984375 \r\nL 54.390625 75.984375 \r\nL 54.390625 0 \r\nL 45.40625 0 \r\nL 45.40625 8.203125 \r\nQ 42.578125 3.328125 38.25 0.953125 \r\nQ 33.9375 -1.421875 27.875 -1.421875 \r\nQ 17.96875 -1.421875 11.734375 6.484375 \r\nQ 5.515625 14.40625 5.515625 27.296875 \r\nQ 5.515625 40.1875 11.734375 48.09375 \r\nQ 17.96875 56 27.875 56 \r\nQ 33.9375 56 38.25 53.625 \r\nQ 42.578125 51.265625 45.40625 46.390625 \r\nz\r\nM 14.796875 27.296875 \r\nQ 14.796875 17.390625 18.875 11.75 \r\nQ 22.953125 6.109375 30.078125 6.109375 \r\nQ 37.203125 6.109375 41.296875 11.75 \r\nQ 45.40625 17.390625 45.40625 27.296875 \r\nQ 45.40625 37.203125 41.296875 42.84375 \r\nQ 37.203125 48.484375 30.078125 48.484375 \r\nQ 22.953125 48.484375 18.875 42.84375 \r\nQ 14.796875 37.203125 14.796875 27.296875 \r\nz\r\n\" id=\"DejaVuSans-100\"/>\r\n      <path d=\"M 9.421875 54.6875 \r\nL 18.40625 54.6875 \r\nL 18.40625 0 \r\nL 9.421875 0 \r\nz\r\nM 9.421875 75.984375 \r\nL 18.40625 75.984375 \r\nL 18.40625 64.59375 \r\nL 9.421875 64.59375 \r\nz\r\n\" id=\"DejaVuSans-105\"/>\r\n      <path d=\"M 48.78125 52.59375 \r\nL 48.78125 44.1875 \r\nQ 44.96875 46.296875 41.140625 47.34375 \r\nQ 37.3125 48.390625 33.40625 48.390625 \r\nQ 24.65625 48.390625 19.8125 42.84375 \r\nQ 14.984375 37.3125 14.984375 27.296875 \r\nQ 14.984375 17.28125 19.8125 11.734375 \r\nQ 24.65625 6.203125 33.40625 6.203125 \r\nQ 37.3125 6.203125 41.140625 7.25 \r\nQ 44.96875 8.296875 48.78125 10.40625 \r\nL 48.78125 2.09375 \r\nQ 45.015625 0.34375 40.984375 -0.53125 \r\nQ 36.96875 -1.421875 32.421875 -1.421875 \r\nQ 20.0625 -1.421875 12.78125 6.34375 \r\nQ 5.515625 14.109375 5.515625 27.296875 \r\nQ 5.515625 40.671875 12.859375 48.328125 \r\nQ 20.21875 56 33.015625 56 \r\nQ 37.15625 56 41.109375 55.140625 \r\nQ 45.0625 54.296875 48.78125 52.59375 \r\nz\r\n\" id=\"DejaVuSans-99\"/>\r\n      <path d=\"M 18.3125 70.21875 \r\nL 18.3125 54.6875 \r\nL 36.8125 54.6875 \r\nL 36.8125 47.703125 \r\nL 18.3125 47.703125 \r\nL 18.3125 18.015625 \r\nQ 18.3125 11.328125 20.140625 9.421875 \r\nQ 21.96875 7.515625 27.59375 7.515625 \r\nL 36.8125 7.515625 \r\nL 36.8125 0 \r\nL 27.59375 0 \r\nQ 17.1875 0 13.234375 3.875 \r\nQ 9.28125 7.765625 9.28125 18.015625 \r\nL 9.28125 47.703125 \r\nL 2.6875 47.703125 \r\nL 2.6875 54.6875 \r\nL 9.28125 54.6875 \r\nL 9.28125 70.21875 \r\nz\r\n\" id=\"DejaVuSans-116\"/>\r\n      <path d=\"M 30.609375 48.390625 \r\nQ 23.390625 48.390625 19.1875 42.75 \r\nQ 14.984375 37.109375 14.984375 27.296875 \r\nQ 14.984375 17.484375 19.15625 11.84375 \r\nQ 23.34375 6.203125 30.609375 6.203125 \r\nQ 37.796875 6.203125 41.984375 11.859375 \r\nQ 46.1875 17.53125 46.1875 27.296875 \r\nQ 46.1875 37.015625 41.984375 42.703125 \r\nQ 37.796875 48.390625 30.609375 48.390625 \r\nz\r\nM 30.609375 56 \r\nQ 42.328125 56 49.015625 48.375 \r\nQ 55.71875 40.765625 55.71875 27.296875 \r\nQ 55.71875 13.875 49.015625 6.21875 \r\nQ 42.328125 -1.421875 30.609375 -1.421875 \r\nQ 18.84375 -1.421875 12.171875 6.21875 \r\nQ 5.515625 13.875 5.515625 27.296875 \r\nQ 5.515625 40.765625 12.171875 48.375 \r\nQ 18.84375 56 30.609375 56 \r\nz\r\n\" id=\"DejaVuSans-111\"/>\r\n      <path d=\"M 54.890625 33.015625 \r\nL 54.890625 0 \r\nL 45.90625 0 \r\nL 45.90625 32.71875 \r\nQ 45.90625 40.484375 42.875 44.328125 \r\nQ 39.84375 48.1875 33.796875 48.1875 \r\nQ 26.515625 48.1875 22.3125 43.546875 \r\nQ 18.109375 38.921875 18.109375 30.90625 \r\nL 18.109375 0 \r\nL 9.078125 0 \r\nL 9.078125 54.6875 \r\nL 18.109375 54.6875 \r\nL 18.109375 46.1875 \r\nQ 21.34375 51.125 25.703125 53.5625 \r\nQ 30.078125 56 35.796875 56 \r\nQ 45.21875 56 50.046875 50.171875 \r\nQ 54.890625 44.34375 54.890625 33.015625 \r\nz\r\n\" id=\"DejaVuSans-110\"/>\r\n      <path d=\"M 11.71875 12.40625 \r\nL 22.015625 12.40625 \r\nL 22.015625 4 \r\nL 14.015625 -11.625 \r\nL 7.71875 -11.625 \r\nL 11.71875 4 \r\nz\r\n\" id=\"DejaVuSans-44\"/>\r\n      <path id=\"DejaVuSans-32\"/>\r\n      <path d=\"M 9.8125 72.90625 \r\nL 51.703125 72.90625 \r\nL 51.703125 64.59375 \r\nL 19.671875 64.59375 \r\nL 19.671875 43.109375 \r\nL 48.578125 43.109375 \r\nL 48.578125 34.8125 \r\nL 19.671875 34.8125 \r\nL 19.671875 0 \r\nL 9.8125 0 \r\nz\r\n\" id=\"DejaVuSans-70\"/>\r\n      <path d=\"M 34.28125 27.484375 \r\nQ 23.390625 27.484375 19.1875 25 \r\nQ 14.984375 22.515625 14.984375 16.5 \r\nQ 14.984375 11.71875 18.140625 8.90625 \r\nQ 21.296875 6.109375 26.703125 6.109375 \r\nQ 34.1875 6.109375 38.703125 11.40625 \r\nQ 43.21875 16.703125 43.21875 25.484375 \r\nL 43.21875 27.484375 \r\nz\r\nM 52.203125 31.203125 \r\nL 52.203125 0 \r\nL 43.21875 0 \r\nL 43.21875 8.296875 \r\nQ 40.140625 3.328125 35.546875 0.953125 \r\nQ 30.953125 -1.421875 24.3125 -1.421875 \r\nQ 15.921875 -1.421875 10.953125 3.296875 \r\nQ 6 8.015625 6 15.921875 \r\nQ 6 25.140625 12.171875 29.828125 \r\nQ 18.359375 34.515625 30.609375 34.515625 \r\nL 43.21875 34.515625 \r\nL 43.21875 35.40625 \r\nQ 43.21875 41.609375 39.140625 45 \r\nQ 35.0625 48.390625 27.6875 48.390625 \r\nQ 23 48.390625 18.546875 47.265625 \r\nQ 14.109375 46.140625 10.015625 43.890625 \r\nL 10.015625 52.203125 \r\nQ 14.9375 54.109375 19.578125 55.046875 \r\nQ 24.21875 56 28.609375 56 \r\nQ 40.484375 56 46.34375 49.84375 \r\nQ 52.203125 43.703125 52.203125 31.203125 \r\nz\r\n\" id=\"DejaVuSans-97\"/>\r\n      <path d=\"M 56.203125 29.59375 \r\nL 56.203125 25.203125 \r\nL 14.890625 25.203125 \r\nQ 15.484375 15.921875 20.484375 11.0625 \r\nQ 25.484375 6.203125 34.421875 6.203125 \r\nQ 39.59375 6.203125 44.453125 7.46875 \r\nQ 49.3125 8.734375 54.109375 11.28125 \r\nL 54.109375 2.78125 \r\nQ 49.265625 0.734375 44.1875 -0.34375 \r\nQ 39.109375 -1.421875 33.890625 -1.421875 \r\nQ 20.796875 -1.421875 13.15625 6.1875 \r\nQ 5.515625 13.8125 5.515625 26.8125 \r\nQ 5.515625 40.234375 12.765625 48.109375 \r\nQ 20.015625 56 32.328125 56 \r\nQ 43.359375 56 49.78125 48.890625 \r\nQ 56.203125 41.796875 56.203125 29.59375 \r\nz\r\nM 47.21875 32.234375 \r\nQ 47.125 39.59375 43.09375 43.984375 \r\nQ 39.0625 48.390625 32.421875 48.390625 \r\nQ 24.90625 48.390625 20.390625 44.140625 \r\nQ 15.875 39.890625 15.1875 32.171875 \r\nz\r\n\" id=\"DejaVuSans-101\"/>\r\n      <path d=\"M 52 44.1875 \r\nQ 55.375 50.25 60.0625 53.125 \r\nQ 64.75 56 71.09375 56 \r\nQ 79.640625 56 84.28125 50.015625 \r\nQ 88.921875 44.046875 88.921875 33.015625 \r\nL 88.921875 0 \r\nL 79.890625 0 \r\nL 79.890625 32.71875 \r\nQ 79.890625 40.578125 77.09375 44.375 \r\nQ 74.3125 48.1875 68.609375 48.1875 \r\nQ 61.625 48.1875 57.5625 43.546875 \r\nQ 53.515625 38.921875 53.515625 30.90625 \r\nL 53.515625 0 \r\nL 44.484375 0 \r\nL 44.484375 32.71875 \r\nQ 44.484375 40.625 41.703125 44.40625 \r\nQ 38.921875 48.1875 33.109375 48.1875 \r\nQ 26.21875 48.1875 22.15625 43.53125 \r\nQ 18.109375 38.875 18.109375 30.90625 \r\nL 18.109375 0 \r\nL 9.078125 0 \r\nL 9.078125 54.6875 \r\nL 18.109375 54.6875 \r\nL 18.109375 46.1875 \r\nQ 21.1875 51.21875 25.484375 53.609375 \r\nQ 29.78125 56 35.6875 56 \r\nQ 41.65625 56 45.828125 52.96875 \r\nQ 50 49.953125 52 44.1875 \r\nz\r\n\" id=\"DejaVuSans-109\"/>\r\n      <path d=\"M 56.203125 29.59375 \r\nL 56.203125 25.203125 \r\nL 14.890625 25.203125 \r\nQ 15.484375 15.921875 20.484375 11.0625 \r\nQ 25.484375 6.203125 34.421875 6.203125 \r\nQ 39.59375 6.203125 44.453125 7.46875 \r\nQ 49.3125 8.734375 54.109375 11.28125 \r\nL 54.109375 2.78125 \r\nQ 49.265625 0.734375 44.1875 -0.34375 \r\nQ 39.109375 -1.421875 33.890625 -1.421875 \r\nQ 20.796875 -1.421875 13.15625 6.1875 \r\nQ 5.515625 13.8125 5.515625 26.8125 \r\nQ 5.515625 40.234375 12.765625 48.109375 \r\nQ 20.015625 56 32.328125 56 \r\nQ 43.359375 56 49.78125 48.890625 \r\nQ 56.203125 41.796875 56.203125 29.59375 \r\nz\r\nM 47.21875 32.234375 \r\nQ 47.125 39.59375 43.09375 43.984375 \r\nQ 39.0625 48.390625 32.421875 48.390625 \r\nQ 24.90625 48.390625 20.390625 44.140625 \r\nQ 15.875 39.890625 15.1875 32.171875 \r\nz\r\nM 24.671875 79.984375 \r\nL 38.4375 61.71875 \r\nL 30.96875 61.71875 \r\nL 15.046875 79.984375 \r\nz\r\n\" id=\"DejaVuSans-232\"/>\r\n      <path d=\"M 9.421875 75.984375 \r\nL 18.40625 75.984375 \r\nL 18.40625 0 \r\nL 9.421875 0 \r\nz\r\n\" id=\"DejaVuSans-108\"/>\r\n      <path d=\"M 34.1875 63.1875 \r\nL 20.796875 26.90625 \r\nL 47.609375 26.90625 \r\nz\r\nM 28.609375 72.90625 \r\nL 39.796875 72.90625 \r\nL 67.578125 0 \r\nL 57.328125 0 \r\nL 50.6875 18.703125 \r\nL 17.828125 18.703125 \r\nL 11.1875 0 \r\nL 0.78125 0 \r\nz\r\n\" id=\"DejaVuSans-65\"/>\r\n      <path d=\"M 44.390625 34.1875 \r\nQ 47.5625 33.109375 50.5625 29.59375 \r\nQ 53.5625 26.078125 56.59375 19.921875 \r\nL 66.609375 0 \r\nL 56 0 \r\nL 46.6875 18.703125 \r\nQ 43.0625 26.03125 39.671875 28.421875 \r\nQ 36.28125 30.8125 30.421875 30.8125 \r\nL 19.671875 30.8125 \r\nL 19.671875 0 \r\nL 9.8125 0 \r\nL 9.8125 72.90625 \r\nL 32.078125 72.90625 \r\nQ 44.578125 72.90625 50.734375 67.671875 \r\nQ 56.890625 62.453125 56.890625 51.90625 \r\nQ 56.890625 45.015625 53.6875 40.46875 \r\nQ 50.484375 35.9375 44.390625 34.1875 \r\nz\r\nM 19.671875 64.796875 \r\nL 19.671875 38.921875 \r\nL 32.078125 38.921875 \r\nQ 39.203125 38.921875 42.84375 42.21875 \r\nQ 46.484375 45.515625 46.484375 51.90625 \r\nQ 46.484375 58.296875 42.84375 61.546875 \r\nQ 39.203125 64.796875 32.078125 64.796875 \r\nz\r\n\" id=\"DejaVuSans-82\"/>\r\n      <path d=\"M 9.8125 72.90625 \r\nL 19.671875 72.90625 \r\nL 19.671875 0 \r\nL 9.8125 0 \r\nz\r\n\" id=\"DejaVuSans-73\"/>\r\n      <path d=\"M 9.8125 72.90625 \r\nL 24.515625 72.90625 \r\nL 43.109375 23.296875 \r\nL 61.8125 72.90625 \r\nL 76.515625 72.90625 \r\nL 76.515625 0 \r\nL 66.890625 0 \r\nL 66.890625 64.015625 \r\nL 48.09375 14.015625 \r\nL 38.1875 14.015625 \r\nL 19.390625 64.015625 \r\nL 19.390625 0 \r\nL 9.8125 0 \r\nz\r\n\" id=\"DejaVuSans-77\"/>\r\n      <path d=\"M 31 75.875 \r\nQ 24.46875 64.65625 21.28125 53.65625 \r\nQ 18.109375 42.671875 18.109375 31.390625 \r\nQ 18.109375 20.125 21.3125 9.0625 \r\nQ 24.515625 -2 31 -13.1875 \r\nL 23.1875 -13.1875 \r\nQ 15.875 -1.703125 12.234375 9.375 \r\nQ 8.59375 20.453125 8.59375 31.390625 \r\nQ 8.59375 42.28125 12.203125 53.3125 \r\nQ 15.828125 64.359375 23.1875 75.875 \r\nz\r\n\" id=\"DejaVuSans-40\"/>\r\n      <path d=\"M 8.015625 75.875 \r\nL 15.828125 75.875 \r\nQ 23.140625 64.359375 26.78125 53.3125 \r\nQ 30.421875 42.28125 30.421875 31.390625 \r\nQ 30.421875 20.453125 26.78125 9.375 \r\nQ 23.140625 -1.703125 15.828125 -13.1875 \r\nL 8.015625 -13.1875 \r\nQ 14.5 -2 17.703125 9.0625 \r\nQ 20.90625 20.125 20.90625 31.390625 \r\nQ 20.90625 42.671875 17.703125 53.65625 \r\nQ 14.5 64.65625 8.015625 75.875 \r\nz\r\n\" id=\"DejaVuSans-41\"/>\r\n     </defs>\r\n     <use xlink:href=\"#DejaVuSans-80\"/>\r\n     <use x=\"58.552734\" xlink:href=\"#DejaVuSans-114\"/>\r\n     <use x=\"97.416016\" xlink:href=\"#DejaVuSans-233\"/>\r\n     <use x=\"158.939453\" xlink:href=\"#DejaVuSans-100\"/>\r\n     <use x=\"222.416016\" xlink:href=\"#DejaVuSans-105\"/>\r\n     <use x=\"250.199219\" xlink:href=\"#DejaVuSans-99\"/>\r\n     <use x=\"305.179688\" xlink:href=\"#DejaVuSans-116\"/>\r\n     <use x=\"344.388672\" xlink:href=\"#DejaVuSans-105\"/>\r\n     <use x=\"372.171875\" xlink:href=\"#DejaVuSans-111\"/>\r\n     <use x=\"433.353516\" xlink:href=\"#DejaVuSans-110\"/>\r\n     <use x=\"496.732422\" xlink:href=\"#DejaVuSans-44\"/>\r\n     <use x=\"528.519531\" xlink:href=\"#DejaVuSans-32\"/>\r\n     <use x=\"560.306641\" xlink:href=\"#DejaVuSans-70\"/>\r\n     <use x=\"610.576172\" xlink:href=\"#DejaVuSans-114\"/>\r\n     <use x=\"651.689453\" xlink:href=\"#DejaVuSans-97\"/>\r\n     <use x=\"712.96875\" xlink:href=\"#DejaVuSans-110\"/>\r\n     <use x=\"776.347656\" xlink:href=\"#DejaVuSans-99\"/>\r\n     <use x=\"831.328125\" xlink:href=\"#DejaVuSans-101\"/>\r\n     <use x=\"892.851562\" xlink:href=\"#DejaVuSans-44\"/>\r\n     <use x=\"924.638672\" xlink:href=\"#DejaVuSans-32\"/>\r\n     <use x=\"956.425781\" xlink:href=\"#DejaVuSans-109\"/>\r\n     <use x=\"1053.837891\" xlink:href=\"#DejaVuSans-111\"/>\r\n     <use x=\"1115.019531\" xlink:href=\"#DejaVuSans-100\"/>\r\n     <use x=\"1178.496094\" xlink:href=\"#DejaVuSans-232\"/>\r\n     <use x=\"1240.019531\" xlink:href=\"#DejaVuSans-108\"/>\r\n     <use x=\"1267.802734\" xlink:href=\"#DejaVuSans-101\"/>\r\n     <use x=\"1329.326172\" xlink:href=\"#DejaVuSans-32\"/>\r\n     <use x=\"1361.113281\" xlink:href=\"#DejaVuSans-65\"/>\r\n     <use x=\"1429.521484\" xlink:href=\"#DejaVuSans-82\"/>\r\n     <use x=\"1499.003906\" xlink:href=\"#DejaVuSans-73\"/>\r\n     <use x=\"1528.496094\" xlink:href=\"#DejaVuSans-77\"/>\r\n     <use x=\"1614.775391\" xlink:href=\"#DejaVuSans-65\"/>\r\n     <use x=\"1683.183594\" xlink:href=\"#DejaVuSans-40\"/>\r\n     <use x=\"1722.197266\" xlink:href=\"#DejaVuSans-54\"/>\r\n     <use x=\"1785.820312\" xlink:href=\"#DejaVuSans-44\"/>\r\n     <use x=\"1817.607422\" xlink:href=\"#DejaVuSans-48\"/>\r\n     <use x=\"1881.230469\" xlink:href=\"#DejaVuSans-44\"/>\r\n     <use x=\"1913.017578\" xlink:href=\"#DejaVuSans-48\"/>\r\n     <use x=\"1976.640625\" xlink:href=\"#DejaVuSans-41\"/>\r\n    </g>\r\n   </g>\r\n   <g id=\"legend_1\">\r\n    <g id=\"patch_7\">\r\n     <path d=\"M 203.290625 74.3525 \r\nL 356.742188 74.3525 \r\nQ 358.742188 74.3525 358.742188 72.3525 \r\nL 358.742188 29.318125 \r\nQ 358.742188 27.318125 356.742188 27.318125 \r\nL 203.290625 27.318125 \r\nQ 201.290625 27.318125 201.290625 29.318125 \r\nL 201.290625 72.3525 \r\nQ 201.290625 74.3525 203.290625 74.3525 \r\nz\r\n\" style=\"fill:#ffffff;opacity:0.8;stroke:#cccccc;stroke-linejoin:miter;\"/>\r\n    </g>\r\n    <g id=\"line2d_14\">\r\n     <path d=\"M 205.290625 35.416562 \r\nL 225.290625 35.416562 \r\n\" style=\"fill:none;stroke:#1f77b4;stroke-linecap:square;stroke-width:1.5;\"/>\r\n    </g>\r\n    <g id=\"line2d_15\"/>\r\n    <g id=\"text_13\">\r\n     <!-- forecast -->\r\n     <g transform=\"translate(233.290625 38.916562)scale(0.1 -0.1)\">\r\n      <defs>\r\n       <path d=\"M 37.109375 75.984375 \r\nL 37.109375 68.5 \r\nL 28.515625 68.5 \r\nQ 23.6875 68.5 21.796875 66.546875 \r\nQ 19.921875 64.59375 19.921875 59.515625 \r\nL 19.921875 54.6875 \r\nL 34.71875 54.6875 \r\nL 34.71875 47.703125 \r\nL 19.921875 47.703125 \r\nL 19.921875 0 \r\nL 10.890625 0 \r\nL 10.890625 47.703125 \r\nL 2.296875 47.703125 \r\nL 2.296875 54.6875 \r\nL 10.890625 54.6875 \r\nL 10.890625 58.5 \r\nQ 10.890625 67.625 15.140625 71.796875 \r\nQ 19.390625 75.984375 28.609375 75.984375 \r\nz\r\n\" id=\"DejaVuSans-102\"/>\r\n       <path d=\"M 44.28125 53.078125 \r\nL 44.28125 44.578125 \r\nQ 40.484375 46.53125 36.375 47.5 \r\nQ 32.28125 48.484375 27.875 48.484375 \r\nQ 21.1875 48.484375 17.84375 46.4375 \r\nQ 14.5 44.390625 14.5 40.28125 \r\nQ 14.5 37.15625 16.890625 35.375 \r\nQ 19.28125 33.59375 26.515625 31.984375 \r\nL 29.59375 31.296875 \r\nQ 39.15625 29.25 43.1875 25.515625 \r\nQ 47.21875 21.78125 47.21875 15.09375 \r\nQ 47.21875 7.46875 41.1875 3.015625 \r\nQ 35.15625 -1.421875 24.609375 -1.421875 \r\nQ 20.21875 -1.421875 15.453125 -0.5625 \r\nQ 10.6875 0.296875 5.421875 2 \r\nL 5.421875 11.28125 \r\nQ 10.40625 8.6875 15.234375 7.390625 \r\nQ 20.0625 6.109375 24.8125 6.109375 \r\nQ 31.15625 6.109375 34.5625 8.28125 \r\nQ 37.984375 10.453125 37.984375 14.40625 \r\nQ 37.984375 18.0625 35.515625 20.015625 \r\nQ 33.0625 21.96875 24.703125 23.78125 \r\nL 21.578125 24.515625 \r\nQ 13.234375 26.265625 9.515625 29.90625 \r\nQ 5.8125 33.546875 5.8125 39.890625 \r\nQ 5.8125 47.609375 11.28125 51.796875 \r\nQ 16.75 56 26.8125 56 \r\nQ 31.78125 56 36.171875 55.265625 \r\nQ 40.578125 54.546875 44.28125 53.078125 \r\nz\r\n\" id=\"DejaVuSans-115\"/>\r\n      </defs>\r\n      <use xlink:href=\"#DejaVuSans-102\"/>\r\n      <use x=\"35.205078\" xlink:href=\"#DejaVuSans-111\"/>\r\n      <use x=\"96.386719\" xlink:href=\"#DejaVuSans-114\"/>\r\n      <use x=\"135.25\" xlink:href=\"#DejaVuSans-101\"/>\r\n      <use x=\"196.773438\" xlink:href=\"#DejaVuSans-99\"/>\r\n      <use x=\"251.753906\" xlink:href=\"#DejaVuSans-97\"/>\r\n      <use x=\"313.033203\" xlink:href=\"#DejaVuSans-115\"/>\r\n      <use x=\"365.132812\" xlink:href=\"#DejaVuSans-116\"/>\r\n     </g>\r\n    </g>\r\n    <g id=\"line2d_16\">\r\n     <path d=\"M 205.290625 50.094687 \r\nL 225.290625 50.094687 \r\n\" style=\"fill:none;stroke:#ff7f0e;stroke-linecap:square;stroke-width:1.5;\"/>\r\n    </g>\r\n    <g id=\"line2d_17\"/>\r\n    <g id=\"text_14\">\r\n     <!-- y -->\r\n     <g transform=\"translate(233.290625 53.594687)scale(0.1 -0.1)\">\r\n      <defs>\r\n       <path d=\"M 32.171875 -5.078125 \r\nQ 28.375 -14.84375 24.75 -17.8125 \r\nQ 21.140625 -20.796875 15.09375 -20.796875 \r\nL 7.90625 -20.796875 \r\nL 7.90625 -13.28125 \r\nL 13.1875 -13.28125 \r\nQ 16.890625 -13.28125 18.9375 -11.515625 \r\nQ 21 -9.765625 23.484375 -3.21875 \r\nL 25.09375 0.875 \r\nL 2.984375 54.6875 \r\nL 12.5 54.6875 \r\nL 29.59375 11.921875 \r\nL 46.6875 54.6875 \r\nL 56.203125 54.6875 \r\nz\r\n\" id=\"DejaVuSans-121\"/>\r\n      </defs>\r\n      <use xlink:href=\"#DejaVuSans-121\"/>\r\n     </g>\r\n    </g>\r\n    <g id=\"patch_8\">\r\n     <path d=\"M 205.290625 68.272812 \r\nL 225.290625 68.272812 \r\nL 225.290625 61.272812 \r\nL 205.290625 61.272812 \r\nz\r\n\" style=\"fill:#808080;opacity:0.5;stroke:#808080;stroke-linejoin:miter;\"/>\r\n    </g>\r\n    <g id=\"text_15\">\r\n     <!-- 95% confidence interval -->\r\n     <g transform=\"translate(233.290625 68.272812)scale(0.1 -0.1)\">\r\n      <defs>\r\n       <path d=\"M 72.703125 32.078125 \r\nQ 68.453125 32.078125 66.03125 28.46875 \r\nQ 63.625 24.859375 63.625 18.40625 \r\nQ 63.625 12.0625 66.03125 8.421875 \r\nQ 68.453125 4.78125 72.703125 4.78125 \r\nQ 76.859375 4.78125 79.265625 8.421875 \r\nQ 81.6875 12.0625 81.6875 18.40625 \r\nQ 81.6875 24.8125 79.265625 28.4375 \r\nQ 76.859375 32.078125 72.703125 32.078125 \r\nz\r\nM 72.703125 38.28125 \r\nQ 80.421875 38.28125 84.953125 32.90625 \r\nQ 89.5 27.546875 89.5 18.40625 \r\nQ 89.5 9.28125 84.9375 3.921875 \r\nQ 80.375 -1.421875 72.703125 -1.421875 \r\nQ 64.890625 -1.421875 60.34375 3.921875 \r\nQ 55.8125 9.28125 55.8125 18.40625 \r\nQ 55.8125 27.59375 60.375 32.9375 \r\nQ 64.9375 38.28125 72.703125 38.28125 \r\nz\r\nM 22.3125 68.015625 \r\nQ 18.109375 68.015625 15.6875 64.375 \r\nQ 13.28125 60.75 13.28125 54.390625 \r\nQ 13.28125 47.953125 15.671875 44.328125 \r\nQ 18.0625 40.71875 22.3125 40.71875 \r\nQ 26.5625 40.71875 28.96875 44.328125 \r\nQ 31.390625 47.953125 31.390625 54.390625 \r\nQ 31.390625 60.6875 28.953125 64.34375 \r\nQ 26.515625 68.015625 22.3125 68.015625 \r\nz\r\nM 66.40625 74.21875 \r\nL 74.21875 74.21875 \r\nL 28.609375 -1.421875 \r\nL 20.796875 -1.421875 \r\nz\r\nM 22.3125 74.21875 \r\nQ 30.03125 74.21875 34.609375 68.875 \r\nQ 39.203125 63.53125 39.203125 54.390625 \r\nQ 39.203125 45.171875 34.640625 39.84375 \r\nQ 30.078125 34.515625 22.3125 34.515625 \r\nQ 14.546875 34.515625 10.03125 39.859375 \r\nQ 5.515625 45.21875 5.515625 54.390625 \r\nQ 5.515625 63.484375 10.046875 68.84375 \r\nQ 14.59375 74.21875 22.3125 74.21875 \r\nz\r\n\" id=\"DejaVuSans-37\"/>\r\n       <path d=\"M 2.984375 54.6875 \r\nL 12.5 54.6875 \r\nL 29.59375 8.796875 \r\nL 46.6875 54.6875 \r\nL 56.203125 54.6875 \r\nL 35.6875 0 \r\nL 23.484375 0 \r\nz\r\n\" id=\"DejaVuSans-118\"/>\r\n      </defs>\r\n      <use xlink:href=\"#DejaVuSans-57\"/>\r\n      <use x=\"63.623047\" xlink:href=\"#DejaVuSans-53\"/>\r\n      <use x=\"127.246094\" xlink:href=\"#DejaVuSans-37\"/>\r\n      <use x=\"222.265625\" xlink:href=\"#DejaVuSans-32\"/>\r\n      <use x=\"254.052734\" xlink:href=\"#DejaVuSans-99\"/>\r\n      <use x=\"309.033203\" xlink:href=\"#DejaVuSans-111\"/>\r\n      <use x=\"370.214844\" xlink:href=\"#DejaVuSans-110\"/>\r\n      <use x=\"433.59375\" xlink:href=\"#DejaVuSans-102\"/>\r\n      <use x=\"468.798828\" xlink:href=\"#DejaVuSans-105\"/>\r\n      <use x=\"496.582031\" xlink:href=\"#DejaVuSans-100\"/>\r\n      <use x=\"560.058594\" xlink:href=\"#DejaVuSans-101\"/>\r\n      <use x=\"621.582031\" xlink:href=\"#DejaVuSans-110\"/>\r\n      <use x=\"684.960938\" xlink:href=\"#DejaVuSans-99\"/>\r\n      <use x=\"739.941406\" xlink:href=\"#DejaVuSans-101\"/>\r\n      <use x=\"801.464844\" xlink:href=\"#DejaVuSans-32\"/>\r\n      <use x=\"833.251953\" xlink:href=\"#DejaVuSans-105\"/>\r\n      <use x=\"861.035156\" xlink:href=\"#DejaVuSans-110\"/>\r\n      <use x=\"924.414062\" xlink:href=\"#DejaVuSans-116\"/>\r\n      <use x=\"963.623047\" xlink:href=\"#DejaVuSans-101\"/>\r\n      <use x=\"1025.146484\" xlink:href=\"#DejaVuSans-114\"/>\r\n      <use x=\"1066.259766\" xlink:href=\"#DejaVuSans-118\"/>\r\n      <use x=\"1125.439453\" xlink:href=\"#DejaVuSans-97\"/>\r\n      <use x=\"1186.71875\" xlink:href=\"#DejaVuSans-108\"/>\r\n     </g>\r\n    </g>\r\n   </g>\r\n  </g>\r\n </g>\r\n <defs>\r\n  <clipPath id=\"p3a1cfe72e6\">\r\n   <rect height=\"217.44\" width=\"334.8\" x=\"28.942188\" y=\"22.318125\"/>\r\n  </clipPath>\r\n </defs>\r\n</svg>\r\n",
      "image/png": "[encoded data removed]"
     },
     "metadata": {
      "needs_background": "light"
     }
    }
   ],
   "source": [
    "model_fit3.plot_predict(1,finF)\n",
    "plt.gca().xaxis.set_ticklabels(date, rotation = 90)\n",
    "plt.title('Prédiction, France, modèle ARIMA(6,0,0)')\n",
    "plt.show()"
   ]
  }
 ],
 "metadata": {
  "kernelspec": {
   "display_name": "Python 3",
   "language": "python",
   "name": "python3"
  },
  "language_info": {
   "codemirror_mode": {
    "name": "ipython",
    "version": 3
   },
   "file_extension": ".py",
   "mimetype": "text/x-python",
   "name": "python",
   "nbconvert_exporter": "python",
   "pygments_lexer": "ipython3",
   "version": "3.8.6-final"
  }
 },
 "nbformat": 4,
 "nbformat_minor": 1
}