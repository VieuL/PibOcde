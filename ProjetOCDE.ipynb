{
 "cells": [
  {
   "cell_type": "markdown",
   "source": [
    "##Projet"
   ],
   "metadata": {
    "collapsed": false,
    "pycharm": {
     "name": "#%% md\n"
    }
   }
  },
  {
   "cell_type": "code",
   "execution_count": 6,
   "metadata": {
    "collapsed": true
   },
   "outputs": [],
   "source": [
    "#Importation\n",
    "import pandas as pd\n",
    "import matplotlib.pyplot  as plt\n",
    "import numpy as np\n",
    "import Traitement as tr\n",
    "import os\n",
    "from Graph import Graph"
   ]
  },
  {
   "cell_type": "code",
   "execution_count": 7,
   "outputs": [
    {
     "data": {
      "text/plain": "  LOCATION INDICATOR SUBJECT   MEASURE FREQUENCY  TIME     Value Flag Codes\n0     OECD      QGDP     TOT  PC_CHGPP         A  1962  5.696916        NaN\n1     OECD      QGDP     TOT  PC_CHGPP         A  1963  5.175455        NaN\n2     OECD      QGDP     TOT  PC_CHGPP         A  1964  6.361377        NaN\n3     OECD      QGDP     TOT  PC_CHGPP         A  1965  5.364164        NaN\n4     OECD      QGDP     TOT  PC_CHGPP         A  1966  5.733038        NaN",
      "text/html": "<div>\n<style scoped>\n    .dataframe tbody tr th:only-of-type {\n        vertical-align: middle;\n    }\n\n    .dataframe tbody tr th {\n        vertical-align: top;\n    }\n\n    .dataframe thead th {\n        text-align: right;\n    }\n</style>\n<table border=\"1\" class=\"dataframe\">\n  <thead>\n    <tr style=\"text-align: right;\">\n      <th></th>\n      <th>LOCATION</th>\n      <th>INDICATOR</th>\n      <th>SUBJECT</th>\n      <th>MEASURE</th>\n      <th>FREQUENCY</th>\n      <th>TIME</th>\n      <th>Value</th>\n      <th>Flag Codes</th>\n    </tr>\n  </thead>\n  <tbody>\n    <tr>\n      <th>0</th>\n      <td>OECD</td>\n      <td>QGDP</td>\n      <td>TOT</td>\n      <td>PC_CHGPP</td>\n      <td>A</td>\n      <td>1962</td>\n      <td>5.696916</td>\n      <td>NaN</td>\n    </tr>\n    <tr>\n      <th>1</th>\n      <td>OECD</td>\n      <td>QGDP</td>\n      <td>TOT</td>\n      <td>PC_CHGPP</td>\n      <td>A</td>\n      <td>1963</td>\n      <td>5.175455</td>\n      <td>NaN</td>\n    </tr>\n    <tr>\n      <th>2</th>\n      <td>OECD</td>\n      <td>QGDP</td>\n      <td>TOT</td>\n      <td>PC_CHGPP</td>\n      <td>A</td>\n      <td>1964</td>\n      <td>6.361377</td>\n      <td>NaN</td>\n    </tr>\n    <tr>\n      <th>3</th>\n      <td>OECD</td>\n      <td>QGDP</td>\n      <td>TOT</td>\n      <td>PC_CHGPP</td>\n      <td>A</td>\n      <td>1965</td>\n      <td>5.364164</td>\n      <td>NaN</td>\n    </tr>\n    <tr>\n      <th>4</th>\n      <td>OECD</td>\n      <td>QGDP</td>\n      <td>TOT</td>\n      <td>PC_CHGPP</td>\n      <td>A</td>\n      <td>1966</td>\n      <td>5.733038</td>\n      <td>NaN</td>\n    </tr>\n  </tbody>\n</table>\n</div>"
     },
     "execution_count": 7,
     "metadata": {},
     "output_type": "execute_result"
    }
   ],
   "source": [
    "#Lesture des données\n",
    "data = pd.read_csv('data.csv', sep=';')\n",
    "data.head(5)"
   ],
   "metadata": {
    "collapsed": false,
    "pycharm": {
     "name": "#%%\n"
    }
   }
  },
  {
   "cell_type": "code",
   "execution_count": 8,
   "outputs": [
    {
     "data": {
      "text/plain": "<Figure size 432x288 with 1 Axes>",
      "image/png": "[encoded data removed]"
     },
     "metadata": {
      "needs_background": "light"
     },
     "output_type": "display_data"
    }
   ],
   "source": [
    "#Rapide visualisation pour voir qu'elle pays a le plus de data point\n",
    "pays = pd.Series(data[\"LOCATION\"].value_counts().head(20))\n",
    "image = pays.plot(kind='bar')"
   ],
   "metadata": {
    "collapsed": false,
    "pycharm": {
     "name": "#%%\n"
    }
   }
  },
  {
   "cell_type": "markdown",
   "source": [
    "Nous constatons qu'il n'y a pas le même nombre de data points par pays.\n",
    "Dans un premier temps nous allons étudier les données de la France"
   ],
   "metadata": {
    "collapsed": false
   }
  },
  {
   "cell_type": "code",
   "execution_count": 9,
   "outputs": [
    {
     "data": {
      "text/plain": "     LOCATION INDICATOR SUBJECT   MEASURE FREQUENCY     TIME     Value  \\\n5096      FRA      QGDP     TOT  PC_CHGPY         Q  1961-Q1  3.971438   \n5097      FRA      QGDP     TOT  PC_CHGPY         Q  1961-Q2  5.239927   \n5098      FRA      QGDP     TOT  PC_CHGPY         Q  1961-Q3  6.121195   \n\n     Flag Codes  \n5096          E  \n5097          E  \n5098          E  ",
      "text/html": "<div>\n<style scoped>\n    .dataframe tbody tr th:only-of-type {\n        vertical-align: middle;\n    }\n\n    .dataframe tbody tr th {\n        vertical-align: top;\n    }\n\n    .dataframe thead th {\n        text-align: right;\n    }\n</style>\n<table border=\"1\" class=\"dataframe\">\n  <thead>\n    <tr style=\"text-align: right;\">\n      <th></th>\n      <th>LOCATION</th>\n      <th>INDICATOR</th>\n      <th>SUBJECT</th>\n      <th>MEASURE</th>\n      <th>FREQUENCY</th>\n      <th>TIME</th>\n      <th>Value</th>\n      <th>Flag Codes</th>\n    </tr>\n  </thead>\n  <tbody>\n    <tr>\n      <th>5096</th>\n      <td>FRA</td>\n      <td>QGDP</td>\n      <td>TOT</td>\n      <td>PC_CHGPY</td>\n      <td>Q</td>\n      <td>1961-Q1</td>\n      <td>3.971438</td>\n      <td>E</td>\n    </tr>\n    <tr>\n      <th>5097</th>\n      <td>FRA</td>\n      <td>QGDP</td>\n      <td>TOT</td>\n      <td>PC_CHGPY</td>\n      <td>Q</td>\n      <td>1961-Q2</td>\n      <td>5.239927</td>\n      <td>E</td>\n    </tr>\n    <tr>\n      <th>5098</th>\n      <td>FRA</td>\n      <td>QGDP</td>\n      <td>TOT</td>\n      <td>PC_CHGPY</td>\n      <td>Q</td>\n      <td>1961-Q3</td>\n      <td>6.121195</td>\n      <td>E</td>\n    </tr>\n  </tbody>\n</table>\n</div>"
     },
     "execution_count": 9,
     "metadata": {},
     "output_type": "execute_result"
    }
   ],
   "source": [
    "#Jetons un coup d'yeux sur les données de la france\n",
    "df_fra = data[data['LOCATION'] == \"FRA\"]\n",
    "df_fra.head(3)"
   ],
   "metadata": {
    "collapsed": false,
    "pycharm": {
     "name": "#%%\n"
    }
   }
  },
  {
   "cell_type": "code",
   "execution_count": 10,
   "outputs": [
    {
     "name": "stdout",
     "output_type": "stream",
     "text": [
      "Q    721\n",
      "A    119\n",
      "Name: FREQUENCY, dtype: int64\n",
      "IDX         302\n",
      "PC_CHGPP    300\n",
      "PC_CHGPY    238\n",
      "Name: MEASURE, dtype: int64\n",
      "TOT       538\n",
      "VOLIDX    302\n",
      "Name: SUBJECT, dtype: int64\n",
      "QGDP    840\n",
      "Name: INDICATOR, dtype: int64\n"
     ]
    }
   ],
   "source": [
    "#Nous étudions les variables du dataset\n",
    "print(df_fra['FREQUENCY'].value_counts())\n",
    "print(df_fra['MEASURE'].value_counts())\n",
    "print(df_fra['SUBJECT'].value_counts())\n",
    "print(df_fra['INDICATOR'].value_counts())"
   ],
   "metadata": {
    "collapsed": false,
    "pycharm": {
     "name": "#%%\n"
    }
   }
  },
  {
   "cell_type": "markdown",
   "source": [
    "MEASURE :\n",
    "PC_CHGPP signifie pourcentage de variation période précédente, uniquement disponible pour TOT. \\n\n",
    "PC_CHGPY signifie pourcentage de variation même période année précédente, uniquement disponible pour TOT.\n",
    "IDX indice, uniquement disponible pour SUBJECT = VOLIDX.\n",
    "\n",
    "\n",
    "SUBJECT:\n",
    "\n",
    "TOT signifie Total.\n",
    "VOLIDX signifie indice de volume.\n",
    "\n",
    "Lien d'un excel récapitulatif :\n",
    "https://loicvieu-drive.mycozy.cloud/public?sharecode=JCVlMBO0XjQX\n"
   ],
   "metadata": {
    "collapsed": false,
    "pycharm": {
     "name": "#%% md\n"
    }
   }
  },
  {
   "cell_type": "code",
   "execution_count": 16,
   "outputs": [
    {
     "data": {
      "text/plain": "([[15077, '1963', 5.96657054325],\n  [15078, '1964', 5.692903990874999],\n  [15079, '1965', 5.405740593],\n  [15080, '1966', 5.017551338624999],\n  [15081, '1967', 5.011314242375],\n  [15082, '1968', 5.3527141682499995],\n  [15083, '1969', 5.428934231625],\n  [15084, '1970', 5.46207980225],\n  [15085, '1971', 5.2900890047499995],\n  [15086, '1972', 4.768754227375],\n  [15087, '1973', 3.808207064875],\n  [15088, '1974', 3.152125409875],\n  [15089, '1975', 2.850936273625],\n  [15090, '1976', 2.603192686],\n  [15091, '1977', 3.0732458905],\n  [15092, '1978', 3.185790859625],\n  [15093, '1979', 2.589721986125],\n  [15094, '1980', 2.215522364125],\n  [15095, '1981', 1.859829424875],\n  [15096, '1982', 1.5958640578749999],\n  [15097, '1983', 1.651335526],\n  [15098, '1984', 1.699665691],\n  [15099, '1985', 1.8438387925000002],\n  [15100, '1986', 2.412642562125],\n  [15101, '1987', 3.156361703375],\n  [15102, '1988', 3.569693147375],\n  [15103, '1989', 3.4537400084999996],\n  [15104, '1990', 2.871617612875],\n  [15105, '1991', 1.85714715725],\n  [15106, '1992', 1.1649091765000001],\n  [15107, '1993', 1.2265207725],\n  [15108, '1994', 1.335534655875],\n  [15109, '1995', 1.68287062875],\n  [15110, '1996', 2.2072451163749998],\n  [15111, '1997', 2.5254052925],\n  [15112, '1998', 3.003587367875],\n  [15113, '1999', 3.2733310703750003],\n  [15114, '2000', 2.922695362],\n  [15115, '2001', 2.291311239625],\n  [15116, '2002', 1.82980544],\n  [15117, '2003', 1.653062662625],\n  [15118, '2004', 1.777260723625],\n  [15119, '2005', 2.1416783336250003],\n  [15120, '2006', 2.02001599],\n  [15121, '2007', 1.1310476704999999],\n  [15122, '2008', 0.5014196536250001],\n  [15123, '2009', 0.40986838400000003],\n  [15124, '2010', 0.38815523475],\n  [15125, '2011', 0.8266870119999999],\n  [15126, '2012', 1.133759602875],\n  [15127, '2013', 0.87465414025],\n  [15128, '2014', 0.83744790925],\n  [15129, '2015', 1.149601545875],\n  [15130, '2016', 1.468579171125],\n  [15131, '2017', 1.6226414416250001]],\n [[15077, '1963', 0.42021595346427576],\n  [15078, '1964', 0.4061247971800104],\n  [15079, '1965', 0.4430702283883755],\n  [15080, '1966', 0.08643393902874419],\n  [15081, '1967', 0.36671604363126803],\n  [15082, '1968', 1.0810590597135803],\n  [15083, '1969', 1.0927053735458934],\n  [15084, '1970', 1.0275606550545047],\n  [15085, '1971', 0.5110743316176733],\n  [15086, '1972', 0.17147544354421002],\n  [15087, '1973', 1.4897520458861662],\n  [15088, '1974', 4.602357011048272],\n  [15089, '1975', 3.495941057858797],\n  [15090, '1976', 2.941346036813513],\n  [15091, '1977', 1.0003170312646228],\n  [15092, '1978', 0.02361900898524357],\n  [15093, '1979', 0.5336491575069048],\n  [15094, '1980', 0.8063033692040358],\n  [15095, '1981', 0.3109830013088527],\n  [15096, '1982', 0.3081586468303121],\n  [15097, '1983', 0.25270133014136315],\n  [15098, '1984', 0.19312945796712302],\n  [15099, '1985', 0.10124894763687903],\n  [15100, '1986', 0.29082380040283756],\n  [15101, '1987', 0.8925566689632966],\n  [15102, '1988', 0.9681275442631689],\n  [15103, '1989', 1.3631847427892687],\n  [15104, '1990', 1.396081297422291],\n  [15105, '1991', 0.46463370940823534],\n  [15106, '1992', 1.39971394854452],\n  [15107, '1993', 1.246342036767262],\n  [15108, '1994', 1.3820715333178137],\n  [15109, '1995', 0.34900124640668245],\n  [15110, '1996', 0.31103690587256244],\n  [15111, '1997', 0.6149264936073677],\n  [15112, '1998', 0.26868355313951353],\n  [15113, '1999', 0.44591155302720564],\n  [15114, '2000', 0.6116260776809858],\n  [15115, '2001', 1.030670220322409],\n  [15116, '2002', 0.9777849647042811],\n  [15117, '2003', 0.5924571676212398],\n  [15118, '2004', 0.5077009682029903],\n  [15119, '2005', 0.2661417450804493],\n  [15120, '2006', 0.17589454225503584],\n  [15121, '2007', 1.7983175019038582],\n  [15122, '2008', 4.508110259455304],\n  [15123, '2009', 4.1947478649410845],\n  [15124, '2010', 4.085327313951593],\n  [15125, '2011', 1.8226813067851884],\n  [15126, '2012', 0.5516399552963319],\n  [15127, '2013', 0.25400843432554226],\n  [15128, '2014', 0.04395261115811603],\n  [15129, '2015', 0.03063189264430734],\n  [15130, '2016', 0.23792703739245338],\n  [15131, '2017', 0.2128533166385647]])"
     },
     "execution_count": 16,
     "metadata": {},
     "output_type": "execute_result"
    }
   ],
   "source": [
    "dataFR = data[data['LOCATION'] == 'FRA']\n",
    "gpy, gpp, ind = tr.traitementParPays(dataFR, 'A')\n",
    "tr.mobilMoy(gpp,4)"
   ],
   "metadata": {
    "collapsed": false,
    "pycharm": {
     "name": "#%%\n"
    }
   }
  }
 ],
 "metadata": {
  "kernelspec": {
   "display_name": "Python 3",
   "language": "python",
   "name": "python3"
  },
  "language_info": {
   "codemirror_mode": {
    "name": "ipython",
    "version": 2
   },
   "file_extension": ".py",
   "mimetype": "text/x-python",
   "name": "python",
   "nbconvert_exporter": "python",
   "pygments_lexer": "ipython2",
   "version": "2.7.6"
  }
 },
 "nbformat": 4,
 "nbformat_minor": 0
}